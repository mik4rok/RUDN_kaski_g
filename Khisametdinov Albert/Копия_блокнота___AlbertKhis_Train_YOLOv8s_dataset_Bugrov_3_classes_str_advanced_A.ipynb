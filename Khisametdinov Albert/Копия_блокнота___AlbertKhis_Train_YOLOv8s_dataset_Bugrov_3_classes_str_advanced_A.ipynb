{
  "cells": [
    {
      "cell_type": "markdown",
      "metadata": {
        "id": "TGL7r3JhUtSZ"
      },
      "source": [
        "Библиотеки\n"
      ]
    },
    {
      "cell_type": "code",
      "execution_count": null,
      "metadata": {
        "colab": {
          "base_uri": "https://localhost:8080/"
        },
        "id": "VvbF04nyUlg4",
        "outputId": "937437e0-d5b0-40bb-99df-cc9994edddbd"
      },
      "outputs": [
        {
          "output_type": "stream",
          "name": "stdout",
          "text": [
            "Mounted at /content/drive/\n"
          ]
        }
      ],
      "source": [
        "#@title Подключение Google Drive\n",
        "from google.colab import drive\n",
        "drive.mount('/content/drive/')\n"
      ]
    },
    {
      "cell_type": "code",
      "execution_count": null,
      "metadata": {
        "id": "PBaisPOtU3cI"
      },
      "outputs": [],
      "source": [
        "import os\n",
        "import pandas as pd\n",
        "import numpy as np\n",
        "import cv2\n",
        "import matplotlib.pyplot as plt\n"
      ]
    },
    {
      "cell_type": "code",
      "execution_count": null,
      "metadata": {
        "id": "Q9sCnfj70Mrt"
      },
      "outputs": [],
      "source": [
        "TRAIN_DIR = '/content/drive/MyDrive/my_yolov8'   #полный путь к папке сохраним в переменной TRAIN_DIR\n",
        "os.mkdir(TRAIN_DIR)                              #при помощии команды \"mkdir\" создадим новую папку\n",
        "\n",
        "\n"
      ]
    },
    {
      "cell_type": "code",
      "execution_count": null,
      "metadata": {
        "colab": {
          "base_uri": "https://localhost:8080/"
        },
        "id": "GVjVWw0o2f32",
        "outputId": "78dad2d2-082d-4426-8b74-e6dceabc448a"
      },
      "outputs": [
        {
          "output_type": "stream",
          "name": "stdout",
          "text": [
            "['Google Фото', 'Python_Colab', 'Colab Notebooks', 'Train_results', 'Стаж_Каски_нарезка_090016\"', 'Conbine_dataset_3_classes-1_80-20-10-str.zip', 'my_yolov8']\n"
          ]
        }
      ],
      "source": [
        "print(os.listdir('/content/drive/MyDrive/'))"
      ]
    },
    {
      "cell_type": "code",
      "execution_count": null,
      "metadata": {
        "id": "kdorNcKBhMdb",
        "colab": {
          "base_uri": "https://localhost:8080/",
          "height": 368
        },
        "outputId": "a0996002-5cc4-45ea-b9fa-489d3b05a362"
      },
      "outputs": [
        {
          "output_type": "stream",
          "name": "stdout",
          "text": [
            "Requirement already satisfied: gdown in /usr/local/lib/python3.10/dist-packages (4.6.6)\n",
            "Requirement already satisfied: filelock in /usr/local/lib/python3.10/dist-packages (from gdown) (3.13.1)\n",
            "Requirement already satisfied: requests[socks] in /usr/local/lib/python3.10/dist-packages (from gdown) (2.31.0)\n",
            "Requirement already satisfied: six in /usr/local/lib/python3.10/dist-packages (from gdown) (1.16.0)\n",
            "Requirement already satisfied: tqdm in /usr/local/lib/python3.10/dist-packages (from gdown) (4.66.1)\n",
            "Requirement already satisfied: beautifulsoup4 in /usr/local/lib/python3.10/dist-packages (from gdown) (4.11.2)\n",
            "Requirement already satisfied: soupsieve>1.2 in /usr/local/lib/python3.10/dist-packages (from beautifulsoup4->gdown) (2.5)\n",
            "Requirement already satisfied: charset-normalizer<4,>=2 in /usr/local/lib/python3.10/dist-packages (from requests[socks]->gdown) (3.3.2)\n",
            "Requirement already satisfied: idna<4,>=2.5 in /usr/local/lib/python3.10/dist-packages (from requests[socks]->gdown) (3.6)\n",
            "Requirement already satisfied: urllib3<3,>=1.21.1 in /usr/local/lib/python3.10/dist-packages (from requests[socks]->gdown) (2.0.7)\n",
            "Requirement already satisfied: certifi>=2017.4.17 in /usr/local/lib/python3.10/dist-packages (from requests[socks]->gdown) (2023.11.17)\n",
            "Requirement already satisfied: PySocks!=1.5.7,>=1.5.6 in /usr/local/lib/python3.10/dist-packages (from requests[socks]->gdown) (1.7.1)\n"
          ]
        },
        {
          "output_type": "stream",
          "name": "stderr",
          "text": [
            "/usr/local/lib/python3.10/dist-packages/gdown/parse_url.py:35: UserWarning: You specified a Google Drive link that is not the correct link to download a file. You might want to try `--fuzzy` option or the following url: https://drive.google.com/uc?id=1XayHB3TuXj9ztSgCNQlONsnDVIQnYjgW\n",
            "  warnings.warn(\n",
            "Downloading...\n",
            "From: https://drive.google.com/file/d/1XayHB3TuXj9ztSgCNQlONsnDVIQnYjgW/view?usp=sharing\n",
            "To: /content/Conbine_dataset_3_classes-1_80-20-10-str.zip\n",
            "85.0kB [00:00, 30.8MB/s]\n"
          ]
        },
        {
          "output_type": "execute_result",
          "data": {
            "text/plain": [
              "'Conbine_dataset_3_classes-1_80-20-10-str.zip'"
            ],
            "application/vnd.google.colaboratory.intrinsic+json": {
              "type": "string"
            }
          },
          "metadata": {},
          "execution_count": 5
        }
      ],
      "source": [
        "!pip install gdown\n",
        "\n",
        "import gdown\n",
        "\n",
        "url = 'https://drive.google.com/file/d/1XayHB3TuXj9ztSgCNQlONsnDVIQnYjgW/view?usp=sharing'\n",
        "output = 'Conbine_dataset_3_classes-1_80-20-10-str.zip'\n",
        "\n",
        "gdown.download(url, output, quiet=False)"
      ]
    },
    {
      "cell_type": "code",
      "execution_count": null,
      "metadata": {
        "colab": {
          "base_uri": "https://localhost:8080/"
        },
        "id": "IDfZdvgB5-c4",
        "outputId": "a9cd749c-d665-4825-a71e-ebd82a022adf"
      },
      "outputs": [
        {
          "output_type": "stream",
          "name": "stdout",
          "text": [
            "Conbine_dataset_3_classes-1_80-20-10-str.zip  drive  sample_data\n"
          ]
        }
      ],
      "source": [
        "!ls"
      ]
    },
    {
      "cell_type": "code",
      "execution_count": null,
      "metadata": {
        "id": "Hsrw8W5SCho1",
        "colab": {
          "base_uri": "https://localhost:8080/"
        },
        "outputId": "059646e5-839d-4f27-cd00-5c6c3fd1f86b"
      },
      "outputs": [
        {
          "output_type": "stream",
          "name": "stdout",
          "text": [
            "\u001b[1;30;43mВыходные данные были обрезаны до нескольких последних строк (5000).\u001b[0m\n",
            "  inflating: /content/drive/MyDrive/my_yolov8/Conbine_dataset_3_classes-1_80-20-10-str/valid/labels/005858.txt  \n",
            "  inflating: /content/drive/MyDrive/my_yolov8/Conbine_dataset_3_classes-1_80-20-10-str/valid/labels/006933.txt  \n",
            "  inflating: /content/drive/MyDrive/my_yolov8/Conbine_dataset_3_classes-1_80-20-10-str/valid/labels/001184.txt  \n",
            "  inflating: /content/drive/MyDrive/my_yolov8/Conbine_dataset_3_classes-1_80-20-10-str/valid/labels/004597.txt  \n",
            "  inflating: /content/drive/MyDrive/my_yolov8/Conbine_dataset_3_classes-1_80-20-10-str/valid/labels/003646.txt  \n",
            "  inflating: /content/drive/MyDrive/my_yolov8/Conbine_dataset_3_classes-1_80-20-10-str/valid/labels/001954.txt  \n",
            "  inflating: /content/drive/MyDrive/my_yolov8/Conbine_dataset_3_classes-1_80-20-10-str/valid/labels/002689.txt  \n",
            "  inflating: /content/drive/MyDrive/my_yolov8/Conbine_dataset_3_classes-1_80-20-10-str/valid/labels/001249.txt  \n",
            "  inflating: /content/drive/MyDrive/my_yolov8/Conbine_dataset_3_classes-1_80-20-10-str/valid/labels/006409.txt  \n",
            "  inflating: /content/drive/MyDrive/my_yolov8/Conbine_dataset_3_classes-1_80-20-10-str/valid/labels/003977.txt  \n",
            "  inflating: /content/drive/MyDrive/my_yolov8/Conbine_dataset_3_classes-1_80-20-10-str/valid/labels/006101.txt  \n",
            "  inflating: /content/drive/MyDrive/my_yolov8/Conbine_dataset_3_classes-1_80-20-10-str/valid/labels/004088.txt  \n",
            "  inflating: /content/drive/MyDrive/my_yolov8/Conbine_dataset_3_classes-1_80-20-10-str/valid/labels/005980.txt  \n",
            "  inflating: /content/drive/MyDrive/my_yolov8/Conbine_dataset_3_classes-1_80-20-10-str/valid/labels/006944.txt  \n",
            "  inflating: /content/drive/MyDrive/my_yolov8/Conbine_dataset_3_classes-1_80-20-10-str/valid/labels/002359.txt  \n",
            "  inflating: /content/drive/MyDrive/my_yolov8/Conbine_dataset_3_classes-1_80-20-10-str/valid/labels/005291.txt  \n",
            "  inflating: /content/drive/MyDrive/my_yolov8/Conbine_dataset_3_classes-1_80-20-10-str/valid/labels/002038.txt  \n",
            "  inflating: /content/drive/MyDrive/my_yolov8/Conbine_dataset_3_classes-1_80-20-10-str/valid/labels/004521.txt  \n",
            "  inflating: /content/drive/MyDrive/my_yolov8/Conbine_dataset_3_classes-1_80-20-10-str/valid/labels/002979.txt  \n",
            "  inflating: /content/drive/MyDrive/my_yolov8/Conbine_dataset_3_classes-1_80-20-10-str/valid/labels/003241.txt  \n",
            "  inflating: /content/drive/MyDrive/my_yolov8/Conbine_dataset_3_classes-1_80-20-10-str/valid/labels/004800.txt  \n",
            "  inflating: /content/drive/MyDrive/my_yolov8/Conbine_dataset_3_classes-1_80-20-10-str/valid/labels/004844.txt  \n",
            "  inflating: /content/drive/MyDrive/my_yolov8/Conbine_dataset_3_classes-1_80-20-10-str/valid/labels/000218.txt  \n",
            "  inflating: /content/drive/MyDrive/my_yolov8/Conbine_dataset_3_classes-1_80-20-10-str/valid/labels/005710.txt  \n",
            "  inflating: /content/drive/MyDrive/my_yolov8/Conbine_dataset_3_classes-1_80-20-10-str/valid/labels/005737.txt  \n",
            "  inflating: /content/drive/MyDrive/my_yolov8/Conbine_dataset_3_classes-1_80-20-10-str/valid/labels/005916.txt  \n",
            "  inflating: /content/drive/MyDrive/my_yolov8/Conbine_dataset_3_classes-1_80-20-10-str/valid/labels/002697.txt  \n",
            "  inflating: /content/drive/MyDrive/my_yolov8/Conbine_dataset_3_classes-1_80-20-10-str/valid/labels/002912.txt  \n",
            "  inflating: /content/drive/MyDrive/my_yolov8/Conbine_dataset_3_classes-1_80-20-10-str/valid/labels/006327.txt  \n",
            "  inflating: /content/drive/MyDrive/my_yolov8/Conbine_dataset_3_classes-1_80-20-10-str/valid/labels/001779.txt  \n",
            "  inflating: /content/drive/MyDrive/my_yolov8/Conbine_dataset_3_classes-1_80-20-10-str/valid/labels/000163.txt  \n",
            "  inflating: /content/drive/MyDrive/my_yolov8/Conbine_dataset_3_classes-1_80-20-10-str/valid/labels/002249.txt  \n",
            "  inflating: /content/drive/MyDrive/my_yolov8/Conbine_dataset_3_classes-1_80-20-10-str/valid/labels/005536.txt  \n",
            "  inflating: /content/drive/MyDrive/my_yolov8/Conbine_dataset_3_classes-1_80-20-10-str/valid/labels/004348.txt  \n",
            "  inflating: /content/drive/MyDrive/my_yolov8/Conbine_dataset_3_classes-1_80-20-10-str/valid/labels/002700.txt  \n",
            "  inflating: /content/drive/MyDrive/my_yolov8/Conbine_dataset_3_classes-1_80-20-10-str/valid/labels/003704.txt  \n",
            "  inflating: /content/drive/MyDrive/my_yolov8/Conbine_dataset_3_classes-1_80-20-10-str/valid/labels/004438.txt  \n",
            "  inflating: /content/drive/MyDrive/my_yolov8/Conbine_dataset_3_classes-1_80-20-10-str/valid/labels/001299.txt  \n",
            "  inflating: /content/drive/MyDrive/my_yolov8/Conbine_dataset_3_classes-1_80-20-10-str/valid/labels/005758.txt  \n",
            "  inflating: /content/drive/MyDrive/my_yolov8/Conbine_dataset_3_classes-1_80-20-10-str/valid/labels/004231.txt  \n",
            "  inflating: /content/drive/MyDrive/my_yolov8/Conbine_dataset_3_classes-1_80-20-10-str/valid/labels/003751.txt  \n",
            "  inflating: /content/drive/MyDrive/my_yolov8/Conbine_dataset_3_classes-1_80-20-10-str/valid/labels/003781.txt  \n",
            "  inflating: /content/drive/MyDrive/my_yolov8/Conbine_dataset_3_classes-1_80-20-10-str/valid/labels/001622.txt  \n",
            "  inflating: /content/drive/MyDrive/my_yolov8/Conbine_dataset_3_classes-1_80-20-10-str/valid/labels/007137.txt  \n",
            "  inflating: /content/drive/MyDrive/my_yolov8/Conbine_dataset_3_classes-1_80-20-10-str/valid/labels/006908.txt  \n",
            "  inflating: /content/drive/MyDrive/my_yolov8/Conbine_dataset_3_classes-1_80-20-10-str/valid/labels/001999.txt  \n",
            "  inflating: /content/drive/MyDrive/my_yolov8/Conbine_dataset_3_classes-1_80-20-10-str/valid/labels/000492.txt  \n",
            "  inflating: /content/drive/MyDrive/my_yolov8/Conbine_dataset_3_classes-1_80-20-10-str/valid/labels/003251.txt  \n",
            "  inflating: /content/drive/MyDrive/my_yolov8/Conbine_dataset_3_classes-1_80-20-10-str/valid/labels/006959.txt  \n",
            "  inflating: /content/drive/MyDrive/my_yolov8/Conbine_dataset_3_classes-1_80-20-10-str/valid/labels/001325.txt  \n",
            "  inflating: /content/drive/MyDrive/my_yolov8/Conbine_dataset_3_classes-1_80-20-10-str/valid/labels/006286.txt  \n",
            "  inflating: /content/drive/MyDrive/my_yolov8/Conbine_dataset_3_classes-1_80-20-10-str/valid/labels/000893.txt  \n",
            "  inflating: /content/drive/MyDrive/my_yolov8/Conbine_dataset_3_classes-1_80-20-10-str/valid/labels/003955.txt  \n",
            "  inflating: /content/drive/MyDrive/my_yolov8/Conbine_dataset_3_classes-1_80-20-10-str/valid/labels/003620.txt  \n",
            "  inflating: /content/drive/MyDrive/my_yolov8/Conbine_dataset_3_classes-1_80-20-10-str/valid/labels/000334.txt  \n",
            "  inflating: /content/drive/MyDrive/my_yolov8/Conbine_dataset_3_classes-1_80-20-10-str/valid/labels/001106.txt  \n",
            "  inflating: /content/drive/MyDrive/my_yolov8/Conbine_dataset_3_classes-1_80-20-10-str/valid/labels/002381.txt  \n",
            "  inflating: /content/drive/MyDrive/my_yolov8/Conbine_dataset_3_classes-1_80-20-10-str/valid/labels/000596.txt  \n",
            "  inflating: /content/drive/MyDrive/my_yolov8/Conbine_dataset_3_classes-1_80-20-10-str/valid/labels/001357.txt  \n",
            "  inflating: /content/drive/MyDrive/my_yolov8/Conbine_dataset_3_classes-1_80-20-10-str/valid/labels/002360.txt  \n",
            "  inflating: /content/drive/MyDrive/my_yolov8/Conbine_dataset_3_classes-1_80-20-10-str/valid/labels/000365.txt  \n",
            "  inflating: /content/drive/MyDrive/my_yolov8/Conbine_dataset_3_classes-1_80-20-10-str/valid/labels/006861.txt  \n",
            "  inflating: /content/drive/MyDrive/my_yolov8/Conbine_dataset_3_classes-1_80-20-10-str/valid/labels/002072.txt  \n",
            "  inflating: /content/drive/MyDrive/my_yolov8/Conbine_dataset_3_classes-1_80-20-10-str/valid/labels/000710.txt  \n",
            "  inflating: /content/drive/MyDrive/my_yolov8/Conbine_dataset_3_classes-1_80-20-10-str/valid/labels/006456.txt  \n",
            "  inflating: /content/drive/MyDrive/my_yolov8/Conbine_dataset_3_classes-1_80-20-10-str/valid/labels/001428.txt  \n",
            "  inflating: /content/drive/MyDrive/my_yolov8/Conbine_dataset_3_classes-1_80-20-10-str/valid/labels/002536.txt  \n",
            "  inflating: /content/drive/MyDrive/my_yolov8/Conbine_dataset_3_classes-1_80-20-10-str/valid/labels/006114.txt  \n",
            "  inflating: /content/drive/MyDrive/my_yolov8/Conbine_dataset_3_classes-1_80-20-10-str/valid/labels/006109.txt  \n",
            "  inflating: /content/drive/MyDrive/my_yolov8/Conbine_dataset_3_classes-1_80-20-10-str/valid/labels/006627.txt  \n",
            "  inflating: /content/drive/MyDrive/my_yolov8/Conbine_dataset_3_classes-1_80-20-10-str/valid/labels/001173.txt  \n",
            "  inflating: /content/drive/MyDrive/my_yolov8/Conbine_dataset_3_classes-1_80-20-10-str/valid/labels/004762.txt  \n",
            "  inflating: /content/drive/MyDrive/my_yolov8/Conbine_dataset_3_classes-1_80-20-10-str/valid/labels/003223.txt  \n",
            "  inflating: /content/drive/MyDrive/my_yolov8/Conbine_dataset_3_classes-1_80-20-10-str/valid/labels/005532.txt  \n",
            "  inflating: /content/drive/MyDrive/my_yolov8/Conbine_dataset_3_classes-1_80-20-10-str/valid/labels/001192.txt  \n",
            "  inflating: /content/drive/MyDrive/my_yolov8/Conbine_dataset_3_classes-1_80-20-10-str/valid/labels/003271.txt  \n",
            "  inflating: /content/drive/MyDrive/my_yolov8/Conbine_dataset_3_classes-1_80-20-10-str/valid/labels/001708.txt  \n",
            "  inflating: /content/drive/MyDrive/my_yolov8/Conbine_dataset_3_classes-1_80-20-10-str/valid/labels/007182.txt  \n",
            "  inflating: /content/drive/MyDrive/my_yolov8/Conbine_dataset_3_classes-1_80-20-10-str/valid/labels/006945.txt  \n",
            "  inflating: /content/drive/MyDrive/my_yolov8/Conbine_dataset_3_classes-1_80-20-10-str/valid/labels/005386.txt  \n",
            "  inflating: /content/drive/MyDrive/my_yolov8/Conbine_dataset_3_classes-1_80-20-10-str/valid/labels/007006.txt  \n",
            "  inflating: /content/drive/MyDrive/my_yolov8/Conbine_dataset_3_classes-1_80-20-10-str/valid/labels/001092.txt  \n",
            "  inflating: /content/drive/MyDrive/my_yolov8/Conbine_dataset_3_classes-1_80-20-10-str/valid/labels/003151.txt  \n",
            "  inflating: /content/drive/MyDrive/my_yolov8/Conbine_dataset_3_classes-1_80-20-10-str/valid/labels/003357.txt  \n",
            "  inflating: /content/drive/MyDrive/my_yolov8/Conbine_dataset_3_classes-1_80-20-10-str/valid/labels/003436.txt  \n",
            "  inflating: /content/drive/MyDrive/my_yolov8/Conbine_dataset_3_classes-1_80-20-10-str/valid/labels/000425.txt  \n",
            "  inflating: /content/drive/MyDrive/my_yolov8/Conbine_dataset_3_classes-1_80-20-10-str/valid/labels/000824.txt  \n",
            "  inflating: /content/drive/MyDrive/my_yolov8/Conbine_dataset_3_classes-1_80-20-10-str/valid/labels/003228.txt  \n",
            "  inflating: /content/drive/MyDrive/my_yolov8/Conbine_dataset_3_classes-1_80-20-10-str/valid/labels/003835.txt  \n",
            "  inflating: /content/drive/MyDrive/my_yolov8/Conbine_dataset_3_classes-1_80-20-10-str/valid/labels/004436.txt  \n",
            "  inflating: /content/drive/MyDrive/my_yolov8/Conbine_dataset_3_classes-1_80-20-10-str/valid/labels/003351.txt  \n",
            "  inflating: /content/drive/MyDrive/my_yolov8/Conbine_dataset_3_classes-1_80-20-10-str/valid/labels/002677.txt  \n",
            "  inflating: /content/drive/MyDrive/my_yolov8/Conbine_dataset_3_classes-1_80-20-10-str/valid/labels/000288.txt  \n",
            "  inflating: /content/drive/MyDrive/my_yolov8/Conbine_dataset_3_classes-1_80-20-10-str/valid/labels/002378.txt  \n",
            "  inflating: /content/drive/MyDrive/my_yolov8/Conbine_dataset_3_classes-1_80-20-10-str/valid/labels/006009.txt  \n",
            "  inflating: /content/drive/MyDrive/my_yolov8/Conbine_dataset_3_classes-1_80-20-10-str/valid/labels/002135.txt  \n",
            "  inflating: /content/drive/MyDrive/my_yolov8/Conbine_dataset_3_classes-1_80-20-10-str/valid/labels/007201.txt  \n",
            "  inflating: /content/drive/MyDrive/my_yolov8/Conbine_dataset_3_classes-1_80-20-10-str/valid/labels/006496.txt  \n",
            "  inflating: /content/drive/MyDrive/my_yolov8/Conbine_dataset_3_classes-1_80-20-10-str/valid/labels/000186.txt  \n",
            "  inflating: /content/drive/MyDrive/my_yolov8/Conbine_dataset_3_classes-1_80-20-10-str/valid/labels/006217.txt  \n",
            "  inflating: /content/drive/MyDrive/my_yolov8/Conbine_dataset_3_classes-1_80-20-10-str/valid/labels/005608.txt  \n",
            "  inflating: /content/drive/MyDrive/my_yolov8/Conbine_dataset_3_classes-1_80-20-10-str/valid/labels/003443.txt  \n",
            "  inflating: /content/drive/MyDrive/my_yolov8/Conbine_dataset_3_classes-1_80-20-10-str/valid/labels/000380.txt  \n",
            "  inflating: /content/drive/MyDrive/my_yolov8/Conbine_dataset_3_classes-1_80-20-10-str/valid/labels/001193.txt  \n",
            "  inflating: /content/drive/MyDrive/my_yolov8/Conbine_dataset_3_classes-1_80-20-10-str/valid/labels/005745.txt  \n",
            "  inflating: /content/drive/MyDrive/my_yolov8/Conbine_dataset_3_classes-1_80-20-10-str/valid/labels/004712.txt  \n",
            "  inflating: /content/drive/MyDrive/my_yolov8/Conbine_dataset_3_classes-1_80-20-10-str/valid/labels/006914.txt  \n",
            "  inflating: /content/drive/MyDrive/my_yolov8/Conbine_dataset_3_classes-1_80-20-10-str/valid/labels/001871.txt  \n",
            "  inflating: /content/drive/MyDrive/my_yolov8/Conbine_dataset_3_classes-1_80-20-10-str/valid/labels/001470.txt  \n",
            "  inflating: /content/drive/MyDrive/my_yolov8/Conbine_dataset_3_classes-1_80-20-10-str/valid/labels/002803.txt  \n",
            "  inflating: /content/drive/MyDrive/my_yolov8/Conbine_dataset_3_classes-1_80-20-10-str/valid/labels/001406.txt  \n",
            "  inflating: /content/drive/MyDrive/my_yolov8/Conbine_dataset_3_classes-1_80-20-10-str/valid/labels/003676.txt  \n",
            "  inflating: /content/drive/MyDrive/my_yolov8/Conbine_dataset_3_classes-1_80-20-10-str/valid/labels/004876.txt  \n",
            "  inflating: /content/drive/MyDrive/my_yolov8/Conbine_dataset_3_classes-1_80-20-10-str/valid/labels/001457.txt  \n",
            "  inflating: /content/drive/MyDrive/my_yolov8/Conbine_dataset_3_classes-1_80-20-10-str/valid/labels/005214.txt  \n",
            "  inflating: /content/drive/MyDrive/my_yolov8/Conbine_dataset_3_classes-1_80-20-10-str/valid/labels/007255.txt  \n",
            "  inflating: /content/drive/MyDrive/my_yolov8/Conbine_dataset_3_classes-1_80-20-10-str/valid/labels/002112.txt  \n",
            "  inflating: /content/drive/MyDrive/my_yolov8/Conbine_dataset_3_classes-1_80-20-10-str/valid/labels/001706.txt  \n",
            "  inflating: /content/drive/MyDrive/my_yolov8/Conbine_dataset_3_classes-1_80-20-10-str/valid/labels/001668.txt  \n",
            "  inflating: /content/drive/MyDrive/my_yolov8/Conbine_dataset_3_classes-1_80-20-10-str/valid/labels/004756.txt  \n",
            "  inflating: /content/drive/MyDrive/my_yolov8/Conbine_dataset_3_classes-1_80-20-10-str/valid/labels/006255.txt  \n",
            "  inflating: /content/drive/MyDrive/my_yolov8/Conbine_dataset_3_classes-1_80-20-10-str/valid/labels/005257.txt  \n",
            "  inflating: /content/drive/MyDrive/my_yolov8/Conbine_dataset_3_classes-1_80-20-10-str/valid/labels/006332.txt  \n",
            "  inflating: /content/drive/MyDrive/my_yolov8/Conbine_dataset_3_classes-1_80-20-10-str/valid/labels/004253.txt  \n",
            "  inflating: /content/drive/MyDrive/my_yolov8/Conbine_dataset_3_classes-1_80-20-10-str/valid/labels/004690.txt  \n",
            "  inflating: /content/drive/MyDrive/my_yolov8/Conbine_dataset_3_classes-1_80-20-10-str/valid/labels/005043.txt  \n",
            "  inflating: /content/drive/MyDrive/my_yolov8/Conbine_dataset_3_classes-1_80-20-10-str/valid/labels/006992.txt  \n",
            "  inflating: /content/drive/MyDrive/my_yolov8/Conbine_dataset_3_classes-1_80-20-10-str/valid/labels/006166.txt  \n",
            "  inflating: /content/drive/MyDrive/my_yolov8/Conbine_dataset_3_classes-1_80-20-10-str/valid/labels/003890.txt  \n",
            "  inflating: /content/drive/MyDrive/my_yolov8/Conbine_dataset_3_classes-1_80-20-10-str/valid/labels/000069.txt  \n",
            "  inflating: /content/drive/MyDrive/my_yolov8/Conbine_dataset_3_classes-1_80-20-10-str/valid/labels/002525.txt  \n",
            "  inflating: /content/drive/MyDrive/my_yolov8/Conbine_dataset_3_classes-1_80-20-10-str/valid/labels/003661.txt  \n",
            "  inflating: /content/drive/MyDrive/my_yolov8/Conbine_dataset_3_classes-1_80-20-10-str/valid/labels/000212.txt  \n",
            "  inflating: /content/drive/MyDrive/my_yolov8/Conbine_dataset_3_classes-1_80-20-10-str/valid/labels/003253.txt  \n",
            "  inflating: /content/drive/MyDrive/my_yolov8/Conbine_dataset_3_classes-1_80-20-10-str/valid/labels/003100.txt  \n",
            "  inflating: /content/drive/MyDrive/my_yolov8/Conbine_dataset_3_classes-1_80-20-10-str/valid/labels/002958.txt  \n",
            "  inflating: /content/drive/MyDrive/my_yolov8/Conbine_dataset_3_classes-1_80-20-10-str/valid/labels/006859.txt  \n",
            "  inflating: /content/drive/MyDrive/my_yolov8/Conbine_dataset_3_classes-1_80-20-10-str/valid/labels/002464.txt  \n",
            "  inflating: /content/drive/MyDrive/my_yolov8/Conbine_dataset_3_classes-1_80-20-10-str/valid/labels/000842.txt  \n",
            "  inflating: /content/drive/MyDrive/my_yolov8/Conbine_dataset_3_classes-1_80-20-10-str/valid/labels/004821.txt  \n",
            "  inflating: /content/drive/MyDrive/my_yolov8/Conbine_dataset_3_classes-1_80-20-10-str/valid/labels/005492.txt  \n",
            "  inflating: /content/drive/MyDrive/my_yolov8/Conbine_dataset_3_classes-1_80-20-10-str/valid/labels/006113.txt  \n",
            "  inflating: /content/drive/MyDrive/my_yolov8/Conbine_dataset_3_classes-1_80-20-10-str/valid/labels/003691.txt  \n",
            "  inflating: /content/drive/MyDrive/my_yolov8/Conbine_dataset_3_classes-1_80-20-10-str/valid/labels/003301.txt  \n",
            "  inflating: /content/drive/MyDrive/my_yolov8/Conbine_dataset_3_classes-1_80-20-10-str/valid/labels/002158.txt  \n",
            "  inflating: /content/drive/MyDrive/my_yolov8/Conbine_dataset_3_classes-1_80-20-10-str/valid/labels/001918.txt  \n",
            "  inflating: /content/drive/MyDrive/my_yolov8/Conbine_dataset_3_classes-1_80-20-10-str/valid/labels/002542.txt  \n",
            "  inflating: /content/drive/MyDrive/my_yolov8/Conbine_dataset_3_classes-1_80-20-10-str/valid/labels/007254.txt  \n",
            "  inflating: /content/drive/MyDrive/my_yolov8/Conbine_dataset_3_classes-1_80-20-10-str/valid/labels/004909.txt  \n",
            "  inflating: /content/drive/MyDrive/my_yolov8/Conbine_dataset_3_classes-1_80-20-10-str/valid/labels/006244.txt  \n",
            "  inflating: /content/drive/MyDrive/my_yolov8/Conbine_dataset_3_classes-1_80-20-10-str/valid/labels/006757.txt  \n",
            "  inflating: /content/drive/MyDrive/my_yolov8/Conbine_dataset_3_classes-1_80-20-10-str/valid/labels/004386.txt  \n",
            "  inflating: /content/drive/MyDrive/my_yolov8/Conbine_dataset_3_classes-1_80-20-10-str/valid/labels/003013.txt  \n",
            "  inflating: /content/drive/MyDrive/my_yolov8/Conbine_dataset_3_classes-1_80-20-10-str/valid/labels/004298.txt  \n",
            "  inflating: /content/drive/MyDrive/my_yolov8/Conbine_dataset_3_classes-1_80-20-10-str/valid/labels/002778.txt  \n",
            "  inflating: /content/drive/MyDrive/my_yolov8/Conbine_dataset_3_classes-1_80-20-10-str/valid/labels/004108.txt  \n",
            "  inflating: /content/drive/MyDrive/my_yolov8/Conbine_dataset_3_classes-1_80-20-10-str/valid/labels/005391.txt  \n",
            "  inflating: /content/drive/MyDrive/my_yolov8/Conbine_dataset_3_classes-1_80-20-10-str/valid/labels/006884.txt  \n",
            "  inflating: /content/drive/MyDrive/my_yolov8/Conbine_dataset_3_classes-1_80-20-10-str/valid/labels/001675.txt  \n",
            "  inflating: /content/drive/MyDrive/my_yolov8/Conbine_dataset_3_classes-1_80-20-10-str/valid/labels/006260.txt  \n",
            "  inflating: /content/drive/MyDrive/my_yolov8/Conbine_dataset_3_classes-1_80-20-10-str/valid/labels/001830.txt  \n",
            "  inflating: /content/drive/MyDrive/my_yolov8/Conbine_dataset_3_classes-1_80-20-10-str/valid/labels/001773.txt  \n",
            "  inflating: /content/drive/MyDrive/my_yolov8/Conbine_dataset_3_classes-1_80-20-10-str/valid/labels/002310.txt  \n",
            "  inflating: /content/drive/MyDrive/my_yolov8/Conbine_dataset_3_classes-1_80-20-10-str/valid/labels/000314.txt  \n",
            "  inflating: /content/drive/MyDrive/my_yolov8/Conbine_dataset_3_classes-1_80-20-10-str/valid/labels/006172.txt  \n",
            "  inflating: /content/drive/MyDrive/my_yolov8/Conbine_dataset_3_classes-1_80-20-10-str/valid/labels/006417.txt  \n",
            "  inflating: /content/drive/MyDrive/my_yolov8/Conbine_dataset_3_classes-1_80-20-10-str/valid/labels/000229.txt  \n",
            "  inflating: /content/drive/MyDrive/my_yolov8/Conbine_dataset_3_classes-1_80-20-10-str/valid/labels/004006.txt  \n",
            "  inflating: /content/drive/MyDrive/my_yolov8/Conbine_dataset_3_classes-1_80-20-10-str/valid/labels/007143.txt  \n",
            "  inflating: /content/drive/MyDrive/my_yolov8/Conbine_dataset_3_classes-1_80-20-10-str/valid/labels/000124.txt  \n",
            "  inflating: /content/drive/MyDrive/my_yolov8/Conbine_dataset_3_classes-1_80-20-10-str/valid/labels/000172.txt  \n",
            "  inflating: /content/drive/MyDrive/my_yolov8/Conbine_dataset_3_classes-1_80-20-10-str/valid/labels/000621.txt  \n",
            "  inflating: /content/drive/MyDrive/my_yolov8/Conbine_dataset_3_classes-1_80-20-10-str/valid/labels/006057.txt  \n",
            "  inflating: /content/drive/MyDrive/my_yolov8/Conbine_dataset_3_classes-1_80-20-10-str/valid/labels/004678.txt  \n",
            "  inflating: /content/drive/MyDrive/my_yolov8/Conbine_dataset_3_classes-1_80-20-10-str/valid/labels/006665.txt  \n",
            "  inflating: /content/drive/MyDrive/my_yolov8/Conbine_dataset_3_classes-1_80-20-10-str/valid/labels/006096.txt  \n",
            "  inflating: /content/drive/MyDrive/my_yolov8/Conbine_dataset_3_classes-1_80-20-10-str/valid/labels/004999.txt  \n",
            "  inflating: /content/drive/MyDrive/my_yolov8/Conbine_dataset_3_classes-1_80-20-10-str/valid/labels/001205.txt  \n",
            "  inflating: /content/drive/MyDrive/my_yolov8/Conbine_dataset_3_classes-1_80-20-10-str/valid/labels/004759.txt  \n",
            "  inflating: /content/drive/MyDrive/my_yolov8/Conbine_dataset_3_classes-1_80-20-10-str/valid/labels/005375.txt  \n",
            "  inflating: /content/drive/MyDrive/my_yolov8/Conbine_dataset_3_classes-1_80-20-10-str/valid/labels/002991.txt  \n",
            "  inflating: /content/drive/MyDrive/my_yolov8/Conbine_dataset_3_classes-1_80-20-10-str/valid/labels/002554.txt  \n",
            "  inflating: /content/drive/MyDrive/my_yolov8/Conbine_dataset_3_classes-1_80-20-10-str/valid/labels/003068.txt  \n",
            "  inflating: /content/drive/MyDrive/my_yolov8/Conbine_dataset_3_classes-1_80-20-10-str/valid/labels/003463.txt  \n",
            "  inflating: /content/drive/MyDrive/my_yolov8/Conbine_dataset_3_classes-1_80-20-10-str/valid/labels/002881.txt  \n",
            "  inflating: /content/drive/MyDrive/my_yolov8/Conbine_dataset_3_classes-1_80-20-10-str/valid/labels/005877.txt  \n",
            "  inflating: /content/drive/MyDrive/my_yolov8/Conbine_dataset_3_classes-1_80-20-10-str/valid/labels/000904.txt  \n",
            "  inflating: /content/drive/MyDrive/my_yolov8/Conbine_dataset_3_classes-1_80-20-10-str/valid/labels/003361.txt  \n",
            "  inflating: /content/drive/MyDrive/my_yolov8/Conbine_dataset_3_classes-1_80-20-10-str/valid/labels/000410.txt  \n",
            "  inflating: /content/drive/MyDrive/my_yolov8/Conbine_dataset_3_classes-1_80-20-10-str/valid/labels/003176.txt  \n",
            "  inflating: /content/drive/MyDrive/my_yolov8/Conbine_dataset_3_classes-1_80-20-10-str/valid/labels/000914.txt  \n",
            "  inflating: /content/drive/MyDrive/my_yolov8/Conbine_dataset_3_classes-1_80-20-10-str/valid/labels/006599.txt  \n",
            "  inflating: /content/drive/MyDrive/my_yolov8/Conbine_dataset_3_classes-1_80-20-10-str/valid/labels/003721.txt  \n",
            "  inflating: /content/drive/MyDrive/my_yolov8/Conbine_dataset_3_classes-1_80-20-10-str/valid/labels/005673.txt  \n",
            "  inflating: /content/drive/MyDrive/my_yolov8/Conbine_dataset_3_classes-1_80-20-10-str/valid/labels/003373.txt  \n",
            "  inflating: /content/drive/MyDrive/my_yolov8/Conbine_dataset_3_classes-1_80-20-10-str/valid/labels/005886.txt  \n",
            "  inflating: /content/drive/MyDrive/my_yolov8/Conbine_dataset_3_classes-1_80-20-10-str/valid/labels/003654.txt  \n",
            "  inflating: /content/drive/MyDrive/my_yolov8/Conbine_dataset_3_classes-1_80-20-10-str/valid/labels/003827.txt  \n",
            "  inflating: /content/drive/MyDrive/my_yolov8/Conbine_dataset_3_classes-1_80-20-10-str/valid/labels/005836.txt  \n",
            "  inflating: /content/drive/MyDrive/my_yolov8/Conbine_dataset_3_classes-1_80-20-10-str/valid/labels/005581.txt  \n",
            "  inflating: /content/drive/MyDrive/my_yolov8/Conbine_dataset_3_classes-1_80-20-10-str/valid/labels/002271.txt  \n",
            "  inflating: /content/drive/MyDrive/my_yolov8/Conbine_dataset_3_classes-1_80-20-10-str/valid/labels/004126.txt  \n",
            "  inflating: /content/drive/MyDrive/my_yolov8/Conbine_dataset_3_classes-1_80-20-10-str/valid/labels/003645.txt  \n",
            "  inflating: /content/drive/MyDrive/my_yolov8/Conbine_dataset_3_classes-1_80-20-10-str/valid/labels/000205.txt  \n",
            "  inflating: /content/drive/MyDrive/my_yolov8/Conbine_dataset_3_classes-1_80-20-10-str/valid/labels/003016.txt  \n",
            "  inflating: /content/drive/MyDrive/my_yolov8/Conbine_dataset_3_classes-1_80-20-10-str/valid/labels/000995.txt  \n",
            "  inflating: /content/drive/MyDrive/my_yolov8/Conbine_dataset_3_classes-1_80-20-10-str/valid/labels/002405.txt  \n",
            "  inflating: /content/drive/MyDrive/my_yolov8/Conbine_dataset_3_classes-1_80-20-10-str/valid/labels/001727.txt  \n",
            "  inflating: /content/drive/MyDrive/my_yolov8/Conbine_dataset_3_classes-1_80-20-10-str/valid/labels/001262.txt  \n",
            "  inflating: /content/drive/MyDrive/my_yolov8/Conbine_dataset_3_classes-1_80-20-10-str/valid/labels/000616.txt  \n",
            "  inflating: /content/drive/MyDrive/my_yolov8/Conbine_dataset_3_classes-1_80-20-10-str/valid/labels/006822.txt  \n",
            "  inflating: /content/drive/MyDrive/my_yolov8/Conbine_dataset_3_classes-1_80-20-10-str/valid/labels/005995.txt  \n",
            "  inflating: /content/drive/MyDrive/my_yolov8/Conbine_dataset_3_classes-1_80-20-10-str/valid/labels/000017.txt  \n",
            "  inflating: /content/drive/MyDrive/my_yolov8/Conbine_dataset_3_classes-1_80-20-10-str/valid/labels/002053.txt  \n",
            "  inflating: /content/drive/MyDrive/my_yolov8/Conbine_dataset_3_classes-1_80-20-10-str/valid/labels/003933.txt  \n",
            "  inflating: /content/drive/MyDrive/my_yolov8/Conbine_dataset_3_classes-1_80-20-10-str/valid/labels/002794.txt  \n",
            "  inflating: /content/drive/MyDrive/my_yolov8/Conbine_dataset_3_classes-1_80-20-10-str/valid/labels/003446.txt  \n",
            "  inflating: /content/drive/MyDrive/my_yolov8/Conbine_dataset_3_classes-1_80-20-10-str/valid/labels/004361.txt  \n",
            "  inflating: /content/drive/MyDrive/my_yolov8/Conbine_dataset_3_classes-1_80-20-10-str/valid/labels/003580.txt  \n",
            "  inflating: /content/drive/MyDrive/my_yolov8/Conbine_dataset_3_classes-1_80-20-10-str/valid/labels/000181.txt  \n",
            "  inflating: /content/drive/MyDrive/my_yolov8/Conbine_dataset_3_classes-1_80-20-10-str/valid/labels/000948.txt  \n",
            "  inflating: /content/drive/MyDrive/my_yolov8/Conbine_dataset_3_classes-1_80-20-10-str/valid/labels/003084.txt  \n",
            "  inflating: /content/drive/MyDrive/my_yolov8/Conbine_dataset_3_classes-1_80-20-10-str/valid/labels/005070.txt  \n",
            "  inflating: /content/drive/MyDrive/my_yolov8/Conbine_dataset_3_classes-1_80-20-10-str/valid/labels/001747.txt  \n",
            "  inflating: /content/drive/MyDrive/my_yolov8/Conbine_dataset_3_classes-1_80-20-10-str/valid/labels/001101.txt  \n",
            "  inflating: /content/drive/MyDrive/my_yolov8/Conbine_dataset_3_classes-1_80-20-10-str/valid/labels/003086.txt  \n",
            "  inflating: /content/drive/MyDrive/my_yolov8/Conbine_dataset_3_classes-1_80-20-10-str/valid/labels/002160.txt  \n",
            "  inflating: /content/drive/MyDrive/my_yolov8/Conbine_dataset_3_classes-1_80-20-10-str/valid/labels/000704.txt  \n",
            "  inflating: /content/drive/MyDrive/my_yolov8/Conbine_dataset_3_classes-1_80-20-10-str/valid/labels/001084.txt  \n",
            "  inflating: /content/drive/MyDrive/my_yolov8/Conbine_dataset_3_classes-1_80-20-10-str/valid/labels/001617.txt  \n",
            "  inflating: /content/drive/MyDrive/my_yolov8/Conbine_dataset_3_classes-1_80-20-10-str/valid/labels/005631.txt  \n",
            "  inflating: /content/drive/MyDrive/my_yolov8/Conbine_dataset_3_classes-1_80-20-10-str/valid/labels/000088.txt  \n",
            "  inflating: /content/drive/MyDrive/my_yolov8/Conbine_dataset_3_classes-1_80-20-10-str/valid/labels/006644.txt  \n",
            "  inflating: /content/drive/MyDrive/my_yolov8/Conbine_dataset_3_classes-1_80-20-10-str/valid/labels/005177.txt  \n",
            "  inflating: /content/drive/MyDrive/my_yolov8/Conbine_dataset_3_classes-1_80-20-10-str/valid/labels/004982.txt  \n",
            "  inflating: /content/drive/MyDrive/my_yolov8/Conbine_dataset_3_classes-1_80-20-10-str/valid/labels/007146.txt  \n",
            "  inflating: /content/drive/MyDrive/my_yolov8/Conbine_dataset_3_classes-1_80-20-10-str/valid/labels/005630.txt  \n",
            "  inflating: /content/drive/MyDrive/my_yolov8/Conbine_dataset_3_classes-1_80-20-10-str/valid/labels/002499.txt  \n",
            "  inflating: /content/drive/MyDrive/my_yolov8/Conbine_dataset_3_classes-1_80-20-10-str/valid/labels/003274.txt  \n",
            "  inflating: /content/drive/MyDrive/my_yolov8/Conbine_dataset_3_classes-1_80-20-10-str/valid/labels/006011.txt  \n",
            "  inflating: /content/drive/MyDrive/my_yolov8/Conbine_dataset_3_classes-1_80-20-10-str/valid/labels/004364.txt  \n",
            "  inflating: /content/drive/MyDrive/my_yolov8/Conbine_dataset_3_classes-1_80-20-10-str/valid/labels/004166.txt  \n",
            "  inflating: /content/drive/MyDrive/my_yolov8/Conbine_dataset_3_classes-1_80-20-10-str/valid/labels/006816.txt  \n",
            "  inflating: /content/drive/MyDrive/my_yolov8/Conbine_dataset_3_classes-1_80-20-10-str/valid/labels/001204.txt  \n",
            "  inflating: /content/drive/MyDrive/my_yolov8/Conbine_dataset_3_classes-1_80-20-10-str/valid/labels/006819.txt  \n",
            "  inflating: /content/drive/MyDrive/my_yolov8/Conbine_dataset_3_classes-1_80-20-10-str/valid/labels/002937.txt  \n",
            "  inflating: /content/drive/MyDrive/my_yolov8/Conbine_dataset_3_classes-1_80-20-10-str/valid/labels/001514.txt  \n",
            "  inflating: /content/drive/MyDrive/my_yolov8/Conbine_dataset_3_classes-1_80-20-10-str/valid/labels/003647.txt  \n",
            "  inflating: /content/drive/MyDrive/my_yolov8/Conbine_dataset_3_classes-1_80-20-10-str/valid/labels/000832.txt  \n",
            "  inflating: /content/drive/MyDrive/my_yolov8/Conbine_dataset_3_classes-1_80-20-10-str/valid/labels/006291.txt  \n",
            "  inflating: /content/drive/MyDrive/my_yolov8/Conbine_dataset_3_classes-1_80-20-10-str/valid/labels/007243.txt  \n",
            "  inflating: /content/drive/MyDrive/my_yolov8/Conbine_dataset_3_classes-1_80-20-10-str/valid/labels/000690.txt  \n",
            "  inflating: /content/drive/MyDrive/my_yolov8/Conbine_dataset_3_classes-1_80-20-10-str/valid/labels/001229.txt  \n",
            "  inflating: /content/drive/MyDrive/my_yolov8/Conbine_dataset_3_classes-1_80-20-10-str/valid/labels/000772.txt  \n",
            "  inflating: /content/drive/MyDrive/my_yolov8/Conbine_dataset_3_classes-1_80-20-10-str/valid/labels/002598.txt  \n",
            "  inflating: /content/drive/MyDrive/my_yolov8/Conbine_dataset_3_classes-1_80-20-10-str/valid/labels/003616.txt  \n",
            "  inflating: /content/drive/MyDrive/my_yolov8/Conbine_dataset_3_classes-1_80-20-10-str/valid/labels/001167.txt  \n",
            "  inflating: /content/drive/MyDrive/my_yolov8/Conbine_dataset_3_classes-1_80-20-10-str/valid/labels/006906.txt  \n",
            "  inflating: /content/drive/MyDrive/my_yolov8/Conbine_dataset_3_classes-1_80-20-10-str/valid/labels/002328.txt  \n",
            "  inflating: /content/drive/MyDrive/my_yolov8/Conbine_dataset_3_classes-1_80-20-10-str/valid/labels/005403.txt  \n",
            "  inflating: /content/drive/MyDrive/my_yolov8/Conbine_dataset_3_classes-1_80-20-10-str/valid/labels/000331.txt  \n",
            "  inflating: /content/drive/MyDrive/my_yolov8/Conbine_dataset_3_classes-1_80-20-10-str/valid/labels/005108.txt  \n",
            "  inflating: /content/drive/MyDrive/my_yolov8/Conbine_dataset_3_classes-1_80-20-10-str/valid/labels/000663.txt  \n",
            "  inflating: /content/drive/MyDrive/my_yolov8/Conbine_dataset_3_classes-1_80-20-10-str/valid/labels/004003.txt  \n",
            "  inflating: /content/drive/MyDrive/my_yolov8/Conbine_dataset_3_classes-1_80-20-10-str/valid/labels/001844.txt  \n",
            "  inflating: /content/drive/MyDrive/my_yolov8/Conbine_dataset_3_classes-1_80-20-10-str/valid/labels/004870.txt  \n",
            "  inflating: /content/drive/MyDrive/my_yolov8/Conbine_dataset_3_classes-1_80-20-10-str/valid/labels/005728.txt  \n",
            "  inflating: /content/drive/MyDrive/my_yolov8/Conbine_dataset_3_classes-1_80-20-10-str/valid/labels/000040.txt  \n",
            "  inflating: /content/drive/MyDrive/my_yolov8/Conbine_dataset_3_classes-1_80-20-10-str/valid/labels/005840.txt  \n",
            "  inflating: /content/drive/MyDrive/my_yolov8/Conbine_dataset_3_classes-1_80-20-10-str/valid/labels/004224.txt  \n",
            "  inflating: /content/drive/MyDrive/my_yolov8/Conbine_dataset_3_classes-1_80-20-10-str/valid/labels/000871.txt  \n",
            "  inflating: /content/drive/MyDrive/my_yolov8/Conbine_dataset_3_classes-1_80-20-10-str/valid/labels/000980.txt  \n",
            "  inflating: /content/drive/MyDrive/my_yolov8/Conbine_dataset_3_classes-1_80-20-10-str/valid/labels/004595.txt  \n",
            "  inflating: /content/drive/MyDrive/my_yolov8/Conbine_dataset_3_classes-1_80-20-10-str/valid/labels/002608.txt  \n",
            "  inflating: /content/drive/MyDrive/my_yolov8/Conbine_dataset_3_classes-1_80-20-10-str/valid/labels/006550.txt  \n",
            "  inflating: /content/drive/MyDrive/my_yolov8/Conbine_dataset_3_classes-1_80-20-10-str/valid/labels/002340.txt  \n",
            "  inflating: /content/drive/MyDrive/my_yolov8/Conbine_dataset_3_classes-1_80-20-10-str/valid/labels/003878.txt  \n",
            "  inflating: /content/drive/MyDrive/my_yolov8/Conbine_dataset_3_classes-1_80-20-10-str/valid/labels/006212.txt  \n",
            "  inflating: /content/drive/MyDrive/my_yolov8/Conbine_dataset_3_classes-1_80-20-10-str/valid/labels/000125.txt  \n",
            "  inflating: /content/drive/MyDrive/my_yolov8/Conbine_dataset_3_classes-1_80-20-10-str/valid/labels/000706.txt  \n",
            "  inflating: /content/drive/MyDrive/my_yolov8/Conbine_dataset_3_classes-1_80-20-10-str/valid/labels/002987.txt  \n",
            "  inflating: /content/drive/MyDrive/my_yolov8/Conbine_dataset_3_classes-1_80-20-10-str/valid/labels/002399.txt  \n",
            "  inflating: /content/drive/MyDrive/my_yolov8/Conbine_dataset_3_classes-1_80-20-10-str/valid/labels/000696.txt  \n",
            "  inflating: /content/drive/MyDrive/my_yolov8/Conbine_dataset_3_classes-1_80-20-10-str/valid/labels/005957.txt  \n",
            "  inflating: /content/drive/MyDrive/my_yolov8/Conbine_dataset_3_classes-1_80-20-10-str/valid/labels/007113.txt  \n",
            "  inflating: /content/drive/MyDrive/my_yolov8/Conbine_dataset_3_classes-1_80-20-10-str/valid/labels/000248.txt  \n",
            "  inflating: /content/drive/MyDrive/my_yolov8/Conbine_dataset_3_classes-1_80-20-10-str/valid/labels/006318.txt  \n",
            "  inflating: /content/drive/MyDrive/my_yolov8/Conbine_dataset_3_classes-1_80-20-10-str/valid/labels/004773.txt  \n",
            "  inflating: /content/drive/MyDrive/my_yolov8/Conbine_dataset_3_classes-1_80-20-10-str/valid/labels/003686.txt  \n",
            "  inflating: /content/drive/MyDrive/my_yolov8/Conbine_dataset_3_classes-1_80-20-10-str/valid/labels/002410.txt  \n",
            "  inflating: /content/drive/MyDrive/my_yolov8/Conbine_dataset_3_classes-1_80-20-10-str/valid/labels/000131.txt  \n",
            "  inflating: /content/drive/MyDrive/my_yolov8/Conbine_dataset_3_classes-1_80-20-10-str/valid/labels/000283.txt  \n",
            "  inflating: /content/drive/MyDrive/my_yolov8/Conbine_dataset_3_classes-1_80-20-10-str/valid/labels/000286.txt  \n",
            "  inflating: /content/drive/MyDrive/my_yolov8/Conbine_dataset_3_classes-1_80-20-10-str/valid/labels/005658.txt  \n",
            "  inflating: /content/drive/MyDrive/my_yolov8/Conbine_dataset_3_classes-1_80-20-10-str/valid/labels/006331.txt  \n",
            "  inflating: /content/drive/MyDrive/my_yolov8/Conbine_dataset_3_classes-1_80-20-10-str/valid/labels/005754.txt  \n",
            "  inflating: /content/drive/MyDrive/my_yolov8/Conbine_dataset_3_classes-1_80-20-10-str/valid/labels/002492.txt  \n",
            "  inflating: /content/drive/MyDrive/my_yolov8/Conbine_dataset_3_classes-1_80-20-10-str/valid/labels/002501.txt  \n",
            "  inflating: /content/drive/MyDrive/my_yolov8/Conbine_dataset_3_classes-1_80-20-10-str/valid/labels/000213.txt  \n",
            "  inflating: /content/drive/MyDrive/my_yolov8/Conbine_dataset_3_classes-1_80-20-10-str/valid/labels/006796.txt  \n",
            "  inflating: /content/drive/MyDrive/my_yolov8/Conbine_dataset_3_classes-1_80-20-10-str/valid/labels/005412.txt  \n",
            "  inflating: /content/drive/MyDrive/my_yolov8/Conbine_dataset_3_classes-1_80-20-10-str/valid/labels/003298.txt  \n",
            "  inflating: /content/drive/MyDrive/my_yolov8/Conbine_dataset_3_classes-1_80-20-10-str/valid/labels/004026.txt  \n",
            "  inflating: /content/drive/MyDrive/my_yolov8/Conbine_dataset_3_classes-1_80-20-10-str/valid/labels/001829.txt  \n",
            "  inflating: /content/drive/MyDrive/my_yolov8/Conbine_dataset_3_classes-1_80-20-10-str/valid/labels/002128.txt  \n",
            "  inflating: /content/drive/MyDrive/my_yolov8/Conbine_dataset_3_classes-1_80-20-10-str/valid/labels/003588.txt  \n",
            "  inflating: /content/drive/MyDrive/my_yolov8/Conbine_dataset_3_classes-1_80-20-10-str/valid/labels/001504.txt  \n",
            "  inflating: /content/drive/MyDrive/my_yolov8/Conbine_dataset_3_classes-1_80-20-10-str/valid/labels/001714.txt  \n",
            "  inflating: /content/drive/MyDrive/my_yolov8/Conbine_dataset_3_classes-1_80-20-10-str/valid/labels/002157.txt  \n",
            "  inflating: /content/drive/MyDrive/my_yolov8/Conbine_dataset_3_classes-1_80-20-10-str/valid/labels/005440.txt  \n",
            "  inflating: /content/drive/MyDrive/my_yolov8/Conbine_dataset_3_classes-1_80-20-10-str/valid/labels/000264.txt  \n",
            "  inflating: /content/drive/MyDrive/my_yolov8/Conbine_dataset_3_classes-1_80-20-10-str/valid/labels/001441.txt  \n",
            "  inflating: /content/drive/MyDrive/my_yolov8/Conbine_dataset_3_classes-1_80-20-10-str/valid/labels/004683.txt  \n",
            "  inflating: /content/drive/MyDrive/my_yolov8/Conbine_dataset_3_classes-1_80-20-10-str/valid/labels/002413.txt  \n",
            "  inflating: /content/drive/MyDrive/my_yolov8/Conbine_dataset_3_classes-1_80-20-10-str/valid/labels/003633.txt  \n",
            "  inflating: /content/drive/MyDrive/my_yolov8/Conbine_dataset_3_classes-1_80-20-10-str/valid/labels/002372.txt  \n",
            "  inflating: /content/drive/MyDrive/my_yolov8/Conbine_dataset_3_classes-1_80-20-10-str/valid/labels/001424.txt  \n",
            "  inflating: /content/drive/MyDrive/my_yolov8/Conbine_dataset_3_classes-1_80-20-10-str/valid/labels/006871.txt  \n",
            "  inflating: /content/drive/MyDrive/my_yolov8/Conbine_dataset_3_classes-1_80-20-10-str/valid/labels/006119.txt  \n",
            "  inflating: /content/drive/MyDrive/my_yolov8/Conbine_dataset_3_classes-1_80-20-10-str/valid/labels/000626.txt  \n",
            "  inflating: /content/drive/MyDrive/my_yolov8/Conbine_dataset_3_classes-1_80-20-10-str/valid/labels/004089.txt  \n",
            "  inflating: /content/drive/MyDrive/my_yolov8/Conbine_dataset_3_classes-1_80-20-10-str/valid/labels/001189.txt  \n",
            "  inflating: /content/drive/MyDrive/my_yolov8/Conbine_dataset_3_classes-1_80-20-10-str/valid/labels/005306.txt  \n",
            "  inflating: /content/drive/MyDrive/my_yolov8/Conbine_dataset_3_classes-1_80-20-10-str/valid/labels/004655.txt  \n",
            "  inflating: /content/drive/MyDrive/my_yolov8/Conbine_dataset_3_classes-1_80-20-10-str/valid/labels/004668.txt  \n",
            "  inflating: /content/drive/MyDrive/my_yolov8/Conbine_dataset_3_classes-1_80-20-10-str/valid/labels/001930.txt  \n",
            "  inflating: /content/drive/MyDrive/my_yolov8/Conbine_dataset_3_classes-1_80-20-10-str/valid/labels/006693.txt  \n",
            "  inflating: /content/drive/MyDrive/my_yolov8/Conbine_dataset_3_classes-1_80-20-10-str/valid/labels/000896.txt  \n",
            "  inflating: /content/drive/MyDrive/my_yolov8/Conbine_dataset_3_classes-1_80-20-10-str/valid/labels/005486.txt  \n",
            "  inflating: /content/drive/MyDrive/my_yolov8/Conbine_dataset_3_classes-1_80-20-10-str/valid/labels/004017.txt  \n",
            "  inflating: /content/drive/MyDrive/my_yolov8/Conbine_dataset_3_classes-1_80-20-10-str/valid/labels/001307.txt  \n",
            "  inflating: /content/drive/MyDrive/my_yolov8/Conbine_dataset_3_classes-1_80-20-10-str/valid/labels/004784.txt  \n",
            "  inflating: /content/drive/MyDrive/my_yolov8/Conbine_dataset_3_classes-1_80-20-10-str/valid/labels/003840.txt  \n",
            "  inflating: /content/drive/MyDrive/my_yolov8/Conbine_dataset_3_classes-1_80-20-10-str/valid/labels/006211.txt  \n",
            "  inflating: /content/drive/MyDrive/my_yolov8/Conbine_dataset_3_classes-1_80-20-10-str/valid/labels/004524.txt  \n",
            "  inflating: /content/drive/MyDrive/my_yolov8/Conbine_dataset_3_classes-1_80-20-10-str/valid/labels/000516.txt  \n",
            "  inflating: /content/drive/MyDrive/my_yolov8/Conbine_dataset_3_classes-1_80-20-10-str/valid/labels/003444.txt  \n",
            "  inflating: /content/drive/MyDrive/my_yolov8/Conbine_dataset_3_classes-1_80-20-10-str/valid/labels/000843.txt  \n",
            "  inflating: /content/drive/MyDrive/my_yolov8/Conbine_dataset_3_classes-1_80-20-10-str/valid/labels/003794.txt  \n",
            "  inflating: /content/drive/MyDrive/my_yolov8/Conbine_dataset_3_classes-1_80-20-10-str/valid/labels/002113.txt  \n",
            "  inflating: /content/drive/MyDrive/my_yolov8/Conbine_dataset_3_classes-1_80-20-10-str/valid/labels/002541.txt  \n",
            "  inflating: /content/drive/MyDrive/my_yolov8/Conbine_dataset_3_classes-1_80-20-10-str/valid/labels/001970.txt  \n",
            "  inflating: /content/drive/MyDrive/my_yolov8/Conbine_dataset_3_classes-1_80-20-10-str/valid/labels/007076.txt  \n",
            "  inflating: /content/drive/MyDrive/my_yolov8/Conbine_dataset_3_classes-1_80-20-10-str/valid/labels/002192.txt  \n",
            "  inflating: /content/drive/MyDrive/my_yolov8/Conbine_dataset_3_classes-1_80-20-10-str/valid/labels/004057.txt  \n",
            "  inflating: /content/drive/MyDrive/my_yolov8/Conbine_dataset_3_classes-1_80-20-10-str/valid/labels/006782.txt  \n",
            "  inflating: /content/drive/MyDrive/my_yolov8/Conbine_dataset_3_classes-1_80-20-10-str/valid/labels/005381.txt  \n",
            "  inflating: /content/drive/MyDrive/my_yolov8/Conbine_dataset_3_classes-1_80-20-10-str/valid/labels/006788.txt  \n",
            "  inflating: /content/drive/MyDrive/my_yolov8/Conbine_dataset_3_classes-1_80-20-10-str/valid/labels/001283.txt  \n",
            "  inflating: /content/drive/MyDrive/my_yolov8/Conbine_dataset_3_classes-1_80-20-10-str/valid/labels/003912.txt  \n",
            "  inflating: /content/drive/MyDrive/my_yolov8/Conbine_dataset_3_classes-1_80-20-10-str/valid/labels/004993.txt  \n",
            "  inflating: /content/drive/MyDrive/my_yolov8/Conbine_dataset_3_classes-1_80-20-10-str/valid/labels/005748.txt  \n",
            "  inflating: /content/drive/MyDrive/my_yolov8/Conbine_dataset_3_classes-1_80-20-10-str/valid/labels/006554.txt  \n",
            "  inflating: /content/drive/MyDrive/my_yolov8/Conbine_dataset_3_classes-1_80-20-10-str/valid/labels/005563.txt  \n",
            "  inflating: /content/drive/MyDrive/my_yolov8/Conbine_dataset_3_classes-1_80-20-10-str/valid/labels/003546.txt  \n",
            "  inflating: /content/drive/MyDrive/my_yolov8/Conbine_dataset_3_classes-1_80-20-10-str/valid/labels/001165.txt  \n",
            "  inflating: /content/drive/MyDrive/my_yolov8/Conbine_dataset_3_classes-1_80-20-10-str/valid/labels/002074.txt  \n",
            "  inflating: /content/drive/MyDrive/my_yolov8/Conbine_dataset_3_classes-1_80-20-10-str/valid/labels/000510.txt  \n",
            "  inflating: /content/drive/MyDrive/my_yolov8/Conbine_dataset_3_classes-1_80-20-10-str/valid/labels/000860.txt  \n",
            "  inflating: /content/drive/MyDrive/my_yolov8/Conbine_dataset_3_classes-1_80-20-10-str/valid/labels/005947.txt  \n",
            "  inflating: /content/drive/MyDrive/my_yolov8/Conbine_dataset_3_classes-1_80-20-10-str/valid/labels/006427.txt  \n",
            "  inflating: /content/drive/MyDrive/my_yolov8/Conbine_dataset_3_classes-1_80-20-10-str/valid/labels/003425.txt  \n",
            "  inflating: /content/drive/MyDrive/my_yolov8/Conbine_dataset_3_classes-1_80-20-10-str/valid/labels/003969.txt  \n",
            "  inflating: /content/drive/MyDrive/my_yolov8/Conbine_dataset_3_classes-1_80-20-10-str/valid/labels/006344.txt  \n",
            "  inflating: /content/drive/MyDrive/my_yolov8/Conbine_dataset_3_classes-1_80-20-10-str/valid/labels/000827.txt  \n",
            "  inflating: /content/drive/MyDrive/my_yolov8/Conbine_dataset_3_classes-1_80-20-10-str/valid/labels/003401.txt  \n",
            "  inflating: /content/drive/MyDrive/my_yolov8/Conbine_dataset_3_classes-1_80-20-10-str/valid/labels/000550.txt  \n",
            "  inflating: /content/drive/MyDrive/my_yolov8/Conbine_dataset_3_classes-1_80-20-10-str/valid/labels/002553.txt  \n",
            "  inflating: /content/drive/MyDrive/my_yolov8/Conbine_dataset_3_classes-1_80-20-10-str/valid/labels/005217.txt  \n",
            "  inflating: /content/drive/MyDrive/my_yolov8/Conbine_dataset_3_classes-1_80-20-10-str/valid/labels/004869.txt  \n",
            "  inflating: /content/drive/MyDrive/my_yolov8/Conbine_dataset_3_classes-1_80-20-10-str/valid/labels/000755.txt  \n",
            "  inflating: /content/drive/MyDrive/my_yolov8/Conbine_dataset_3_classes-1_80-20-10-str/valid/labels/003022.txt  \n",
            "  inflating: /content/drive/MyDrive/my_yolov8/Conbine_dataset_3_classes-1_80-20-10-str/valid/labels/005244.txt  \n",
            "  inflating: /content/drive/MyDrive/my_yolov8/Conbine_dataset_3_classes-1_80-20-10-str/valid/labels/007034.txt  \n",
            "  inflating: /content/drive/MyDrive/my_yolov8/Conbine_dataset_3_classes-1_80-20-10-str/valid/labels/006928.txt  \n",
            "  inflating: /content/drive/MyDrive/my_yolov8/Conbine_dataset_3_classes-1_80-20-10-str/valid/labels/005789.txt  \n",
            "  inflating: /content/drive/MyDrive/my_yolov8/Conbine_dataset_3_classes-1_80-20-10-str/valid/labels/004542.txt  \n",
            "  inflating: /content/drive/MyDrive/my_yolov8/Conbine_dataset_3_classes-1_80-20-10-str/valid/labels/003011.txt  \n",
            "  inflating: /content/drive/MyDrive/my_yolov8/Conbine_dataset_3_classes-1_80-20-10-str/valid/labels/005221.txt  \n",
            "  inflating: /content/drive/MyDrive/my_yolov8/Conbine_dataset_3_classes-1_80-20-10-str/valid/labels/000969.txt  \n",
            "  inflating: /content/drive/MyDrive/my_yolov8/Conbine_dataset_3_classes-1_80-20-10-str/valid/labels/000514.txt  \n",
            "  inflating: /content/drive/MyDrive/my_yolov8/Conbine_dataset_3_classes-1_80-20-10-str/valid/labels/001913.txt  \n",
            "  inflating: /content/drive/MyDrive/my_yolov8/Conbine_dataset_3_classes-1_80-20-10-str/valid/labels/005484.txt  \n",
            "  inflating: /content/drive/MyDrive/my_yolov8/Conbine_dataset_3_classes-1_80-20-10-str/valid/labels/000282.txt  \n",
            "  inflating: /content/drive/MyDrive/my_yolov8/Conbine_dataset_3_classes-1_80-20-10-str/valid/labels/004927.txt  \n",
            "  inflating: /content/drive/MyDrive/my_yolov8/Conbine_dataset_3_classes-1_80-20-10-str/valid/labels/006783.txt  \n",
            "  inflating: /content/drive/MyDrive/my_yolov8/Conbine_dataset_3_classes-1_80-20-10-str/valid/labels/002147.txt  \n",
            "  inflating: /content/drive/MyDrive/my_yolov8/Conbine_dataset_3_classes-1_80-20-10-str/valid/labels/000408.txt  \n",
            "  inflating: /content/drive/MyDrive/my_yolov8/Conbine_dataset_3_classes-1_80-20-10-str/valid/labels/006176.txt  \n",
            "  inflating: /content/drive/MyDrive/my_yolov8/Conbine_dataset_3_classes-1_80-20-10-str/valid/labels/002872.txt  \n",
            "  inflating: /content/drive/MyDrive/my_yolov8/Conbine_dataset_3_classes-1_80-20-10-str/valid/labels/000520.txt  \n",
            "  inflating: /content/drive/MyDrive/my_yolov8/Conbine_dataset_3_classes-1_80-20-10-str/valid/labels/003745.txt  \n",
            "  inflating: /content/drive/MyDrive/my_yolov8/Conbine_dataset_3_classes-1_80-20-10-str/valid/labels/002502.txt  \n",
            "  inflating: /content/drive/MyDrive/my_yolov8/Conbine_dataset_3_classes-1_80-20-10-str/valid/labels/006873.txt  \n",
            "  inflating: /content/drive/MyDrive/my_yolov8/Conbine_dataset_3_classes-1_80-20-10-str/valid/labels/001409.txt  \n",
            "  inflating: /content/drive/MyDrive/my_yolov8/Conbine_dataset_3_classes-1_80-20-10-str/valid/labels/002385.txt  \n",
            "  inflating: /content/drive/MyDrive/my_yolov8/Conbine_dataset_3_classes-1_80-20-10-str/valid/labels/001050.txt  \n",
            "  inflating: /content/drive/MyDrive/my_yolov8/Conbine_dataset_3_classes-1_80-20-10-str/valid/labels/002400.txt  \n",
            "  inflating: /content/drive/MyDrive/my_yolov8/Conbine_dataset_3_classes-1_80-20-10-str/valid/labels/006043.txt  \n",
            "  inflating: /content/drive/MyDrive/my_yolov8/Conbine_dataset_3_classes-1_80-20-10-str/valid/labels/004764.txt  \n",
            "  inflating: /content/drive/MyDrive/my_yolov8/Conbine_dataset_3_classes-1_80-20-10-str/valid/labels/004798.txt  \n",
            "  inflating: /content/drive/MyDrive/my_yolov8/Conbine_dataset_3_classes-1_80-20-10-str/valid/labels/002139.txt  \n",
            "  inflating: /content/drive/MyDrive/my_yolov8/Conbine_dataset_3_classes-1_80-20-10-str/valid/labels/004468.txt  \n",
            "  inflating: /content/drive/MyDrive/my_yolov8/Conbine_dataset_3_classes-1_80-20-10-str/valid/labels/001045.txt  \n",
            "  inflating: /content/drive/MyDrive/my_yolov8/Conbine_dataset_3_classes-1_80-20-10-str/valid/labels/001587.txt  \n",
            "  inflating: /content/drive/MyDrive/my_yolov8/Conbine_dataset_3_classes-1_80-20-10-str/valid/labels/004067.txt  \n",
            "  inflating: /content/drive/MyDrive/my_yolov8/Conbine_dataset_3_classes-1_80-20-10-str/valid/labels/001168.txt  \n",
            "  inflating: /content/drive/MyDrive/my_yolov8/Conbine_dataset_3_classes-1_80-20-10-str/valid/labels/002850.txt  \n",
            "  inflating: /content/drive/MyDrive/my_yolov8/Conbine_dataset_3_classes-1_80-20-10-str/valid/labels/001254.txt  \n",
            "  inflating: /content/drive/MyDrive/my_yolov8/Conbine_dataset_3_classes-1_80-20-10-str/valid/labels/007038.txt  \n",
            "  inflating: /content/drive/MyDrive/my_yolov8/Conbine_dataset_3_classes-1_80-20-10-str/valid/labels/005432.txt  \n",
            "  inflating: /content/drive/MyDrive/my_yolov8/Conbine_dataset_3_classes-1_80-20-10-str/valid/labels/002965.txt  \n",
            "  inflating: /content/drive/MyDrive/my_yolov8/Conbine_dataset_3_classes-1_80-20-10-str/valid/labels/004136.txt  \n",
            "  inflating: /content/drive/MyDrive/my_yolov8/Conbine_dataset_3_classes-1_80-20-10-str/valid/labels/003785.txt  \n",
            "  inflating: /content/drive/MyDrive/my_yolov8/Conbine_dataset_3_classes-1_80-20-10-str/valid/labels/001798.txt  \n",
            "  inflating: /content/drive/MyDrive/my_yolov8/Conbine_dataset_3_classes-1_80-20-10-str/valid/labels/006215.txt  \n",
            "  inflating: /content/drive/MyDrive/my_yolov8/Conbine_dataset_3_classes-1_80-20-10-str/valid/labels/003773.txt  \n",
            "  inflating: /content/drive/MyDrive/my_yolov8/Conbine_dataset_3_classes-1_80-20-10-str/valid/labels/003363.txt  \n",
            "  inflating: /content/drive/MyDrive/my_yolov8/Conbine_dataset_3_classes-1_80-20-10-str/valid/labels/006023.txt  \n",
            "  inflating: /content/drive/MyDrive/my_yolov8/Conbine_dataset_3_classes-1_80-20-10-str/valid/labels/004467.txt  \n",
            "  inflating: /content/drive/MyDrive/my_yolov8/Conbine_dataset_3_classes-1_80-20-10-str/valid/labels/001018.txt  \n",
            "  inflating: /content/drive/MyDrive/my_yolov8/Conbine_dataset_3_classes-1_80-20-10-str/valid/labels/005595.txt  \n",
            "  inflating: /content/drive/MyDrive/my_yolov8/Conbine_dataset_3_classes-1_80-20-10-str/valid/labels/004832.txt  \n",
            "  inflating: /content/drive/MyDrive/my_yolov8/Conbine_dataset_3_classes-1_80-20-10-str/valid/labels/000913.txt  \n",
            "  inflating: /content/drive/MyDrive/my_yolov8/Conbine_dataset_3_classes-1_80-20-10-str/valid/labels/007079.txt  \n",
            "  inflating: /content/drive/MyDrive/my_yolov8/Conbine_dataset_3_classes-1_80-20-10-str/valid/labels/001877.txt  \n",
            "  inflating: /content/drive/MyDrive/my_yolov8/Conbine_dataset_3_classes-1_80-20-10-str/valid/labels/000847.txt  \n",
            "  inflating: /content/drive/MyDrive/my_yolov8/Conbine_dataset_3_classes-1_80-20-10-str/valid/labels/002283.txt  \n",
            "  inflating: /content/drive/MyDrive/my_yolov8/Conbine_dataset_3_classes-1_80-20-10-str/valid/labels/006458.txt  \n",
            "  inflating: /content/drive/MyDrive/my_yolov8/Conbine_dataset_3_classes-1_80-20-10-str/valid/labels/001382.txt  \n",
            "  inflating: /content/drive/MyDrive/my_yolov8/Conbine_dataset_3_classes-1_80-20-10-str/valid/labels/005058.txt  \n",
            "  inflating: /content/drive/MyDrive/my_yolov8/Conbine_dataset_3_classes-1_80-20-10-str/valid/labels/003369.txt  \n",
            "  inflating: /content/drive/MyDrive/my_yolov8/Conbine_dataset_3_classes-1_80-20-10-str/valid/labels/004354.txt  \n",
            "  inflating: /content/drive/MyDrive/my_yolov8/Conbine_dataset_3_classes-1_80-20-10-str/valid/labels/000517.txt  \n",
            "  inflating: /content/drive/MyDrive/my_yolov8/Conbine_dataset_3_classes-1_80-20-10-str/valid/labels/001010.txt  \n",
            "  inflating: /content/drive/MyDrive/my_yolov8/Conbine_dataset_3_classes-1_80-20-10-str/valid/labels/005973.txt  \n",
            "  inflating: /content/drive/MyDrive/my_yolov8/Conbine_dataset_3_classes-1_80-20-10-str/valid/labels/003227.txt  \n",
            "  inflating: /content/drive/MyDrive/my_yolov8/Conbine_dataset_3_classes-1_80-20-10-str/valid/labels/000247.txt  \n",
            "  inflating: /content/drive/MyDrive/my_yolov8/Conbine_dataset_3_classes-1_80-20-10-str/valid/labels/006038.txt  \n",
            "  inflating: /content/drive/MyDrive/my_yolov8/Conbine_dataset_3_classes-1_80-20-10-str/valid/labels/000387.txt  \n",
            "  inflating: /content/drive/MyDrive/my_yolov8/Conbine_dataset_3_classes-1_80-20-10-str/valid/labels/000105.txt  \n",
            "  inflating: /content/drive/MyDrive/my_yolov8/Conbine_dataset_3_classes-1_80-20-10-str/valid/labels/006522.txt  \n",
            "  inflating: /content/drive/MyDrive/my_yolov8/Conbine_dataset_3_classes-1_80-20-10-str/valid/labels/004785.txt  \n",
            "  inflating: /content/drive/MyDrive/my_yolov8/Conbine_dataset_3_classes-1_80-20-10-str/valid/labels/006369.txt  \n",
            "  inflating: /content/drive/MyDrive/my_yolov8/Conbine_dataset_3_classes-1_80-20-10-str/valid/labels/002326.txt  \n",
            "  inflating: /content/drive/MyDrive/my_yolov8/Conbine_dataset_3_classes-1_80-20-10-str/valid/labels/001698.txt  \n",
            "  inflating: /content/drive/MyDrive/my_yolov8/Conbine_dataset_3_classes-1_80-20-10-str/valid/labels/006481.txt  \n",
            "  inflating: /content/drive/MyDrive/my_yolov8/Conbine_dataset_3_classes-1_80-20-10-str/valid/labels/003802.txt  \n",
            "  inflating: /content/drive/MyDrive/my_yolov8/Conbine_dataset_3_classes-1_80-20-10-str/valid/labels/005470.txt  \n",
            "  inflating: /content/drive/MyDrive/my_yolov8/Conbine_dataset_3_classes-1_80-20-10-str/valid/labels/002162.txt  \n",
            "  inflating: /content/drive/MyDrive/my_yolov8/Conbine_dataset_3_classes-1_80-20-10-str/valid/labels/006604.txt  \n",
            "  inflating: /content/drive/MyDrive/my_yolov8/Conbine_dataset_3_classes-1_80-20-10-str/valid/labels/002037.txt  \n",
            "  inflating: /content/drive/MyDrive/my_yolov8/Conbine_dataset_3_classes-1_80-20-10-str/valid/labels/000533.txt  \n",
            "  inflating: /content/drive/MyDrive/my_yolov8/Conbine_dataset_3_classes-1_80-20-10-str/valid/labels/006934.txt  \n",
            "  inflating: /content/drive/MyDrive/my_yolov8/Conbine_dataset_3_classes-1_80-20-10-str/valid/labels/003997.txt  \n",
            "  inflating: /content/drive/MyDrive/my_yolov8/Conbine_dataset_3_classes-1_80-20-10-str/valid/labels/004560.txt  \n",
            "  inflating: /content/drive/MyDrive/my_yolov8/Conbine_dataset_3_classes-1_80-20-10-str/valid/labels/005694.txt  \n",
            "  inflating: /content/drive/MyDrive/my_yolov8/Conbine_dataset_3_classes-1_80-20-10-str/valid/labels/003824.txt  \n",
            "  inflating: /content/drive/MyDrive/my_yolov8/Conbine_dataset_3_classes-1_80-20-10-str/valid/labels/004316.txt  \n",
            "  inflating: /content/drive/MyDrive/my_yolov8/Conbine_dataset_3_classes-1_80-20-10-str/valid/labels/001662.txt  \n",
            "  inflating: /content/drive/MyDrive/my_yolov8/Conbine_dataset_3_classes-1_80-20-10-str/valid/labels/004942.txt  \n",
            "  inflating: /content/drive/MyDrive/my_yolov8/Conbine_dataset_3_classes-1_80-20-10-str/valid/labels/004158.txt  \n",
            "  inflating: /content/drive/MyDrive/my_yolov8/Conbine_dataset_3_classes-1_80-20-10-str/valid/labels/002056.txt  \n",
            "  inflating: /content/drive/MyDrive/my_yolov8/Conbine_dataset_3_classes-1_80-20-10-str/valid/labels/004561.txt  \n",
            "  inflating: /content/drive/MyDrive/my_yolov8/Conbine_dataset_3_classes-1_80-20-10-str/valid/labels/004396.txt  \n",
            "  inflating: /content/drive/MyDrive/my_yolov8/Conbine_dataset_3_classes-1_80-20-10-str/valid/labels/006034.txt  \n",
            "  inflating: /content/drive/MyDrive/my_yolov8/Conbine_dataset_3_classes-1_80-20-10-str/valid/labels/005485.txt  \n",
            "  inflating: /content/drive/MyDrive/my_yolov8/Conbine_dataset_3_classes-1_80-20-10-str/valid/labels/006141.txt  \n",
            "  inflating: /content/drive/MyDrive/my_yolov8/Conbine_dataset_3_classes-1_80-20-10-str/valid/labels/003541.txt  \n",
            "  inflating: /content/drive/MyDrive/my_yolov8/Conbine_dataset_3_classes-1_80-20-10-str/valid/labels/006081.txt  \n",
            "  inflating: /content/drive/MyDrive/my_yolov8/Conbine_dataset_3_classes-1_80-20-10-str/valid/labels/005065.txt  \n",
            "  inflating: /content/drive/MyDrive/my_yolov8/Conbine_dataset_3_classes-1_80-20-10-str/valid/labels/006478.txt  \n",
            "  inflating: /content/drive/MyDrive/my_yolov8/Conbine_dataset_3_classes-1_80-20-10-str/valid/labels/002774.txt  \n",
            "  inflating: /content/drive/MyDrive/my_yolov8/Conbine_dataset_3_classes-1_80-20-10-str/valid/labels/004822.txt  \n",
            "  inflating: /content/drive/MyDrive/my_yolov8/Conbine_dataset_3_classes-1_80-20-10-str/valid/labels/004623.txt  \n",
            "  inflating: /content/drive/MyDrive/my_yolov8/Conbine_dataset_3_classes-1_80-20-10-str/valid/labels/004107.txt  \n",
            "  inflating: /content/drive/MyDrive/my_yolov8/Conbine_dataset_3_classes-1_80-20-10-str/valid/labels/007003.txt  \n",
            "  inflating: /content/drive/MyDrive/my_yolov8/Conbine_dataset_3_classes-1_80-20-10-str/valid/labels/000386.txt  \n",
            "  inflating: /content/drive/MyDrive/my_yolov8/Conbine_dataset_3_classes-1_80-20-10-str/valid/labels/006414.txt  \n",
            "  inflating: /content/drive/MyDrive/my_yolov8/Conbine_dataset_3_classes-1_80-20-10-str/valid/labels/006380.txt  \n",
            "  inflating: /content/drive/MyDrive/my_yolov8/Conbine_dataset_3_classes-1_80-20-10-str/valid/labels/004037.txt  \n",
            "  inflating: /content/drive/MyDrive/my_yolov8/Conbine_dataset_3_classes-1_80-20-10-str/valid/labels/007160.txt  \n",
            "  inflating: /content/drive/MyDrive/my_yolov8/Conbine_dataset_3_classes-1_80-20-10-str/valid/labels/005578.txt  \n",
            "  inflating: /content/drive/MyDrive/my_yolov8/Conbine_dataset_3_classes-1_80-20-10-str/valid/labels/006984.txt  \n",
            "  inflating: /content/drive/MyDrive/my_yolov8/Conbine_dataset_3_classes-1_80-20-10-str/valid/labels/003638.txt  \n",
            "  inflating: /content/drive/MyDrive/my_yolov8/Conbine_dataset_3_classes-1_80-20-10-str/valid/labels/000767.txt  \n",
            "  inflating: /content/drive/MyDrive/my_yolov8/Conbine_dataset_3_classes-1_80-20-10-str/valid/labels/006573.txt  \n",
            "  inflating: /content/drive/MyDrive/my_yolov8/Conbine_dataset_3_classes-1_80-20-10-str/valid/labels/002786.txt  \n",
            "  inflating: /content/drive/MyDrive/my_yolov8/Conbine_dataset_3_classes-1_80-20-10-str/valid/labels/003236.txt  \n",
            "  inflating: /content/drive/MyDrive/my_yolov8/Conbine_dataset_3_classes-1_80-20-10-str/valid/labels/000841.txt  \n",
            "  inflating: /content/drive/MyDrive/my_yolov8/Conbine_dataset_3_classes-1_80-20-10-str/valid/labels/003124.txt  \n",
            "  inflating: /content/drive/MyDrive/my_yolov8/Conbine_dataset_3_classes-1_80-20-10-str/valid/labels/005661.txt  \n",
            "  inflating: /content/drive/MyDrive/my_yolov8/Conbine_dataset_3_classes-1_80-20-10-str/valid/labels/003909.txt  \n",
            "  inflating: /content/drive/MyDrive/my_yolov8/Conbine_dataset_3_classes-1_80-20-10-str/valid/labels/005725.txt  \n",
            "  inflating: /content/drive/MyDrive/my_yolov8/Conbine_dataset_3_classes-1_80-20-10-str/valid/labels/000139.txt  \n",
            "  inflating: /content/drive/MyDrive/my_yolov8/Conbine_dataset_3_classes-1_80-20-10-str/valid/labels/001983.txt  \n",
            "  inflating: /content/drive/MyDrive/my_yolov8/Conbine_dataset_3_classes-1_80-20-10-str/valid/labels/000469.txt  \n",
            "  inflating: /content/drive/MyDrive/my_yolov8/Conbine_dataset_3_classes-1_80-20-10-str/valid/labels/003555.txt  \n",
            "  inflating: /content/drive/MyDrive/my_yolov8/Conbine_dataset_3_classes-1_80-20-10-str/valid/labels/006258.txt  \n",
            "  inflating: /content/drive/MyDrive/my_yolov8/Conbine_dataset_3_classes-1_80-20-10-str/valid/labels/001596.txt  \n",
            "  inflating: /content/drive/MyDrive/my_yolov8/Conbine_dataset_3_classes-1_80-20-10-str/valid/labels/005587.txt  \n",
            "  inflating: /content/drive/MyDrive/my_yolov8/Conbine_dataset_3_classes-1_80-20-10-str/valid/labels/001623.txt  \n",
            "  inflating: /content/drive/MyDrive/my_yolov8/Conbine_dataset_3_classes-1_80-20-10-str/valid/labels/000379.txt  \n",
            "  inflating: /content/drive/MyDrive/my_yolov8/Conbine_dataset_3_classes-1_80-20-10-str/valid/labels/006025.txt  \n",
            "  inflating: /content/drive/MyDrive/my_yolov8/Conbine_dataset_3_classes-1_80-20-10-str/valid/labels/004048.txt  \n",
            "  inflating: /content/drive/MyDrive/my_yolov8/Conbine_dataset_3_classes-1_80-20-10-str/valid/labels/001648.txt  \n",
            "  inflating: /content/drive/MyDrive/my_yolov8/Conbine_dataset_3_classes-1_80-20-10-str/valid/labels/005315.txt  \n",
            "  inflating: /content/drive/MyDrive/my_yolov8/Conbine_dataset_3_classes-1_80-20-10-str/valid/labels/004283.txt  \n",
            "  inflating: /content/drive/MyDrive/my_yolov8/Conbine_dataset_3_classes-1_80-20-10-str/valid/labels/001800.txt  \n",
            "  inflating: /content/drive/MyDrive/my_yolov8/Conbine_dataset_3_classes-1_80-20-10-str/valid/labels/000839.txt  \n",
            "  inflating: /content/drive/MyDrive/my_yolov8/Conbine_dataset_3_classes-1_80-20-10-str/valid/labels/005351.txt  \n",
            "  inflating: /content/drive/MyDrive/my_yolov8/Conbine_dataset_3_classes-1_80-20-10-str/valid/labels/002899.txt  \n",
            "  inflating: /content/drive/MyDrive/my_yolov8/Conbine_dataset_3_classes-1_80-20-10-str/valid/labels/005355.txt  \n",
            "  inflating: /content/drive/MyDrive/my_yolov8/Conbine_dataset_3_classes-1_80-20-10-str/valid/labels/003288.txt  \n",
            "  inflating: /content/drive/MyDrive/my_yolov8/Conbine_dataset_3_classes-1_80-20-10-str/valid/labels/001974.txt  \n",
            "  inflating: /content/drive/MyDrive/my_yolov8/Conbine_dataset_3_classes-1_80-20-10-str/valid/labels/000117.txt  \n",
            "  inflating: /content/drive/MyDrive/my_yolov8/Conbine_dataset_3_classes-1_80-20-10-str/valid/labels/001792.txt  \n",
            "  inflating: /content/drive/MyDrive/my_yolov8/Conbine_dataset_3_classes-1_80-20-10-str/valid/labels/002465.txt  \n",
            "  inflating: /content/drive/MyDrive/my_yolov8/Conbine_dataset_3_classes-1_80-20-10-str/valid/labels/000638.txt  \n",
            "  inflating: /content/drive/MyDrive/my_yolov8/Conbine_dataset_3_classes-1_80-20-10-str/valid/labels/006008.txt  \n",
            "  inflating: /content/drive/MyDrive/my_yolov8/Conbine_dataset_3_classes-1_80-20-10-str/valid/labels/006077.txt  \n",
            "  inflating: /content/drive/MyDrive/my_yolov8/Conbine_dataset_3_classes-1_80-20-10-str/valid/labels/001160.txt  \n",
            "  inflating: /content/drive/MyDrive/my_yolov8/Conbine_dataset_3_classes-1_80-20-10-str/valid/labels/004813.txt  \n",
            "  inflating: /content/drive/MyDrive/my_yolov8/Conbine_dataset_3_classes-1_80-20-10-str/valid/labels/003893.txt  \n",
            "  inflating: /content/drive/MyDrive/my_yolov8/Conbine_dataset_3_classes-1_80-20-10-str/valid/labels/007207.txt  \n",
            "  inflating: /content/drive/MyDrive/my_yolov8/Conbine_dataset_3_classes-1_80-20-10-str/valid/labels/004850.txt  \n",
            "  inflating: /content/drive/MyDrive/my_yolov8/Conbine_dataset_3_classes-1_80-20-10-str/valid/labels/004118.txt  \n",
            "  inflating: /content/drive/MyDrive/my_yolov8/Conbine_dataset_3_classes-1_80-20-10-str/valid/labels/001716.txt  \n",
            "  inflating: /content/drive/MyDrive/my_yolov8/Conbine_dataset_3_classes-1_80-20-10-str/valid/labels/003653.txt  \n",
            "  inflating: /content/drive/MyDrive/my_yolov8/Conbine_dataset_3_classes-1_80-20-10-str/valid/labels/003660.txt  \n",
            "  inflating: /content/drive/MyDrive/my_yolov8/Conbine_dataset_3_classes-1_80-20-10-str/valid/labels/002988.txt  \n",
            "  inflating: /content/drive/MyDrive/my_yolov8/Conbine_dataset_3_classes-1_80-20-10-str/valid/labels/000036.txt  \n",
            "  inflating: /content/drive/MyDrive/my_yolov8/Conbine_dataset_3_classes-1_80-20-10-str/valid/labels/005011.txt  \n",
            "  inflating: /content/drive/MyDrive/my_yolov8/Conbine_dataset_3_classes-1_80-20-10-str/valid/labels/004369.txt  \n",
            "  inflating: /content/drive/MyDrive/my_yolov8/Conbine_dataset_3_classes-1_80-20-10-str/valid/labels/004818.txt  \n",
            "  inflating: /content/drive/MyDrive/my_yolov8/Conbine_dataset_3_classes-1_80-20-10-str/valid/labels/006135.txt  \n",
            "  inflating: /content/drive/MyDrive/my_yolov8/Conbine_dataset_3_classes-1_80-20-10-str/valid/labels/001964.txt  \n",
            "  inflating: /content/drive/MyDrive/my_yolov8/Conbine_dataset_3_classes-1_80-20-10-str/valid/labels/005029.txt  \n",
            "  inflating: /content/drive/MyDrive/my_yolov8/Conbine_dataset_3_classes-1_80-20-10-str/valid/labels/006445.txt  \n",
            "  inflating: /content/drive/MyDrive/my_yolov8/Conbine_dataset_3_classes-1_80-20-10-str/valid/labels/005408.txt  \n",
            "  inflating: /content/drive/MyDrive/my_yolov8/Conbine_dataset_3_classes-1_80-20-10-str/valid/labels/001542.txt  \n",
            "  inflating: /content/drive/MyDrive/my_yolov8/Conbine_dataset_3_classes-1_80-20-10-str/valid/labels/002663.txt  \n",
            "  inflating: /content/drive/MyDrive/my_yolov8/Conbine_dataset_3_classes-1_80-20-10-str/valid/labels/000949.txt  \n",
            "  inflating: /content/drive/MyDrive/my_yolov8/Conbine_dataset_3_classes-1_80-20-10-str/valid/labels/000983.txt  \n",
            "  inflating: /content/drive/MyDrive/my_yolov8/Conbine_dataset_3_classes-1_80-20-10-str/valid/labels/004805.txt  \n",
            "  inflating: /content/drive/MyDrive/my_yolov8/Conbine_dataset_3_classes-1_80-20-10-str/valid/labels/006677.txt  \n",
            "  inflating: /content/drive/MyDrive/my_yolov8/Conbine_dataset_3_classes-1_80-20-10-str/valid/labels/002448.txt  \n",
            "  inflating: /content/drive/MyDrive/my_yolov8/Conbine_dataset_3_classes-1_80-20-10-str/valid/labels/005862.txt  \n",
            "  inflating: /content/drive/MyDrive/my_yolov8/Conbine_dataset_3_classes-1_80-20-10-str/valid/labels/006452.txt  \n",
            "  inflating: /content/drive/MyDrive/my_yolov8/Conbine_dataset_3_classes-1_80-20-10-str/valid/labels/006302.txt  \n",
            "  inflating: /content/drive/MyDrive/my_yolov8/Conbine_dataset_3_classes-1_80-20-10-str/valid/labels/003206.txt  \n",
            "  inflating: /content/drive/MyDrive/my_yolov8/Conbine_dataset_3_classes-1_80-20-10-str/valid/labels/004323.txt  \n",
            "  inflating: /content/drive/MyDrive/my_yolov8/Conbine_dataset_3_classes-1_80-20-10-str/valid/labels/006849.txt  \n",
            "  inflating: /content/drive/MyDrive/my_yolov8/Conbine_dataset_3_classes-1_80-20-10-str/valid/labels/000777.txt  \n",
            "  inflating: /content/drive/MyDrive/my_yolov8/Conbine_dataset_3_classes-1_80-20-10-str/valid/labels/001824.txt  \n",
            "  inflating: /content/drive/MyDrive/my_yolov8/Conbine_dataset_3_classes-1_80-20-10-str/valid/labels/005541.txt  \n",
            "  inflating: /content/drive/MyDrive/my_yolov8/Conbine_dataset_3_classes-1_80-20-10-str/valid/labels/006612.txt  \n",
            "  inflating: /content/drive/MyDrive/my_yolov8/Conbine_dataset_3_classes-1_80-20-10-str/valid/labels/002117.txt  \n",
            "  inflating: /content/drive/MyDrive/my_yolov8/Conbine_dataset_3_classes-1_80-20-10-str/valid/labels/000272.txt  \n",
            "  inflating: /content/drive/MyDrive/my_yolov8/Conbine_dataset_3_classes-1_80-20-10-str/valid/labels/002079.txt  \n",
            "  inflating: /content/drive/MyDrive/my_yolov8/Conbine_dataset_3_classes-1_80-20-10-str/valid/labels/004715.txt  \n",
            "  inflating: /content/drive/MyDrive/my_yolov8/Conbine_dataset_3_classes-1_80-20-10-str/valid/labels/002232.txt  \n",
            "  inflating: /content/drive/MyDrive/my_yolov8/Conbine_dataset_3_classes-1_80-20-10-str/valid/labels/002649.txt  \n",
            "  inflating: /content/drive/MyDrive/my_yolov8/Conbine_dataset_3_classes-1_80-20-10-str/valid/labels/004643.txt  \n",
            "  inflating: /content/drive/MyDrive/my_yolov8/Conbine_dataset_3_classes-1_80-20-10-str/valid/labels/005222.txt  \n",
            "  inflating: /content/drive/MyDrive/my_yolov8/Conbine_dataset_3_classes-1_80-20-10-str/valid/labels/002916.txt  \n",
            "  inflating: /content/drive/MyDrive/my_yolov8/Conbine_dataset_3_classes-1_80-20-10-str/valid/labels/003319.txt  \n",
            "  inflating: /content/drive/MyDrive/my_yolov8/Conbine_dataset_3_classes-1_80-20-10-str/valid/labels/001984.txt  \n",
            "  inflating: /content/drive/MyDrive/my_yolov8/Conbine_dataset_3_classes-1_80-20-10-str/valid/labels/003916.txt  \n",
            "  inflating: /content/drive/MyDrive/my_yolov8/Conbine_dataset_3_classes-1_80-20-10-str/valid/labels/005410.txt  \n",
            "  inflating: /content/drive/MyDrive/my_yolov8/Conbine_dataset_3_classes-1_80-20-10-str/valid/labels/001397.txt  \n",
            "  inflating: /content/drive/MyDrive/my_yolov8/Conbine_dataset_3_classes-1_80-20-10-str/valid/labels/005917.txt  \n",
            "  inflating: /content/drive/MyDrive/my_yolov8/Conbine_dataset_3_classes-1_80-20-10-str/valid/labels/001498.txt  \n",
            "  inflating: /content/drive/MyDrive/my_yolov8/Conbine_dataset_3_classes-1_80-20-10-str/valid/labels/006007.txt  \n",
            "  inflating: /content/drive/MyDrive/my_yolov8/Conbine_dataset_3_classes-1_80-20-10-str/valid/labels/002256.txt  \n",
            "  inflating: /content/drive/MyDrive/my_yolov8/Conbine_dataset_3_classes-1_80-20-10-str/valid/labels/006917.txt  \n",
            "  inflating: /content/drive/MyDrive/my_yolov8/Conbine_dataset_3_classes-1_80-20-10-str/valid/labels/005097.txt  \n",
            "  inflating: /content/drive/MyDrive/my_yolov8/Conbine_dataset_3_classes-1_80-20-10-str/valid/labels/002632.txt  \n",
            "  inflating: /content/drive/MyDrive/my_yolov8/Conbine_dataset_3_classes-1_80-20-10-str/valid/labels/006243.txt  \n",
            "  inflating: /content/drive/MyDrive/my_yolov8/Conbine_dataset_3_classes-1_80-20-10-str/valid/labels/001157.txt  \n",
            "  inflating: /content/drive/MyDrive/my_yolov8/Conbine_dataset_3_classes-1_80-20-10-str/valid/labels/000591.txt  \n",
            "  inflating: /content/drive/MyDrive/my_yolov8/Conbine_dataset_3_classes-1_80-20-10-str/valid/labels/002809.txt  \n",
            "  inflating: /content/drive/MyDrive/my_yolov8/Conbine_dataset_3_classes-1_80-20-10-str/valid/labels/005036.txt  \n",
            "  inflating: /content/drive/MyDrive/my_yolov8/Conbine_dataset_3_classes-1_80-20-10-str/valid/labels/003983.txt  \n",
            "  inflating: /content/drive/MyDrive/my_yolov8/Conbine_dataset_3_classes-1_80-20-10-str/valid/labels/006957.txt  \n",
            "  inflating: /content/drive/MyDrive/my_yolov8/Conbine_dataset_3_classes-1_80-20-10-str/valid/labels/001685.txt  \n",
            "  inflating: /content/drive/MyDrive/my_yolov8/Conbine_dataset_3_classes-1_80-20-10-str/valid/labels/001584.txt  \n",
            "  inflating: /content/drive/MyDrive/my_yolov8/Conbine_dataset_3_classes-1_80-20-10-str/valid/labels/004921.txt  \n",
            "  inflating: /content/drive/MyDrive/my_yolov8/Conbine_dataset_3_classes-1_80-20-10-str/valid/labels/005720.txt  \n",
            "  inflating: /content/drive/MyDrive/my_yolov8/Conbine_dataset_3_classes-1_80-20-10-str/valid/labels/002588.txt  \n",
            "  inflating: /content/drive/MyDrive/my_yolov8/Conbine_dataset_3_classes-1_80-20-10-str/valid/labels/002510.txt  \n",
            "  inflating: /content/drive/MyDrive/my_yolov8/Conbine_dataset_3_classes-1_80-20-10-str/valid/labels/000787.txt  \n",
            "  inflating: /content/drive/MyDrive/my_yolov8/Conbine_dataset_3_classes-1_80-20-10-str/valid/labels/002427.txt  \n",
            "  inflating: /content/drive/MyDrive/my_yolov8/Conbine_dataset_3_classes-1_80-20-10-str/valid/labels/002944.txt  \n",
            "  inflating: /content/drive/MyDrive/my_yolov8/Conbine_dataset_3_classes-1_80-20-10-str/valid/labels/004344.txt  \n",
            "  inflating: /content/drive/MyDrive/my_yolov8/Conbine_dataset_3_classes-1_80-20-10-str/valid/labels/004246.txt  \n",
            "  inflating: /content/drive/MyDrive/my_yolov8/Conbine_dataset_3_classes-1_80-20-10-str/valid/labels/005055.txt  \n",
            "  inflating: /content/drive/MyDrive/my_yolov8/Conbine_dataset_3_classes-1_80-20-10-str/valid/labels/004482.txt  \n",
            "  inflating: /content/drive/MyDrive/my_yolov8/Conbine_dataset_3_classes-1_80-20-10-str/valid/labels/002971.txt  \n",
            "  inflating: /content/drive/MyDrive/my_yolov8/Conbine_dataset_3_classes-1_80-20-10-str/valid/labels/000835.txt  \n",
            "  inflating: /content/drive/MyDrive/my_yolov8/Conbine_dataset_3_classes-1_80-20-10-str/valid/labels/005317.txt  \n",
            "  inflating: /content/drive/MyDrive/my_yolov8/Conbine_dataset_3_classes-1_80-20-10-str/valid/labels/002370.txt  \n",
            "  inflating: /content/drive/MyDrive/my_yolov8/Conbine_dataset_3_classes-1_80-20-10-str/valid/labels/001536.txt  \n",
            "  inflating: /content/drive/MyDrive/my_yolov8/Conbine_dataset_3_classes-1_80-20-10-str/valid/labels/005806.txt  \n",
            "  inflating: /content/drive/MyDrive/my_yolov8/Conbine_dataset_3_classes-1_80-20-10-str/valid/labels/002760.txt  \n",
            "  inflating: /content/drive/MyDrive/my_yolov8/Conbine_dataset_3_classes-1_80-20-10-str/valid/labels/005861.txt  \n",
            "  inflating: /content/drive/MyDrive/my_yolov8/Conbine_dataset_3_classes-1_80-20-10-str/valid/labels/003021.txt  \n",
            "  inflating: /content/drive/MyDrive/my_yolov8/Conbine_dataset_3_classes-1_80-20-10-str/valid/labels/002384.txt  \n",
            "  inflating: /content/drive/MyDrive/my_yolov8/Conbine_dataset_3_classes-1_80-20-10-str/valid/labels/005808.txt  \n",
            "  inflating: /content/drive/MyDrive/my_yolov8/Conbine_dataset_3_classes-1_80-20-10-str/valid/labels/006600.txt  \n",
            "  inflating: /content/drive/MyDrive/my_yolov8/Conbine_dataset_3_classes-1_80-20-10-str/valid/labels/004050.txt  \n",
            "  inflating: /content/drive/MyDrive/my_yolov8/Conbine_dataset_3_classes-1_80-20-10-str/valid/labels/001073.txt  \n",
            "  inflating: /content/drive/MyDrive/my_yolov8/Conbine_dataset_3_classes-1_80-20-10-str/valid/labels/003715.txt  \n",
            "  inflating: /content/drive/MyDrive/my_yolov8/Conbine_dataset_3_classes-1_80-20-10-str/valid/labels/007241.txt  \n",
            "  inflating: /content/drive/MyDrive/my_yolov8/Conbine_dataset_3_classes-1_80-20-10-str/valid/labels/002655.txt  \n",
            "  inflating: /content/drive/MyDrive/my_yolov8/Conbine_dataset_3_classes-1_80-20-10-str/valid/labels/000741.txt  \n",
            "  inflating: /content/drive/MyDrive/my_yolov8/Conbine_dataset_3_classes-1_80-20-10-str/valid/labels/003272.txt  \n",
            "  inflating: /content/drive/MyDrive/my_yolov8/Conbine_dataset_3_classes-1_80-20-10-str/valid/labels/005615.txt  \n",
            "  inflating: /content/drive/MyDrive/my_yolov8/Conbine_dataset_3_classes-1_80-20-10-str/valid/labels/001341.txt  \n",
            "  inflating: /content/drive/MyDrive/my_yolov8/Conbine_dataset_3_classes-1_80-20-10-str/valid/labels/002409.txt  \n",
            "  inflating: /content/drive/MyDrive/my_yolov8/Conbine_dataset_3_classes-1_80-20-10-str/valid/labels/001171.txt  \n",
            "  inflating: /content/drive/MyDrive/my_yolov8/Conbine_dataset_3_classes-1_80-20-10-str/valid/labels/001348.txt  \n",
            "  inflating: /content/drive/MyDrive/my_yolov8/Conbine_dataset_3_classes-1_80-20-10-str/valid/labels/002306.txt  \n",
            "  inflating: /content/drive/MyDrive/my_yolov8/Conbine_dataset_3_classes-1_80-20-10-str/valid/labels/001220.txt  \n",
            "  inflating: /content/drive/MyDrive/my_yolov8/Conbine_dataset_3_classes-1_80-20-10-str/valid/labels/001380.txt  \n",
            "  inflating: /content/drive/MyDrive/my_yolov8/Conbine_dataset_3_classes-1_80-20-10-str/valid/labels/003999.txt  \n",
            "  inflating: /content/drive/MyDrive/my_yolov8/Conbine_dataset_3_classes-1_80-20-10-str/valid/labels/002669.txt  \n",
            "  inflating: /content/drive/MyDrive/my_yolov8/Conbine_dataset_3_classes-1_80-20-10-str/valid/labels/004744.txt  \n",
            "  inflating: /content/drive/MyDrive/my_yolov8/Conbine_dataset_3_classes-1_80-20-10-str/valid/labels/006210.txt  \n",
            "  inflating: /content/drive/MyDrive/my_yolov8/Conbine_dataset_3_classes-1_80-20-10-str/valid/labels/007257.txt  \n",
            "  inflating: /content/drive/MyDrive/my_yolov8/Conbine_dataset_3_classes-1_80-20-10-str/valid/labels/002975.txt  \n",
            "  inflating: /content/drive/MyDrive/my_yolov8/Conbine_dataset_3_classes-1_80-20-10-str/valid/labels/000733.txt  \n",
            "  inflating: /content/drive/MyDrive/my_yolov8/Conbine_dataset_3_classes-1_80-20-10-str/valid/labels/005788.txt  \n",
            "  inflating: /content/drive/MyDrive/my_yolov8/Conbine_dataset_3_classes-1_80-20-10-str/valid/labels/001728.txt  \n",
            "  inflating: /content/drive/MyDrive/my_yolov8/Conbine_dataset_3_classes-1_80-20-10-str/valid/labels/000889.txt  \n",
            "  inflating: /content/drive/MyDrive/my_yolov8/Conbine_dataset_3_classes-1_80-20-10-str/valid/labels/001811.txt  \n",
            "  inflating: /content/drive/MyDrive/my_yolov8/Conbine_dataset_3_classes-1_80-20-10-str/valid/labels/004708.txt  \n",
            "  inflating: /content/drive/MyDrive/my_yolov8/Conbine_dataset_3_classes-1_80-20-10-str/valid/labels/005686.txt  \n",
            "  inflating: /content/drive/MyDrive/my_yolov8/Conbine_dataset_3_classes-1_80-20-10-str/valid/labels/001907.txt  \n",
            "  inflating: /content/drive/MyDrive/my_yolov8/Conbine_dataset_3_classes-1_80-20-10-str/valid/labels/005437.txt  \n",
            "  inflating: /content/drive/MyDrive/my_yolov8/Conbine_dataset_3_classes-1_80-20-10-str/valid/labels/000627.txt  \n",
            "  inflating: /content/drive/MyDrive/my_yolov8/Conbine_dataset_3_classes-1_80-20-10-str/valid/labels/004357.txt  \n",
            "  inflating: /content/drive/MyDrive/my_yolov8/Conbine_dataset_3_classes-1_80-20-10-str/valid/labels/004612.txt  \n",
            "  inflating: /content/drive/MyDrive/my_yolov8/Conbine_dataset_3_classes-1_80-20-10-str/valid/labels/000572.txt  \n",
            "  inflating: /content/drive/MyDrive/my_yolov8/Conbine_dataset_3_classes-1_80-20-10-str/valid/labels/005963.txt  \n",
            "  inflating: /content/drive/MyDrive/my_yolov8/Conbine_dataset_3_classes-1_80-20-10-str/valid/labels/000770.txt  \n",
            "  inflating: /content/drive/MyDrive/my_yolov8/Conbine_dataset_3_classes-1_80-20-10-str/valid/labels/004842.txt  \n",
            "  inflating: /content/drive/MyDrive/my_yolov8/Conbine_dataset_3_classes-1_80-20-10-str/valid/labels/000617.txt  \n",
            "  inflating: /content/drive/MyDrive/my_yolov8/Conbine_dataset_3_classes-1_80-20-10-str/valid/labels/003197.txt  \n",
            "  inflating: /content/drive/MyDrive/my_yolov8/Conbine_dataset_3_classes-1_80-20-10-str/valid/labels/002245.txt  \n",
            "  inflating: /content/drive/MyDrive/my_yolov8/Conbine_dataset_3_classes-1_80-20-10-str/valid/labels/001736.txt  \n",
            "  inflating: /content/drive/MyDrive/my_yolov8/Conbine_dataset_3_classes-1_80-20-10-str/valid/labels/005159.txt  \n",
            "  inflating: /content/drive/MyDrive/my_yolov8/Conbine_dataset_3_classes-1_80-20-10-str/valid/labels/004854.txt  \n",
            "  inflating: /content/drive/MyDrive/my_yolov8/Conbine_dataset_3_classes-1_80-20-10-str/valid/labels/006462.txt  \n",
            "  inflating: /content/drive/MyDrive/my_yolov8/Conbine_dataset_3_classes-1_80-20-10-str/valid/labels/001821.txt  \n",
            "  inflating: /content/drive/MyDrive/my_yolov8/Conbine_dataset_3_classes-1_80-20-10-str/valid/labels/002012.txt  \n",
            "  inflating: /content/drive/MyDrive/my_yolov8/Conbine_dataset_3_classes-1_80-20-10-str/valid/labels/002376.txt  \n",
            "  inflating: /content/drive/MyDrive/my_yolov8/Conbine_dataset_3_classes-1_80-20-10-str/valid/labels/000281.txt  \n",
            "  inflating: /content/drive/MyDrive/my_yolov8/Conbine_dataset_3_classes-1_80-20-10-str/valid/labels/005304.txt  \n",
            "  inflating: /content/drive/MyDrive/my_yolov8/Conbine_dataset_3_classes-1_80-20-10-str/valid/labels/002726.txt  \n",
            "  inflating: /content/drive/MyDrive/my_yolov8/Conbine_dataset_3_classes-1_80-20-10-str/valid/labels/005685.txt  \n",
            "  inflating: /content/drive/MyDrive/my_yolov8/Conbine_dataset_3_classes-1_80-20-10-str/valid/labels/001769.txt  \n",
            "  inflating: /content/drive/MyDrive/my_yolov8/Conbine_dataset_3_classes-1_80-20-10-str/valid/labels/002284.txt  \n",
            "  inflating: /content/drive/MyDrive/my_yolov8/Conbine_dataset_3_classes-1_80-20-10-str/valid/labels/005225.txt  \n",
            "  inflating: /content/drive/MyDrive/my_yolov8/Conbine_dataset_3_classes-1_80-20-10-str/valid/labels/003705.txt  \n",
            "  inflating: /content/drive/MyDrive/my_yolov8/Conbine_dataset_3_classes-1_80-20-10-str/valid/labels/006676.txt  \n",
            "  inflating: /content/drive/MyDrive/my_yolov8/Conbine_dataset_3_classes-1_80-20-10-str/valid/labels/003008.txt  \n",
            "  inflating: /content/drive/MyDrive/my_yolov8/Conbine_dataset_3_classes-1_80-20-10-str/valid/labels/007199.txt  \n",
            "  inflating: /content/drive/MyDrive/my_yolov8/Conbine_dataset_3_classes-1_80-20-10-str/valid/labels/003930.txt  \n",
            "  inflating: /content/drive/MyDrive/my_yolov8/Conbine_dataset_3_classes-1_80-20-10-str/valid/labels/006694.txt  \n",
            "  inflating: /content/drive/MyDrive/my_yolov8/Conbine_dataset_3_classes-1_80-20-10-str/valid/labels/001436.txt  \n",
            "  inflating: /content/drive/MyDrive/my_yolov8/Conbine_dataset_3_classes-1_80-20-10-str/valid/labels/004022.txt  \n",
            "  inflating: /content/drive/MyDrive/my_yolov8/Conbine_dataset_3_classes-1_80-20-10-str/valid/labels/003330.txt  \n",
            "  inflating: /content/drive/MyDrive/my_yolov8/Conbine_dataset_3_classes-1_80-20-10-str/valid/labels/006595.txt  \n",
            "  inflating: /content/drive/MyDrive/my_yolov8/Conbine_dataset_3_classes-1_80-20-10-str/valid/labels/002904.txt  \n",
            "  inflating: /content/drive/MyDrive/my_yolov8/Conbine_dataset_3_classes-1_80-20-10-str/valid/labels/003881.txt  \n",
            "  inflating: /content/drive/MyDrive/my_yolov8/Conbine_dataset_3_classes-1_80-20-10-str/valid/labels/005943.txt  \n",
            "  inflating: /content/drive/MyDrive/my_yolov8/Conbine_dataset_3_classes-1_80-20-10-str/valid/labels/002008.txt  \n",
            "  inflating: /content/drive/MyDrive/my_yolov8/Conbine_dataset_3_classes-1_80-20-10-str/valid/labels/000268.txt  \n",
            "  inflating: /content/drive/MyDrive/my_yolov8/Conbine_dataset_3_classes-1_80-20-10-str/valid/labels/001404.txt  \n",
            "  inflating: /content/drive/MyDrive/my_yolov8/Conbine_dataset_3_classes-1_80-20-10-str/valid/labels/006491.txt  \n",
            "  inflating: /content/drive/MyDrive/my_yolov8/Conbine_dataset_3_classes-1_80-20-10-str/valid/labels/006274.txt  \n",
            "  inflating: /content/drive/MyDrive/my_yolov8/Conbine_dataset_3_classes-1_80-20-10-str/valid/labels/005955.txt  \n",
            "  inflating: /content/drive/MyDrive/my_yolov8/Conbine_dataset_3_classes-1_80-20-10-str/valid/labels/001230.txt  \n",
            "  inflating: /content/drive/MyDrive/my_yolov8/Conbine_dataset_3_classes-1_80-20-10-str/valid/labels/004469.txt  \n",
            "  inflating: /content/drive/MyDrive/my_yolov8/Conbine_dataset_3_classes-1_80-20-10-str/valid/labels/006117.txt  \n",
            "  inflating: /content/drive/MyDrive/my_yolov8/Conbine_dataset_3_classes-1_80-20-10-str/valid/labels/004516.txt  \n",
            "  inflating: /content/drive/MyDrive/my_yolov8/Conbine_dataset_3_classes-1_80-20-10-str/valid/labels/006888.txt  \n",
            "  inflating: /content/drive/MyDrive/my_yolov8/Conbine_dataset_3_classes-1_80-20-10-str/valid/labels/007132.txt  \n",
            "  inflating: /content/drive/MyDrive/my_yolov8/Conbine_dataset_3_classes-1_80-20-10-str/valid/labels/006697.txt  \n",
            "  inflating: /content/drive/MyDrive/my_yolov8/Conbine_dataset_3_classes-1_80-20-10-str/valid/labels/005144.txt  \n",
            "  inflating: /content/drive/MyDrive/my_yolov8/Conbine_dataset_3_classes-1_80-20-10-str/valid/labels/002980.txt  \n",
            "  inflating: /content/drive/MyDrive/my_yolov8/Conbine_dataset_3_classes-1_80-20-10-str/valid/labels/005965.txt  \n",
            "  inflating: /content/drive/MyDrive/my_yolov8/Conbine_dataset_3_classes-1_80-20-10-str/valid/labels/003649.txt  \n",
            "  inflating: /content/drive/MyDrive/my_yolov8/Conbine_dataset_3_classes-1_80-20-10-str/valid/labels/006005.txt  \n",
            "  inflating: /content/drive/MyDrive/my_yolov8/Conbine_dataset_3_classes-1_80-20-10-str/valid/labels/000028.txt  \n",
            "  inflating: /content/drive/MyDrive/my_yolov8/Conbine_dataset_3_classes-1_80-20-10-str/valid/labels/004615.txt  \n",
            "  inflating: /content/drive/MyDrive/my_yolov8/Conbine_dataset_3_classes-1_80-20-10-str/valid/labels/001523.txt  \n",
            "  inflating: /content/drive/MyDrive/my_yolov8/Conbine_dataset_3_classes-1_80-20-10-str/valid/labels/000603.txt  \n",
            "  inflating: /content/drive/MyDrive/my_yolov8/Conbine_dataset_3_classes-1_80-20-10-str/valid/labels/000209.txt  \n",
            "  inflating: /content/drive/MyDrive/my_yolov8/Conbine_dataset_3_classes-1_80-20-10-str/valid/labels/004839.txt  \n",
            "  inflating: /content/drive/MyDrive/my_yolov8/Conbine_dataset_3_classes-1_80-20-10-str/valid/labels/000051.txt  \n",
            "  inflating: /content/drive/MyDrive/my_yolov8/Conbine_dataset_3_classes-1_80-20-10-str/valid/labels/000438.txt  \n",
            "  inflating: /content/drive/MyDrive/my_yolov8/Conbine_dataset_3_classes-1_80-20-10-str/valid/labels/005945.txt  \n",
            "  inflating: /content/drive/MyDrive/my_yolov8/Conbine_dataset_3_classes-1_80-20-10-str/valid/labels/002043.txt  \n",
            "  inflating: /content/drive/MyDrive/my_yolov8/Conbine_dataset_3_classes-1_80-20-10-str/valid/labels/001777.txt  \n",
            "  inflating: /content/drive/MyDrive/my_yolov8/Conbine_dataset_3_classes-1_80-20-10-str/valid/labels/003982.txt  \n",
            "  inflating: /content/drive/MyDrive/my_yolov8/Conbine_dataset_3_classes-1_80-20-10-str/valid/labels/006403.txt  \n",
            "  inflating: /content/drive/MyDrive/my_yolov8/Conbine_dataset_3_classes-1_80-20-10-str/valid/labels/002741.txt  \n",
            "  inflating: /content/drive/MyDrive/my_yolov8/Conbine_dataset_3_classes-1_80-20-10-str/valid/labels/005211.txt  \n",
            "  inflating: /content/drive/MyDrive/my_yolov8/Conbine_dataset_3_classes-1_80-20-10-str/valid/labels/006791.txt  \n",
            "  inflating: /content/drive/MyDrive/my_yolov8/Conbine_dataset_3_classes-1_80-20-10-str/valid/labels/004325.txt  \n",
            "  inflating: /content/drive/MyDrive/my_yolov8/Conbine_dataset_3_classes-1_80-20-10-str/valid/labels/006876.txt  \n",
            "  inflating: /content/drive/MyDrive/my_yolov8/Conbine_dataset_3_classes-1_80-20-10-str/valid/labels/002900.txt  \n",
            "  inflating: /content/drive/MyDrive/my_yolov8/Conbine_dataset_3_classes-1_80-20-10-str/valid/labels/006154.txt  \n",
            "  inflating: /content/drive/MyDrive/my_yolov8/Conbine_dataset_3_classes-1_80-20-10-str/valid/labels/000434.txt  \n",
            "  inflating: /content/drive/MyDrive/my_yolov8/Conbine_dataset_3_classes-1_80-20-10-str/valid/labels/005155.txt  \n",
            "  inflating: /content/drive/MyDrive/my_yolov8/Conbine_dataset_3_classes-1_80-20-10-str/valid/labels/002028.txt  \n",
            "  inflating: /content/drive/MyDrive/my_yolov8/Conbine_dataset_3_classes-1_80-20-10-str/valid/labels/006284.txt  \n",
            "  inflating: /content/drive/MyDrive/my_yolov8/Conbine_dataset_3_classes-1_80-20-10-str/valid/labels/006430.txt  \n",
            "  inflating: /content/drive/MyDrive/my_yolov8/Conbine_dataset_3_classes-1_80-20-10-str/valid/labels/001304.txt  \n",
            "  inflating: /content/drive/MyDrive/my_yolov8/Conbine_dataset_3_classes-1_80-20-10-str/valid/labels/002602.txt  \n",
            "  inflating: /content/drive/MyDrive/my_yolov8/Conbine_dataset_3_classes-1_80-20-10-str/valid/labels/005726.txt  \n",
            "  inflating: /content/drive/MyDrive/my_yolov8/Conbine_dataset_3_classes-1_80-20-10-str/valid/labels/005856.txt  \n",
            "  inflating: /content/drive/MyDrive/my_yolov8/Conbine_dataset_3_classes-1_80-20-10-str/valid/labels/001931.txt  \n",
            "  inflating: /content/drive/MyDrive/my_yolov8/Conbine_dataset_3_classes-1_80-20-10-str/valid/labels/000645.txt  \n",
            "  inflating: /content/drive/MyDrive/my_yolov8/Conbine_dataset_3_classes-1_80-20-10-str/valid/labels/004082.txt  \n",
            "  inflating: /content/drive/MyDrive/my_yolov8/Conbine_dataset_3_classes-1_80-20-10-str/valid/labels/004204.txt  \n",
            "  inflating: /content/drive/MyDrive/my_yolov8/Conbine_dataset_3_classes-1_80-20-10-str/valid/labels/003934.txt  \n",
            "  inflating: /content/drive/MyDrive/my_yolov8/Conbine_dataset_3_classes-1_80-20-10-str/valid/labels/004151.txt  \n",
            "  inflating: /content/drive/MyDrive/my_yolov8/Conbine_dataset_3_classes-1_80-20-10-str/valid/labels/005446.txt  \n",
            "  inflating: /content/drive/MyDrive/my_yolov8/Conbine_dataset_3_classes-1_80-20-10-str/valid/labels/002909.txt  \n",
            "  inflating: /content/drive/MyDrive/my_yolov8/Conbine_dataset_3_classes-1_80-20-10-str/valid/labels/006506.txt  \n",
            "  inflating: /content/drive/MyDrive/my_yolov8/Conbine_dataset_3_classes-1_80-20-10-str/valid/labels/005298.txt  \n",
            "  inflating: /content/drive/MyDrive/my_yolov8/Conbine_dataset_3_classes-1_80-20-10-str/valid/labels/003557.txt  \n",
            "  inflating: /content/drive/MyDrive/my_yolov8/Conbine_dataset_3_classes-1_80-20-10-str/valid/labels/006576.txt  \n",
            "  inflating: /content/drive/MyDrive/my_yolov8/Conbine_dataset_3_classes-1_80-20-10-str/valid/labels/005828.txt  \n",
            "  inflating: /content/drive/MyDrive/my_yolov8/Conbine_dataset_3_classes-1_80-20-10-str/valid/labels/006993.txt  \n",
            "  inflating: /content/drive/MyDrive/my_yolov8/Conbine_dataset_3_classes-1_80-20-10-str/valid/labels/004378.txt  \n",
            "  inflating: /content/drive/MyDrive/my_yolov8/Conbine_dataset_3_classes-1_80-20-10-str/valid/labels/001719.txt  \n",
            "  inflating: /content/drive/MyDrive/my_yolov8/Conbine_dataset_3_classes-1_80-20-10-str/valid/labels/003376.txt  \n",
            "  inflating: /content/drive/MyDrive/my_yolov8/Conbine_dataset_3_classes-1_80-20-10-str/valid/labels/002922.txt  \n",
            "  inflating: /content/drive/MyDrive/my_yolov8/Conbine_dataset_3_classes-1_80-20-10-str/valid/labels/004270.txt  \n",
            "  inflating: /content/drive/MyDrive/my_yolov8/Conbine_dataset_3_classes-1_80-20-10-str/valid/labels/003275.txt  \n",
            "  inflating: /content/drive/MyDrive/my_yolov8/Conbine_dataset_3_classes-1_80-20-10-str/valid/labels/002015.txt  \n",
            "  inflating: /content/drive/MyDrive/my_yolov8/Conbine_dataset_3_classes-1_80-20-10-str/valid/labels/003214.txt  \n",
            "  inflating: /content/drive/MyDrive/my_yolov8/Conbine_dataset_3_classes-1_80-20-10-str/valid/labels/000529.txt  \n",
            "  inflating: /content/drive/MyDrive/my_yolov8/Conbine_dataset_3_classes-1_80-20-10-str/valid/labels/006971.txt  \n",
            "  inflating: /content/drive/MyDrive/my_yolov8/Conbine_dataset_3_classes-1_80-20-10-str/valid/labels/003529.txt  \n",
            "  inflating: /content/drive/MyDrive/my_yolov8/Conbine_dataset_3_classes-1_80-20-10-str/valid/labels/004462.txt  \n",
            "  inflating: /content/drive/MyDrive/my_yolov8/Conbine_dataset_3_classes-1_80-20-10-str/valid/labels/000119.txt  \n",
            "  inflating: /content/drive/MyDrive/my_yolov8/Conbine_dataset_3_classes-1_80-20-10-str/valid/labels/006492.txt  \n",
            "  inflating: /content/drive/MyDrive/my_yolov8/Conbine_dataset_3_classes-1_80-20-10-str/valid/labels/006429.txt  \n",
            "  inflating: /content/drive/MyDrive/my_yolov8/Conbine_dataset_3_classes-1_80-20-10-str/valid/labels/004121.txt  \n",
            "  inflating: /content/drive/MyDrive/my_yolov8/Conbine_dataset_3_classes-1_80-20-10-str/valid/labels/002765.txt  \n",
            "  inflating: /content/drive/MyDrive/my_yolov8/Conbine_dataset_3_classes-1_80-20-10-str/valid/labels/003522.txt  \n",
            "  inflating: /content/drive/MyDrive/my_yolov8/Conbine_dataset_3_classes-1_80-20-10-str/valid/labels/004375.txt  \n",
            "  inflating: /content/drive/MyDrive/my_yolov8/Conbine_dataset_3_classes-1_80-20-10-str/valid/labels/000730.txt  \n",
            "  inflating: /content/drive/MyDrive/my_yolov8/Conbine_dataset_3_classes-1_80-20-10-str/valid/labels/003479.txt  \n",
            "  inflating: /content/drive/MyDrive/my_yolov8/Conbine_dataset_3_classes-1_80-20-10-str/valid/labels/002426.txt  \n",
            "  inflating: /content/drive/MyDrive/my_yolov8/Conbine_dataset_3_classes-1_80-20-10-str/valid/labels/006690.txt  \n",
            "  inflating: /content/drive/MyDrive/my_yolov8/Conbine_dataset_3_classes-1_80-20-10-str/valid/labels/001270.txt  \n",
            "  inflating: /content/drive/MyDrive/my_yolov8/Conbine_dataset_3_classes-1_80-20-10-str/valid/labels/000102.txt  \n",
            "  inflating: /content/drive/MyDrive/my_yolov8/Conbine_dataset_3_classes-1_80-20-10-str/valid/labels/003284.txt  \n",
            "  inflating: /content/drive/MyDrive/my_yolov8/Conbine_dataset_3_classes-1_80-20-10-str/valid/labels/004602.txt  \n",
            "  inflating: /content/drive/MyDrive/my_yolov8/Conbine_dataset_3_classes-1_80-20-10-str/valid/labels/004309.txt  \n",
            "  inflating: /content/drive/MyDrive/my_yolov8/Conbine_dataset_3_classes-1_80-20-10-str/valid/labels/003889.txt  \n",
            "  inflating: /content/drive/MyDrive/my_yolov8/Conbine_dataset_3_classes-1_80-20-10-str/valid/labels/004583.txt  \n",
            "  inflating: /content/drive/MyDrive/my_yolov8/Conbine_dataset_3_classes-1_80-20-10-str/valid/labels/000144.txt  \n",
            "  inflating: /content/drive/MyDrive/my_yolov8/Conbine_dataset_3_classes-1_80-20-10-str/valid/labels/002061.txt  \n",
            "  inflating: /content/drive/MyDrive/my_yolov8/Conbine_dataset_3_classes-1_80-20-10-str/valid/labels/000707.txt  \n",
            "  inflating: /content/drive/MyDrive/my_yolov8/Conbine_dataset_3_classes-1_80-20-10-str/valid/labels/003316.txt  \n",
            "  inflating: /content/drive/MyDrive/my_yolov8/Conbine_dataset_3_classes-1_80-20-10-str/valid/labels/005590.txt  \n",
            "  inflating: /content/drive/MyDrive/my_yolov8/Conbine_dataset_3_classes-1_80-20-10-str/valid/labels/003937.txt  \n",
            "  inflating: /content/drive/MyDrive/my_yolov8/Conbine_dataset_3_classes-1_80-20-10-str/valid/labels/003858.txt  \n",
            "  inflating: /content/drive/MyDrive/my_yolov8/Conbine_dataset_3_classes-1_80-20-10-str/valid/labels/003865.txt  \n",
            "  inflating: /content/drive/MyDrive/my_yolov8/Conbine_dataset_3_classes-1_80-20-10-str/valid/labels/001757.txt  \n",
            "  inflating: /content/drive/MyDrive/my_yolov8/Conbine_dataset_3_classes-1_80-20-10-str/valid/labels/004170.txt  \n",
            "  inflating: /content/drive/MyDrive/my_yolov8/Conbine_dataset_3_classes-1_80-20-10-str/valid/labels/002949.txt  \n",
            "  inflating: /content/drive/MyDrive/my_yolov8/Conbine_dataset_3_classes-1_80-20-10-str/valid/labels/005579.txt  \n",
            "  inflating: /content/drive/MyDrive/my_yolov8/Conbine_dataset_3_classes-1_80-20-10-str/valid/labels/004165.txt  \n",
            "  inflating: /content/drive/MyDrive/my_yolov8/Conbine_dataset_3_classes-1_80-20-10-str/valid/labels/001839.txt  \n",
            "  inflating: /content/drive/MyDrive/my_yolov8/Conbine_dataset_3_classes-1_80-20-10-str/valid/labels/004918.txt  \n",
            "  inflating: /content/drive/MyDrive/my_yolov8/Conbine_dataset_3_classes-1_80-20-10-str/valid/labels/002480.txt  \n",
            "  inflating: /content/drive/MyDrive/my_yolov8/Conbine_dataset_3_classes-1_80-20-10-str/valid/labels/003735.txt  \n",
            "  inflating: /content/drive/MyDrive/my_yolov8/Conbine_dataset_3_classes-1_80-20-10-str/valid/labels/001892.txt  \n",
            "  inflating: /content/drive/MyDrive/my_yolov8/Conbine_dataset_3_classes-1_80-20-10-str/valid/labels/007031.txt  \n",
            "  inflating: /content/drive/MyDrive/my_yolov8/Conbine_dataset_3_classes-1_80-20-10-str/valid/labels/007043.txt  \n",
            "  inflating: /content/drive/MyDrive/my_yolov8/Conbine_dataset_3_classes-1_80-20-10-str/valid/labels/004593.txt  \n",
            "  inflating: /content/drive/MyDrive/my_yolov8/Conbine_dataset_3_classes-1_80-20-10-str/valid/labels/005651.txt  \n",
            "  inflating: /content/drive/MyDrive/my_yolov8/Conbine_dataset_3_classes-1_80-20-10-str/valid/labels/005025.txt  \n",
            "  inflating: /content/drive/MyDrive/my_yolov8/Conbine_dataset_3_classes-1_80-20-10-str/valid/labels/001055.txt  \n",
            "  inflating: /content/drive/MyDrive/my_yolov8/Conbine_dataset_3_classes-1_80-20-10-str/valid/labels/006345.txt  \n",
            "  inflating: /content/drive/MyDrive/my_yolov8/Conbine_dataset_3_classes-1_80-20-10-str/valid/labels/002698.txt  \n",
            "  inflating: /content/drive/MyDrive/my_yolov8/Conbine_dataset_3_classes-1_80-20-10-str/valid/labels/000702.txt  \n",
            "  inflating: /content/drive/MyDrive/my_yolov8/Conbine_dataset_3_classes-1_80-20-10-str/valid/labels/005970.txt  \n",
            "  inflating: /content/drive/MyDrive/my_yolov8/Conbine_dataset_3_classes-1_80-20-10-str/valid/labels/005209.txt  \n",
            "  inflating: /content/drive/MyDrive/my_yolov8/Conbine_dataset_3_classes-1_80-20-10-str/valid/labels/005230.txt  \n",
            "  inflating: /content/drive/MyDrive/my_yolov8/Conbine_dataset_3_classes-1_80-20-10-str/valid/labels/000786.txt  \n",
            "  inflating: /content/drive/MyDrive/my_yolov8/Conbine_dataset_3_classes-1_80-20-10-str/valid/labels/003485.txt  \n",
            "  inflating: /content/drive/MyDrive/my_yolov8/Conbine_dataset_3_classes-1_80-20-10-str/valid/labels/001381.txt  \n",
            "  inflating: /content/drive/MyDrive/my_yolov8/Conbine_dataset_3_classes-1_80-20-10-str/valid/labels/000115.txt  \n",
            "  inflating: /content/drive/MyDrive/my_yolov8/Conbine_dataset_3_classes-1_80-20-10-str/valid/labels/003828.txt  \n",
            "  inflating: /content/drive/MyDrive/my_yolov8/Conbine_dataset_3_classes-1_80-20-10-str/valid/labels/005328.txt  \n",
            "  inflating: /content/drive/MyDrive/my_yolov8/Conbine_dataset_3_classes-1_80-20-10-str/valid/labels/003080.txt  \n",
            "  inflating: /content/drive/MyDrive/my_yolov8/Conbine_dataset_3_classes-1_80-20-10-str/valid/labels/000038.txt  \n",
            "  inflating: /content/drive/MyDrive/my_yolov8/Conbine_dataset_3_classes-1_80-20-10-str/valid/labels/002259.txt  \n",
            "  inflating: /content/drive/MyDrive/my_yolov8/Conbine_dataset_3_classes-1_80-20-10-str/valid/labels/004388.txt  \n",
            "  inflating: /content/drive/MyDrive/my_yolov8/Conbine_dataset_3_classes-1_80-20-10-str/valid/labels/005588.txt  \n",
            "  inflating: /content/drive/MyDrive/my_yolov8/Conbine_dataset_3_classes-1_80-20-10-str/valid/labels/005786.txt  \n",
            "  inflating: /content/drive/MyDrive/my_yolov8/Conbine_dataset_3_classes-1_80-20-10-str/valid/labels/001784.txt  \n",
            "  inflating: /content/drive/MyDrive/my_yolov8/Conbine_dataset_3_classes-1_80-20-10-str/valid/labels/000712.txt  \n",
            "  inflating: /content/drive/MyDrive/my_yolov8/Conbine_dataset_3_classes-1_80-20-10-str/valid/labels/005346.txt  \n",
            "  inflating: /content/drive/MyDrive/my_yolov8/Conbine_dataset_3_classes-1_80-20-10-str/valid/labels/002159.txt  \n",
            "  inflating: /content/drive/MyDrive/my_yolov8/Conbine_dataset_3_classes-1_80-20-10-str/valid/labels/003809.txt  \n",
            "  inflating: /content/drive/MyDrive/my_yolov8/Conbine_dataset_3_classes-1_80-20-10-str/valid/labels/002738.txt  \n",
            "  inflating: /content/drive/MyDrive/my_yolov8/Conbine_dataset_3_classes-1_80-20-10-str/valid/labels/006048.txt  \n",
            "  inflating: /content/drive/MyDrive/my_yolov8/Conbine_dataset_3_classes-1_80-20-10-str/valid/labels/001681.txt  \n",
            "  inflating: /content/drive/MyDrive/my_yolov8/Conbine_dataset_3_classes-1_80-20-10-str/valid/labels/004336.txt  \n",
            "  inflating: /content/drive/MyDrive/my_yolov8/Conbine_dataset_3_classes-1_80-20-10-str/valid/labels/007208.txt  \n",
            "  inflating: /content/drive/MyDrive/my_yolov8/Conbine_dataset_3_classes-1_80-20-10-str/valid/labels/001691.txt  \n",
            "  inflating: /content/drive/MyDrive/my_yolov8/Conbine_dataset_3_classes-1_80-20-10-str/valid/labels/000979.txt  \n",
            "  inflating: /content/drive/MyDrive/my_yolov8/Conbine_dataset_3_classes-1_80-20-10-str/valid/labels/001602.txt  \n",
            "  inflating: /content/drive/MyDrive/my_yolov8/Conbine_dataset_3_classes-1_80-20-10-str/valid/labels/001235.txt  \n",
            "  inflating: /content/drive/MyDrive/my_yolov8/Conbine_dataset_3_classes-1_80-20-10-str/valid/labels/004404.txt  \n",
            "  inflating: /content/drive/MyDrive/my_yolov8/Conbine_dataset_3_classes-1_80-20-10-str/valid/labels/004389.txt  \n",
            "  inflating: /content/drive/MyDrive/my_yolov8/Conbine_dataset_3_classes-1_80-20-10-str/valid/labels/002544.txt  \n",
            "  inflating: /content/drive/MyDrive/my_yolov8/Conbine_dataset_3_classes-1_80-20-10-str/valid/labels/003237.txt  \n",
            "  inflating: /content/drive/MyDrive/my_yolov8/Conbine_dataset_3_classes-1_80-20-10-str/valid/labels/005331.txt  \n",
            "  inflating: /content/drive/MyDrive/my_yolov8/Conbine_dataset_3_classes-1_80-20-10-str/valid/labels/005640.txt  \n",
            "  inflating: /content/drive/MyDrive/my_yolov8/Conbine_dataset_3_classes-1_80-20-10-str/valid/labels/004065.txt  \n",
            "  inflating: /content/drive/MyDrive/my_yolov8/Conbine_dataset_3_classes-1_80-20-10-str/valid/labels/006507.txt  \n",
            "  inflating: /content/drive/MyDrive/my_yolov8/Conbine_dataset_3_classes-1_80-20-10-str/valid/labels/002521.txt  \n",
            "  inflating: /content/drive/MyDrive/my_yolov8/Conbine_dataset_3_classes-1_80-20-10-str/valid/labels/002345.txt  \n",
            "  inflating: /content/drive/MyDrive/my_yolov8/Conbine_dataset_3_classes-1_80-20-10-str/valid/labels/005992.txt  \n",
            "  inflating: /content/drive/MyDrive/my_yolov8/Conbine_dataset_3_classes-1_80-20-10-str/valid/labels/000505.txt  \n",
            "  inflating: /content/drive/MyDrive/my_yolov8/Conbine_dataset_3_classes-1_80-20-10-str/valid/labels/000381.txt  \n",
            "  inflating: /content/drive/MyDrive/my_yolov8/Conbine_dataset_3_classes-1_80-20-10-str/valid/labels/001625.txt  \n",
            "  inflating: /content/drive/MyDrive/my_yolov8/Conbine_dataset_3_classes-1_80-20-10-str/valid/labels/004347.txt  \n",
            "  inflating: /content/drive/MyDrive/my_yolov8/Conbine_dataset_3_classes-1_80-20-10-str/valid/labels/000328.txt  \n",
            "  inflating: /content/drive/MyDrive/my_yolov8/Conbine_dataset_3_classes-1_80-20-10-str/valid/labels/001968.txt  \n",
            "  inflating: /content/drive/MyDrive/my_yolov8/Conbine_dataset_3_classes-1_80-20-10-str/valid/labels/004649.txt  \n",
            "  inflating: /content/drive/MyDrive/my_yolov8/Conbine_dataset_3_classes-1_80-20-10-str/valid/labels/000780.txt  \n",
            "  inflating: /content/drive/MyDrive/my_yolov8/Conbine_dataset_3_classes-1_80-20-10-str/valid/labels/006882.txt  \n",
            "  inflating: /content/drive/MyDrive/my_yolov8/Conbine_dataset_3_classes-1_80-20-10-str/valid/labels/002595.txt  \n",
            "  inflating: /content/drive/MyDrive/my_yolov8/Conbine_dataset_3_classes-1_80-20-10-str/valid/labels/006997.txt  \n",
            "  inflating: /content/drive/MyDrive/my_yolov8/Conbine_dataset_3_classes-1_80-20-10-str/valid/labels/002839.txt  \n",
            "  inflating: /content/drive/MyDrive/my_yolov8/Conbine_dataset_3_classes-1_80-20-10-str/valid/labels/006995.txt  \n",
            "  inflating: /content/drive/MyDrive/my_yolov8/Conbine_dataset_3_classes-1_80-20-10-str/valid/labels/004660.txt  \n",
            "  inflating: /content/drive/MyDrive/my_yolov8/Conbine_dataset_3_classes-1_80-20-10-str/valid/labels/001219.txt  \n",
            "  inflating: /content/drive/MyDrive/my_yolov8/Conbine_dataset_3_classes-1_80-20-10-str/valid/labels/002084.txt  \n",
            "  inflating: /content/drive/MyDrive/my_yolov8/Conbine_dataset_3_classes-1_80-20-10-str/valid/labels/005141.txt  \n",
            "  inflating: /content/drive/MyDrive/my_yolov8/Conbine_dataset_3_classes-1_80-20-10-str/valid/labels/003923.txt  \n",
            "  inflating: /content/drive/MyDrive/my_yolov8/Conbine_dataset_3_classes-1_80-20-10-str/valid/labels/002624.txt  \n",
            "  inflating: /content/drive/MyDrive/my_yolov8/Conbine_dataset_3_classes-1_80-20-10-str/valid/labels/005302.txt  \n",
            "  inflating: /content/drive/MyDrive/my_yolov8/Conbine_dataset_3_classes-1_80-20-10-str/valid/labels/003859.txt  \n",
            "  inflating: /content/drive/MyDrive/my_yolov8/Conbine_dataset_3_classes-1_80-20-10-str/valid/labels/005015.txt  \n",
            "  inflating: /content/drive/MyDrive/my_yolov8/Conbine_dataset_3_classes-1_80-20-10-str/valid/labels/005176.txt  \n",
            "  inflating: /content/drive/MyDrive/my_yolov8/Conbine_dataset_3_classes-1_80-20-10-str/valid/labels/006741.txt  \n",
            "  inflating: /content/drive/MyDrive/my_yolov8/Conbine_dataset_3_classes-1_80-20-10-str/valid/labels/006988.txt  \n",
            "  inflating: /content/drive/MyDrive/my_yolov8/Conbine_dataset_3_classes-1_80-20-10-str/valid/labels/000041.txt  \n",
            "  inflating: /content/drive/MyDrive/my_yolov8/Conbine_dataset_3_classes-1_80-20-10-str/valid/labels/000750.txt  \n",
            "  inflating: /content/drive/MyDrive/my_yolov8/Conbine_dataset_3_classes-1_80-20-10-str/valid/labels/003630.txt  \n",
            "  inflating: /content/drive/MyDrive/my_yolov8/Conbine_dataset_3_classes-1_80-20-10-str/valid/labels/000076.txt  \n",
            "  inflating: /content/drive/MyDrive/my_yolov8/Conbine_dataset_3_classes-1_80-20-10-str/valid/labels/004308.txt  \n",
            "  inflating: /content/drive/MyDrive/my_yolov8/Conbine_dataset_3_classes-1_80-20-10-str/valid/labels/006343.txt  \n",
            "  inflating: /content/drive/MyDrive/my_yolov8/Conbine_dataset_3_classes-1_80-20-10-str/valid/labels/007056.txt  \n",
            "  inflating: /content/drive/MyDrive/my_yolov8/Conbine_dataset_3_classes-1_80-20-10-str/valid/labels/000961.txt  \n",
            "  inflating: /content/drive/MyDrive/my_yolov8/Conbine_dataset_3_classes-1_80-20-10-str/valid/labels/002475.txt  \n",
            "  inflating: /content/drive/MyDrive/my_yolov8/Conbine_dataset_3_classes-1_80-20-10-str/valid/labels/005709.txt  \n",
            "  inflating: /content/drive/MyDrive/my_yolov8/Conbine_dataset_3_classes-1_80-20-10-str/valid/labels/006689.txt  \n",
            "  inflating: /content/drive/MyDrive/my_yolov8/Conbine_dataset_3_classes-1_80-20-10-str/valid/labels/001443.txt  \n",
            "  inflating: /content/drive/MyDrive/my_yolov8/Conbine_dataset_3_classes-1_80-20-10-str/valid/labels/000384.txt  \n",
            "  inflating: /content/drive/MyDrive/my_yolov8/Conbine_dataset_3_classes-1_80-20-10-str/valid/labels/006706.txt  \n",
            "  inflating: /content/drive/MyDrive/my_yolov8/Conbine_dataset_3_classes-1_80-20-10-str/valid/labels/000295.txt  \n",
            "  inflating: /content/drive/MyDrive/my_yolov8/Conbine_dataset_3_classes-1_80-20-10-str/valid/labels/000429.txt  \n",
            "  inflating: /content/drive/MyDrive/my_yolov8/Conbine_dataset_3_classes-1_80-20-10-str/valid/labels/000195.txt  \n",
            "  inflating: /content/drive/MyDrive/my_yolov8/Conbine_dataset_3_classes-1_80-20-10-str/valid/labels/006540.txt  \n",
            "  inflating: /content/drive/MyDrive/my_yolov8/Conbine_dataset_3_classes-1_80-20-10-str/valid/labels/003832.txt  \n",
            "  inflating: /content/drive/MyDrive/my_yolov8/Conbine_dataset_3_classes-1_80-20-10-str/valid/labels/002970.txt  \n",
            "  inflating: /content/drive/MyDrive/my_yolov8/Conbine_dataset_3_classes-1_80-20-10-str/valid/labels/004051.txt  \n",
            "  inflating: /content/drive/MyDrive/my_yolov8/Conbine_dataset_3_classes-1_80-20-10-str/valid/labels/002729.txt  \n",
            "  inflating: /content/drive/MyDrive/my_yolov8/Conbine_dataset_3_classes-1_80-20-10-str/valid/labels/005625.txt  \n",
            "  inflating: /content/drive/MyDrive/my_yolov8/Conbine_dataset_3_classes-1_80-20-10-str/valid/labels/005749.txt  \n",
            "  inflating: /content/drive/MyDrive/my_yolov8/Conbine_dataset_3_classes-1_80-20-10-str/valid/labels/002435.txt  \n",
            "  inflating: /content/drive/MyDrive/my_yolov8/Conbine_dataset_3_classes-1_80-20-10-str/valid/labels/005188.txt  \n",
            "  inflating: /content/drive/MyDrive/my_yolov8/Conbine_dataset_3_classes-1_80-20-10-str/valid/labels/001926.txt  \n",
            "  inflating: /content/drive/MyDrive/my_yolov8/Conbine_dataset_3_classes-1_80-20-10-str/valid/labels/002317.txt  \n",
            "  inflating: /content/drive/MyDrive/my_yolov8/Conbine_dataset_3_classes-1_80-20-10-str/valid/labels/002047.txt  \n",
            "  inflating: /content/drive/MyDrive/my_yolov8/Conbine_dataset_3_classes-1_80-20-10-str/valid/labels/003880.txt  \n",
            "  inflating: /content/drive/MyDrive/my_yolov8/Conbine_dataset_3_classes-1_80-20-10-str/valid/labels/001876.txt  \n",
            "  inflating: /content/drive/MyDrive/my_yolov8/Conbine_dataset_3_classes-1_80-20-10-str/valid/labels/007152.txt  \n",
            "  inflating: /content/drive/MyDrive/my_yolov8/Conbine_dataset_3_classes-1_80-20-10-str/valid/labels/003632.txt  \n",
            "  inflating: /content/drive/MyDrive/my_yolov8/Conbine_dataset_3_classes-1_80-20-10-str/valid/labels/000859.txt  \n",
            "  inflating: /content/drive/MyDrive/my_yolov8/Conbine_dataset_3_classes-1_80-20-10-str/valid/labels/000998.txt  \n",
            "  inflating: /content/drive/MyDrive/my_yolov8/Conbine_dataset_3_classes-1_80-20-10-str/valid/labels/004860.txt  \n",
            "  inflating: /content/drive/MyDrive/my_yolov8/Conbine_dataset_3_classes-1_80-20-10-str/valid/labels/007183.txt  \n",
            "  inflating: /content/drive/MyDrive/my_yolov8/Conbine_dataset_3_classes-1_80-20-10-str/valid/labels/006071.txt  \n",
            "  inflating: /content/drive/MyDrive/my_yolov8/Conbine_dataset_3_classes-1_80-20-10-str/valid/labels/005202.txt  \n",
            "  inflating: /content/drive/MyDrive/my_yolov8/Conbine_dataset_3_classes-1_80-20-10-str/valid/labels/001324.txt  \n",
            "  inflating: /content/drive/MyDrive/my_yolov8/Conbine_dataset_3_classes-1_80-20-10-str/valid/labels/004343.txt  \n",
            "  inflating: /content/drive/MyDrive/my_yolov8/Conbine_dataset_3_classes-1_80-20-10-str/valid/labels/000168.txt  \n",
            "  inflating: /content/drive/MyDrive/my_yolov8/Conbine_dataset_3_classes-1_80-20-10-str/valid/labels/003258.txt  \n",
            "  inflating: /content/drive/MyDrive/my_yolov8/Conbine_dataset_3_classes-1_80-20-10-str/valid/labels/000110.txt  \n",
            "  inflating: /content/drive/MyDrive/my_yolov8/Conbine_dataset_3_classes-1_80-20-10-str/valid/labels/003148.txt  \n",
            "  inflating: /content/drive/MyDrive/my_yolov8/Conbine_dataset_3_classes-1_80-20-10-str/valid/labels/005614.txt  \n",
            "  inflating: /content/drive/MyDrive/my_yolov8/Conbine_dataset_3_classes-1_80-20-10-str/valid/labels/005555.txt  \n",
            "  inflating: /content/drive/MyDrive/my_yolov8/Conbine_dataset_3_classes-1_80-20-10-str/valid/labels/001277.txt  \n",
            "  inflating: /content/drive/MyDrive/my_yolov8/Conbine_dataset_3_classes-1_80-20-10-str/valid/labels/003360.txt  \n",
            "  inflating: /content/drive/MyDrive/my_yolov8/Conbine_dataset_3_classes-1_80-20-10-str/valid/labels/007252.txt  \n",
            "  inflating: /content/drive/MyDrive/my_yolov8/Conbine_dataset_3_classes-1_80-20-10-str/valid/labels/006045.txt  \n",
            "  inflating: /content/drive/MyDrive/my_yolov8/Conbine_dataset_3_classes-1_80-20-10-str/valid/labels/007151.txt  \n",
            "  inflating: /content/drive/MyDrive/my_yolov8/Conbine_dataset_3_classes-1_80-20-10-str/valid/labels/003607.txt  \n",
            "  inflating: /content/drive/MyDrive/my_yolov8/Conbine_dataset_3_classes-1_80-20-10-str/valid/labels/002071.txt  \n",
            "  inflating: /content/drive/MyDrive/my_yolov8/Conbine_dataset_3_classes-1_80-20-10-str/valid/labels/002793.txt  \n",
            "  inflating: /content/drive/MyDrive/my_yolov8/Conbine_dataset_3_classes-1_80-20-10-str/valid/labels/002373.txt  \n",
            "  inflating: /content/drive/MyDrive/my_yolov8/Conbine_dataset_3_classes-1_80-20-10-str/valid/labels/004380.txt  \n",
            "  inflating: /content/drive/MyDrive/my_yolov8/Conbine_dataset_3_classes-1_80-20-10-str/valid/labels/006223.txt  \n",
            "  inflating: /content/drive/MyDrive/my_yolov8/Conbine_dataset_3_classes-1_80-20-10-str/valid/labels/001707.txt  \n",
            "  inflating: /content/drive/MyDrive/my_yolov8/Conbine_dataset_3_classes-1_80-20-10-str/valid/labels/001713.txt  \n",
            "  inflating: /content/drive/MyDrive/my_yolov8/Conbine_dataset_3_classes-1_80-20-10-str/valid/labels/003293.txt  \n",
            "  inflating: /content/drive/MyDrive/my_yolov8/Conbine_dataset_3_classes-1_80-20-10-str/valid/labels/006736.txt  \n",
            "  inflating: /content/drive/MyDrive/my_yolov8/Conbine_dataset_3_classes-1_80-20-10-str/valid/labels/001686.txt  \n",
            "  inflating: /content/drive/MyDrive/my_yolov8/Conbine_dataset_3_classes-1_80-20-10-str/valid/labels/000307.txt  \n",
            "  inflating: /content/drive/MyDrive/my_yolov8/Conbine_dataset_3_classes-1_80-20-10-str/valid/labels/003469.txt  \n",
            "  inflating: /content/drive/MyDrive/my_yolov8/Conbine_dataset_3_classes-1_80-20-10-str/valid/labels/006039.txt  \n",
            "  inflating: /content/drive/MyDrive/my_yolov8/Conbine_dataset_3_classes-1_80-20-10-str/valid/labels/002177.txt  \n",
            "  inflating: /content/drive/MyDrive/my_yolov8/Conbine_dataset_3_classes-1_80-20-10-str/valid/labels/002193.txt  \n",
            "  inflating: /content/drive/MyDrive/my_yolov8/Conbine_dataset_3_classes-1_80-20-10-str/valid/labels/004959.txt  \n",
            "  inflating: /content/drive/MyDrive/my_yolov8/Conbine_dataset_3_classes-1_80-20-10-str/valid/labels/003722.txt  \n",
            "  inflating: /content/drive/MyDrive/my_yolov8/Conbine_dataset_3_classes-1_80-20-10-str/valid/labels/003702.txt  \n",
            "  inflating: /content/drive/MyDrive/my_yolov8/Conbine_dataset_3_classes-1_80-20-10-str/valid/labels/003028.txt  \n",
            "  inflating: /content/drive/MyDrive/my_yolov8/Conbine_dataset_3_classes-1_80-20-10-str/valid/labels/005424.txt  \n",
            "  inflating: /content/drive/MyDrive/my_yolov8/Conbine_dataset_3_classes-1_80-20-10-str/valid/labels/004606.txt  \n",
            "  inflating: /content/drive/MyDrive/my_yolov8/Conbine_dataset_3_classes-1_80-20-10-str/valid/labels/002267.txt  \n",
            "  inflating: /content/drive/MyDrive/my_yolov8/Conbine_dataset_3_classes-1_80-20-10-str/valid/labels/005656.txt  \n",
            "  inflating: /content/drive/MyDrive/my_yolov8/Conbine_dataset_3_classes-1_80-20-10-str/valid/labels/005247.txt  \n",
            "  inflating: /content/drive/MyDrive/my_yolov8/Conbine_dataset_3_classes-1_80-20-10-str/valid/labels/000877.txt  \n",
            "  inflating: /content/drive/MyDrive/my_yolov8/Conbine_dataset_3_classes-1_80-20-10-str/valid/labels/006651.txt  \n",
            "  inflating: /content/drive/MyDrive/my_yolov8/Conbine_dataset_3_classes-1_80-20-10-str/valid/labels/006483.txt  \n",
            "  inflating: /content/drive/MyDrive/my_yolov8/Conbine_dataset_3_classes-1_80-20-10-str/valid/labels/005827.txt  \n",
            "  inflating: /content/drive/MyDrive/my_yolov8/Conbine_dataset_3_classes-1_80-20-10-str/valid/labels/001454.txt  \n",
            "  inflating: /content/drive/MyDrive/my_yolov8/Conbine_dataset_3_classes-1_80-20-10-str/valid/labels/005456.txt  \n",
            "  inflating: /content/drive/MyDrive/my_yolov8/Conbine_dataset_3_classes-1_80-20-10-str/valid/labels/007002.txt  \n",
            "  inflating: /content/drive/MyDrive/my_yolov8/Conbine_dataset_3_classes-1_80-20-10-str/valid/labels/006108.txt  \n",
            "  inflating: /content/drive/MyDrive/my_yolov8/Conbine_dataset_3_classes-1_80-20-10-str/valid/labels/002003.txt  \n",
            "  inflating: /content/drive/MyDrive/my_yolov8/Conbine_dataset_3_classes-1_80-20-10-str/valid/labels/003461.txt  \n",
            "  inflating: /content/drive/MyDrive/my_yolov8/Conbine_dataset_3_classes-1_80-20-10-str/valid/labels/005101.txt  \n",
            "  inflating: /content/drive/MyDrive/my_yolov8/Conbine_dataset_3_classes-1_80-20-10-str/valid/labels/001291.txt  \n",
            "  inflating: /content/drive/MyDrive/my_yolov8/Conbine_dataset_3_classes-1_80-20-10-str/valid/labels/000894.txt  \n",
            "  inflating: /content/drive/MyDrive/my_yolov8/Conbine_dataset_3_classes-1_80-20-10-str/valid/labels/001945.txt  \n",
            "  inflating: /content/drive/MyDrive/my_yolov8/Conbine_dataset_3_classes-1_80-20-10-str/valid/labels/007009.txt  \n",
            "  inflating: /content/drive/MyDrive/my_yolov8/Conbine_dataset_3_classes-1_80-20-10-str/valid/labels/006338.txt  \n",
            "  inflating: /content/drive/MyDrive/my_yolov8/Conbine_dataset_3_classes-1_80-20-10-str/valid/labels/005966.txt  \n",
            "  inflating: /content/drive/MyDrive/my_yolov8/Conbine_dataset_3_classes-1_80-20-10-str/valid/labels/002745.txt  \n",
            "  inflating: /content/drive/MyDrive/my_yolov8/Conbine_dataset_3_classes-1_80-20-10-str/valid/labels/005951.txt  \n",
            "  inflating: /content/drive/MyDrive/my_yolov8/Conbine_dataset_3_classes-1_80-20-10-str/valid/labels/004988.txt  \n",
            "  inflating: /content/drive/MyDrive/my_yolov8/Conbine_dataset_3_classes-1_80-20-10-str/valid/labels/003981.txt  \n",
            "  inflating: /content/drive/MyDrive/my_yolov8/Conbine_dataset_3_classes-1_80-20-10-str/valid/labels/005376.txt  \n",
            "  inflating: /content/drive/MyDrive/my_yolov8/Conbine_dataset_3_classes-1_80-20-10-str/valid/labels/001139.txt  \n",
            "  inflating: /content/drive/MyDrive/my_yolov8/Conbine_dataset_3_classes-1_80-20-10-str/valid/labels/003910.txt  \n",
            "  inflating: /content/drive/MyDrive/my_yolov8/Conbine_dataset_3_classes-1_80-20-10-str/valid/labels/003688.txt  \n",
            "  inflating: /content/drive/MyDrive/my_yolov8/Conbine_dataset_3_classes-1_80-20-10-str/valid/labels/002974.txt  \n",
            "  inflating: /content/drive/MyDrive/my_yolov8/Conbine_dataset_3_classes-1_80-20-10-str/valid/labels/005276.txt  \n",
            "  inflating: /content/drive/MyDrive/my_yolov8/Conbine_dataset_3_classes-1_80-20-10-str/valid/labels/001400.txt  \n",
            "  inflating: /content/drive/MyDrive/my_yolov8/Conbine_dataset_3_classes-1_80-20-10-str/valid/labels/005300.txt  \n",
            "  inflating: /content/drive/MyDrive/my_yolov8/Conbine_dataset_3_classes-1_80-20-10-str/valid/labels/002914.txt  \n",
            "  inflating: /content/drive/MyDrive/my_yolov8/Conbine_dataset_3_classes-1_80-20-10-str/valid/labels/001265.txt  \n",
            "  inflating: /content/drive/MyDrive/my_yolov8/Conbine_dataset_3_classes-1_80-20-10-str/valid/labels/005471.txt  \n",
            "  inflating: /content/drive/MyDrive/my_yolov8/Conbine_dataset_3_classes-1_80-20-10-str/valid/labels/001748.txt  \n",
            "  inflating: /content/drive/MyDrive/my_yolov8/Conbine_dataset_3_classes-1_80-20-10-str/valid/labels/000553.txt  \n",
            "  inflating: /content/drive/MyDrive/my_yolov8/Conbine_dataset_3_classes-1_80-20-10-str/valid/labels/001506.txt  \n",
            "  inflating: /content/drive/MyDrive/my_yolov8/Conbine_dataset_3_classes-1_80-20-10-str/valid/labels/004498.txt  \n",
            "  inflating: /content/drive/MyDrive/my_yolov8/Conbine_dataset_3_classes-1_80-20-10-str/valid/labels/000678.txt  \n",
            "  inflating: /content/drive/MyDrive/my_yolov8/Conbine_dataset_3_classes-1_80-20-10-str/valid/labels/005449.txt  \n",
            "  inflating: /content/drive/MyDrive/my_yolov8/Conbine_dataset_3_classes-1_80-20-10-str/valid/labels/003848.txt  \n",
            "  inflating: /content/drive/MyDrive/my_yolov8/Conbine_dataset_3_classes-1_80-20-10-str/valid/labels/003915.txt  \n",
            "  inflating: /content/drive/MyDrive/my_yolov8/Conbine_dataset_3_classes-1_80-20-10-str/valid/labels/006137.txt  \n",
            "  inflating: /content/drive/MyDrive/my_yolov8/Conbine_dataset_3_classes-1_80-20-10-str/valid/labels/007118.txt  \n",
            "  inflating: /content/drive/MyDrive/my_yolov8/Conbine_dataset_3_classes-1_80-20-10-str/valid/labels/000087.txt  \n",
            "  inflating: /content/drive/MyDrive/my_yolov8/Conbine_dataset_3_classes-1_80-20-10-str/valid/labels/002552.txt  \n",
            "  inflating: /content/drive/MyDrive/my_yolov8/Conbine_dataset_3_classes-1_80-20-10-str/valid/labels/004737.txt  \n",
            "  inflating: /content/drive/MyDrive/my_yolov8/Conbine_dataset_3_classes-1_80-20-10-str/valid/labels/005285.txt  \n",
            "  inflating: /content/drive/MyDrive/my_yolov8/Conbine_dataset_3_classes-1_80-20-10-str/valid/labels/003475.txt  \n",
            "  inflating: /content/drive/MyDrive/my_yolov8/Conbine_dataset_3_classes-1_80-20-10-str/valid/labels/001503.txt  \n",
            "  inflating: /content/drive/MyDrive/my_yolov8/Conbine_dataset_3_classes-1_80-20-10-str/valid/labels/002180.txt  \n",
            "  inflating: /content/drive/MyDrive/my_yolov8/Conbine_dataset_3_classes-1_80-20-10-str/valid/labels/000332.txt  \n",
            "  inflating: /content/drive/MyDrive/my_yolov8/Conbine_dataset_3_classes-1_80-20-10-str/valid/labels/001853.txt  \n",
            "  inflating: /content/drive/MyDrive/my_yolov8/Conbine_dataset_3_classes-1_80-20-10-str/valid/labels/004076.txt  \n",
            "  inflating: /content/drive/MyDrive/my_yolov8/Conbine_dataset_3_classes-1_80-20-10-str/valid/labels/006922.txt  \n",
            "  inflating: /content/drive/MyDrive/my_yolov8/Conbine_dataset_3_classes-1_80-20-10-str/valid/labels/002853.txt  \n",
            "  inflating: /content/drive/MyDrive/my_yolov8/Conbine_dataset_3_classes-1_80-20-10-str/valid/labels/006329.txt  \n",
            "  inflating: /content/drive/MyDrive/my_yolov8/Conbine_dataset_3_classes-1_80-20-10-str/valid/labels/001961.txt  \n",
            "  inflating: /content/drive/MyDrive/my_yolov8/Conbine_dataset_3_classes-1_80-20-10-str/valid/labels/001781.txt  \n",
            "  inflating: /content/drive/MyDrive/my_yolov8/Conbine_dataset_3_classes-1_80-20-10-str/valid/labels/007101.txt  \n",
            "  inflating: /content/drive/MyDrive/my_yolov8/Conbine_dataset_3_classes-1_80-20-10-str/valid/labels/005851.txt  \n",
            "  inflating: /content/drive/MyDrive/my_yolov8/Conbine_dataset_3_classes-1_80-20-10-str/valid/labels/000159.txt  \n",
            "  inflating: /content/drive/MyDrive/my_yolov8/Conbine_dataset_3_classes-1_80-20-10-str/valid/labels/002320.txt  \n",
            "  inflating: /content/drive/MyDrive/my_yolov8/Conbine_dataset_3_classes-1_80-20-10-str/valid/labels/002576.txt  \n",
            "  inflating: /content/drive/MyDrive/my_yolov8/Conbine_dataset_3_classes-1_80-20-10-str/valid/labels/002770.txt  \n",
            "  inflating: /content/drive/MyDrive/my_yolov8/Conbine_dataset_3_classes-1_80-20-10-str/valid/labels/000058.txt  \n",
            "  inflating: /content/drive/MyDrive/my_yolov8/Conbine_dataset_3_classes-1_80-20-10-str/valid/labels/000133.txt  \n",
            "  inflating: /content/drive/MyDrive/my_yolov8/Conbine_dataset_3_classes-1_80-20-10-str/valid/labels/003104.txt  \n",
            "  inflating: /content/drive/MyDrive/my_yolov8/Conbine_dataset_3_classes-1_80-20-10-str/valid/labels/004429.txt  \n",
            "  inflating: /content/drive/MyDrive/my_yolov8/Conbine_dataset_3_classes-1_80-20-10-str/valid/labels/006537.txt  \n",
            "  inflating: /content/drive/MyDrive/my_yolov8/Conbine_dataset_3_classes-1_80-20-10-str/valid/labels/005166.txt  \n",
            "  inflating: /content/drive/MyDrive/my_yolov8/Conbine_dataset_3_classes-1_80-20-10-str/valid/labels/002033.txt  \n",
            "  inflating: /content/drive/MyDrive/my_yolov8/Conbine_dataset_3_classes-1_80-20-10-str/valid/labels/004667.txt  \n",
            "  inflating: /content/drive/MyDrive/my_yolov8/Conbine_dataset_3_classes-1_80-20-10-str/valid/labels/004394.txt  \n",
            "  inflating: /content/drive/MyDrive/my_yolov8/Conbine_dataset_3_classes-1_80-20-10-str/valid/labels/004488.txt  \n",
            "  inflating: /content/drive/MyDrive/my_yolov8/Conbine_dataset_3_classes-1_80-20-10-str/valid/labels/007218.txt  \n",
            "  inflating: /content/drive/MyDrive/my_yolov8/Conbine_dataset_3_classes-1_80-20-10-str/valid/labels/002126.txt  \n",
            "  inflating: /content/drive/MyDrive/my_yolov8/Conbine_dataset_3_classes-1_80-20-10-str/valid/labels/003119.txt  \n",
            "  inflating: /content/drive/MyDrive/my_yolov8/Conbine_dataset_3_classes-1_80-20-10-str/valid/labels/004956.txt  \n",
            "  inflating: /content/drive/MyDrive/my_yolov8/Conbine_dataset_3_classes-1_80-20-10-str/valid/labels/003544.txt  \n",
            "  inflating: /content/drive/MyDrive/my_yolov8/Conbine_dataset_3_classes-1_80-20-10-str/valid/labels/006061.txt  \n",
            "  inflating: /content/drive/MyDrive/my_yolov8/Conbine_dataset_3_classes-1_80-20-10-str/valid/labels/002132.txt  \n",
            "  inflating: /content/drive/MyDrive/my_yolov8/Conbine_dataset_3_classes-1_80-20-10-str/valid/labels/002078.txt  \n",
            "  inflating: /content/drive/MyDrive/my_yolov8/Conbine_dataset_3_classes-1_80-20-10-str/valid/labels/004849.txt  \n",
            "  inflating: /content/drive/MyDrive/my_yolov8/Conbine_dataset_3_classes-1_80-20-10-str/valid/labels/000451.txt  \n",
            "  inflating: /content/drive/MyDrive/my_yolov8/Conbine_dataset_3_classes-1_80-20-10-str/valid/labels/003591.txt  \n",
            "  inflating: /content/drive/MyDrive/my_yolov8/Conbine_dataset_3_classes-1_80-20-10-str/valid/labels/003782.txt  \n",
            "  inflating: /content/drive/MyDrive/my_yolov8/Conbine_dataset_3_classes-1_80-20-10-str/valid/labels/007249.txt  \n",
            "  inflating: /content/drive/MyDrive/my_yolov8/Conbine_dataset_3_classes-1_80-20-10-str/valid/labels/000900.txt  \n",
            "  inflating: /content/drive/MyDrive/my_yolov8/Conbine_dataset_3_classes-1_80-20-10-str/valid/labels/001860.txt  \n",
            "  inflating: /content/drive/MyDrive/my_yolov8/Conbine_dataset_3_classes-1_80-20-10-str/valid/labels/002592.txt  \n",
            "  inflating: /content/drive/MyDrive/my_yolov8/Conbine_dataset_3_classes-1_80-20-10-str/valid/labels/007074.txt  \n",
            "  inflating: /content/drive/MyDrive/my_yolov8/Conbine_dataset_3_classes-1_80-20-10-str/valid/labels/003494.txt  \n",
            "  inflating: /content/drive/MyDrive/my_yolov8/Conbine_dataset_3_classes-1_80-20-10-str/valid/labels/005919.txt  \n",
            "  inflating: /content/drive/MyDrive/my_yolov8/Conbine_dataset_3_classes-1_80-20-10-str/valid/labels/004000.txt  \n",
            "  inflating: /content/drive/MyDrive/my_yolov8/Conbine_dataset_3_classes-1_80-20-10-str/valid/labels/001831.txt  \n",
            "  inflating: /content/drive/MyDrive/my_yolov8/Conbine_dataset_3_classes-1_80-20-10-str/valid/labels/003913.txt  \n",
            "  inflating: /content/drive/MyDrive/my_yolov8/Conbine_dataset_3_classes-1_80-20-10-str/valid/labels/000758.txt  \n",
            "  inflating: /content/drive/MyDrive/my_yolov8/Conbine_dataset_3_classes-1_80-20-10-str/valid/labels/006605.txt  \n",
            "  inflating: /content/drive/MyDrive/my_yolov8/Conbine_dataset_3_classes-1_80-20-10-str/valid/labels/000605.txt  \n",
            "  inflating: /content/drive/MyDrive/my_yolov8/Conbine_dataset_3_classes-1_80-20-10-str/valid/labels/000577.txt  \n",
            "  inflating: /content/drive/MyDrive/my_yolov8/Conbine_dataset_3_classes-1_80-20-10-str/valid/labels/000395.txt  \n",
            "  inflating: /content/drive/MyDrive/my_yolov8/Conbine_dataset_3_classes-1_80-20-10-str/valid/labels/000853.txt  \n",
            "  inflating: /content/drive/MyDrive/my_yolov8/Conbine_dataset_3_classes-1_80-20-10-str/valid/labels/000435.txt  \n",
            "  inflating: /content/drive/MyDrive/my_yolov8/Conbine_dataset_3_classes-1_80-20-10-str/valid/labels/000193.txt  \n",
            "  inflating: /content/drive/MyDrive/my_yolov8/Conbine_dataset_3_classes-1_80-20-10-str/valid/labels/006710.txt  \n",
            "  inflating: /content/drive/MyDrive/my_yolov8/Conbine_dataset_3_classes-1_80-20-10-str/valid/labels/001711.txt  \n",
            "  inflating: /content/drive/MyDrive/my_yolov8/Conbine_dataset_3_classes-1_80-20-10-str/valid/labels/005804.txt  \n",
            "  inflating: /content/drive/MyDrive/my_yolov8/Conbine_dataset_3_classes-1_80-20-10-str/valid/labels/003750.txt  \n",
            "  inflating: /content/drive/MyDrive/my_yolov8/Conbine_dataset_3_classes-1_80-20-10-str/valid/labels/005548.txt  \n",
            "  inflating: /content/drive/MyDrive/my_yolov8/Conbine_dataset_3_classes-1_80-20-10-str/valid/labels/003575.txt  \n",
            "  inflating: /content/drive/MyDrive/my_yolov8/Conbine_dataset_3_classes-1_80-20-10-str/valid/labels/004476.txt  \n",
            "  inflating: /content/drive/MyDrive/my_yolov8/Conbine_dataset_3_classes-1_80-20-10-str/valid/labels/003374.txt  \n",
            "  inflating: /content/drive/MyDrive/my_yolov8/Conbine_dataset_3_classes-1_80-20-10-str/valid/labels/001901.txt  \n",
            "  inflating: /content/drive/MyDrive/my_yolov8/Conbine_dataset_3_classes-1_80-20-10-str/valid/labels/006977.txt  \n",
            "  inflating: /content/drive/MyDrive/my_yolov8/Conbine_dataset_3_classes-1_80-20-10-str/valid/labels/002503.txt  \n",
            "  inflating: /content/drive/MyDrive/my_yolov8/Conbine_dataset_3_classes-1_80-20-10-str/valid/labels/006072.txt  \n",
            "  inflating: /content/drive/MyDrive/my_yolov8/Conbine_dataset_3_classes-1_80-20-10-str/valid/labels/006797.txt  \n",
            "  inflating: /content/drive/MyDrive/my_yolov8/Conbine_dataset_3_classes-1_80-20-10-str/valid/labels/004452.txt  \n",
            "  inflating: /content/drive/MyDrive/my_yolov8/Conbine_dataset_3_classes-1_80-20-10-str/valid/labels/000855.txt  \n",
            "  inflating: /content/drive/MyDrive/my_yolov8/Conbine_dataset_3_classes-1_80-20-10-str/valid/labels/002748.txt  \n",
            "  inflating: /content/drive/MyDrive/my_yolov8/Conbine_dataset_3_classes-1_80-20-10-str/valid/labels/005691.txt  \n",
            "  inflating: /content/drive/MyDrive/my_yolov8/Conbine_dataset_3_classes-1_80-20-10-str/valid/labels/001385.txt  \n",
            "  inflating: /content/drive/MyDrive/my_yolov8/Conbine_dataset_3_classes-1_80-20-10-str/valid/labels/005515.txt  \n",
            "  inflating: /content/drive/MyDrive/my_yolov8/Conbine_dataset_3_classes-1_80-20-10-str/valid/labels/004645.txt  \n",
            "  inflating: /content/drive/MyDrive/my_yolov8/Conbine_dataset_3_classes-1_80-20-10-str/valid/labels/002141.txt  \n",
            "  inflating: /content/drive/MyDrive/my_yolov8/Conbine_dataset_3_classes-1_80-20-10-str/valid/labels/005062.txt  \n",
            "  inflating: /content/drive/MyDrive/my_yolov8/Conbine_dataset_3_classes-1_80-20-10-str/valid/labels/003703.txt  \n",
            "  inflating: /content/drive/MyDrive/my_yolov8/Conbine_dataset_3_classes-1_80-20-10-str/valid/labels/004301.txt  \n",
            "  inflating: /content/drive/MyDrive/my_yolov8/Conbine_dataset_3_classes-1_80-20-10-str/valid/labels/003064.txt  \n",
            "  inflating: /content/drive/MyDrive/my_yolov8/Conbine_dataset_3_classes-1_80-20-10-str/valid/labels/001556.txt  \n",
            "  inflating: /content/drive/MyDrive/my_yolov8/Conbine_dataset_3_classes-1_80-20-10-str/valid/labels/006952.txt  \n",
            "  inflating: /content/drive/MyDrive/my_yolov8/Conbine_dataset_3_classes-1_80-20-10-str/valid/labels/001000.txt  \n",
            "  inflating: /content/drive/MyDrive/my_yolov8/Conbine_dataset_3_classes-1_80-20-10-str/valid/labels/006053.txt  \n",
            "  inflating: /content/drive/MyDrive/my_yolov8/Conbine_dataset_3_classes-1_80-20-10-str/valid/labels/001900.txt  \n",
            "  inflating: /content/drive/MyDrive/my_yolov8/Conbine_dataset_3_classes-1_80-20-10-str/valid/labels/005307.txt  \n",
            "  inflating: /content/drive/MyDrive/my_yolov8/Conbine_dataset_3_classes-1_80-20-10-str/valid/labels/003181.txt  \n",
            "  inflating: /content/drive/MyDrive/my_yolov8/Conbine_dataset_3_classes-1_80-20-10-str/valid/labels/007110.txt  \n",
            "  inflating: /content/drive/MyDrive/my_yolov8/Conbine_dataset_3_classes-1_80-20-10-str/valid/labels/002889.txt  \n",
            "  inflating: /content/drive/MyDrive/my_yolov8/Conbine_dataset_3_classes-1_80-20-10-str/valid/labels/005384.txt  \n",
            "  inflating: /content/drive/MyDrive/my_yolov8/Conbine_dataset_3_classes-1_80-20-10-str/valid/labels/005473.txt  \n",
            "  inflating: /content/drive/MyDrive/my_yolov8/Conbine_dataset_3_classes-1_80-20-10-str/valid/labels/002530.txt  \n",
            "  inflating: /content/drive/MyDrive/my_yolov8/Conbine_dataset_3_classes-1_80-20-10-str/valid/labels/004576.txt  \n",
            "  inflating: /content/drive/MyDrive/my_yolov8/Conbine_dataset_3_classes-1_80-20-10-str/valid/labels/003576.txt  \n",
            "  inflating: /content/drive/MyDrive/my_yolov8/Conbine_dataset_3_classes-1_80-20-10-str/valid/labels/004958.txt  \n",
            "  inflating: /content/drive/MyDrive/my_yolov8/Conbine_dataset_3_classes-1_80-20-10-str/valid/labels/001558.txt  \n",
            "  inflating: /content/drive/MyDrive/my_yolov8/Conbine_dataset_3_classes-1_80-20-10-str/valid/labels/003597.txt  \n",
            "  inflating: /content/drive/MyDrive/my_yolov8/Conbine_dataset_3_classes-1_80-20-10-str/valid/labels/001437.txt  \n",
            "  inflating: /content/drive/MyDrive/my_yolov8/Conbine_dataset_3_classes-1_80-20-10-str/valid/labels/003259.txt  \n",
            "  inflating: /content/drive/MyDrive/my_yolov8/Conbine_dataset_3_classes-1_80-20-10-str/valid/labels/004106.txt  \n",
            "  inflating: /content/drive/MyDrive/my_yolov8/Conbine_dataset_3_classes-1_80-20-10-str/valid/labels/000745.txt  \n",
            "  inflating: /content/drive/MyDrive/my_yolov8/Conbine_dataset_3_classes-1_80-20-10-str/valid/labels/004707.txt  \n",
            "  inflating: /content/drive/MyDrive/my_yolov8/Conbine_dataset_3_classes-1_80-20-10-str/valid/labels/006432.txt  \n",
            "  inflating: /content/drive/MyDrive/my_yolov8/Conbine_dataset_3_classes-1_80-20-10-str/valid/labels/003919.txt  \n",
            "  inflating: /content/drive/MyDrive/my_yolov8/Conbine_dataset_3_classes-1_80-20-10-str/valid/labels/002450.txt  \n",
            "  inflating: /content/drive/MyDrive/my_yolov8/Conbine_dataset_3_classes-1_80-20-10-str/valid/labels/002915.txt  \n",
            "  inflating: /content/drive/MyDrive/my_yolov8/Conbine_dataset_3_classes-1_80-20-10-str/valid/labels/005236.txt  \n",
            "  inflating: /content/drive/MyDrive/my_yolov8/Conbine_dataset_3_classes-1_80-20-10-str/valid/labels/002313.txt  \n",
            "  inflating: /content/drive/MyDrive/my_yolov8/Conbine_dataset_3_classes-1_80-20-10-str/valid/labels/000607.txt  \n",
            "  inflating: /content/drive/MyDrive/my_yolov8/Conbine_dataset_3_classes-1_80-20-10-str/valid/labels/005224.txt  \n",
            "  inflating: /content/drive/MyDrive/my_yolov8/Conbine_dataset_3_classes-1_80-20-10-str/valid/labels/007105.txt  \n",
            "  inflating: /content/drive/MyDrive/my_yolov8/Conbine_dataset_3_classes-1_80-20-10-str/valid/labels/000581.txt  \n",
            "  inflating: /content/drive/MyDrive/my_yolov8/Conbine_dataset_3_classes-1_80-20-10-str/valid/labels/006758.txt  \n",
            "  inflating: /content/drive/MyDrive/my_yolov8/Conbine_dataset_3_classes-1_80-20-10-str/valid/labels/004704.txt  \n",
            "  inflating: /content/drive/MyDrive/my_yolov8/Conbine_dataset_3_classes-1_80-20-10-str/valid/labels/000477.txt  \n",
            "  inflating: /content/drive/MyDrive/my_yolov8/Conbine_dataset_3_classes-1_80-20-10-str/valid/labels/002441.txt  \n",
            "  inflating: /content/drive/MyDrive/my_yolov8/Conbine_dataset_3_classes-1_80-20-10-str/valid/labels/002036.txt  \n",
            "  inflating: /content/drive/MyDrive/my_yolov8/Conbine_dataset_3_classes-1_80-20-10-str/valid/labels/000765.txt  \n",
            "  inflating: /content/drive/MyDrive/my_yolov8/Conbine_dataset_3_classes-1_80-20-10-str/valid/labels/001117.txt  \n",
            "  inflating: /content/drive/MyDrive/my_yolov8/Conbine_dataset_3_classes-1_80-20-10-str/valid/labels/002888.txt  \n",
            "  inflating: /content/drive/MyDrive/my_yolov8/Conbine_dataset_3_classes-1_80-20-10-str/valid/labels/001928.txt  \n",
            "  inflating: /content/drive/MyDrive/my_yolov8/Conbine_dataset_3_classes-1_80-20-10-str/valid/labels/006123.txt  \n",
            "  inflating: /content/drive/MyDrive/my_yolov8/Conbine_dataset_3_classes-1_80-20-10-str/valid/labels/006951.txt  \n",
            "  inflating: /content/drive/MyDrive/my_yolov8/Conbine_dataset_3_classes-1_80-20-10-str/valid/labels/004289.txt  \n",
            "  inflating: /content/drive/MyDrive/my_yolov8/Conbine_dataset_3_classes-1_80-20-10-str/valid/labels/006228.txt  \n",
            "  inflating: /content/drive/MyDrive/my_yolov8/Conbine_dataset_3_classes-1_80-20-10-str/valid/labels/001672.txt  \n",
            "  inflating: /content/drive/MyDrive/my_yolov8/Conbine_dataset_3_classes-1_80-20-10-str/valid/labels/005561.txt  \n",
            "  inflating: /content/drive/MyDrive/my_yolov8/Conbine_dataset_3_classes-1_80-20-10-str/valid/labels/000015.txt  \n",
            "  inflating: /content/drive/MyDrive/my_yolov8/Conbine_dataset_3_classes-1_80-20-10-str/valid/labels/003397.txt  \n",
            "  inflating: /content/drive/MyDrive/my_yolov8/Conbine_dataset_3_classes-1_80-20-10-str/valid/labels/004203.txt  \n",
            "  inflating: /content/drive/MyDrive/my_yolov8/Conbine_dataset_3_classes-1_80-20-10-str/valid/labels/006510.txt  \n",
            "  inflating: /content/drive/MyDrive/my_yolov8/Conbine_dataset_3_classes-1_80-20-10-str/valid/labels/002421.txt  \n",
            "  inflating: /content/drive/MyDrive/my_yolov8/Conbine_dataset_3_classes-1_80-20-10-str/valid/labels/000301.txt  \n",
            "  inflating: /content/drive/MyDrive/my_yolov8/Conbine_dataset_3_classes-1_80-20-10-str/valid/labels/001491.txt  \n",
            "  inflating: /content/drive/MyDrive/my_yolov8/Conbine_dataset_3_classes-1_80-20-10-str/valid/labels/005820.txt  \n",
            "  inflating: /content/drive/MyDrive/my_yolov8/Conbine_dataset_3_classes-1_80-20-10-str/valid/labels/001336.txt  \n",
            "  inflating: /content/drive/MyDrive/my_yolov8/Conbine_dataset_3_classes-1_80-20-10-str/valid/labels/004060.txt  \n",
            "  inflating: /content/drive/MyDrive/my_yolov8/Conbine_dataset_3_classes-1_80-20-10-str/valid/labels/004471.txt  \n",
            "  inflating: /content/drive/MyDrive/my_yolov8/Conbine_dataset_3_classes-1_80-20-10-str/valid/labels/003531.txt  \n",
            "  inflating: /content/drive/MyDrive/my_yolov8/Conbine_dataset_3_classes-1_80-20-10-str/valid/labels/002355.txt  \n",
            "  inflating: /content/drive/MyDrive/my_yolov8/Conbine_dataset_3_classes-1_80-20-10-str/valid/labels/005797.txt  \n",
            "  inflating: /content/drive/MyDrive/my_yolov8/Conbine_dataset_3_classes-1_80-20-10-str/valid/labels/003658.txt  \n",
            "  inflating: /content/drive/MyDrive/my_yolov8/Conbine_dataset_3_classes-1_80-20-10-str/valid/labels/001201.txt  \n",
            "  inflating: /content/drive/MyDrive/my_yolov8/Conbine_dataset_3_classes-1_80-20-10-str/valid/labels/002605.txt  \n",
            "  inflating: /content/drive/MyDrive/my_yolov8/Conbine_dataset_3_classes-1_80-20-10-str/valid/labels/003877.txt  \n",
            "  inflating: /content/drive/MyDrive/my_yolov8/Conbine_dataset_3_classes-1_80-20-10-str/valid/labels/004397.txt  \n",
            "  inflating: /content/drive/MyDrive/my_yolov8/Conbine_dataset_3_classes-1_80-20-10-str/valid/labels/004530.txt  \n",
            "  inflating: /content/drive/MyDrive/my_yolov8/Conbine_dataset_3_classes-1_80-20-10-str/valid/labels/004833.txt  \n",
            "  inflating: /content/drive/MyDrive/my_yolov8/Conbine_dataset_3_classes-1_80-20-10-str/valid/labels/002674.txt  \n",
            "  inflating: /content/drive/MyDrive/my_yolov8/Conbine_dataset_3_classes-1_80-20-10-str/valid/labels/004029.txt  \n",
            "  inflating: /content/drive/MyDrive/my_yolov8/Conbine_dataset_3_classes-1_80-20-10-str/valid/labels/003059.txt  \n",
            "  inflating: /content/drive/MyDrive/my_yolov8/Conbine_dataset_3_classes-1_80-20-10-str/valid/labels/002049.txt  \n",
            "  inflating: /content/drive/MyDrive/my_yolov8/Conbine_dataset_3_classes-1_80-20-10-str/valid/labels/007247.txt  \n",
            "  inflating: /content/drive/MyDrive/my_yolov8/Conbine_dataset_3_classes-1_80-20-10-str/valid/labels/006246.txt  \n",
            "  inflating: /content/drive/MyDrive/my_yolov8/Conbine_dataset_3_classes-1_80-20-10-str/valid/labels/003648.txt  \n",
            "  inflating: /content/drive/MyDrive/my_yolov8/Conbine_dataset_3_classes-1_80-20-10-str/valid/labels/007112.txt  \n",
            "  inflating: /content/drive/MyDrive/my_yolov8/Conbine_dataset_3_classes-1_80-20-10-str/valid/labels/006912.txt  \n",
            "  inflating: /content/drive/MyDrive/my_yolov8/Conbine_dataset_3_classes-1_80-20-10-str/valid/labels/003535.txt  \n",
            "  inflating: /content/drive/MyDrive/my_yolov8/Conbine_dataset_3_classes-1_80-20-10-str/valid/labels/000436.txt  \n",
            "  inflating: /content/drive/MyDrive/my_yolov8/Conbine_dataset_3_classes-1_80-20-10-str/valid/labels/006268.txt  \n",
            "  inflating: /content/drive/MyDrive/my_yolov8/Conbine_dataset_3_classes-1_80-20-10-str/valid/labels/001286.txt  \n",
            "  inflating: /content/drive/MyDrive/my_yolov8/Conbine_dataset_3_classes-1_80-20-10-str/valid/labels/002292.txt  \n",
            "  inflating: /content/drive/MyDrive/my_yolov8/Conbine_dataset_3_classes-1_80-20-10-str/valid/labels/003501.txt  \n",
            "  inflating: /content/drive/MyDrive/my_yolov8/Conbine_dataset_3_classes-1_80-20-10-str/valid/labels/007212.txt  \n",
            "  inflating: /content/drive/MyDrive/my_yolov8/Conbine_dataset_3_classes-1_80-20-10-str/valid/labels/003264.txt  \n",
            "  inflating: /content/drive/MyDrive/my_yolov8/Conbine_dataset_3_classes-1_80-20-10-str/valid/labels/003673.txt  \n",
            "  inflating: /content/drive/MyDrive/my_yolov8/Conbine_dataset_3_classes-1_80-20-10-str/valid/labels/000752.txt  \n",
            "  inflating: /content/drive/MyDrive/my_yolov8/Conbine_dataset_3_classes-1_80-20-10-str/valid/labels/003413.txt  \n",
            "  inflating: /content/drive/MyDrive/my_yolov8/Conbine_dataset_3_classes-1_80-20-10-str/valid/labels/000091.txt  \n",
            "  inflating: /content/drive/MyDrive/my_yolov8/Conbine_dataset_3_classes-1_80-20-10-str/valid/labels/004054.txt  \n",
            "  inflating: /content/drive/MyDrive/my_yolov8/Conbine_dataset_3_classes-1_80-20-10-str/valid/labels/007177.txt  \n",
            "  inflating: /content/drive/MyDrive/my_yolov8/Conbine_dataset_3_classes-1_80-20-10-str/valid/labels/003655.txt  \n",
            "  inflating: /content/drive/MyDrive/my_yolov8/Conbine_dataset_3_classes-1_80-20-10-str/valid/labels/004333.txt  \n",
            "  inflating: /content/drive/MyDrive/my_yolov8/Conbine_dataset_3_classes-1_80-20-10-str/valid/labels/002764.txt  \n",
            "  inflating: /content/drive/MyDrive/my_yolov8/Conbine_dataset_3_classes-1_80-20-10-str/valid/labels/001097.txt  \n",
            "  inflating: /content/drive/MyDrive/my_yolov8/Conbine_dataset_3_classes-1_80-20-10-str/valid/labels/005448.txt  \n",
            "  inflating: /content/drive/MyDrive/my_yolov8/Conbine_dataset_3_classes-1_80-20-10-str/valid/labels/005551.txt  \n",
            "  inflating: /content/drive/MyDrive/my_yolov8/Conbine_dataset_3_classes-1_80-20-10-str/valid/labels/006773.txt  \n",
            "  inflating: /content/drive/MyDrive/my_yolov8/Conbine_dataset_3_classes-1_80-20-10-str/valid/labels/004552.txt  \n",
            "  inflating: /content/drive/MyDrive/my_yolov8/Conbine_dataset_3_classes-1_80-20-10-str/valid/labels/003922.txt  \n",
            "  inflating: /content/drive/MyDrive/my_yolov8/Conbine_dataset_3_classes-1_80-20-10-str/valid/labels/005784.txt  \n",
            "  inflating: /content/drive/MyDrive/my_yolov8/Conbine_dataset_3_classes-1_80-20-10-str/valid/labels/000845.txt  \n",
            "  inflating: /content/drive/MyDrive/my_yolov8/Conbine_dataset_3_classes-1_80-20-10-str/valid/labels/000566.txt  \n",
            "  inflating: /content/drive/MyDrive/my_yolov8/Conbine_dataset_3_classes-1_80-20-10-str/valid/labels/005172.txt  \n",
            "  inflating: /content/drive/MyDrive/my_yolov8/Conbine_dataset_3_classes-1_80-20-10-str/valid/labels/002868.txt  \n",
            "  inflating: /content/drive/MyDrive/my_yolov8/Conbine_dataset_3_classes-1_80-20-10-str/valid/labels/006961.txt  \n",
            "  inflating: /content/drive/MyDrive/my_yolov8/Conbine_dataset_3_classes-1_80-20-10-str/valid/labels/006475.txt  \n",
            "  inflating: /content/drive/MyDrive/my_yolov8/Conbine_dataset_3_classes-1_80-20-10-str/valid/labels/006201.txt  \n",
            "  inflating: /content/drive/MyDrive/my_yolov8/Conbine_dataset_3_classes-1_80-20-10-str/valid/labels/002603.txt  \n",
            "  inflating: /content/drive/MyDrive/my_yolov8/Conbine_dataset_3_classes-1_80-20-10-str/valid/labels/002907.txt  \n",
            "  inflating: /content/drive/MyDrive/my_yolov8/Conbine_dataset_3_classes-1_80-20-10-str/valid/labels/006289.txt  \n",
            "  inflating: /content/drive/MyDrive/my_yolov8/Conbine_dataset_3_classes-1_80-20-10-str/valid/labels/004206.txt  \n",
            "  inflating: /content/drive/MyDrive/my_yolov8/Conbine_dataset_3_classes-1_80-20-10-str/valid/labels/000086.txt  \n",
            "  inflating: /content/drive/MyDrive/my_yolov8/Conbine_dataset_3_classes-1_80-20-10-str/valid/labels/000095.txt  \n",
            "  inflating: /content/drive/MyDrive/my_yolov8/Conbine_dataset_3_classes-1_80-20-10-str/valid/labels/002713.txt  \n",
            "  inflating: /content/drive/MyDrive/my_yolov8/Conbine_dataset_3_classes-1_80-20-10-str/valid/labels/001561.txt  \n",
            "  inflating: /content/drive/MyDrive/my_yolov8/Conbine_dataset_3_classes-1_80-20-10-str/valid/labels/006547.txt  \n",
            "  inflating: /content/drive/MyDrive/my_yolov8/Conbine_dataset_3_classes-1_80-20-10-str/valid/labels/003432.txt  \n",
            "  inflating: /content/drive/MyDrive/my_yolov8/Conbine_dataset_3_classes-1_80-20-10-str/valid/labels/005825.txt  \n",
            "  inflating: /content/drive/MyDrive/my_yolov8/Conbine_dataset_3_classes-1_80-20-10-str/valid/labels/001888.txt  \n",
            "  inflating: /content/drive/MyDrive/my_yolov8/Conbine_dataset_3_classes-1_80-20-10-str/valid/labels/005881.txt  \n",
            "  inflating: /content/drive/MyDrive/my_yolov8/Conbine_dataset_3_classes-1_80-20-10-str/valid/labels/001505.txt  \n",
            "  inflating: /content/drive/MyDrive/my_yolov8/Conbine_dataset_3_classes-1_80-20-10-str/valid/labels/004227.txt  \n",
            "  inflating: /content/drive/MyDrive/my_yolov8/Conbine_dataset_3_classes-1_80-20-10-str/valid/labels/000875.txt  \n",
            "  inflating: /content/drive/MyDrive/my_yolov8/Conbine_dataset_3_classes-1_80-20-10-str/valid/labels/003447.txt  \n",
            "  inflating: /content/drive/MyDrive/my_yolov8/Conbine_dataset_3_classes-1_80-20-10-str/valid/labels/001179.txt  \n",
            "  inflating: /content/drive/MyDrive/my_yolov8/Conbine_dataset_3_classes-1_80-20-10-str/valid/labels/004044.txt  \n",
            "  inflating: /content/drive/MyDrive/my_yolov8/Conbine_dataset_3_classes-1_80-20-10-str/valid/labels/003523.txt  \n",
            "  inflating: /content/drive/MyDrive/my_yolov8/Conbine_dataset_3_classes-1_80-20-10-str/valid/labels/006919.txt  \n",
            "  inflating: /content/drive/MyDrive/my_yolov8/Conbine_dataset_3_classes-1_80-20-10-str/valid/labels/003553.txt  \n",
            "  inflating: /content/drive/MyDrive/my_yolov8/Conbine_dataset_3_classes-1_80-20-10-str/valid/labels/002263.txt  \n",
            "  inflating: /content/drive/MyDrive/my_yolov8/Conbine_dataset_3_classes-1_80-20-10-str/valid/labels/004651.txt  \n",
            "  inflating: /content/drive/MyDrive/my_yolov8/Conbine_dataset_3_classes-1_80-20-10-str/valid/labels/004775.txt  \n",
            "  inflating: /content/drive/MyDrive/my_yolov8/Conbine_dataset_3_classes-1_80-20-10-str/valid/labels/000695.txt  \n",
            "  inflating: /content/drive/MyDrive/my_yolov8/Conbine_dataset_3_classes-1_80-20-10-str/valid/labels/003235.txt  \n",
            "  inflating: /content/drive/MyDrive/my_yolov8/Conbine_dataset_3_classes-1_80-20-10-str/valid/labels/000145.txt  \n",
            "  inflating: /content/drive/MyDrive/my_yolov8/Conbine_dataset_3_classes-1_80-20-10-str/valid/labels/000361.txt  \n",
            "  inflating: /content/drive/MyDrive/my_yolov8/Conbine_dataset_3_classes-1_80-20-10-str/valid/labels/006818.txt  \n",
            "  inflating: /content/drive/MyDrive/my_yolov8/Conbine_dataset_3_classes-1_80-20-10-str/valid/labels/003457.txt  \n",
            "  inflating: /content/drive/MyDrive/my_yolov8/Conbine_dataset_3_classes-1_80-20-10-str/valid/labels/003131.txt  \n",
            "  inflating: /content/drive/MyDrive/my_yolov8/Conbine_dataset_3_classes-1_80-20-10-str/valid/labels/004601.txt  \n",
            "  inflating: /content/drive/MyDrive/my_yolov8/Conbine_dataset_3_classes-1_80-20-10-str/valid/labels/002792.txt  \n",
            "  inflating: /content/drive/MyDrive/my_yolov8/Conbine_dataset_3_classes-1_80-20-10-str/valid/labels/001904.txt  \n",
            "  inflating: /content/drive/MyDrive/my_yolov8/Conbine_dataset_3_classes-1_80-20-10-str/valid/labels/001640.txt  \n",
            "  inflating: /content/drive/MyDrive/my_yolov8/Conbine_dataset_3_classes-1_80-20-10-str/valid/labels/004034.txt  \n",
            "  inflating: /content/drive/MyDrive/my_yolov8/Conbine_dataset_3_classes-1_80-20-10-str/valid/labels/001383.txt  \n",
            "  inflating: /content/drive/MyDrive/my_yolov8/Conbine_dataset_3_classes-1_80-20-10-str/valid/labels/001036.txt  \n",
            "  inflating: /content/drive/MyDrive/my_yolov8/Conbine_dataset_3_classes-1_80-20-10-str/valid/labels/005322.txt  \n",
            "  inflating: /content/drive/MyDrive/my_yolov8/Conbine_dataset_3_classes-1_80-20-10-str/valid/labels/001851.txt  \n",
            "  inflating: /content/drive/MyDrive/my_yolov8/Conbine_dataset_3_classes-1_80-20-10-str/valid/labels/004383.txt  \n",
            "  inflating: /content/drive/MyDrive/my_yolov8/Conbine_dataset_3_classes-1_80-20-10-str/valid/labels/003410.txt  \n",
            "  inflating: /content/drive/MyDrive/my_yolov8/Conbine_dataset_3_classes-1_80-20-10-str/valid/labels/007202.txt  \n",
            "  inflating: /content/drive/MyDrive/my_yolov8/Conbine_dataset_3_classes-1_80-20-10-str/valid/labels/006721.txt  \n",
            "  inflating: /content/drive/MyDrive/my_yolov8/Conbine_dataset_3_classes-1_80-20-10-str/valid/labels/002556.txt  \n",
            "  inflating: /content/drive/MyDrive/my_yolov8/Conbine_dataset_3_classes-1_80-20-10-str/valid/labels/002124.txt  \n",
            "  inflating: /content/drive/MyDrive/my_yolov8/Conbine_dataset_3_classes-1_80-20-10-str/valid/labels/004969.txt  \n",
            "  inflating: /content/drive/MyDrive/my_yolov8/Conbine_dataset_3_classes-1_80-20-10-str/valid/labels/006753.txt  \n",
            "  inflating: /content/drive/MyDrive/my_yolov8/Conbine_dataset_3_classes-1_80-20-10-str/valid/labels/000093.txt  \n",
            "  inflating: /content/drive/MyDrive/my_yolov8/Conbine_dataset_3_classes-1_80-20-10-str/valid/labels/003602.txt  \n",
            "  inflating: /content/drive/MyDrive/my_yolov8/Conbine_dataset_3_classes-1_80-20-10-str/valid/labels/000445.txt  \n",
            "  inflating: /content/drive/MyDrive/my_yolov8/Conbine_dataset_3_classes-1_80-20-10-str/valid/labels/004771.txt  \n",
            "  inflating: /content/drive/MyDrive/my_yolov8/Conbine_dataset_3_classes-1_80-20-10-str/valid/labels/004919.txt  \n",
            "  inflating: /content/drive/MyDrive/my_yolov8/Conbine_dataset_3_classes-1_80-20-10-str/valid/labels/003032.txt  \n",
            "  inflating: /content/drive/MyDrive/my_yolov8/Conbine_dataset_3_classes-1_80-20-10-str/valid/labels/000536.txt  \n",
            "  inflating: /content/drive/MyDrive/my_yolov8/Conbine_dataset_3_classes-1_80-20-10-str/valid/labels/006402.txt  \n",
            "  inflating: /content/drive/MyDrive/my_yolov8/Conbine_dataset_3_classes-1_80-20-10-str/valid/labels/005556.txt  \n",
            "  inflating: /content/drive/MyDrive/my_yolov8/Conbine_dataset_3_classes-1_80-20-10-str/valid/labels/005671.txt  \n",
            "  inflating: /content/drive/MyDrive/my_yolov8/Conbine_dataset_3_classes-1_80-20-10-str/valid/labels/001867.txt  \n",
            "  inflating: /content/drive/MyDrive/my_yolov8/Conbine_dataset_3_classes-1_80-20-10-str/valid/labels/004349.txt  \n",
            "  inflating: /content/drive/MyDrive/my_yolov8/Conbine_dataset_3_classes-1_80-20-10-str/valid/labels/002721.txt  \n",
            "  inflating: /content/drive/MyDrive/my_yolov8/Conbine_dataset_3_classes-1_80-20-10-str/valid/labels/003667.txt  \n",
            "  inflating: /content/drive/MyDrive/my_yolov8/Conbine_dataset_3_classes-1_80-20-10-str/valid/labels/002594.txt  \n",
            "  inflating: /content/drive/MyDrive/my_yolov8/Conbine_dataset_3_classes-1_80-20-10-str/valid/labels/003498.txt  \n",
            "  inflating: /content/drive/MyDrive/my_yolov8/Conbine_dataset_3_classes-1_80-20-10-str/valid/labels/003333.txt  \n",
            "  inflating: /content/drive/MyDrive/my_yolov8/Conbine_dataset_3_classes-1_80-20-10-str/valid/labels/004691.txt  \n",
            "  inflating: /content/drive/MyDrive/my_yolov8/Conbine_dataset_3_classes-1_80-20-10-str/valid/labels/003572.txt  \n",
            "  inflating: /content/drive/MyDrive/my_yolov8/Conbine_dataset_3_classes-1_80-20-10-str/valid/labels/000303.txt  \n",
            "  inflating: /content/drive/MyDrive/my_yolov8/Conbine_dataset_3_classes-1_80-20-10-str/valid/labels/001810.txt  \n",
            "  inflating: /content/drive/MyDrive/my_yolov8/Conbine_dataset_3_classes-1_80-20-10-str/valid/labels/000208.txt  \n",
            "  inflating: /content/drive/MyDrive/my_yolov8/Conbine_dataset_3_classes-1_80-20-10-str/valid/labels/006656.txt  \n",
            "  inflating: /content/drive/MyDrive/my_yolov8/Conbine_dataset_3_classes-1_80-20-10-str/valid/labels/002558.txt  \n",
            "  inflating: /content/drive/MyDrive/my_yolov8/Conbine_dataset_3_classes-1_80-20-10-str/valid/labels/004374.txt  \n",
            "  inflating: /content/drive/MyDrive/my_yolov8/Conbine_dataset_3_classes-1_80-20-10-str/valid/labels/004748.txt  \n",
            "  inflating: /content/drive/MyDrive/my_yolov8/Conbine_dataset_3_classes-1_80-20-10-str/valid/labels/001245.txt  \n",
            "  inflating: /content/drive/MyDrive/my_yolov8/Conbine_dataset_3_classes-1_80-20-10-str/valid/labels/007068.txt  \n",
            "  inflating: /content/drive/MyDrive/my_yolov8/Conbine_dataset_3_classes-1_80-20-10-str/valid/labels/001011.txt  \n",
            "  inflating: /content/drive/MyDrive/my_yolov8/Conbine_dataset_3_classes-1_80-20-10-str/valid/labels/003502.txt  \n",
            "  inflating: /content/drive/MyDrive/my_yolov8/Conbine_dataset_3_classes-1_80-20-10-str/valid/labels/004984.txt  \n",
            "  inflating: /content/drive/MyDrive/my_yolov8/Conbine_dataset_3_classes-1_80-20-10-str/valid/labels/005765.txt  \n",
            "  inflating: /content/drive/MyDrive/my_yolov8/Conbine_dataset_3_classes-1_80-20-10-str/valid/labels/005046.txt  \n",
            "  inflating: /content/drive/MyDrive/my_yolov8/Conbine_dataset_3_classes-1_80-20-10-str/valid/labels/002277.txt  \n",
            "  inflating: /content/drive/MyDrive/my_yolov8/Conbine_dataset_3_classes-1_80-20-10-str/valid/labels/006074.txt  \n",
            "  inflating: /content/drive/MyDrive/my_yolov8/Conbine_dataset_3_classes-1_80-20-10-str/valid/labels/002801.txt  \n",
            "  inflating: /content/drive/MyDrive/my_yolov8/Conbine_dataset_3_classes-1_80-20-10-str/valid/labels/006410.txt  \n",
            "  inflating: /content/drive/MyDrive/my_yolov8/Conbine_dataset_3_classes-1_80-20-10-str/valid/labels/005192.txt  \n",
            "  inflating: /content/drive/MyDrive/my_yolov8/Conbine_dataset_3_classes-1_80-20-10-str/valid/labels/006082.txt  \n",
            "  inflating: /content/drive/MyDrive/my_yolov8/Conbine_dataset_3_classes-1_80-20-10-str/valid/labels/002315.txt  \n",
            "  inflating: /content/drive/MyDrive/my_yolov8/Conbine_dataset_3_classes-1_80-20-10-str/valid/labels/000668.txt  \n",
            "  inflating: /content/drive/MyDrive/my_yolov8/Conbine_dataset_3_classes-1_80-20-10-str/valid/labels/004990.txt  \n",
            "  inflating: /content/drive/MyDrive/my_yolov8/Conbine_dataset_3_classes-1_80-20-10-str/valid/labels/005061.txt  \n",
            "  inflating: /content/drive/MyDrive/my_yolov8/Conbine_dataset_3_classes-1_80-20-10-str/valid/labels/006895.txt  \n",
            "  inflating: /content/drive/MyDrive/my_yolov8/Conbine_dataset_3_classes-1_80-20-10-str/valid/labels/002886.txt  \n",
            "  inflating: /content/drive/MyDrive/my_yolov8/Conbine_dataset_3_classes-1_80-20-10-str/valid/labels/005921.txt  \n",
            "  inflating: /content/drive/MyDrive/my_yolov8/Conbine_dataset_3_classes-1_80-20-10-str/valid/labels/002449.txt  \n",
            "  inflating: /content/drive/MyDrive/my_yolov8/Conbine_dataset_3_classes-1_80-20-10-str/valid/labels/006355.txt  \n",
            "  inflating: /content/drive/MyDrive/my_yolov8/Conbine_dataset_3_classes-1_80-20-10-str/valid/labels/003311.txt  \n",
            "  inflating: /content/drive/MyDrive/my_yolov8/Conbine_dataset_3_classes-1_80-20-10-str/valid/labels/004398.txt  \n",
            "  inflating: /content/drive/MyDrive/my_yolov8/Conbine_dataset_3_classes-1_80-20-10-str/valid/labels/005083.txt  \n",
            "  inflating: /content/drive/MyDrive/my_yolov8/Conbine_dataset_3_classes-1_80-20-10-str/valid/labels/003687.txt  \n",
            "  inflating: /content/drive/MyDrive/my_yolov8/Conbine_dataset_3_classes-1_80-20-10-str/valid/labels/001274.txt  \n",
            "  inflating: /content/drive/MyDrive/my_yolov8/Conbine_dataset_3_classes-1_80-20-10-str/valid/labels/005006.txt  \n",
            "  inflating: /content/drive/MyDrive/my_yolov8/Conbine_dataset_3_classes-1_80-20-10-str/valid/labels/005969.txt  \n",
            "  inflating: /content/drive/MyDrive/my_yolov8/Conbine_dataset_3_classes-1_80-20-10-str/valid/labels/001856.txt  \n",
            "  inflating: /content/drive/MyDrive/my_yolov8/Conbine_dataset_3_classes-1_80-20-10-str/valid/labels/003415.txt  \n",
            "  inflating: /content/drive/MyDrive/my_yolov8/Conbine_dataset_3_classes-1_80-20-10-str/valid/labels/003419.txt  \n",
            "  inflating: /content/drive/MyDrive/my_yolov8/Conbine_dataset_3_classes-1_80-20-10-str/valid/labels/004600.txt  \n",
            "  inflating: /content/drive/MyDrive/my_yolov8/Conbine_dataset_3_classes-1_80-20-10-str/valid/labels/005944.txt  \n",
            "  inflating: /content/drive/MyDrive/my_yolov8/Conbine_dataset_3_classes-1_80-20-10-str/valid/labels/006635.txt  \n",
            "  inflating: /content/drive/MyDrive/my_yolov8/Conbine_dataset_3_classes-1_80-20-10-str/valid/labels/000404.txt  \n",
            "  inflating: /content/drive/MyDrive/my_yolov8/Conbine_dataset_3_classes-1_80-20-10-str/valid/labels/002884.txt  \n",
            "  inflating: /content/drive/MyDrive/my_yolov8/Conbine_dataset_3_classes-1_80-20-10-str/valid/labels/006837.txt  \n",
            "  inflating: /content/drive/MyDrive/my_yolov8/Conbine_dataset_3_classes-1_80-20-10-str/valid/labels/004975.txt  \n",
            "  inflating: /content/drive/MyDrive/my_yolov8/Conbine_dataset_3_classes-1_80-20-10-str/valid/labels/005738.txt  \n",
            "  inflating: /content/drive/MyDrive/my_yolov8/Conbine_dataset_3_classes-1_80-20-10-str/valid/labels/006731.txt  \n",
            "  inflating: /content/drive/MyDrive/my_yolov8/Conbine_dataset_3_classes-1_80-20-10-str/valid/labels/002353.txt  \n",
            "  inflating: /content/drive/MyDrive/my_yolov8/Conbine_dataset_3_classes-1_80-20-10-str/valid/labels/004339.txt  \n",
            "  inflating: /content/drive/MyDrive/my_yolov8/Conbine_dataset_3_classes-1_80-20-10-str/valid/labels/000129.txt  \n",
            "  inflating: /content/drive/MyDrive/my_yolov8/Conbine_dataset_3_classes-1_80-20-10-str/valid/labels/006836.txt  \n",
            "  inflating: /content/drive/MyDrive/my_yolov8/Conbine_dataset_3_classes-1_80-20-10-str/valid/labels/000085.txt  \n",
            "  inflating: /content/drive/MyDrive/my_yolov8/Conbine_dataset_3_classes-1_80-20-10-str/valid/labels/001500.txt  \n",
            "  inflating: /content/drive/MyDrive/my_yolov8/Conbine_dataset_3_classes-1_80-20-10-str/valid/labels/002791.txt  \n",
            "  inflating: /content/drive/MyDrive/my_yolov8/Conbine_dataset_3_classes-1_80-20-10-str/valid/labels/000691.txt  \n",
            "  inflating: /content/drive/MyDrive/my_yolov8/Conbine_dataset_3_classes-1_80-20-10-str/valid/labels/004823.txt  \n",
            "  inflating: /content/drive/MyDrive/my_yolov8/Conbine_dataset_3_classes-1_80-20-10-str/valid/labels/003929.txt  \n",
            "  inflating: /content/drive/MyDrive/my_yolov8/Conbine_dataset_3_classes-1_80-20-10-str/valid/labels/006092.txt  \n",
            "  inflating: /content/drive/MyDrive/my_yolov8/Conbine_dataset_3_classes-1_80-20-10-str/valid/labels/006310.txt  \n",
            "  inflating: /content/drive/MyDrive/my_yolov8/Conbine_dataset_3_classes-1_80-20-10-str/valid/labels/005204.txt  \n",
            "  inflating: /content/drive/MyDrive/my_yolov8/Conbine_dataset_3_classes-1_80-20-10-str/valid/labels/005688.txt  \n",
            "  inflating: /content/drive/MyDrive/my_yolov8/Conbine_dataset_3_classes-1_80-20-10-str/valid/labels/004843.txt  \n",
            "  inflating: /content/drive/MyDrive/my_yolov8/Conbine_dataset_3_classes-1_80-20-10-str/valid/labels/006151.txt  \n",
            "  inflating: /content/drive/MyDrive/my_yolov8/Conbine_dataset_3_classes-1_80-20-10-str/valid/labels/005981.txt  \n",
            "  inflating: /content/drive/MyDrive/my_yolov8/Conbine_dataset_3_classes-1_80-20-10-str/valid/labels/004835.txt  \n",
            "  inflating: /content/drive/MyDrive/my_yolov8/Conbine_dataset_3_classes-1_80-20-10-str/valid/labels/005931.txt  \n",
            "  inflating: /content/drive/MyDrive/my_yolov8/Conbine_dataset_3_classes-1_80-20-10-str/valid/labels/004464.txt  \n",
            "  inflating: /content/drive/MyDrive/my_yolov8/Conbine_dataset_3_classes-1_80-20-10-str/valid/labels/006749.txt  \n",
            "  inflating: /content/drive/MyDrive/my_yolov8/Conbine_dataset_3_classes-1_80-20-10-str/valid/labels/003079.txt  \n",
            "  inflating: /content/drive/MyDrive/my_yolov8/Conbine_dataset_3_classes-1_80-20-10-str/valid/labels/000111.txt  \n",
            "  inflating: /content/drive/MyDrive/my_yolov8/Conbine_dataset_3_classes-1_80-20-10-str/valid/labels/006763.txt  \n",
            "  inflating: /content/drive/MyDrive/my_yolov8/Conbine_dataset_3_classes-1_80-20-10-str/valid/labels/001365.txt  \n",
            "  inflating: /content/drive/MyDrive/my_yolov8/Conbine_dataset_3_classes-1_80-20-10-str/valid/labels/001868.txt  \n",
            "  inflating: /content/drive/MyDrive/my_yolov8/Conbine_dataset_3_classes-1_80-20-10-str/valid/labels/006234.txt  \n",
            "  inflating: /content/drive/MyDrive/my_yolov8/Conbine_dataset_3_classes-1_80-20-10-str/valid/labels/006177.txt  \n",
            "  inflating: /content/drive/MyDrive/my_yolov8/Conbine_dataset_3_classes-1_80-20-10-str/valid/labels/005580.txt  \n",
            "  inflating: /content/drive/MyDrive/my_yolov8/Conbine_dataset_3_classes-1_80-20-10-str/valid/labels/000831.txt  \n",
            "  inflating: /content/drive/MyDrive/my_yolov8/Conbine_dataset_3_classes-1_80-20-10-str/valid/labels/003404.txt  \n",
            "  inflating: /content/drive/MyDrive/my_yolov8/Conbine_dataset_3_classes-1_80-20-10-str/valid/labels/006907.txt  \n",
            "  inflating: /content/drive/MyDrive/my_yolov8/Conbine_dataset_3_classes-1_80-20-10-str/valid/labels/007181.txt  \n",
            "  inflating: /content/drive/MyDrive/my_yolov8/Conbine_dataset_3_classes-1_80-20-10-str/valid/labels/001898.txt  \n",
            "  inflating: /content/drive/MyDrive/my_yolov8/Conbine_dataset_3_classes-1_80-20-10-str/valid/labels/002371.txt  \n",
            "  inflating: /content/drive/MyDrive/my_yolov8/Conbine_dataset_3_classes-1_80-20-10-str/valid/labels/001564.txt  \n",
            "  inflating: /content/drive/MyDrive/my_yolov8/Conbine_dataset_3_classes-1_80-20-10-str/valid/labels/007225.txt  \n",
            "  inflating: /content/drive/MyDrive/my_yolov8/Conbine_dataset_3_classes-1_80-20-10-str/valid/labels/001123.txt  \n",
            "  inflating: /content/drive/MyDrive/my_yolov8/Conbine_dataset_3_classes-1_80-20-10-str/valid/labels/001922.txt  \n",
            "  inflating: /content/drive/MyDrive/my_yolov8/Conbine_dataset_3_classes-1_80-20-10-str/valid/labels/007022.txt  \n",
            "  inflating: /content/drive/MyDrive/my_yolov8/Conbine_dataset_3_classes-1_80-20-10-str/valid/labels/001394.txt  \n",
            "  inflating: /content/drive/MyDrive/my_yolov8/Conbine_dataset_3_classes-1_80-20-10-str/valid/labels/005353.txt  \n",
            "  inflating: /content/drive/MyDrive/my_yolov8/Conbine_dataset_3_classes-1_80-20-10-str/valid/labels/006953.txt  \n",
            "  inflating: /content/drive/MyDrive/my_yolov8/Conbine_dataset_3_classes-1_80-20-10-str/valid/labels/000236.txt  \n",
            "  inflating: /content/drive/MyDrive/my_yolov8/Conbine_dataset_3_classes-1_80-20-10-str/valid/labels/000769.txt  \n",
            "  inflating: /content/drive/MyDrive/my_yolov8/Conbine_dataset_3_classes-1_80-20-10-str/valid/labels/004077.txt  \n",
            "  inflating: /content/drive/MyDrive/my_yolov8/Conbine_dataset_3_classes-1_80-20-10-str/valid/labels/004174.txt  \n",
            "  inflating: /content/drive/MyDrive/my_yolov8/Conbine_dataset_3_classes-1_80-20-10-str/valid/labels/006709.txt  \n",
            "  inflating: /content/drive/MyDrive/my_yolov8/Conbine_dataset_3_classes-1_80-20-10-str/valid/labels/001540.txt  \n",
            "  inflating: /content/drive/MyDrive/my_yolov8/Conbine_dataset_3_classes-1_80-20-10-str/valid/labels/004080.txt  \n",
            "  inflating: /content/drive/MyDrive/my_yolov8/Conbine_dataset_3_classes-1_80-20-10-str/valid/labels/004020.txt  \n",
            "  inflating: /content/drive/MyDrive/my_yolov8/Conbine_dataset_3_classes-1_80-20-10-str/valid/labels/004216.txt  \n",
            "  inflating: /content/drive/MyDrive/my_yolov8/Conbine_dataset_3_classes-1_80-20-10-str/valid/labels/000708.txt  \n",
            "  inflating: /content/drive/MyDrive/my_yolov8/Conbine_dataset_3_classes-1_80-20-10-str/valid/labels/000978.txt  \n",
            "  inflating: /content/drive/MyDrive/my_yolov8/Conbine_dataset_3_classes-1_80-20-10-str/valid/labels/006870.txt  \n",
            "  inflating: /content/drive/MyDrive/my_yolov8/Conbine_dataset_3_classes-1_80-20-10-str/valid/labels/005884.txt  \n",
            "  inflating: /content/drive/MyDrive/my_yolov8/Conbine_dataset_3_classes-1_80-20-10-str/valid/labels/001516.txt  \n",
            "  inflating: /content/drive/MyDrive/my_yolov8/Conbine_dataset_3_classes-1_80-20-10-str/valid/labels/005513.txt  \n",
            "  inflating: /content/drive/MyDrive/my_yolov8/Conbine_dataset_3_classes-1_80-20-10-str/valid/labels/002642.txt  \n",
            "  inflating: /content/drive/MyDrive/my_yolov8/Conbine_dataset_3_classes-1_80-20-10-str/valid/labels/004104.txt  \n",
            "  inflating: /content/drive/MyDrive/my_yolov8/Conbine_dataset_3_classes-1_80-20-10-str/valid/labels/001578.txt  \n",
            "  inflating: /content/drive/MyDrive/my_yolov8/Conbine_dataset_3_classes-1_80-20-10-str/valid/labels/001466.txt  \n",
            "  inflating: /content/drive/MyDrive/my_yolov8/Conbine_dataset_3_classes-1_80-20-10-str/valid/labels/005099.txt  \n",
            "  inflating: /content/drive/MyDrive/my_yolov8/Conbine_dataset_3_classes-1_80-20-10-str/valid/labels/000694.txt  \n",
            "  inflating: /content/drive/MyDrive/my_yolov8/Conbine_dataset_3_classes-1_80-20-10-str/valid/labels/001008.txt  \n",
            "  inflating: /content/drive/MyDrive/my_yolov8/Conbine_dataset_3_classes-1_80-20-10-str/valid/labels/003668.txt  \n",
            "  inflating: /content/drive/MyDrive/my_yolov8/Conbine_dataset_3_classes-1_80-20-10-str/valid/labels/000068.txt  \n",
            "  inflating: /content/drive/MyDrive/my_yolov8/Conbine_dataset_3_classes-1_80-20-10-str/valid/labels/004045.txt  \n",
            "  inflating: /content/drive/MyDrive/my_yolov8/Conbine_dataset_3_classes-1_80-20-10-str/valid/labels/003085.txt  \n",
            "  inflating: /content/drive/MyDrive/my_yolov8/Conbine_dataset_3_classes-1_80-20-10-str/valid/labels/003431.txt  \n",
            "  inflating: /content/drive/MyDrive/my_yolov8/Conbine_dataset_3_classes-1_80-20-10-str/valid/labels/006555.txt  \n",
            "  inflating: /content/drive/MyDrive/my_yolov8/Conbine_dataset_3_classes-1_80-20-10-str/valid/labels/006015.txt  \n",
            "  inflating: /content/drive/MyDrive/my_yolov8/Conbine_dataset_3_classes-1_80-20-10-str/valid/labels/001976.txt  \n",
            "  inflating: /content/drive/MyDrive/my_yolov8/Conbine_dataset_3_classes-1_80-20-10-str/valid/labels/005049.txt  \n",
            "  inflating: /content/drive/MyDrive/my_yolov8/Conbine_dataset_3_classes-1_80-20-10-str/valid/labels/002651.txt  \n",
            "  inflating: /content/drive/MyDrive/my_yolov8/Conbine_dataset_3_classes-1_80-20-10-str/valid/labels/000622.txt  \n",
            "  inflating: /content/drive/MyDrive/my_yolov8/Conbine_dataset_3_classes-1_80-20-10-str/valid/labels/004510.txt  \n",
            "  inflating: /content/drive/MyDrive/my_yolov8/Conbine_dataset_3_classes-1_80-20-10-str/valid/labels/007164.txt  \n",
            "  inflating: /content/drive/MyDrive/my_yolov8/Conbine_dataset_3_classes-1_80-20-10-str/valid/labels/001028.txt  \n",
            "  inflating: /content/drive/MyDrive/my_yolov8/Conbine_dataset_3_classes-1_80-20-10-str/valid/labels/003896.txt  \n",
            "  inflating: /content/drive/MyDrive/my_yolov8/Conbine_dataset_3_classes-1_80-20-10-str/valid/labels/002504.txt  \n",
            "  inflating: /content/drive/MyDrive/my_yolov8/Conbine_dataset_3_classes-1_80-20-10-str/valid/labels/003356.txt  \n",
            "  inflating: /content/drive/MyDrive/my_yolov8/Conbine_dataset_3_classes-1_80-20-10-str/valid/labels/006557.txt  \n",
            "  inflating: /content/drive/MyDrive/my_yolov8/Conbine_dataset_3_classes-1_80-20-10-str/valid/labels/005616.txt  \n",
            "  inflating: /content/drive/MyDrive/my_yolov8/Conbine_dataset_3_classes-1_80-20-10-str/valid/labels/001155.txt  \n",
            "  inflating: /content/drive/MyDrive/my_yolov8/Conbine_dataset_3_classes-1_80-20-10-str/valid/labels/003455.txt  \n",
            "  inflating: /content/drive/MyDrive/my_yolov8/Conbine_dataset_3_classes-1_80-20-10-str/valid/labels/006920.txt  \n",
            "  inflating: /content/drive/MyDrive/my_yolov8/Conbine_dataset_3_classes-1_80-20-10-str/valid/labels/007246.txt  \n",
            "  inflating: /content/drive/MyDrive/my_yolov8/Conbine_dataset_3_classes-1_80-20-10-str/valid/labels/001244.txt  \n",
            "  inflating: /content/drive/MyDrive/my_yolov8/Conbine_dataset_3_classes-1_80-20-10-str/valid/labels/002852.txt  \n",
            "  inflating: /content/drive/MyDrive/my_yolov8/Conbine_dataset_3_classes-1_80-20-10-str/valid/labels/001927.txt  \n",
            "  inflating: /content/drive/MyDrive/my_yolov8/Conbine_dataset_3_classes-1_80-20-10-str/valid/labels/002330.txt  \n",
            "  inflating: /content/drive/MyDrive/my_yolov8/Conbine_dataset_3_classes-1_80-20-10-str/valid/labels/007071.txt  \n",
            "  inflating: /content/drive/MyDrive/my_yolov8/Conbine_dataset_3_classes-1_80-20-10-str/valid/labels/006337.txt  \n",
            "  inflating: /content/drive/MyDrive/my_yolov8/Conbine_dataset_3_classes-1_80-20-10-str/valid/labels/000946.txt  \n",
            "  inflating: /content/drive/MyDrive/my_yolov8/Conbine_dataset_3_classes-1_80-20-10-str/valid/labels/006743.txt  \n",
            "  inflating: /content/drive/MyDrive/my_yolov8/Conbine_dataset_3_classes-1_80-20-10-str/valid/labels/006277.txt  \n",
            "  inflating: /content/drive/MyDrive/my_yolov8/Conbine_dataset_3_classes-1_80-20-10-str/valid/labels/002258.txt  \n",
            "  inflating: /content/drive/MyDrive/my_yolov8/Conbine_dataset_3_classes-1_80-20-10-str/valid/labels/000743.txt  \n",
            "  inflating: /content/drive/MyDrive/my_yolov8/Conbine_dataset_3_classes-1_80-20-10-str/valid/labels/006526.txt  \n",
            "  inflating: /content/drive/MyDrive/my_yolov8/Conbine_dataset_3_classes-1_80-20-10-str/valid/labels/000249.txt  \n",
            "  inflating: /content/drive/MyDrive/my_yolov8/Conbine_dataset_3_classes-1_80-20-10-str/valid/labels/001525.txt  \n",
            "  inflating: /content/drive/MyDrive/my_yolov8/Conbine_dataset_3_classes-1_80-20-10-str/valid/labels/001833.txt  \n",
            "  inflating: /content/drive/MyDrive/my_yolov8/Conbine_dataset_3_classes-1_80-20-10-str/valid/labels/004432.txt  \n",
            "  inflating: /content/drive/MyDrive/my_yolov8/Conbine_dataset_3_classes-1_80-20-10-str/valid/labels/004013.txt  \n",
            "  inflating: /content/drive/MyDrive/my_yolov8/Conbine_dataset_3_classes-1_80-20-10-str/valid/labels/000310.txt  \n",
            "  inflating: /content/drive/MyDrive/my_yolov8/Conbine_dataset_3_classes-1_80-20-10-str/valid/labels/005051.txt  \n",
            "  inflating: /content/drive/MyDrive/my_yolov8/Conbine_dataset_3_classes-1_80-20-10-str/valid/labels/006275.txt  \n",
            "  inflating: /content/drive/MyDrive/my_yolov8/Conbine_dataset_3_classes-1_80-20-10-str/valid/labels/005643.txt  \n",
            "  inflating: /content/drive/MyDrive/my_yolov8/Conbine_dataset_3_classes-1_80-20-10-str/valid/labels/002734.txt  \n",
            "  inflating: /content/drive/MyDrive/my_yolov8/Conbine_dataset_3_classes-1_80-20-10-str/valid/labels/006975.txt  \n",
            "  inflating: /content/drive/MyDrive/my_yolov8/Conbine_dataset_3_classes-1_80-20-10-str/valid/labels/005442.txt  \n",
            "  inflating: /content/drive/MyDrive/my_yolov8/Conbine_dataset_3_classes-1_80-20-10-str/valid/labels/006762.txt  \n",
            "  inflating: /content/drive/MyDrive/my_yolov8/Conbine_dataset_3_classes-1_80-20-10-str/valid/labels/004395.txt  \n",
            "  inflating: /content/drive/MyDrive/my_yolov8/Conbine_dataset_3_classes-1_80-20-10-str/valid/labels/005237.txt  \n",
            "  inflating: /content/drive/MyDrive/my_yolov8/Conbine_dataset_3_classes-1_80-20-10-str/valid/labels/002887.txt  \n",
            "  inflating: /content/drive/MyDrive/my_yolov8/Conbine_dataset_3_classes-1_80-20-10-str/valid/labels/004761.txt  \n",
            "  inflating: /content/drive/MyDrive/my_yolov8/Conbine_dataset_3_classes-1_80-20-10-str/valid/labels/002288.txt  \n",
            "  inflating: /content/drive/MyDrive/my_yolov8/Conbine_dataset_3_classes-1_80-20-10-str/valid/labels/002998.txt  \n",
            "  inflating: /content/drive/MyDrive/my_yolov8/Conbine_dataset_3_classes-1_80-20-10-str/valid/labels/004670.txt  \n",
            "  inflating: /content/drive/MyDrive/my_yolov8/Conbine_dataset_3_classes-1_80-20-10-str/valid/labels/002452.txt  \n",
            "  inflating: /content/drive/MyDrive/my_yolov8/Conbine_dataset_3_classes-1_80-20-10-str/valid/labels/002250.txt  \n",
            "  inflating: /content/drive/MyDrive/my_yolov8/Conbine_dataset_3_classes-1_80-20-10-str/valid/labels/002194.txt  \n",
            "  inflating: /content/drive/MyDrive/my_yolov8/Conbine_dataset_3_classes-1_80-20-10-str/valid/labels/004879.txt  \n",
            "  inflating: /content/drive/MyDrive/my_yolov8/Conbine_dataset_3_classes-1_80-20-10-str/valid/labels/001480.txt  \n",
            "  inflating: /content/drive/MyDrive/my_yolov8/Conbine_dataset_3_classes-1_80-20-10-str/valid/labels/003684.txt  \n",
            "  inflating: /content/drive/MyDrive/my_yolov8/Conbine_dataset_3_classes-1_80-20-10-str/valid/labels/000157.txt  \n",
            "  inflating: /content/drive/MyDrive/my_yolov8/Conbine_dataset_3_classes-1_80-20-10-str/valid/labels/006990.txt  \n",
            "  inflating: /content/drive/MyDrive/my_yolov8/Conbine_dataset_3_classes-1_80-20-10-str/valid/labels/005152.txt  \n",
            "  inflating: /content/drive/MyDrive/my_yolov8/Conbine_dataset_3_classes-1_80-20-10-str/valid/labels/001145.txt  \n",
            "  inflating: /content/drive/MyDrive/my_yolov8/Conbine_dataset_3_classes-1_80-20-10-str/valid/labels/005636.txt  \n",
            "  inflating: /content/drive/MyDrive/my_yolov8/Conbine_dataset_3_classes-1_80-20-10-str/valid/labels/004763.txt  \n",
            "  inflating: /content/drive/MyDrive/my_yolov8/Conbine_dataset_3_classes-1_80-20-10-str/valid/labels/001327.txt  \n",
            "  inflating: /content/drive/MyDrive/my_yolov8/Conbine_dataset_3_classes-1_80-20-10-str/valid/labels/001921.txt  \n",
            "  inflating: /content/drive/MyDrive/my_yolov8/Conbine_dataset_3_classes-1_80-20-10-str/valid/labels/004367.txt  \n",
            "  inflating: /content/drive/MyDrive/my_yolov8/Conbine_dataset_3_classes-1_80-20-10-str/valid/labels/004441.txt  \n",
            "  inflating: /content/drive/MyDrive/my_yolov8/Conbine_dataset_3_classes-1_80-20-10-str/valid/labels/005571.txt  \n",
            "  inflating: /content/drive/MyDrive/my_yolov8/Conbine_dataset_3_classes-1_80-20-10-str/valid/labels/005958.txt  \n",
            "  inflating: /content/drive/MyDrive/my_yolov8/Conbine_dataset_3_classes-1_80-20-10-str/valid/labels/005245.txt  \n",
            "  inflating: /content/drive/MyDrive/my_yolov8/Conbine_dataset_3_classes-1_80-20-10-str/valid/labels/004926.txt  \n",
            "  inflating: /content/drive/MyDrive/my_yolov8/Conbine_dataset_3_classes-1_80-20-10-str/valid/labels/003267.txt  \n",
            "  inflating: /content/drive/MyDrive/my_yolov8/Conbine_dataset_3_classes-1_80-20-10-str/valid/labels/000154.txt  \n",
            "  inflating: /content/drive/MyDrive/my_yolov8/Conbine_dataset_3_classes-1_80-20-10-str/valid/labels/001760.txt  \n",
            "  inflating: /content/drive/MyDrive/my_yolov8/Conbine_dataset_3_classes-1_80-20-10-str/valid/labels/001787.txt  \n",
            "  inflating: /content/drive/MyDrive/my_yolov8/Conbine_dataset_3_classes-1_80-20-10-str/valid/labels/002513.txt  \n",
            "  inflating: /content/drive/MyDrive/my_yolov8/Conbine_dataset_3_classes-1_80-20-10-str/valid/labels/001425.txt  \n",
            "  inflating: /content/drive/MyDrive/my_yolov8/Conbine_dataset_3_classes-1_80-20-10-str/valid/labels/003925.txt  \n",
            "  inflating: /content/drive/MyDrive/my_yolov8/Conbine_dataset_3_classes-1_80-20-10-str/valid/labels/006840.txt  \n",
            "  inflating: /content/drive/MyDrive/my_yolov8/Conbine_dataset_3_classes-1_80-20-10-str/valid/labels/007111.txt  \n",
            "  inflating: /content/drive/MyDrive/my_yolov8/Conbine_dataset_3_classes-1_80-20-10-str/valid/labels/004729.txt  \n",
            "  inflating: /content/drive/MyDrive/my_yolov8/Conbine_dataset_3_classes-1_80-20-10-str/valid/labels/006251.txt  \n",
            "  inflating: /content/drive/MyDrive/my_yolov8/Conbine_dataset_3_classes-1_80-20-10-str/valid/labels/001680.txt  \n",
            "  inflating: /content/drive/MyDrive/my_yolov8/Conbine_dataset_3_classes-1_80-20-10-str/valid/labels/001100.txt  \n",
            "  inflating: /content/drive/MyDrive/my_yolov8/Conbine_dataset_3_classes-1_80-20-10-str/valid/labels/000911.txt  \n",
            "  inflating: /content/drive/MyDrive/my_yolov8/Conbine_dataset_3_classes-1_80-20-10-str/valid/labels/003568.txt  \n",
            "  inflating: /content/drive/MyDrive/my_yolov8/Conbine_dataset_3_classes-1_80-20-10-str/valid/labels/005982.txt  \n",
            "  inflating: /content/drive/MyDrive/my_yolov8/Conbine_dataset_3_classes-1_80-20-10-str/valid/labels/000203.txt  \n",
            "  inflating: /content/drive/MyDrive/my_yolov8/Conbine_dataset_3_classes-1_80-20-10-str/valid/labels/000748.txt  \n",
            "  inflating: /content/drive/MyDrive/my_yolov8/Conbine_dataset_3_classes-1_80-20-10-str/valid/labels/005509.txt  \n",
            "  inflating: /content/drive/MyDrive/my_yolov8/Conbine_dataset_3_classes-1_80-20-10-str/valid/labels/004812.txt  \n",
            "  inflating: /content/drive/MyDrive/my_yolov8/Conbine_dataset_3_classes-1_80-20-10-str/valid/labels/001430.txt  \n",
            "  inflating: /content/drive/MyDrive/my_yolov8/Conbine_dataset_3_classes-1_80-20-10-str/valid/labels/004519.txt  \n",
            "  inflating: /content/drive/MyDrive/my_yolov8/Conbine_dataset_3_classes-1_80-20-10-str/valid/labels/007162.txt  \n",
            "  inflating: /content/drive/MyDrive/my_yolov8/Conbine_dataset_3_classes-1_80-20-10-str/valid/labels/000672.txt  \n",
            "  inflating: /content/drive/MyDrive/my_yolov8/Conbine_dataset_3_classes-1_80-20-10-str/valid/labels/001070.txt  \n",
            "  inflating: /content/drive/MyDrive/my_yolov8/Conbine_dataset_3_classes-1_80-20-10-str/valid/labels/005219.txt  \n",
            "  inflating: /content/drive/MyDrive/my_yolov8/Conbine_dataset_3_classes-1_80-20-10-str/valid/labels/002497.txt  \n",
            "  inflating: /content/drive/MyDrive/my_yolov8/Conbine_dataset_3_classes-1_80-20-10-str/valid/labels/002174.txt  \n",
            "  inflating: /content/drive/MyDrive/my_yolov8/Conbine_dataset_3_classes-1_80-20-10-str/valid/labels/006391.txt  \n",
            "  inflating: /content/drive/MyDrive/my_yolov8/Conbine_dataset_3_classes-1_80-20-10-str/valid/labels/005913.txt  \n",
            "  inflating: /content/drive/MyDrive/my_yolov8/Conbine_dataset_3_classes-1_80-20-10-str/valid/labels/004071.txt  \n",
            "  inflating: /content/drive/MyDrive/my_yolov8/Conbine_dataset_3_classes-1_80-20-10-str/valid/labels/006342.txt  \n",
            "  inflating: /content/drive/MyDrive/my_yolov8/Conbine_dataset_3_classes-1_80-20-10-str/valid/labels/000850.txt  \n",
            "  inflating: /content/drive/MyDrive/my_yolov8/Conbine_dataset_3_classes-1_80-20-10-str/valid/labels/003422.txt  \n",
            "  inflating: /content/drive/MyDrive/my_yolov8/Conbine_dataset_3_classes-1_80-20-10-str/valid/labels/003810.txt  \n",
            "  inflating: /content/drive/MyDrive/my_yolov8/Conbine_dataset_3_classes-1_80-20-10-str/valid/labels/003389.txt  \n",
            "  inflating: /content/drive/MyDrive/my_yolov8/Conbine_dataset_3_classes-1_80-20-10-str/valid/labels/004634.txt  \n",
            "  inflating: /content/drive/MyDrive/my_yolov8/Conbine_dataset_3_classes-1_80-20-10-str/valid/labels/001629.txt  \n",
            "  inflating: /content/drive/MyDrive/my_yolov8/Conbine_dataset_3_classes-1_80-20-10-str/valid/labels/004328.txt  \n",
            "  inflating: /content/drive/MyDrive/my_yolov8/Conbine_dataset_3_classes-1_80-20-10-str/valid/labels/005251.txt  \n",
            "  inflating: /content/drive/MyDrive/my_yolov8/Conbine_dataset_3_classes-1_80-20-10-str/valid/labels/004423.txt  \n",
            "  inflating: /content/drive/MyDrive/my_yolov8/Conbine_dataset_3_classes-1_80-20-10-str/valid/labels/001393.txt  \n",
            "  inflating: /content/drive/MyDrive/my_yolov8/Conbine_dataset_3_classes-1_80-20-10-str/valid/labels/004616.txt  \n",
            "  inflating: /content/drive/MyDrive/my_yolov8/Conbine_dataset_3_classes-1_80-20-10-str/valid/labels/007067.txt  \n",
            "  inflating: /content/drive/MyDrive/my_yolov8/Conbine_dataset_3_classes-1_80-20-10-str/valid/labels/003504.txt  \n",
            "  inflating: /content/drive/MyDrive/my_yolov8/Conbine_dataset_3_classes-1_80-20-10-str/valid/labels/004143.txt  \n",
            "  inflating: /content/drive/MyDrive/my_yolov8/Conbine_dataset_3_classes-1_80-20-10-str/valid/labels/003077.txt  \n",
            "  inflating: /content/drive/MyDrive/my_yolov8/Conbine_dataset_3_classes-1_80-20-10-str/valid/labels/000475.txt  \n",
            "  inflating: /content/drive/MyDrive/my_yolov8/Conbine_dataset_3_classes-1_80-20-10-str/valid/labels/002039.txt  \n",
            "  inflating: /content/drive/MyDrive/my_yolov8/Conbine_dataset_3_classes-1_80-20-10-str/valid/labels/005677.txt  \n",
            "  inflating: /content/drive/MyDrive/my_yolov8/Conbine_dataset_3_classes-1_80-20-10-str/valid/labels/004537.txt  \n",
            "  inflating: /content/drive/MyDrive/my_yolov8/Conbine_dataset_3_classes-1_80-20-10-str/valid/labels/001414.txt  \n",
            "  inflating: /content/drive/MyDrive/my_yolov8/Conbine_dataset_3_classes-1_80-20-10-str/valid/labels/001956.txt  \n",
            "  inflating: /content/drive/MyDrive/my_yolov8/Conbine_dataset_3_classes-1_80-20-10-str/valid/labels/003876.txt  \n",
            "  inflating: /content/drive/MyDrive/my_yolov8/Conbine_dataset_3_classes-1_80-20-10-str/valid/labels/006927.txt  \n",
            "  inflating: /content/drive/MyDrive/my_yolov8/Conbine_dataset_3_classes-1_80-20-10-str/valid/labels/002846.txt  \n",
            "  inflating: /content/drive/MyDrive/my_yolov8/Conbine_dataset_3_classes-1_80-20-10-str/valid/labels/003076.txt  \n",
            "  inflating: /content/drive/MyDrive/my_yolov8/Conbine_dataset_3_classes-1_80-20-10-str/valid/labels/002688.txt  \n",
            "  inflating: /content/drive/MyDrive/my_yolov8/Conbine_dataset_3_classes-1_80-20-10-str/valid/labels/006722.txt  \n",
            "  inflating: /content/drive/MyDrive/my_yolov8/Conbine_dataset_3_classes-1_80-20-10-str/valid/labels/001988.txt  \n",
            "  inflating: /content/drive/MyDrive/my_yolov8/Conbine_dataset_3_classes-1_80-20-10-str/valid/labels/003046.txt  \n",
            "  inflating: /content/drive/MyDrive/my_yolov8/Conbine_dataset_3_classes-1_80-20-10-str/valid/labels/004758.txt  \n",
            "  inflating: /content/drive/MyDrive/my_yolov8/Conbine_dataset_3_classes-1_80-20-10-str/valid/labels/000615.txt  \n",
            "  inflating: /content/drive/MyDrive/my_yolov8/Conbine_dataset_3_classes-1_80-20-10-str/valid/labels/000335.txt  \n",
            "  inflating: /content/drive/MyDrive/my_yolov8/Conbine_dataset_3_classes-1_80-20-10-str/valid/labels/001652.txt  \n",
            "  inflating: /content/drive/MyDrive/my_yolov8/Conbine_dataset_3_classes-1_80-20-10-str/valid/labels/006766.txt  \n",
            "  inflating: /content/drive/MyDrive/my_yolov8/Conbine_dataset_3_classes-1_80-20-10-str/valid/labels/004503.txt  \n",
            "  inflating: /content/drive/MyDrive/my_yolov8/Conbine_dataset_3_classes-1_80-20-10-str/valid/labels/006563.txt  \n",
            "  inflating: /content/drive/MyDrive/my_yolov8/Conbine_dataset_3_classes-1_80-20-10-str/valid/labels/003892.txt  \n",
            "  inflating: /content/drive/MyDrive/my_yolov8/Conbine_dataset_3_classes-1_80-20-10-str/valid/labels/003520.txt  \n",
            "  inflating: /content/drive/MyDrive/my_yolov8/Conbine_dataset_3_classes-1_80-20-10-str/valid/labels/000413.txt  \n",
            "  inflating: /content/drive/MyDrive/my_yolov8/Conbine_dataset_3_classes-1_80-20-10-str/valid/labels/007134.txt  \n",
            "  inflating: /content/drive/MyDrive/my_yolov8/Conbine_dataset_3_classes-1_80-20-10-str/valid/labels/000060.txt  \n",
            "  inflating: /content/drive/MyDrive/my_yolov8/Conbine_dataset_3_classes-1_80-20-10-str/valid/labels/002989.txt  \n",
            "  inflating: /content/drive/MyDrive/my_yolov8/Conbine_dataset_3_classes-1_80-20-10-str/valid/labels/006596.txt  \n",
            "  inflating: /content/drive/MyDrive/my_yolov8/Conbine_dataset_3_classes-1_80-20-10-str/valid/labels/003088.txt  \n",
            "  inflating: /content/drive/MyDrive/my_yolov8/Conbine_dataset_3_classes-1_80-20-10-str/valid/labels/002202.txt  \n",
            "  inflating: /content/drive/MyDrive/my_yolov8/Conbine_dataset_3_classes-1_80-20-10-str/valid/labels/003144.txt  \n",
            "  inflating: /content/drive/MyDrive/my_yolov8/Conbine_dataset_3_classes-1_80-20-10-str/valid/labels/004502.txt  \n",
            "  inflating: /content/drive/MyDrive/my_yolov8/Conbine_dataset_3_classes-1_80-20-10-str/valid/labels/006969.txt  \n",
            "  inflating: /content/drive/MyDrive/my_yolov8/Conbine_dataset_3_classes-1_80-20-10-str/valid/labels/005553.txt  \n",
            "  inflating: /content/drive/MyDrive/my_yolov8/Conbine_dataset_3_classes-1_80-20-10-str/valid/labels/002940.txt  \n",
            "  inflating: /content/drive/MyDrive/my_yolov8/Conbine_dataset_3_classes-1_80-20-10-str/valid/labels/002844.txt  \n",
            "  inflating: /content/drive/MyDrive/my_yolov8/Conbine_dataset_3_classes-1_80-20-10-str/valid/labels/003270.txt  \n",
            "  inflating: /content/drive/MyDrive/my_yolov8/Conbine_dataset_3_classes-1_80-20-10-str/valid/labels/006817.txt  \n",
            "  inflating: /content/drive/MyDrive/my_yolov8/Conbine_dataset_3_classes-1_80-20-10-str/valid/labels/004070.txt  \n",
            "  inflating: /content/drive/MyDrive/my_yolov8/Conbine_dataset_3_classes-1_80-20-10-str/valid/labels/006225.txt  \n",
            "  inflating: /content/drive/MyDrive/my_yolov8/Conbine_dataset_3_classes-1_80-20-10-str/valid/labels/000375.txt  \n",
            "  inflating: /content/drive/MyDrive/my_yolov8/Conbine_dataset_3_classes-1_80-20-10-str/valid/labels/005290.txt  \n",
            "  inflating: /content/drive/MyDrive/my_yolov8/Conbine_dataset_3_classes-1_80-20-10-str/valid/labels/005288.txt  \n",
            "  inflating: /content/drive/MyDrive/my_yolov8/Conbine_dataset_3_classes-1_80-20-10-str/valid/labels/006162.txt  \n",
            "  inflating: /content/drive/MyDrive/my_yolov8/Conbine_dataset_3_classes-1_80-20-10-str/valid/labels/006229.txt  \n",
            "  inflating: /content/drive/MyDrive/my_yolov8/Conbine_dataset_3_classes-1_80-20-10-str/valid/labels/001129.txt  \n",
            "  inflating: /content/drive/MyDrive/my_yolov8/Conbine_dataset_3_classes-1_80-20-10-str/valid/labels/002620.txt  \n",
            "  inflating: /content/drive/MyDrive/my_yolov8/Conbine_dataset_3_classes-1_80-20-10-str/valid/labels/002172.txt  \n",
            "  inflating: /content/drive/MyDrive/my_yolov8/Conbine_dataset_3_classes-1_80-20-10-str/valid/labels/007081.txt  \n",
            "  inflating: /content/drive/MyDrive/my_yolov8/Conbine_dataset_3_classes-1_80-20-10-str/valid/labels/003570.txt  \n",
            "  inflating: /content/drive/MyDrive/my_yolov8/Conbine_dataset_3_classes-1_80-20-10-str/valid/labels/003325.txt  \n",
            "  inflating: /content/drive/MyDrive/my_yolov8/Conbine_dataset_3_classes-1_80-20-10-str/valid/labels/003386.txt  \n",
            "  inflating: /content/drive/MyDrive/my_yolov8/Conbine_dataset_3_classes-1_80-20-10-str/valid/labels/004415.txt  \n",
            "  inflating: /content/drive/MyDrive/my_yolov8/Conbine_dataset_3_classes-1_80-20-10-str/valid/labels/004790.txt  \n",
            "  inflating: /content/drive/MyDrive/my_yolov8/Conbine_dataset_3_classes-1_80-20-10-str/valid/labels/007184.txt  \n",
            "  inflating: /content/drive/MyDrive/my_yolov8/Conbine_dataset_3_classes-1_80-20-10-str/valid/labels/000732.txt  \n",
            "  inflating: /content/drive/MyDrive/my_yolov8/Conbine_dataset_3_classes-1_80-20-10-str/valid/labels/000031.txt  \n",
            "  inflating: /content/drive/MyDrive/my_yolov8/Conbine_dataset_3_classes-1_80-20-10-str/valid/labels/003212.txt  \n",
            "  inflating: /content/drive/MyDrive/my_yolov8/Conbine_dataset_3_classes-1_80-20-10-str/valid/labels/006324.txt  \n",
            "  inflating: /content/drive/MyDrive/my_yolov8/Conbine_dataset_3_classes-1_80-20-10-str/valid/labels/004063.txt  \n",
            "  inflating: /content/drive/MyDrive/my_yolov8/Conbine_dataset_3_classes-1_80-20-10-str/valid/labels/001709.txt  \n",
            "  inflating: /content/drive/MyDrive/my_yolov8/Conbine_dataset_3_classes-1_80-20-10-str/valid/labels/003730.txt  \n",
            "  inflating: /content/drive/MyDrive/my_yolov8/Conbine_dataset_3_classes-1_80-20-10-str/valid/labels/000151.txt  \n",
            "  inflating: /content/drive/MyDrive/my_yolov8/Conbine_dataset_3_classes-1_80-20-10-str/valid/labels/007019.txt  \n",
            "  inflating: /content/drive/MyDrive/my_yolov8/Conbine_dataset_3_classes-1_80-20-10-str/valid/labels/003050.txt  \n",
            "  inflating: /content/drive/MyDrive/my_yolov8/Conbine_dataset_3_classes-1_80-20-10-str/valid/labels/001438.txt  \n",
            "  inflating: /content/drive/MyDrive/my_yolov8/Conbine_dataset_3_classes-1_80-20-10-str/valid/labels/003521.txt  \n",
            "  inflating: /content/drive/MyDrive/my_yolov8/Conbine_dataset_3_classes-1_80-20-10-str/valid/labels/000524.txt  \n",
            "  inflating: /content/drive/MyDrive/my_yolov8/Conbine_dataset_3_classes-1_80-20-10-str/valid/labels/004893.txt  \n",
            "  inflating: /content/drive/MyDrive/my_yolov8/Conbine_dataset_3_classes-1_80-20-10-str/valid/labels/004291.txt  \n",
            "  inflating: /content/drive/MyDrive/my_yolov8/Conbine_dataset_3_classes-1_80-20-10-str/valid/labels/007049.txt  \n",
            "  inflating: /content/drive/MyDrive/my_yolov8/Conbine_dataset_3_classes-1_80-20-10-str/valid/labels/000411.txt  \n",
            "  inflating: /content/drive/MyDrive/my_yolov8/Conbine_dataset_3_classes-1_80-20-10-str/valid/labels/006811.txt  \n",
            "  inflating: /content/drive/MyDrive/my_yolov8/Conbine_dataset_3_classes-1_80-20-10-str/valid/labels/007188.txt  \n",
            "  inflating: /content/drive/MyDrive/my_yolov8/Conbine_dataset_3_classes-1_80-20-10-str/valid/labels/006032.txt  \n",
            "  inflating: /content/drive/MyDrive/my_yolov8/Conbine_dataset_3_classes-1_80-20-10-str/valid/labels/005954.txt  \n",
            "  inflating: /content/drive/MyDrive/my_yolov8/Conbine_dataset_3_classes-1_80-20-10-str/valid/labels/001080.txt  \n",
            "  inflating: /content/drive/MyDrive/my_yolov8/Conbine_dataset_3_classes-1_80-20-10-str/valid/labels/005641.txt  \n",
            "  inflating: /content/drive/MyDrive/my_yolov8/Conbine_dataset_3_classes-1_80-20-10-str/valid/labels/001345.txt  \n",
            "  inflating: /content/drive/MyDrive/my_yolov8/Conbine_dataset_3_classes-1_80-20-10-str/valid/labels/007063.txt  \n",
            "  inflating: /content/drive/MyDrive/my_yolov8/Conbine_dataset_3_classes-1_80-20-10-str/valid/labels/005312.txt  \n",
            "  inflating: /content/drive/MyDrive/my_yolov8/Conbine_dataset_3_classes-1_80-20-10-str/valid/labels/005507.txt  \n",
            "  inflating: /content/drive/MyDrive/my_yolov8/Conbine_dataset_3_classes-1_80-20-10-str/valid/labels/005988.txt  \n",
            "  inflating: /content/drive/MyDrive/my_yolov8/Conbine_dataset_3_classes-1_80-20-10-str/valid/labels/002458.txt  \n",
            "  inflating: /content/drive/MyDrive/my_yolov8/Conbine_dataset_3_classes-1_80-20-10-str/valid/labels/004710.txt  \n",
            "  inflating: /content/drive/MyDrive/my_yolov8/Conbine_dataset_3_classes-1_80-20-10-str/valid/labels/003726.txt  \n",
            "  inflating: /content/drive/MyDrive/my_yolov8/Conbine_dataset_3_classes-1_80-20-10-str/valid/labels/002183.txt  \n",
            "  inflating: /content/drive/MyDrive/my_yolov8/Conbine_dataset_3_classes-1_80-20-10-str/valid/labels/004381.txt  \n",
            "  inflating: /content/drive/MyDrive/my_yolov8/Conbine_dataset_3_classes-1_80-20-10-str/valid/labels/001108.txt  \n",
            "  inflating: /content/drive/MyDrive/my_yolov8/Conbine_dataset_3_classes-1_80-20-10-str/valid/labels/000162.txt  \n",
            "  inflating: /content/drive/MyDrive/my_yolov8/Conbine_dataset_3_classes-1_80-20-10-str/valid/labels/004363.txt  \n",
            "  inflating: /content/drive/MyDrive/my_yolov8/Conbine_dataset_3_classes-1_80-20-10-str/valid/labels/000296.txt  \n",
            "  inflating: /content/drive/MyDrive/my_yolov8/Conbine_dataset_3_classes-1_80-20-10-str/valid/labels/002453.txt  \n",
            "  inflating: /content/drive/MyDrive/my_yolov8/Conbine_dataset_3_classes-1_80-20-10-str/valid/labels/006042.txt  \n",
            "  inflating: /content/drive/MyDrive/my_yolov8/Conbine_dataset_3_classes-1_80-20-10-str/valid/labels/003294.txt  \n",
            "  inflating: /content/drive/MyDrive/my_yolov8/Conbine_dataset_3_classes-1_80-20-10-str/valid/labels/001710.txt  \n",
            "  inflating: /content/drive/MyDrive/my_yolov8/Conbine_dataset_3_classes-1_80-20-10-str/valid/labels/006241.txt  \n",
            "  inflating: /content/drive/MyDrive/my_yolov8/Conbine_dataset_3_classes-1_80-20-10-str/valid/labels/001272.txt  \n",
            "  inflating: /content/drive/MyDrive/my_yolov8/Conbine_dataset_3_classes-1_80-20-10-str/valid/labels/003108.txt  \n",
            "  inflating: /content/drive/MyDrive/my_yolov8/Conbine_dataset_3_classes-1_80-20-10-str/valid/labels/006981.txt  \n",
            "  inflating: /content/drive/MyDrive/my_yolov8/Conbine_dataset_3_classes-1_80-20-10-str/valid/labels/001942.txt  \n",
            "  inflating: /content/drive/MyDrive/my_yolov8/Conbine_dataset_3_classes-1_80-20-10-str/valid/labels/005248.txt  \n",
            "  inflating: /content/drive/MyDrive/my_yolov8/Conbine_dataset_3_classes-1_80-20-10-str/valid/labels/000232.txt  \n",
            "  inflating: /content/drive/MyDrive/my_yolov8/Conbine_dataset_3_classes-1_80-20-10-str/valid/labels/004208.txt  \n",
            "  inflating: /content/drive/MyDrive/my_yolov8/Conbine_dataset_3_classes-1_80-20-10-str/valid/labels/006075.txt  \n",
            "  inflating: /content/drive/MyDrive/my_yolov8/Conbine_dataset_3_classes-1_80-20-10-str/valid/labels/006698.txt  \n",
            "  inflating: /content/drive/MyDrive/my_yolov8/Conbine_dataset_3_classes-1_80-20-10-str/valid/labels/003556.txt  \n",
            "  inflating: /content/drive/MyDrive/my_yolov8/Conbine_dataset_3_classes-1_80-20-10-str/valid/labels/006352.txt  \n",
            "  inflating: /content/drive/MyDrive/my_yolov8/Conbine_dataset_3_classes-1_80-20-10-str/valid/labels/004033.txt  \n",
            "  inflating: /content/drive/MyDrive/my_yolov8/Conbine_dataset_3_classes-1_80-20-10-str/valid/labels/006208.txt  \n",
            "  inflating: /content/drive/MyDrive/my_yolov8/Conbine_dataset_3_classes-1_80-20-10-str/valid/labels/003505.txt  \n",
            "  inflating: /content/drive/MyDrive/my_yolov8/Conbine_dataset_3_classes-1_80-20-10-str/valid/labels/004171.txt  \n",
            "  inflating: /content/drive/MyDrive/my_yolov8/Conbine_dataset_3_classes-1_80-20-10-str/valid/labels/005343.txt  \n",
            "  inflating: /content/drive/MyDrive/my_yolov8/Conbine_dataset_3_classes-1_80-20-10-str/valid/labels/002825.txt  \n",
            "  inflating: /content/drive/MyDrive/my_yolov8/Conbine_dataset_3_classes-1_80-20-10-str/valid/labels/004038.txt  \n",
            "  inflating: /content/drive/MyDrive/my_yolov8/Conbine_dataset_3_classes-1_80-20-10-str/valid/labels/005463.txt  \n",
            "  inflating: /content/drive/MyDrive/my_yolov8/Conbine_dataset_3_classes-1_80-20-10-str/valid/labels/006551.txt  \n",
            "  inflating: /content/drive/MyDrive/my_yolov8/Conbine_dataset_3_classes-1_80-20-10-str/valid/labels/006335.txt  \n",
            "  inflating: /content/drive/MyDrive/my_yolov8/Conbine_dataset_3_classes-1_80-20-10-str/valid/labels/006727.txt  \n",
            "  inflating: /content/drive/MyDrive/my_yolov8/Conbine_dataset_3_classes-1_80-20-10-str/valid/labels/003533.txt  \n",
            "  inflating: /content/drive/MyDrive/my_yolov8/Conbine_dataset_3_classes-1_80-20-10-str/valid/labels/006350.txt  \n",
            "  inflating: /content/drive/MyDrive/my_yolov8/Conbine_dataset_3_classes-1_80-20-10-str/valid/labels/001819.txt  \n",
            "  inflating: /content/drive/MyDrive/my_yolov8/Conbine_dataset_3_classes-1_80-20-10-str/valid/labels/005940.txt  \n",
            "  inflating: /content/drive/MyDrive/my_yolov8/Conbine_dataset_3_classes-1_80-20-10-str/valid/labels/000716.txt  \n",
            "  inflating: /content/drive/MyDrive/my_yolov8/Conbine_dataset_3_classes-1_80-20-10-str/valid/labels/005520.txt  \n",
            "  inflating: /content/drive/MyDrive/my_yolov8/Conbine_dataset_3_classes-1_80-20-10-str/valid/labels/002346.txt  \n",
            "  inflating: /content/drive/MyDrive/my_yolov8/Conbine_dataset_3_classes-1_80-20-10-str/valid/labels/000920.txt  \n",
            "  inflating: /content/drive/MyDrive/my_yolov8/Conbine_dataset_3_classes-1_80-20-10-str/valid/labels/004701.txt  \n",
            "  inflating: /content/drive/MyDrive/my_yolov8/Conbine_dataset_3_classes-1_80-20-10-str/valid/labels/003095.txt  \n",
            "  inflating: /content/drive/MyDrive/my_yolov8/Conbine_dataset_3_classes-1_80-20-10-str/valid/labels/000720.txt  \n",
            "  inflating: /content/drive/MyDrive/my_yolov8/Conbine_dataset_3_classes-1_80-20-10-str/valid/labels/005796.txt  \n",
            "  inflating: /content/drive/MyDrive/my_yolov8/Conbine_dataset_3_classes-1_80-20-10-str/valid/labels/000740.txt  \n",
            "  inflating: /content/drive/MyDrive/my_yolov8/Conbine_dataset_3_classes-1_80-20-10-str/valid/labels/001950.txt  \n",
            "  inflating: /content/drive/MyDrive/my_yolov8/Conbine_dataset_3_classes-1_80-20-10-str/valid/labels/000991.txt  \n",
            "  inflating: /content/drive/MyDrive/my_yolov8/Conbine_dataset_3_classes-1_80-20-10-str/valid/labels/007047.txt  \n",
            "  inflating: /content/drive/MyDrive/my_yolov8/Conbine_dataset_3_classes-1_80-20-10-str/valid/labels/001650.txt  \n",
            "  inflating: /content/drive/MyDrive/my_yolov8/Conbine_dataset_3_classes-1_80-20-10-str/valid/labels/004983.txt  \n",
            "  inflating: /content/drive/MyDrive/my_yolov8/Conbine_dataset_3_classes-1_80-20-10-str/valid/labels/005017.txt  \n",
            "  inflating: /content/drive/MyDrive/my_yolov8/Conbine_dataset_3_classes-1_80-20-10-str/valid/labels/004661.txt  \n",
            "  inflating: /content/drive/MyDrive/my_yolov8/Conbine_dataset_3_classes-1_80-20-10-str/valid/labels/004269.txt  \n",
            "  inflating: /content/drive/MyDrive/my_yolov8/Conbine_dataset_3_classes-1_80-20-10-str/valid/labels/002682.txt  \n",
            "  inflating: /content/drive/MyDrive/my_yolov8/Conbine_dataset_3_classes-1_80-20-10-str/valid/labels/003282.txt  \n",
            "  inflating: /content/drive/MyDrive/my_yolov8/Conbine_dataset_3_classes-1_80-20-10-str/valid/labels/006868.txt  \n",
            "  inflating: /content/drive/MyDrive/my_yolov8/Conbine_dataset_3_classes-1_80-20-10-str/valid/labels/007044.txt  \n",
            "  inflating: /content/drive/MyDrive/my_yolov8/Conbine_dataset_3_classes-1_80-20-10-str/valid/labels/006159.txt  \n",
            "  inflating: /content/drive/MyDrive/my_yolov8/Conbine_dataset_3_classes-1_80-20-10-str/valid/labels/001535.txt  \n",
            "  inflating: /content/drive/MyDrive/my_yolov8/Conbine_dataset_3_classes-1_80-20-10-str/valid/labels/006780.txt  \n",
            "  inflating: /content/drive/MyDrive/my_yolov8/Conbine_dataset_3_classes-1_80-20-10-str/valid/labels/001118.txt  \n",
            "  inflating: /content/drive/MyDrive/my_yolov8/Conbine_dataset_3_classes-1_80-20-10-str/valid/labels/004167.txt  \n",
            "  inflating: /content/drive/MyDrive/my_yolov8/Conbine_dataset_3_classes-1_80-20-10-str/valid/labels/007142.txt  \n",
            "  inflating: /content/drive/MyDrive/my_yolov8/Conbine_dataset_3_classes-1_80-20-10-str/valid/labels/004251.txt  \n",
            "  inflating: /content/drive/MyDrive/my_yolov8/Conbine_dataset_3_classes-1_80-20-10-str/valid/labels/002388.txt  \n",
            "  inflating: /content/drive/MyDrive/my_yolov8/Conbine_dataset_3_classes-1_80-20-10-str/valid/labels/006093.txt  \n",
            "  inflating: /content/drive/MyDrive/my_yolov8/Conbine_dataset_3_classes-1_80-20-10-str/valid/labels/002866.txt  \n",
            "  inflating: /content/drive/MyDrive/my_yolov8/Conbine_dataset_3_classes-1_80-20-10-str/valid/labels/000317.txt  \n",
            "  inflating: /content/drive/MyDrive/my_yolov8/Conbine_dataset_3_classes-1_80-20-10-str/valid/labels/002534.txt  \n",
            "  inflating: /content/drive/MyDrive/my_yolov8/Conbine_dataset_3_classes-1_80-20-10-str/valid/labels/005565.txt  \n",
            "  inflating: /content/drive/MyDrive/my_yolov8/Conbine_dataset_3_classes-1_80-20-10-str/valid/labels/005560.txt  \n",
            "  inflating: /content/drive/MyDrive/my_yolov8/Conbine_dataset_3_classes-1_80-20-10-str/valid/labels/005750.txt  \n",
            "  inflating: /content/drive/MyDrive/my_yolov8/Conbine_dataset_3_classes-1_80-20-10-str/valid/labels/005229.txt  \n",
            "  inflating: /content/drive/MyDrive/my_yolov8/Conbine_dataset_3_classes-1_80-20-10-str/valid/labels/005815.txt  \n",
            "  inflating: /content/drive/MyDrive/my_yolov8/Conbine_dataset_3_classes-1_80-20-10-str/valid/labels/000141.txt  \n",
            "  inflating: /content/drive/MyDrive/my_yolov8/Conbine_dataset_3_classes-1_80-20-10-str/valid/labels/003879.txt  \n",
            "  inflating: /content/drive/MyDrive/my_yolov8/Conbine_dataset_3_classes-1_80-20-10-str/valid/labels/005869.txt  \n",
            "  inflating: /content/drive/MyDrive/my_yolov8/Conbine_dataset_3_classes-1_80-20-10-str/valid/labels/002167.txt  \n",
            "  inflating: /content/drive/MyDrive/my_yolov8/Conbine_dataset_3_classes-1_80-20-10-str/valid/labels/001861.txt  \n",
            "  inflating: /content/drive/MyDrive/my_yolov8/Conbine_dataset_3_classes-1_80-20-10-str/valid/labels/002428.txt  \n",
            "  inflating: /content/drive/MyDrive/my_yolov8/Conbine_dataset_3_classes-1_80-20-10-str/valid/labels/004972.txt  \n",
            "  inflating: /content/drive/MyDrive/my_yolov8/Conbine_dataset_3_classes-1_80-20-10-str/valid/labels/003297.txt  \n",
            "  inflating: /content/drive/MyDrive/my_yolov8/Conbine_dataset_3_classes-1_80-20-10-str/valid/labels/004250.txt  \n",
            "  inflating: /content/drive/MyDrive/my_yolov8/Conbine_dataset_3_classes-1_80-20-10-str/valid/labels/000109.txt  \n",
            "  inflating: /content/drive/MyDrive/my_yolov8/Conbine_dataset_3_classes-1_80-20-10-str/valid/labels/001471.txt  \n",
            "  inflating: /content/drive/MyDrive/my_yolov8/Conbine_dataset_3_classes-1_80-20-10-str/valid/labels/002290.txt  \n",
            "  inflating: /content/drive/MyDrive/my_yolov8/Conbine_dataset_3_classes-1_80-20-10-str/valid/labels/003480.txt  \n",
            "  inflating: /content/drive/MyDrive/my_yolov8/Conbine_dataset_3_classes-1_80-20-10-str/valid/labels/002865.txt  \n",
            "  inflating: /content/drive/MyDrive/my_yolov8/Conbine_dataset_3_classes-1_80-20-10-str/valid/labels/000739.txt  \n",
            "  inflating: /content/drive/MyDrive/my_yolov8/Conbine_dataset_3_classes-1_80-20-10-str/valid/labels/003238.txt  \n",
            "  inflating: /content/drive/MyDrive/my_yolov8/Conbine_dataset_3_classes-1_80-20-10-str/valid/labels/001891.txt  \n",
            "  inflating: /content/drive/MyDrive/my_yolov8/Conbine_dataset_3_classes-1_80-20-10-str/valid/labels/001224.txt  \n",
            "  inflating: /content/drive/MyDrive/my_yolov8/Conbine_dataset_3_classes-1_80-20-10-str/valid/labels/001894.txt  \n",
            "  inflating: /content/drive/MyDrive/my_yolov8/Conbine_dataset_3_classes-1_80-20-10-str/valid/labels/000170.txt  \n",
            "  inflating: /content/drive/MyDrive/my_yolov8/Conbine_dataset_3_classes-1_80-20-10-str/valid/labels/000228.txt  \n",
            "  inflating: /content/drive/MyDrive/my_yolov8/Conbine_dataset_3_classes-1_80-20-10-str/valid/labels/003256.txt  \n",
            "  inflating: /content/drive/MyDrive/my_yolov8/Conbine_dataset_3_classes-1_80-20-10-str/valid/labels/006793.txt  \n",
            "  inflating: /content/drive/MyDrive/my_yolov8/Conbine_dataset_3_classes-1_80-20-10-str/valid/labels/001554.txt  \n",
            "  inflating: /content/drive/MyDrive/my_yolov8/Conbine_dataset_3_classes-1_80-20-10-str/valid/labels/002832.txt  \n",
            "  inflating: /content/drive/MyDrive/my_yolov8/Conbine_dataset_3_classes-1_80-20-10-str/valid/labels/001885.txt  \n",
            "  inflating: /content/drive/MyDrive/my_yolov8/Conbine_dataset_3_classes-1_80-20-10-str/valid/labels/004816.txt  \n",
            "  inflating: /content/drive/MyDrive/my_yolov8/Conbine_dataset_3_classes-1_80-20-10-str/valid/labels/004292.txt  \n",
            "  inflating: /content/drive/MyDrive/my_yolov8/Conbine_dataset_3_classes-1_80-20-10-str/valid/labels/000725.txt  \n",
            "  inflating: /content/drive/MyDrive/my_yolov8/Conbine_dataset_3_classes-1_80-20-10-str/valid/labels/005150.txt  \n",
            "  inflating: /content/drive/MyDrive/my_yolov8/Conbine_dataset_3_classes-1_80-20-10-str/valid/labels/001815.txt  \n",
            "  inflating: /content/drive/MyDrive/my_yolov8/Conbine_dataset_3_classes-1_80-20-10-str/valid/labels/000905.txt  \n",
            "  inflating: /content/drive/MyDrive/my_yolov8/Conbine_dataset_3_classes-1_80-20-10-str/valid/labels/007239.txt  \n",
            "  inflating: /content/drive/MyDrive/my_yolov8/Conbine_dataset_3_classes-1_80-20-10-str/valid/labels/001030.txt  \n",
            "  inflating: /content/drive/MyDrive/my_yolov8/Conbine_dataset_3_classes-1_80-20-10-str/valid/labels/001559.txt  \n",
            "  inflating: /content/drive/MyDrive/my_yolov8/Conbine_dataset_3_classes-1_80-20-10-str/valid/labels/001462.txt  \n",
            "  inflating: /content/drive/MyDrive/my_yolov8/Conbine_dataset_3_classes-1_80-20-10-str/valid/labels/004557.txt  \n",
            "  inflating: /content/drive/MyDrive/my_yolov8/Conbine_dataset_3_classes-1_80-20-10-str/valid/labels/005118.txt  \n",
            "  inflating: /content/drive/MyDrive/my_yolov8/Conbine_dataset_3_classes-1_80-20-10-str/valid/labels/002990.txt  \n",
            "  inflating: /content/drive/MyDrive/my_yolov8/Conbine_dataset_3_classes-1_80-20-10-str/valid/labels/002296.txt  \n",
            "  inflating: /content/drive/MyDrive/my_yolov8/Conbine_dataset_3_classes-1_80-20-10-str/valid/labels/004991.txt  \n",
            "  inflating: /content/drive/MyDrive/my_yolov8/Conbine_dataset_3_classes-1_80-20-10-str/valid/labels/000864.txt  \n",
            "  inflating: /content/drive/MyDrive/my_yolov8/Conbine_dataset_3_classes-1_80-20-10-str/valid/labels/005609.txt  \n",
            "  inflating: /content/drive/MyDrive/my_yolov8/Conbine_dataset_3_classes-1_80-20-10-str/valid/labels/006192.txt  \n",
            "  inflating: /content/drive/MyDrive/my_yolov8/Conbine_dataset_3_classes-1_80-20-10-str/valid/labels/001585.txt  \n",
            "  inflating: /content/drive/MyDrive/my_yolov8/Conbine_dataset_3_classes-1_80-20-10-str/valid/labels/005254.txt  \n",
            "  inflating: /content/drive/MyDrive/my_yolov8/Conbine_dataset_3_classes-1_80-20-10-str/valid/labels/003017.txt  \n",
            "  inflating: /content/drive/MyDrive/my_yolov8/Conbine_dataset_3_classes-1_80-20-10-str/valid/labels/006827.txt  \n",
            "  inflating: /content/drive/MyDrive/my_yolov8/Conbine_dataset_3_classes-1_80-20-10-str/valid/labels/004120.txt  \n",
            "  inflating: /content/drive/MyDrive/my_yolov8/Conbine_dataset_3_classes-1_80-20-10-str/valid/labels/005998.txt  \n",
            "  inflating: /content/drive/MyDrive/my_yolov8/Conbine_dataset_3_classes-1_80-20-10-str/valid/labels/001150.txt  \n",
            "  inflating: /content/drive/MyDrive/my_yolov8/Conbine_dataset_3_classes-1_80-20-10-str/valid/labels/005253.txt  \n",
            "  inflating: /content/drive/MyDrive/my_yolov8/Conbine_dataset_3_classes-1_80-20-10-str/valid/labels/006536.txt  \n",
            "  inflating: /content/drive/MyDrive/my_yolov8/Conbine_dataset_3_classes-1_80-20-10-str/valid/labels/001017.txt  \n",
            "  inflating: /content/drive/MyDrive/my_yolov8/Conbine_dataset_3_classes-1_80-20-10-str/valid/labels/005250.txt  \n",
            "  inflating: /content/drive/MyDrive/my_yolov8/Conbine_dataset_3_classes-1_80-20-10-str/valid/labels/004342.txt  \n",
            "  inflating: /content/drive/MyDrive/my_yolov8/Conbine_dataset_3_classes-1_80-20-10-str/valid/labels/006363.txt  \n",
            "  inflating: /content/drive/MyDrive/my_yolov8/Conbine_dataset_3_classes-1_80-20-10-str/valid/labels/004340.txt  \n",
            "  inflating: /content/drive/MyDrive/my_yolov8/Conbine_dataset_3_classes-1_80-20-10-str/valid/labels/004722.txt  \n",
            "  inflating: /content/drive/MyDrive/my_yolov8/Conbine_dataset_3_classes-1_80-20-10-str/valid/labels/002668.txt  \n",
            "  inflating: /content/drive/MyDrive/my_yolov8/Conbine_dataset_3_classes-1_80-20-10-str/valid/labels/006570.txt  \n",
            "  inflating: /content/drive/MyDrive/my_yolov8/Conbine_dataset_3_classes-1_80-20-10-str/valid/labels/006679.txt  \n",
            "  inflating: /content/drive/MyDrive/my_yolov8/Conbine_dataset_3_classes-1_80-20-10-str/valid/labels/004046.txt  \n",
            "  inflating: /content/drive/MyDrive/my_yolov8/Conbine_dataset_3_classes-1_80-20-10-str/valid/labels/005337.txt  \n",
            "  inflating: /content/drive/MyDrive/my_yolov8/Conbine_dataset_3_classes-1_80-20-10-str/valid/labels/001134.txt  \n",
            "  inflating: /content/drive/MyDrive/my_yolov8/Conbine_dataset_3_classes-1_80-20-10-str/valid/labels/002859.txt  \n",
            "  inflating: /content/drive/MyDrive/my_yolov8/Conbine_dataset_3_classes-1_80-20-10-str/valid/labels/005570.txt  \n",
            "  inflating: /content/drive/MyDrive/my_yolov8/Conbine_dataset_3_classes-1_80-20-10-str/valid/labels/000564.txt  \n",
            "  inflating: /content/drive/MyDrive/my_yolov8/Conbine_dataset_3_classes-1_80-20-10-str/valid/labels/006170.txt  \n",
            "  inflating: /content/drive/MyDrive/my_yolov8/Conbine_dataset_3_classes-1_80-20-10-str/valid/labels/001653.txt  \n",
            "  inflating: /content/drive/MyDrive/my_yolov8/Conbine_dataset_3_classes-1_80-20-10-str/valid/labels/005501.txt  \n",
            "  inflating: /content/drive/MyDrive/my_yolov8/Conbine_dataset_3_classes-1_80-20-10-str/valid/labels/003670.txt  \n",
            "  inflating: /content/drive/MyDrive/my_yolov8/Conbine_dataset_3_classes-1_80-20-10-str/valid/labels/005585.txt  \n",
            "  inflating: /content/drive/MyDrive/my_yolov8/Conbine_dataset_3_classes-1_80-20-10-str/valid/labels/004092.txt  \n",
            "  inflating: /content/drive/MyDrive/my_yolov8/Conbine_dataset_3_classes-1_80-20-10-str/valid/labels/000220.txt  \n",
            "  inflating: /content/drive/MyDrive/my_yolov8/Conbine_dataset_3_classes-1_80-20-10-str/valid/labels/002238.txt  \n",
            "  inflating: /content/drive/MyDrive/my_yolov8/Conbine_dataset_3_classes-1_80-20-10-str/valid/labels/001060.txt  \n",
            "  inflating: /content/drive/MyDrive/my_yolov8/Conbine_dataset_3_classes-1_80-20-10-str/valid/labels/005320.txt  \n",
            "  inflating: /content/drive/MyDrive/my_yolov8/Conbine_dataset_3_classes-1_80-20-10-str/valid/labels/002924.txt  \n",
            "  inflating: /content/drive/MyDrive/my_yolov8/Conbine_dataset_3_classes-1_80-20-10-str/valid/labels/002574.txt  \n",
            "  inflating: /content/drive/MyDrive/my_yolov8/Conbine_dataset_3_classes-1_80-20-10-str/valid/labels/006311.txt  \n",
            "  inflating: /content/drive/MyDrive/my_yolov8/Conbine_dataset_3_classes-1_80-20-10-str/valid/labels/005622.txt  \n",
            "  inflating: /content/drive/MyDrive/my_yolov8/Conbine_dataset_3_classes-1_80-20-10-str/valid/labels/001607.txt  \n",
            "  inflating: /content/drive/MyDrive/my_yolov8/Conbine_dataset_3_classes-1_80-20-10-str/valid/labels/006860.txt  \n",
            "  inflating: /content/drive/MyDrive/my_yolov8/Conbine_dataset_3_classes-1_80-20-10-str/valid/labels/004564.txt  \n",
            "  inflating: /content/drive/MyDrive/my_yolov8/Conbine_dataset_3_classes-1_80-20-10-str/valid/labels/003558.txt  \n",
            "  inflating: /content/drive/MyDrive/my_yolov8/Conbine_dataset_3_classes-1_80-20-10-str/valid/labels/000136.txt  \n",
            "  inflating: /content/drive/MyDrive/my_yolov8/Conbine_dataset_3_classes-1_80-20-10-str/valid/labels/000223.txt  \n",
            "  inflating: /content/drive/MyDrive/my_yolov8/Conbine_dataset_3_classes-1_80-20-10-str/valid/labels/004207.txt  \n",
            "  inflating: /content/drive/MyDrive/my_yolov8/Conbine_dataset_3_classes-1_80-20-10-str/valid/labels/002493.txt  \n",
            "  inflating: /content/drive/MyDrive/my_yolov8/Conbine_dataset_3_classes-1_80-20-10-str/valid/labels/000723.txt  \n",
            "  inflating: /content/drive/MyDrive/my_yolov8/Conbine_dataset_3_classes-1_80-20-10-str/valid/labels/005096.txt  \n",
            "  inflating: /content/drive/MyDrive/my_yolov8/Conbine_dataset_3_classes-1_80-20-10-str/valid/labels/000899.txt  \n",
            "  inflating: /content/drive/MyDrive/my_yolov8/Conbine_dataset_3_classes-1_80-20-10-str/valid/labels/005523.txt  \n",
            "  inflating: /content/drive/MyDrive/my_yolov8/Conbine_dataset_3_classes-1_80-20-10-str/valid/labels/002779.txt  \n",
            "  inflating: /content/drive/MyDrive/my_yolov8/Conbine_dataset_3_classes-1_80-20-10-str/valid/labels/004177.txt  \n",
            "  inflating: /content/drive/MyDrive/my_yolov8/Conbine_dataset_3_classes-1_80-20-10-str/valid/labels/001849.txt  \n",
            "  inflating: /content/drive/MyDrive/my_yolov8/Conbine_dataset_3_classes-1_80-20-10-str/valid/labels/003618.txt  \n",
            "  inflating: /content/drive/MyDrive/my_yolov8/Conbine_dataset_3_classes-1_80-20-10-str/valid/labels/006100.txt  \n",
            "  inflating: /content/drive/MyDrive/my_yolov8/Conbine_dataset_3_classes-1_80-20-10-str/valid/labels/004824.txt  \n",
            "  inflating: /content/drive/MyDrive/my_yolov8/Conbine_dataset_3_classes-1_80-20-10-str/valid/labels/000761.txt  \n",
            "  inflating: /content/drive/MyDrive/my_yolov8/Conbine_dataset_3_classes-1_80-20-10-str/valid/labels/004662.txt  \n",
            "  inflating: /content/drive/MyDrive/my_yolov8/Conbine_dataset_3_classes-1_80-20-10-str/valid/labels/005335.txt  \n",
            "  inflating: /content/drive/MyDrive/my_yolov8/Conbine_dataset_3_classes-1_80-20-10-str/valid/labels/000891.txt  \n",
            "  inflating: /content/drive/MyDrive/my_yolov8/Conbine_dataset_3_classes-1_80-20-10-str/valid/labels/001843.txt  \n",
            "  inflating: /content/drive/MyDrive/my_yolov8/Conbine_dataset_3_classes-1_80-20-10-str/valid/labels/004495.txt  \n",
            "  inflating: /content/drive/MyDrive/my_yolov8/Conbine_dataset_3_classes-1_80-20-10-str/valid/labels/006707.txt  \n",
            "  inflating: /content/drive/MyDrive/my_yolov8/Conbine_dataset_3_classes-1_80-20-10-str/valid/labels/003092.txt  \n",
            "  inflating: /content/drive/MyDrive/my_yolov8/Conbine_dataset_3_classes-1_80-20-10-str/valid/labels/003207.txt  \n",
            "  inflating: /content/drive/MyDrive/my_yolov8/Conbine_dataset_3_classes-1_80-20-10-str/valid/labels/003014.txt  \n",
            "  inflating: /content/drive/MyDrive/my_yolov8/Conbine_dataset_3_classes-1_80-20-10-str/valid/labels/003592.txt  \n",
            "  inflating: /content/drive/MyDrive/my_yolov8/Conbine_dataset_3_classes-1_80-20-10-str/valid/labels/002483.txt  \n",
            "  inflating: /content/drive/MyDrive/my_yolov8/Conbine_dataset_3_classes-1_80-20-10-str/valid/labels/005033.txt  \n",
            "  inflating: /content/drive/MyDrive/my_yolov8/Conbine_dataset_3_classes-1_80-20-10-str/valid/labels/002812.txt  \n",
            "  inflating: /content/drive/MyDrive/my_yolov8/Conbine_dataset_3_classes-1_80-20-10-str/valid/labels/000994.txt  \n",
            "  inflating: /content/drive/MyDrive/my_yolov8/Conbine_dataset_3_classes-1_80-20-10-str/valid/labels/001797.txt  \n",
            "  inflating: /content/drive/MyDrive/my_yolov8/Conbine_dataset_3_classes-1_80-20-10-str/valid/labels/002347.txt  \n",
            "  inflating: /content/drive/MyDrive/my_yolov8/Conbine_dataset_3_classes-1_80-20-10-str/valid/labels/006629.txt  \n",
            "  inflating: /content/drive/MyDrive/my_yolov8/Conbine_dataset_3_classes-1_80-20-10-str/valid/labels/004827.txt  \n",
            "  inflating: /content/drive/MyDrive/my_yolov8/Conbine_dataset_3_classes-1_80-20-10-str/valid/labels/003049.txt  \n",
            "  inflating: /content/drive/MyDrive/my_yolov8/Conbine_dataset_3_classes-1_80-20-10-str/valid/labels/000444.txt  \n",
            "  inflating: /content/drive/MyDrive/my_yolov8/Conbine_dataset_3_classes-1_80-20-10-str/valid/labels/004551.txt  \n",
            "  inflating: /content/drive/MyDrive/my_yolov8/Conbine_dataset_3_classes-1_80-20-10-str/valid/labels/000532.txt  \n",
            "  inflating: /content/drive/MyDrive/my_yolov8/Conbine_dataset_3_classes-1_80-20-10-str/valid/labels/000997.txt  \n",
            "  inflating: /content/drive/MyDrive/my_yolov8/Conbine_dataset_3_classes-1_80-20-10-str/valid/labels/001342.txt  \n",
            "  inflating: /content/drive/MyDrive/my_yolov8/Conbine_dataset_3_classes-1_80-20-10-str/valid/labels/000552.txt  \n",
            "  inflating: /content/drive/MyDrive/my_yolov8/Conbine_dataset_3_classes-1_80-20-10-str/valid/labels/001096.txt  \n",
            "  inflating: /content/drive/MyDrive/my_yolov8/Conbine_dataset_3_classes-1_80-20-10-str/valid/labels/005719.txt  \n",
            "  inflating: /content/drive/MyDrive/my_yolov8/Conbine_dataset_3_classes-1_80-20-10-str/valid/labels/001692.txt  \n",
            "  inflating: /content/drive/MyDrive/my_yolov8/Conbine_dataset_3_classes-1_80-20-10-str/valid/labels/001790.txt  \n",
            "  inflating: /content/drive/MyDrive/my_yolov8/Conbine_dataset_3_classes-1_80-20-10-str/valid/labels/005468.txt  \n",
            "  inflating: /content/drive/MyDrive/my_yolov8/Conbine_dataset_3_classes-1_80-20-10-str/valid/labels/004899.txt  \n",
            "  inflating: /content/drive/MyDrive/my_yolov8/Conbine_dataset_3_classes-1_80-20-10-str/valid/labels/003587.txt  \n",
            "  inflating: /content/drive/MyDrive/my_yolov8/Conbine_dataset_3_classes-1_80-20-10-str/valid/labels/005067.txt  \n",
            "  inflating: /content/drive/MyDrive/my_yolov8/Conbine_dataset_3_classes-1_80-20-10-str/valid/labels/004868.txt  \n",
            "  inflating: /content/drive/MyDrive/my_yolov8/Conbine_dataset_3_classes-1_80-20-10-str/valid/labels/000589.txt  \n",
            "  inflating: /content/drive/MyDrive/my_yolov8/Conbine_dataset_3_classes-1_80-20-10-str/valid/labels/003990.txt  \n",
            "  inflating: /content/drive/MyDrive/my_yolov8/Conbine_dataset_3_classes-1_80-20-10-str/valid/labels/001682.txt  \n",
            "  inflating: /content/drive/MyDrive/my_yolov8/Conbine_dataset_3_classes-1_80-20-10-str/valid/labels/000683.txt  \n",
            "  inflating: /content/drive/MyDrive/my_yolov8/Conbine_dataset_3_classes-1_80-20-10-str/valid/labels/007012.txt  \n",
            "  inflating: /content/drive/MyDrive/my_yolov8/Conbine_dataset_3_classes-1_80-20-10-str/valid/labels/000206.txt  \n",
            "  inflating: /content/drive/MyDrive/my_yolov8/Conbine_dataset_3_classes-1_80-20-10-str/valid/labels/005790.txt  \n",
            "  inflating: /content/drive/MyDrive/my_yolov8/Conbine_dataset_3_classes-1_80-20-10-str/valid/labels/002173.txt  \n",
            "  inflating: /content/drive/MyDrive/my_yolov8/Conbine_dataset_3_classes-1_80-20-10-str/valid/labels/003547.txt  \n",
            "  inflating: /content/drive/MyDrive/my_yolov8/Conbine_dataset_3_classes-1_80-20-10-str/valid/labels/000507.txt  \n",
            "  inflating: /content/drive/MyDrive/my_yolov8/Conbine_dataset_3_classes-1_80-20-10-str/valid/labels/005942.txt  \n",
            "  inflating: /content/drive/MyDrive/my_yolov8/Conbine_dataset_3_classes-1_80-20-10-str/valid/labels/001069.txt  \n",
            "  inflating: /content/drive/MyDrive/my_yolov8/Conbine_dataset_3_classes-1_80-20-10-str/valid/labels/001086.txt  \n",
            "  inflating: /content/drive/MyDrive/my_yolov8/Conbine_dataset_3_classes-1_80-20-10-str/valid/labels/002105.txt  \n",
            "  inflating: /content/drive/MyDrive/my_yolov8/Conbine_dataset_3_classes-1_80-20-10-str/valid/labels/003166.txt  \n",
            "  inflating: /content/drive/MyDrive/my_yolov8/Conbine_dataset_3_classes-1_80-20-10-str/valid/labels/001538.txt  \n",
            "  inflating: /content/drive/MyDrive/my_yolov8/Conbine_dataset_3_classes-1_80-20-10-str/valid/labels/007192.txt  \n",
            "  inflating: /content/drive/MyDrive/my_yolov8/Conbine_dataset_3_classes-1_80-20-10-str/valid/labels/000096.txt  \n",
            "  inflating: /content/drive/MyDrive/my_yolov8/Conbine_dataset_3_classes-1_80-20-10-str/valid/labels/000373.txt  \n",
            "  inflating: /content/drive/MyDrive/my_yolov8/Conbine_dataset_3_classes-1_80-20-10-str/valid/labels/006486.txt  \n",
            "  inflating: /content/drive/MyDrive/my_yolov8/Conbine_dataset_3_classes-1_80-20-10-str/valid/labels/005358.txt  \n",
            "  inflating: /content/drive/MyDrive/my_yolov8/Conbine_dataset_3_classes-1_80-20-10-str/valid/labels/002673.txt  \n",
            "  inflating: /content/drive/MyDrive/my_yolov8/Conbine_dataset_3_classes-1_80-20-10-str/valid/labels/002997.txt  \n",
            "  inflating: /content/drive/MyDrive/my_yolov8/Conbine_dataset_3_classes-1_80-20-10-str/valid/labels/003423.txt  \n",
            "  inflating: /content/drive/MyDrive/my_yolov8/Conbine_dataset_3_classes-1_80-20-10-str/valid/labels/000440.txt  \n",
            "  inflating: /content/drive/MyDrive/my_yolov8/Conbine_dataset_3_classes-1_80-20-10-str/valid/labels/004916.txt  \n",
            "  inflating: /content/drive/MyDrive/my_yolov8/Conbine_dataset_3_classes-1_80-20-10-str/valid/labels/001780.txt  \n",
            "  inflating: /content/drive/MyDrive/my_yolov8/Conbine_dataset_3_classes-1_80-20-10-str/valid/labels/001210.txt  \n",
            "  inflating: /content/drive/MyDrive/my_yolov8/Conbine_dataset_3_classes-1_80-20-10-str/valid/labels/004449.txt  \n",
            "  inflating: /content/drive/MyDrive/my_yolov8/Conbine_dataset_3_classes-1_80-20-10-str/valid/labels/004736.txt  \n",
            "  inflating: /content/drive/MyDrive/my_yolov8/Conbine_dataset_3_classes-1_80-20-10-str/valid/labels/004124.txt  \n",
            "  inflating: /content/drive/MyDrive/my_yolov8/Conbine_dataset_3_classes-1_80-20-10-str/valid/labels/006314.txt  \n",
            "  inflating: /content/drive/MyDrive/my_yolov8/Conbine_dataset_3_classes-1_80-20-10-str/valid/labels/003716.txt  \n",
            "  inflating: /content/drive/MyDrive/my_yolov8/Conbine_dataset_3_classes-1_80-20-10-str/valid/labels/002547.txt  \n",
            "  inflating: /content/drive/MyDrive/my_yolov8/Conbine_dataset_3_classes-1_80-20-10-str/valid/labels/000202.txt  \n",
            "  inflating: /content/drive/MyDrive/my_yolov8/Conbine_dataset_3_classes-1_80-20-10-str/valid/labels/002234.txt  \n",
            "  inflating: /content/drive/MyDrive/my_yolov8/Conbine_dataset_3_classes-1_80-20-10-str/valid/labels/006702.txt  \n",
            "  inflating: /content/drive/MyDrive/my_yolov8/Conbine_dataset_3_classes-1_80-20-10-str/valid/labels/006511.txt  \n",
            "  inflating: /content/drive/MyDrive/my_yolov8/Conbine_dataset_3_classes-1_80-20-10-str/valid/labels/006165.txt  \n",
            "  inflating: /content/drive/MyDrive/my_yolov8/Conbine_dataset_3_classes-1_80-20-10-str/valid/labels/003315.txt  \n",
            "  inflating: /content/drive/MyDrive/my_yolov8/Conbine_dataset_3_classes-1_80-20-10-str/valid/labels/001786.txt  \n",
            "  inflating: /content/drive/MyDrive/my_yolov8/Conbine_dataset_3_classes-1_80-20-10-str/valid/labels/002646.txt  \n",
            "  inflating: /content/drive/MyDrive/my_yolov8/Conbine_dataset_3_classes-1_80-20-10-str/valid/labels/005776.txt  \n",
            "  inflating: /content/drive/MyDrive/my_yolov8/Conbine_dataset_3_classes-1_80-20-10-str/valid/labels/000251.txt  \n",
            "  inflating: /content/drive/MyDrive/my_yolov8/Conbine_dataset_3_classes-1_80-20-10-str/valid/labels/005763.txt  \n",
            "  inflating: /content/drive/MyDrive/my_yolov8/Conbine_dataset_3_classes-1_80-20-10-str/valid/labels/005127.txt  \n",
            "  inflating: /content/drive/MyDrive/my_yolov8/Conbine_dataset_3_classes-1_80-20-10-str/valid/labels/003720.txt  \n",
            "  inflating: /content/drive/MyDrive/my_yolov8/Conbine_dataset_3_classes-1_80-20-10-str/valid/labels/005438.txt  \n",
            "  inflating: /content/drive/MyDrive/my_yolov8/Conbine_dataset_3_classes-1_80-20-10-str/valid/labels/006833.txt  \n",
            "  inflating: /content/drive/MyDrive/my_yolov8/Conbine_dataset_3_classes-1_80-20-10-str/valid/labels/005742.txt  \n",
            "  inflating: /content/drive/MyDrive/my_yolov8/Conbine_dataset_3_classes-1_80-20-10-str/valid/labels/003478.txt  \n",
            "  inflating: /content/drive/MyDrive/my_yolov8/Conbine_dataset_3_classes-1_80-20-10-str/valid/labels/003904.txt  \n",
            "  inflating: /content/drive/MyDrive/my_yolov8/Conbine_dataset_3_classes-1_80-20-10-str/valid/labels/000857.txt  \n",
            "  inflating: /content/drive/MyDrive/my_yolov8/Conbine_dataset_3_classes-1_80-20-10-str/valid/labels/003733.txt  \n",
            "  inflating: /content/drive/MyDrive/my_yolov8/Conbine_dataset_3_classes-1_80-20-10-str/valid/labels/000573.txt  \n",
            "  inflating: /content/drive/MyDrive/my_yolov8/Conbine_dataset_3_classes-1_80-20-10-str/valid/labels/002044.txt  \n",
            "  inflating: /content/drive/MyDrive/my_yolov8/Conbine_dataset_3_classes-1_80-20-10-str/valid/labels/002438.txt  \n",
            "  inflating: /content/drive/MyDrive/my_yolov8/Conbine_dataset_3_classes-1_80-20-10-str/valid/labels/002524.txt  \n",
            "  inflating: /content/drive/MyDrive/my_yolov8/Conbine_dataset_3_classes-1_80-20-10-str/valid/labels/001170.txt  \n",
            "  inflating: /content/drive/MyDrive/my_yolov8/Conbine_dataset_3_classes-1_80-20-10-str/valid/labels/006060.txt  \n",
            "  inflating: /content/drive/MyDrive/my_yolov8/Conbine_dataset_3_classes-1_80-20-10-str/valid/labels/000143.txt  \n",
            "  inflating: /content/drive/MyDrive/my_yolov8/Conbine_dataset_3_classes-1_80-20-10-str/valid/labels/005650.txt  \n",
            "  inflating: /content/drive/MyDrive/my_yolov8/Conbine_dataset_3_classes-1_80-20-10-str/valid/labels/002133.txt  \n",
            "  inflating: /content/drive/MyDrive/my_yolov8/Conbine_dataset_3_classes-1_80-20-10-str/valid/labels/006585.txt  \n",
            "  inflating: /content/drive/MyDrive/my_yolov8/Conbine_dataset_3_classes-1_80-20-10-str/valid/labels/001529.txt  \n",
            "  inflating: /content/drive/MyDrive/my_yolov8/Conbine_dataset_3_classes-1_80-20-10-str/valid/labels/005282.txt  \n",
            "  inflating: /content/drive/MyDrive/my_yolov8/Conbine_dataset_3_classes-1_80-20-10-str/valid/labels/000653.txt  \n",
            "  inflating: /content/drive/MyDrive/my_yolov8/Conbine_dataset_3_classes-1_80-20-10-str/valid/labels/002946.txt  \n",
            "  inflating: /content/drive/MyDrive/my_yolov8/Conbine_dataset_3_classes-1_80-20-10-str/valid/labels/001046.txt  \n",
            "  inflating: /content/drive/MyDrive/my_yolov8/Conbine_dataset_3_classes-1_80-20-10-str/valid/labels/006661.txt  \n",
            "  inflating: /content/drive/MyDrive/my_yolov8/Conbine_dataset_3_classes-1_80-20-10-str/valid/labels/003772.txt  \n",
            "  inflating: /content/drive/MyDrive/my_yolov8/Conbine_dataset_3_classes-1_80-20-10-str/valid/labels/002619.txt  \n",
            "  inflating: /content/drive/MyDrive/my_yolov8/Conbine_dataset_3_classes-1_80-20-10-str/valid/labels/003194.txt  \n",
            "  inflating: /content/drive/MyDrive/my_yolov8/Conbine_dataset_3_classes-1_80-20-10-str/valid/labels/000509.txt  \n",
            "  inflating: /content/drive/MyDrive/my_yolov8/Conbine_dataset_3_classes-1_80-20-10-str/valid/labels/000122.txt  \n",
            "  inflating: /content/drive/MyDrive/my_yolov8/Conbine_dataset_3_classes-1_80-20-10-str/valid/labels/002291.txt  \n",
            "  inflating: /content/drive/MyDrive/my_yolov8/Conbine_dataset_3_classes-1_80-20-10-str/valid/labels/003956.txt  \n",
            "  inflating: /content/drive/MyDrive/my_yolov8/Conbine_dataset_3_classes-1_80-20-10-str/valid/labels/001282.txt  \n",
            "  inflating: /content/drive/MyDrive/my_yolov8/Conbine_dataset_3_classes-1_80-20-10-str/valid/labels/001998.txt  \n",
            "  inflating: /content/drive/MyDrive/my_yolov8/Conbine_dataset_3_classes-1_80-20-10-str/valid/labels/000906.txt  \n",
            "  inflating: /content/drive/MyDrive/my_yolov8/Conbine_dataset_3_classes-1_80-20-10-str/valid/labels/003698.txt  \n",
            "  inflating: /content/drive/MyDrive/my_yolov8/Conbine_dataset_3_classes-1_80-20-10-str/valid/labels/004740.txt  \n",
            "  inflating: /content/drive/MyDrive/my_yolov8/Conbine_dataset_3_classes-1_80-20-10-str/valid/labels/006879.txt  \n",
            "  inflating: /content/drive/MyDrive/my_yolov8/Conbine_dataset_3_classes-1_80-20-10-str/valid/labels/004635.txt  \n",
            "  inflating: /content/drive/MyDrive/my_yolov8/Conbine_dataset_3_classes-1_80-20-10-str/valid/labels/004362.txt  \n",
            "  inflating: /content/drive/MyDrive/my_yolov8/Conbine_dataset_3_classes-1_80-20-10-str/valid/labels/001340.txt  \n",
            "  inflating: /content/drive/MyDrive/my_yolov8/Conbine_dataset_3_classes-1_80-20-10-str/valid/labels/003217.txt  \n",
            "  inflating: /content/drive/MyDrive/my_yolov8/Conbine_dataset_3_classes-1_80-20-10-str/valid/labels/001082.txt  \n",
            "  inflating: /content/drive/MyDrive/my_yolov8/Conbine_dataset_3_classes-1_80-20-10-str/valid/labels/005460.txt  \n",
            "  inflating: /content/drive/MyDrive/my_yolov8/Conbine_dataset_3_classes-1_80-20-10-str/valid/labels/005160.txt  \n",
            "  inflating: /content/drive/MyDrive/my_yolov8/Conbine_dataset_3_classes-1_80-20-10-str/valid/labels/001136.txt  \n",
            "  inflating: /content/drive/MyDrive/my_yolov8/Conbine_dataset_3_classes-1_80-20-10-str/valid/labels/001130.txt  \n",
            "  inflating: /content/drive/MyDrive/my_yolov8/Conbine_dataset_3_classes-1_80-20-10-str/valid/labels/001763.txt  \n",
            "  inflating: /content/drive/MyDrive/my_yolov8/Conbine_dataset_3_classes-1_80-20-10-str/valid/labels/001510.txt  \n",
            "  inflating: /content/drive/MyDrive/my_yolov8/Conbine_dataset_3_classes-1_80-20-10-str/valid/labels/002634.txt  \n",
            "  inflating: /content/drive/MyDrive/my_yolov8/Conbine_dataset_3_classes-1_80-20-10-str/valid/labels/003784.txt  \n",
            "  inflating: /content/drive/MyDrive/my_yolov8/Conbine_dataset_3_classes-1_80-20-10-str/valid/labels/000021.txt  \n",
            "  inflating: /content/drive/MyDrive/my_yolov8/Conbine_dataset_3_classes-1_80-20-10-str/valid/labels/002676.txt  \n",
            "  inflating: /content/drive/MyDrive/my_yolov8/Conbine_dataset_3_classes-1_80-20-10-str/valid/labels/001608.txt  \n",
            "  inflating: /content/drive/MyDrive/my_yolov8/Conbine_dataset_3_classes-1_80-20-10-str/valid/labels/002298.txt  \n",
            "  inflating: /content/drive/MyDrive/my_yolov8/Conbine_dataset_3_classes-1_80-20-10-str/valid/labels/001439.txt  \n",
            "  inflating: /content/drive/MyDrive/my_yolov8/Conbine_dataset_3_classes-1_80-20-10-str/valid/labels/001938.txt  \n",
            "  inflating: /content/drive/MyDrive/my_yolov8/Conbine_dataset_3_classes-1_80-20-10-str/valid/labels/006517.txt  \n",
            "  inflating: /content/drive/MyDrive/my_yolov8/Conbine_dataset_3_classes-1_80-20-10-str/valid/labels/005265.txt  \n",
            "  inflating: /content/drive/MyDrive/my_yolov8/Conbine_dataset_3_classes-1_80-20-10-str/valid/labels/001146.txt  \n",
            "  inflating: /content/drive/MyDrive/my_yolov8/Conbine_dataset_3_classes-1_80-20-10-str/valid/labels/003975.txt  \n",
            "  inflating: /content/drive/MyDrive/my_yolov8/Conbine_dataset_3_classes-1_80-20-10-str/valid/labels/003159.txt  \n",
            "  inflating: /content/drive/MyDrive/my_yolov8/Conbine_dataset_3_classes-1_80-20-10-str/valid/labels/001320.txt  \n",
            "  inflating: /content/drive/MyDrive/my_yolov8/Conbine_dataset_3_classes-1_80-20-10-str/valid/labels/004236.txt  \n",
            "  inflating: /content/drive/MyDrive/my_yolov8/Conbine_dataset_3_classes-1_80-20-10-str/valid/labels/003300.txt  \n",
            "  inflating: /content/drive/MyDrive/my_yolov8/Conbine_dataset_3_classes-1_80-20-10-str/valid/labels/000401.txt  \n",
            "  inflating: /content/drive/MyDrive/my_yolov8/Conbine_dataset_3_classes-1_80-20-10-str/valid/labels/004358.txt  \n",
            "  inflating: /content/drive/MyDrive/my_yolov8/Conbine_dataset_3_classes-1_80-20-10-str/valid/labels/004451.txt  \n",
            "  inflating: /content/drive/MyDrive/my_yolov8/Conbine_dataset_3_classes-1_80-20-10-str/valid/labels/004095.txt  \n",
            "  inflating: /content/drive/MyDrive/my_yolov8/Conbine_dataset_3_classes-1_80-20-10-str/valid/labels/001582.txt  \n",
            "  inflating: /content/drive/MyDrive/my_yolov8/Conbine_dataset_3_classes-1_80-20-10-str/valid/labels/003305.txt  \n",
            "  inflating: /content/drive/MyDrive/my_yolov8/Conbine_dataset_3_classes-1_80-20-10-str/valid/labels/002897.txt  \n",
            "  inflating: /content/drive/MyDrive/my_yolov8/Conbine_dataset_3_classes-1_80-20-10-str/valid/labels/005803.txt  \n",
            "  inflating: /content/drive/MyDrive/my_yolov8/Conbine_dataset_3_classes-1_80-20-10-str/valid/labels/006778.txt  \n",
            "  inflating: /content/drive/MyDrive/my_yolov8/Conbine_dataset_3_classes-1_80-20-10-str/valid/labels/002549.txt  \n",
            "  inflating: /content/drive/MyDrive/my_yolov8/Conbine_dataset_3_classes-1_80-20-10-str/valid/labels/004508.txt  \n",
            "  inflating: /content/drive/MyDrive/my_yolov8/Conbine_dataset_3_classes-1_80-20-10-str/valid/labels/004004.txt  \n",
            "  inflating: /content/drive/MyDrive/my_yolov8/Conbine_dataset_3_classes-1_80-20-10-str/valid/labels/000237.txt  \n",
            "  inflating: /content/drive/MyDrive/my_yolov8/Conbine_dataset_3_classes-1_80-20-10-str/valid/labels/000354.txt  \n",
            "  inflating: /content/drive/MyDrive/my_yolov8/Conbine_dataset_3_classes-1_80-20-10-str/valid/labels/005793.txt  \n",
            "  inflating: /content/drive/MyDrive/my_yolov8/Conbine_dataset_3_classes-1_80-20-10-str/valid/labels/002221.txt  \n",
            "  inflating: /content/drive/MyDrive/my_yolov8/Conbine_dataset_3_classes-1_80-20-10-str/valid/labels/002068.txt  \n",
            "  inflating: /content/drive/MyDrive/my_yolov8/Conbine_dataset_3_classes-1_80-20-10-str/valid/labels/002719.txt  \n",
            "  inflating: /content/drive/MyDrive/my_yolov8/Conbine_dataset_3_classes-1_80-20-10-str/valid/labels/004526.txt  \n",
            "  inflating: /content/drive/MyDrive/my_yolov8/Conbine_dataset_3_classes-1_80-20-10-str/valid/labels/004229.txt  \n",
            "  inflating: /content/drive/MyDrive/my_yolov8/Conbine_dataset_3_classes-1_80-20-10-str/valid/labels/006148.txt  \n",
            "  inflating: /content/drive/MyDrive/my_yolov8/Conbine_dataset_3_classes-1_80-20-10-str/valid/labels/000113.txt  \n",
            "  inflating: /content/drive/MyDrive/my_yolov8/Conbine_dataset_3_classes-1_80-20-10-str/valid/labels/001734.txt  \n",
            "  inflating: /content/drive/MyDrive/my_yolov8/Conbine_dataset_3_classes-1_80-20-10-str/valid/labels/000437.txt  \n",
            "  inflating: /content/drive/MyDrive/my_yolov8/Conbine_dataset_3_classes-1_80-20-10-str/valid/labels/007008.txt  \n",
            "  inflating: /content/drive/MyDrive/my_yolov8/Conbine_dataset_3_classes-1_80-20-10-str/valid/labels/002966.txt  \n",
            "  inflating: /content/drive/MyDrive/my_yolov8/Conbine_dataset_3_classes-1_80-20-10-str/valid/labels/005274.txt  \n",
            "  inflating: /content/drive/MyDrive/my_yolov8/Conbine_dataset_3_classes-1_80-20-10-str/valid/labels/002165.txt  \n",
            "  inflating: /content/drive/MyDrive/my_yolov8/Conbine_dataset_3_classes-1_80-20-10-str/valid/labels/001875.txt  \n",
            "  inflating: /content/drive/MyDrive/my_yolov8/Conbine_dataset_3_classes-1_80-20-10-str/valid/labels/006028.txt  \n",
            "  inflating: /content/drive/MyDrive/my_yolov8/Conbine_dataset_3_classes-1_80-20-10-str/valid/labels/000054.txt  \n",
            "  inflating: /content/drive/MyDrive/my_yolov8/Conbine_dataset_3_classes-1_80-20-10-str/valid/labels/002709.txt  \n",
            "  inflating: /content/drive/MyDrive/my_yolov8/Conbine_dataset_3_classes-1_80-20-10-str/valid/labels/003033.txt  \n",
            "  inflating: /content/drive/MyDrive/my_yolov8/Conbine_dataset_3_classes-1_80-20-10-str/valid/labels/002294.txt  \n",
            "  inflating: /content/drive/MyDrive/my_yolov8/Conbine_dataset_3_classes-1_80-20-10-str/valid/labels/004114.txt  \n",
            "  inflating: /content/drive/MyDrive/my_yolov8/Conbine_dataset_3_classes-1_80-20-10-str/valid/labels/006035.txt  \n",
            "  inflating: /content/drive/MyDrive/my_yolov8/Conbine_dataset_3_classes-1_80-20-10-str/valid/labels/007014.txt  \n",
            "  inflating: /content/drive/MyDrive/my_yolov8/Conbine_dataset_3_classes-1_80-20-10-str/valid/labels/005393.txt  \n",
            "  inflating: /content/drive/MyDrive/my_yolov8/Conbine_dataset_3_classes-1_80-20-10-str/valid/labels/001920.txt  \n",
            "  inflating: /content/drive/MyDrive/my_yolov8/Conbine_dataset_3_classes-1_80-20-10-str/valid/labels/004698.txt  \n",
            "  inflating: /content/drive/MyDrive/my_yolov8/Conbine_dataset_3_classes-1_80-20-10-str/valid/labels/004371.txt  \n",
            "  inflating: /content/drive/MyDrive/my_yolov8/Conbine_dataset_3_classes-1_80-20-10-str/valid/labels/003789.txt  \n",
            "  inflating: /content/drive/MyDrive/my_yolov8/Conbine_dataset_3_classes-1_80-20-10-str/valid/labels/002891.txt  \n",
            "  inflating: /content/drive/MyDrive/my_yolov8/Conbine_dataset_3_classes-1_80-20-10-str/valid/labels/003157.txt  \n",
            "  inflating: /content/drive/MyDrive/my_yolov8/Conbine_dataset_3_classes-1_80-20-10-str/valid/labels/007240.txt  \n",
            "  inflating: /content/drive/MyDrive/my_yolov8/Conbine_dataset_3_classes-1_80-20-10-str/valid/labels/005905.txt  \n",
            "  inflating: /content/drive/MyDrive/my_yolov8/Conbine_dataset_3_classes-1_80-20-10-str/valid/labels/002964.txt  \n",
            "  inflating: /content/drive/MyDrive/my_yolov8/Conbine_dataset_3_classes-1_80-20-10-str/valid/labels/000633.txt  \n",
            "  inflating: /content/drive/MyDrive/my_yolov8/Conbine_dataset_3_classes-1_80-20-10-str/valid/labels/005126.txt  \n",
            "  inflating: /content/drive/MyDrive/my_yolov8/Conbine_dataset_3_classes-1_80-20-10-str/valid/labels/004331.txt  \n",
            "  inflating: /content/drive/MyDrive/my_yolov8/Conbine_dataset_3_classes-1_80-20-10-str/valid/labels/001494.txt  \n",
            "  inflating: /content/drive/MyDrive/my_yolov8/Conbine_dataset_3_classes-1_80-20-10-str/valid/labels/001361.txt  \n",
            "  inflating: /content/drive/MyDrive/my_yolov8/Conbine_dataset_3_classes-1_80-20-10-str/valid/labels/002630.txt  \n",
            "  inflating: /content/drive/MyDrive/my_yolov8/Conbine_dataset_3_classes-1_80-20-10-str/valid/labels/002591.txt  \n",
            "  inflating: /content/drive/MyDrive/my_yolov8/Conbine_dataset_3_classes-1_80-20-10-str/valid/labels/003849.txt  \n",
            "  inflating: /content/drive/MyDrive/my_yolov8/Conbine_dataset_3_classes-1_80-20-10-str/valid/labels/001206.txt  \n",
            "  inflating: /content/drive/MyDrive/my_yolov8/Conbine_dataset_3_classes-1_80-20-10-str/valid/labels/007167.txt  \n",
            "  inflating: /content/drive/MyDrive/my_yolov8/Conbine_dataset_3_classes-1_80-20-10-str/valid/labels/002048.txt  \n",
            "  inflating: /content/drive/MyDrive/my_yolov8/Conbine_dataset_3_classes-1_80-20-10-str/valid/labels/003384.txt  \n",
            "  inflating: /content/drive/MyDrive/my_yolov8/Conbine_dataset_3_classes-1_80-20-10-str/valid/labels/005782.txt  \n",
            "  inflating: /content/drive/MyDrive/my_yolov8/Conbine_dataset_3_classes-1_80-20-10-str/valid/labels/007062.txt  \n",
            "  inflating: /content/drive/MyDrive/my_yolov8/Conbine_dataset_3_classes-1_80-20-10-str/valid/labels/005770.txt  \n",
            "  inflating: /content/drive/MyDrive/my_yolov8/Conbine_dataset_3_classes-1_80-20-10-str/valid/labels/002960.txt  \n",
            "  inflating: /content/drive/MyDrive/my_yolov8/Conbine_dataset_3_classes-1_80-20-10-str/valid/labels/001694.txt  \n",
            "  inflating: /content/drive/MyDrive/my_yolov8/Conbine_dataset_3_classes-1_80-20-10-str/valid/labels/000221.txt  \n",
            "  inflating: /content/drive/MyDrive/my_yolov8/Conbine_dataset_3_classes-1_80-20-10-str/valid/labels/006775.txt  \n",
            "  inflating: /content/drive/MyDrive/my_yolov8/Conbine_dataset_3_classes-1_80-20-10-str/valid/labels/003960.txt  \n",
            "  inflating: /content/drive/MyDrive/my_yolov8/Conbine_dataset_3_classes-1_80-20-10-str/valid/labels/005094.txt  \n",
            "  inflating: /content/drive/MyDrive/my_yolov8/Conbine_dataset_3_classes-1_80-20-10-str/valid/labels/004717.txt  \n",
            "  inflating: /content/drive/MyDrive/my_yolov8/Conbine_dataset_3_classes-1_80-20-10-str/valid/labels/000309.txt  \n",
            "  inflating: /content/drive/MyDrive/my_yolov8/Conbine_dataset_3_classes-1_80-20-10-str/valid/labels/003438.txt  \n",
            "  inflating: /content/drive/MyDrive/my_yolov8/Conbine_dataset_3_classes-1_80-20-10-str/valid/labels/002142.txt  \n",
            "  inflating: /content/drive/MyDrive/my_yolov8/Conbine_dataset_3_classes-1_80-20-10-str/valid/labels/002814.txt  \n",
            "  inflating: /content/drive/MyDrive/my_yolov8/Conbine_dataset_3_classes-1_80-20-10-str/valid/labels/006383.txt  \n",
            "  inflating: /content/drive/MyDrive/my_yolov8/Conbine_dataset_3_classes-1_80-20-10-str/valid/labels/002085.txt  \n",
            "  inflating: /content/drive/MyDrive/my_yolov8/Conbine_dataset_3_classes-1_80-20-10-str/valid/labels/005757.txt  \n",
            "  inflating: /content/drive/MyDrive/my_yolov8/Conbine_dataset_3_classes-1_80-20-10-str/valid/labels/002790.txt  \n",
            "  inflating: /content/drive/MyDrive/my_yolov8/Conbine_dataset_3_classes-1_80-20-10-str/valid/labels/006070.txt  \n",
            "  inflating: /content/drive/MyDrive/my_yolov8/Conbine_dataset_3_classes-1_80-20-10-str/valid/labels/007213.txt  \n",
            "  inflating: /content/drive/MyDrive/my_yolov8/Conbine_dataset_3_classes-1_80-20-10-str/valid/labels/000253.txt  \n",
            "  inflating: /content/drive/MyDrive/my_yolov8/Conbine_dataset_3_classes-1_80-20-10-str/valid/labels/006106.txt  \n",
            "  inflating: /content/drive/MyDrive/my_yolov8/Conbine_dataset_3_classes-1_80-20-10-str/valid/labels/004466.txt  \n",
            "  inflating: /content/drive/MyDrive/my_yolov8/Conbine_dataset_3_classes-1_80-20-10-str/valid/labels/000588.txt  \n",
            "  inflating: /content/drive/MyDrive/my_yolov8/Conbine_dataset_3_classes-1_80-20-10-str/valid/labels/006518.txt  \n",
            "  inflating: /content/drive/MyDrive/my_yolov8/Conbine_dataset_3_classes-1_80-20-10-str/valid/labels/003539.txt  \n",
            "  inflating: /content/drive/MyDrive/my_yolov8/Conbine_dataset_3_classes-1_80-20-10-str/valid/labels/006877.txt  \n",
            "  inflating: /content/drive/MyDrive/my_yolov8/Conbine_dataset_3_classes-1_80-20-10-str/valid/labels/007124.txt  \n",
            "  inflating: /content/drive/MyDrive/my_yolov8/Conbine_dataset_3_classes-1_80-20-10-str/valid/labels/002416.txt  \n",
            "  inflating: /content/drive/MyDrive/my_yolov8/Conbine_dataset_3_classes-1_80-20-10-str/valid/labels/005136.txt  \n",
            "  inflating: /content/drive/MyDrive/my_yolov8/Conbine_dataset_3_classes-1_80-20-10-str/valid/labels/005475.txt  \n",
            "  inflating: /content/drive/MyDrive/my_yolov8/Conbine_dataset_3_classes-1_80-20-10-str/valid/labels/004696.txt  \n",
            "  inflating: /content/drive/MyDrive/my_yolov8/Conbine_dataset_3_classes-1_80-20-10-str/valid/labels/003852.txt  \n",
            "  inflating: /content/drive/MyDrive/my_yolov8/Conbine_dataset_3_classes-1_80-20-10-str/valid/labels/000399.txt  \n",
            "  inflating: /content/drive/MyDrive/my_yolov8/Conbine_dataset_3_classes-1_80-20-10-str/valid/labels/004260.txt  \n",
            "  inflating: /content/drive/MyDrive/my_yolov8/Conbine_dataset_3_classes-1_80-20-10-str/valid/labels/005241.txt  \n",
            "  inflating: /content/drive/MyDrive/my_yolov8/Conbine_dataset_3_classes-1_80-20-10-str/valid/labels/005165.txt  \n",
            "  inflating: /content/drive/MyDrive/my_yolov8/Conbine_dataset_3_classes-1_80-20-10-str/valid/labels/003338.txt  \n",
            "  inflating: /content/drive/MyDrive/my_yolov8/Conbine_dataset_3_classes-1_80-20-10-str/valid/labels/002163.txt  \n",
            "  inflating: /content/drive/MyDrive/my_yolov8/Conbine_dataset_3_classes-1_80-20-10-str/valid/labels/005059.txt  \n",
            "  inflating: /content/drive/MyDrive/my_yolov8/Conbine_dataset_3_classes-1_80-20-10-str/valid/labels/001639.txt  \n",
            "  inflating: /content/drive/MyDrive/my_yolov8/Conbine_dataset_3_classes-1_80-20-10-str/valid/labels/003775.txt  \n",
            "  inflating: /content/drive/MyDrive/my_yolov8/Conbine_dataset_3_classes-1_80-20-10-str/valid/labels/001902.txt  \n",
            "  inflating: /content/drive/MyDrive/my_yolov8/Conbine_dataset_3_classes-1_80-20-10-str/valid/labels/005357.txt  \n",
            "  inflating: /content/drive/MyDrive/my_yolov8/Conbine_dataset_3_classes-1_80-20-10-str/valid/labels/002841.txt  \n",
            "  inflating: /content/drive/MyDrive/my_yolov8/Conbine_dataset_3_classes-1_80-20-10-str/valid/labels/006163.txt  \n",
            "  inflating: /content/drive/MyDrive/my_yolov8/Conbine_dataset_3_classes-1_80-20-10-str/valid/labels/001593.txt  \n",
            "  inflating: /content/drive/MyDrive/my_yolov8/Conbine_dataset_3_classes-1_80-20-10-str/valid/labels/000610.txt  \n",
            "  inflating: /content/drive/MyDrive/my_yolov8/Conbine_dataset_3_classes-1_80-20-10-str/valid/labels/004326.txt  \n",
            "  inflating: /content/drive/MyDrive/my_yolov8/Conbine_dataset_3_classes-1_80-20-10-str/valid/labels/006714.txt  \n",
            "  inflating: /content/drive/MyDrive/my_yolov8/Conbine_dataset_3_classes-1_80-20-10-str/valid/labels/001991.txt  \n",
            "  inflating: /content/drive/MyDrive/my_yolov8/Conbine_dataset_3_classes-1_80-20-10-str/valid/labels/006728.txt  \n",
            "  inflating: /content/drive/MyDrive/my_yolov8/Conbine_dataset_3_classes-1_80-20-10-str/valid/labels/000671.txt  \n",
            "  inflating: /content/drive/MyDrive/my_yolov8/Conbine_dataset_3_classes-1_80-20-10-str/valid/labels/001044.txt  \n",
            "  inflating: /content/drive/MyDrive/my_yolov8/Conbine_dataset_3_classes-1_80-20-10-str/valid/labels/006610.txt  \n",
            "  inflating: /content/drive/MyDrive/my_yolov8/Conbine_dataset_3_classes-1_80-20-10-str/valid/labels/006079.txt  \n",
            "  inflating: /content/drive/MyDrive/my_yolov8/Conbine_dataset_3_classes-1_80-20-10-str/valid/labels/004500.txt  \n",
            "  inflating: /content/drive/MyDrive/my_yolov8/Conbine_dataset_3_classes-1_80-20-10-str/valid/labels/000016.txt  \n",
            "  inflating: /content/drive/MyDrive/my_yolov8/Conbine_dataset_3_classes-1_80-20-10-str/valid/labels/001116.txt  \n",
            "  inflating: /content/drive/MyDrive/my_yolov8/Conbine_dataset_3_classes-1_80-20-10-str/valid/labels/005812.txt  \n",
            "  inflating: /content/drive/MyDrive/my_yolov8/Conbine_dataset_3_classes-1_80-20-10-str/valid/labels/001879.txt  \n",
            "  inflating: /content/drive/MyDrive/my_yolov8/Conbine_dataset_3_classes-1_80-20-10-str/valid/labels/002386.txt  \n",
            "  inflating: /content/drive/MyDrive/my_yolov8/Conbine_dataset_3_classes-1_80-20-10-str/valid/labels/005361.txt  \n",
            "  inflating: /content/drive/MyDrive/my_yolov8/Conbine_dataset_3_classes-1_80-20-10-str/valid/labels/001521.txt  \n",
            "  inflating: /content/drive/MyDrive/my_yolov8/Conbine_dataset_3_classes-1_80-20-10-str/valid/labels/002578.txt  \n",
            "  inflating: /content/drive/MyDrive/my_yolov8/Conbine_dataset_3_classes-1_80-20-10-str/valid/labels/003731.txt  \n",
            "  inflating: /content/drive/MyDrive/my_yolov8/Conbine_dataset_3_classes-1_80-20-10-str/valid/labels/006047.txt  \n",
            "  inflating: /content/drive/MyDrive/my_yolov8/Conbine_dataset_3_classes-1_80-20-10-str/valid/labels/000118.txt  \n",
            "  inflating: /content/drive/MyDrive/my_yolov8/Conbine_dataset_3_classes-1_80-20-10-str/valid/labels/006257.txt  \n",
            "  inflating: /content/drive/MyDrive/my_yolov8/Conbine_dataset_3_classes-1_80-20-10-str/valid/labels/004139.txt  \n",
            "  inflating: /content/drive/MyDrive/my_yolov8/Conbine_dataset_3_classes-1_80-20-10-str/valid/labels/002807.txt  \n",
            "  inflating: /content/drive/MyDrive/my_yolov8/Conbine_dataset_3_classes-1_80-20-10-str/valid/labels/002650.txt  \n",
            "  inflating: /content/drive/MyDrive/my_yolov8/Conbine_dataset_3_classes-1_80-20-10-str/valid/labels/007172.txt  \n",
            "  inflating: /content/drive/MyDrive/my_yolov8/Conbine_dataset_3_classes-1_80-20-10-str/valid/labels/002017.txt  \n",
            "  inflating: /content/drive/MyDrive/my_yolov8/Conbine_dataset_3_classes-1_80-20-10-str/valid/labels/005330.txt  \n",
            "  inflating: /content/drive/MyDrive/my_yolov8/Conbine_dataset_3_classes-1_80-20-10-str/valid/labels/005231.txt  \n",
            "  inflating: /content/drive/MyDrive/my_yolov8/Conbine_dataset_3_classes-1_80-20-10-str/valid/labels/005760.txt  \n",
            "  inflating: /content/drive/MyDrive/my_yolov8/Conbine_dataset_3_classes-1_80-20-10-str/valid/labels/004802.txt  \n",
            "  inflating: /content/drive/MyDrive/my_yolov8/Conbine_dataset_3_classes-1_80-20-10-str/valid/labels/004638.txt  \n",
            "  inflating: /content/drive/MyDrive/my_yolov8/Conbine_dataset_3_classes-1_80-20-10-str/valid/labels/000482.txt  \n",
            "  inflating: /content/drive/MyDrive/my_yolov8/Conbine_dataset_3_classes-1_80-20-10-str/valid/labels/000774.txt  \n",
            "  inflating: /content/drive/MyDrive/my_yolov8/Conbine_dataset_3_classes-1_80-20-10-str/valid/labels/002627.txt  \n",
            "  inflating: /content/drive/MyDrive/my_yolov8/Conbine_dataset_3_classes-1_80-20-10-str/valid/labels/001434.txt  \n",
            "  inflating: /content/drive/MyDrive/my_yolov8/Conbine_dataset_3_classes-1_80-20-10-str/valid/labels/000618.txt  \n",
            "  inflating: /content/drive/MyDrive/my_yolov8/Conbine_dataset_3_classes-1_80-20-10-str/valid/labels/004478.txt  \n",
            "  inflating: /content/drive/MyDrive/my_yolov8/Conbine_dataset_3_classes-1_80-20-10-str/valid/labels/002681.txt  \n",
            "  inflating: /content/drive/MyDrive/my_yolov8/Conbine_dataset_3_classes-1_80-20-10-str/valid/labels/004317.txt  \n",
            "  inflating: /content/drive/MyDrive/my_yolov8/Conbine_dataset_3_classes-1_80-20-10-str/valid/labels/004141.txt  \n",
            "  inflating: /content/drive/MyDrive/my_yolov8/Conbine_dataset_3_classes-1_80-20-10-str/valid/labels/003427.txt  \n",
            "  inflating: /content/drive/MyDrive/my_yolov8/Conbine_dataset_3_classes-1_80-20-10-str/valid/labels/004023.txt  \n",
            "  inflating: /content/drive/MyDrive/my_yolov8/Conbine_dataset_3_classes-1_80-20-10-str/valid/labels/005454.txt  \n",
            "  inflating: /content/drive/MyDrive/my_yolov8/Conbine_dataset_3_classes-1_80-20-10-str/valid/labels/002286.txt  \n",
            "  inflating: /content/drive/MyDrive/my_yolov8/Conbine_dataset_3_classes-1_80-20-10-str/valid/labels/004836.txt  \n",
            "  inflating: /content/drive/MyDrive/my_yolov8/Conbine_dataset_3_classes-1_80-20-10-str/valid/labels/000070.txt  \n",
            "  inflating: /content/drive/MyDrive/my_yolov8/Conbine_dataset_3_classes-1_80-20-10-str/valid/labels/006227.txt  \n",
            "  inflating: /content/drive/MyDrive/my_yolov8/Conbine_dataset_3_classes-1_80-20-10-str/valid/labels/005898.txt  \n",
            "  inflating: /content/drive/MyDrive/my_yolov8/Conbine_dataset_3_classes-1_80-20-10-str/valid/labels/002101.txt  \n",
            "  inflating: /content/drive/MyDrive/my_yolov8/Conbine_dataset_3_classes-1_80-20-10-str/valid/labels/004857.txt  \n",
            "  inflating: /content/drive/MyDrive/my_yolov8/Conbine_dataset_3_classes-1_80-20-10-str/valid/labels/005736.txt  \n",
            "  inflating: /content/drive/MyDrive/my_yolov8/Conbine_dataset_3_classes-1_80-20-10-str/valid/labels/006156.txt  \n",
            "  inflating: /content/drive/MyDrive/my_yolov8/Conbine_dataset_3_classes-1_80-20-10-str/valid/labels/000673.txt  \n",
            "  inflating: /content/drive/MyDrive/my_yolov8/Conbine_dataset_3_classes-1_80-20-10-str/valid/labels/000196.txt  \n",
            "  inflating: /content/drive/MyDrive/my_yolov8/Conbine_dataset_3_classes-1_80-20-10-str/valid/labels/001072.txt  \n",
            "  inflating: /content/drive/MyDrive/my_yolov8/Conbine_dataset_3_classes-1_80-20-10-str/valid/labels/002302.txt  \n",
            "  inflating: /content/drive/MyDrive/my_yolov8/Conbine_dataset_3_classes-1_80-20-10-str/valid/labels/004305.txt  \n",
            "  inflating: /content/drive/MyDrive/my_yolov8/Conbine_dataset_3_classes-1_80-20-10-str/valid/labels/004522.txt  \n",
            "  inflating: /content/drive/MyDrive/my_yolov8/Conbine_dataset_3_classes-1_80-20-10-str/valid/labels/001966.txt  \n",
            "  inflating: /content/drive/MyDrive/my_yolov8/Conbine_dataset_3_classes-1_80-20-10-str/valid/labels/004864.txt  \n",
            "  inflating: /content/drive/MyDrive/my_yolov8/Conbine_dataset_3_classes-1_80-20-10-str/valid/labels/005263.txt  \n",
            "  inflating: /content/drive/MyDrive/my_yolov8/Conbine_dataset_3_classes-1_80-20-10-str/valid/labels/003257.txt  \n",
            "  inflating: /content/drive/MyDrive/my_yolov8/Conbine_dataset_3_classes-1_80-20-10-str/valid/labels/000315.txt  \n",
            "  inflating: /content/drive/MyDrive/my_yolov8/Conbine_dataset_3_classes-1_80-20-10-str/valid/labels/006853.txt  \n",
            "  inflating: /content/drive/MyDrive/my_yolov8/Conbine_dataset_3_classes-1_80-20-10-str/valid/labels/003512.txt  \n",
            "  inflating: /content/drive/MyDrive/my_yolov8/Conbine_dataset_3_classes-1_80-20-10-str/valid/labels/005731.txt  \n",
            "  inflating: /content/drive/MyDrive/my_yolov8/Conbine_dataset_3_classes-1_80-20-10-str/valid/labels/001402.txt  \n",
            "  inflating: /content/drive/MyDrive/my_yolov8/Conbine_dataset_3_classes-1_80-20-10-str/valid/labels/003986.txt  \n",
            "  inflating: /content/drive/MyDrive/my_yolov8/Conbine_dataset_3_classes-1_80-20-10-str/valid/labels/006359.txt  \n",
            "  inflating: /content/drive/MyDrive/my_yolov8/Conbine_dataset_3_classes-1_80-20-10-str/valid/labels/006896.txt  \n",
            "  inflating: /content/drive/MyDrive/my_yolov8/Conbine_dataset_3_classes-1_80-20-10-str/valid/labels/004027.txt  \n",
            "  inflating: /content/drive/MyDrive/my_yolov8/Conbine_dataset_3_classes-1_80-20-10-str/valid/labels/003798.txt  \n",
            "  inflating: /content/drive/MyDrive/my_yolov8/Conbine_dataset_3_classes-1_80-20-10-str/valid/labels/007166.txt  \n",
            "  inflating: /content/drive/MyDrive/my_yolov8/Conbine_dataset_3_classes-1_80-20-10-str/valid/labels/005112.txt  \n",
            "  inflating: /content/drive/MyDrive/my_yolov8/Conbine_dataset_3_classes-1_80-20-10-str/valid/labels/002295.txt  \n",
            "  inflating: /content/drive/MyDrive/my_yolov8/Conbine_dataset_3_classes-1_80-20-10-str/valid/labels/002712.txt  \n",
            "  inflating: /content/drive/MyDrive/my_yolov8/Conbine_dataset_3_classes-1_80-20-10-str/valid/labels/006839.txt  \n",
            "  inflating: /content/drive/MyDrive/my_yolov8/Conbine_dataset_3_classes-1_80-20-10-str/valid/labels/005189.txt  \n",
            "  inflating: /content/drive/MyDrive/my_yolov8/Conbine_dataset_3_classes-1_80-20-10-str/valid/labels/002776.txt  \n",
            "  inflating: /content/drive/MyDrive/my_yolov8/Conbine_dataset_3_classes-1_80-20-10-str/valid/labels/001943.txt  \n",
            "  inflating: /content/drive/MyDrive/my_yolov8/Conbine_dataset_3_classes-1_80-20-10-str/valid/labels/006626.txt  \n",
            "  inflating: /content/drive/MyDrive/my_yolov8/Conbine_dataset_3_classes-1_80-20-10-str/valid/labels/005991.txt  \n",
            "  inflating: /content/drive/MyDrive/my_yolov8/Conbine_dataset_3_classes-1_80-20-10-str/valid/labels/003693.txt  \n",
            "  inflating: /content/drive/MyDrive/my_yolov8/Conbine_dataset_3_classes-1_80-20-10-str/valid/labels/002526.txt  \n",
            "  inflating: /content/drive/MyDrive/my_yolov8/Conbine_dataset_3_classes-1_80-20-10-str/valid/labels/005657.txt  \n",
            "  inflating: /content/drive/MyDrive/my_yolov8/Conbine_dataset_3_classes-1_80-20-10-str/valid/labels/003808.txt  \n",
            "  inflating: /content/drive/MyDrive/my_yolov8/Conbine_dataset_3_classes-1_80-20-10-str/valid/labels/000976.txt  \n",
            "  inflating: /content/drive/MyDrive/my_yolov8/Conbine_dataset_3_classes-1_80-20-10-str/valid/labels/005959.txt  \n",
            "  inflating: /content/drive/MyDrive/my_yolov8/Conbine_dataset_3_classes-1_80-20-10-str/valid/labels/000240.txt  \n",
            "  inflating: /content/drive/MyDrive/my_yolov8/Conbine_dataset_3_classes-1_80-20-10-str/valid/labels/000541.txt  \n",
            "  inflating: /content/drive/MyDrive/my_yolov8/Conbine_dataset_3_classes-1_80-20-10-str/valid/labels/001627.txt  \n",
            "  inflating: /content/drive/MyDrive/my_yolov8/Conbine_dataset_3_classes-1_80-20-10-str/valid/labels/005479.txt  \n",
            "  inflating: /content/drive/MyDrive/my_yolov8/Conbine_dataset_3_classes-1_80-20-10-str/valid/labels/006399.txt  \n",
            "  inflating: /content/drive/MyDrive/my_yolov8/Conbine_dataset_3_classes-1_80-20-10-str/valid/labels/005612.txt  \n",
            "  inflating: /content/drive/MyDrive/my_yolov8/Conbine_dataset_3_classes-1_80-20-10-str/valid/labels/004952.txt  \n",
            "  inflating: /content/drive/MyDrive/my_yolov8/Conbine_dataset_3_classes-1_80-20-10-str/valid/labels/000042.txt  \n",
            "  inflating: /content/drive/MyDrive/my_yolov8/Conbine_dataset_3_classes-1_80-20-10-str/valid/labels/004532.txt  \n",
            "  inflating: /content/drive/MyDrive/my_yolov8/Conbine_dataset_3_classes-1_80-20-10-str/valid/labels/002816.txt  \n",
            "  inflating: /content/drive/MyDrive/my_yolov8/Conbine_dataset_3_classes-1_80-20-10-str/valid/labels/001451.txt  \n",
            "  inflating: /content/drive/MyDrive/my_yolov8/Conbine_dataset_3_classes-1_80-20-10-str/valid/labels/000816.txt  \n",
            "  inflating: /content/drive/MyDrive/my_yolov8/Conbine_dataset_3_classes-1_80-20-10-str/valid/labels/005600.txt  \n",
            "  inflating: /content/drive/MyDrive/my_yolov8/Conbine_dataset_3_classes-1_80-20-10-str/valid/labels/002469.txt  \n",
            "  inflating: /content/drive/MyDrive/my_yolov8/Conbine_dataset_3_classes-1_80-20-10-str/valid/labels/006424.txt  \n",
            "  inflating: /content/drive/MyDrive/my_yolov8/Conbine_dataset_3_classes-1_80-20-10-str/valid/labels/006397.txt  \n",
            "  inflating: /content/drive/MyDrive/my_yolov8/Conbine_dataset_3_classes-1_80-20-10-str/valid/labels/006562.txt  \n",
            "  inflating: /content/drive/MyDrive/my_yolov8/Conbine_dataset_3_classes-1_80-20-10-str/valid/labels/004393.txt  \n",
            "  inflating: /content/drive/MyDrive/my_yolov8/Conbine_dataset_3_classes-1_80-20-10-str/valid/labels/003103.txt  \n",
            "  inflating: /content/drive/MyDrive/my_yolov8/Conbine_dataset_3_classes-1_80-20-10-str/valid/labels/006930.txt  \n",
            "  inflating: /content/drive/MyDrive/my_yolov8/Conbine_dataset_3_classes-1_80-20-10-str/valid/labels/002735.txt  \n",
            "  inflating: /content/drive/MyDrive/my_yolov8/Conbine_dataset_3_classes-1_80-20-10-str/valid/labels/004978.txt  \n",
            "  inflating: /content/drive/MyDrive/my_yolov8/Conbine_dataset_3_classes-1_80-20-10-str/valid/labels/001196.txt  \n",
            "  inflating: /content/drive/MyDrive/my_yolov8/Conbine_dataset_3_classes-1_80-20-10-str/valid/labels/002358.txt  \n",
            "  inflating: /content/drive/MyDrive/my_yolov8/Conbine_dataset_3_classes-1_80-20-10-str/valid/labels/000778.txt  \n",
            "  inflating: /content/drive/MyDrive/my_yolov8/Conbine_dataset_3_classes-1_80-20-10-str/valid/labels/005249.txt  \n",
            "  inflating: /content/drive/MyDrive/my_yolov8/Conbine_dataset_3_classes-1_80-20-10-str/valid/labels/001328.txt  \n",
            "  inflating: /content/drive/MyDrive/my_yolov8/Conbine_dataset_3_classes-1_80-20-10-str/valid/labels/004884.txt  \n",
            "  inflating: /content/drive/MyDrive/my_yolov8/Conbine_dataset_3_classes-1_80-20-10-str/valid/labels/000901.txt  \n",
            "  inflating: /content/drive/MyDrive/my_yolov8/Conbine_dataset_3_classes-1_80-20-10-str/valid/labels/005496.txt  \n",
            "  inflating: /content/drive/MyDrive/my_yolov8/Conbine_dataset_3_classes-1_80-20-10-str/valid/labels/000818.txt  \n",
            "  inflating: /content/drive/MyDrive/my_yolov8/Conbine_dataset_3_classes-1_80-20-10-str/valid/labels/001258.txt  \n",
            "  inflating: /content/drive/MyDrive/my_yolov8/Conbine_dataset_3_classes-1_80-20-10-str/valid/labels/006625.txt  \n",
            "  inflating: /content/drive/MyDrive/my_yolov8/Conbine_dataset_3_classes-1_80-20-10-str/valid/labels/000952.txt  \n",
            "  inflating: /content/drive/MyDrive/my_yolov8/Conbine_dataset_3_classes-1_80-20-10-str/valid/labels/000449.txt  \n",
            "  inflating: /content/drive/MyDrive/my_yolov8/Conbine_dataset_3_classes-1_80-20-10-str/valid/labels/004974.txt  \n",
            "  inflating: /content/drive/MyDrive/my_yolov8/Conbine_dataset_3_classes-1_80-20-10-str/valid/labels/001131.txt  \n",
            "  inflating: /content/drive/MyDrive/my_yolov8/Conbine_dataset_3_classes-1_80-20-10-str/valid/labels/005844.txt  \n",
            "  inflating: /content/drive/MyDrive/my_yolov8/Conbine_dataset_3_classes-1_80-20-10-str/valid/labels/003464.txt  \n",
            "  inflating: /content/drive/MyDrive/my_yolov8/Conbine_dataset_3_classes-1_80-20-10-str/valid/labels/004630.txt  \n",
            "  inflating: /content/drive/MyDrive/my_yolov8/Conbine_dataset_3_classes-1_80-20-10-str/valid/labels/001873.txt  \n",
            "  inflating: /content/drive/MyDrive/my_yolov8/Conbine_dataset_3_classes-1_80-20-10-str/valid/labels/000865.txt  \n",
            "  inflating: /content/drive/MyDrive/my_yolov8/Conbine_dataset_3_classes-1_80-20-10-str/valid/labels/005583.txt  \n",
            "  inflating: /content/drive/MyDrive/my_yolov8/Conbine_dataset_3_classes-1_80-20-10-str/valid/labels/001739.txt  \n",
            "  inflating: /content/drive/MyDrive/my_yolov8/Conbine_dataset_3_classes-1_80-20-10-str/valid/labels/002351.txt  \n",
            "  inflating: /content/drive/MyDrive/my_yolov8/Conbine_dataset_3_classes-1_80-20-10-str/valid/labels/003770.txt  \n",
            "  inflating: /content/drive/MyDrive/my_yolov8/Conbine_dataset_3_classes-1_80-20-10-str/valid/labels/004810.txt  \n",
            "  inflating: /content/drive/MyDrive/my_yolov8/Conbine_dataset_3_classes-1_80-20-10-str/valid/labels/000543.txt  \n",
            "  inflating: /content/drive/MyDrive/my_yolov8/Conbine_dataset_3_classes-1_80-20-10-str/valid/labels/004680.txt  \n",
            "  inflating: /content/drive/MyDrive/my_yolov8/Conbine_dataset_3_classes-1_80-20-10-str/valid/labels/002755.txt  \n",
            "  inflating: /content/drive/MyDrive/my_yolov8/Conbine_dataset_3_classes-1_80-20-10-str/valid/labels/000724.txt  \n",
            "  inflating: /content/drive/MyDrive/my_yolov8/Conbine_dataset_3_classes-1_80-20-10-str/valid/labels/007127.txt  \n",
            "  inflating: /content/drive/MyDrive/my_yolov8/Conbine_dataset_3_classes-1_80-20-10-str/valid/labels/003289.txt  \n",
            "  inflating: /content/drive/MyDrive/my_yolov8/Conbine_dataset_3_classes-1_80-20-10-str/valid/labels/005135.txt  \n",
            "  inflating: /content/drive/MyDrive/my_yolov8/Conbine_dataset_3_classes-1_80-20-10-str/valid/labels/006426.txt  \n",
            "  inflating: /content/drive/MyDrive/my_yolov8/Conbine_dataset_3_classes-1_80-20-10-str/valid/labels/002366.txt  \n",
            "  inflating: /content/drive/MyDrive/my_yolov8/Conbine_dataset_3_classes-1_80-20-10-str/valid/labels/002425.txt  \n",
            "  inflating: /content/drive/MyDrive/my_yolov8/Conbine_dataset_3_classes-1_80-20-10-str/valid/labels/002982.txt  \n",
            "  inflating: /content/drive/MyDrive/my_yolov8/Conbine_dataset_3_classes-1_80-20-10-str/valid/labels/003742.txt  \n",
            "  inflating: /content/drive/MyDrive/my_yolov8/Conbine_dataset_3_classes-1_80-20-10-str/valid/labels/006962.txt  \n",
            "  inflating: /content/drive/MyDrive/my_yolov8/Conbine_dataset_3_classes-1_80-20-10-str/valid/labels/006915.txt  \n",
            "  inflating: /content/drive/MyDrive/my_yolov8/Conbine_dataset_3_classes-1_80-20-10-str/valid/labels/000402.txt  \n",
            "  inflating: /content/drive/MyDrive/my_yolov8/Conbine_dataset_3_classes-1_80-20-10-str/valid/labels/001087.txt  \n",
            "  inflating: /content/drive/MyDrive/my_yolov8/Conbine_dataset_3_classes-1_80-20-10-str/valid/labels/001006.txt  \n",
            "  inflating: /content/drive/MyDrive/my_yolov8/Conbine_dataset_3_classes-1_80-20-10-str/valid/labels/005098.txt  \n",
            "  inflating: /content/drive/MyDrive/my_yolov8/Conbine_dataset_3_classes-1_80-20-10-str/valid/labels/003320.txt  \n",
            "  inflating: /content/drive/MyDrive/my_yolov8/Conbine_dataset_3_classes-1_80-20-10-str/valid/labels/001288.txt  \n",
            "  inflating: /content/drive/MyDrive/my_yolov8/Conbine_dataset_3_classes-1_80-20-10-str/valid/labels/001700.txt  \n",
            "  inflating: /content/drive/MyDrive/my_yolov8/Conbine_dataset_3_classes-1_80-20-10-str/valid/labels/002580.txt  \n",
            "  inflating: /content/drive/MyDrive/my_yolov8/Conbine_dataset_3_classes-1_80-20-10-str/valid/labels/003712.txt  \n",
            "  inflating: /content/drive/MyDrive/my_yolov8/Conbine_dataset_3_classes-1_80-20-10-str/valid/labels/000890.txt  \n",
            "  inflating: /content/drive/MyDrive/my_yolov8/Conbine_dataset_3_classes-1_80-20-10-str/valid/labels/000963.txt  \n",
            "  inflating: /content/drive/MyDrive/my_yolov8/Conbine_dataset_3_classes-1_80-20-10-str/valid/labels/005313.txt  \n",
            "  inflating: /content/drive/MyDrive/my_yolov8/Conbine_dataset_3_classes-1_80-20-10-str/valid/labels/006099.txt  \n",
            "  inflating: /content/drive/MyDrive/my_yolov8/Conbine_dataset_3_classes-1_80-20-10-str/valid/labels/002059.txt  \n",
            "  inflating: /content/drive/MyDrive/my_yolov8/Conbine_dataset_3_classes-1_80-20-10-str/valid/labels/006152.txt  \n",
            "  inflating: /content/drive/MyDrive/my_yolov8/Conbine_dataset_3_classes-1_80-20-10-str/valid/labels/003308.txt  \n",
            "  inflating: /content/drive/MyDrive/my_yolov8/Conbine_dataset_3_classes-1_80-20-10-str/valid/labels/006991.txt  \n",
            "  inflating: /content/drive/MyDrive/my_yolov8/Conbine_dataset_3_classes-1_80-20-10-str/valid/labels/002664.txt  \n",
            "  inflating: /content/drive/MyDrive/my_yolov8/Conbine_dataset_3_classes-1_80-20-10-str/valid/labels/001203.txt  \n",
            "  inflating: /content/drive/MyDrive/my_yolov8/Conbine_dataset_3_classes-1_80-20-10-str/valid/labels/001433.txt  \n",
            "  inflating: /content/drive/MyDrive/my_yolov8/Conbine_dataset_3_classes-1_80-20-10-str/valid/labels/003787.txt  \n",
            "  inflating: /content/drive/MyDrive/my_yolov8/Conbine_dataset_3_classes-1_80-20-10-str/valid/labels/006465.txt  \n",
            "  inflating: /content/drive/MyDrive/my_yolov8/Conbine_dataset_3_classes-1_80-20-10-str/valid/labels/003657.txt  \n",
            "  inflating: /content/drive/MyDrive/my_yolov8/Conbine_dataset_3_classes-1_80-20-10-str/valid/labels/002613.txt  \n",
            "  inflating: /content/drive/MyDrive/my_yolov8/Conbine_dataset_3_classes-1_80-20-10-str/valid/labels/001158.txt  \n",
            "  inflating: /content/drive/MyDrive/my_yolov8/Conbine_dataset_3_classes-1_80-20-10-str/valid/labels/005034.txt  \n",
            "  inflating: /content/drive/MyDrive/my_yolov8/Conbine_dataset_3_classes-1_80-20-10-str/valid/labels/005629.txt  \n",
            "  inflating: /content/drive/MyDrive/my_yolov8/Conbine_dataset_3_classes-1_80-20-10-str/valid/labels/001040.txt  \n",
            "  inflating: /content/drive/MyDrive/my_yolov8/Conbine_dataset_3_classes-1_80-20-10-str/valid/labels/007136.txt  \n",
            "  inflating: /content/drive/MyDrive/my_yolov8/Conbine_dataset_3_classes-1_80-20-10-str/valid/labels/005427.txt  \n",
            "  inflating: /content/drive/MyDrive/my_yolov8/Conbine_dataset_3_classes-1_80-20-10-str/valid/labels/004739.txt  \n",
            "  inflating: /content/drive/MyDrive/my_yolov8/Conbine_dataset_3_classes-1_80-20-10-str/valid/labels/006377.txt  \n",
            "  inflating: /content/drive/MyDrive/my_yolov8/Conbine_dataset_3_classes-1_80-20-10-str/valid/labels/003408.txt  \n",
            "  inflating: /content/drive/MyDrive/my_yolov8/Conbine_dataset_3_classes-1_80-20-10-str/valid/labels/003943.txt  \n",
            "  inflating: /content/drive/MyDrive/my_yolov8/Conbine_dataset_3_classes-1_80-20-10-str/valid/labels/004175.txt  \n",
            "  inflating: /content/drive/MyDrive/my_yolov8/Conbine_dataset_3_classes-1_80-20-10-str/valid/labels/003965.txt  \n",
            "  inflating: /content/drive/MyDrive/my_yolov8/Conbine_dataset_3_classes-1_80-20-10-str/valid/labels/004005.txt  \n",
            "  inflating: /content/drive/MyDrive/my_yolov8/Conbine_dataset_3_classes-1_80-20-10-str/valid/labels/002363.txt  \n",
            "  inflating: /content/drive/MyDrive/my_yolov8/Conbine_dataset_3_classes-1_80-20-10-str/valid/labels/004955.txt  \n",
            "  inflating: /content/drive/MyDrive/my_yolov8/Conbine_dataset_3_classes-1_80-20-10-str/valid/labels/001486.txt  \n",
            "  inflating: /content/drive/MyDrive/my_yolov8/Conbine_dataset_3_classes-1_80-20-10-str/valid/labels/003565.txt  \n",
            "  inflating: /content/drive/MyDrive/my_yolov8/Conbine_dataset_3_classes-1_80-20-10-str/valid/labels/006157.txt  \n",
            "  inflating: /content/drive/MyDrive/my_yolov8/Conbine_dataset_3_classes-1_80-20-10-str/valid/labels/000494.txt  \n",
            "  inflating: /content/drive/MyDrive/my_yolov8/Conbine_dataset_3_classes-1_80-20-10-str/valid/labels/002546.txt  \n",
            "  inflating: /content/drive/MyDrive/my_yolov8/Conbine_dataset_3_classes-1_80-20-10-str/valid/labels/005090.txt  \n",
            "  inflating: /content/drive/MyDrive/my_yolov8/Conbine_dataset_3_classes-1_80-20-10-str/valid/labels/002034.txt  \n",
            "  inflating: /content/drive/MyDrive/my_yolov8/Conbine_dataset_3_classes-1_80-20-10-str/valid/labels/001665.txt  \n",
            "  inflating: /content/drive/MyDrive/my_yolov8/Conbine_dataset_3_classes-1_80-20-10-str/valid/labels/003834.txt  \n",
            "  inflating: /content/drive/MyDrive/my_yolov8/Conbine_dataset_3_classes-1_80-20-10-str/valid/labels/003584.txt  \n",
            "  inflating: /content/drive/MyDrive/my_yolov8/Conbine_dataset_3_classes-1_80-20-10-str/valid/labels/001066.txt  \n",
            "  inflating: /content/drive/MyDrive/my_yolov8/Conbine_dataset_3_classes-1_80-20-10-str/valid/labels/001056.txt  \n",
            "  inflating: /content/drive/MyDrive/my_yolov8/Conbine_dataset_3_classes-1_80-20-10-str/valid/labels/004341.txt  \n",
            "  inflating: /content/drive/MyDrive/my_yolov8/Conbine_dataset_3_classes-1_80-20-10-str/valid/labels/006221.txt  \n",
            "  inflating: /content/drive/MyDrive/my_yolov8/Conbine_dataset_3_classes-1_80-20-10-str/valid/labels/002266.txt  \n",
            "  inflating: /content/drive/MyDrive/my_yolov8/Conbine_dataset_3_classes-1_80-20-10-str/valid/labels/005050.txt  \n",
            "  inflating: /content/drive/MyDrive/my_yolov8/Conbine_dataset_3_classes-1_80-20-10-str/valid/labels/003567.txt  \n",
            "  inflating: /content/drive/MyDrive/my_yolov8/Conbine_dataset_3_classes-1_80-20-10-str/valid/labels/005342.txt  \n",
            "  inflating: /content/drive/MyDrive/my_yolov8/Conbine_dataset_3_classes-1_80-20-10-str/valid/labels/006160.txt  \n",
            "  inflating: /content/drive/MyDrive/my_yolov8/Conbine_dataset_3_classes-1_80-20-10-str/valid/labels/001405.txt  \n",
            "  inflating: /content/drive/MyDrive/my_yolov8/Conbine_dataset_3_classes-1_80-20-10-str/valid/labels/005416.txt  \n",
            "  inflating: /content/drive/MyDrive/my_yolov8/Conbine_dataset_3_classes-1_80-20-10-str/valid/labels/002212.txt  \n",
            "  inflating: /content/drive/MyDrive/my_yolov8/Conbine_dataset_3_classes-1_80-20-10-str/valid/labels/006408.txt  \n",
            "  inflating: /content/drive/MyDrive/my_yolov8/Conbine_dataset_3_classes-1_80-20-10-str/valid/labels/004409.txt  \n",
            "  inflating: /content/drive/MyDrive/my_yolov8/Conbine_dataset_3_classes-1_80-20-10-str/valid/labels/003974.txt  \n",
            "  inflating: /content/drive/MyDrive/my_yolov8/Conbine_dataset_3_classes-1_80-20-10-str/valid/labels/004499.txt  \n",
            "  inflating: /content/drive/MyDrive/my_yolov8/Conbine_dataset_3_classes-1_80-20-10-str/valid/labels/006787.txt  \n",
            "  inflating: /content/drive/MyDrive/my_yolov8/Conbine_dataset_3_classes-1_80-20-10-str/valid/labels/000964.txt  \n",
            "  inflating: /content/drive/MyDrive/my_yolov8/Conbine_dataset_3_classes-1_80-20-10-str/valid/labels/006200.txt  \n",
            "  inflating: /content/drive/MyDrive/my_yolov8/Conbine_dataset_3_classes-1_80-20-10-str/valid/labels/002268.txt  \n",
            "  inflating: /content/drive/MyDrive/my_yolov8/Conbine_dataset_3_classes-1_80-20-10-str/valid/labels/005775.txt  \n",
            "  inflating: /content/drive/MyDrive/my_yolov8/Conbine_dataset_3_classes-1_80-20-10-str/valid/labels/004062.txt  \n",
            "  inflating: /content/drive/MyDrive/my_yolov8/Conbine_dataset_3_classes-1_80-20-10-str/valid/labels/005235.txt  \n",
            "  inflating: /content/drive/MyDrive/my_yolov8/Conbine_dataset_3_classes-1_80-20-10-str/valid/labels/001827.txt  \n",
            "  inflating: /content/drive/MyDrive/my_yolov8/Conbine_dataset_3_classes-1_80-20-10-str/valid/labels/002920.txt  \n",
            "  inflating: /content/drive/MyDrive/my_yolov8/Conbine_dataset_3_classes-1_80-20-10-str/valid/labels/004801.txt  \n",
            "  inflating: /content/drive/MyDrive/my_yolov8/Conbine_dataset_3_classes-1_80-20-10-str/valid/labels/001924.txt  \n",
            "  inflating: /content/drive/MyDrive/my_yolov8/Conbine_dataset_3_classes-1_80-20-10-str/valid/labels/001785.txt  \n",
            "  inflating: /content/drive/MyDrive/my_yolov8/Conbine_dataset_3_classes-1_80-20-10-str/valid/labels/004261.txt  \n",
            "  inflating: /content/drive/MyDrive/my_yolov8/Conbine_dataset_3_classes-1_80-20-10-str/valid/labels/004780.txt  \n",
            "  inflating: /content/drive/MyDrive/my_yolov8/Conbine_dataset_3_classes-1_80-20-10-str/valid/labels/004300.txt  \n",
            "  inflating: /content/drive/MyDrive/my_yolov8/Conbine_dataset_3_classes-1_80-20-10-str/valid/labels/005533.txt  \n",
            "  inflating: /content/drive/MyDrive/my_yolov8/Conbine_dataset_3_classes-1_80-20-10-str/valid/labels/001211.txt  \n",
            "  inflating: /content/drive/MyDrive/my_yolov8/Conbine_dataset_3_classes-1_80-20-10-str/valid/labels/004266.txt  \n",
            "  inflating: /content/drive/MyDrive/my_yolov8/Conbine_dataset_3_classes-1_80-20-10-str/valid/labels/004284.txt  \n",
            "  inflating: /content/drive/MyDrive/my_yolov8/Conbine_dataset_3_classes-1_80-20-10-str/valid/labels/002871.txt  \n",
            "  inflating: /content/drive/MyDrive/my_yolov8/Conbine_dataset_3_classes-1_80-20-10-str/valid/labels/005472.txt  \n",
            "  inflating: /content/drive/MyDrive/my_yolov8/Conbine_dataset_3_classes-1_80-20-10-str/valid/labels/004376.txt  \n",
            "  inflating: /content/drive/MyDrive/my_yolov8/Conbine_dataset_3_classes-1_80-20-10-str/valid/labels/000873.txt  \n",
            "  inflating: /content/drive/MyDrive/my_yolov8/Conbine_dataset_3_classes-1_80-20-10-str/valid/labels/005855.txt  \n",
            "  inflating: /content/drive/MyDrive/my_yolov8/Conbine_dataset_3_classes-1_80-20-10-str/valid/labels/000927.txt  \n",
            "  inflating: /content/drive/MyDrive/my_yolov8/Conbine_dataset_3_classes-1_80-20-10-str/valid/labels/000602.txt  \n",
            "  inflating: /content/drive/MyDrive/my_yolov8/Conbine_dataset_3_classes-1_80-20-10-str/valid/labels/005678.txt  \n",
            "  inflating: /content/drive/MyDrive/my_yolov8/Conbine_dataset_3_classes-1_80-20-10-str/valid/labels/002016.txt  \n",
            "  inflating: /content/drive/MyDrive/my_yolov8/Conbine_dataset_3_classes-1_80-20-10-str/valid/labels/005379.txt  \n",
            "  inflating: /content/drive/MyDrive/my_yolov8/Conbine_dataset_3_classes-1_80-20-10-str/valid/labels/004399.txt  \n",
            "  inflating: /content/drive/MyDrive/my_yolov8/Conbine_dataset_3_classes-1_80-20-10-str/valid/labels/005718.txt  \n",
            "  inflating: /content/drive/MyDrive/my_yolov8/Conbine_dataset_3_classes-1_80-20-10-str/valid/labels/003225.txt  \n",
            "  inflating: /content/drive/MyDrive/my_yolov8/Conbine_dataset_3_classes-1_80-20-10-str/valid/labels/003528.txt  \n",
            "  inflating: /content/drive/MyDrive/my_yolov8/Conbine_dataset_3_classes-1_80-20-10-str/valid/labels/006454.txt  \n",
            "  inflating: /content/drive/MyDrive/my_yolov8/Conbine_dataset_3_classes-1_80-20-10-str/valid/labels/006434.txt  \n",
            "  inflating: /content/drive/MyDrive/my_yolov8/Conbine_dataset_3_classes-1_80-20-10-str/valid/labels/000515.txt  \n",
            "  inflating: /content/drive/MyDrive/my_yolov8/Conbine_dataset_3_classes-1_80-20-10-str/valid/labels/003807.txt  \n",
            "  inflating: /content/drive/MyDrive/my_yolov8/Conbine_dataset_3_classes-1_80-20-10-str/valid/labels/004154.txt  \n",
            "  inflating: /content/drive/MyDrive/my_yolov8/Conbine_dataset_3_classes-1_80-20-10-str/valid/labels/000142.txt  \n",
            "  inflating: /content/drive/MyDrive/my_yolov8/Conbine_dataset_3_classes-1_80-20-10-str/valid/labels/000729.txt  \n",
            "  inflating: /content/drive/MyDrive/my_yolov8/Conbine_dataset_3_classes-1_80-20-10-str/valid/labels/000719.txt  \n",
            "  inflating: /content/drive/MyDrive/my_yolov8/Conbine_dataset_3_classes-1_80-20-10-str/valid/labels/002730.txt  \n",
            "  inflating: /content/drive/MyDrive/my_yolov8/Conbine_dataset_3_classes-1_80-20-10-str/valid/labels/002742.txt  \n",
            "  inflating: /content/drive/MyDrive/my_yolov8/Conbine_dataset_3_classes-1_80-20-10-str/valid/labels/006608.txt  \n",
            "  inflating: /content/drive/MyDrive/my_yolov8/Conbine_dataset_3_classes-1_80-20-10-str/valid/labels/002027.txt  \n",
            "  inflating: /content/drive/MyDrive/my_yolov8/Conbine_dataset_3_classes-1_80-20-10-str/valid/labels/002894.txt  \n",
            "  inflating: /content/drive/MyDrive/my_yolov8/Conbine_dataset_3_classes-1_80-20-10-str/valid/labels/001362.txt  \n",
            "  inflating: /content/drive/MyDrive/my_yolov8/Conbine_dataset_3_classes-1_80-20-10-str/valid/labels/006266.txt  \n",
            "  inflating: /content/drive/MyDrive/my_yolov8/Conbine_dataset_3_classes-1_80-20-10-str/valid/labels/000273.txt  \n",
            "  inflating: /content/drive/MyDrive/my_yolov8/Conbine_dataset_3_classes-1_80-20-10-str/valid/labels/002102.txt  \n",
            "  inflating: /content/drive/MyDrive/my_yolov8/Conbine_dataset_3_classes-1_80-20-10-str/valid/labels/005800.txt  \n",
            "  inflating: /content/drive/MyDrive/my_yolov8/Conbine_dataset_3_classes-1_80-20-10-str/valid/labels/005095.txt  \n",
            "  inflating: /content/drive/MyDrive/my_yolov8/Conbine_dataset_3_classes-1_80-20-10-str/valid/labels/001855.txt  \n",
            "  inflating: /content/drive/MyDrive/my_yolov8/Conbine_dataset_3_classes-1_80-20-10-str/valid/labels/007010.txt  \n",
            "  inflating: /content/drive/MyDrive/my_yolov8/Conbine_dataset_3_classes-1_80-20-10-str/valid/labels/001027.txt  \n",
            "  inflating: /content/drive/MyDrive/my_yolov8/Conbine_dataset_3_classes-1_80-20-10-str/valid/labels/003678.txt  \n",
            "  inflating: /content/drive/MyDrive/my_yolov8/Conbine_dataset_3_classes-1_80-20-10-str/valid/labels/005753.txt  \n",
            "  inflating: /content/drive/MyDrive/my_yolov8/Conbine_dataset_3_classes-1_80-20-10-str/valid/labels/001386.txt  \n",
            "  inflating: /content/drive/MyDrive/my_yolov8/Conbine_dataset_3_classes-1_80-20-10-str/valid/labels/004996.txt  \n",
            "  inflating: /content/drive/MyDrive/my_yolov8/Conbine_dataset_3_classes-1_80-20-10-str/valid/labels/004387.txt  \n",
            "  inflating: /content/drive/MyDrive/my_yolov8/Conbine_dataset_3_classes-1_80-20-10-str/valid/labels/002947.txt  \n",
            "  inflating: /content/drive/MyDrive/my_yolov8/Conbine_dataset_3_classes-1_80-20-10-str/valid/labels/006531.txt  \n",
            "  inflating: /content/drive/MyDrive/my_yolov8/Conbine_dataset_3_classes-1_80-20-10-str/valid/labels/002985.txt  \n",
            "  inflating: /content/drive/MyDrive/my_yolov8/Conbine_dataset_3_classes-1_80-20-10-str/valid/labels/003774.txt  \n",
            "  inflating: /content/drive/MyDrive/my_yolov8/Conbine_dataset_3_classes-1_80-20-10-str/valid/labels/007157.txt  \n",
            "  inflating: /content/drive/MyDrive/my_yolov8/Conbine_dataset_3_classes-1_80-20-10-str/valid/labels/004669.txt  \n",
            "  inflating: /content/drive/MyDrive/my_yolov8/Conbine_dataset_3_classes-1_80-20-10-str/valid/labels/002491.txt  \n",
            "  inflating: /content/drive/MyDrive/my_yolov8/Conbine_dataset_3_classes-1_80-20-10-str/valid/labels/003780.txt  \n",
            "  inflating: /content/drive/MyDrive/my_yolov8/Conbine_dataset_3_classes-1_80-20-10-str/valid/labels/005077.txt  \n",
            "  inflating: /content/drive/MyDrive/my_yolov8/Conbine_dataset_3_classes-1_80-20-10-str/valid/labels/003666.txt  \n",
            "  inflating: /content/drive/MyDrive/my_yolov8/Conbine_dataset_3_classes-1_80-20-10-str/valid/labels/006691.txt  \n",
            "  inflating: /content/drive/MyDrive/my_yolov8/Conbine_dataset_3_classes-1_80-20-10-str/valid/labels/000182.txt  \n",
            "  inflating: /content/drive/MyDrive/my_yolov8/Conbine_dataset_3_classes-1_80-20-10-str/valid/labels/000403.txt  \n",
            "  inflating: /content/drive/MyDrive/my_yolov8/Conbine_dataset_3_classes-1_80-20-10-str/valid/labels/006412.txt  \n",
            "  inflating: /content/drive/MyDrive/my_yolov8/Conbine_dataset_3_classes-1_80-20-10-str/valid/labels/001289.txt  \n",
            "  inflating: /content/drive/MyDrive/my_yolov8/Conbine_dataset_3_classes-1_80-20-10-str/valid/labels/002802.txt  \n",
            "  inflating: /content/drive/MyDrive/my_yolov8/Conbine_dataset_3_classes-1_80-20-10-str/valid/labels/007242.txt  \n",
            "  inflating: /content/drive/MyDrive/my_yolov8/Conbine_dataset_3_classes-1_80-20-10-str/valid/labels/005347.txt  \n",
            "  inflating: /content/drive/MyDrive/my_yolov8/Conbine_dataset_3_classes-1_80-20-10-str/valid/labels/001013.txt  \n",
            "  inflating: /content/drive/MyDrive/my_yolov8/Conbine_dataset_3_classes-1_80-20-10-str/valid/labels/006110.txt  \n",
            "  inflating: /content/drive/MyDrive/my_yolov8/Conbine_dataset_3_classes-1_80-20-10-str/valid/labels/006799.txt  \n",
            "  inflating: /content/drive/MyDrive/my_yolov8/Conbine_dataset_3_classes-1_80-20-10-str/valid/labels/004094.txt  \n",
            "  inflating: /content/drive/MyDrive/my_yolov8/Conbine_dataset_3_classes-1_80-20-10-str/valid/labels/000099.txt  \n",
            "  inflating: /content/drive/MyDrive/my_yolov8/Conbine_dataset_3_classes-1_80-20-10-str/valid/labels/001166.txt  \n",
            "  inflating: /content/drive/MyDrive/my_yolov8/Conbine_dataset_3_classes-1_80-20-10-str/valid/labels/003261.txt  \n",
            "  inflating: /content/drive/MyDrive/my_yolov8/Conbine_dataset_3_classes-1_80-20-10-str/valid/labels/005626.txt  \n",
            "  inflating: /content/drive/MyDrive/my_yolov8/Conbine_dataset_3_classes-1_80-20-10-str/valid/labels/002629.txt  \n",
            "  inflating: /content/drive/MyDrive/my_yolov8/Conbine_dataset_3_classes-1_80-20-10-str/valid/labels/006696.txt  \n",
            "  inflating: /content/drive/MyDrive/my_yolov8/Conbine_dataset_3_classes-1_80-20-10-str/valid/labels/004766.txt  \n",
            "  inflating: /content/drive/MyDrive/my_yolov8/Conbine_dataset_3_classes-1_80-20-10-str/valid/labels/001772.txt  \n",
            "  inflating: /content/drive/MyDrive/my_yolov8/Conbine_dataset_3_classes-1_80-20-10-str/valid/labels/006772.txt  \n",
            "  inflating: /content/drive/MyDrive/my_yolov8/Conbine_dataset_3_classes-1_80-20-10-str/valid/labels/005823.txt  \n",
            "  inflating: /content/drive/MyDrive/my_yolov8/Conbine_dataset_3_classes-1_80-20-10-str/valid/labels/000424.txt  \n",
            "  inflating: /content/drive/MyDrive/my_yolov8/Conbine_dataset_3_classes-1_80-20-10-str/valid/labels/004055.txt  \n",
            "  inflating: /content/drive/MyDrive/my_yolov8/Conbine_dataset_3_classes-1_80-20-10-str/valid/labels/005433.txt  \n",
            "  inflating: /content/drive/MyDrive/my_yolov8/Conbine_dataset_3_classes-1_80-20-10-str/valid/labels/002041.txt  \n",
            "  inflating: /content/drive/MyDrive/my_yolov8/Conbine_dataset_3_classes-1_80-20-10-str/valid/labels/001846.txt  \n",
            "  inflating: /content/drive/MyDrive/my_yolov8/Conbine_dataset_3_classes-1_80-20-10-str/valid/labels/003452.txt  \n",
            "  inflating: /content/drive/MyDrive/my_yolov8/Conbine_dataset_3_classes-1_80-20-10-str/valid/labels/003771.txt  \n",
            "  inflating: /content/drive/MyDrive/my_yolov8/Conbine_dataset_3_classes-1_80-20-10-str/valid/labels/003970.txt  \n",
            "  inflating: /content/drive/MyDrive/my_yolov8/Conbine_dataset_3_classes-1_80-20-10-str/valid/labels/005089.txt  \n",
            "  inflating: /content/drive/MyDrive/my_yolov8/Conbine_dataset_3_classes-1_80-20-10-str/valid/labels/005679.txt  \n",
            "  inflating: /content/drive/MyDrive/my_yolov8/Conbine_dataset_3_classes-1_80-20-10-str/valid/labels/003188.txt  \n",
            "  inflating: /content/drive/MyDrive/my_yolov8/Conbine_dataset_3_classes-1_80-20-10-str/valid/labels/003396.txt  \n",
            "  inflating: /content/drive/MyDrive/my_yolov8/Conbine_dataset_3_classes-1_80-20-10-str/valid/labels/001423.txt  \n",
            "  inflating: /content/drive/MyDrive/my_yolov8/Conbine_dataset_3_classes-1_80-20-10-str/valid/labels/000377.txt  \n",
            "  inflating: /content/drive/MyDrive/my_yolov8/Conbine_dataset_3_classes-1_80-20-10-str/valid/labels/002129.txt  \n",
            "  inflating: /content/drive/MyDrive/my_yolov8/Conbine_dataset_3_classes-1_80-20-10-str/valid/labels/007135.txt  \n",
            "  inflating: /content/drive/MyDrive/my_yolov8/Conbine_dataset_3_classes-1_80-20-10-str/valid/labels/006885.txt  \n",
            "  inflating: /content/drive/MyDrive/my_yolov8/Conbine_dataset_3_classes-1_80-20-10-str/valid/labels/003723.txt  \n",
            "  inflating: /content/drive/MyDrive/my_yolov8/Conbine_dataset_3_classes-1_80-20-10-str/valid/labels/000419.txt  \n",
            "  inflating: /content/drive/MyDrive/my_yolov8/Conbine_dataset_3_classes-1_80-20-10-str/valid/labels/006425.txt  \n",
            "  inflating: /content/drive/MyDrive/my_yolov8/Conbine_dataset_3_classes-1_80-20-10-str/valid/labels/005134.txt  \n",
            "  inflating: /content/drive/MyDrive/my_yolov8/Conbine_dataset_3_classes-1_80-20-10-str/valid/labels/003623.txt  \n",
            "  inflating: /content/drive/MyDrive/my_yolov8/Conbine_dataset_3_classes-1_80-20-10-str/valid/labels/000414.txt  \n",
            "  inflating: /content/drive/MyDrive/my_yolov8/Conbine_dataset_3_classes-1_80-20-10-str/valid/labels/004205.txt  \n",
            "  inflating: /content/drive/MyDrive/my_yolov8/Conbine_dataset_3_classes-1_80-20-10-str/valid/labels/006638.txt  \n",
            "  inflating: /content/drive/MyDrive/my_yolov8/Conbine_dataset_3_classes-1_80-20-10-str/valid/labels/002560.txt  \n",
            "  inflating: /content/drive/MyDrive/my_yolov8/Conbine_dataset_3_classes-1_80-20-10-str/valid/labels/000606.txt  \n",
            "  inflating: /content/drive/MyDrive/my_yolov8/Conbine_dataset_3_classes-1_80-20-10-str/valid/labels/000256.txt  \n",
            "  inflating: /content/drive/MyDrive/my_yolov8/Conbine_dataset_3_classes-1_80-20-10-str/valid/labels/002528.txt  \n",
            "  inflating: /content/drive/MyDrive/my_yolov8/Conbine_dataset_3_classes-1_80-20-10-str/valid/labels/002910.txt  \n",
            "  inflating: /content/drive/MyDrive/my_yolov8/Conbine_dataset_3_classes-1_80-20-10-str/valid/labels/000083.txt  \n",
            "  inflating: /content/drive/MyDrive/my_yolov8/Conbine_dataset_3_classes-1_80-20-10-str/valid/labels/006197.txt  \n",
            "  inflating: /content/drive/MyDrive/my_yolov8/Conbine_dataset_3_classes-1_80-20-10-str/valid/labels/004472.txt  \n",
            "  inflating: /content/drive/MyDrive/my_yolov8/Conbine_dataset_3_classes-1_80-20-10-str/valid/labels/000722.txt  \n",
            "  inflating: /content/drive/MyDrive/my_yolov8/Conbine_dataset_3_classes-1_80-20-10-str/valid/labels/002188.txt  \n",
            "  inflating: /content/drive/MyDrive/my_yolov8/Conbine_dataset_3_classes-1_80-20-10-str/valid/labels/003830.txt  \n",
            "  inflating: /content/drive/MyDrive/my_yolov8/Conbine_dataset_3_classes-1_80-20-10-str/valid/labels/003779.txt  \n",
            "  inflating: /content/drive/MyDrive/my_yolov8/Conbine_dataset_3_classes-1_80-20-10-str/valid/labels/005619.txt  \n",
            "  inflating: /content/drive/MyDrive/my_yolov8/Conbine_dataset_3_classes-1_80-20-10-str/valid/labels/005922.txt  \n",
            "  inflating: /content/drive/MyDrive/my_yolov8/Conbine_dataset_3_classes-1_80-20-10-str/valid/labels/005512.txt  \n",
            "  inflating: /content/drive/MyDrive/my_yolov8/Conbine_dataset_3_classes-1_80-20-10-str/valid/labels/003347.txt  \n",
            "  inflating: /content/drive/MyDrive/my_yolov8/Conbine_dataset_3_classes-1_80-20-10-str/valid/labels/002120.txt  \n",
            "  inflating: /content/drive/MyDrive/my_yolov8/Conbine_dataset_3_classes-1_80-20-10-str/valid/labels/002064.txt  \n",
            "  inflating: /content/drive/MyDrive/my_yolov8/Conbine_dataset_3_classes-1_80-20-10-str/valid/labels/003224.txt  \n",
            "  inflating: /content/drive/MyDrive/my_yolov8/Conbine_dataset_3_classes-1_80-20-10-str/valid/labels/006319.txt  \n",
            "  inflating: /content/drive/MyDrive/my_yolov8/Conbine_dataset_3_classes-1_80-20-10-str/valid/labels/002570.txt  \n",
            "  inflating: /content/drive/MyDrive/my_yolov8/Conbine_dataset_3_classes-1_80-20-10-str/valid/labels/000736.txt  \n",
            "  inflating: /content/drive/MyDrive/my_yolov8/Conbine_dataset_3_classes-1_80-20-10-str/valid/labels/003147.txt  \n",
            "  inflating: /content/drive/MyDrive/my_yolov8/Conbine_dataset_3_classes-1_80-20-10-str/valid/labels/005374.txt  \n",
            "  inflating: /content/drive/MyDrive/my_yolov8/Conbine_dataset_3_classes-1_80-20-10-str/valid/labels/005598.txt  \n",
            "  inflating: /content/drive/MyDrive/my_yolov8/Conbine_dataset_3_classes-1_80-20-10-str/valid/labels/003599.txt  \n",
            "  inflating: /content/drive/MyDrive/my_yolov8/Conbine_dataset_3_classes-1_80-20-10-str/valid/labels/002822.txt  \n",
            "  inflating: /content/drive/MyDrive/my_yolov8/Conbine_dataset_3_classes-1_80-20-10-str/valid/labels/001413.txt  \n",
            "  inflating: /content/drive/MyDrive/my_yolov8/Conbine_dataset_3_classes-1_80-20-10-str/valid/labels/002024.txt  \n",
            "  inflating: /content/drive/MyDrive/my_yolov8/Conbine_dataset_3_classes-1_80-20-10-str/valid/labels/003473.txt  \n",
            "  inflating: /content/drive/MyDrive/my_yolov8/Conbine_dataset_3_classes-1_80-20-10-str/valid/labels/000788.txt  \n",
            "  inflating: /content/drive/MyDrive/my_yolov8/Conbine_dataset_3_classes-1_80-20-10-str/valid/labels/004912.txt  \n",
            "  inflating: /content/drive/MyDrive/my_yolov8/Conbine_dataset_3_classes-1_80-20-10-str/valid/labels/001551.txt  \n",
            "  inflating: /content/drive/MyDrive/my_yolov8/Conbine_dataset_3_classes-1_80-20-10-str/valid/labels/001534.txt  \n",
            "  inflating: /content/drive/MyDrive/my_yolov8/Conbine_dataset_3_classes-1_80-20-10-str/valid/labels/000629.txt  \n",
            "  inflating: /content/drive/MyDrive/my_yolov8/Conbine_dataset_3_classes-1_80-20-10-str/valid/labels/002994.txt  \n",
            "  inflating: /content/drive/MyDrive/my_yolov8/Conbine_dataset_3_classes-1_80-20-10-str/valid/labels/001358.txt  \n",
            "  inflating: /content/drive/MyDrive/my_yolov8/Conbine_dataset_3_classes-1_80-20-10-str/valid/labels/000275.txt  \n",
            "  inflating: /content/drive/MyDrive/my_yolov8/Conbine_dataset_3_classes-1_80-20-10-str/valid/labels/001076.txt  \n",
            "  inflating: /content/drive/MyDrive/my_yolov8/Conbine_dataset_3_classes-1_80-20-10-str/valid/labels/001995.txt  \n",
            "  inflating: /content/drive/MyDrive/my_yolov8/Conbine_dataset_3_classes-1_80-20-10-str/valid/labels/006512.txt  \n",
            "  inflating: /content/drive/MyDrive/my_yolov8/Conbine_dataset_3_classes-1_80-20-10-str/valid/labels/005878.txt  \n",
            "  inflating: /content/drive/MyDrive/my_yolov8/Conbine_dataset_3_classes-1_80-20-10-str/valid/labels/003534.txt  \n",
            "  inflating: /content/drive/MyDrive/my_yolov8/Conbine_dataset_3_classes-1_80-20-10-str/valid/labels/001349.txt  \n",
            "  inflating: /content/drive/MyDrive/my_yolov8/Conbine_dataset_3_classes-1_80-20-10-str/valid/labels/006891.txt  \n",
            "  inflating: /content/drive/MyDrive/my_yolov8/Conbine_dataset_3_classes-1_80-20-10-str/valid/labels/005012.txt  \n",
            "  inflating: /content/drive/MyDrive/my_yolov8/Conbine_dataset_3_classes-1_80-20-10-str/valid/labels/007088.txt  \n",
            "  inflating: /content/drive/MyDrive/my_yolov8/Conbine_dataset_3_classes-1_80-20-10-str/valid/labels/002460.txt  \n",
            "  inflating: /content/drive/MyDrive/my_yolov8/Conbine_dataset_3_classes-1_80-20-10-str/valid/labels/007180.txt  \n",
            "  inflating: /content/drive/MyDrive/my_yolov8/Conbine_dataset_3_classes-1_80-20-10-str/valid/labels/001054.txt  \n",
            "  inflating: /content/drive/MyDrive/my_yolov8/Conbine_dataset_3_classes-1_80-20-10-str/valid/labels/000537.txt  \n",
            "  inflating: /content/drive/MyDrive/my_yolov8/Conbine_dataset_3_classes-1_80-20-10-str/valid/labels/000763.txt  \n",
            "  inflating: /content/drive/MyDrive/my_yolov8/Conbine_dataset_3_classes-1_80-20-10-str/valid/labels/000815.txt  \n",
            "  inflating: /content/drive/MyDrive/my_yolov8/Conbine_dataset_3_classes-1_80-20-10-str/valid/labels/005752.txt  \n",
            "  inflating: /content/drive/MyDrive/my_yolov8/Conbine_dataset_3_classes-1_80-20-10-str/valid/labels/000504.txt  \n",
            "  inflating: /content/drive/MyDrive/my_yolov8/Conbine_dataset_3_classes-1_80-20-10-str/valid/labels/004706.txt  \n",
            "  inflating: /content/drive/MyDrive/my_yolov8/Conbine_dataset_3_classes-1_80-20-10-str/valid/labels/002150.txt  \n",
            "  inflating: /content/drive/MyDrive/my_yolov8/Conbine_dataset_3_classes-1_80-20-10-str/valid/labels/006372.txt  \n",
            "  inflating: /content/drive/MyDrive/my_yolov8/Conbine_dataset_3_classes-1_80-20-10-str/valid/labels/004475.txt  \n",
            "  inflating: /content/drive/MyDrive/my_yolov8/Conbine_dataset_3_classes-1_80-20-10-str/valid/labels/000035.txt  \n",
            "  inflating: /content/drive/MyDrive/my_yolov8/Conbine_dataset_3_classes-1_80-20-10-str/valid/labels/002297.txt  \n",
            "  inflating: /content/drive/MyDrive/my_yolov8/Conbine_dataset_3_classes-1_80-20-10-str/valid/labels/003005.txt  \n",
            "  inflating: /content/drive/MyDrive/my_yolov8/Conbine_dataset_3_classes-1_80-20-10-str/valid/labels/003801.txt  \n",
            "  inflating: /content/drive/MyDrive/my_yolov8/Conbine_dataset_3_classes-1_80-20-10-str/valid/labels/000966.txt  \n",
            "  inflating: /content/drive/MyDrive/my_yolov8/Conbine_dataset_3_classes-1_80-20-10-str/valid/labels/005978.txt  \n",
            "  inflating: /content/drive/MyDrive/my_yolov8/Conbine_dataset_3_classes-1_80-20-10-str/valid/labels/005814.txt  \n",
            "  inflating: /content/drive/MyDrive/my_yolov8/Conbine_dataset_3_classes-1_80-20-10-str/valid/labels/004590.txt  \n",
            "  inflating: /content/drive/MyDrive/my_yolov8/Conbine_dataset_3_classes-1_80-20-10-str/valid/labels/005372.txt  \n",
            "  inflating: /content/drive/MyDrive/my_yolov8/Conbine_dataset_3_classes-1_80-20-10-str/valid/labels/000491.txt  \n",
            "  inflating: /content/drive/MyDrive/my_yolov8/Conbine_dataset_3_classes-1_80-20-10-str/valid/labels/000246.txt  \n",
            "  inflating: /content/drive/MyDrive/my_yolov8/Conbine_dataset_3_classes-1_80-20-10-str/valid/labels/002523.txt  \n",
            "  inflating: /content/drive/MyDrive/my_yolov8/Conbine_dataset_3_classes-1_80-20-10-str/valid/labels/001550.txt  \n",
            "  inflating: /content/drive/MyDrive/my_yolov8/Conbine_dataset_3_classes-1_80-20-10-str/valid/labels/002577.txt  \n",
            "  inflating: /content/drive/MyDrive/my_yolov8/Conbine_dataset_3_classes-1_80-20-10-str/valid/labels/003640.txt  \n",
            "  inflating: /content/drive/MyDrive/my_yolov8/Conbine_dataset_3_classes-1_80-20-10-str/valid/labels/002644.txt  \n",
            "  inflating: /content/drive/MyDrive/my_yolov8/Conbine_dataset_3_classes-1_80-20-10-str/valid/labels/002021.txt  \n",
            "  inflating: /content/drive/MyDrive/my_yolov8/Conbine_dataset_3_classes-1_80-20-10-str/valid/labels/001782.txt  \n",
            "  inflating: /content/drive/MyDrive/my_yolov8/Conbine_dataset_3_classes-1_80-20-10-str/valid/labels/003822.txt  \n",
            "  inflating: /content/drive/MyDrive/my_yolov8/Conbine_dataset_3_classes-1_80-20-10-str/valid/labels/005807.txt  \n",
            "  inflating: /content/drive/MyDrive/my_yolov8/Conbine_dataset_3_classes-1_80-20-10-str/valid/labels/006018.txt  \n",
            "  inflating: /content/drive/MyDrive/my_yolov8/Conbine_dataset_3_classes-1_80-20-10-str/valid/labels/006471.txt  \n",
            "  inflating: /content/drive/MyDrive/my_yolov8/Conbine_dataset_3_classes-1_80-20-10-str/valid/labels/007226.txt  \n",
            "  inflating: /content/drive/MyDrive/my_yolov8/Conbine_dataset_3_classes-1_80-20-10-str/valid/labels/002209.txt  \n",
            "  inflating: /content/drive/MyDrive/my_yolov8/Conbine_dataset_3_classes-1_80-20-10-str/valid/labels/000795.txt  \n",
            "  inflating: /content/drive/MyDrive/my_yolov8/Conbine_dataset_3_classes-1_80-20-10-str/valid/labels/001766.txt  \n",
            "  inflating: /content/drive/MyDrive/my_yolov8/Conbine_dataset_3_classes-1_80-20-10-str/valid/labels/004353.txt  \n",
            "  inflating: /content/drive/MyDrive/my_yolov8/Conbine_dataset_3_classes-1_80-20-10-str/valid/labels/001967.txt  \n",
            "  inflating: /content/drive/MyDrive/my_yolov8/Conbine_dataset_3_classes-1_80-20-10-str/valid/labels/006448.txt  \n",
            "  inflating: /content/drive/MyDrive/my_yolov8/Conbine_dataset_3_classes-1_80-20-10-str/valid/labels/005915.txt  \n",
            "  inflating: /content/drive/MyDrive/my_yolov8/Conbine_dataset_3_classes-1_80-20-10-str/valid/labels/002893.txt  \n",
            "  inflating: /content/drive/MyDrive/my_yolov8/Conbine_dataset_3_classes-1_80-20-10-str/valid/labels/006316.txt  \n",
            "  inflating: /content/drive/MyDrive/my_yolov8/Conbine_dataset_3_classes-1_80-20-10-str/valid/labels/003806.txt  \n",
            "  inflating: /content/drive/MyDrive/my_yolov8/Conbine_dataset_3_classes-1_80-20-10-str/valid/labels/006525.txt  \n",
            "  inflating: /content/drive/MyDrive/my_yolov8/Conbine_dataset_3_classes-1_80-20-10-str/valid/labels/005238.txt  \n",
            "  inflating: /content/drive/MyDrive/my_yolov8/Conbine_dataset_3_classes-1_80-20-10-str/valid/labels/001308.txt  \n",
            "  inflating: /content/drive/MyDrive/my_yolov8/Conbine_dataset_3_classes-1_80-20-10-str/valid/labels/004319.txt  \n",
            "  inflating: /content/drive/MyDrive/my_yolov8/Conbine_dataset_3_classes-1_80-20-10-str/valid/labels/000397.txt  \n",
            "  inflating: /content/drive/MyDrive/my_yolov8/Conbine_dataset_3_classes-1_80-20-10-str/valid/labels/006558.txt  \n",
            "  inflating: /content/drive/MyDrive/my_yolov8/Conbine_dataset_3_classes-1_80-20-10-str/valid/labels/000270.txt  \n",
            "  inflating: /content/drive/MyDrive/my_yolov8/Conbine_dataset_3_classes-1_80-20-10-str/valid/labels/001302.txt  \n",
            "  inflating: /content/drive/MyDrive/my_yolov8/Conbine_dataset_3_classes-1_80-20-10-str/valid/labels/002517.txt  \n",
            "  inflating: /content/drive/MyDrive/my_yolov8/Conbine_dataset_3_classes-1_80-20-10-str/valid/labels/003629.txt  \n",
            "  inflating: /content/drive/MyDrive/my_yolov8/Conbine_dataset_3_classes-1_80-20-10-str/valid/labels/003628.txt  \n",
            "  inflating: /content/drive/MyDrive/my_yolov8/Conbine_dataset_3_classes-1_80-20-10-str/valid/labels/001227.txt  \n",
            "  inflating: /content/drive/MyDrive/my_yolov8/Conbine_dataset_3_classes-1_80-20-10-str/valid/labels/002137.txt  \n",
            "  inflating: /content/drive/MyDrive/my_yolov8/Conbine_dataset_3_classes-1_80-20-10-str/valid/labels/005774.txt  \n",
            "  inflating: /content/drive/MyDrive/my_yolov8/Conbine_dataset_3_classes-1_80-20-10-str/valid/labels/000064.txt  \n",
            "  inflating: /content/drive/MyDrive/my_yolov8/Conbine_dataset_3_classes-1_80-20-10-str/valid/labels/005575.txt  \n",
            "  inflating: /content/drive/MyDrive/my_yolov8/Conbine_dataset_3_classes-1_80-20-10-str/valid/labels/005990.txt  \n",
            "  inflating: /content/drive/MyDrive/my_yolov8/Conbine_dataset_3_classes-1_80-20-10-str/valid/labels/002476.txt  \n",
            "  inflating: /content/drive/MyDrive/my_yolov8/Conbine_dataset_3_classes-1_80-20-10-str/valid/labels/001912.txt  \n",
            "  inflating: /content/drive/MyDrive/my_yolov8/Conbine_dataset_3_classes-1_80-20-10-str/valid/labels/006963.txt  \n",
            "  inflating: /content/drive/MyDrive/my_yolov8/Conbine_dataset_3_classes-1_80-20-10-str/valid/labels/003540.txt  \n",
            "  inflating: /content/drive/MyDrive/my_yolov8/Conbine_dataset_3_classes-1_80-20-10-str/valid/labels/000138.txt  \n",
            "  inflating: /content/drive/MyDrive/my_yolov8/Conbine_dataset_3_classes-1_80-20-10-str/valid/labels/006545.txt  \n",
            "  inflating: /content/drive/MyDrive/my_yolov8/Conbine_dataset_3_classes-1_80-20-10-str/valid/labels/004133.txt  \n",
            "  inflating: /content/drive/MyDrive/my_yolov8/Conbine_dataset_3_classes-1_80-20-10-str/valid/labels/005452.txt  \n",
            "  inflating: /content/drive/MyDrive/my_yolov8/Conbine_dataset_3_classes-1_80-20-10-str/valid/labels/006580.txt  \n",
            "  inflating: /content/drive/MyDrive/my_yolov8/Conbine_dataset_3_classes-1_80-20-10-str/valid/labels/004596.txt  \n",
            "  inflating: /content/drive/MyDrive/my_yolov8/Conbine_dataset_3_classes-1_80-20-10-str/valid/labels/005960.txt  \n",
            "  inflating: /content/drive/MyDrive/my_yolov8/Conbine_dataset_3_classes-1_80-20-10-str/valid/labels/001783.txt  \n",
            "  inflating: /content/drive/MyDrive/my_yolov8/Conbine_dataset_3_classes-1_80-20-10-str/valid/labels/005332.txt  \n",
            "  inflating: /content/drive/MyDrive/my_yolov8/Conbine_dataset_3_classes-1_80-20-10-str/valid/labels/005682.txt  \n",
            "  inflating: /content/drive/MyDrive/my_yolov8/Conbine_dataset_3_classes-1_80-20-10-str/valid/labels/001267.txt  \n",
            "  inflating: /content/drive/MyDrive/my_yolov8/Conbine_dataset_3_classes-1_80-20-10-str/valid/labels/001456.txt  \n",
            "  inflating: /content/drive/MyDrive/my_yolov8/Conbine_dataset_3_classes-1_80-20-10-str/valid/labels/002747.txt  \n",
            "  inflating: /content/drive/MyDrive/my_yolov8/Conbine_dataset_3_classes-1_80-20-10-str/valid/labels/006422.txt  \n",
            "  inflating: /content/drive/MyDrive/my_yolov8/Conbine_dataset_3_classes-1_80-20-10-str/valid/labels/006890.txt  \n",
            "  inflating: /content/drive/MyDrive/my_yolov8/Conbine_dataset_3_classes-1_80-20-10-str/valid/labels/002419.txt  \n",
            "  inflating: /content/drive/MyDrive/my_yolov8/Conbine_dataset_3_classes-1_80-20-10-str/valid/labels/003800.txt  \n",
            "  inflating: /content/drive/MyDrive/my_yolov8/Conbine_dataset_3_classes-1_80-20-10-str/valid/labels/002338.txt  \n",
            "  inflating: /content/drive/MyDrive/my_yolov8/Conbine_dataset_3_classes-1_80-20-10-str/valid/labels/005743.txt  \n",
            "  inflating: /content/drive/MyDrive/my_yolov8/Conbine_dataset_3_classes-1_80-20-10-str/valid/labels/000146.txt  \n",
            "  inflating: /content/drive/MyDrive/my_yolov8/Conbine_dataset_3_classes-1_80-20-10-str/valid/labels/001663.txt  \n",
            "  inflating: /content/drive/MyDrive/my_yolov8/Conbine_dataset_3_classes-1_80-20-10-str/valid/labels/000632.txt  \n",
            "  inflating: /content/drive/MyDrive/my_yolov8/Conbine_dataset_3_classes-1_80-20-10-str/valid/labels/000848.txt  \n",
            "  inflating: /content/drive/MyDrive/my_yolov8/Conbine_dataset_3_classes-1_80-20-10-str/valid/labels/001132.txt  \n",
            "  inflating: /content/drive/MyDrive/my_yolov8/Conbine_dataset_3_classes-1_80-20-10-str/valid/labels/003156.txt  \n",
            "  inflating: /content/drive/MyDrive/my_yolov8/Conbine_dataset_3_classes-1_80-20-10-str/valid/labels/007018.txt  \n",
            "  inflating: /content/drive/MyDrive/my_yolov8/Conbine_dataset_3_classes-1_80-20-10-str/valid/labels/006590.txt  \n",
            "  inflating: /content/drive/MyDrive/my_yolov8/Conbine_dataset_3_classes-1_80-20-10-str/valid/labels/004427.txt  \n",
            "  inflating: /content/drive/MyDrive/my_yolov8/Conbine_dataset_3_classes-1_80-20-10-str/valid/labels/000762.txt  \n",
            "  inflating: /content/drive/MyDrive/my_yolov8/Conbine_dataset_3_classes-1_80-20-10-str/valid/labels/003313.txt  \n",
            "  inflating: /content/drive/MyDrive/my_yolov8/Conbine_dataset_3_classes-1_80-20-10-str/valid/labels/007055.txt  \n",
            "  inflating: /content/drive/MyDrive/my_yolov8/Conbine_dataset_3_classes-1_80-20-10-str/valid/labels/001517.txt  \n",
            "  inflating: /content/drive/MyDrive/my_yolov8/Conbine_dataset_3_classes-1_80-20-10-str/valid/labels/006340.txt  \n",
            "  inflating: /content/drive/MyDrive/my_yolov8/Conbine_dataset_3_classes-1_80-20-10-str/valid/labels/006390.txt  \n",
            "  inflating: /content/drive/MyDrive/my_yolov8/Conbine_dataset_3_classes-1_80-20-10-str/valid/labels/004693.txt  \n",
            "  inflating: /content/drive/MyDrive/my_yolov8/Conbine_dataset_3_classes-1_80-20-10-str/valid/labels/000783.txt  \n",
            "  inflating: /content/drive/MyDrive/my_yolov8/Conbine_dataset_3_classes-1_80-20-10-str/valid/labels/004131.txt  \n",
            "  inflating: /content/drive/MyDrive/my_yolov8/Conbine_dataset_3_classes-1_80-20-10-str/valid/labels/002341.txt  \n",
            "  inflating: /content/drive/MyDrive/my_yolov8/Conbine_dataset_3_classes-1_80-20-10-str/valid/labels/002200.txt  \n",
            "  inflating: /content/drive/MyDrive/my_yolov8/Conbine_dataset_3_classes-1_80-20-10-str/valid/labels/004406.txt  \n",
            "  inflating: /content/drive/MyDrive/my_yolov8/Conbine_dataset_3_classes-1_80-20-10-str/valid/labels/003813.txt  \n",
            "  inflating: /content/drive/MyDrive/my_yolov8/Conbine_dataset_3_classes-1_80-20-10-str/valid/labels/001019.txt  \n",
            "  inflating: /content/drive/MyDrive/my_yolov8/Conbine_dataset_3_classes-1_80-20-10-str/valid/labels/003967.txt  \n",
            "  inflating: /content/drive/MyDrive/my_yolov8/Conbine_dataset_3_classes-1_80-20-10-str/valid/labels/006524.txt  \n",
            "  inflating: /content/drive/MyDrive/my_yolov8/Conbine_dataset_3_classes-1_80-20-10-str/valid/labels/005724.txt  \n",
            "  inflating: /content/drive/MyDrive/my_yolov8/Conbine_dataset_3_classes-1_80-20-10-str/valid/labels/007057.txt  \n",
            "  inflating: /content/drive/MyDrive/my_yolov8/Conbine_dataset_3_classes-1_80-20-10-str/valid/labels/006132.txt  \n",
            "  inflating: /content/drive/MyDrive/my_yolov8/Conbine_dataset_3_classes-1_80-20-10-str/valid/labels/000108.txt  \n",
            "  inflating: /content/drive/MyDrive/my_yolov8/Conbine_dataset_3_classes-1_80-20-10-str/valid/labels/004144.txt  \n",
            "  inflating: /content/drive/MyDrive/my_yolov8/Conbine_dataset_3_classes-1_80-20-10-str/valid/labels/004294.txt  \n",
            "  inflating: /content/drive/MyDrive/my_yolov8/Conbine_dataset_3_classes-1_80-20-10-str/valid/images/004144.jpg  \n",
            "  inflating: /content/drive/MyDrive/my_yolov8/Conbine_dataset_3_classes-1_80-20-10-str/valid/images/006518.jpg  \n",
            "  inflating: /content/drive/MyDrive/my_yolov8/Conbine_dataset_3_classes-1_80-20-10-str/valid/images/002570.jpg  \n",
            "  inflating: /content/drive/MyDrive/my_yolov8/Conbine_dataset_3_classes-1_80-20-10-str/valid/images/006350.jpg  \n",
            "  inflating: /content/drive/MyDrive/my_yolov8/Conbine_dataset_3_classes-1_80-20-10-str/valid/images/003356.jpg  \n",
            "  inflating: /content/drive/MyDrive/my_yolov8/Conbine_dataset_3_classes-1_80-20-10-str/valid/images/006408.jpg  \n",
            "  inflating: /content/drive/MyDrive/my_yolov8/Conbine_dataset_3_classes-1_80-20-10-str/valid/images/003423.jpg  \n",
            "  inflating: /content/drive/MyDrive/my_yolov8/Conbine_dataset_3_classes-1_80-20-10-str/valid/images/004339.jpg  \n",
            "  inflating: /content/drive/MyDrive/my_yolov8/Conbine_dataset_3_classes-1_80-20-10-str/valid/images/004832.jpg  \n",
            "  inflating: /content/drive/MyDrive/my_yolov8/Conbine_dataset_3_classes-1_80-20-10-str/valid/images/006743.jpg  \n",
            "  inflating: /content/drive/MyDrive/my_yolov8/Conbine_dataset_3_classes-1_80-20-10-str/valid/images/005046.jpg  \n",
            "  inflating: /content/drive/MyDrive/my_yolov8/Conbine_dataset_3_classes-1_80-20-10-str/valid/images/006782.jpg  \n",
            "  inflating: /content/drive/MyDrive/my_yolov8/Conbine_dataset_3_classes-1_80-20-10-str/valid/images/001155.jpg  \n",
            "  inflating: /content/drive/MyDrive/my_yolov8/Conbine_dataset_3_classes-1_80-20-10-str/valid/images/005118.jpg  \n",
            "  inflating: /content/drive/MyDrive/my_yolov8/Conbine_dataset_3_classes-1_80-20-10-str/valid/images/004427.jpg  \n",
            "  inflating: /content/drive/MyDrive/my_yolov8/Conbine_dataset_3_classes-1_80-20-10-str/valid/images/001010.jpg  \n",
            "  inflating: /content/drive/MyDrive/my_yolov8/Conbine_dataset_3_classes-1_80-20-10-str/valid/images/005353.jpg  \n",
            "  inflating: /content/drive/MyDrive/my_yolov8/Conbine_dataset_3_classes-1_80-20-10-str/valid/images/005484.jpg  \n",
            "  inflating: /content/drive/MyDrive/my_yolov8/Conbine_dataset_3_classes-1_80-20-10-str/valid/images/005784.jpg  \n",
            "  inflating: /content/drive/MyDrive/my_yolov8/Conbine_dataset_3_classes-1_80-20-10-str/valid/images/003602.jpg  \n",
            "  inflating: /content/drive/MyDrive/my_yolov8/Conbine_dataset_3_classes-1_80-20-10-str/valid/images/003320.jpg  \n",
            "  inflating: /content/drive/MyDrive/my_yolov8/Conbine_dataset_3_classes-1_80-20-10-str/valid/images/003878.jpg  \n",
            "  inflating: /content/drive/MyDrive/my_yolov8/Conbine_dataset_3_classes-1_80-20-10-str/valid/images/001691.jpg  \n",
            "  inflating: /content/drive/MyDrive/my_yolov8/Conbine_dataset_3_classes-1_80-20-10-str/valid/images/002453.jpg  \n",
            "  inflating: /content/drive/MyDrive/my_yolov8/Conbine_dataset_3_classes-1_80-20-10-str/valid/images/005970.jpg  \n",
            "  inflating: /content/drive/MyDrive/my_yolov8/Conbine_dataset_3_classes-1_80-20-10-str/valid/images/001270.jpg  \n",
            "  inflating: /content/drive/MyDrive/my_yolov8/Conbine_dataset_3_classes-1_80-20-10-str/valid/images/001711.jpg  \n",
            "  inflating: /content/drive/MyDrive/my_yolov8/Conbine_dataset_3_classes-1_80-20-10-str/valid/images/005709.jpg  \n",
            "  inflating: /content/drive/MyDrive/my_yolov8/Conbine_dataset_3_classes-1_80-20-10-str/valid/images/003413.jpg  \n",
            "  inflating: /content/drive/MyDrive/my_yolov8/Conbine_dataset_3_classes-1_80-20-10-str/valid/images/001706.jpg  \n",
            "  inflating: /content/drive/MyDrive/my_yolov8/Conbine_dataset_3_classes-1_80-20-10-str/valid/images/006787.jpg  \n",
            "  inflating: /content/drive/MyDrive/my_yolov8/Conbine_dataset_3_classes-1_80-20-10-str/valid/images/005317.jpg  \n",
            "  inflating: /content/drive/MyDrive/my_yolov8/Conbine_dataset_3_classes-1_80-20-10-str/valid/images/002778.jpg  \n",
            "  inflating: /content/drive/MyDrive/my_yolov8/Conbine_dataset_3_classes-1_80-20-10-str/valid/images/001500.jpg  \n",
            "  inflating: /content/drive/MyDrive/my_yolov8/Conbine_dataset_3_classes-1_80-20-10-str/valid/images/006228.jpg  \n",
            "  inflating: /content/drive/MyDrive/my_yolov8/Conbine_dataset_3_classes-1_80-20-10-str/valid/images/000246.jpg  \n",
            "  inflating: /content/drive/MyDrive/my_yolov8/Conbine_dataset_3_classes-1_80-20-10-str/valid/images/004668.jpg  \n",
            "  inflating: /content/drive/MyDrive/my_yolov8/Conbine_dataset_3_classes-1_80-20-10-str/valid/images/004532.jpg  \n",
            "  inflating: /content/drive/MyDrive/my_yolov8/Conbine_dataset_3_classes-1_80-20-10-str/valid/images/000228.jpg  \n",
            "  inflating: /content/drive/MyDrive/my_yolov8/Conbine_dataset_3_classes-1_80-20-10-str/valid/images/000206.jpg  \n",
            "  inflating: /content/drive/MyDrive/my_yolov8/Conbine_dataset_3_classes-1_80-20-10-str/valid/images/004131.jpg  \n",
            "  inflating: /content/drive/MyDrive/my_yolov8/Conbine_dataset_3_classes-1_80-20-10-str/valid/images/005379.jpg  \n",
            "  inflating: /content/drive/MyDrive/my_yolov8/Conbine_dataset_3_classes-1_80-20-10-str/valid/images/000282.jpg  \n",
            "  inflating: /content/drive/MyDrive/my_yolov8/Conbine_dataset_3_classes-1_80-20-10-str/valid/images/001324.jpg  \n",
            "  inflating: /content/drive/MyDrive/my_yolov8/Conbine_dataset_3_classes-1_80-20-10-str/valid/images/003325.jpg  \n",
            "  inflating: /content/drive/MyDrive/my_yolov8/Conbine_dataset_3_classes-1_80-20-10-str/valid/images/005782.jpg  \n",
            "  inflating: /content/drive/MyDrive/my_yolov8/Conbine_dataset_3_classes-1_80-20-10-str/valid/images/006696.jpg  \n",
            "  inflating: /content/drive/MyDrive/my_yolov8/Conbine_dataset_3_classes-1_80-20-10-str/valid/images/000588.jpg  \n",
            "  inflating: /content/drive/MyDrive/my_yolov8/Conbine_dataset_3_classes-1_80-20-10-str/valid/images/002150.jpg  \n",
            "  inflating: /content/drive/MyDrive/my_yolov8/Conbine_dataset_3_classes-1_80-20-10-str/valid/images/004691.jpg  \n",
            "  inflating: /content/drive/MyDrive/my_yolov8/Conbine_dataset_3_classes-1_80-20-10-str/valid/images/004822.jpg  \n",
            "  inflating: /content/drive/MyDrive/my_yolov8/Conbine_dataset_3_classes-1_80-20-10-str/valid/images/004000.jpg  \n",
            "  inflating: /content/drive/MyDrive/my_yolov8/Conbine_dataset_3_classes-1_80-20-10-str/valid/images/003630.jpg  \n",
            "  inflating: /content/drive/MyDrive/my_yolov8/Conbine_dataset_3_classes-1_80-20-10-str/valid/images/006811.jpg  \n",
            "  inflating: /content/drive/MyDrive/my_yolov8/Conbine_dataset_3_classes-1_80-20-10-str/valid/images/002803.jpg  \n",
            "  inflating: /content/drive/MyDrive/my_yolov8/Conbine_dataset_3_classes-1_80-20-10-str/valid/images/005657.jpg  \n",
            "  inflating: /content/drive/MyDrive/my_yolov8/Conbine_dataset_3_classes-1_80-20-10-str/valid/images/000253.jpg  \n",
            "  inflating: /content/drive/MyDrive/my_yolov8/Conbine_dataset_3_classes-1_80-20-10-str/valid/images/000740.jpg  \n",
            "  inflating: /content/drive/MyDrive/my_yolov8/Conbine_dataset_3_classes-1_80-20-10-str/valid/images/003088.jpg  \n",
            "  inflating: /content/drive/MyDrive/my_yolov8/Conbine_dataset_3_classes-1_80-20-10-str/valid/images/005615.jpg  \n",
            "  inflating: /content/drive/MyDrive/my_yolov8/Conbine_dataset_3_classes-1_80-20-10-str/valid/images/002174.jpg  \n",
            "  inflating: /content/drive/MyDrive/my_yolov8/Conbine_dataset_3_classes-1_80-20-10-str/valid/images/004216.jpg  \n",
            "  inflating: /content/drive/MyDrive/my_yolov8/Conbine_dataset_3_classes-1_80-20-10-str/valid/images/007142.jpg  \n",
            "  inflating: /content/drive/MyDrive/my_yolov8/Conbine_dataset_3_classes-1_80-20-10-str/valid/images/000229.jpg  \n",
            "  inflating: /content/drive/MyDrive/my_yolov8/Conbine_dataset_3_classes-1_80-20-10-str/valid/images/000730.jpg  \n",
            "  inflating: /content/drive/MyDrive/my_yolov8/Conbine_dataset_3_classes-1_80-20-10-str/valid/images/005688.jpg  \n",
            "  inflating: /content/drive/MyDrive/my_yolov8/Conbine_dataset_3_classes-1_80-20-10-str/valid/images/000117.jpg  \n",
            "  inflating: /content/drive/MyDrive/my_yolov8/Conbine_dataset_3_classes-1_80-20-10-str/valid/images/006456.jpg  \n",
            "  inflating: /content/drive/MyDrive/my_yolov8/Conbine_dataset_3_classes-1_80-20-10-str/valid/images/003119.jpg  \n",
            "  inflating: /content/drive/MyDrive/my_yolov8/Conbine_dataset_3_classes-1_80-20-10-str/valid/images/006159.jpg  \n",
            "  inflating: /content/drive/MyDrive/my_yolov8/Conbine_dataset_3_classes-1_80-20-10-str/valid/images/004070.jpg  \n",
            "  inflating: /content/drive/MyDrive/my_yolov8/Conbine_dataset_3_classes-1_80-20-10-str/valid/images/004715.jpg  \n",
            "  inflating: /content/drive/MyDrive/my_yolov8/Conbine_dataset_3_classes-1_80-20-10-str/valid/images/006070.jpg  \n",
            "  inflating: /content/drive/MyDrive/my_yolov8/Conbine_dataset_3_classes-1_80-20-10-str/valid/images/001462.jpg  \n",
            "  inflating: /content/drive/MyDrive/my_yolov8/Conbine_dataset_3_classes-1_80-20-10-str/valid/images/003955.jpg  \n",
            "  inflating: /content/drive/MyDrive/my_yolov8/Conbine_dataset_3_classes-1_80-20-10-str/valid/images/002183.jpg  \n",
            "  inflating: /content/drive/MyDrive/my_yolov8/Conbine_dataset_3_classes-1_80-20-10-str/valid/images/002328.jpg  \n",
            "  inflating: /content/drive/MyDrive/my_yolov8/Conbine_dataset_3_classes-1_80-20-10-str/valid/images/001810.jpg  \n",
            "  inflating: /content/drive/MyDrive/my_yolov8/Conbine_dataset_3_classes-1_80-20-10-str/valid/images/005219.jpg  \n",
            "  inflating: /content/drive/MyDrive/my_yolov8/Conbine_dataset_3_classes-1_80-20-10-str/valid/images/004576.jpg  \n",
            "  inflating: /content/drive/MyDrive/my_yolov8/Conbine_dataset_3_classes-1_80-20-10-str/valid/images/007135.jpg  \n",
            "  inflating: /content/drive/MyDrive/my_yolov8/Conbine_dataset_3_classes-1_80-20-10-str/valid/images/000310.jpg  \n",
            "  inflating: /content/drive/MyDrive/my_yolov8/Conbine_dataset_3_classes-1_80-20-10-str/valid/images/006434.jpg  \n",
            "  inflating: /content/drive/MyDrive/my_yolov8/Conbine_dataset_3_classes-1_80-20-10-str/valid/images/005825.jpg  \n",
            "  inflating: /content/drive/MyDrive/my_yolov8/Conbine_dataset_3_classes-1_80-20-10-str/valid/images/003256.jpg  \n",
            "  inflating: /content/drive/MyDrive/my_yolov8/Conbine_dataset_3_classes-1_80-20-10-str/valid/images/000116.jpg  \n",
            "  inflating: /content/drive/MyDrive/my_yolov8/Conbine_dataset_3_classes-1_80-20-10-str/valid/images/003272.jpg  \n",
            "  inflating: /content/drive/MyDrive/my_yolov8/Conbine_dataset_3_classes-1_80-20-10-str/valid/images/005049.jpg  \n",
            "  inflating: /content/drive/MyDrive/my_yolov8/Conbine_dataset_3_classes-1_80-20-10-str/valid/images/003668.jpg  \n",
            "  inflating: /content/drive/MyDrive/my_yolov8/Conbine_dataset_3_classes-1_80-20-10-str/valid/images/003464.jpg  \n",
            "  inflating: /content/drive/MyDrive/my_yolov8/Conbine_dataset_3_classes-1_80-20-10-str/valid/images/003623.jpg  \n",
            "  inflating: /content/drive/MyDrive/my_yolov8/Conbine_dataset_3_classes-1_80-20-10-str/valid/images/005473.jpg  \n",
            "  inflating: /content/drive/MyDrive/my_yolov8/Conbine_dataset_3_classes-1_80-20-10-str/valid/images/006260.jpg  \n",
            "  inflating: /content/drive/MyDrive/my_yolov8/Conbine_dataset_3_classes-1_80-20-10-str/valid/images/002790.jpg  \n",
            "  inflating: /content/drive/MyDrive/my_yolov8/Conbine_dataset_3_classes-1_80-20-10-str/valid/images/000890.jpg  \n",
            "  inflating: /content/drive/MyDrive/my_yolov8/Conbine_dataset_3_classes-1_80-20-10-str/valid/images/005990.jpg  \n",
            "  inflating: /content/drive/MyDrive/my_yolov8/Conbine_dataset_3_classes-1_80-20-10-str/valid/images/001954.jpg  \n",
            "  inflating: /content/drive/MyDrive/my_yolov8/Conbine_dataset_3_classes-1_80-20-10-str/valid/images/006969.jpg  \n",
            "  inflating: /content/drive/MyDrive/my_yolov8/Conbine_dataset_3_classes-1_80-20-10-str/valid/images/002668.jpg  \n",
            "  inflating: /content/drive/MyDrive/my_yolov8/Conbine_dataset_3_classes-1_80-20-10-str/valid/images/004205.jpg  \n",
            "  inflating: /content/drive/MyDrive/my_yolov8/Conbine_dataset_3_classes-1_80-20-10-str/valid/images/002698.jpg  \n",
            "  inflating: /content/drive/MyDrive/my_yolov8/Conbine_dataset_3_classes-1_80-20-10-str/valid/images/005963.jpg  \n",
            "  inflating: /content/drive/MyDrive/my_yolov8/Conbine_dataset_3_classes-1_80-20-10-str/valid/images/001785.jpg  \n",
            "  inflating: /content/drive/MyDrive/my_yolov8/Conbine_dataset_3_classes-1_80-20-10-str/valid/images/006034.jpg  \n",
            "  inflating: /content/drive/MyDrive/my_yolov8/Conbine_dataset_3_classes-1_80-20-10-str/valid/images/004870.jpg  \n",
            "  inflating: /content/drive/MyDrive/my_yolov8/Conbine_dataset_3_classes-1_80-20-10-str/valid/images/000151.jpg  \n",
            "  inflating: /content/drive/MyDrive/my_yolov8/Conbine_dataset_3_classes-1_80-20-10-str/valid/images/004399.jpg  \n",
            "  inflating: /content/drive/MyDrive/my_yolov8/Conbine_dataset_3_classes-1_80-20-10-str/valid/images/006005.jpg  \n",
            "  inflating: /content/drive/MyDrive/my_yolov8/Conbine_dataset_3_classes-1_80-20-10-str/valid/images/003214.jpg  \n",
            "  inflating: /content/drive/MyDrive/my_yolov8/Conbine_dataset_3_classes-1_80-20-10-str/valid/images/002980.jpg  \n",
            "  inflating: /content/drive/MyDrive/my_yolov8/Conbine_dataset_3_classes-1_80-20-10-str/valid/images/007182.jpg  \n",
            "  inflating: /content/drive/MyDrive/my_yolov8/Conbine_dataset_3_classes-1_80-20-10-str/valid/images/002295.jpg  \n",
            "  inflating: /content/drive/MyDrive/my_yolov8/Conbine_dataset_3_classes-1_80-20-10-str/valid/images/005384.jpg  \n",
            "  inflating: /content/drive/MyDrive/my_yolov8/Conbine_dataset_3_classes-1_80-20-10-str/valid/images/003810.jpg  \n",
            "  inflating: /content/drive/MyDrive/my_yolov8/Conbine_dataset_3_classes-1_80-20-10-str/valid/images/000015.jpg  \n",
            "  inflating: /content/drive/MyDrive/my_yolov8/Conbine_dataset_3_classes-1_80-20-10-str/valid/images/001424.jpg  \n",
            "  inflating: /content/drive/MyDrive/my_yolov8/Conbine_dataset_3_classes-1_80-20-10-str/valid/images/000672.jpg  \n",
            "  inflating: /content/drive/MyDrive/my_yolov8/Conbine_dataset_3_classes-1_80-20-10-str/valid/images/000247.jpg  \n",
            "  inflating: /content/drive/MyDrive/my_yolov8/Conbine_dataset_3_classes-1_80-20-10-str/valid/images/004166.jpg  \n",
            "  inflating: /content/drive/MyDrive/my_yolov8/Conbine_dataset_3_classes-1_80-20-10-str/valid/images/001084.jpg  \n",
            "  inflating: /content/drive/MyDrive/my_yolov8/Conbine_dataset_3_classes-1_80-20-10-str/valid/images/004034.jpg  \n",
            "  inflating: /content/drive/MyDrive/my_yolov8/Conbine_dataset_3_classes-1_80-20-10-str/valid/images/005520.jpg  \n",
            "  inflating: /content/drive/MyDrive/my_yolov8/Conbine_dataset_3_classes-1_80-20-10-str/valid/images/000772.jpg  \n",
            "  inflating: /content/drive/MyDrive/my_yolov8/Conbine_dataset_3_classes-1_80-20-10-str/valid/images/002674.jpg  \n",
            "  inflating: /content/drive/MyDrive/my_yolov8/Conbine_dataset_3_classes-1_80-20-10-str/valid/images/002015.jpg  \n",
            "  inflating: /content/drive/MyDrive/my_yolov8/Conbine_dataset_3_classes-1_80-20-10-str/valid/images/006721.jpg  \n",
            "  inflating: /content/drive/MyDrive/my_yolov8/Conbine_dataset_3_classes-1_80-20-10-str/valid/images/006906.jpg  \n",
            "  inflating: /content/drive/MyDrive/my_yolov8/Conbine_dataset_3_classes-1_80-20-10-str/valid/images/001456.jpg  \n",
            "  inflating: /content/drive/MyDrive/my_yolov8/Conbine_dataset_3_classes-1_80-20-10-str/valid/images/003720.jpg  \n",
            "  inflating: /content/drive/MyDrive/my_yolov8/Conbine_dataset_3_classes-1_80-20-10-str/valid/images/003965.jpg  \n",
            "  inflating: /content/drive/MyDrive/my_yolov8/Conbine_dataset_3_classes-1_80-20-10-str/valid/images/004342.jpg  \n",
            "  inflating: /content/drive/MyDrive/my_yolov8/Conbine_dataset_3_classes-1_80-20-10-str/valid/images/006839.jpg  \n",
            "  inflating: /content/drive/MyDrive/my_yolov8/Conbine_dataset_3_classes-1_80-20-10-str/valid/images/006816.jpg  \n",
            "  inflating: /content/drive/MyDrive/my_yolov8/Conbine_dataset_3_classes-1_80-20-10-str/valid/images/006890.jpg  \n",
            "  inflating: /content/drive/MyDrive/my_yolov8/Conbine_dataset_3_classes-1_80-20-10-str/valid/images/002258.jpg  \n",
            "  inflating: /content/drive/MyDrive/my_yolov8/Conbine_dataset_3_classes-1_80-20-10-str/valid/images/005742.jpg  \n",
            "  inflating: /content/drive/MyDrive/my_yolov8/Conbine_dataset_3_classes-1_80-20-10-str/valid/images/005248.jpg  \n",
            "  inflating: /content/drive/MyDrive/my_yolov8/Conbine_dataset_3_classes-1_80-20-10-str/valid/images/003750.jpg  \n",
            "  inflating: /content/drive/MyDrive/my_yolov8/Conbine_dataset_3_classes-1_80-20-10-str/valid/images/004333.jpg  \n",
            "  inflating: /content/drive/MyDrive/my_yolov8/Conbine_dataset_3_classes-1_80-20-10-str/valid/images/004557.jpg  \n",
            "  inflating: /content/drive/MyDrive/my_yolov8/Conbine_dataset_3_classes-1_80-20-10-str/valid/images/003865.jpg  \n",
            "  inflating: /content/drive/MyDrive/my_yolov8/Conbine_dataset_3_classes-1_80-20-10-str/valid/images/002595.jpg  \n",
            "  inflating: /content/drive/MyDrive/my_yolov8/Conbine_dataset_3_classes-1_80-20-10-str/valid/images/004763.jpg  \n",
            "  inflating: /content/drive/MyDrive/my_yolov8/Conbine_dataset_3_classes-1_80-20-10-str/valid/images/000221.jpg  \n",
            "  inflating: /content/drive/MyDrive/my_yolov8/Conbine_dataset_3_classes-1_80-20-10-str/valid/images/001414.jpg  \n",
            "  inflating: /content/drive/MyDrive/my_yolov8/Conbine_dataset_3_classes-1_80-20-10-str/valid/images/006430.jpg  \n",
            "  inflating: /content/drive/MyDrive/my_yolov8/Conbine_dataset_3_classes-1_80-20-10-str/valid/images/000712.jpg  \n",
            "  inflating: /content/drive/MyDrive/my_yolov8/Conbine_dataset_3_classes-1_80-20-10-str/valid/images/007118.jpg  \n",
            "  inflating: /content/drive/MyDrive/my_yolov8/Conbine_dataset_3_classes-1_80-20-10-str/valid/images/006557.jpg  \n",
            "  inflating: /content/drive/MyDrive/my_yolov8/Conbine_dataset_3_classes-1_80-20-10-str/valid/images/005720.jpg  \n",
            "  inflating: /content/drive/MyDrive/my_yolov8/Conbine_dataset_3_classes-1_80-20-10-str/valid/images/001206.jpg  \n",
            "  inflating: /content/drive/MyDrive/my_yolov8/Conbine_dataset_3_classes-1_80-20-10-str/valid/images/000704.jpg  \n",
            "  inflating: /content/drive/MyDrive/my_yolov8/Conbine_dataset_3_classes-1_80-20-10-str/valid/images/001406.jpg  \n",
            "  inflating: /content/drive/MyDrive/my_yolov8/Conbine_dataset_3_classes-1_80-20-10-str/valid/images/004771.jpg  \n",
            "  inflating: /content/drive/MyDrive/my_yolov8/Conbine_dataset_3_classes-1_80-20-10-str/valid/images/006517.jpg  \n",
            "  inflating: /content/drive/MyDrive/my_yolov8/Conbine_dataset_3_classes-1_80-20-10-str/valid/images/007127.jpg  \n",
            "  inflating: /content/drive/MyDrive/my_yolov8/Conbine_dataset_3_classes-1_80-20-10-str/valid/images/005931.jpg  \n",
            "  inflating: /content/drive/MyDrive/my_yolov8/Conbine_dataset_3_classes-1_80-20-10-str/valid/images/005585.jpg  \n",
            "  inflating: /content/drive/MyDrive/my_yolov8/Conbine_dataset_3_classes-1_80-20-10-str/valid/images/001800.jpg  \n",
            "  inflating: /content/drive/MyDrive/my_yolov8/Conbine_dataset_3_classes-1_80-20-10-str/valid/images/003801.jpg  \n",
            "  inflating: /content/drive/MyDrive/my_yolov8/Conbine_dataset_3_classes-1_80-20-10-str/valid/images/000818.jpg  \n",
            "  inflating: /content/drive/MyDrive/my_yolov8/Conbine_dataset_3_classes-1_80-20-10-str/valid/images/003649.jpg  \n",
            "  inflating: /content/drive/MyDrive/my_yolov8/Conbine_dataset_3_classes-1_80-20-10-str/valid/images/001709.jpg  \n",
            "  inflating: /content/drive/MyDrive/my_yolov8/Conbine_dataset_3_classes-1_80-20-10-str/valid/images/001685.jpg  \n",
            "  inflating: /content/drive/MyDrive/my_yolov8/Conbine_dataset_3_classes-1_80-20-10-str/valid/images/006113.jpg  \n",
            "  inflating: /content/drive/MyDrive/my_yolov8/Conbine_dataset_3_classes-1_80-20-10-str/valid/images/007105.jpg  \n",
            "  inflating: /content/drive/MyDrive/my_yolov8/Conbine_dataset_3_classes-1_80-20-10-str/valid/images/001332.jpg  \n",
            "  inflating: /content/drive/MyDrive/my_yolov8/Conbine_dataset_3_classes-1_80-20-10-str/valid/images/004983.jpg  \n",
            "  inflating: /content/drive/MyDrive/my_yolov8/Conbine_dataset_3_classes-1_80-20-10-str/valid/images/005337.jpg  \n",
            "  inflating: /content/drive/MyDrive/my_yolov8/Conbine_dataset_3_classes-1_80-20-10-str/valid/images/003735.jpg  \n",
            "  inflating: /content/drive/MyDrive/my_yolov8/Conbine_dataset_3_classes-1_80-20-10-str/valid/images/005612.jpg  \n",
            "  inflating: /content/drive/MyDrive/my_yolov8/Conbine_dataset_3_classes-1_80-20-10-str/valid/images/003666.jpg  \n",
            "  inflating: /content/drive/MyDrive/my_yolov8/Conbine_dataset_3_classes-1_80-20-10-str/valid/images/005095.jpg  \n",
            "  inflating: /content/drive/MyDrive/my_yolov8/Conbine_dataset_3_classes-1_80-20-10-str/valid/images/006108.jpg  \n",
            "  inflating: /content/drive/MyDrive/my_yolov8/Conbine_dataset_3_classes-1_80-20-10-str/valid/images/003775.jpg  \n",
            "  inflating: /content/drive/MyDrive/my_yolov8/Conbine_dataset_3_classes-1_80-20-10-str/valid/images/004133.jpg  \n",
            "  inflating: /content/drive/MyDrive/my_yolov8/Conbine_dataset_3_classes-1_80-20-10-str/valid/images/005306.jpg  \n",
            "  inflating: /content/drive/MyDrive/my_yolov8/Conbine_dataset_3_classes-1_80-20-10-str/valid/images/002132.jpg  \n",
            "  inflating: /content/drive/MyDrive/my_yolov8/Conbine_dataset_3_classes-1_80-20-10-str/valid/images/001652.jpg  \n",
            "  inflating: /content/drive/MyDrive/my_yolov8/Conbine_dataset_3_classes-1_80-20-10-str/valid/images/007012.jpg  \n",
            "  inflating: /content/drive/MyDrive/my_yolov8/Conbine_dataset_3_classes-1_80-20-10-str/valid/images/003131.jpg  \n",
            "  inflating: /content/drive/MyDrive/my_yolov8/Conbine_dataset_3_classes-1_80-20-10-str/valid/images/004680.jpg  \n",
            "  inflating: /content/drive/MyDrive/my_yolov8/Conbine_dataset_3_classes-1_80-20-10-str/valid/images/004638.jpg  \n",
            "  inflating: /content/drive/MyDrive/my_yolov8/Conbine_dataset_3_classes-1_80-20-10-str/valid/images/005650.jpg  \n",
            "  inflating: /content/drive/MyDrive/my_yolov8/Conbine_dataset_3_classes-1_80-20-10-str/valid/images/002105.jpg  \n",
            "  inflating: /content/drive/MyDrive/my_yolov8/Conbine_dataset_3_classes-1_80-20-10-str/valid/images/003147.jpg  \n",
            "  inflating: /content/drive/MyDrive/my_yolov8/Conbine_dataset_3_classes-1_80-20-10-str/valid/images/000469.jpg  \n",
            "  inflating: /content/drive/MyDrive/my_yolov8/Conbine_dataset_3_classes-1_80-20-10-str/valid/images/002669.jpg  \n",
            "  inflating: /content/drive/MyDrive/my_yolov8/Conbine_dataset_3_classes-1_80-20-10-str/valid/images/004706.jpg  \n",
            "  inflating: /content/drive/MyDrive/my_yolov8/Conbine_dataset_3_classes-1_80-20-10-str/valid/images/001675.jpg  \n",
            "  inflating: /content/drive/MyDrive/my_yolov8/Conbine_dataset_3_classes-1_80-20-10-str/valid/images/005616.jpg  \n",
            "  inflating: /content/drive/MyDrive/my_yolov8/Conbine_dataset_3_classes-1_80-20-10-str/valid/images/002043.jpg  \n",
            "  inflating: /content/drive/MyDrive/my_yolov8/Conbine_dataset_3_classes-1_80-20-10-str/valid/images/005217.jpg  \n",
            "  inflating: /content/drive/MyDrive/my_yolov8/Conbine_dataset_3_classes-1_80-20-10-str/valid/images/004353.jpg  \n",
            "  inflating: /content/drive/MyDrive/my_yolov8/Conbine_dataset_3_classes-1_80-20-10-str/valid/images/001924.jpg  \n",
            "  inflating: /content/drive/MyDrive/my_yolov8/Conbine_dataset_3_classes-1_80-20-10-str/valid/images/000118.jpg  \n",
            "  inflating: /content/drive/MyDrive/my_yolov8/Conbine_dataset_3_classes-1_80-20-10-str/valid/images/004595.jpg  \n",
            "  inflating: /content/drive/MyDrive/my_yolov8/Conbine_dataset_3_classes-1_80-20-10-str/valid/images/002008.jpg  \n",
            "  inflating: /content/drive/MyDrive/my_yolov8/Conbine_dataset_3_classes-1_80-20-10-str/valid/images/005355.jpg  \n",
            "  inflating: /content/drive/MyDrive/my_yolov8/Conbine_dataset_3_classes-1_80-20-10-str/valid/images/006201.jpg  \n",
            "  inflating: /content/drive/MyDrive/my_yolov8/Conbine_dataset_3_classes-1_80-20-10-str/valid/images/006644.jpg  \n",
            "  inflating: /content/drive/MyDrive/my_yolov8/Conbine_dataset_3_classes-1_80-20-10-str/valid/images/002341.jpg  \n",
            "  inflating: /content/drive/MyDrive/my_yolov8/Conbine_dataset_3_classes-1_80-20-10-str/valid/images/003646.jpg  \n",
            "  inflating: /content/drive/MyDrive/my_yolov8/Conbine_dataset_3_classes-1_80-20-10-str/valid/images/005265.jpg  \n",
            "  inflating: /content/drive/MyDrive/my_yolov8/Conbine_dataset_3_classes-1_80-20-10-str/valid/images/006011.jpg  \n",
            "  inflating: /content/drive/MyDrive/my_yolov8/Conbine_dataset_3_classes-1_80-20-10-str/valid/images/002286.jpg  \n",
            "  inflating: /content/drive/MyDrive/my_yolov8/Conbine_dataset_3_classes-1_80-20-10-str/valid/images/001380.jpg  \n",
            "  inflating: /content/drive/MyDrive/my_yolov8/Conbine_dataset_3_classes-1_80-20-10-str/valid/images/003599.jpg  \n",
            "  inflating: /content/drive/MyDrive/my_yolov8/Conbine_dataset_3_classes-1_80-20-10-str/valid/images/005583.jpg  \n",
            "  inflating: /content/drive/MyDrive/my_yolov8/Conbine_dataset_3_classes-1_80-20-10-str/valid/images/003257.jpg  \n",
            "  inflating: /content/drive/MyDrive/my_yolov8/Conbine_dataset_3_classes-1_80-20-10-str/valid/images/001922.jpg  \n",
            "  inflating: /content/drive/MyDrive/my_yolov8/Conbine_dataset_3_classes-1_80-20-10-str/valid/images/002770.jpg  \n",
            "  inflating: /content/drive/MyDrive/my_yolov8/Conbine_dataset_3_classes-1_80-20-10-str/valid/images/005855.jpg  \n",
            "  inflating: /content/drive/MyDrive/my_yolov8/Conbine_dataset_3_classes-1_80-20-10-str/valid/images/000780.jpg  \n",
            "  inflating: /content/drive/MyDrive/my_yolov8/Conbine_dataset_3_classes-1_80-20-10-str/valid/images/000157.jpg  \n",
            "  inflating: /content/drive/MyDrive/my_yolov8/Conbine_dataset_3_classes-1_80-20-10-str/valid/images/002160.jpg  \n",
            "  inflating: /content/drive/MyDrive/my_yolov8/Conbine_dataset_3_classes-1_80-20-10-str/valid/images/000193.jpg  \n",
            "  inflating: /content/drive/MyDrive/my_yolov8/Conbine_dataset_3_classes-1_80-20-10-str/valid/images/005141.jpg  \n",
            "  inflating: /content/drive/MyDrive/my_yolov8/Conbine_dataset_3_classes-1_80-20-10-str/valid/images/002256.jpg  \n",
            "  inflating: /content/drive/MyDrive/my_yolov8/Conbine_dataset_3_classes-1_80-20-10-str/valid/images/005096.jpg  \n",
            "  inflating: /content/drive/MyDrive/my_yolov8/Conbine_dataset_3_classes-1_80-20-10-str/valid/images/002209.jpg  \n",
            "  inflating: /content/drive/MyDrive/my_yolov8/Conbine_dataset_3_classes-1_80-20-10-str/valid/images/001397.jpg  \n",
            "  inflating: /content/drive/MyDrive/my_yolov8/Conbine_dataset_3_classes-1_80-20-10-str/valid/images/000615.jpg  \n",
            "  inflating: /content/drive/MyDrive/my_yolov8/Conbine_dataset_3_classes-1_80-20-10-str/valid/images/003535.jpg  \n",
            "  inflating: /content/drive/MyDrive/my_yolov8/Conbine_dataset_3_classes-1_80-20-10-str/valid/images/004120.jpg  \n",
            "  inflating: /content/drive/MyDrive/my_yolov8/Conbine_dataset_3_classes-1_80-20-10-str/valid/images/000621.jpg  \n",
            "  inflating: /content/drive/MyDrive/my_yolov8/Conbine_dataset_3_classes-1_80-20-10-str/valid/images/003731.jpg  \n",
            "  inflating: /content/drive/MyDrive/my_yolov8/Conbine_dataset_3_classes-1_80-20-10-str/valid/images/004204.jpg  \n",
            "  inflating: /content/drive/MyDrive/my_yolov8/Conbine_dataset_3_classes-1_80-20-10-str/valid/images/000663.jpg  \n",
            "  inflating: /content/drive/MyDrive/my_yolov8/Conbine_dataset_3_classes-1_80-20-10-str/valid/images/000835.jpg  \n",
            "  inflating: /content/drive/MyDrive/my_yolov8/Conbine_dataset_3_classes-1_80-20-10-str/valid/images/004842.jpg  \n",
            "  inflating: /content/drive/MyDrive/my_yolov8/Conbine_dataset_3_classes-1_80-20-10-str/valid/images/003501.jpg  \n",
            "  inflating: /content/drive/MyDrive/my_yolov8/Conbine_dataset_3_classes-1_80-20-10-str/valid/images/000920.jpg  \n",
            "  inflating: /content/drive/MyDrive/my_yolov8/Conbine_dataset_3_classes-1_80-20-10-str/valid/images/004597.jpg  \n",
            "  inflating: /content/drive/MyDrive/my_yolov8/Conbine_dataset_3_classes-1_80-20-10-str/valid/images/005127.jpg  \n",
            "  inflating: /content/drive/MyDrive/my_yolov8/Conbine_dataset_3_classes-1_80-20-10-str/valid/images/005276.jpg  \n",
            "  inflating: /content/drive/MyDrive/my_yolov8/Conbine_dataset_3_classes-1_80-20-10-str/valid/images/000632.jpg  \n",
            "  inflating: /content/drive/MyDrive/my_yolov8/Conbine_dataset_3_classes-1_80-20-10-str/valid/images/003607.jpg  \n",
            "  inflating: /content/drive/MyDrive/my_yolov8/Conbine_dataset_3_classes-1_80-20-10-str/valid/images/003270.jpg  \n",
            "  inflating: /content/drive/MyDrive/my_yolov8/Conbine_dataset_3_classes-1_80-20-10-str/valid/images/004331.jpg  \n",
            "  inflating: /content/drive/MyDrive/my_yolov8/Conbine_dataset_3_classes-1_80-20-10-str/valid/images/001585.jpg  \n",
            "  inflating: /content/drive/MyDrive/my_yolov8/Conbine_dataset_3_classes-1_80-20-10-str/valid/images/005982.jpg  \n",
            "  inflating: /content/drive/MyDrive/my_yolov8/Conbine_dataset_3_classes-1_80-20-10-str/valid/images/004319.jpg  \n",
            "  inflating: /content/drive/MyDrive/my_yolov8/Conbine_dataset_3_classes-1_80-20-10-str/valid/images/004371.jpg  \n",
            "  inflating: /content/drive/MyDrive/my_yolov8/Conbine_dataset_3_classes-1_80-20-10-str/valid/images/002958.jpg  \n",
            "  inflating: /content/drive/MyDrive/my_yolov8/Conbine_dataset_3_classes-1_80-20-10-str/valid/images/004270.jpg  \n",
            "  inflating: /content/drive/MyDrive/my_yolov8/Conbine_dataset_3_classes-1_80-20-10-str/valid/images/006689.jpg  \n",
            "  inflating: /content/drive/MyDrive/my_yolov8/Conbine_dataset_3_classes-1_80-20-10-str/valid/images/000627.jpg  \n",
            "  inflating: /content/drive/MyDrive/my_yolov8/Conbine_dataset_3_classes-1_80-20-10-str/valid/images/004844.jpg  \n",
            "  inflating: /content/drive/MyDrive/my_yolov8/Conbine_dataset_3_classes-1_80-20-10-str/valid/images/004860.jpg  \n",
            "  inflating: /content/drive/MyDrive/my_yolov8/Conbine_dataset_3_classes-1_80-20-10-str/valid/images/000451.jpg  \n",
            "  inflating: /content/drive/MyDrive/my_yolov8/Conbine_dataset_3_classes-1_80-20-10-str/valid/images/000109.jpg  \n",
            "  inflating: /content/drive/MyDrive/my_yolov8/Conbine_dataset_3_classes-1_80-20-10-str/valid/images/002400.jpg  \n",
            "  inflating: /content/drive/MyDrive/my_yolov8/Conbine_dataset_3_classes-1_80-20-10-str/valid/images/006345.jpg  \n",
            "  inflating: /content/drive/MyDrive/my_yolov8/Conbine_dataset_3_classes-1_80-20-10-str/valid/images/001879.jpg  \n",
            "  inflating: /content/drive/MyDrive/my_yolov8/Conbine_dataset_3_classes-1_80-20-10-str/valid/images/006427.jpg  \n",
            "  inflating: /content/drive/MyDrive/my_yolov8/Conbine_dataset_3_classes-1_80-20-10-str/valid/images/006884.jpg  \n",
            "  inflating: /content/drive/MyDrive/my_yolov8/Conbine_dataset_3_classes-1_80-20-10-str/valid/images/006536.jpg  \n",
            "  inflating: /content/drive/MyDrive/my_yolov8/Conbine_dataset_3_classes-1_80-20-10-str/valid/images/005828.jpg  \n",
            "  inflating: /content/drive/MyDrive/my_yolov8/Conbine_dataset_3_classes-1_80-20-10-str/valid/images/003760.jpg  \n",
            "  inflating: /content/drive/MyDrive/my_yolov8/Conbine_dataset_3_classes-1_80-20-10-str/valid/images/003207.jpg  \n",
            "  inflating: /content/drive/MyDrive/my_yolov8/Conbine_dataset_3_classes-1_80-20-10-str/valid/images/005793.jpg  \n",
            "  inflating: /content/drive/MyDrive/my_yolov8/Conbine_dataset_3_classes-1_80-20-10-str/valid/images/003432.jpg  \n",
            "  inflating: /content/drive/MyDrive/my_yolov8/Conbine_dataset_3_classes-1_80-20-10-str/valid/images/004821.jpg  \n",
            "  inflating: /content/drive/MyDrive/my_yolov8/Conbine_dataset_3_classes-1_80-20-10-str/valid/images/002974.jpg  \n",
            "  inflating: /content/drive/MyDrive/my_yolov8/Conbine_dataset_3_classes-1_80-20-10-str/valid/images/007164.jpg  \n",
            "  inflating: /content/drive/MyDrive/my_yolov8/Conbine_dataset_3_classes-1_80-20-10-str/valid/images/004612.jpg  \n",
            "  inflating: /content/drive/MyDrive/my_yolov8/Conbine_dataset_3_classes-1_80-20-10-str/valid/images/001868.jpg  \n",
            "  inflating: /content/drive/MyDrive/my_yolov8/Conbine_dataset_3_classes-1_80-20-10-str/valid/images/005090.jpg  \n",
            "  inflating: /content/drive/MyDrive/my_yolov8/Conbine_dataset_3_classes-1_80-20-10-str/valid/images/003986.jpg  \n",
            "  inflating: /content/drive/MyDrive/my_yolov8/Conbine_dataset_3_classes-1_80-20-10-str/valid/images/000093.jpg  \n",
            "  inflating: /content/drive/MyDrive/my_yolov8/Conbine_dataset_3_classes-1_80-20-10-str/valid/images/001423.jpg  \n",
            "  inflating: /content/drive/MyDrive/my_yolov8/Conbine_dataset_3_classes-1_80-20-10-str/valid/images/002655.jpg  \n",
            "  inflating: /content/drive/MyDrive/my_yolov8/Conbine_dataset_3_classes-1_80-20-10-str/valid/images/006359.jpg  \n",
            "  inflating: /content/drive/MyDrive/my_yolov8/Conbine_dataset_3_classes-1_80-20-10-str/valid/images/003363.jpg  \n",
            "  inflating: /content/drive/MyDrive/my_yolov8/Conbine_dataset_3_classes-1_80-20-10-str/valid/images/007113.jpg  \n",
            "  inflating: /content/drive/MyDrive/my_yolov8/Conbine_dataset_3_classes-1_80-20-10-str/valid/images/003770.jpg  \n",
            "  inflating: /content/drive/MyDrive/my_yolov8/Conbine_dataset_3_classes-1_80-20-10-str/valid/images/005083.jpg  \n",
            "  inflating: /content/drive/MyDrive/my_yolov8/Conbine_dataset_3_classes-1_80-20-10-str/valid/images/006992.jpg  \n",
            "  inflating: /content/drive/MyDrive/my_yolov8/Conbine_dataset_3_classes-1_80-20-10-str/valid/images/004854.jpg  \n",
            "  inflating: /content/drive/MyDrive/my_yolov8/Conbine_dataset_3_classes-1_80-20-10-str/valid/images/004816.jpg  \n",
            "  inflating: /content/drive/MyDrive/my_yolov8/Conbine_dataset_3_classes-1_80-20-10-str/valid/images/002832.jpg  \n",
            "  inflating: /content/drive/MyDrive/my_yolov8/Conbine_dataset_3_classes-1_80-20-10-str/valid/images/003547.jpg  \n",
            "  inflating: /content/drive/MyDrive/my_yolov8/Conbine_dataset_3_classes-1_80-20-10-str/valid/images/004499.jpg  \n",
            "  inflating: /content/drive/MyDrive/my_yolov8/Conbine_dataset_3_classes-1_80-20-10-str/valid/images/003930.jpg  \n",
            "  inflating: /content/drive/MyDrive/my_yolov8/Conbine_dataset_3_classes-1_80-20-10-str/valid/images/005460.jpg  \n",
            "  inflating: /content/drive/MyDrive/my_yolov8/Conbine_dataset_3_classes-1_80-20-10-str/valid/images/006629.jpg  \n",
            "  inflating: /content/drive/MyDrive/my_yolov8/Conbine_dataset_3_classes-1_80-20-10-str/valid/images/004952.jpg  \n",
            "  inflating: /content/drive/MyDrive/my_yolov8/Conbine_dataset_3_classes-1_80-20-10-str/valid/images/001846.jpg  \n",
            "  inflating: /content/drive/MyDrive/my_yolov8/Conbine_dataset_3_classes-1_80-20-10-str/valid/images/005560.jpg  \n",
            "  inflating: /content/drive/MyDrive/my_yolov8/Conbine_dataset_3_classes-1_80-20-10-str/valid/images/000236.jpg  \n",
            "  inflating: /content/drive/MyDrive/my_yolov8/Conbine_dataset_3_classes-1_80-20-10-str/valid/images/003319.jpg  \n",
            "  inflating: /content/drive/MyDrive/my_yolov8/Conbine_dataset_3_classes-1_80-20-10-str/valid/images/005245.jpg  \n",
            "  inflating: /content/drive/MyDrive/my_yolov8/Conbine_dataset_3_classes-1_80-20-10-str/valid/images/006074.jpg  \n",
            "  inflating: /content/drive/MyDrive/my_yolov8/Conbine_dataset_3_classes-1_80-20-10-str/valid/images/003389.jpg  \n",
            "  inflating: /content/drive/MyDrive/my_yolov8/Conbine_dataset_3_classes-1_80-20-10-str/valid/images/000317.jpg  \n",
            "  inflating: /content/drive/MyDrive/my_yolov8/Conbine_dataset_3_classes-1_80-20-10-str/valid/images/001157.jpg  \n",
            "  inflating: /content/drive/MyDrive/my_yolov8/Conbine_dataset_3_classes-1_80-20-10-str/valid/images/001013.jpg  \n",
            "  inflating: /content/drive/MyDrive/my_yolov8/Conbine_dataset_3_classes-1_80-20-10-str/valid/images/001193.jpg  \n",
            "  inflating: /content/drive/MyDrive/my_yolov8/Conbine_dataset_3_classes-1_80-20-10-str/valid/images/002677.jpg  \n",
            "  inflating: /content/drive/MyDrive/my_yolov8/Conbine_dataset_3_classes-1_80-20-10-str/valid/images/005609.jpg  \n",
            "  inflating: /content/drive/MyDrive/my_yolov8/Conbine_dataset_3_classes-1_80-20-10-str/valid/images/006018.jpg  \n",
            "  inflating: /content/drive/MyDrive/my_yolov8/Conbine_dataset_3_classes-1_80-20-10-str/valid/images/002238.jpg  \n",
            "  inflating: /content/drive/MyDrive/my_yolov8/Conbine_dataset_3_classes-1_80-20-10-str/valid/images/003576.jpg  \n",
            "  inflating: /content/drive/MyDrive/my_yolov8/Conbine_dataset_3_classes-1_80-20-10-str/valid/images/006311.jpg  \n",
            "  inflating: /content/drive/MyDrive/my_yolov8/Conbine_dataset_3_classes-1_80-20-10-str/valid/images/006458.jpg  \n",
            "  inflating: /content/drive/MyDrive/my_yolov8/Conbine_dataset_3_classes-1_80-20-10-str/valid/images/006372.jpg  \n",
            "  inflating: /content/drive/MyDrive/my_yolov8/Conbine_dataset_3_classes-1_80-20-10-str/valid/images/005501.jpg  \n",
            "  inflating: /content/drive/MyDrive/my_yolov8/Conbine_dataset_3_classes-1_80-20-10-str/valid/images/002779.jpg  \n",
            "  inflating: /content/drive/MyDrive/my_yolov8/Conbine_dataset_3_classes-1_80-20-10-str/valid/images/004805.jpg  \n",
            "  inflating: /content/drive/MyDrive/my_yolov8/Conbine_dataset_3_classes-1_80-20-10-str/valid/images/003876.jpg  \n",
            "  inflating: /content/drive/MyDrive/my_yolov8/Conbine_dataset_3_classes-1_80-20-10-str/valid/images/001898.jpg  \n",
            "  inflating: /content/drive/MyDrive/my_yolov8/Conbine_dataset_3_classes-1_80-20-10-str/valid/images/005307.jpg  \n",
            "  inflating: /content/drive/MyDrive/my_yolov8/Conbine_dataset_3_classes-1_80-20-10-str/valid/images/000181.jpg  \n",
            "  inflating: /content/drive/MyDrive/my_yolov8/Conbine_dataset_3_classes-1_80-20-10-str/valid/images/002038.jpg  \n",
            "  inflating: /content/drive/MyDrive/my_yolov8/Conbine_dataset_3_classes-1_80-20-10-str/valid/images/004004.jpg  \n",
            "  inflating: /content/drive/MyDrive/my_yolov8/Conbine_dataset_3_classes-1_80-20-10-str/valid/images/002523.jpg  \n",
            "  inflating: /content/drive/MyDrive/my_yolov8/Conbine_dataset_3_classes-1_80-20-10-str/valid/images/006780.jpg  \n",
            "  inflating: /content/drive/MyDrive/my_yolov8/Conbine_dataset_3_classes-1_80-20-10-str/valid/images/003827.jpg  \n",
            "  inflating: /content/drive/MyDrive/my_yolov8/Conbine_dataset_3_classes-1_80-20-10-str/valid/images/003238.jpg  \n",
            "  inflating: /content/drive/MyDrive/my_yolov8/Conbine_dataset_3_classes-1_80-20-10-str/valid/images/000949.jpg  \n",
            "  inflating: /content/drive/MyDrive/my_yolov8/Conbine_dataset_3_classes-1_80-20-10-str/valid/images/005065.jpg  \n",
            "  inflating: /content/drive/MyDrive/my_yolov8/Conbine_dataset_3_classes-1_80-20-10-str/valid/images/005942.jpg  \n",
            "  inflating: /content/drive/MyDrive/my_yolov8/Conbine_dataset_3_classes-1_80-20-10-str/valid/images/002866.jpg  \n",
            "  inflating: /content/drive/MyDrive/my_yolov8/Conbine_dataset_3_classes-1_80-20-10-str/valid/images/006257.jpg  \n",
            "  inflating: /content/drive/MyDrive/my_yolov8/Conbine_dataset_3_classes-1_80-20-10-str/valid/images/001433.jpg  \n",
            "  inflating: /content/drive/MyDrive/my_yolov8/Conbine_dataset_3_classes-1_80-20-10-str/valid/images/004606.jpg  \n",
            "  inflating: /content/drive/MyDrive/my_yolov8/Conbine_dataset_3_classes-1_80-20-10-str/valid/images/005209.jpg  \n",
            "  inflating: /content/drive/MyDrive/my_yolov8/Conbine_dataset_3_classes-1_80-20-10-str/valid/images/000963.jpg  \n",
            "  inflating: /content/drive/MyDrive/my_yolov8/Conbine_dataset_3_classes-1_80-20-10-str/valid/images/006310.jpg  \n",
            "  inflating: /content/drive/MyDrive/my_yolov8/Conbine_dataset_3_classes-1_80-20-10-str/valid/images/000696.jpg  \n",
            "  inflating: /content/drive/MyDrive/my_yolov8/Conbine_dataset_3_classes-1_80-20-10-str/valid/images/005376.jpg  \n",
            "  inflating: /content/drive/MyDrive/my_yolov8/Conbine_dataset_3_classes-1_80-20-10-str/valid/images/007043.jpg  \n",
            "  inflating: /content/drive/MyDrive/my_yolov8/Conbine_dataset_3_classes-1_80-20-10-str/valid/images/006079.jpg  \n",
            "  inflating: /content/drive/MyDrive/my_yolov8/Conbine_dataset_3_classes-1_80-20-10-str/valid/images/002937.jpg  \n",
            "  inflating: /content/drive/MyDrive/my_yolov8/Conbine_dataset_3_classes-1_80-20-10-str/valid/images/002353.jpg  \n",
            "  inflating: /content/drive/MyDrive/my_yolov8/Conbine_dataset_3_classes-1_80-20-10-str/valid/images/006861.jpg  \n",
            "  inflating: /content/drive/MyDrive/my_yolov8/Conbine_dataset_3_classes-1_80-20-10-str/valid/images/002594.jpg  \n",
            "  inflating: /content/drive/MyDrive/my_yolov8/Conbine_dataset_3_classes-1_80-20-10-str/valid/images/002605.jpg  \n",
            "  inflating: /content/drive/MyDrive/my_yolov8/Conbine_dataset_3_classes-1_80-20-10-str/valid/images/006997.jpg  \n",
            "  inflating: /content/drive/MyDrive/my_yolov8/Conbine_dataset_3_classes-1_80-20-10-str/valid/images/004406.jpg  \n",
            "  inflating: /content/drive/MyDrive/my_yolov8/Conbine_dataset_3_classes-1_80-20-10-str/valid/images/005152.jpg  \n",
            "  inflating: /content/drive/MyDrive/my_yolov8/Conbine_dataset_3_classes-1_80-20-10-str/valid/images/003092.jpg  \n",
            "  inflating: /content/drive/MyDrive/my_yolov8/Conbine_dataset_3_classes-1_80-20-10-str/valid/images/002915.jpg  \n",
            "  inflating: /content/drive/MyDrive/my_yolov8/Conbine_dataset_3_classes-1_80-20-10-str/valid/images/001617.jpg  \n",
            "  inflating: /content/drive/MyDrive/my_yolov8/Conbine_dataset_3_classes-1_80-20-10-str/valid/images/006793.jpg  \n",
            "  inflating: /content/drive/MyDrive/my_yolov8/Conbine_dataset_3_classes-1_80-20-10-str/valid/images/003457.jpg  \n",
            "  inflating: /content/drive/MyDrive/my_yolov8/Conbine_dataset_3_classes-1_80-20-10-str/valid/images/001542.jpg  \n",
            "  inflating: /content/drive/MyDrive/my_yolov8/Conbine_dataset_3_classes-1_80-20-10-str/valid/images/005823.jpg  \n",
            "  inflating: /content/drive/MyDrive/my_yolov8/Conbine_dataset_3_classes-1_80-20-10-str/valid/images/000031.jpg  \n",
            "  inflating: /content/drive/MyDrive/my_yolov8/Conbine_dataset_3_classes-1_80-20-10-str/valid/images/002028.jpg  \n",
            "  inflating: /content/drive/MyDrive/my_yolov8/Conbine_dataset_3_classes-1_80-20-10-str/valid/images/003422.jpg  \n",
            "  inflating: /content/drive/MyDrive/my_yolov8/Conbine_dataset_3_classes-1_80-20-10-str/valid/images/000541.jpg  \n",
            "  inflating: /content/drive/MyDrive/my_yolov8/Conbine_dataset_3_classes-1_80-20-10-str/valid/images/001780.jpg  \n",
            "  inflating: /content/drive/MyDrive/my_yolov8/Conbine_dataset_3_classes-1_80-20-10-str/valid/images/005347.jpg  \n",
            "  inflating: /content/drive/MyDrive/my_yolov8/Conbine_dataset_3_classes-1_80-20-10-str/valid/images/004207.jpg  \n",
            "  inflating: /content/drive/MyDrive/my_yolov8/Conbine_dataset_3_classes-1_80-20-10-str/valid/images/000384.jpg  \n",
            "  inflating: /content/drive/MyDrive/my_yolov8/Conbine_dataset_3_classes-1_80-20-10-str/valid/images/003181.jpg  \n",
            "  inflating: /content/drive/MyDrive/my_yolov8/Conbine_dataset_3_classes-1_80-20-10-str/valid/images/001274.jpg  \n",
            "  inflating: /content/drive/MyDrive/my_yolov8/Conbine_dataset_3_classes-1_80-20-10-str/valid/images/006638.jpg  \n",
            "  inflating: /content/drive/MyDrive/my_yolov8/Conbine_dataset_3_classes-1_80-20-10-str/valid/images/002059.jpg  \n",
            "  inflating: /content/drive/MyDrive/my_yolov8/Conbine_dataset_3_classes-1_80-20-10-str/valid/images/002410.jpg  \n",
            "  inflating: /content/drive/MyDrive/my_yolov8/Conbine_dataset_3_classes-1_80-20-10-str/valid/images/003678.jpg  \n",
            "  inflating: /content/drive/MyDrive/my_yolov8/Conbine_dataset_3_classes-1_80-20-10-str/valid/images/007202.jpg  \n",
            "  inflating: /content/drive/MyDrive/my_yolov8/Conbine_dataset_3_classes-1_80-20-10-str/valid/images/004784.jpg  \n",
            "  inflating: /content/drive/MyDrive/my_yolov8/Conbine_dataset_3_classes-1_80-20-10-str/valid/images/002501.jpg  \n",
            "  inflating: /content/drive/MyDrive/my_yolov8/Conbine_dataset_3_classes-1_80-20-10-str/valid/images/001777.jpg  \n",
            "  inflating: /content/drive/MyDrive/my_yolov8/Conbine_dataset_3_classes-1_80-20-10-str/valid/images/004394.jpg  \n",
            "  inflating: /content/drive/MyDrive/my_yolov8/Conbine_dataset_3_classes-1_80-20-10-str/valid/images/003316.jpg  \n",
            "  inflating: /content/drive/MyDrive/my_yolov8/Conbine_dataset_3_classes-1_80-20-10-str/valid/images/005062.jpg  \n",
            "  inflating: /content/drive/MyDrive/my_yolov8/Conbine_dataset_3_classes-1_80-20-10-str/valid/images/003396.jpg  \n",
            "  inflating: /content/drive/MyDrive/my_yolov8/Conbine_dataset_3_classes-1_80-20-10-str/valid/images/001930.jpg  \n",
            "  inflating: /content/drive/MyDrive/my_yolov8/Conbine_dataset_3_classes-1_80-20-10-str/valid/images/002491.jpg  \n",
            "  inflating: /content/drive/MyDrive/my_yolov8/Conbine_dataset_3_classes-1_80-20-10-str/valid/images/006868.jpg  \n",
            "  inflating: /content/drive/MyDrive/my_yolov8/Conbine_dataset_3_classes-1_80-20-10-str/valid/images/000145.jpg  \n",
            "  inflating: /content/drive/MyDrive/my_yolov8/Conbine_dataset_3_classes-1_80-20-10-str/valid/images/000270.jpg  \n",
            "  inflating: /content/drive/MyDrive/my_yolov8/Conbine_dataset_3_classes-1_80-20-10-str/valid/images/001277.jpg  \n",
            "  inflating: /content/drive/MyDrive/my_yolov8/Conbine_dataset_3_classes-1_80-20-10-str/valid/images/004982.jpg  \n",
            "  inflating: /content/drive/MyDrive/my_yolov8/Conbine_dataset_3_classes-1_80-20-10-str/valid/images/006337.jpg  \n",
            "  inflating: /content/drive/MyDrive/my_yolov8/Conbine_dataset_3_classes-1_80-20-10-str/valid/images/002366.jpg  \n",
            "  inflating: /content/drive/MyDrive/my_yolov8/Conbine_dataset_3_classes-1_80-20-10-str/valid/images/004827.jpg  \n",
            "  inflating: /content/drive/MyDrive/my_yolov8/Conbine_dataset_3_classes-1_80-20-10-str/valid/images/007074.jpg  \n",
            "  inflating: /content/drive/MyDrive/my_yolov8/Conbine_dataset_3_classes-1_80-20-10-str/valid/images/005598.jpg  \n",
            "  inflating: /content/drive/MyDrive/my_yolov8/Conbine_dataset_3_classes-1_80-20-10-str/valid/images/006007.jpg  \n",
            "  inflating: /content/drive/MyDrive/my_yolov8/Conbine_dataset_3_classes-1_80-20-10-str/valid/images/003809.jpg  \n",
            "  inflating: /content/drive/MyDrive/my_yolov8/Conbine_dataset_3_classes-1_80-20-10-str/valid/images/000251.jpg  \n",
            "  inflating: /content/drive/MyDrive/my_yolov8/Conbine_dataset_3_classes-1_80-20-10-str/valid/images/003360.jpg  \n",
            "  inflating: /content/drive/MyDrive/my_yolov8/Conbine_dataset_3_classes-1_80-20-10-str/valid/images/006871.jpg  \n",
            "  inflating: /content/drive/MyDrive/my_yolov8/Conbine_dataset_3_classes-1_80-20-10-str/valid/images/004919.jpg  \n",
            "  inflating: /content/drive/MyDrive/my_yolov8/Conbine_dataset_3_classes-1_80-20-10-str/valid/images/002944.jpg  \n",
            "  inflating: /content/drive/MyDrive/my_yolov8/Conbine_dataset_3_classes-1_80-20-10-str/valid/images/004927.jpg  \n",
            "  inflating: /content/drive/MyDrive/my_yolov8/Conbine_dataset_3_classes-1_80-20-10-str/valid/images/000408.jpg  \n",
            "  inflating: /content/drive/MyDrive/my_yolov8/Conbine_dataset_3_classes-1_80-20-10-str/valid/images/002697.jpg  \n",
            "  inflating: /content/drive/MyDrive/my_yolov8/Conbine_dataset_3_classes-1_80-20-10-str/valid/images/004918.jpg  \n",
            "  inflating: /content/drive/MyDrive/my_yolov8/Conbine_dataset_3_classes-1_80-20-10-str/valid/images/006060.jpg  \n",
            "  inflating: /content/drive/MyDrive/my_yolov8/Conbine_dataset_3_classes-1_80-20-10-str/valid/images/004602.jpg  \n",
            "  inflating: /content/drive/MyDrive/my_yolov8/Conbine_dataset_3_classes-1_80-20-10-str/valid/images/004106.jpg  \n",
            "  inflating: /content/drive/MyDrive/my_yolov8/Conbine_dataset_3_classes-1_80-20-10-str/valid/images/002071.jpg  \n",
            "  inflating: /content/drive/MyDrive/my_yolov8/Conbine_dataset_3_classes-1_80-20-10-str/valid/images/005919.jpg  \n",
            "  inflating: /content/drive/MyDrive/my_yolov8/Conbine_dataset_3_classes-1_80-20-10-str/valid/images/001945.jpg  \n",
            "  inflating: /content/drive/MyDrive/my_yolov8/Conbine_dataset_3_classes-1_80-20-10-str/valid/images/000301.jpg  \n",
            "  inflating: /content/drive/MyDrive/my_yolov8/Conbine_dataset_3_classes-1_80-20-10-str/valid/images/004323.jpg  \n",
            "  inflating: /content/drive/MyDrive/my_yolov8/Conbine_dataset_3_classes-1_80-20-10-str/valid/images/004362.jpg  \n",
            "  inflating: /content/drive/MyDrive/my_yolov8/Conbine_dataset_3_classes-1_80-20-10-str/valid/images/000900.jpg  \n",
            "  inflating: /content/drive/MyDrive/my_yolov8/Conbine_dataset_3_classes-1_80-20-10-str/valid/images/004206.jpg  \n",
            "  inflating: /content/drive/MyDrive/my_yolov8/Conbine_dataset_3_classes-1_80-20-10-str/valid/images/004397.jpg  \n",
            "  inflating: /content/drive/MyDrive/my_yolov8/Conbine_dataset_3_classes-1_80-20-10-str/valid/images/000209.jpg  \n",
            "  inflating: /content/drive/MyDrive/my_yolov8/Conbine_dataset_3_classes-1_80-20-10-str/valid/images/001772.jpg  \n",
            "  inflating: /content/drive/MyDrive/my_yolov8/Conbine_dataset_3_classes-1_80-20-10-str/valid/images/007208.jpg  \n",
            "  inflating: /content/drive/MyDrive/my_yolov8/Conbine_dataset_3_classes-1_80-20-10-str/valid/images/000899.jpg  \n",
            "  inflating: /content/drive/MyDrive/my_yolov8/Conbine_dataset_3_classes-1_80-20-10-str/valid/images/003751.jpg  \n",
            "  inflating: /content/drive/MyDrive/my_yolov8/Conbine_dataset_3_classes-1_80-20-10-str/valid/images/004615.jpg  \n",
            "  inflating: /content/drive/MyDrive/my_yolov8/Conbine_dataset_3_classes-1_80-20-10-str/valid/images/003301.jpg  \n",
            "  inflating: /content/drive/MyDrive/my_yolov8/Conbine_dataset_3_classes-1_80-20-10-str/valid/images/005770.jpg  \n",
            "  inflating: /content/drive/MyDrive/my_yolov8/Conbine_dataset_3_classes-1_80-20-10-str/valid/images/002588.jpg  \n",
            "  inflating: /content/drive/MyDrive/my_yolov8/Conbine_dataset_3_classes-1_80-20-10-str/valid/images/005229.jpg  \n",
            "  inflating: /content/drive/MyDrive/my_yolov8/Conbine_dataset_3_classes-1_80-20-10-str/valid/images/002483.jpg  \n",
            "  inflating: /content/drive/MyDrive/my_yolov8/Conbine_dataset_3_classes-1_80-20-10-str/valid/images/002741.jpg  \n",
            "  inflating: /content/drive/MyDrive/my_yolov8/Conbine_dataset_3_classes-1_80-20-10-str/valid/images/000716.jpg  \n",
            "  inflating: /content/drive/MyDrive/my_yolov8/Conbine_dataset_3_classes-1_80-20-10-str/valid/images/000272.jpg  \n",
            "  inflating: /content/drive/MyDrive/my_yolov8/Conbine_dataset_3_classes-1_80-20-10-str/valid/images/001282.jpg  \n",
            "  inflating: /content/drive/MyDrive/my_yolov8/Conbine_dataset_3_classes-1_80-20-10-str/valid/images/004432.jpg  \n",
            "  inflating: /content/drive/MyDrive/my_yolov8/Conbine_dataset_3_classes-1_80-20-10-str/valid/images/006917.jpg  \n",
            "  inflating: /content/drive/MyDrive/my_yolov8/Conbine_dataset_3_classes-1_80-20-10-str/valid/images/001235.jpg  \n",
            "  inflating: /content/drive/MyDrive/my_yolov8/Conbine_dataset_3_classes-1_80-20-10-str/valid/images/006833.jpg  \n",
            "  inflating: /content/drive/MyDrive/my_yolov8/Conbine_dataset_3_classes-1_80-20-10-str/valid/images/002006.jpg  \n",
            "  inflating: /content/drive/MyDrive/my_yolov8/Conbine_dataset_3_classes-1_80-20-10-str/valid/images/001629.jpg  \n",
            "  inflating: /content/drive/MyDrive/my_yolov8/Conbine_dataset_3_classes-1_80-20-10-str/valid/images/001291.jpg  \n",
            "  inflating: /content/drive/MyDrive/my_yolov8/Conbine_dataset_3_classes-1_80-20-10-str/valid/images/002074.jpg  \n",
            "  inflating: /content/drive/MyDrive/my_yolov8/Conbine_dataset_3_classes-1_80-20-10-str/valid/images/006410.jpg  \n",
            "  inflating: /content/drive/MyDrive/my_yolov8/Conbine_dataset_3_classes-1_80-20-10-str/valid/images/001648.jpg  \n",
            "  inflating: /content/drive/MyDrive/my_yolov8/Conbine_dataset_3_classes-1_80-20-10-str/valid/images/003667.jpg  \n",
            "  inflating: /content/drive/MyDrive/my_yolov8/Conbine_dataset_3_classes-1_80-20-10-str/valid/images/002283.jpg  \n",
            "  inflating: /content/drive/MyDrive/my_yolov8/Conbine_dataset_3_classes-1_80-20-10-str/valid/images/006025.jpg  \n",
            "  inflating: /content/drive/MyDrive/my_yolov8/Conbine_dataset_3_classes-1_80-20-10-str/valid/images/001698.jpg  \n",
            "  inflating: /content/drive/MyDrive/my_yolov8/Conbine_dataset_3_classes-1_80-20-10-str/valid/images/000424.jpg  \n",
            "  inflating: /content/drive/MyDrive/my_yolov8/Conbine_dataset_3_classes-1_80-20-10-str/valid/images/000739.jpg  \n",
            "  inflating: /content/drive/MyDrive/my_yolov8/Conbine_dataset_3_classes-1_80-20-10-str/valid/images/004118.jpg  \n",
            "  inflating: /content/drive/MyDrive/my_yolov8/Conbine_dataset_3_classes-1_80-20-10-str/valid/images/003330.jpg  \n",
            "  inflating: /content/drive/MyDrive/my_yolov8/Conbine_dataset_3_classes-1_80-20-10-str/valid/images/002290.jpg  \n",
            "  inflating: /content/drive/MyDrive/my_yolov8/Conbine_dataset_3_classes-1_80-20-10-str/valid/images/002841.jpg  \n",
            "  inflating: /content/drive/MyDrive/my_yolov8/Conbine_dataset_3_classes-1_80-20-10-str/valid/images/004839.jpg  \n",
            "  inflating: /content/drive/MyDrive/my_yolov8/Conbine_dataset_3_classes-1_80-20-10-str/valid/images/006092.jpg  \n",
            "  inflating: /content/drive/MyDrive/my_yolov8/Conbine_dataset_3_classes-1_80-20-10-str/valid/images/001205.jpg  \n",
            "  inflating: /content/drive/MyDrive/my_yolov8/Conbine_dataset_3_classes-1_80-20-10-str/valid/images/002721.jpg  \n",
            "  inflating: /content/drive/MyDrive/my_yolov8/Conbine_dataset_3_classes-1_80-20-10-str/valid/images/003415.jpg  \n",
            "  inflating: /content/drive/MyDrive/my_yolov8/Conbine_dataset_3_classes-1_80-20-10-str/valid/images/003431.jpg  \n",
            "  inflating: /content/drive/MyDrive/my_yolov8/Conbine_dataset_3_classes-1_80-20-10-str/valid/images/002916.jpg  \n",
            "  inflating: /content/drive/MyDrive/my_yolov8/Conbine_dataset_3_classes-1_80-20-10-str/valid/images/002719.jpg  \n",
            "  inflating: /content/drive/MyDrive/my_yolov8/Conbine_dataset_3_classes-1_80-20-10-str/valid/images/002180.jpg  \n",
            "  inflating: /content/drive/MyDrive/my_yolov8/Conbine_dataset_3_classes-1_80-20-10-str/valid/images/005869.jpg  \n",
            "  inflating: /content/drive/MyDrive/my_yolov8/Conbine_dataset_3_classes-1_80-20-10-str/valid/images/001030.jpg  \n",
            "  inflating: /content/drive/MyDrive/my_yolov8/Conbine_dataset_3_classes-1_80-20-10-str/valid/images/004341.jpg  \n",
            "  inflating: /content/drive/MyDrive/my_yolov8/Conbine_dataset_3_classes-1_80-20-10-str/valid/images/001942.jpg  \n",
            "  inflating: /content/drive/MyDrive/my_yolov8/Conbine_dataset_3_classes-1_80-20-10-str/valid/images/002177.jpg  \n",
            "  inflating: /content/drive/MyDrive/my_yolov8/Conbine_dataset_3_classes-1_80-20-10-str/valid/images/002351.jpg  \n",
            "  inflating: /content/drive/MyDrive/my_yolov8/Conbine_dataset_3_classes-1_80-20-10-str/valid/images/000143.jpg  \n",
            "  inflating: /content/drive/MyDrive/my_yolov8/Conbine_dataset_3_classes-1_80-20-10-str/valid/images/000220.jpg  \n",
            "  inflating: /content/drive/MyDrive/my_yolov8/Conbine_dataset_3_classes-1_80-20-10-str/valid/images/003553.jpg  \n",
            "  inflating: /content/drive/MyDrive/my_yolov8/Conbine_dataset_3_classes-1_80-20-10-str/valid/images/003225.jpg  \n",
            "  inflating: /content/drive/MyDrive/my_yolov8/Conbine_dataset_3_classes-1_80-20-10-str/valid/images/006693.jpg  \n",
            "  inflating: /content/drive/MyDrive/my_yolov8/Conbine_dataset_3_classes-1_80-20-10-str/valid/images/006081.jpg  \n",
            "  inflating: /content/drive/MyDrive/my_yolov8/Conbine_dataset_3_classes-1_80-20-10-str/valid/images/002619.jpg  \n",
            "  inflating: /content/drive/MyDrive/my_yolov8/Conbine_dataset_3_classes-1_80-20-10-str/valid/images/005315.jpg  \n",
            "  inflating: /content/drive/MyDrive/my_yolov8/Conbine_dataset_3_classes-1_80-20-10-str/valid/images/001956.jpg  \n",
            "  inflating: /content/drive/MyDrive/my_yolov8/Conbine_dataset_3_classes-1_80-20-10-str/valid/images/002452.jpg  \n",
            "  inflating: /content/drive/MyDrive/my_yolov8/Conbine_dataset_3_classes-1_80-20-10-str/valid/images/006071.jpg  \n",
            "  inflating: /content/drive/MyDrive/my_yolov8/Conbine_dataset_3_classes-1_80-20-10-str/valid/images/007252.jpg  \n",
            "  inflating: /content/drive/MyDrive/my_yolov8/Conbine_dataset_3_classes-1_80-20-10-str/valid/images/000725.jpg  \n",
            "  inflating: /content/drive/MyDrive/my_yolov8/Conbine_dataset_3_classes-1_80-20-10-str/valid/images/002385.jpg  \n",
            "  inflating: /content/drive/MyDrive/my_yolov8/Conbine_dataset_3_classes-1_80-20-10-str/valid/images/001325.jpg  \n",
            "  inflating: /content/drive/MyDrive/my_yolov8/Conbine_dataset_3_classes-1_80-20-10-str/valid/images/004508.jpg  \n",
            "  inflating: /content/drive/MyDrive/my_yolov8/Conbine_dataset_3_classes-1_80-20-10-str/valid/images/000509.jpg  \n",
            "  inflating: /content/drive/MyDrive/my_yolov8/Conbine_dataset_3_classes-1_80-20-10-str/valid/images/004762.jpg  \n",
            "  inflating: /content/drive/MyDrive/my_yolov8/Conbine_dataset_3_classes-1_80-20-10-str/valid/images/001086.jpg  \n",
            "  inflating: /content/drive/MyDrive/my_yolov8/Conbine_dataset_3_classes-1_80-20-10-str/valid/images/003688.jpg  \n",
            "  inflating: /content/drive/MyDrive/my_yolov8/Conbine_dataset_3_classes-1_80-20-10-str/valid/images/002872.jpg  \n",
            "  inflating: /content/drive/MyDrive/my_yolov8/Conbine_dataset_3_classes-1_80-20-10-str/valid/images/004813.jpg  \n",
            "  inflating: /content/drive/MyDrive/my_yolov8/Conbine_dataset_3_classes-1_80-20-10-str/valid/images/001506.jpg  \n",
            "  inflating: /content/drive/MyDrive/my_yolov8/Conbine_dataset_3_classes-1_80-20-10-str/valid/images/006483.jpg  \n",
            "  inflating: /content/drive/MyDrive/my_yolov8/Conbine_dataset_3_classes-1_80-20-10-str/valid/images/002193.jpg  \n",
            "  inflating: /content/drive/MyDrive/my_yolov8/Conbine_dataset_3_classes-1_80-20-10-str/valid/images/005135.jpg  \n",
            "  inflating: /content/drive/MyDrive/my_yolov8/Conbine_dataset_3_classes-1_80-20-10-str/valid/images/005492.jpg  \n",
            "  inflating: /content/drive/MyDrive/my_yolov8/Conbine_dataset_3_classes-1_80-20-10-str/valid/images/001763.jpg  \n",
            "  inflating: /content/drive/MyDrive/my_yolov8/Conbine_dataset_3_classes-1_80-20-10-str/valid/images/003568.jpg  \n",
            "  inflating: /content/drive/MyDrive/my_yolov8/Conbine_dataset_3_classes-1_80-20-10-str/valid/images/005957.jpg  \n",
            "  inflating: /content/drive/MyDrive/my_yolov8/Conbine_dataset_3_classes-1_80-20-10-str/valid/images/000842.jpg  \n",
            "  inflating: /content/drive/MyDrive/my_yolov8/Conbine_dataset_3_classes-1_80-20-10-str/valid/images/001409.jpg  \n",
            "  inflating: /content/drive/MyDrive/my_yolov8/Conbine_dataset_3_classes-1_80-20-10-str/valid/images/000633.jpg  \n",
            "  inflating: /content/drive/MyDrive/my_yolov8/Conbine_dataset_3_classes-1_80-20-10-str/valid/images/006481.jpg  \n",
            "  inflating: /content/drive/MyDrive/my_yolov8/Conbine_dataset_3_classes-1_80-20-10-str/valid/images/006223.jpg  \n",
            "  inflating: /content/drive/MyDrive/my_yolov8/Conbine_dataset_3_classes-1_80-20-10-str/valid/images/006927.jpg  \n",
            "  inflating: /content/drive/MyDrive/my_yolov8/Conbine_dataset_3_classes-1_80-20-10-str/valid/images/006275.jpg  \n",
            "  inflating: /content/drive/MyDrive/my_yolov8/Conbine_dataset_3_classes-1_80-20-10-str/valid/images/000240.jpg  \n",
            "  inflating: /content/drive/MyDrive/my_yolov8/Conbine_dataset_3_classes-1_80-20-10-str/valid/images/001258.jpg  \n",
            "  inflating: /content/drive/MyDrive/my_yolov8/Conbine_dataset_3_classes-1_80-20-10-str/valid/images/002129.jpg  \n",
            "  inflating: /content/drive/MyDrive/my_yolov8/Conbine_dataset_3_classes-1_80-20-10-str/valid/images/004564.jpg  \n",
            "  inflating: /content/drive/MyDrive/my_yolov8/Conbine_dataset_3_classes-1_80-20-10-str/valid/images/004429.jpg  \n",
            "  inflating: /content/drive/MyDrive/my_yolov8/Conbine_dataset_3_classes-1_80-20-10-str/valid/images/004629.jpg  \n",
            "  inflating: /content/drive/MyDrive/my_yolov8/Conbine_dataset_3_classes-1_80-20-10-str/valid/images/000195.jpg  \n",
            "  inflating: /content/drive/MyDrive/my_yolov8/Conbine_dataset_3_classes-1_80-20-10-str/valid/images/002124.jpg  \n",
            "  inflating: /content/drive/MyDrive/my_yolov8/Conbine_dataset_3_classes-1_80-20-10-str/valid/images/006335.jpg  \n",
            "  inflating: /content/drive/MyDrive/my_yolov8/Conbine_dataset_3_classes-1_80-20-10-str/valid/images/006417.jpg  \n",
            "  inflating: /content/drive/MyDrive/my_yolov8/Conbine_dataset_3_classes-1_80-20-10-str/valid/images/002988.jpg  \n",
            "  inflating: /content/drive/MyDrive/my_yolov8/Conbine_dataset_3_classes-1_80-20-10-str/valid/images/002034.jpg  \n",
            "  inflating: /content/drive/MyDrive/my_yolov8/Conbine_dataset_3_classes-1_80-20-10-str/valid/images/003258.jpg  \n",
            "  inflating: /content/drive/MyDrive/my_yolov8/Conbine_dataset_3_classes-1_80-20-10-str/valid/images/006870.jpg  \n",
            "  inflating: /content/drive/MyDrive/my_yolov8/Conbine_dataset_3_classes-1_80-20-10-str/valid/images/005800.jpg  \n",
            "  inflating: /content/drive/MyDrive/my_yolov8/Conbine_dataset_3_classes-1_80-20-10-str/valid/images/001556.jpg  \n",
            "  inflating: /content/drive/MyDrive/my_yolov8/Conbine_dataset_3_classes-1_80-20-10-str/valid/images/003544.jpg  \n",
            "  inflating: /content/drive/MyDrive/my_yolov8/Conbine_dataset_3_classes-1_80-20-10-str/valid/images/003879.jpg  \n",
            "  inflating: /content/drive/MyDrive/my_yolov8/Conbine_dataset_3_classes-1_80-20-10-str/valid/images/005312.jpg  \n",
            "  inflating: /content/drive/MyDrive/my_yolov8/Conbine_dataset_3_classes-1_80-20-10-str/valid/images/006860.jpg  \n",
            "  inflating: /content/drive/MyDrive/my_yolov8/Conbine_dataset_3_classes-1_80-20-10-str/valid/images/000998.jpg  \n",
            "  inflating: /content/drive/MyDrive/my_yolov8/Conbine_dataset_3_classes-1_80-20-10-str/valid/images/006952.jpg  \n",
            "  inflating: /content/drive/MyDrive/my_yolov8/Conbine_dataset_3_classes-1_80-20-10-str/valid/images/001797.jpg  \n",
            "  inflating: /content/drive/MyDrive/my_yolov8/Conbine_dataset_3_classes-1_80-20-10-str/valid/images/004423.jpg  \n",
            "  inflating: /content/drive/MyDrive/my_yolov8/Conbine_dataset_3_classes-1_80-20-10-str/valid/images/002577.jpg  \n",
            "  inflating: /content/drive/MyDrive/my_yolov8/Conbine_dataset_3_classes-1_80-20-10-str/valid/images/001931.jpg  \n",
            "  inflating: /content/drive/MyDrive/my_yolov8/Conbine_dataset_3_classes-1_80-20-10-str/valid/images/005886.jpg  \n",
            "  inflating: /content/drive/MyDrive/my_yolov8/Conbine_dataset_3_classes-1_80-20-10-str/valid/images/003100.jpg  \n",
            "  inflating: /content/drive/MyDrive/my_yolov8/Conbine_dataset_3_classes-1_80-20-10-str/valid/images/002363.jpg  \n",
            "  inflating: /content/drive/MyDrive/my_yolov8/Conbine_dataset_3_classes-1_80-20-10-str/valid/images/000603.jpg  \n",
            "  inflating: /content/drive/MyDrive/my_yolov8/Conbine_dataset_3_classes-1_80-20-10-str/valid/images/004336.jpg  \n",
            "  inflating: /content/drive/MyDrive/my_yolov8/Conbine_dataset_3_classes-1_80-20-10-str/valid/images/004380.jpg  \n",
            "  inflating: /content/drive/MyDrive/my_yolov8/Conbine_dataset_3_classes-1_80-20-10-str/valid/images/007207.jpg  \n",
            "  inflating: /content/drive/MyDrive/my_yolov8/Conbine_dataset_3_classes-1_80-20-10-str/valid/images/003080.jpg  \n",
            "  inflating: /content/drive/MyDrive/my_yolov8/Conbine_dataset_3_classes-1_80-20-10-str/valid/images/003655.jpg  \n",
            "  inflating: /content/drive/MyDrive/my_yolov8/Conbine_dataset_3_classes-1_80-20-10-str/valid/images/001428.jpg  \n",
            "  inflating: /content/drive/MyDrive/my_yolov8/Conbine_dataset_3_classes-1_80-20-10-str/valid/images/000723.jpg  \n",
            "  inflating: /content/drive/MyDrive/my_yolov8/Conbine_dataset_3_classes-1_80-20-10-str/valid/images/002047.jpg  \n",
            "  inflating: /content/drive/MyDrive/my_yolov8/Conbine_dataset_3_classes-1_80-20-10-str/valid/images/002997.jpg  \n",
            "  inflating: /content/drive/MyDrive/my_yolov8/Conbine_dataset_3_classes-1_80-20-10-str/valid/images/004409.jpg  \n",
            "  inflating: /content/drive/MyDrive/my_yolov8/Conbine_dataset_3_classes-1_80-20-10-str/valid/images/004956.jpg  \n",
            "  inflating: /content/drive/MyDrive/my_yolov8/Conbine_dataset_3_classes-1_80-20-10-str/valid/images/003657.jpg  \n",
            "  inflating: /content/drive/MyDrive/my_yolov8/Conbine_dataset_3_classes-1_80-20-10-str/valid/images/002534.jpg  \n",
            "  inflating: /content/drive/MyDrive/my_yolov8/Conbine_dataset_3_classes-1_80-20-10-str/valid/images/000694.jpg  \n",
            "  inflating: /content/drive/MyDrive/my_yolov8/Conbine_dataset_3_classes-1_80-20-10-str/valid/images/001950.jpg  \n",
            "  inflating: /content/drive/MyDrive/my_yolov8/Conbine_dataset_3_classes-1_80-20-10-str/valid/images/001066.jpg  \n",
            "  inflating: /content/drive/MyDrive/my_yolov8/Conbine_dataset_3_classes-1_80-20-10-str/valid/images/006677.jpg  \n",
            "  inflating: /content/drive/MyDrive/my_yolov8/Conbine_dataset_3_classes-1_80-20-10-str/valid/images/004798.jpg  \n",
            "  inflating: /content/drive/MyDrive/my_yolov8/Conbine_dataset_3_classes-1_80-20-10-str/valid/images/004396.jpg  \n",
            "  inflating: /content/drive/MyDrive/my_yolov8/Conbine_dataset_3_classes-1_80-20-10-str/valid/images/002682.jpg  \n",
            "  inflating: /content/drive/MyDrive/my_yolov8/Conbine_dataset_3_classes-1_80-20-10-str/valid/images/003665.jpg  \n",
            "  inflating: /content/drive/MyDrive/my_yolov8/Conbine_dataset_3_classes-1_80-20-10-str/valid/images/001254.jpg  \n",
            "  inflating: /content/drive/MyDrive/my_yolov8/Conbine_dataset_3_classes-1_80-20-10-str/valid/images/005236.jpg  \n",
            "  inflating: /content/drive/MyDrive/my_yolov8/Conbine_dataset_3_classes-1_80-20-10-str/valid/images/002142.jpg  \n",
            "  inflating: /content/drive/MyDrive/my_yolov8/Conbine_dataset_3_classes-1_80-20-10-str/valid/images/001714.jpg  \n",
            "  inflating: /content/drive/MyDrive/my_yolov8/Conbine_dataset_3_classes-1_80-20-10-str/valid/images/001116.jpg  \n",
            "  inflating: /content/drive/MyDrive/my_yolov8/Conbine_dataset_3_classes-1_80-20-10-str/valid/images/005951.jpg  \n",
            "  inflating: /content/drive/MyDrive/my_yolov8/Conbine_dataset_3_classes-1_80-20-10-str/valid/images/004246.jpg  \n",
            "  inflating: /content/drive/MyDrive/my_yolov8/Conbine_dataset_3_classes-1_80-20-10-str/valid/images/007167.jpg  \n",
            "  inflating: /content/drive/MyDrive/my_yolov8/Conbine_dataset_3_classes-1_80-20-10-str/valid/images/006397.jpg  \n",
            "  inflating: /content/drive/MyDrive/my_yolov8/Conbine_dataset_3_classes-1_80-20-10-str/valid/images/001622.jpg  \n",
            "  inflating: /content/drive/MyDrive/my_yolov8/Conbine_dataset_3_classes-1_80-20-10-str/valid/images/006286.jpg  \n",
            "  inflating: /content/drive/MyDrive/my_yolov8/Conbine_dataset_3_classes-1_80-20-10-str/valid/images/003822.jpg  \n",
            "  inflating: /content/drive/MyDrive/my_yolov8/Conbine_dataset_3_classes-1_80-20-10-str/valid/images/005509.jpg  \n",
            "  inflating: /content/drive/MyDrive/my_yolov8/Conbine_dataset_3_classes-1_80-20-10-str/valid/images/007180.jpg  \n",
            "  inflating: /content/drive/MyDrive/my_yolov8/Conbine_dataset_3_classes-1_80-20-10-str/valid/images/002428.jpg  \n",
            "  inflating: /content/drive/MyDrive/my_yolov8/Conbine_dataset_3_classes-1_80-20-10-str/valid/images/005144.jpg  \n",
            "  inflating: /content/drive/MyDrive/my_yolov8/Conbine_dataset_3_classes-1_80-20-10-str/valid/images/001402.jpg  \n",
            "  inflating: /content/drive/MyDrive/my_yolov8/Conbine_dataset_3_classes-1_80-20-10-str/valid/images/006773.jpg  \n",
            "  inflating: /content/drive/MyDrive/my_yolov8/Conbine_dataset_3_classes-1_80-20-10-str/valid/images/004080.jpg  \n",
            "  inflating: /content/drive/MyDrive/my_yolov8/Conbine_dataset_3_classes-1_80-20-10-str/valid/images/006827.jpg  \n",
            "  inflating: /content/drive/MyDrive/my_yolov8/Conbine_dataset_3_classes-1_80-20-10-str/valid/images/000875.jpg  \n",
            "  inflating: /content/drive/MyDrive/my_yolov8/Conbine_dataset_3_classes-1_80-20-10-str/valid/images/004519.jpg  \n",
            "  inflating: /content/drive/MyDrive/my_yolov8/Conbine_dataset_3_classes-1_80-20-10-str/valid/images/002448.jpg  \n",
            "  inflating: /content/drive/MyDrive/my_yolov8/Conbine_dataset_3_classes-1_80-20-10-str/valid/images/003293.jpg  \n",
            "  inflating: /content/drive/MyDrive/my_yolov8/Conbine_dataset_3_classes-1_80-20-10-str/valid/images/005351.jpg  \n",
            "  inflating: /content/drive/MyDrive/my_yolov8/Conbine_dataset_3_classes-1_80-20-10-str/valid/images/005750.jpg  \n",
            "  inflating: /content/drive/MyDrive/my_yolov8/Conbine_dataset_3_classes-1_80-20-10-str/valid/images/006977.jpg  \n",
            "  inflating: /content/drive/MyDrive/my_yolov8/Conbine_dataset_3_classes-1_80-20-10-str/valid/images/003808.jpg  \n",
            "  inflating: /content/drive/MyDrive/my_yolov8/Conbine_dataset_3_classes-1_80-20-10-str/valid/images/006053.jpg  \n",
            "  inflating: /content/drive/MyDrive/my_yolov8/Conbine_dataset_3_classes-1_80-20-10-str/valid/images/003806.jpg  \n",
            "  inflating: /content/drive/MyDrive/my_yolov8/Conbine_dataset_3_classes-1_80-20-10-str/valid/images/002794.jpg  \n",
            "  inflating: /content/drive/MyDrive/my_yolov8/Conbine_dataset_3_classes-1_80-20-10-str/valid/images/002745.jpg  \n",
            "  inflating: /content/drive/MyDrive/my_yolov8/Conbine_dataset_3_classes-1_80-20-10-str/valid/images/001441.jpg  \n",
            "  inflating: /content/drive/MyDrive/my_yolov8/Conbine_dataset_3_classes-1_80-20-10-str/valid/images/000125.jpg  \n",
            "  inflating: /content/drive/MyDrive/my_yolov8/Conbine_dataset_3_classes-1_80-20-10-str/valid/images/004879.jpg  \n",
            "  inflating: /content/drive/MyDrive/my_yolov8/Conbine_dataset_3_classes-1_80-20-10-str/valid/images/001747.jpg  \n",
            "  inflating: /content/drive/MyDrive/my_yolov8/Conbine_dataset_3_classes-1_80-20-10-str/valid/images/006258.jpg  \n",
            "  inflating: /content/drive/MyDrive/my_yolov8/Conbine_dataset_3_classes-1_80-20-10-str/valid/images/001396.jpg  \n",
            "  inflating: /content/drive/MyDrive/my_yolov8/Conbine_dataset_3_classes-1_80-20-10-str/valid/images/005745.jpg  \n",
            "  inflating: /content/drive/MyDrive/my_yolov8/Conbine_dataset_3_classes-1_80-20-10-str/valid/images/002064.jpg  \n",
            "  inflating: /content/drive/MyDrive/my_yolov8/Conbine_dataset_3_classes-1_80-20-10-str/valid/images/005922.jpg  \n",
            "  inflating: /content/drive/MyDrive/my_yolov8/Conbine_dataset_3_classes-1_80-20-10-str/valid/images/001108.jpg  \n",
            "  inflating: /content/drive/MyDrive/my_yolov8/Conbine_dataset_3_classes-1_80-20-10-str/valid/images/004780.jpg  \n",
            "  inflating: /content/drive/MyDrive/my_yolov8/Conbine_dataset_3_classes-1_80-20-10-str/valid/images/002297.jpg  \n",
            "  inflating: /content/drive/MyDrive/my_yolov8/Conbine_dataset_3_classes-1_80-20-10-str/valid/images/002504.jpg  \n",
            "  inflating: /content/drive/MyDrive/my_yolov8/Conbine_dataset_3_classes-1_80-20-10-str/valid/images/004467.jpg  \n",
            "  inflating: /content/drive/MyDrive/my_yolov8/Conbine_dataset_3_classes-1_80-20-10-str/valid/images/003912.jpg  \n",
            "  inflating: /content/drive/MyDrive/my_yolov8/Conbine_dataset_3_classes-1_80-20-10-str/valid/images/006151.jpg  \n",
            "  inflating: /content/drive/MyDrive/my_yolov8/Conbine_dataset_3_classes-1_80-20-10-str/valid/images/002313.jpg  \n",
            "  inflating: /content/drive/MyDrive/my_yolov8/Conbine_dataset_3_classes-1_80-20-10-str/valid/images/006496.jpg  \n",
            "  inflating: /content/drive/MyDrive/my_yolov8/Conbine_dataset_3_classes-1_80-20-10-str/valid/images/003733.jpg  \n",
            "  inflating: /content/drive/MyDrive/my_yolov8/Conbine_dataset_3_classes-1_80-20-10-str/valid/images/002774.jpg  \n",
            "  inflating: /content/drive/MyDrive/my_yolov8/Conbine_dataset_3_classes-1_80-20-10-str/valid/images/005551.jpg  \n",
            "  inflating: /content/drive/MyDrive/my_yolov8/Conbine_dataset_3_classes-1_80-20-10-str/valid/images/006766.jpg  \n",
            "  inflating: /content/drive/MyDrive/my_yolov8/Conbine_dataset_3_classes-1_80-20-10-str/valid/images/005630.jpg  \n",
            "  inflating: /content/drive/MyDrive/my_yolov8/Conbine_dataset_3_classes-1_80-20-10-str/valid/images/001201.jpg  \n",
            "  inflating: /content/drive/MyDrive/my_yolov8/Conbine_dataset_3_classes-1_80-20-10-str/valid/images/002982.jpg  \n",
            "  inflating: /content/drive/MyDrive/my_yolov8/Conbine_dataset_3_classes-1_80-20-10-str/valid/images/001582.jpg  \n",
            "  inflating: /content/drive/MyDrive/my_yolov8/Conbine_dataset_3_classes-1_80-20-10-str/valid/images/005224.jpg  \n",
            "  inflating: /content/drive/MyDrive/my_yolov8/Conbine_dataset_3_classes-1_80-20-10-str/valid/images/001382.jpg  \n",
            "  inflating: /content/drive/MyDrive/my_yolov8/Conbine_dataset_3_classes-1_80-20-10-str/valid/images/002544.jpg  \n",
            "  inflating: /content/drive/MyDrive/my_yolov8/Conbine_dataset_3_classes-1_80-20-10-str/valid/images/006959.jpg  \n",
            "  inflating: /content/drive/MyDrive/my_yolov8/Conbine_dataset_3_classes-1_80-20-10-str/valid/images/006879.jpg  \n",
            "  inflating: /content/drive/MyDrive/my_yolov8/Conbine_dataset_3_classes-1_80-20-10-str/valid/images/004317.jpg  \n",
            "  inflating: /content/drive/MyDrive/my_yolov8/Conbine_dataset_3_classes-1_80-20-10-str/valid/images/007192.jpg  \n",
            "  inflating: /content/drive/MyDrive/my_yolov8/Conbine_dataset_3_classes-1_80-20-10-str/valid/images/003722.jpg  \n",
            "  inflating: /content/drive/MyDrive/my_yolov8/Conbine_dataset_3_classes-1_80-20-10-str/valid/images/001287.jpg  \n",
            "  inflating: /content/drive/MyDrive/my_yolov8/Conbine_dataset_3_classes-1_80-20-10-str/valid/images/005302.jpg  \n",
            "  inflating: /content/drive/MyDrive/my_yolov8/Conbine_dataset_3_classes-1_80-20-10-str/valid/images/006558.jpg  \n",
            "  inflating: /content/drive/MyDrive/my_yolov8/Conbine_dataset_3_classes-1_80-20-10-str/valid/images/005225.jpg  \n",
            "  inflating: /content/drive/MyDrive/my_yolov8/Conbine_dataset_3_classes-1_80-20-10-str/valid/images/004988.jpg  \n",
            "  inflating: /content/drive/MyDrive/my_yolov8/Conbine_dataset_3_classes-1_80-20-10-str/valid/images/005836.jpg  \n",
            "  inflating: /content/drive/MyDrive/my_yolov8/Conbine_dataset_3_classes-1_80-20-10-str/valid/images/000948.jpg  \n",
            "  inflating: /content/drive/MyDrive/my_yolov8/Conbine_dataset_3_classes-1_80-20-10-str/valid/images/003661.jpg  \n",
            "  inflating: /content/drive/MyDrive/my_yolov8/Conbine_dataset_3_classes-1_80-20-10-str/valid/images/003016.jpg  \n",
            "  inflating: /content/drive/MyDrive/my_yolov8/Conbine_dataset_3_classes-1_80-20-10-str/valid/images/001988.jpg  \n",
            "  inflating: /content/drive/MyDrive/my_yolov8/Conbine_dataset_3_classes-1_80-20-10-str/valid/images/002608.jpg  \n",
            "  inflating: /content/drive/MyDrive/my_yolov8/Conbine_dataset_3_classes-1_80-20-10-str/valid/images/003893.jpg  \n",
            "  inflating: /content/drive/MyDrive/my_yolov8/Conbine_dataset_3_classes-1_80-20-10-str/valid/images/004309.jpg  \n",
            "  inflating: /content/drive/MyDrive/my_yolov8/Conbine_dataset_3_classes-1_80-20-10-str/valid/images/001967.jpg  \n",
            "  inflating: /content/drive/MyDrive/my_yolov8/Conbine_dataset_3_classes-1_80-20-10-str/valid/images/003522.jpg  \n",
            "  inflating: /content/drive/MyDrive/my_yolov8/Conbine_dataset_3_classes-1_80-20-10-str/valid/images/000783.jpg  \n",
            "  inflating: /content/drive/MyDrive/my_yolov8/Conbine_dataset_3_classes-1_80-20-10-str/valid/images/006697.jpg  \n",
            "  inflating: /content/drive/MyDrive/my_yolov8/Conbine_dataset_3_classes-1_80-20-10-str/valid/images/001855.jpg  \n",
            "  inflating: /content/drive/MyDrive/my_yolov8/Conbine_dataset_3_classes-1_80-20-10-str/valid/images/003555.jpg  \n",
            "  inflating: /content/drive/MyDrive/my_yolov8/Conbine_dataset_3_classes-1_80-20-10-str/valid/images/006422.jpg  \n",
            "  inflating: /content/drive/MyDrive/my_yolov8/Conbine_dataset_3_classes-1_80-20-10-str/valid/images/006930.jpg  \n",
            "  inflating: /content/drive/MyDrive/my_yolov8/Conbine_dataset_3_classes-1_80-20-10-str/valid/images/004524.jpg  \n",
            "  inflating: /content/drive/MyDrive/my_yolov8/Conbine_dataset_3_classes-1_80-20-10-str/valid/images/004503.jpg  \n",
            "  inflating: /content/drive/MyDrive/my_yolov8/Conbine_dataset_3_classes-1_80-20-10-str/valid/images/000927.jpg  \n",
            "  inflating: /content/drive/MyDrive/my_yolov8/Conbine_dataset_3_classes-1_80-20-10-str/valid/images/003505.jpg  \n",
            "  inflating: /content/drive/MyDrive/my_yolov8/Conbine_dataset_3_classes-1_80-20-10-str/valid/images/000952.jpg  \n",
            "  inflating: /content/drive/MyDrive/my_yolov8/Conbine_dataset_3_classes-1_80-20-10-str/valid/images/001471.jpg  \n",
            "  inflating: /content/drive/MyDrive/my_yolov8/Conbine_dataset_3_classes-1_80-20-10-str/valid/images/006424.jpg  \n",
            "  inflating: /content/drive/MyDrive/my_yolov8/Conbine_dataset_3_classes-1_80-20-10-str/valid/images/007143.jpg  \n",
            "  inflating: /content/drive/MyDrive/my_yolov8/Conbine_dataset_3_classes-1_80-20-10-str/valid/images/005017.jpg  \n",
            "  inflating: /content/drive/MyDrive/my_yolov8/Conbine_dataset_3_classes-1_80-20-10-str/valid/images/000678.jpg  \n",
            "  inflating: /content/drive/MyDrive/my_yolov8/Conbine_dataset_3_classes-1_80-20-10-str/valid/images/004348.jpg  \n",
            "  inflating: /content/drive/MyDrive/my_yolov8/Conbine_dataset_3_classes-1_80-20-10-str/valid/images/001092.jpg  \n",
            "  inflating: /content/drive/MyDrive/my_yolov8/Conbine_dataset_3_classes-1_80-20-10-str/valid/images/006329.jpg  \n",
            "  inflating: /content/drive/MyDrive/my_yolov8/Conbine_dataset_3_classes-1_80-20-10-str/valid/images/007018.jpg  \n",
            "  inflating: /content/drive/MyDrive/my_yolov8/Conbine_dataset_3_classes-1_80-20-10-str/valid/images/005472.jpg  \n",
            "  inflating: /content/drive/MyDrive/my_yolov8/Conbine_dataset_3_classes-1_80-20-10-str/valid/images/002449.jpg  \n",
            "  inflating: /content/drive/MyDrive/my_yolov8/Conbine_dataset_3_classes-1_80-20-10-str/valid/images/005804.jpg  \n",
            "  inflating: /content/drive/MyDrive/my_yolov8/Conbine_dataset_3_classes-1_80-20-10-str/valid/images/001054.jpg  \n",
            "  inflating: /content/drive/MyDrive/my_yolov8/Conbine_dataset_3_classes-1_80-20-10-str/valid/images/000736.jpg  \n",
            "  inflating: /content/drive/MyDrive/my_yolov8/Conbine_dataset_3_classes-1_80-20-10-str/valid/images/000141.jpg  \n",
            "  inflating: /content/drive/MyDrive/my_yolov8/Conbine_dataset_3_classes-1_80-20-10-str/valid/images/005686.jpg  \n",
            "  inflating: /content/drive/MyDrive/my_yolov8/Conbine_dataset_3_classes-1_80-20-10-str/valid/images/007112.jpg  \n",
            "  inflating: /content/drive/MyDrive/my_yolov8/Conbine_dataset_3_classes-1_80-20-10-str/valid/images/005844.jpg  \n",
            "  inflating: /content/drive/MyDrive/my_yolov8/Conbine_dataset_3_classes-1_80-20-10-str/valid/images/007243.jpg  \n",
            "  inflating: /content/drive/MyDrive/my_yolov8/Conbine_dataset_3_classes-1_80-20-10-str/valid/images/005300.jpg  \n",
            "  inflating: /content/drive/MyDrive/my_yolov8/Conbine_dataset_3_classes-1_80-20-10-str/valid/images/002617.jpg  \n",
            "  inflating: /content/drive/MyDrive/my_yolov8/Conbine_dataset_3_classes-1_80-20-10-str/valid/images/001491.jpg  \n",
            "  inflating: /content/drive/MyDrive/my_yolov8/Conbine_dataset_3_classes-1_80-20-10-str/valid/images/000402.jpg  \n",
            "  inflating: /content/drive/MyDrive/my_yolov8/Conbine_dataset_3_classes-1_80-20-10-str/valid/images/003076.jpg  \n",
            "  inflating: /content/drive/MyDrive/my_yolov8/Conbine_dataset_3_classes-1_80-20-10-str/valid/images/006215.jpg  \n",
            "  inflating: /content/drive/MyDrive/my_yolov8/Conbine_dataset_3_classes-1_80-20-10-str/valid/images/005803.jpg  \n",
            "  inflating: /content/drive/MyDrive/my_yolov8/Conbine_dataset_3_classes-1_80-20-10-str/valid/images/003264.jpg  \n",
            "  inflating: /content/drive/MyDrive/my_yolov8/Conbine_dataset_3_classes-1_80-20-10-str/valid/images/002068.jpg  \n",
            "  inflating: /content/drive/MyDrive/my_yolov8/Conbine_dataset_3_classes-1_80-20-10-str/valid/images/004438.jpg  \n",
            "  inflating: /content/drive/MyDrive/my_yolov8/Conbine_dataset_3_classes-1_80-20-10-str/valid/images/003915.jpg  \n",
            "  inflating: /content/drive/MyDrive/my_yolov8/Conbine_dataset_3_classes-1_80-20-10-str/valid/images/006045.jpg  \n",
            "  inflating: /content/drive/MyDrive/my_yolov8/Conbine_dataset_3_classes-1_80-20-10-str/valid/images/003807.jpg  \n",
            "  inflating: /content/drive/MyDrive/my_yolov8/Conbine_dataset_3_classes-1_80-20-10-str/valid/images/001357.jpg  \n",
            "  inflating: /content/drive/MyDrive/my_yolov8/Conbine_dataset_3_classes-1_80-20-10-str/valid/images/004236.jpg  \n",
            "  inflating: /content/drive/MyDrive/my_yolov8/Conbine_dataset_3_classes-1_80-20-10-str/valid/images/001503.jpg  \n",
            "  inflating: /content/drive/MyDrive/my_yolov8/Conbine_dataset_3_classes-1_80-20-10-str/valid/images/000379.jpg  \n",
            "  inflating: /content/drive/MyDrive/my_yolov8/Conbine_dataset_3_classes-1_80-20-10-str/valid/images/004376.jpg  \n",
            "  inflating: /content/drive/MyDrive/my_yolov8/Conbine_dataset_3_classes-1_80-20-10-str/valid/images/003575.jpg  \n",
            "  inflating: /content/drive/MyDrive/my_yolov8/Conbine_dataset_3_classes-1_80-20-10-str/valid/images/000732.jpg  \n",
            "  inflating: /content/drive/MyDrive/my_yolov8/Conbine_dataset_3_classes-1_80-20-10-str/valid/images/000581.jpg  \n",
            "  inflating: /content/drive/MyDrive/my_yolov8/Conbine_dataset_3_classes-1_80-20-10-str/valid/images/002435.jpg  \n",
            "  inflating: /content/drive/MyDrive/my_yolov8/Conbine_dataset_3_classes-1_80-20-10-str/valid/images/006200.jpg  \n",
            "  inflating: /content/drive/MyDrive/my_yolov8/Conbine_dataset_3_classes-1_80-20-10-str/valid/images/002338.jpg  \n",
            "  inflating: /content/drive/MyDrive/my_yolov8/Conbine_dataset_3_classes-1_80-20-10-str/valid/images/001551.jpg  \n",
            "  inflating: /content/drive/MyDrive/my_yolov8/Conbine_dataset_3_classes-1_80-20-10-str/valid/images/004062.jpg  \n",
            "  inflating: /content/drive/MyDrive/my_yolov8/Conbine_dataset_3_classes-1_80-20-10-str/valid/images/000729.jpg  \n",
            "  inflating: /content/drive/MyDrive/my_yolov8/Conbine_dataset_3_classes-1_80-20-10-str/valid/images/002048.jpg  \n",
            "  inflating: /content/drive/MyDrive/my_yolov8/Conbine_dataset_3_classes-1_80-20-10-str/valid/images/000404.jpg  \n",
            "  inflating: /content/drive/MyDrive/my_yolov8/Conbine_dataset_3_classes-1_80-20-10-str/valid/images/004502.jpg  \n",
            "  inflating: /content/drive/MyDrive/my_yolov8/Conbine_dataset_3_classes-1_80-20-10-str/valid/images/002438.jpg  \n",
            "  inflating: /content/drive/MyDrive/my_yolov8/Conbine_dataset_3_classes-1_80-20-10-str/valid/images/006160.jpg  \n",
            "  inflating: /content/drive/MyDrive/my_yolov8/Conbine_dataset_3_classes-1_80-20-10-str/valid/images/006402.jpg  \n",
            "  inflating: /content/drive/MyDrive/my_yolov8/Conbine_dataset_3_classes-1_80-20-10-str/valid/images/003880.jpg  \n",
            "  inflating: /content/drive/MyDrive/my_yolov8/Conbine_dataset_3_classes-1_80-20-10-str/valid/images/000668.jpg  \n",
            "  inflating: /content/drive/MyDrive/my_yolov8/Conbine_dataset_3_classes-1_80-20-10-str/valid/images/005694.jpg  \n",
            "  inflating: /content/drive/MyDrive/my_yolov8/Conbine_dataset_3_classes-1_80-20-10-str/valid/images/001891.jpg  \n",
            "  inflating: /content/drive/MyDrive/my_yolov8/Conbine_dataset_3_classes-1_80-20-10-str/valid/images/004361.jpg  \n",
            "  inflating: /content/drive/MyDrive/my_yolov8/Conbine_dataset_3_classes-1_80-20-10-str/valid/images/005015.jpg  \n",
            "  inflating: /content/drive/MyDrive/my_yolov8/Conbine_dataset_3_classes-1_80-20-10-str/valid/images/001434.jpg  \n",
            "  inflating: /content/drive/MyDrive/my_yolov8/Conbine_dataset_3_classes-1_80-20-10-str/valid/images/001413.jpg  \n",
            "  inflating: /content/drive/MyDrive/my_yolov8/Conbine_dataset_3_classes-1_80-20-10-str/valid/images/006822.jpg  \n",
            "  inflating: /content/drive/MyDrive/my_yolov8/Conbine_dataset_3_classes-1_80-20-10-str/valid/images/002552.jpg  \n",
            "  inflating: /content/drive/MyDrive/my_yolov8/Conbine_dataset_3_classes-1_80-20-10-str/valid/images/005682.jpg  \n",
            "  inflating: /content/drive/MyDrive/my_yolov8/Conbine_dataset_3_classes-1_80-20-10-str/valid/images/005166.jpg  \n",
            "  inflating: /content/drive/MyDrive/my_yolov8/Conbine_dataset_3_classes-1_80-20-10-str/valid/images/001781.jpg  \n",
            "  inflating: /content/drive/MyDrive/my_yolov8/Conbine_dataset_3_classes-1_80-20-10-str/valid/images/006545.jpg  \n",
            "  inflating: /content/drive/MyDrive/my_yolov8/Conbine_dataset_3_classes-1_80-20-10-str/valid/images/002128.jpg  \n",
            "  inflating: /content/drive/MyDrive/my_yolov8/Conbine_dataset_3_classes-1_80-20-10-str/valid/images/000839.jpg  \n",
            "  inflating: /content/drive/MyDrive/my_yolov8/Conbine_dataset_3_classes-1_80-20-10-str/valid/images/004521.jpg  \n",
            "  inflating: /content/drive/MyDrive/my_yolov8/Conbine_dataset_3_classes-1_80-20-10-str/valid/images/003095.jpg  \n",
            "  inflating: /content/drive/MyDrive/my_yolov8/Conbine_dataset_3_classes-1_80-20-10-str/valid/images/001302.jpg  \n",
            "  inflating: /content/drive/MyDrive/my_yolov8/Conbine_dataset_3_classes-1_80-20-10-str/valid/images/001211.jpg  \n",
            "  inflating: /content/drive/MyDrive/my_yolov8/Conbine_dataset_3_classes-1_80-20-10-str/valid/images/002315.jpg  \n",
            "  inflating: /content/drive/MyDrive/my_yolov8/Conbine_dataset_3_classes-1_80-20-10-str/valid/images/003565.jpg  \n",
            "  inflating: /content/drive/MyDrive/my_yolov8/Conbine_dataset_3_classes-1_80-20-10-str/valid/images/005077.jpg  \n",
            "  inflating: /content/drive/MyDrive/my_yolov8/Conbine_dataset_3_classes-1_80-20-10-str/valid/images/001540.jpg  \n",
            "  inflating: /content/drive/MyDrive/my_yolov8/Conbine_dataset_3_classes-1_80-20-10-str/valid/images/001131.jpg  \n",
            "  inflating: /content/drive/MyDrive/my_yolov8/Conbine_dataset_3_classes-1_80-20-10-str/valid/images/006783.jpg  \n",
            "  inflating: /content/drive/MyDrive/my_yolov8/Conbine_dataset_3_classes-1_80-20-10-str/valid/images/005775.jpg  \n",
            "  inflating: /content/drive/MyDrive/my_yolov8/Conbine_dataset_3_classes-1_80-20-10-str/valid/images/000860.jpg  \n",
            "  inflating: /content/drive/MyDrive/my_yolov8/Conbine_dataset_3_classes-1_80-20-10-str/valid/images/000154.jpg  \n",
            "  inflating: /content/drive/MyDrive/my_yolov8/Conbine_dataset_3_classes-1_80-20-10-str/valid/images/000889.jpg  \n",
            "  inflating: /content/drive/MyDrive/my_yolov8/Conbine_dataset_3_classes-1_80-20-10-str/valid/images/005136.jpg  \n",
            "  inflating: /content/drive/MyDrive/my_yolov8/Conbine_dataset_3_classes-1_80-20-10-str/valid/images/003425.jpg  \n",
            "  inflating: /content/drive/MyDrive/my_yolov8/Conbine_dataset_3_classes-1_80-20-10-str/valid/images/003288.jpg  \n",
            "  inflating: /content/drive/MyDrive/my_yolov8/Conbine_dataset_3_classes-1_80-20-10-str/valid/images/002814.jpg  \n",
            "  inflating: /content/drive/MyDrive/my_yolov8/Conbine_dataset_3_classes-1_80-20-10-str/valid/images/006563.jpg  \n",
            "  inflating: /content/drive/MyDrive/my_yolov8/Conbine_dataset_3_classes-1_80-20-10-str/valid/images/001082.jpg  \n",
            "  inflating: /content/drive/MyDrive/my_yolov8/Conbine_dataset_3_classes-1_80-20-10-str/valid/images/000401.jpg  \n",
            "  inflating: /content/drive/MyDrive/my_yolov8/Conbine_dataset_3_classes-1_80-20-10-str/valid/images/004386.jpg  \n",
            "  inflating: /content/drive/MyDrive/my_yolov8/Conbine_dataset_3_classes-1_80-20-10-str/valid/images/001861.jpg  \n",
            "  inflating: /content/drive/MyDrive/my_yolov8/Conbine_dataset_3_classes-1_80-20-10-str/valid/images/002039.jpg  \n",
            "  inflating: /content/drive/MyDrive/my_yolov8/Conbine_dataset_3_classes-1_80-20-10-str/valid/images/000645.jpg  \n",
            "  inflating: /content/drive/MyDrive/my_yolov8/Conbine_dataset_3_classes-1_80-20-10-str/valid/images/002159.jpg  \n",
            "  inflating: /content/drive/MyDrive/my_yolov8/Conbine_dataset_3_classes-1_80-20-10-str/valid/images/006208.jpg  \n",
            "  inflating: /content/drive/MyDrive/my_yolov8/Conbine_dataset_3_classes-1_80-20-10-str/valid/images/004048.jpg  \n",
            "  inflating: /content/drive/MyDrive/my_yolov8/Conbine_dataset_3_classes-1_80-20-10-str/valid/images/004404.jpg  \n",
            "  inflating: /content/drive/MyDrive/my_yolov8/Conbine_dataset_3_classes-1_80-20-10-str/valid/images/004857.jpg  \n",
            "  inflating: /content/drive/MyDrive/my_yolov8/Conbine_dataset_3_classes-1_80-20-10-str/valid/images/004358.jpg  \n",
            "  inflating: /content/drive/MyDrive/my_yolov8/Conbine_dataset_3_classes-1_80-20-10-str/valid/images/002591.jpg  \n",
            "  inflating: /content/drive/MyDrive/my_yolov8/Conbine_dataset_3_classes-1_80-20-10-str/valid/images/004364.jpg  \n",
            "  inflating: /content/drive/MyDrive/my_yolov8/Conbine_dataset_3_classes-1_80-20-10-str/valid/images/004651.jpg  \n",
            "  inflating: /content/drive/MyDrive/my_yolov8/Conbine_dataset_3_classes-1_80-20-10-str/valid/images/006957.jpg  \n",
            "  inflating: /content/drive/MyDrive/my_yolov8/Conbine_dataset_3_classes-1_80-20-10-str/valid/images/003705.jpg  \n",
            "  inflating: /content/drive/MyDrive/my_yolov8/Conbine_dataset_3_classes-1_80-20-10-str/valid/images/003813.jpg  \n",
            "  inflating: /content/drive/MyDrive/my_yolov8/Conbine_dataset_3_classes-1_80-20-10-str/valid/images/000865.jpg  \n",
            "  inflating: /content/drive/MyDrive/my_yolov8/Conbine_dataset_3_classes-1_80-20-10-str/valid/images/001558.jpg  \n",
            "  inflating: /content/drive/MyDrive/my_yolov8/Conbine_dataset_3_classes-1_80-20-10-str/valid/images/005661.jpg  \n",
            "  inflating: /content/drive/MyDrive/my_yolov8/Conbine_dataset_3_classes-1_80-20-10-str/valid/images/001166.jpg  \n",
            "  inflating: /content/drive/MyDrive/my_yolov8/Conbine_dataset_3_classes-1_80-20-10-str/valid/images/003275.jpg  \n",
            "  inflating: /content/drive/MyDrive/my_yolov8/Conbine_dataset_3_classes-1_80-20-10-str/valid/images/000786.jpg  \n",
            "  inflating: /content/drive/MyDrive/my_yolov8/Conbine_dataset_3_classes-1_80-20-10-str/valid/images/006547.jpg  \n",
            "  inflating: /content/drive/MyDrive/my_yolov8/Conbine_dataset_3_classes-1_80-20-10-str/valid/images/006227.jpg  \n",
            "  inflating: /content/drive/MyDrive/my_yolov8/Conbine_dataset_3_classes-1_80-20-10-str/valid/images/005679.jpg  \n",
            "  inflating: /content/drive/MyDrive/my_yolov8/Conbine_dataset_3_classes-1_80-20-10-str/valid/images/004343.jpg  \n",
            "  inflating: /content/drive/MyDrive/my_yolov8/Conbine_dataset_3_classes-1_80-20-10-str/valid/images/003982.jpg  \n",
            "  inflating: /content/drive/MyDrive/my_yolov8/Conbine_dataset_3_classes-1_80-20-10-str/valid/images/001308.jpg  \n",
            "  inflating: /content/drive/MyDrive/my_yolov8/Conbine_dataset_3_classes-1_80-20-10-str/valid/images/000695.jpg  \n",
            "  inflating: /content/drive/MyDrive/my_yolov8/Conbine_dataset_3_classes-1_80-20-10-str/valid/images/004916.jpg  \n",
            "  inflating: /content/drive/MyDrive/my_yolov8/Conbine_dataset_3_classes-1_80-20-10-str/valid/images/005189.jpg  \n",
            "  inflating: /content/drive/MyDrive/my_yolov8/Conbine_dataset_3_classes-1_80-20-10-str/valid/images/006585.jpg  \n",
            "  inflating: /content/drive/MyDrive/my_yolov8/Conbine_dataset_3_classes-1_80-20-10-str/valid/images/000328.jpg  \n",
            "  inflating: /content/drive/MyDrive/my_yolov8/Conbine_dataset_3_classes-1_80-20-10-str/valid/images/004229.jpg  \n",
            "  inflating: /content/drive/MyDrive/my_yolov8/Conbine_dataset_3_classes-1_80-20-10-str/valid/images/000413.jpg  \n",
            "  inflating: /content/drive/MyDrive/my_yolov8/Conbine_dataset_3_classes-1_80-20-10-str/valid/images/006192.jpg  \n",
            "  inflating: /content/drive/MyDrive/my_yolov8/Conbine_dataset_3_classes-1_80-20-10-str/valid/images/003584.jpg  \n",
            "  inflating: /content/drive/MyDrive/my_yolov8/Conbine_dataset_3_classes-1_80-20-10-str/valid/images/006176.jpg  \n",
            "  inflating: /content/drive/MyDrive/my_yolov8/Conbine_dataset_3_classes-1_80-20-10-str/valid/images/001964.jpg  \n",
            "  inflating: /content/drive/MyDrive/my_yolov8/Conbine_dataset_3_classes-1_80-20-10-str/valid/images/000131.jpg  \n",
            "  inflating: /content/drive/MyDrive/my_yolov8/Conbine_dataset_3_classes-1_80-20-10-str/valid/images/005211.jpg  \n",
            "  inflating: /content/drive/MyDrive/my_yolov8/Conbine_dataset_3_classes-1_80-20-10-str/valid/images/002173.jpg  \n",
            "  inflating: /content/drive/MyDrive/my_yolov8/Conbine_dataset_3_classes-1_80-20-10-str/valid/images/006426.jpg  \n",
            "  inflating: /content/drive/MyDrive/my_yolov8/Conbine_dataset_3_classes-1_80-20-10-str/valid/images/007239.jpg  \n",
            "  inflating: /content/drive/MyDrive/my_yolov8/Conbine_dataset_3_classes-1_80-20-10-str/valid/images/007257.jpg  \n",
            "  inflating: /content/drive/MyDrive/my_yolov8/Conbine_dataset_3_classes-1_80-20-10-str/valid/images/000626.jpg  \n",
            "  inflating: /content/drive/MyDrive/my_yolov8/Conbine_dataset_3_classes-1_80-20-10-str/valid/images/002793.jpg  \n",
            "  inflating: /content/drive/MyDrive/my_yolov8/Conbine_dataset_3_classes-1_80-20-10-str/valid/images/007049.jpg  \n",
            "  inflating: /content/drive/MyDrive/my_yolov8/Conbine_dataset_3_classes-1_80-20-10-str/valid/images/004017.jpg  \n",
            "  inflating: /content/drive/MyDrive/my_yolov8/Conbine_dataset_3_classes-1_80-20-10-str/valid/images/004899.jpg  \n",
            "  inflating: /content/drive/MyDrive/my_yolov8/Conbine_dataset_3_classes-1_80-20-10-str/valid/images/003046.jpg  \n",
            "  inflating: /content/drive/MyDrive/my_yolov8/Conbine_dataset_3_classes-1_80-20-10-str/valid/images/005561.jpg  \n",
            "  inflating: /content/drive/MyDrive/my_yolov8/Conbine_dataset_3_classes-1_80-20-10-str/valid/images/005523.jpg  \n",
            "  inflating: /content/drive/MyDrive/my_yolov8/Conbine_dataset_3_classes-1_80-20-10-str/valid/images/002960.jpg  \n",
            "  inflating: /content/drive/MyDrive/my_yolov8/Conbine_dataset_3_classes-1_80-20-10-str/valid/images/002990.jpg  \n",
            "  inflating: /content/drive/MyDrive/my_yolov8/Conbine_dataset_3_classes-1_80-20-10-str/valid/images/001821.jpg  \n",
            "  inflating: /content/drive/MyDrive/my_yolov8/Conbine_dataset_3_classes-1_80-20-10-str/valid/images/005658.jpg  \n",
            "  inflating: /content/drive/MyDrive/my_yolov8/Conbine_dataset_3_classes-1_80-20-10-str/valid/images/000414.jpg  \n",
            "  inflating: /content/drive/MyDrive/my_yolov8/Conbine_dataset_3_classes-1_80-20-10-str/valid/images/005590.jpg  \n",
            "  inflating: /content/drive/MyDrive/my_yolov8/Conbine_dataset_3_classes-1_80-20-10-str/valid/images/002912.jpg  \n",
            "  inflating: /content/drive/MyDrive/my_yolov8/Conbine_dataset_3_classes-1_80-20-10-str/valid/images/006114.jpg  \n",
            "  inflating: /content/drive/MyDrive/my_yolov8/Conbine_dataset_3_classes-1_80-20-10-str/valid/images/003587.jpg  \n",
            "  inflating: /content/drive/MyDrive/my_yolov8/Conbine_dataset_3_classes-1_80-20-10-str/valid/images/004600.jpg  \n",
            "  inflating: /content/drive/MyDrive/my_yolov8/Conbine_dataset_3_classes-1_80-20-10-str/valid/images/002802.jpg  \n",
            "  inflating: /content/drive/MyDrive/my_yolov8/Conbine_dataset_3_classes-1_80-20-10-str/valid/images/006246.jpg  \n",
            "  inflating: /content/drive/MyDrive/my_yolov8/Conbine_dataset_3_classes-1_80-20-10-str/valid/images/003188.jpg  \n",
            "  inflating: /content/drive/MyDrive/my_yolov8/Conbine_dataset_3_classes-1_80-20-10-str/valid/images/000765.jpg  \n",
            "  inflating: /content/drive/MyDrive/my_yolov8/Conbine_dataset_3_classes-1_80-20-10-str/valid/images/003104.jpg  \n",
            "  inflating: /content/drive/MyDrive/my_yolov8/Conbine_dataset_3_classes-1_80-20-10-str/valid/images/004347.jpg  \n",
            "  inflating: /content/drive/MyDrive/my_yolov8/Conbine_dataset_3_classes-1_80-20-10-str/valid/images/001288.jpg  \n",
            "  inflating: /content/drive/MyDrive/my_yolov8/Conbine_dataset_3_classes-1_80-20-10-str/valid/images/005496.jpg  \n",
            "  inflating: /content/drive/MyDrive/my_yolov8/Conbine_dataset_3_classes-1_80-20-10-str/valid/images/001664.jpg  \n",
            "  inflating: /content/drive/MyDrive/my_yolov8/Conbine_dataset_3_classes-1_80-20-10-str/valid/images/000913.jpg  \n",
            "  inflating: /content/drive/MyDrive/my_yolov8/Conbine_dataset_3_classes-1_80-20-10-str/valid/images/004374.jpg  \n",
            "  inflating: /content/drive/MyDrive/my_yolov8/Conbine_dataset_3_classes-1_80-20-10-str/valid/images/005099.jpg  \n",
            "  inflating: /content/drive/MyDrive/my_yolov8/Conbine_dataset_3_classes-1_80-20-10-str/valid/images/006775.jpg  \n",
            "  inflating: /content/drive/MyDrive/my_yolov8/Conbine_dataset_3_classes-1_80-20-10-str/valid/images/002291.jpg  \n",
            "  inflating: /content/drive/MyDrive/my_yolov8/Conbine_dataset_3_classes-1_80-20-10-str/valid/images/005067.jpg  \n",
            "  inflating: /content/drive/MyDrive/my_yolov8/Conbine_dataset_3_classes-1_80-20-10-str/valid/images/000133.jpg  \n",
            "  inflating: /content/drive/MyDrive/my_yolov8/Conbine_dataset_3_classes-1_80-20-10-str/valid/images/001362.jpg  \n",
            "  inflating: /content/drive/MyDrive/my_yolov8/Conbine_dataset_3_classes-1_80-20-10-str/valid/images/000146.jpg  \n",
            "  inflating: /content/drive/MyDrive/my_yolov8/Conbine_dataset_3_classes-1_80-20-10-str/valid/images/005412.jpg  \n",
            "  inflating: /content/drive/MyDrive/my_yolov8/Conbine_dataset_3_classes-1_80-20-10-str/valid/images/007002.jpg  \n",
            "  inflating: /content/drive/MyDrive/my_yolov8/Conbine_dataset_3_classes-1_80-20-10-str/valid/images/002232.jpg  \n",
            "  inflating: /content/drive/MyDrive/my_yolov8/Conbine_dataset_3_classes-1_80-20-10-str/valid/images/002499.jpg  \n",
            "  inflating: /content/drive/MyDrive/my_yolov8/Conbine_dataset_3_classes-1_80-20-10-str/valid/images/005536.jpg  \n",
            "  inflating: /content/drive/MyDrive/my_yolov8/Conbine_dataset_3_classes-1_80-20-10-str/valid/images/003479.jpg  \n",
            "  inflating: /content/drive/MyDrive/my_yolov8/Conbine_dataset_3_classes-1_80-20-10-str/valid/images/006510.jpg  \n",
            "  inflating: /content/drive/MyDrive/my_yolov8/Conbine_dataset_3_classes-1_80-20-10-str/valid/images/002416.jpg  \n",
            "  inflating: /content/drive/MyDrive/my_yolov8/Conbine_dataset_3_classes-1_80-20-10-str/valid/images/003715.jpg  \n",
            "  inflating: /content/drive/MyDrive/my_yolov8/Conbine_dataset_3_classes-1_80-20-10-str/valid/images/004969.jpg  \n",
            "  inflating: /content/drive/MyDrive/my_yolov8/Conbine_dataset_3_classes-1_80-20-10-str/valid/images/006788.jpg  \n",
            "  inflating: /content/drive/MyDrive/my_yolov8/Conbine_dataset_3_classes-1_80-20-10-str/valid/images/006595.jpg  \n",
            "  inflating: /content/drive/MyDrive/my_yolov8/Conbine_dataset_3_classes-1_80-20-10-str/valid/images/006635.jpg  \n",
            "  inflating: /content/drive/MyDrive/my_yolov8/Conbine_dataset_3_classes-1_80-20-10-str/valid/images/001757.jpg  \n",
            "  inflating: /content/drive/MyDrive/my_yolov8/Conbine_dataset_3_classes-1_80-20-10-str/valid/images/001892.jpg  \n",
            "  inflating: /content/drive/MyDrive/my_yolov8/Conbine_dataset_3_classes-1_80-20-10-str/valid/images/004912.jpg  \n",
            "  inflating: /content/drive/MyDrive/my_yolov8/Conbine_dataset_3_classes-1_80-20-10-str/valid/images/003890.jpg  \n",
            "  inflating: /content/drive/MyDrive/my_yolov8/Conbine_dataset_3_classes-1_80-20-10-str/valid/images/001036.jpg  \n",
            "  inflating: /content/drive/MyDrive/my_yolov8/Conbine_dataset_3_classes-1_80-20-10-str/valid/images/000202.jpg  \n",
            "  inflating: /content/drive/MyDrive/my_yolov8/Conbine_dataset_3_classes-1_80-20-10-str/valid/images/002525.jpg  \n",
            "  inflating: /content/drive/MyDrive/my_yolov8/Conbine_dataset_3_classes-1_80-20-10-str/valid/images/002735.jpg  \n",
            "  inflating: /content/drive/MyDrive/my_yolov8/Conbine_dataset_3_classes-1_80-20-10-str/valid/images/006882.jpg  \n",
            "  inflating: /content/drive/MyDrive/my_yolov8/Conbine_dataset_3_classes-1_80-20-10-str/valid/images/005112.jpg  \n",
            "  inflating: /content/drive/MyDrive/my_yolov8/Conbine_dataset_3_classes-1_80-20-10-str/valid/images/003528.jpg  \n",
            "  inflating: /content/drive/MyDrive/my_yolov8/Conbine_dataset_3_classes-1_80-20-10-str/valid/images/001961.jpg  \n",
            "  inflating: /content/drive/MyDrive/my_yolov8/Conbine_dataset_3_classes-1_80-20-10-str/valid/images/001782.jpg  \n",
            "  inflating: /content/drive/MyDrive/my_yolov8/Conbine_dataset_3_classes-1_80-20-10-str/valid/images/000720.jpg  \n",
            "  inflating: /content/drive/MyDrive/my_yolov8/Conbine_dataset_3_classes-1_80-20-10-str/valid/images/007134.jpg  \n",
            "  inflating: /content/drive/MyDrive/my_yolov8/Conbine_dataset_3_classes-1_80-20-10-str/valid/images/003032.jpg  \n",
            "  inflating: /content/drive/MyDrive/my_yolov8/Conbine_dataset_3_classes-1_80-20-10-str/valid/images/003541.jpg  \n",
            "  inflating: /content/drive/MyDrive/my_yolov8/Conbine_dataset_3_classes-1_80-20-10-str/valid/images/006714.jpg  \n",
            "  inflating: /content/drive/MyDrive/my_yolov8/Conbine_dataset_3_classes-1_80-20-10-str/valid/images/004850.jpg  \n",
            "  inflating: /content/drive/MyDrive/my_yolov8/Conbine_dataset_3_classes-1_80-20-10-str/valid/images/005808.jpg  \n",
            "  inflating: /content/drive/MyDrive/my_yolov8/Conbine_dataset_3_classes-1_80-20-10-str/valid/images/001894.jpg  \n",
            "  inflating: /content/drive/MyDrive/my_yolov8/Conbine_dataset_3_classes-1_80-20-10-str/valid/images/005757.jpg  \n",
            "  inflating: /content/drive/MyDrive/my_yolov8/Conbine_dataset_3_classes-1_80-20-10-str/valid/images/003462.jpg  \n",
            "  inflating: /content/drive/MyDrive/my_yolov8/Conbine_dataset_3_classes-1_80-20-10-str/valid/images/001134.jpg  \n",
            "  inflating: /content/drive/MyDrive/my_yolov8/Conbine_dataset_3_classes-1_80-20-10-str/valid/images/004107.jpg  \n",
            "  inflating: /content/drive/MyDrive/my_yolov8/Conbine_dataset_3_classes-1_80-20-10-str/valid/images/000683.jpg  \n",
            "  inflating: /content/drive/MyDrive/my_yolov8/Conbine_dataset_3_classes-1_80-20-10-str/valid/images/000906.jpg  \n",
            "  inflating: /content/drive/MyDrive/my_yolov8/Conbine_dataset_3_classes-1_80-20-10-str/valid/images/001244.jpg  \n",
            "  inflating: /content/drive/MyDrive/my_yolov8/Conbine_dataset_3_classes-1_80-20-10-str/valid/images/004308.jpg  \n",
            "  inflating: /content/drive/MyDrive/my_yolov8/Conbine_dataset_3_classes-1_80-20-10-str/valid/images/006819.jpg  \n",
            "  inflating: /content/drive/MyDrive/my_yolov8/Conbine_dataset_3_classes-1_80-20-10-str/valid/images/001681.jpg  \n",
            "  inflating: /content/drive/MyDrive/my_yolov8/Conbine_dataset_3_classes-1_80-20-10-str/valid/images/002852.jpg  \n",
            "  inflating: /content/drive/MyDrive/my_yolov8/Conbine_dataset_3_classes-1_80-20-10-str/valid/images/000381.jpg  \n",
            "  inflating: /content/drive/MyDrive/my_yolov8/Conbine_dataset_3_classes-1_80-20-10-str/valid/images/002033.jpg  \n",
            "  inflating: /content/drive/MyDrive/my_yolov8/Conbine_dataset_3_classes-1_80-20-10-str/valid/images/006135.jpg  \n",
            "  inflating: /content/drive/MyDrive/my_yolov8/Conbine_dataset_3_classes-1_80-20-10-str/valid/images/004802.jpg  \n",
            "  inflating: /content/drive/MyDrive/my_yolov8/Conbine_dataset_3_classes-1_80-20-10-str/valid/images/003084.jpg  \n",
            "  inflating: /content/drive/MyDrive/my_yolov8/Conbine_dataset_3_classes-1_80-20-10-str/valid/images/004158.jpg  \n",
            "  inflating: /content/drive/MyDrive/my_yolov8/Conbine_dataset_3_classes-1_80-20-10-str/valid/images/000767.jpg  \n",
            "  inflating: /content/drive/MyDrive/my_yolov8/Conbine_dataset_3_classes-1_80-20-10-str/valid/images/005884.jpg  \n",
            "  inflating: /content/drive/MyDrive/my_yolov8/Conbine_dataset_3_classes-1_80-20-10-str/valid/images/002271.jpg  \n",
            "  inflating: /content/drive/MyDrive/my_yolov8/Conbine_dataset_3_classes-1_80-20-10-str/valid/images/003064.jpg  \n",
            "  inflating: /content/drive/MyDrive/my_yolov8/Conbine_dataset_3_classes-1_80-20-10-str/valid/images/005454.jpg  \n",
            "  inflating: /content/drive/MyDrive/my_yolov8/Conbine_dataset_3_classes-1_80-20-10-str/valid/images/001819.jpg  \n",
            "  inflating: /content/drive/MyDrive/my_yolov8/Conbine_dataset_3_classes-1_80-20-10-str/valid/images/004203.jpg  \n",
            "  inflating: /content/drive/MyDrive/my_yolov8/Conbine_dataset_3_classes-1_80-20-10-str/valid/images/004022.jpg  \n",
            "  inflating: /content/drive/MyDrive/my_yolov8/Conbine_dataset_3_classes-1_80-20-10-str/valid/images/006562.jpg  \n",
            "  inflating: /content/drive/MyDrive/my_yolov8/Conbine_dataset_3_classes-1_80-20-10-str/valid/images/004114.jpg  \n",
            "  inflating: /content/drive/MyDrive/my_yolov8/Conbine_dataset_3_classes-1_80-20-10-str/valid/images/005288.jpg  \n",
            "  inflating: /content/drive/MyDrive/my_yolov8/Conbine_dataset_3_classes-1_80-20-10-str/valid/images/000702.jpg  \n",
            "  inflating: /content/drive/MyDrive/my_yolov8/Conbine_dataset_3_classes-1_80-20-10-str/valid/images/002947.jpg  \n",
            "  inflating: /content/drive/MyDrive/my_yolov8/Conbine_dataset_3_classes-1_80-20-10-str/valid/images/000946.jpg  \n",
            "  inflating: /content/drive/MyDrive/my_yolov8/Conbine_dataset_3_classes-1_80-20-10-str/valid/images/002632.jpg  \n",
            "  inflating: /content/drive/MyDrive/my_yolov8/Conbine_dataset_3_classes-1_80-20-10-str/valid/images/000085.jpg  \n",
            "  inflating: /content/drive/MyDrive/my_yolov8/Conbine_dataset_3_classes-1_80-20-10-str/valid/images/004590.jpg  \n",
            "  inflating: /content/drive/MyDrive/my_yolov8/Conbine_dataset_3_classes-1_80-20-10-str/valid/images/004108.jpg  \n",
            "  inflating: /content/drive/MyDrive/my_yolov8/Conbine_dataset_3_classes-1_80-20-10-str/valid/images/004367.jpg  \n",
            "  inflating: /content/drive/MyDrive/my_yolov8/Conbine_dataset_3_classes-1_80-20-10-str/valid/images/001348.jpg  \n",
            "  inflating: /content/drive/MyDrive/my_yolov8/Conbine_dataset_3_classes-1_80-20-10-str/valid/images/007172.jpg  \n",
            "  inflating: /content/drive/MyDrive/my_yolov8/Conbine_dataset_3_classes-1_80-20-10-str/valid/images/001018.jpg  \n",
            "  inflating: /content/drive/MyDrive/my_yolov8/Conbine_dataset_3_classes-1_80-20-10-str/valid/images/001853.jpg  \n",
            "  inflating: /content/drive/MyDrive/my_yolov8/Conbine_dataset_3_classes-1_80-20-10-str/valid/images/002310.jpg  \n",
            "  inflating: /content/drive/MyDrive/my_yolov8/Conbine_dataset_3_classes-1_80-20-10-str/valid/images/002627.jpg  \n",
            "  inflating: /content/drive/MyDrive/my_yolov8/Conbine_dataset_3_classes-1_80-20-10-str/valid/images/002133.jpg  \n",
            "  inflating: /content/drive/MyDrive/my_yolov8/Conbine_dataset_3_classes-1_80-20-10-str/valid/images/004026.jpg  \n",
            "  inflating: /content/drive/MyDrive/my_yolov8/Conbine_dataset_3_classes-1_80-20-10-str/valid/images/001182.jpg  \n",
            "  inflating: /content/drive/MyDrive/my_yolov8/Conbine_dataset_3_classes-1_80-20-10-str/valid/images/004818.jpg  \n",
            "  inflating: /content/drive/MyDrive/my_yolov8/Conbine_dataset_3_classes-1_80-20-10-str/valid/images/005749.jpg  \n",
            "  inflating: /content/drive/MyDrive/my_yolov8/Conbine_dataset_3_classes-1_80-20-10-str/valid/images/003017.jpg  \n",
            "  inflating: /content/drive/MyDrive/my_yolov8/Conbine_dataset_3_classes-1_80-20-10-str/valid/images/003049.jpg  \n",
            "  inflating: /content/drive/MyDrive/my_yolov8/Conbine_dataset_3_classes-1_80-20-10-str/valid/images/005913.jpg  \n",
            "  inflating: /content/drive/MyDrive/my_yolov8/Conbine_dataset_3_classes-1_80-20-10-str/valid/images/006599.jpg  \n",
            "  inflating: /content/drive/MyDrive/my_yolov8/Conbine_dataset_3_classes-1_80-20-10-str/valid/images/004500.jpg  \n",
            "  inflating: /content/drive/MyDrive/my_yolov8/Conbine_dataset_3_classes-1_80-20-10-str/valid/images/005973.jpg  \n",
            "  inflating: /content/drive/MyDrive/my_yolov8/Conbine_dataset_3_classes-1_80-20-10-str/valid/images/002359.jpg  \n",
            "  inflating: /content/drive/MyDrive/my_yolov8/Conbine_dataset_3_classes-1_80-20-10-str/valid/images/002553.jpg  \n",
            "  inflating: /content/drive/MyDrive/my_yolov8/Conbine_dataset_3_classes-1_80-20-10-str/valid/images/001734.jpg  \n",
            "  inflating: /content/drive/MyDrive/my_yolov8/Conbine_dataset_3_classes-1_80-20-10-str/valid/images/006690.jpg  \n",
            "  inflating: /content/drive/MyDrive/my_yolov8/Conbine_dataset_3_classes-1_80-20-10-str/valid/images/004959.jpg  \n",
            "  inflating: /content/drive/MyDrive/my_yolov8/Conbine_dataset_3_classes-1_80-20-10-str/valid/images/000096.jpg  \n",
            "  inflating: /content/drive/MyDrive/my_yolov8/Conbine_dataset_3_classes-1_80-20-10-str/valid/images/006110.jpg  \n",
            "  inflating: /content/drive/MyDrive/my_yolov8/Conbine_dataset_3_classes-1_80-20-10-str/valid/images/003028.jpg  \n",
            "  inflating: /content/drive/MyDrive/my_yolov8/Conbine_dataset_3_classes-1_80-20-10-str/valid/images/006212.jpg  \n",
            "  inflating: /content/drive/MyDrive/my_yolov8/Conbine_dataset_3_classes-1_80-20-10-str/valid/images/002137.jpg  \n",
            "  inflating: /content/drive/MyDrive/my_yolov8/Conbine_dataset_3_classes-1_80-20-10-str/valid/images/004472.jpg  \n",
            "  inflating: /content/drive/MyDrive/my_yolov8/Conbine_dataset_3_classes-1_80-20-10-str/valid/images/001361.jpg  \n",
            "  inflating: /content/drive/MyDrive/my_yolov8/Conbine_dataset_3_classes-1_80-20-10-str/valid/images/002530.jpg  \n",
            "  inflating: /content/drive/MyDrive/my_yolov8/Conbine_dataset_3_classes-1_80-20-10-str/valid/images/003693.jpg  \n",
            "  inflating: /content/drive/MyDrive/my_yolov8/Conbine_dataset_3_classes-1_80-20-10-str/valid/images/002700.jpg  \n",
            "  inflating: /content/drive/MyDrive/my_yolov8/Conbine_dataset_3_classes-1_80-20-10-str/valid/images/004630.jpg  \n",
            "  inflating: /content/drive/MyDrive/my_yolov8/Conbine_dataset_3_classes-1_80-20-10-str/valid/images/005790.jpg  \n",
            "  inflating: /content/drive/MyDrive/my_yolov8/Conbine_dataset_3_classes-1_80-20-10-str/valid/images/001129.jpg  \n",
            "  inflating: /content/drive/MyDrive/my_yolov8/Conbine_dataset_3_classes-1_80-20-10-str/valid/images/000770.jpg  \n",
            "  inflating: /content/drive/MyDrive/my_yolov8/Conbine_dataset_3_classes-1_80-20-10-str/valid/images/003408.jpg  \n",
            "  inflating: /content/drive/MyDrive/my_yolov8/Conbine_dataset_3_classes-1_80-20-10-str/valid/images/004177.jpg  \n",
            "  inflating: /content/drive/MyDrive/my_yolov8/Conbine_dataset_3_classes-1_80-20-10-str/valid/images/005548.jpg  \n",
            "  inflating: /content/drive/MyDrive/my_yolov8/Conbine_dataset_3_classes-1_80-20-10-str/valid/images/002464.jpg  \n",
            "  inflating: /content/drive/MyDrive/my_yolov8/Conbine_dataset_3_classes-1_80-20-10-str/valid/images/005231.jpg  \n",
            "  inflating: /content/drive/MyDrive/my_yolov8/Conbine_dataset_3_classes-1_80-20-10-str/valid/images/000855.jpg  \n",
            "  inflating: /content/drive/MyDrive/my_yolov8/Conbine_dataset_3_classes-1_80-20-10-str/valid/images/005177.jpg  \n",
            "  inflating: /content/drive/MyDrive/my_yolov8/Conbine_dataset_3_classes-1_80-20-10-str/valid/images/000040.jpg  \n",
            "  inflating: /content/drive/MyDrive/my_yolov8/Conbine_dataset_3_classes-1_80-20-10-str/valid/images/004955.jpg  \n",
            "  inflating: /content/drive/MyDrive/my_yolov8/Conbine_dataset_3_classes-1_80-20-10-str/valid/images/005221.jpg  \n",
            "  inflating: /content/drive/MyDrive/my_yolov8/Conbine_dataset_3_classes-1_80-20-10-str/valid/images/002465.jpg  \n",
            "  inflating: /content/drive/MyDrive/my_yolov8/Conbine_dataset_3_classes-1_80-20-10-str/valid/images/003512.jpg  \n",
            "  inflating: /content/drive/MyDrive/my_yolov8/Conbine_dataset_3_classes-1_80-20-10-str/valid/images/002747.jpg  \n",
            "  inflating: /content/drive/MyDrive/my_yolov8/Conbine_dataset_3_classes-1_80-20-10-str/valid/images/003834.jpg  \n",
            "  inflating: /content/drive/MyDrive/my_yolov8/Conbine_dataset_3_classes-1_80-20-10-str/valid/images/006836.jpg  \n",
            "  inflating: /content/drive/MyDrive/my_yolov8/Conbine_dataset_3_classes-1_80-20-10-str/valid/images/007199.jpg  \n",
            "  inflating: /content/drive/MyDrive/my_yolov8/Conbine_dataset_3_classes-1_80-20-10-str/valid/images/001831.jpg  \n",
            "  inflating: /content/drive/MyDrive/my_yolov8/Conbine_dataset_3_classes-1_80-20-10-str/valid/images/004174.jpg  \n",
            "  inflating: /content/drive/MyDrive/my_yolov8/Conbine_dataset_3_classes-1_80-20-10-str/valid/images/005960.jpg  \n",
            "  inflating: /content/drive/MyDrive/my_yolov8/Conbine_dataset_3_classes-1_80-20-10-str/valid/images/001995.jpg  \n",
            "  inflating: /content/drive/MyDrive/my_yolov8/Conbine_dataset_3_classes-1_80-20-10-str/valid/images/003910.jpg  \n",
            "  inflating: /content/drive/MyDrive/my_yolov8/Conbine_dataset_3_classes-1_80-20-10-str/valid/images/001727.jpg  \n",
            "  inflating: /content/drive/MyDrive/my_yolov8/Conbine_dataset_3_classes-1_80-20-10-str/valid/images/005877.jpg  \n",
            "  inflating: /content/drive/MyDrive/my_yolov8/Conbine_dataset_3_classes-1_80-20-10-str/valid/images/004984.jpg  \n",
            "  inflating: /content/drive/MyDrive/my_yolov8/Conbine_dataset_3_classes-1_80-20-10-str/valid/images/001786.jpg  \n",
            "  inflating: /content/drive/MyDrive/my_yolov8/Conbine_dataset_3_classes-1_80-20-10-str/valid/images/004488.jpg  \n",
            "  inflating: /content/drive/MyDrive/my_yolov8/Conbine_dataset_3_classes-1_80-20-10-str/valid/images/003485.jpg  \n",
            "  inflating: /content/drive/MyDrive/my_yolov8/Conbine_dataset_3_classes-1_80-20-10-str/valid/images/001700.jpg  \n",
            "  inflating: /content/drive/MyDrive/my_yolov8/Conbine_dataset_3_classes-1_80-20-10-str/valid/images/003970.jpg  \n",
            "  inflating: /content/drive/MyDrive/my_yolov8/Conbine_dataset_3_classes-1_80-20-10-str/valid/images/004696.jpg  \n",
            "  inflating: /content/drive/MyDrive/my_yolov8/Conbine_dataset_3_classes-1_80-20-10-str/valid/images/000058.jpg  \n",
            "  inflating: /content/drive/MyDrive/my_yolov8/Conbine_dataset_3_classes-1_80-20-10-str/valid/images/000129.jpg  \n",
            "  inflating: /content/drive/MyDrive/my_yolov8/Conbine_dataset_3_classes-1_80-20-10-str/valid/images/005437.jpg  \n",
            "  inflating: /content/drive/MyDrive/my_yolov8/Conbine_dataset_3_classes-1_80-20-10-str/valid/images/003773.jpg  \n",
            "  inflating: /content/drive/MyDrive/my_yolov8/Conbine_dataset_3_classes-1_80-20-10-str/valid/images/006612.jpg  \n",
            "  inflating: /content/drive/MyDrive/my_yolov8/Conbine_dataset_3_classes-1_80-20-10-str/valid/images/002765.jpg  \n",
            "  inflating: /content/drive/MyDrive/my_yolov8/Conbine_dataset_3_classes-1_80-20-10-str/valid/images/002079.jpg  \n",
            "  inflating: /content/drive/MyDrive/my_yolov8/Conbine_dataset_3_classes-1_80-20-10-str/valid/images/002598.jpg  \n",
            "  inflating: /content/drive/MyDrive/my_yolov8/Conbine_dataset_3_classes-1_80-20-10-str/valid/images/002372.jpg  \n",
            "  inflating: /content/drive/MyDrive/my_yolov8/Conbine_dataset_3_classes-1_80-20-10-str/valid/images/002603.jpg  \n",
            "  inflating: /content/drive/MyDrive/my_yolov8/Conbine_dataset_3_classes-1_80-20-10-str/valid/images/002263.jpg  \n",
            "  inflating: /content/drive/MyDrive/my_yolov8/Conbine_dataset_3_classes-1_80-20-10-str/valid/images/003848.jpg  \n",
            "  inflating: /content/drive/MyDrive/my_yolov8/Conbine_dataset_3_classes-1_80-20-10-str/valid/images/004013.jpg  \n",
            "  inflating: /content/drive/MyDrive/my_yolov8/Conbine_dataset_3_classes-1_80-20-10-str/valid/images/000249.jpg  \n",
            "  inflating: /content/drive/MyDrive/my_yolov8/Conbine_dataset_3_classes-1_80-20-10-str/valid/images/003772.jpg  \n",
            "  inflating: /content/drive/MyDrive/my_yolov8/Conbine_dataset_3_classes-1_80-20-10-str/valid/images/004294.jpg  \n",
            "  inflating: /content/drive/MyDrive/my_yolov8/Conbine_dataset_3_classes-1_80-20-10-str/valid/images/002003.jpg  \n",
            "  inflating: /content/drive/MyDrive/my_yolov8/Conbine_dataset_3_classes-1_80-20-10-str/valid/images/003922.jpg  \n",
            "  inflating: /content/drive/MyDrive/my_yolov8/Conbine_dataset_3_classes-1_80-20-10-str/valid/images/003929.jpg  \n",
            "  inflating: /content/drive/MyDrive/my_yolov8/Conbine_dataset_3_classes-1_80-20-10-str/valid/images/000816.jpg  \n",
            "  inflating: /content/drive/MyDrive/my_yolov8/Conbine_dataset_3_classes-1_80-20-10-str/valid/images/000614.jpg  \n",
            "  inflating: /content/drive/MyDrive/my_yolov8/Conbine_dataset_3_classes-1_80-20-10-str/valid/images/001466.jpg  \n",
            "  inflating: /content/drive/MyDrive/my_yolov8/Conbine_dataset_3_classes-1_80-20-10-str/valid/images/003294.jpg  \n",
            "  inflating: /content/drive/MyDrive/my_yolov8/Conbine_dataset_3_classes-1_80-20-10-str/valid/images/004398.jpg  \n",
            "  inflating: /content/drive/MyDrive/my_yolov8/Conbine_dataset_3_classes-1_80-20-10-str/valid/images/001682.jpg  \n",
            "  inflating: /content/drive/MyDrive/my_yolov8/Conbine_dataset_3_classes-1_80-20-10-str/valid/images/006277.jpg  \n",
            "  inflating: /content/drive/MyDrive/my_yolov8/Conbine_dataset_3_classes-1_80-20-10-str/valid/images/004810.jpg  \n",
            "  inflating: /content/drive/MyDrive/my_yolov8/Conbine_dataset_3_classes-1_80-20-10-str/valid/images/006028.jpg  \n",
            "  inflating: /content/drive/MyDrive/my_yolov8/Conbine_dataset_3_classes-1_80-20-10-str/valid/images/005285.jpg  \n",
            "  inflating: /content/drive/MyDrive/my_yolov8/Conbine_dataset_3_classes-1_80-20-10-str/valid/images/004476.jpg  \n",
            "  inflating: /content/drive/MyDrive/my_yolov8/Conbine_dataset_3_classes-1_80-20-10-str/valid/images/001877.jpg  \n",
            "  inflating: /content/drive/MyDrive/my_yolov8/Conbine_dataset_3_classes-1_80-20-10-str/valid/images/002345.jpg  \n",
            "  inflating: /content/drive/MyDrive/my_yolov8/Conbine_dataset_3_classes-1_80-20-10-str/valid/images/003540.jpg  \n",
            "  inflating: /content/drive/MyDrive/my_yolov8/Conbine_dataset_3_classes-1_80-20-10-str/valid/images/004972.jpg  \n",
            "  inflating: /content/drive/MyDrive/my_yolov8/Conbine_dataset_3_classes-1_80-20-10-str/valid/images/006626.jpg  \n",
            "  inflating: /content/drive/MyDrive/my_yolov8/Conbine_dataset_3_classes-1_80-20-10-str/valid/images/006908.jpg  \n",
            "  inflating: /content/drive/MyDrive/my_yolov8/Conbine_dataset_3_classes-1_80-20-10-str/valid/images/004046.jpg  \n",
            "  inflating: /content/drive/MyDrive/my_yolov8/Conbine_dataset_3_classes-1_80-20-10-str/valid/images/001336.jpg  \n",
            "  inflating: /content/drive/MyDrive/my_yolov8/Conbine_dataset_3_classes-1_80-20-10-str/valid/images/000859.jpg  \n",
            "  inflating: /content/drive/MyDrive/my_yolov8/Conbine_dataset_3_classes-1_80-20-10-str/valid/images/001345.jpg  \n",
            "  inflating: /content/drive/MyDrive/my_yolov8/Conbine_dataset_3_classes-1_80-20-10-str/valid/images/003684.jpg  \n",
            "  inflating: /content/drive/MyDrive/my_yolov8/Conbine_dataset_3_classes-1_80-20-10-str/valid/images/002426.jpg  \n",
            "  inflating: /content/drive/MyDrive/my_yolov8/Conbine_dataset_3_classes-1_80-20-10-str/valid/images/003648.jpg  \n",
            "  inflating: /content/drive/MyDrive/my_yolov8/Conbine_dataset_3_classes-1_80-20-10-str/valid/images/001340.jpg  \n",
            "  inflating: /content/drive/MyDrive/my_yolov8/Conbine_dataset_3_classes-1_80-20-10-str/valid/images/002288.jpg  \n",
            "  inflating: /content/drive/MyDrive/my_yolov8/Conbine_dataset_3_classes-1_80-20-10-str/valid/images/006625.jpg  \n",
            "  inflating: /content/drive/MyDrive/my_yolov8/Conbine_dataset_3_classes-1_80-20-10-str/valid/images/001554.jpg  \n",
            "  inflating: /content/drive/MyDrive/my_yolov8/Conbine_dataset_3_classes-1_80-20-10-str/valid/images/004063.jpg  \n",
            "  inflating: /content/drive/MyDrive/my_yolov8/Conbine_dataset_3_classes-1_80-20-10-str/valid/images/001349.jpg  \n",
            "  inflating: /content/drive/MyDrive/my_yolov8/Conbine_dataset_3_classes-1_80-20-10-str/valid/images/001158.jpg  \n",
            "  inflating: /content/drive/MyDrive/my_yolov8/Conbine_dataset_3_classes-1_80-20-10-str/valid/images/006555.jpg  \n",
            "  inflating: /content/drive/MyDrive/my_yolov8/Conbine_dataset_3_classes-1_80-20-10-str/valid/images/007162.jpg  \n",
            "  inflating: /content/drive/MyDrive/my_yolov8/Conbine_dataset_3_classes-1_80-20-10-str/valid/images/003981.jpg  \n",
            "  inflating: /content/drive/MyDrive/my_yolov8/Conbine_dataset_3_classes-1_80-20-10-str/valid/images/001404.jpg  \n",
            "  inflating: /content/drive/MyDrive/my_yolov8/Conbine_dataset_3_classes-1_80-20-10-str/valid/images/000573.jpg  \n",
            "  inflating: /content/drive/MyDrive/my_yolov8/Conbine_dataset_3_classes-1_80-20-10-str/valid/images/005943.jpg  \n",
            "  inflating: /content/drive/MyDrive/my_yolov8/Conbine_dataset_3_classes-1_80-20-10-str/valid/images/006172.jpg  \n",
            "  inflating: /content/drive/MyDrive/my_yolov8/Conbine_dataset_3_classes-1_80-20-10-str/valid/images/005995.jpg  \n",
            "  inflating: /content/drive/MyDrive/my_yolov8/Conbine_dataset_3_classes-1_80-20-10-str/valid/images/006600.jpg  \n",
            "  inflating: /content/drive/MyDrive/my_yolov8/Conbine_dataset_3_classes-1_80-20-10-str/valid/images/000102.jpg  \n",
            "  inflating: /content/drive/MyDrive/my_yolov8/Conbine_dataset_3_classes-1_80-20-10-str/valid/images/003259.jpg  \n",
            "  inflating: /content/drive/MyDrive/my_yolov8/Conbine_dataset_3_classes-1_80-20-10-str/valid/images/005361.jpg  \n",
            "  inflating: /content/drive/MyDrive/my_yolov8/Conbine_dataset_3_classes-1_80-20-10-str/valid/images/003444.jpg  \n",
            "  inflating: /content/drive/MyDrive/my_yolov8/Conbine_dataset_3_classes-1_80-20-10-str/valid/images/003745.jpg  \n",
            "  inflating: /content/drive/MyDrive/my_yolov8/Conbine_dataset_3_classes-1_80-20-10-str/valid/images/002713.jpg  \n",
            "  inflating: /content/drive/MyDrive/my_yolov8/Conbine_dataset_3_classes-1_80-20-10-str/valid/images/001328.jpg  \n",
            "  inflating: /content/drive/MyDrive/my_yolov8/Conbine_dataset_3_classes-1_80-20-10-str/valid/images/000212.jpg  \n",
            "  inflating: /content/drive/MyDrive/my_yolov8/Conbine_dataset_3_classes-1_80-20-10-str/valid/images/000429.jpg  \n",
            "  inflating: /content/drive/MyDrive/my_yolov8/Conbine_dataset_3_classes-1_80-20-10-str/valid/images/003967.jpg  \n",
            "  inflating: /content/drive/MyDrive/my_yolov8/Conbine_dataset_3_classes-1_80-20-10-str/valid/images/000504.jpg  \n",
            "  inflating: /content/drive/MyDrive/my_yolov8/Conbine_dataset_3_classes-1_80-20-10-str/valid/images/002738.jpg  \n",
            "  inflating: /content/drive/MyDrive/my_yolov8/Conbine_dataset_3_classes-1_80-20-10-str/valid/images/001027.jpg  \n",
            "  inflating: /content/drive/MyDrive/my_yolov8/Conbine_dataset_3_classes-1_80-20-10-str/valid/images/002163.jpg  \n",
            "  inflating: /content/drive/MyDrive/my_yolov8/Conbine_dataset_3_classes-1_80-20-10-str/valid/images/003691.jpg  \n",
            "  inflating: /content/drive/MyDrive/my_yolov8/Conbine_dataset_3_classes-1_80-20-10-str/valid/images/000256.jpg  \n",
            "  inflating: /content/drive/MyDrive/my_yolov8/Conbine_dataset_3_classes-1_80-20-10-str/valid/images/002524.jpg  \n",
            "  inflating: /content/drive/MyDrive/my_yolov8/Conbine_dataset_3_classes-1_80-20-10-str/valid/images/000758.jpg  \n",
            "  inflating: /content/drive/MyDrive/my_yolov8/Conbine_dataset_3_classes-1_80-20-10-str/valid/images/000273.jpg  \n",
            "  inflating: /content/drive/MyDrive/my_yolov8/Conbine_dataset_3_classes-1_80-20-10-str/valid/images/001040.jpg  \n",
            "  inflating: /content/drive/MyDrive/my_yolov8/Conbine_dataset_3_classes-1_80-20-10-str/valid/images/006707.jpg  \n",
            "  inflating: /content/drive/MyDrive/my_yolov8/Conbine_dataset_3_classes-1_80-20-10-str/valid/images/005512.jpg  \n",
            "  inflating: /content/drive/MyDrive/my_yolov8/Conbine_dataset_3_classes-1_80-20-10-str/valid/images/004552.jpg  \n",
            "  inflating: /content/drive/MyDrive/my_yolov8/Conbine_dataset_3_classes-1_80-20-10-str/valid/images/002812.jpg  \n",
            "  inflating: /content/drive/MyDrive/my_yolov8/Conbine_dataset_3_classes-1_80-20-10-str/valid/images/003297.jpg  \n",
            "  inflating: /content/drive/MyDrive/my_yolov8/Conbine_dataset_3_classes-1_80-20-10-str/valid/images/003653.jpg  \n",
            "  inflating: /content/drive/MyDrive/my_yolov8/Conbine_dataset_3_classes-1_80-20-10-str/valid/images/002229.jpg  \n",
            "  inflating: /content/drive/MyDrive/my_yolov8/Conbine_dataset_3_classes-1_80-20-10-str/valid/images/002384.jpg  \n",
            "  inflating: /content/drive/MyDrive/my_yolov8/Conbine_dataset_3_classes-1_80-20-10-str/valid/images/006818.jpg  \n",
            "  inflating: /content/drive/MyDrive/my_yolov8/Conbine_dataset_3_classes-1_80-20-10-str/valid/images/002542.jpg  \n",
            "  inflating: /content/drive/MyDrive/my_yolov8/Conbine_dataset_3_classes-1_80-20-10-str/valid/images/005579.jpg  \n",
            "  inflating: /content/drive/MyDrive/my_yolov8/Conbine_dataset_3_classes-1_80-20-10-str/valid/images/005677.jpg  \n",
            "  inflating: /content/drive/MyDrive/my_yolov8/Conbine_dataset_3_classes-1_80-20-10-str/valid/images/004876.jpg  \n",
            "  inflating: /content/drive/MyDrive/my_yolov8/Conbine_dataset_3_classes-1_80-20-10-str/valid/images/005298.jpg  \n",
            "  inflating: /content/drive/MyDrive/my_yolov8/Conbine_dataset_3_classes-1_80-20-10-str/valid/images/005898.jpg  \n",
            "  inflating: /content/drive/MyDrive/my_yolov8/Conbine_dataset_3_classes-1_80-20-10-str/valid/images/005238.jpg  \n",
            "  inflating: /content/drive/MyDrive/my_yolov8/Conbine_dataset_3_classes-1_80-20-10-str/valid/images/004756.jpg  \n",
            "  inflating: /content/drive/MyDrive/my_yolov8/Conbine_dataset_3_classes-1_80-20-10-str/valid/images/005619.jpg  \n",
            "  inflating: /content/drive/MyDrive/my_yolov8/Conbine_dataset_3_classes-1_80-20-10-str/valid/images/001904.jpg  \n",
            "  inflating: /content/drive/MyDrive/my_yolov8/Conbine_dataset_3_classes-1_80-20-10-str/valid/images/005815.jpg  \n",
            "  inflating: /content/drive/MyDrive/my_yolov8/Conbine_dataset_3_classes-1_80-20-10-str/valid/images/001168.jpg  \n",
            "  inflating: /content/drive/MyDrive/my_yolov8/Conbine_dataset_3_classes-1_80-20-10-str/valid/images/006757.jpg  \n",
            "  inflating: /content/drive/MyDrive/my_yolov8/Conbine_dataset_3_classes-1_80-20-10-str/valid/images/003251.jpg  \n",
            "  inflating: /content/drive/MyDrive/my_yolov8/Conbine_dataset_3_classes-1_80-20-10-str/valid/images/000602.jpg  \n",
            "  inflating: /content/drive/MyDrive/my_yolov8/Conbine_dataset_3_classes-1_80-20-10-str/valid/images/000976.jpg  \n",
            "  inflating: /content/drive/MyDrive/my_yolov8/Conbine_dataset_3_classes-1_80-20-10-str/valid/images/003504.jpg  \n",
            "  inflating: /content/drive/MyDrive/my_yolov8/Conbine_dataset_3_classes-1_80-20-10-str/valid/images/003014.jpg  \n",
            "  inflating: /content/drive/MyDrive/my_yolov8/Conbine_dataset_3_classes-1_80-20-10-str/valid/images/000577.jpg  \n",
            "  inflating: /content/drive/MyDrive/my_yolov8/Conbine_dataset_3_classes-1_80-20-10-str/valid/images/004790.jpg  \n",
            "  inflating: /content/drive/MyDrive/my_yolov8/Conbine_dataset_3_classes-1_80-20-10-str/valid/images/000752.jpg  \n",
            "  inflating: /content/drive/MyDrive/my_yolov8/Conbine_dataset_3_classes-1_80-20-10-str/valid/images/002049.jpg  \n",
            "  inflating: /content/drive/MyDrive/my_yolov8/Conbine_dataset_3_classes-1_80-20-10-str/valid/images/004387.jpg  \n",
            "  inflating: /content/drive/MyDrive/my_yolov8/Conbine_dataset_3_classes-1_80-20-10-str/valid/images/000138.jpg  \n",
            "  inflating: /content/drive/MyDrive/my_yolov8/Conbine_dataset_3_classes-1_80-20-10-str/valid/images/004712.jpg  \n",
            "  inflating: /content/drive/MyDrive/my_yolov8/Conbine_dataset_3_classes-1_80-20-10-str/valid/images/000774.jpg  \n",
            "  inflating: /content/drive/MyDrive/my_yolov8/Conbine_dataset_3_classes-1_80-20-10-str/valid/images/000529.jpg  \n",
            "  inflating: /content/drive/MyDrive/my_yolov8/Conbine_dataset_3_classes-1_80-20-10-str/valid/images/000410.jpg  \n",
            "  inflating: /content/drive/MyDrive/my_yolov8/Conbine_dataset_3_classes-1_80-20-10-str/valid/images/001517.jpg  \n",
            "  inflating: /content/drive/MyDrive/my_yolov8/Conbine_dataset_3_classes-1_80-20-10-str/valid/images/001289.jpg  \n",
            "  inflating: /content/drive/MyDrive/my_yolov8/Conbine_dataset_3_classes-1_80-20-10-str/valid/images/006318.jpg  \n",
            "  inflating: /content/drive/MyDrive/my_yolov8/Conbine_dataset_3_classes-1_80-20-10-str/valid/images/007006.jpg  \n",
            "  inflating: /content/drive/MyDrive/my_yolov8/Conbine_dataset_3_classes-1_80-20-10-str/valid/images/000434.jpg  \n",
            "  inflating: /content/drive/MyDrive/my_yolov8/Conbine_dataset_3_classes-1_80-20-10-str/valid/images/002991.jpg  \n",
            "  inflating: /content/drive/MyDrive/my_yolov8/Conbine_dataset_3_classes-1_80-20-10-str/valid/images/000435.jpg  \n",
            "  inflating: /content/drive/MyDrive/my_yolov8/Conbine_dataset_3_classes-1_80-20-10-str/valid/images/006749.jpg  \n",
            "  inflating: /content/drive/MyDrive/my_yolov8/Conbine_dataset_3_classes-1_80-20-10-str/valid/images/005541.jpg  \n",
            "  inflating: /content/drive/MyDrive/my_yolov8/Conbine_dataset_3_classes-1_80-20-10-str/valid/images/007003.jpg  \n",
            "  inflating: /content/drive/MyDrive/my_yolov8/Conbine_dataset_3_classes-1_80-20-10-str/valid/images/001196.jpg  \n",
            "  inflating: /content/drive/MyDrive/my_yolov8/Conbine_dataset_3_classes-1_80-20-10-str/valid/images/002816.jpg  \n",
            "  inflating: /content/drive/MyDrive/my_yolov8/Conbine_dataset_3_classes-1_80-20-10-str/valid/images/002825.jpg  \n",
            "  inflating: /content/drive/MyDrive/my_yolov8/Conbine_dataset_3_classes-1_80-20-10-str/valid/images/004344.jpg  \n",
            "  inflating: /content/drive/MyDrive/my_yolov8/Conbine_dataset_3_classes-1_80-20-10-str/valid/images/000983.jpg  \n",
            "  inflating: /content/drive/MyDrive/my_yolov8/Conbine_dataset_3_classes-1_80-20-10-str/valid/images/004823.jpg  \n",
            "  inflating: /content/drive/MyDrive/my_yolov8/Conbine_dataset_3_classes-1_80-20-10-str/valid/images/003521.jpg  \n",
            "  inflating: /content/drive/MyDrive/my_yolov8/Conbine_dataset_3_classes-1_80-20-10-str/valid/images/001773.jpg  \n",
            "  inflating: /content/drive/MyDrive/my_yolov8/Conbine_dataset_3_classes-1_80-20-10-str/valid/images/005515.jpg  \n",
            "  inflating: /content/drive/MyDrive/my_yolov8/Conbine_dataset_3_classes-1_80-20-10-str/valid/images/001639.jpg  \n",
            "  inflating: /content/drive/MyDrive/my_yolov8/Conbine_dataset_3_classes-1_80-20-10-str/valid/images/004395.jpg  \n",
            "  inflating: /content/drive/MyDrive/my_yolov8/Conbine_dataset_3_classes-1_80-20-10-str/valid/images/000964.jpg  \n",
            "  inflating: /content/drive/MyDrive/my_yolov8/Conbine_dataset_3_classes-1_80-20-10-str/valid/images/005452.jpg  \n",
            "  inflating: /content/drive/MyDrive/my_yolov8/Conbine_dataset_3_classes-1_80-20-10-str/valid/images/005671.jpg  \n",
            "  inflating: /content/drive/MyDrive/my_yolov8/Conbine_dataset_3_classes-1_80-20-10-str/valid/images/004044.jpg  \n",
            "  inflating: /content/drive/MyDrive/my_yolov8/Conbine_dataset_3_classes-1_80-20-10-str/valid/images/003235.jpg  \n",
            "  inflating: /content/drive/MyDrive/my_yolov8/Conbine_dataset_3_classes-1_80-20-10-str/valid/images/007101.jpg  \n",
            "  inflating: /content/drive/MyDrive/my_yolov8/Conbine_dataset_3_classes-1_80-20-10-str/valid/images/003103.jpg  \n",
            "  inflating: /content/drive/MyDrive/my_yolov8/Conbine_dataset_3_classes-1_80-20-10-str/valid/images/006573.jpg  \n",
            "  inflating: /content/drive/MyDrive/my_yolov8/Conbine_dataset_3_classes-1_80-20-10-str/valid/images/004660.jpg  \n",
            "  inflating: /content/drive/MyDrive/my_yolov8/Conbine_dataset_3_classes-1_80-20-10-str/valid/images/001974.jpg  \n",
            "  inflating: /content/drive/MyDrive/my_yolov8/Conbine_dataset_3_classes-1_80-20-10-str/valid/images/002764.jpg  \n",
            "  inflating: /content/drive/MyDrive/my_yolov8/Conbine_dataset_3_classes-1_80-20-10-str/valid/images/004583.jpg  \n",
            "  inflating: /content/drive/MyDrive/my_yolov8/Conbine_dataset_3_classes-1_80-20-10-str/valid/images/005774.jpg  \n",
            "  inflating: /content/drive/MyDrive/my_yolov8/Conbine_dataset_3_classes-1_80-20-10-str/valid/images/000021.jpg  \n",
            "  inflating: /content/drive/MyDrive/my_yolov8/Conbine_dataset_3_classes-1_80-20-10-str/valid/images/001327.jpg  \n",
            "  inflating: /content/drive/MyDrive/my_yolov8/Conbine_dataset_3_classes-1_80-20-10-str/valid/images/002681.jpg  \n",
            "  inflating: /content/drive/MyDrive/my_yolov8/Conbine_dataset_3_classes-1_80-20-10-str/valid/images/006753.jpg  \n",
            "  inflating: /content/drive/MyDrive/my_yolov8/Conbine_dataset_3_classes-1_80-20-10-str/valid/images/001607.jpg  \n",
            "  inflating: /content/drive/MyDrive/my_yolov8/Conbine_dataset_3_classes-1_80-20-10-str/valid/images/002792.jpg  \n",
            "  inflating: /content/drive/MyDrive/my_yolov8/Conbine_dataset_3_classes-1_80-20-10-str/valid/images/006032.jpg  \n",
            "  inflating: /content/drive/MyDrive/my_yolov8/Conbine_dataset_3_classes-1_80-20-10-str/valid/images/005346.jpg  \n",
            "  inflating: /content/drive/MyDrive/my_yolov8/Conbine_dataset_3_classes-1_80-20-10-str/valid/images/003267.jpg  \n",
            "  inflating: /content/drive/MyDrive/my_yolov8/Conbine_dataset_3_classes-1_80-20-10-str/valid/images/003197.jpg  \n",
            "  inflating: /content/drive/MyDrive/my_yolov8/Conbine_dataset_3_classes-1_80-20-10-str/valid/images/003570.jpg  \n",
            "  inflating: /content/drive/MyDrive/my_yolov8/Conbine_dataset_3_classes-1_80-20-10-str/valid/images/006763.jpg  \n",
            "  inflating: /content/drive/MyDrive/my_yolov8/Conbine_dataset_3_classes-1_80-20-10-str/valid/images/007063.jpg  \n",
            "  inflating: /content/drive/MyDrive/my_yolov8/Conbine_dataset_3_classes-1_80-20-10-str/valid/images/005608.jpg  \n",
            "  inflating: /content/drive/MyDrive/my_yolov8/Conbine_dataset_3_classes-1_80-20-10-str/valid/images/002649.jpg  \n",
            "  inflating: /content/drive/MyDrive/my_yolov8/Conbine_dataset_3_classes-1_80-20-10-str/valid/images/006728.jpg  \n",
            "  inflating: /content/drive/MyDrive/my_yolov8/Conbine_dataset_3_classes-1_80-20-10-str/valid/images/001117.jpg  \n",
            "  inflating: /content/drive/MyDrive/my_yolov8/Conbine_dataset_3_classes-1_80-20-10-str/valid/images/000286.jpg  \n",
            "  inflating: /content/drive/MyDrive/my_yolov8/Conbine_dataset_3_classes-1_80-20-10-str/valid/images/006971.jpg  \n",
            "  inflating: /content/drive/MyDrive/my_yolov8/Conbine_dataset_3_classes-1_80-20-10-str/valid/images/002101.jpg  \n",
            "  inflating: /content/drive/MyDrive/my_yolov8/Conbine_dataset_3_classes-1_80-20-10-str/valid/images/003698.jpg  \n",
            "  inflating: /content/drive/MyDrive/my_yolov8/Conbine_dataset_3_classes-1_80-20-10-str/valid/images/005155.jpg  \n",
            "  inflating: /content/drive/MyDrive/my_yolov8/Conbine_dataset_3_classes-1_80-20-10-str/valid/images/006920.jpg  \n",
            "  inflating: /content/drive/MyDrive/my_yolov8/Conbine_dataset_3_classes-1_80-20-10-str/valid/images/003008.jpg  \n",
            "  inflating: /content/drive/MyDrive/my_yolov8/Conbine_dataset_3_classes-1_80-20-10-str/valid/images/000733.jpg  \n",
            "  inflating: /content/drive/MyDrive/my_yolov8/Conbine_dataset_3_classes-1_80-20-10-str/valid/images/001769.jpg  \n",
            "  inflating: /content/drive/MyDrive/my_yolov8/Conbine_dataset_3_classes-1_80-20-10-str/valid/images/007177.jpg  \n",
            "  inflating: /content/drive/MyDrive/my_yolov8/Conbine_dataset_3_classes-1_80-20-10-str/valid/images/003645.jpg  \n",
            "  inflating: /content/drive/MyDrive/my_yolov8/Conbine_dataset_3_classes-1_80-20-10-str/valid/images/005981.jpg  \n",
            "  inflating: /content/drive/MyDrive/my_yolov8/Conbine_dataset_3_classes-1_80-20-10-str/valid/images/000390.jpg  \n",
            "  inflating: /content/drive/MyDrive/my_yolov8/Conbine_dataset_3_classes-1_80-20-10-str/valid/images/000087.jpg  \n",
            "  inflating: /content/drive/MyDrive/my_yolov8/Conbine_dataset_3_classes-1_80-20-10-str/valid/images/001299.jpg  \n",
            "  inflating: /content/drive/MyDrive/my_yolov8/Conbine_dataset_3_classes-1_80-20-10-str/valid/images/002492.jpg  \n",
            "  inflating: /content/drive/MyDrive/my_yolov8/Conbine_dataset_3_classes-1_80-20-10-str/valid/images/003452.jpg  \n",
            "  inflating: /content/drive/MyDrive/my_yolov8/Conbine_dataset_3_classes-1_80-20-10-str/valid/images/000144.jpg  \n",
            "  inflating: /content/drive/MyDrive/my_yolov8/Conbine_dataset_3_classes-1_80-20-10-str/valid/images/006255.jpg  \n",
            "  inflating: /content/drive/MyDrive/my_yolov8/Conbine_dataset_3_classes-1_80-20-10-str/valid/images/005814.jpg  \n",
            "  inflating: /content/drive/MyDrive/my_yolov8/Conbine_dataset_3_classes-1_80-20-10-str/valid/images/001587.jpg  \n",
            "  inflating: /content/drive/MyDrive/my_yolov8/Conbine_dataset_3_classes-1_80-20-10-str/valid/images/001521.jpg  \n",
            "  inflating: /content/drive/MyDrive/my_yolov8/Conbine_dataset_3_classes-1_80-20-10-str/valid/images/006984.jpg  \n",
            "  inflating: /content/drive/MyDrive/my_yolov8/Conbine_dataset_3_classes-1_80-20-10-str/valid/images/003139.jpg  \n",
            "  inflating: /content/drive/MyDrive/my_yolov8/Conbine_dataset_3_classes-1_80-20-10-str/valid/images/002413.jpg  \n",
            "  inflating: /content/drive/MyDrive/my_yolov8/Conbine_dataset_3_classes-1_80-20-10-str/valid/images/005776.jpg  \n",
            "  inflating: /content/drive/MyDrive/my_yolov8/Conbine_dataset_3_classes-1_80-20-10-str/valid/images/001719.jpg  \n",
            "  inflating: /content/drive/MyDrive/my_yolov8/Conbine_dataset_3_classes-1_80-20-10-str/valid/images/001304.jpg  \n",
            "  inflating: /content/drive/MyDrive/my_yolov8/Conbine_dataset_3_classes-1_80-20-10-str/valid/images/001106.jpg  \n",
            "  inflating: /content/drive/MyDrive/my_yolov8/Conbine_dataset_3_classes-1_80-20-10-str/valid/images/005797.jpg  \n",
            "  inflating: /content/drive/MyDrive/my_yolov8/Conbine_dataset_3_classes-1_80-20-10-str/valid/images/001662.jpg  \n",
            "  inflating: /content/drive/MyDrive/my_yolov8/Conbine_dataset_3_classes-1_80-20-10-str/valid/images/004354.jpg  \n",
            "  inflating: /content/drive/MyDrive/my_yolov8/Conbine_dataset_3_classes-1_80-20-10-str/valid/images/004363.jpg  \n",
            "  inflating: /content/drive/MyDrive/my_yolov8/Conbine_dataset_3_classes-1_80-20-10-str/valid/images/004495.jpg  \n",
            "  inflating: /content/drive/MyDrive/my_yolov8/Conbine_dataset_3_classes-1_80-20-10-str/valid/images/002041.jpg  \n",
            "  inflating: /content/drive/MyDrive/my_yolov8/Conbine_dataset_3_classes-1_80-20-10-str/valid/images/005442.jpg  \n",
            "  inflating: /content/drive/MyDrive/my_yolov8/Conbine_dataset_3_classes-1_80-20-10-str/valid/images/007146.jpg  \n",
            "  inflating: /content/drive/MyDrive/my_yolov8/Conbine_dataset_3_classes-1_80-20-10-str/valid/images/002266.jpg  \n",
            "  inflating: /content/drive/MyDrive/my_yolov8/Conbine_dataset_3_classes-1_80-20-10-str/valid/images/002425.jpg  \n",
            "  inflating: /content/drive/MyDrive/my_yolov8/Conbine_dataset_3_classes-1_80-20-10-str/valid/images/002378.jpg  \n",
            "  inflating: /content/drive/MyDrive/my_yolov8/Conbine_dataset_3_classes-1_80-20-10-str/valid/images/001101.jpg  \n",
            "  inflating: /content/drive/MyDrive/my_yolov8/Conbine_dataset_3_classes-1_80-20-10-str/valid/images/002117.jpg  \n",
            "  inflating: /content/drive/MyDrive/my_yolov8/Conbine_dataset_3_classes-1_80-20-10-str/valid/images/004231.jpg  \n",
            "  inflating: /content/drive/MyDrive/my_yolov8/Conbine_dataset_3_classes-1_80-20-10-str/valid/images/003313.jpg  \n",
            "  inflating: /content/drive/MyDrive/my_yolov8/Conbine_dataset_3_classes-1_80-20-10-str/valid/images/007249.jpg  \n",
            "  inflating: /content/drive/MyDrive/my_yolov8/Conbine_dataset_3_classes-1_80-20-10-str/valid/images/005827.jpg  \n",
            "  inflating: /content/drive/MyDrive/my_yolov8/Conbine_dataset_3_classes-1_80-20-10-str/valid/images/002510.jpg  \n",
            "  inflating: /content/drive/MyDrive/my_yolov8/Conbine_dataset_3_classes-1_80-20-10-str/valid/images/005446.jpg  \n",
            "  inflating: /content/drive/MyDrive/my_yolov8/Conbine_dataset_3_classes-1_80-20-10-str/valid/images/006933.jpg  \n",
            "  inflating: /content/drive/MyDrive/my_yolov8/Conbine_dataset_3_classes-1_80-20-10-str/valid/images/002549.jpg  \n",
            "  inflating: /content/drive/MyDrive/my_yolov8/Conbine_dataset_3_classes-1_80-20-10-str/valid/images/002085.jpg  \n",
            "  inflating: /content/drive/MyDrive/my_yolov8/Conbine_dataset_3_classes-1_80-20-10-str/valid/images/002602.jpg  \n",
            "  inflating: /content/drive/MyDrive/my_yolov8/Conbine_dataset_3_classes-1_80-20-10-str/valid/images/003660.jpg  \n",
            "  inflating: /content/drive/MyDrive/my_yolov8/Conbine_dataset_3_classes-1_80-20-10-str/valid/images/002441.jpg  \n",
            "  inflating: /content/drive/MyDrive/my_yolov8/Conbine_dataset_3_classes-1_80-20-10-str/valid/images/005959.jpg  \n",
            "  inflating: /content/drive/MyDrive/my_yolov8/Conbine_dataset_3_classes-1_80-20-10-str/valid/images/005955.jpg  \n",
            "  inflating: /content/drive/MyDrive/my_yolov8/Conbine_dataset_3_classes-1_80-20-10-str/valid/images/007152.jpg  \n",
            "  inflating: /content/drive/MyDrive/my_yolov8/Conbine_dataset_3_classes-1_80-20-10-str/valid/images/002012.jpg  \n",
            "  inflating: /content/drive/MyDrive/my_yolov8/Conbine_dataset_3_classes-1_80-20-10-str/valid/images/004722.jpg  \n",
            "  inflating: /content/drive/MyDrive/my_yolov8/Conbine_dataset_3_classes-1_80-20-10-str/valid/images/006698.jpg  \n",
            "  inflating: /content/drive/MyDrive/my_yolov8/Conbine_dataset_3_classes-1_80-20-10-str/valid/images/001844.jpg  \n",
            "  inflating: /content/drive/MyDrive/my_yolov8/Conbine_dataset_3_classes-1_80-20-10-str/valid/images/004452.jpg  \n",
            "  inflating: /content/drive/MyDrive/my_yolov8/Conbine_dataset_3_classes-1_80-20-10-str/valid/images/002061.jpg  \n",
            "  inflating: /content/drive/MyDrive/my_yolov8/Conbine_dataset_3_classes-1_80-20-10-str/valid/images/007044.jpg  \n",
            "  inflating: /content/drive/MyDrive/my_yolov8/Conbine_dataset_3_classes-1_80-20-10-str/valid/images/006338.jpg  \n",
            "  inflating: /content/drive/MyDrive/my_yolov8/Conbine_dataset_3_classes-1_80-20-10-str/valid/images/004698.jpg  \n",
            "  inflating: /content/drive/MyDrive/my_yolov8/Conbine_dataset_3_classes-1_80-20-10-str/valid/images/001286.jpg  \n",
            "  inflating: /content/drive/MyDrive/my_yolov8/Conbine_dataset_3_classes-1_80-20-10-str/valid/images/005468.jpg  \n",
            "  inflating: /content/drive/MyDrive/my_yolov8/Conbine_dataset_3_classes-1_80-20-10-str/valid/images/001707.jpg  \n",
            "  inflating: /content/drive/MyDrive/my_yolov8/Conbine_dataset_3_classes-1_80-20-10-str/valid/images/001167.jpg  \n",
            "  inflating: /content/drive/MyDrive/my_yolov8/Conbine_dataset_3_classes-1_80-20-10-str/valid/images/001383.jpg  \n",
            "  inflating: /content/drive/MyDrive/my_yolov8/Conbine_dataset_3_classes-1_80-20-10-str/valid/images/006462.jpg  \n",
            "  inflating: /content/drive/MyDrive/my_yolov8/Conbine_dataset_3_classes-1_80-20-10-str/valid/images/003224.jpg  \n",
            "  inflating: /content/drive/MyDrive/my_yolov8/Conbine_dataset_3_classes-1_80-20-10-str/valid/images/004704.jpg  \n",
            "  inflating: /content/drive/MyDrive/my_yolov8/Conbine_dataset_3_classes-1_80-20-10-str/valid/images/000186.jpg  \n",
            "  inflating: /content/drive/MyDrive/my_yolov8/Conbine_dataset_3_classes-1_80-20-10-str/valid/images/001510.jpg  \n",
            "  inflating: /content/drive/MyDrive/my_yolov8/Conbine_dataset_3_classes-1_80-20-10-str/valid/images/002528.jpg  \n",
            "  inflating: /content/drive/MyDrive/my_yolov8/Conbine_dataset_3_classes-1_80-20-10-str/valid/images/000281.jpg  \n",
            "  inflating: /content/drive/MyDrive/my_yolov8/Conbine_dataset_3_classes-1_80-20-10-str/valid/images/000911.jpg  \n",
            "  inflating: /content/drive/MyDrive/my_yolov8/Conbine_dataset_3_classes-1_80-20-10-str/valid/images/000845.jpg  \n",
            "  inflating: /content/drive/MyDrive/my_yolov8/Conbine_dataset_3_classes-1_80-20-10-str/valid/images/006177.jpg  \n",
            "  inflating: /content/drive/MyDrive/my_yolov8/Conbine_dataset_3_classes-1_80-20-10-str/valid/images/005126.jpg  \n",
            "  inflating: /content/drive/MyDrive/my_yolov8/Conbine_dataset_3_classes-1_80-20-10-str/valid/images/002346.jpg  \n",
            "  inflating: /content/drive/MyDrive/my_yolov8/Conbine_dataset_3_classes-1_80-20-10-str/valid/images/004055.jpg  \n",
            "  inflating: /content/drive/MyDrive/my_yolov8/Conbine_dataset_3_classes-1_80-20-10-str/valid/images/005553.jpg  \n",
            "  inflating: /content/drive/MyDrive/my_yolov8/Conbine_dataset_3_classes-1_80-20-10-str/valid/images/002476.jpg  \n",
            "  inflating: /content/drive/MyDrive/my_yolov8/Conbine_dataset_3_classes-1_80-20-10-str/valid/images/004766.jpg  \n",
            "  inflating: /content/drive/MyDrive/my_yolov8/Conbine_dataset_3_classes-1_80-20-10-str/valid/images/006914.jpg  \n",
            "  inflating: /content/drive/MyDrive/my_yolov8/Conbine_dataset_3_classes-1_80-20-10-str/valid/images/000629.jpg  \n",
            "  inflating: /content/drive/MyDrive/my_yolov8/Conbine_dataset_3_classes-1_80-20-10-str/valid/images/006741.jpg  \n",
            "  inflating: /content/drive/MyDrive/my_yolov8/Conbine_dataset_3_classes-1_80-20-10-str/valid/images/000411.jpg  \n",
            "  inflating: /content/drive/MyDrive/my_yolov8/Conbine_dataset_3_classes-1_80-20-10-str/valid/images/002760.jpg  \n",
            "  inflating: /content/drive/MyDrive/my_yolov8/Conbine_dataset_3_classes-1_80-20-10-str/valid/images/005254.jpg  \n",
            "  inflating: /content/drive/MyDrive/my_yolov8/Conbine_dataset_3_classes-1_80-20-10-str/valid/images/002998.jpg  \n",
            "  inflating: /content/drive/MyDrive/my_yolov8/Conbine_dataset_3_classes-1_80-20-10-str/valid/images/003703.jpg  \n",
            "  inflating: /content/drive/MyDrive/my_yolov8/Conbine_dataset_3_classes-1_80-20-10-str/valid/images/001210.jpg  \n",
            "  inflating: /content/drive/MyDrive/my_yolov8/Conbine_dataset_3_classes-1_80-20-10-str/valid/images/002298.jpg  \n",
            "  inflating: /content/drive/MyDrive/my_yolov8/Conbine_dataset_3_classes-1_80-20-10-str/valid/images/000653.jpg  \n",
            "  inflating: /content/drive/MyDrive/my_yolov8/Conbine_dataset_3_classes-1_80-20-10-str/valid/images/004736.jpg  \n",
            "  inflating: /content/drive/MyDrive/my_yolov8/Conbine_dataset_3_classes-1_80-20-10-str/valid/images/004643.jpg  \n",
            "  inflating: /content/drive/MyDrive/my_yolov8/Conbine_dataset_3_classes-1_80-20-10-str/valid/images/000303.jpg  \n",
            "  inflating: /content/drive/MyDrive/my_yolov8/Conbine_dataset_3_classes-1_80-20-10-str/valid/images/003085.jpg  \n",
            "  inflating: /content/drive/MyDrive/my_yolov8/Conbine_dataset_3_classes-1_80-20-10-str/valid/images/006935.jpg  \n",
            "  inflating: /content/drive/MyDrive/my_yolov8/Conbine_dataset_3_classes-1_80-20-10-str/valid/images/006951.jpg  \n",
            "  inflating: /content/drive/MyDrive/my_yolov8/Conbine_dataset_3_classes-1_80-20-10-str/valid/images/002469.jpg  \n",
            "  inflating: /content/drive/MyDrive/my_yolov8/Conbine_dataset_3_classes-1_80-20-10-str/valid/images/002399.jpg  \n",
            "  inflating: /content/drive/MyDrive/my_yolov8/Conbine_dataset_3_classes-1_80-20-10-str/valid/images/002914.jpg  \n",
            "  inflating: /content/drive/MyDrive/my_yolov8/Conbine_dataset_3_classes-1_80-20-10-str/valid/images/004542.jpg  \n",
            "  inflating: /content/drive/MyDrive/my_yolov8/Conbine_dataset_3_classes-1_80-20-10-str/valid/images/000307.jpg  \n",
            "  inflating: /content/drive/MyDrive/my_yolov8/Conbine_dataset_3_classes-1_80-20-10-str/valid/images/001451.jpg  \n",
            "  inflating: /content/drive/MyDrive/my_yolov8/Conbine_dataset_3_classes-1_80-20-10-str/valid/images/004393.jpg  \n",
            "  inflating: /content/drive/MyDrive/my_yolov8/Conbine_dataset_3_classes-1_80-20-10-str/valid/images/005789.jpg  \n",
            "  inflating: /content/drive/MyDrive/my_yolov8/Conbine_dataset_3_classes-1_80-20-10-str/valid/images/006043.jpg  \n",
            "  inflating: /content/drive/MyDrive/my_yolov8/Conbine_dataset_3_classes-1_80-20-10-str/valid/images/000515.jpg  \n",
            "  inflating: /content/drive/MyDrive/my_yolov8/Conbine_dataset_3_classes-1_80-20-10-str/valid/images/002801.jpg  \n",
            "  inflating: /content/drive/MyDrive/my_yolov8/Conbine_dataset_3_classes-1_80-20-10-str/valid/images/005089.jpg  \n",
            "  inflating: /content/drive/MyDrive/my_yolov8/Conbine_dataset_3_classes-1_80-20-10-str/valid/images/005812.jpg  \n",
            "  inflating: /content/drive/MyDrive/my_yolov8/Conbine_dataset_3_classes-1_80-20-10-str/valid/images/007009.jpg  \n",
            "  inflating: /content/drive/MyDrive/my_yolov8/Conbine_dataset_3_classes-1_80-20-10-str/valid/images/004154.jpg  \n",
            "  inflating: /content/drive/MyDrive/my_yolov8/Conbine_dataset_3_classes-1_80-20-10-str/valid/images/003849.jpg  \n",
            "  inflating: /content/drive/MyDrive/my_yolov8/Conbine_dataset_3_classes-1_80-20-10-str/valid/images/000552.jpg  \n",
            "  inflating: /content/drive/MyDrive/my_yolov8/Conbine_dataset_3_classes-1_80-20-10-str/valid/images/002450.jpg  \n",
            "  inflating: /content/drive/MyDrive/my_yolov8/Conbine_dataset_3_classes-1_80-20-10-str/valid/images/006332.jpg  \n",
            "  inflating: /content/drive/MyDrive/my_yolov8/Conbine_dataset_3_classes-1_80-20-10-str/valid/images/003369.jpg  \n",
            "  inflating: /content/drive/MyDrive/my_yolov8/Conbine_dataset_3_classes-1_80-20-10-str/valid/images/000091.jpg  \n",
            "  inflating: /content/drive/MyDrive/my_yolov8/Conbine_dataset_3_classes-1_80-20-10-str/valid/images/006570.jpg  \n",
            "  inflating: /content/drive/MyDrive/my_yolov8/Conbine_dataset_3_classes-1_80-20-10-str/valid/images/001529.jpg  \n",
            "  inflating: /content/drive/MyDrive/my_yolov8/Conbine_dataset_3_classes-1_80-20-10-str/valid/images/000857.jpg  \n",
            "  inflating: /content/drive/MyDrive/my_yolov8/Conbine_dataset_3_classes-1_80-20-10-str/valid/images/003419.jpg  \n",
            "  inflating: /content/drive/MyDrive/my_yolov8/Conbine_dataset_3_classes-1_80-20-10-str/valid/images/007008.jpg  \n",
            "  inflating: /content/drive/MyDrive/my_yolov8/Conbine_dataset_3_classes-1_80-20-10-str/valid/images/006099.jpg  \n",
            "  inflating: /content/drive/MyDrive/my_yolov8/Conbine_dataset_3_classes-1_80-20-10-str/valid/images/002776.jpg  \n",
            "  inflating: /content/drive/MyDrive/my_yolov8/Conbine_dataset_3_classes-1_80-20-10-str/valid/images/002899.jpg  \n",
            "  inflating: /content/drive/MyDrive/my_yolov8/Conbine_dataset_3_classes-1_80-20-10-str/valid/images/004748.jpg  \n",
            "  inflating: /content/drive/MyDrive/my_yolov8/Conbine_dataset_3_classes-1_80-20-10-str/valid/images/002250.jpg  \n",
            "  inflating: /content/drive/MyDrive/my_yolov8/Conbine_dataset_3_classes-1_80-20-10-str/valid/images/003404.jpg  \n",
            "  inflating: /content/drive/MyDrive/my_yolov8/Conbine_dataset_3_classes-1_80-20-10-str/valid/images/000475.jpg  \n",
            "  inflating: /content/drive/MyDrive/my_yolov8/Conbine_dataset_3_classes-1_80-20-10-str/valid/images/006676.jpg  \n",
            "  inflating: /content/drive/MyDrive/my_yolov8/Conbine_dataset_3_classes-1_80-20-10-str/valid/images/007014.jpg  \n",
            "  inflating: /content/drive/MyDrive/my_yolov8/Conbine_dataset_3_classes-1_80-20-10-str/valid/images/004761.jpg  \n",
            "  inflating: /content/drive/MyDrive/my_yolov8/Conbine_dataset_3_classes-1_80-20-10-str/valid/images/001171.jpg  \n",
            "  inflating: /content/drive/MyDrive/my_yolov8/Conbine_dataset_3_classes-1_80-20-10-str/valid/images/005032.jpg  \n",
            "  inflating: /content/drive/MyDrive/my_yolov8/Conbine_dataset_3_classes-1_80-20-10-str/valid/images/006849.jpg  \n",
            "  inflating: /content/drive/MyDrive/my_yolov8/Conbine_dataset_3_classes-1_80-20-10-str/valid/images/003925.jpg  \n",
            "  inflating: /content/drive/MyDrive/my_yolov8/Conbine_dataset_3_classes-1_80-20-10-str/valid/images/003013.jpg  \n",
            "  inflating: /content/drive/MyDrive/my_yolov8/Conbine_dataset_3_classes-1_80-20-10-str/valid/images/006604.jpg  \n",
            "  inflating: /content/drive/MyDrive/my_yolov8/Conbine_dataset_3_classes-1_80-20-10-str/valid/images/004325.jpg  \n",
            "  inflating: /content/drive/MyDrive/my_yolov8/Conbine_dataset_3_classes-1_80-20-10-str/valid/images/000218.jpg  \n",
            "  inflating: /content/drive/MyDrive/my_yolov8/Conbine_dataset_3_classes-1_80-20-10-str/valid/images/005763.jpg  \n",
            "  inflating: /content/drive/MyDrive/my_yolov8/Conbine_dataset_3_classes-1_80-20-10-str/valid/images/006221.jpg  \n",
            "  inflating: /content/drive/MyDrive/my_yolov8/Conbine_dataset_3_classes-1_80-20-10-str/valid/images/000386.jpg  \n",
            "  inflating: /content/drive/MyDrive/my_yolov8/Conbine_dataset_3_classes-1_80-20-10-str/valid/images/004775.jpg  \n",
            "  inflating: /content/drive/MyDrive/my_yolov8/Conbine_dataset_3_classes-1_80-20-10-str/valid/images/005724.jpg  \n",
            "  inflating: /content/drive/MyDrive/my_yolov8/Conbine_dataset_3_classes-1_80-20-10-str/valid/images/004250.jpg  \n",
            "  inflating: /content/drive/MyDrive/my_yolov8/Conbine_dataset_3_classes-1_80-20-10-str/valid/images/006656.jpg  \n",
            "  inflating: /content/drive/MyDrive/my_yolov8/Conbine_dataset_3_classes-1_80-20-10-str/valid/images/001885.jpg  \n",
            "  inflating: /content/drive/MyDrive/my_yolov8/Conbine_dataset_3_classes-1_80-20-10-str/valid/images/002730.jpg  \n",
            "  inflating: /content/drive/MyDrive/my_yolov8/Conbine_dataset_3_classes-1_80-20-10-str/valid/images/000995.jpg  \n",
            "  inflating: /content/drive/MyDrive/my_yolov8/Conbine_dataset_3_classes-1_80-20-10-str/valid/images/003977.jpg  \n",
            "  inflating: /content/drive/MyDrive/my_yolov8/Conbine_dataset_3_classes-1_80-20-10-str/valid/images/005416.jpg  \n",
            "  inflating: /content/drive/MyDrive/my_yolov8/Conbine_dataset_3_classes-1_80-20-10-str/valid/images/000904.jpg  \n",
            "  inflating: /content/drive/MyDrive/my_yolov8/Conbine_dataset_3_classes-1_80-20-10-str/valid/images/003723.jpg  \n",
            "  inflating: /content/drive/MyDrive/my_yolov8/Conbine_dataset_3_classes-1_80-20-10-str/valid/images/000449.jpg  \n",
            "  inflating: /content/drive/MyDrive/my_yolov8/Conbine_dataset_3_classes-1_80-20-10-str/valid/images/007034.jpg  \n",
            "  inflating: /content/drive/MyDrive/my_yolov8/Conbine_dataset_3_classes-1_80-20-10-str/valid/images/000017.jpg  \n",
            "  inflating: /content/drive/MyDrive/my_yolov8/Conbine_dataset_3_classes-1_80-20-10-str/valid/images/000315.jpg  \n",
            "  inflating: /content/drive/MyDrive/my_yolov8/Conbine_dataset_3_classes-1_80-20-10-str/valid/images/002624.jpg  \n",
            "  inflating: /content/drive/MyDrive/my_yolov8/Conbine_dataset_3_classes-1_80-20-10-str/valid/images/004884.jpg  \n",
            "  inflating: /content/drive/MyDrive/my_yolov8/Conbine_dataset_3_classes-1_80-20-10-str/valid/images/005479.jpg  \n",
            "  inflating: /content/drive/MyDrive/my_yolov8/Conbine_dataset_3_classes-1_80-20-10-str/valid/images/002920.jpg  \n",
            "  inflating: /content/drive/MyDrive/my_yolov8/Conbine_dataset_3_classes-1_80-20-10-str/valid/images/004510.jpg  \n",
            "  inflating: /content/drive/MyDrive/my_yolov8/Conbine_dataset_3_classes-1_80-20-10-str/valid/images/005456.jpg  \n",
            "  inflating: /content/drive/MyDrive/my_yolov8/Conbine_dataset_3_classes-1_80-20-10-str/valid/images/001659.jpg  \n",
            "  inflating: /content/drive/MyDrive/my_yolov8/Conbine_dataset_3_classes-1_80-20-10-str/valid/images/007081.jpg  \n",
            "  inflating: /content/drive/MyDrive/my_yolov8/Conbine_dataset_3_classes-1_80-20-10-str/valid/images/006465.jpg  \n",
            "  inflating: /content/drive/MyDrive/my_yolov8/Conbine_dataset_3_classes-1_80-20-10-str/valid/images/000051.jpg  \n",
            "  inflating: /content/drive/MyDrive/my_yolov8/Conbine_dataset_3_classes-1_80-20-10-str/valid/images/000708.jpg  \n",
            "  inflating: /content/drive/MyDrive/my_yolov8/Conbine_dataset_3_classes-1_80-20-10-str/valid/images/005247.jpg  \n",
            "  inflating: /content/drive/MyDrive/my_yolov8/Conbine_dataset_3_classes-1_80-20-10-str/valid/images/004251.jpg  \n",
            "  inflating: /content/drive/MyDrive/my_yolov8/Conbine_dataset_3_classes-1_80-20-10-str/valid/images/004253.jpg  \n",
            "  inflating: /content/drive/MyDrive/my_yolov8/Conbine_dataset_3_classes-1_80-20-10-str/valid/images/000707.jpg  \n",
            "  inflating: /content/drive/MyDrive/my_yolov8/Conbine_dataset_3_classes-1_80-20-10-str/valid/images/003956.jpg  \n",
            "  inflating: /content/drive/MyDrive/my_yolov8/Conbine_dataset_3_classes-1_80-20-10-str/valid/images/000054.jpg  \n",
            "  inflating: /content/drive/MyDrive/my_yolov8/Conbine_dataset_3_classes-1_80-20-10-str/valid/images/000894.jpg  \n",
            "  inflating: /content/drive/MyDrive/my_yolov8/Conbine_dataset_3_classes-1_80-20-10-str/valid/images/003351.jpg  \n",
            "  inflating: /content/drive/MyDrive/my_yolov8/Conbine_dataset_3_classes-1_80-20-10-str/valid/images/005991.jpg  \n",
            "  inflating: /content/drive/MyDrive/my_yolov8/Conbine_dataset_3_classes-1_80-20-10-str/valid/images/005881.jpg  \n",
            "  inflating: /content/drive/MyDrive/my_yolov8/Conbine_dataset_3_classes-1_80-20-10-str/valid/images/007136.jpg  \n",
            "  inflating: /content/drive/MyDrive/my_yolov8/Conbine_dataset_3_classes-1_80-20-10-str/valid/images/001970.jpg  \n",
            "  inflating: /content/drive/MyDrive/my_yolov8/Conbine_dataset_3_classes-1_80-20-10-str/valid/images/004033.jpg  \n",
            "  inflating: /content/drive/MyDrive/my_yolov8/Conbine_dataset_3_classes-1_80-20-10-str/valid/images/006891.jpg  \n",
            "  inflating: /content/drive/MyDrive/my_yolov8/Conbine_dataset_3_classes-1_80-20-10-str/valid/images/005563.jpg  \n",
            "  inflating: /content/drive/MyDrive/my_yolov8/Conbine_dataset_3_classes-1_80-20-10-str/valid/images/002135.jpg  \n",
            "  inflating: /content/drive/MyDrive/my_yolov8/Conbine_dataset_3_classes-1_80-20-10-str/valid/images/006454.jpg  \n",
            "  inflating: /content/drive/MyDrive/my_yolov8/Conbine_dataset_3_classes-1_80-20-10-str/valid/images/006156.jpg  \n",
            "  inflating: /content/drive/MyDrive/my_yolov8/Conbine_dataset_3_classes-1_80-20-10-str/valid/images/005507.jpg  \n",
            "  inflating: /content/drive/MyDrive/my_yolov8/Conbine_dataset_3_classes-1_80-20-10-str/valid/images/005304.jpg  \n",
            "  inflating: /content/drive/MyDrive/my_yolov8/Conbine_dataset_3_classes-1_80-20-10-str/valid/images/000505.jpg  \n",
            "  inflating: /content/drive/MyDrive/my_yolov8/Conbine_dataset_3_classes-1_80-20-10-str/valid/images/003983.jpg  \n",
            "  inflating: /content/drive/MyDrive/my_yolov8/Conbine_dataset_3_classes-1_80-20-10-str/valid/images/003592.jpg  \n",
            "  inflating: /content/drive/MyDrive/my_yolov8/Conbine_dataset_3_classes-1_80-20-10-str/valid/images/001561.jpg  \n",
            "  inflating: /content/drive/MyDrive/my_yolov8/Conbine_dataset_3_classes-1_80-20-10-str/valid/images/006610.jpg  \n",
            "  inflating: /content/drive/MyDrive/my_yolov8/Conbine_dataset_3_classes-1_80-20-10-str/valid/images/001856.jpg  \n",
            "  inflating: /content/drive/MyDrive/my_yolov8/Conbine_dataset_3_classes-1_80-20-10-str/valid/images/005291.jpg  \n",
            "  inflating: /content/drive/MyDrive/my_yolov8/Conbine_dataset_3_classes-1_80-20-10-str/valid/images/006736.jpg  \n",
            "  inflating: /content/drive/MyDrive/my_yolov8/Conbine_dataset_3_classes-1_80-20-10-str/valid/images/004522.jpg  \n",
            "  inflating: /content/drive/MyDrive/my_yolov8/Conbine_dataset_3_classes-1_80-20-10-str/valid/images/004381.jpg  \n",
            "  inflating: /content/drive/MyDrive/my_yolov8/Conbine_dataset_3_classes-1_80-20-10-str/valid/images/000510.jpg  \n",
            "  inflating: /content/drive/MyDrive/my_yolov8/Conbine_dataset_3_classes-1_80-20-10-str/valid/images/002284.jpg  \n",
            "  inflating: /content/drive/MyDrive/my_yolov8/Conbine_dataset_3_classes-1_80-20-10-str/valid/images/000099.jpg  \n",
            "  inflating: /content/drive/MyDrive/my_yolov8/Conbine_dataset_3_classes-1_80-20-10-str/valid/images/007255.jpg  \n",
            "  inflating: /content/drive/MyDrive/my_yolov8/Conbine_dataset_3_classes-1_80-20-10-str/valid/images/006691.jpg  \n",
            "  inflating: /content/drive/MyDrive/my_yolov8/Conbine_dataset_3_classes-1_80-20-10-str/valid/images/002689.jpg  \n",
            "  inflating: /content/drive/MyDrive/my_yolov8/Conbine_dataset_3_classes-1_80-20-10-str/valid/images/007088.jpg  \n",
            "  inflating: /content/drive/MyDrive/my_yolov8/Conbine_dataset_3_classes-1_80-20-10-str/valid/images/005641.jpg  \n",
            "  inflating: /content/drive/MyDrive/my_yolov8/Conbine_dataset_3_classes-1_80-20-10-str/valid/images/006369.jpg  \n",
            "  inflating: /content/drive/MyDrive/my_yolov8/Conbine_dataset_3_classes-1_80-20-10-str/valid/images/005965.jpg  \n",
            "  inflating: /content/drive/MyDrive/my_yolov8/Conbine_dataset_3_classes-1_80-20-10-str/valid/images/005237.jpg  \n",
            "  inflating: /content/drive/MyDrive/my_yolov8/Conbine_dataset_3_classes-1_80-20-10-str/valid/images/004785.jpg  \n",
            "  inflating: /content/drive/MyDrive/my_yolov8/Conbine_dataset_3_classes-1_80-20-10-str/valid/images/003148.jpg  \n",
            "  inflating: /content/drive/MyDrive/my_yolov8/Conbine_dataset_3_classes-1_80-20-10-str/valid/images/006244.jpg  \n",
            "  inflating: /content/drive/MyDrive/my_yolov8/Conbine_dataset_3_classes-1_80-20-10-str/valid/images/000691.jpg  \n",
            "  inflating: /content/drive/MyDrive/my_yolov8/Conbine_dataset_3_classes-1_80-20-10-str/valid/images/002419.jpg  \n",
            "  inflating: /content/drive/MyDrive/my_yolov8/Conbine_dataset_3_classes-1_80-20-10-str/valid/images/001494.jpg  \n",
            "  inflating: /content/drive/MyDrive/my_yolov8/Conbine_dataset_3_classes-1_80-20-10-str/valid/images/007111.jpg  \n",
            "  inflating: /content/drive/MyDrive/my_yolov8/Conbine_dataset_3_classes-1_80-20-10-str/valid/images/006377.jpg  \n",
            "  inflating: /content/drive/MyDrive/my_yolov8/Conbine_dataset_3_classes-1_80-20-10-str/valid/images/000237.jpg  \n",
            "  inflating: /content/drive/MyDrive/my_yolov8/Conbine_dataset_3_classes-1_80-20-10-str/valid/images/003227.jpg  \n",
            "  inflating: /content/drive/MyDrive/my_yolov8/Conbine_dataset_3_classes-1_80-20-10-str/valid/images/000375.jpg  \n",
            "  inflating: /content/drive/MyDrive/my_yolov8/Conbine_dataset_3_classes-1_80-20-10-str/valid/images/003523.jpg  \n",
            "  inflating: /content/drive/MyDrive/my_yolov8/Conbine_dataset_3_classes-1_80-20-10-str/valid/images/002547.jpg  \n",
            "  inflating: /content/drive/MyDrive/my_yolov8/Conbine_dataset_3_classes-1_80-20-10-str/valid/images/002613.jpg  \n",
            "  inflating: /content/drive/MyDrive/my_yolov8/Conbine_dataset_3_classes-1_80-20-10-str/valid/images/006137.jpg  \n",
            "  inflating: /content/drive/MyDrive/my_yolov8/Conbine_dataset_3_classes-1_80-20-10-str/valid/images/001028.jpg  \n",
            "  inflating: /content/drive/MyDrive/my_yolov8/Conbine_dataset_3_classes-1_80-20-10-str/valid/images/001900.jpg  \n",
            "  inflating: /content/drive/MyDrive/my_yolov8/Conbine_dataset_3_classes-1_80-20-10-str/valid/images/000616.jpg  \n",
            "  inflating: /content/drive/MyDrive/my_yolov8/Conbine_dataset_3_classes-1_80-20-10-str/valid/images/003840.jpg  \n",
            "  inflating: /content/drive/MyDrive/my_yolov8/Conbine_dataset_3_classes-1_80-20-10-str/valid/images/006953.jpg  \n",
            "  inflating: /content/drive/MyDrive/my_yolov8/Conbine_dataset_3_classes-1_80-20-10-str/valid/images/004561.jpg  \n",
            "  inflating: /content/drive/MyDrive/my_yolov8/Conbine_dataset_3_classes-1_80-20-10-str/valid/images/007218.jpg  \n",
            "  inflating: /content/drive/MyDrive/my_yolov8/Conbine_dataset_3_classes-1_80-20-10-str/valid/images/006526.jpg  \n",
            "  inflating: /content/drive/MyDrive/my_yolov8/Conbine_dataset_3_classes-1_80-20-10-str/valid/images/002267.jpg  \n",
            "  inflating: /content/drive/MyDrive/my_yolov8/Conbine_dataset_3_classes-1_80-20-10-str/valid/images/003654.jpg  \n",
            "  inflating: /content/drive/MyDrive/my_yolov8/Conbine_dataset_3_classes-1_80-20-10-str/valid/images/003228.jpg  \n",
            "  inflating: /content/drive/MyDrive/my_yolov8/Conbine_dataset_3_classes-1_80-20-10-str/valid/images/005743.jpg  \n",
            "  inflating: /content/drive/MyDrive/my_yolov8/Conbine_dataset_3_classes-1_80-20-10-str/valid/images/002541.jpg  \n",
            "  inflating: /content/drive/MyDrive/my_yolov8/Conbine_dataset_3_classes-1_80-20-10-str/valid/images/001926.jpg  \n",
            "  inflating: /content/drive/MyDrive/my_yolov8/Conbine_dataset_3_classes-1_80-20-10-str/valid/images/005386.jpg  \n",
            "  inflating: /content/drive/MyDrive/my_yolov8/Conbine_dataset_3_classes-1_80-20-10-str/valid/images/002791.jpg  \n",
            "  inflating: /content/drive/MyDrive/my_yolov8/Conbine_dataset_3_classes-1_80-20-10-str/valid/images/006895.jpg  \n",
            "  inflating: /content/drive/MyDrive/my_yolov8/Conbine_dataset_3_classes-1_80-20-10-str/valid/images/005998.jpg  \n",
            "  inflating: /content/drive/MyDrive/my_yolov8/Conbine_dataset_3_classes-1_80-20-10-str/valid/images/001668.jpg  \n",
            "  inflating: /content/drive/MyDrive/my_yolov8/Conbine_dataset_3_classes-1_80-20-10-str/valid/images/001913.jpg  \n",
            "  inflating: /content/drive/MyDrive/my_yolov8/Conbine_dataset_3_classes-1_80-20-10-str/valid/images/007056.jpg  \n",
            "  inflating: /content/drive/MyDrive/my_yolov8/Conbine_dataset_3_classes-1_80-20-10-str/valid/images/006778.jpg  \n",
            "  inflating: /content/drive/MyDrive/my_yolov8/Conbine_dataset_3_classes-1_80-20-10-str/valid/images/003686.jpg  \n",
            "  inflating: /content/drive/MyDrive/my_yolov8/Conbine_dataset_3_classes-1_80-20-10-str/valid/images/005432.jpg  \n",
            "  inflating: /content/drive/MyDrive/my_yolov8/Conbine_dataset_3_classes-1_80-20-10-str/valid/images/007225.jpg  \n",
            "  inflating: /content/drive/MyDrive/my_yolov8/Conbine_dataset_3_classes-1_80-20-10-str/valid/images/002027.jpg  \n",
            "  inflating: /content/drive/MyDrive/my_yolov8/Conbine_dataset_3_classes-1_80-20-10-str/valid/images/006047.jpg  \n",
            "  inflating: /content/drive/MyDrive/my_yolov8/Conbine_dataset_3_classes-1_80-20-10-str/valid/images/003361.jpg  \n",
            "  inflating: /content/drive/MyDrive/my_yolov8/Conbine_dataset_3_classes-1_80-20-10-str/valid/images/002729.jpg  \n",
            "  inflating: /content/drive/MyDrive/my_yolov8/Conbine_dataset_3_classes-1_80-20-10-str/valid/images/002347.jpg  \n",
            "  inflating: /content/drive/MyDrive/my_yolov8/Conbine_dataset_3_classes-1_80-20-10-str/valid/images/001564.jpg  \n",
            "  inflating: /content/drive/MyDrive/my_yolov8/Conbine_dataset_3_classes-1_80-20-10-str/valid/images/000436.jpg  \n",
            "  inflating: /content/drive/MyDrive/my_yolov8/Conbine_dataset_3_classes-1_80-20-10-str/valid/images/001525.jpg  \n",
            "  inflating: /content/drive/MyDrive/my_yolov8/Conbine_dataset_3_classes-1_80-20-10-str/valid/images/002371.jpg  \n",
            "  inflating: /content/drive/MyDrive/my_yolov8/Conbine_dataset_3_classes-1_80-20-10-str/valid/images/004378.jpg  \n",
            "  inflating: /content/drive/MyDrive/my_yolov8/Conbine_dataset_3_classes-1_80-20-10-str/valid/images/001049.jpg  \n",
            "  inflating: /content/drive/MyDrive/my_yolov8/Conbine_dataset_3_classes-1_80-20-10-str/valid/images/003078.jpg  \n",
            "  inflating: /content/drive/MyDrive/my_yolov8/Conbine_dataset_3_classes-1_80-20-10-str/valid/images/005728.jpg  \n",
            "  inflating: /content/drive/MyDrive/my_yolov8/Conbine_dataset_3_classes-1_80-20-10-str/valid/images/001130.jpg  \n",
            "  inflating: /content/drive/MyDrive/my_yolov8/Conbine_dataset_3_classes-1_80-20-10-str/valid/images/004003.jpg  \n",
            "  inflating: /content/drive/MyDrive/my_yolov8/Conbine_dataset_3_classes-1_80-20-10-str/valid/images/003463.jpg  \n",
            "  inflating: /content/drive/MyDrive/my_yolov8/Conbine_dataset_3_classes-1_80-20-10-str/valid/images/005486.jpg  \n",
            "  inflating: /content/drive/MyDrive/my_yolov8/Conbine_dataset_3_classes-1_80-20-10-str/valid/images/000283.jpg  \n",
            "  inflating: /content/drive/MyDrive/my_yolov8/Conbine_dataset_3_classes-1_80-20-10-str/valid/images/000208.jpg  \n",
            "  inflating: /content/drive/MyDrive/my_yolov8/Conbine_dataset_3_classes-1_80-20-10-str/valid/images/002330.jpg  \n",
            "  inflating: /content/drive/MyDrive/my_yolov8/Conbine_dataset_3_classes-1_80-20-10-str/valid/images/000275.jpg  \n",
            "  inflating: /content/drive/MyDrive/my_yolov8/Conbine_dataset_3_classes-1_80-20-10-str/valid/images/006319.jpg  \n",
            "  inflating: /content/drive/MyDrive/my_yolov8/Conbine_dataset_3_classes-1_80-20-10-str/valid/images/002036.jpg  \n",
            "  inflating: /content/drive/MyDrive/my_yolov8/Conbine_dataset_3_classes-1_80-20-10-str/valid/images/002558.jpg  \n",
            "  inflating: /content/drive/MyDrive/my_yolov8/Conbine_dataset_3_classes-1_80-20-10-str/valid/images/002360.jpg  \n",
            "  inflating: /content/drive/MyDrive/my_yolov8/Conbine_dataset_3_classes-1_80-20-10-str/valid/images/000335.jpg  \n",
            "  inflating: /content/drive/MyDrive/my_yolov8/Conbine_dataset_3_classes-1_80-20-10-str/valid/images/000035.jpg  \n",
            "  inflating: /content/drive/MyDrive/my_yolov8/Conbine_dataset_3_classes-1_80-20-10-str/valid/images/003233.jpg  \n",
            "  inflating: /content/drive/MyDrive/my_yolov8/Conbine_dataset_3_classes-1_80-20-10-str/valid/images/003779.jpg  \n",
            "  inflating: /content/drive/MyDrive/my_yolov8/Conbine_dataset_3_classes-1_80-20-10-str/valid/images/006291.jpg  \n",
            "  inflating: /content/drive/MyDrive/my_yolov8/Conbine_dataset_3_classes-1_80-20-10-str/valid/images/002642.jpg  \n",
            "  inflating: /content/drive/MyDrive/my_yolov8/Conbine_dataset_3_classes-1_80-20-10-str/valid/images/003892.jpg  \n",
            "  inflating: /content/drive/MyDrive/my_yolov8/Conbine_dataset_3_classes-1_80-20-10-str/valid/images/003438.jpg  \n",
            "  inflating: /content/drive/MyDrive/my_yolov8/Conbine_dataset_3_classes-1_80-20-10-str/valid/images/000795.jpg  \n",
            "  inflating: /content/drive/MyDrive/my_yolov8/Conbine_dataset_3_classes-1_80-20-10-str/valid/images/005244.jpg  \n",
            "  inflating: /content/drive/MyDrive/my_yolov8/Conbine_dataset_3_classes-1_80-20-10-str/valid/images/004836.jpg  \n",
            "  inflating: /content/drive/MyDrive/my_yolov8/Conbine_dataset_3_classes-1_80-20-10-str/valid/images/001787.jpg  \n",
            "  inflating: /content/drive/MyDrive/my_yolov8/Conbine_dataset_3_classes-1_80-20-10-str/valid/images/001008.jpg  \n",
            "  inflating: /content/drive/MyDrive/my_yolov8/Conbine_dataset_3_classes-1_80-20-10-str/valid/images/006840.jpg  \n",
            "  inflating: /content/drive/MyDrive/my_yolov8/Conbine_dataset_3_classes-1_80-20-10-str/valid/images/001849.jpg  \n",
            "  inflating: /content/drive/MyDrive/my_yolov8/Conbine_dataset_3_classes-1_80-20-10-str/valid/images/001536.jpg  \n",
            "  inflating: /content/drive/MyDrive/my_yolov8/Conbine_dataset_3_classes-1_80-20-10-str/valid/images/005471.jpg  \n",
            "  inflating: /content/drive/MyDrive/my_yolov8/Conbine_dataset_3_classes-1_80-20-10-str/valid/images/002726.jpg  \n",
            "  inflating: /content/drive/MyDrive/my_yolov8/Conbine_dataset_3_classes-1_80-20-10-str/valid/images/001938.jpg  \n",
            "  inflating: /content/drive/MyDrive/my_yolov8/Conbine_dataset_3_classes-1_80-20-10-str/valid/images/000387.jpg  \n",
            "  inflating: /content/drive/MyDrive/my_yolov8/Conbine_dataset_3_classes-1_80-20-10-str/valid/images/006817.jpg  \n",
            "  inflating: /content/drive/MyDrive/my_yolov8/Conbine_dataset_3_classes-1_80-20-10-str/valid/images/003498.jpg  \n",
            "  inflating: /content/drive/MyDrive/my_yolov8/Conbine_dataset_3_classes-1_80-20-10-str/valid/images/006791.jpg  \n",
            "  inflating: /content/drive/MyDrive/my_yolov8/Conbine_dataset_3_classes-1_80-20-10-str/valid/images/004051.jpg  \n",
            "  inflating: /content/drive/MyDrive/my_yolov8/Conbine_dataset_3_classes-1_80-20-10-str/valid/images/000706.jpg  \n",
            "  inflating: /content/drive/MyDrive/my_yolov8/Conbine_dataset_3_classes-1_80-20-10-str/valid/images/003673.jpg  \n",
            "  inflating: /content/drive/MyDrive/my_yolov8/Conbine_dataset_3_classes-1_80-20-10-str/valid/images/001320.jpg  \n",
            "  inflating: /content/drive/MyDrive/my_yolov8/Conbine_dataset_3_classes-1_80-20-10-str/valid/images/004057.jpg  \n",
            "  inflating: /content/drive/MyDrive/my_yolov8/Conbine_dataset_3_classes-1_80-20-10-str/valid/images/000769.jpg  \n",
            "  inflating: /content/drive/MyDrive/my_yolov8/Conbine_dataset_3_classes-1_80-20-10-str/valid/images/005806.jpg  \n",
            "  inflating: /content/drive/MyDrive/my_yolov8/Conbine_dataset_3_classes-1_80-20-10-str/valid/images/004298.jpg  \n",
            "  inflating: /content/drive/MyDrive/my_yolov8/Conbine_dataset_3_classes-1_80-20-10-str/valid/images/001060.jpg  \n",
            "  inflating: /content/drive/MyDrive/my_yolov8/Conbine_dataset_3_classes-1_80-20-10-str/valid/images/004993.jpg  \n",
            "  inflating: /content/drive/MyDrive/my_yolov8/Conbine_dataset_3_classes-1_80-20-10-str/valid/images/003881.jpg  \n",
            "  inflating: /content/drive/MyDrive/my_yolov8/Conbine_dataset_3_classes-1_80-20-10-str/valid/images/003533.jpg  \n",
            "  inflating: /content/drive/MyDrive/my_yolov8/Conbine_dataset_3_classes-1_80-20-10-str/valid/images/005424.jpg  \n",
            "  inflating: /content/drive/MyDrive/my_yolov8/Conbine_dataset_3_classes-1_80-20-10-str/valid/images/005947.jpg  \n",
            "  inflating: /content/drive/MyDrive/my_yolov8/Conbine_dataset_3_classes-1_80-20-10-str/valid/images/001437.jpg  \n",
            "  inflating: /content/drive/MyDrive/my_yolov8/Conbine_dataset_3_classes-1_80-20-10-str/valid/images/001534.jpg  \n",
            "  inflating: /content/drive/MyDrive/my_yolov8/Conbine_dataset_3_classes-1_80-20-10-str/valid/images/004693.jpg  \n",
            "  inflating: /content/drive/MyDrive/my_yolov8/Conbine_dataset_3_classes-1_80-20-10-str/valid/images/002497.jpg  \n",
            "  inflating: /content/drive/MyDrive/my_yolov8/Conbine_dataset_3_classes-1_80-20-10-str/valid/images/001227.jpg  \n",
            "  inflating: /content/drive/MyDrive/my_yolov8/Conbine_dataset_3_classes-1_80-20-10-str/valid/images/004464.jpg  \n",
            "  inflating: /content/drive/MyDrive/my_yolov8/Conbine_dataset_3_classes-1_80-20-10-str/valid/images/001203.jpg  \n",
            "  inflating: /content/drive/MyDrive/my_yolov8/Conbine_dataset_3_classes-1_80-20-10-str/valid/images/005070.jpg  \n",
            "  inflating: /content/drive/MyDrive/my_yolov8/Conbine_dataset_3_classes-1_80-20-10-str/valid/images/005988.jpg  \n",
            "  inflating: /content/drive/MyDrive/my_yolov8/Conbine_dataset_3_classes-1_80-20-10-str/valid/images/001927.jpg  \n",
            "  inflating: /content/drive/MyDrive/my_yolov8/Conbine_dataset_3_classes-1_80-20-10-str/valid/images/000331.jpg  \n",
            "  inflating: /content/drive/MyDrive/my_yolov8/Conbine_dataset_3_classes-1_80-20-10-str/valid/images/006165.jpg  \n",
            "  inflating: /content/drive/MyDrive/my_yolov8/Conbine_dataset_3_classes-1_80-20-10-str/valid/images/003005.jpg  \n",
            "  inflating: /content/drive/MyDrive/my_yolov8/Conbine_dataset_3_classes-1_80-20-10-str/valid/images/001907.jpg  \n",
            "  inflating: /content/drive/MyDrive/my_yolov8/Conbine_dataset_3_classes-1_80-20-10-str/valid/images/005629.jpg  \n",
            "  inflating: /content/drive/MyDrive/my_yolov8/Conbine_dataset_3_classes-1_80-20-10-str/valid/images/004616.jpg  \n",
            "  inflating: /content/drive/MyDrive/my_yolov8/Conbine_dataset_3_classes-1_80-20-10-str/valid/images/006324.jpg  \n",
            "  inflating: /content/drive/MyDrive/my_yolov8/Conbine_dataset_3_classes-1_80-20-10-str/valid/images/003721.jpg  \n",
            "  inflating: /content/drive/MyDrive/my_yolov8/Conbine_dataset_3_classes-1_80-20-10-str/valid/images/006471.jpg  \n",
            "  inflating: /content/drive/MyDrive/my_yolov8/Conbine_dataset_3_classes-1_80-20-10-str/valid/images/001867.jpg  \n",
            "  inflating: /content/drive/MyDrive/my_yolov8/Conbine_dataset_3_classes-1_80-20-10-str/valid/images/002376.jpg  \n",
            "  inflating: /content/drive/MyDrive/my_yolov8/Conbine_dataset_3_classes-1_80-20-10-str/valid/images/005980.jpg  \n",
            "  inflating: /content/drive/MyDrive/my_yolov8/Conbine_dataset_3_classes-1_80-20-10-str/valid/images/001249.jpg  \n",
            "  inflating: /content/drive/MyDrive/my_yolov8/Conbine_dataset_3_classes-1_80-20-10-str/valid/images/002320.jpg  \n",
            "  inflating: /content/drive/MyDrive/my_yolov8/Conbine_dataset_3_classes-1_80-20-10-str/valid/images/002709.jpg  \n",
            "  inflating: /content/drive/MyDrive/my_yolov8/Conbine_dataset_3_classes-1_80-20-10-str/valid/images/004667.jpg  \n",
            "  inflating: /content/drive/MyDrive/my_yolov8/Conbine_dataset_3_classes-1_80-20-10-str/valid/images/003597.jpg  \n",
            "  inflating: /content/drive/MyDrive/my_yolov8/Conbine_dataset_3_classes-1_80-20-10-str/valid/images/004170.jpg  \n",
            "  inflating: /content/drive/MyDrive/my_yolov8/Conbine_dataset_3_classes-1_80-20-10-str/valid/images/006963.jpg  \n",
            "  inflating: /content/drive/MyDrive/my_yolov8/Conbine_dataset_3_classes-1_80-20-10-str/valid/images/003011.jpg  \n",
            "  inflating: /content/drive/MyDrive/my_yolov8/Conbine_dataset_3_classes-1_80-20-10-str/valid/images/003591.jpg  \n",
            "  inflating: /content/drive/MyDrive/my_yolov8/Conbine_dataset_3_classes-1_80-20-10-str/valid/images/002381.jpg  \n",
            "  inflating: /content/drive/MyDrive/my_yolov8/Conbine_dataset_3_classes-1_80-20-10-str/valid/images/003151.jpg  \n",
            "  inflating: /content/drive/MyDrive/my_yolov8/Conbine_dataset_3_classes-1_80-20-10-str/valid/images/001436.jpg  \n",
            "  inflating: /content/drive/MyDrive/my_yolov8/Conbine_dataset_3_classes-1_80-20-10-str/valid/images/000108.jpg  \n",
            "  inflating: /content/drive/MyDrive/my_yolov8/Conbine_dataset_3_classes-1_80-20-10-str/valid/images/001443.jpg  \n",
            "  inflating: /content/drive/MyDrive/my_yolov8/Conbine_dataset_3_classes-1_80-20-10-str/valid/images/005840.jpg  \n",
            "  inflating: /content/drive/MyDrive/my_yolov8/Conbine_dataset_3_classes-1_80-20-10-str/valid/images/000745.jpg  \n",
            "  inflating: /content/drive/MyDrive/my_yolov8/Conbine_dataset_3_classes-1_80-20-10-str/valid/images/001798.jpg  \n",
            "  inflating: /content/drive/MyDrive/my_yolov8/Conbine_dataset_3_classes-1_80-20-10-str/valid/images/004388.jpg  \n",
            "  inflating: /content/drive/MyDrive/my_yolov8/Conbine_dataset_3_classes-1_80-20-10-str/valid/images/006550.jpg  \n",
            "  inflating: /content/drive/MyDrive/my_yolov8/Conbine_dataset_3_classes-1_80-20-10-str/valid/images/000750.jpg  \n",
            "  inflating: /content/drive/MyDrive/my_yolov8/Conbine_dataset_3_classes-1_80-20-10-str/valid/images/006514.jpg  \n",
            "  inflating: /content/drive/MyDrive/my_yolov8/Conbine_dataset_3_classes-1_80-20-10-str/valid/images/006665.jpg  \n",
            "  inflating: /content/drive/MyDrive/my_yolov8/Conbine_dataset_3_classes-1_80-20-10-str/valid/images/002421.jpg  \n",
            "  inflating: /content/drive/MyDrive/my_yolov8/Conbine_dataset_3_classes-1_80-20-10-str/valid/images/005555.jpg  \n",
            "  inflating: /content/drive/MyDrive/my_yolov8/Conbine_dataset_3_classes-1_80-20-10-str/valid/images/002521.jpg  \n",
            "  inflating: /content/drive/MyDrive/my_yolov8/Conbine_dataset_3_classes-1_80-20-10-str/valid/images/007240.jpg  \n",
            "  inflating: /content/drive/MyDrive/my_yolov8/Conbine_dataset_3_classes-1_80-20-10-str/valid/images/007010.jpg  \n",
            "  inflating: /content/drive/MyDrive/my_yolov8/Conbine_dataset_3_classes-1_80-20-10-str/valid/images/003943.jpg  \n",
            "  inflating: /content/drive/MyDrive/my_yolov8/Conbine_dataset_3_classes-1_80-20-10-str/valid/images/005820.jpg  \n",
            "  inflating: /content/drive/MyDrive/my_yolov8/Conbine_dataset_3_classes-1_80-20-10-str/valid/images/000520.jpg  \n",
            "  inflating: /content/drive/MyDrive/my_yolov8/Conbine_dataset_3_classes-1_80-20-10-str/valid/images/003271.jpg  \n",
            "  inflating: /content/drive/MyDrive/my_yolov8/Conbine_dataset_3_classes-1_80-20-10-str/valid/images/005625.jpg  \n",
            "  inflating: /content/drive/MyDrive/my_yolov8/Conbine_dataset_3_classes-1_80-20-10-str/valid/images/005202.jpg  \n",
            "  inflating: /content/drive/MyDrive/my_yolov8/Conbine_dataset_3_classes-1_80-20-10-str/valid/images/005626.jpg  \n",
            "  inflating: /content/drive/MyDrive/my_yolov8/Conbine_dataset_3_classes-1_80-20-10-str/valid/images/002120.jpg  \n",
            "  inflating: /content/drive/MyDrive/my_yolov8/Conbine_dataset_3_classes-1_80-20-10-str/valid/images/005595.jpg  \n",
            "  inflating: /content/drive/MyDrive/my_yolov8/Conbine_dataset_3_classes-1_80-20-10-str/valid/images/002897.jpg  \n",
            "  inflating: /content/drive/MyDrive/my_yolov8/Conbine_dataset_3_classes-1_80-20-10-str/valid/images/004054.jpg  \n",
            "  inflating: /content/drive/MyDrive/my_yolov8/Conbine_dataset_3_classes-1_80-20-10-str/valid/images/001833.jpg  \n",
            "  inflating: /content/drive/MyDrive/my_yolov8/Conbine_dataset_3_classes-1_80-20-10-str/valid/images/005108.jpg  \n",
            "  inflating: /content/drive/MyDrive/my_yolov8/Conbine_dataset_3_classes-1_80-20-10-str/valid/images/006445.jpg  \n",
            "  inflating: /content/drive/MyDrive/my_yolov8/Conbine_dataset_3_classes-1_80-20-10-str/valid/images/004469.jpg  \n",
            "  inflating: /content/drive/MyDrive/my_yolov8/Conbine_dataset_3_classes-1_80-20-10-str/valid/images/005631.jpg  \n",
            "  inflating: /content/drive/MyDrive/my_yolov8/Conbine_dataset_3_classes-1_80-20-10-str/valid/images/001640.jpg  \n",
            "  inflating: /content/drive/MyDrive/my_yolov8/Conbine_dataset_3_classes-1_80-20-10-str/valid/images/004060.jpg  \n",
            "  inflating: /content/drive/MyDrive/my_yolov8/Conbine_dataset_3_classes-1_80-20-10-str/valid/images/001050.jpg  \n",
            "  inflating: /content/drive/MyDrive/my_yolov8/Conbine_dataset_3_classes-1_80-20-10-str/valid/images/006148.jpg  \n",
            "  inflating: /content/drive/MyDrive/my_yolov8/Conbine_dataset_3_classes-1_80-20-10-str/valid/images/003050.jpg  \n",
            "  inflating: /content/drive/MyDrive/my_yolov8/Conbine_dataset_3_classes-1_80-20-10-str/valid/images/001204.jpg  \n",
            "  inflating: /content/drive/MyDrive/my_yolov8/Conbine_dataset_3_classes-1_80-20-10-str/valid/images/006432.jpg  \n",
            "  inflating: /content/drive/MyDrive/my_yolov8/Conbine_dataset_3_classes-1_80-20-10-str/valid/images/000334.jpg  \n",
            "  inflating: /content/drive/MyDrive/my_yolov8/Conbine_dataset_3_classes-1_80-20-10-str/valid/images/001902.jpg  \n",
            "  inflating: /content/drive/MyDrive/my_yolov8/Conbine_dataset_3_classes-1_80-20-10-str/valid/images/006342.jpg  \n",
            "  inflating: /content/drive/MyDrive/my_yolov8/Conbine_dataset_3_classes-1_80-20-10-str/valid/images/002078.jpg  \n",
            "  inflating: /content/drive/MyDrive/my_yolov8/Conbine_dataset_3_classes-1_80-20-10-str/valid/images/001505.jpg  \n",
            "  inflating: /content/drive/MyDrive/my_yolov8/Conbine_dataset_3_classes-1_80-20-10-str/valid/images/000914.jpg  \n",
            "  inflating: /content/drive/MyDrive/my_yolov8/Conbine_dataset_3_classes-1_80-20-10-str/valid/images/002634.jpg  \n",
            "  inflating: /content/drive/MyDrive/my_yolov8/Conbine_dataset_3_classes-1_80-20-10-str/valid/images/005176.jpg  \n",
            "  inflating: /content/drive/MyDrive/my_yolov8/Conbine_dataset_3_classes-1_80-20-10-str/valid/images/007122.jpg  \n",
            "  inflating: /content/drive/MyDrive/my_yolov8/Conbine_dataset_3_classes-1_80-20-10-str/valid/images/007246.jpg  \n",
            "  inflating: /content/drive/MyDrive/my_yolov8/Conbine_dataset_3_classes-1_80-20-10-str/valid/images/006896.jpg  \n",
            "  inflating: /content/drive/MyDrive/my_yolov8/Conbine_dataset_3_classes-1_80-20-10-str/valid/images/006119.jpg  \n",
            "  inflating: /content/drive/MyDrive/my_yolov8/Conbine_dataset_3_classes-1_80-20-10-str/valid/images/002822.jpg  \n",
            "  inflating: /content/drive/MyDrive/my_yolov8/Conbine_dataset_3_classes-1_80-20-10-str/valid/images/000296.jpg  \n",
            "  inflating: /content/drive/MyDrive/my_yolov8/Conbine_dataset_3_classes-1_80-20-10-str/valid/images/003401.jpg  \n",
            "  inflating: /content/drive/MyDrive/my_yolov8/Conbine_dataset_3_classes-1_80-20-10-str/valid/images/007254.jpg  \n",
            "  inflating: /content/drive/MyDrive/my_yolov8/Conbine_dataset_3_classes-1_80-20-10-str/valid/images/003647.jpg  \n",
            "  inflating: /content/drive/MyDrive/my_yolov8/Conbine_dataset_3_classes-1_80-20-10-str/valid/images/006590.jpg  \n",
            "  inflating: /content/drive/MyDrive/my_yolov8/Conbine_dataset_3_classes-1_80-20-10-str/valid/images/005640.jpg  \n",
            "  inflating: /content/drive/MyDrive/my_yolov8/Conbine_dataset_3_classes-1_80-20-10-str/valid/images/002084.jpg  \n",
            "  inflating: /content/drive/MyDrive/my_yolov8/Conbine_dataset_3_classes-1_80-20-10-str/valid/images/007166.jpg  \n",
            "  inflating: /content/drive/MyDrive/my_yolov8/Conbine_dataset_3_classes-1_80-20-10-str/valid/images/000763.jpg  \n",
            "  inflating: /content/drive/MyDrive/my_yolov8/Conbine_dataset_3_classes-1_80-20-10-str/valid/images/000399.jpg  \n",
            "  inflating: /content/drive/MyDrive/my_yolov8/Conbine_dataset_3_classes-1_80-20-10-str/valid/images/000491.jpg  \n",
            "  inflating: /content/drive/MyDrive/my_yolov8/Conbine_dataset_3_classes-1_80-20-10-str/valid/images/005851.jpg  \n",
            "  inflating: /content/drive/MyDrive/my_yolov8/Conbine_dataset_3_classes-1_80-20-10-str/valid/images/000607.jpg  \n",
            "  inflating: /content/drive/MyDrive/my_yolov8/Conbine_dataset_3_classes-1_80-20-10-str/valid/images/000722.jpg  \n",
            "  inflating: /content/drive/MyDrive/my_yolov8/Conbine_dataset_3_classes-1_80-20-10-str/valid/images/000564.jpg  \n",
            "  inflating: /content/drive/MyDrive/my_yolov8/Conbine_dataset_3_classes-1_80-20-10-str/valid/images/001875.jpg  \n",
            "  inflating: /content/drive/MyDrive/my_yolov8/Conbine_dataset_3_classes-1_80-20-10-str/valid/images/002526.jpg  \n",
            "  inflating: /content/drive/MyDrive/my_yolov8/Conbine_dataset_3_classes-1_80-20-10-str/valid/images/005331.jpg  \n",
            "  inflating: /content/drive/MyDrive/my_yolov8/Conbine_dataset_3_classes-1_80-20-10-str/valid/images/006962.jpg  \n",
            "  inflating: /content/drive/MyDrive/my_yolov8/Conbine_dataset_3_classes-1_80-20-10-str/valid/images/001044.jpg  \n",
            "  inflating: /content/drive/MyDrive/my_yolov8/Conbine_dataset_3_classes-1_80-20-10-str/valid/images/005408.jpg  \n",
            "  inflating: /content/drive/MyDrive/my_yolov8/Conbine_dataset_3_classes-1_80-20-10-str/valid/images/000205.jpg  \n",
            "  inflating: /content/drive/MyDrive/my_yolov8/Conbine_dataset_3_classes-1_80-20-10-str/valid/images/002317.jpg  \n",
            "  inflating: /content/drive/MyDrive/my_yolov8/Conbine_dataset_3_classes-1_80-20-10-str/valid/images/001096.jpg  \n",
            "  inflating: /content/drive/MyDrive/my_yolov8/Conbine_dataset_3_classes-1_80-20-10-str/valid/images/004758.jpg  \n",
            "  inflating: /content/drive/MyDrive/my_yolov8/Conbine_dataset_3_classes-1_80-20-10-str/valid/images/002292.jpg  \n",
            "  inflating: /content/drive/MyDrive/my_yolov8/Conbine_dataset_3_classes-1_80-20-10-str/valid/images/000517.jpg  \n",
            "  inflating: /content/drive/MyDrive/my_yolov8/Conbine_dataset_3_classes-1_80-20-10-str/valid/images/001918.jpg  \n",
            "  inflating: /content/drive/MyDrive/my_yolov8/Conbine_dataset_3_classes-1_80-20-10-str/valid/images/000572.jpg  \n",
            "  inflating: /content/drive/MyDrive/my_yolov8/Conbine_dataset_3_classes-1_80-20-10-str/valid/images/003446.jpg  \n",
            "  inflating: /content/drive/MyDrive/my_yolov8/Conbine_dataset_3_classes-1_80-20-10-str/valid/images/006166.jpg  \n",
            "  inflating: /content/drive/MyDrive/my_yolov8/Conbine_dataset_3_classes-1_80-20-10-str/valid/images/006888.jpg  \n",
            "  inflating: /content/drive/MyDrive/my_yolov8/Conbine_dataset_3_classes-1_80-20-10-str/valid/images/002409.jpg  \n",
            "  inflating: /content/drive/MyDrive/my_yolov8/Conbine_dataset_3_classes-1_80-20-10-str/valid/images/001262.jpg  \n",
            "  inflating: /content/drive/MyDrive/my_yolov8/Conbine_dataset_3_classes-1_80-20-10-str/valid/images/003782.jpg  \n",
            "  inflating: /content/drive/MyDrive/my_yolov8/Conbine_dataset_3_classes-1_80-20-10-str/valid/images/000606.jpg  \n",
            "  inflating: /content/drive/MyDrive/my_yolov8/Conbine_dataset_3_classes-1_80-20-10-str/valid/images/003781.jpg  \n",
            "  inflating: /content/drive/MyDrive/my_yolov8/Conbine_dataset_3_classes-1_80-20-10-str/valid/images/005098.jpg  \n",
            "  inflating: /content/drive/MyDrive/my_yolov8/Conbine_dataset_3_classes-1_80-20-10-str/valid/images/000724.jpg  \n",
            "  inflating: /content/drive/MyDrive/my_yolov8/Conbine_dataset_3_classes-1_80-20-10-str/valid/images/001400.jpg  \n",
            "  inflating: /content/drive/MyDrive/my_yolov8/Conbine_dataset_3_classes-1_80-20-10-str/valid/images/002644.jpg  \n",
            "  inflating: /content/drive/MyDrive/my_yolov8/Conbine_dataset_3_classes-1_80-20-10-str/valid/images/006077.jpg  \n",
            "  inflating: /content/drive/MyDrive/my_yolov8/Conbine_dataset_3_classes-1_80-20-10-str/valid/images/004707.jpg  \n",
            "  inflating: /content/drive/MyDrive/my_yolov8/Conbine_dataset_3_classes-1_80-20-10-str/valid/images/005556.jpg  \n",
            "  inflating: /content/drive/MyDrive/my_yolov8/Conbine_dataset_3_classes-1_80-20-10-str/valid/images/004478.jpg  \n",
            "  inflating: /content/drive/MyDrive/my_yolov8/Conbine_dataset_3_classes-1_80-20-10-str/valid/images/000124.jpg  \n",
            "  inflating: /content/drive/MyDrive/my_yolov8/Conbine_dataset_3_classes-1_80-20-10-str/valid/images/002965.jpg  \n",
            "  inflating: /content/drive/MyDrive/my_yolov8/Conbine_dataset_3_classes-1_80-20-10-str/valid/images/004436.jpg  \n",
            "  inflating: /content/drive/MyDrive/my_yolov8/Conbine_dataset_3_classes-1_80-20-10-str/valid/images/002167.jpg  \n",
            "  inflating: /content/drive/MyDrive/my_yolov8/Conbine_dataset_3_classes-1_80-20-10-str/valid/images/006922.jpg  \n",
            "  inflating: /content/drive/MyDrive/my_yolov8/Conbine_dataset_3_classes-1_80-20-10-str/valid/images/006627.jpg  \n",
            "  inflating: /content/drive/MyDrive/my_yolov8/Conbine_dataset_3_classes-1_80-20-10-str/valid/images/005061.jpg  \n",
            "  inflating: /content/drive/MyDrive/my_yolov8/Conbine_dataset_3_classes-1_80-20-10-str/valid/images/005587.jpg  \n",
            "  inflating: /content/drive/MyDrive/my_yolov8/Conbine_dataset_3_classes-1_80-20-10-str/valid/images/003835.jpg  \n",
            "  inflating: /content/drive/MyDrive/my_yolov8/Conbine_dataset_3_classes-1_80-20-10-str/valid/images/000605.jpg  \n",
            "  inflating: /content/drive/MyDrive/my_yolov8/Conbine_dataset_3_classes-1_80-20-10-str/valid/images/001219.jpg  \n",
            "  inflating: /content/drive/MyDrive/my_yolov8/Conbine_dataset_3_classes-1_80-20-10-str/valid/images/003852.jpg  \n",
            "  inflating: /content/drive/MyDrive/my_yolov8/Conbine_dataset_3_classes-1_80-20-10-str/valid/images/004167.jpg  \n",
            "  inflating: /content/drive/MyDrive/my_yolov8/Conbine_dataset_3_classes-1_80-20-10-str/valid/images/003784.jpg  \n",
            "  inflating: /content/drive/MyDrive/my_yolov8/Conbine_dataset_3_classes-1_80-20-10-str/valid/images/001943.jpg  \n",
            "  inflating: /content/drive/MyDrive/my_yolov8/Conbine_dataset_3_classes-1_80-20-10-str/valid/images/003357.jpg  \n",
            "  inflating: /content/drive/MyDrive/my_yolov8/Conbine_dataset_3_classes-1_80-20-10-str/valid/images/002037.jpg  \n",
            "  inflating: /content/drive/MyDrive/my_yolov8/Conbine_dataset_3_classes-1_80-20-10-str/valid/images/002620.jpg  \n",
            "  inflating: /content/drive/MyDrive/my_yolov8/Conbine_dataset_3_classes-1_80-20-10-str/valid/images/002306.jpg  \n",
            "  inflating: /content/drive/MyDrive/my_yolov8/Conbine_dataset_3_classes-1_80-20-10-str/valid/images/004975.jpg  \n",
            "  inflating: /content/drive/MyDrive/my_yolov8/Conbine_dataset_3_classes-1_80-20-10-str/valid/images/001627.jpg  \n",
            "  inflating: /content/drive/MyDrive/my_yolov8/Conbine_dataset_3_classes-1_80-20-10-str/valid/images/000533.jpg  \n",
            "  inflating: /content/drive/MyDrive/my_yolov8/Conbine_dataset_3_classes-1_80-20-10-str/valid/images/004824.jpg  \n",
            "  inflating: /content/drive/MyDrive/my_yolov8/Conbine_dataset_3_classes-1_80-20-10-str/valid/images/003469.jpg  \n",
            "  inflating: /content/drive/MyDrive/my_yolov8/Conbine_dataset_3_classes-1_80-20-10-str/valid/images/001504.jpg  \n",
            "  inflating: /content/drive/MyDrive/my_yolov8/Conbine_dataset_3_classes-1_80-20-10-str/valid/images/005029.jpg  \n",
            "  inflating: /content/drive/MyDrive/my_yolov8/Conbine_dataset_3_classes-1_80-20-10-str/valid/images/005643.jpg  \n",
            "  inflating: /content/drive/MyDrive/my_yolov8/Conbine_dataset_3_classes-1_80-20-10-str/valid/images/005059.jpg  \n",
            "  inflating: /content/drive/MyDrive/my_yolov8/Conbine_dataset_3_classes-1_80-20-10-str/valid/images/000395.jpg  \n",
            "  inflating: /content/drive/MyDrive/my_yolov8/Conbine_dataset_3_classes-1_80-20-10-str/valid/images/001011.jpg  \n",
            "  inflating: /content/drive/MyDrive/my_yolov8/Conbine_dataset_3_classes-1_80-20-10-str/valid/images/005449.jpg  \n",
            "  inflating: /content/drive/MyDrive/my_yolov8/Conbine_dataset_3_classes-1_80-20-10-str/valid/images/002259.jpg  \n",
            "  inflating: /content/drive/MyDrive/my_yolov8/Conbine_dataset_3_classes-1_80-20-10-str/valid/images/006162.jpg  \n",
            "  inflating: /content/drive/MyDrive/my_yolov8/Conbine_dataset_3_classes-1_80-20-10-str/valid/images/003237.jpg  \n",
            "  inflating: /content/drive/MyDrive/my_yolov8/Conbine_dataset_3_classes-1_80-20-10-str/valid/images/003397.jpg  \n",
            "  inflating: /content/drive/MyDrive/my_yolov8/Conbine_dataset_3_classes-1_80-20-10-str/valid/images/004764.jpg  \n",
            "  inflating: /content/drive/MyDrive/my_yolov8/Conbine_dataset_3_classes-1_80-20-10-str/valid/images/004151.jpg  \n",
            "  inflating: /content/drive/MyDrive/my_yolov8/Conbine_dataset_3_classes-1_80-20-10-str/valid/images/006796.jpg  \n",
            "  inflating: /content/drive/MyDrive/my_yolov8/Conbine_dataset_3_classes-1_80-20-10-str/valid/images/005241.jpg  \n",
            "  inflating: /content/drive/MyDrive/my_yolov8/Conbine_dataset_3_classes-1_80-20-10-str/valid/images/006758.jpg  \n",
            "  inflating: /content/drive/MyDrive/my_yolov8/Conbine_dataset_3_classes-1_80-20-10-str/valid/images/002475.jpg  \n",
            "  inflating: /content/drive/MyDrive/my_yolov8/Conbine_dataset_3_classes-1_80-20-10-str/valid/images/004683.jpg  \n",
            "  inflating: /content/drive/MyDrive/my_yolov8/Conbine_dataset_3_classes-1_80-20-10-str/valid/images/002807.jpg  \n",
            "  inflating: /content/drive/MyDrive/my_yolov8/Conbine_dataset_3_classes-1_80-20-10-str/valid/images/006217.jpg  \n",
            "  inflating: /content/drive/MyDrive/my_yolov8/Conbine_dataset_3_classes-1_80-20-10-str/valid/images/003194.jpg  \n",
            "  inflating: /content/drive/MyDrive/my_yolov8/Conbine_dataset_3_classes-1_80-20-10-str/valid/images/004171.jpg  \n",
            "  inflating: /content/drive/MyDrive/my_yolov8/Conbine_dataset_3_classes-1_80-20-10-str/valid/images/005753.jpg  \n",
            "  inflating: /content/drive/MyDrive/my_yolov8/Conbine_dataset_3_classes-1_80-20-10-str/valid/images/002786.jpg  \n",
            "  inflating: /content/drive/MyDrive/my_yolov8/Conbine_dataset_3_classes-1_80-20-10-str/valid/images/001728.jpg  \n",
            "  inflating: /content/drive/MyDrive/my_yolov8/Conbine_dataset_3_classes-1_80-20-10-str/valid/images/000083.jpg  \n",
            "  inflating: /content/drive/MyDrive/my_yolov8/Conbine_dataset_3_classes-1_80-20-10-str/valid/images/000041.jpg  \n",
            "  inflating: /content/drive/MyDrive/my_yolov8/Conbine_dataset_3_classes-1_80-20-10-str/valid/images/004996.jpg  \n",
            "  inflating: /content/drive/MyDrive/my_yolov8/Conbine_dataset_3_classes-1_80-20-10-str/valid/images/006961.jpg  \n",
            "  inflating: /content/drive/MyDrive/my_yolov8/Conbine_dataset_3_classes-1_80-20-10-str/valid/images/001694.jpg  \n",
            "  inflating: /content/drive/MyDrive/my_yolov8/Conbine_dataset_3_classes-1_80-20-10-str/valid/images/003909.jpg  \n",
            "  inflating: /content/drive/MyDrive/my_yolov8/Conbine_dataset_3_classes-1_80-20-10-str/valid/images/006274.jpg  \n",
            "  inflating: /content/drive/MyDrive/my_yolov8/Conbine_dataset_3_classes-1_80-20-10-str/valid/images/000961.jpg  \n",
            "  inflating: /content/drive/MyDrive/my_yolov8/Conbine_dataset_3_classes-1_80-20-10-str/valid/images/000853.jpg  \n",
            "  inflating: /content/drive/MyDrive/my_yolov8/Conbine_dataset_3_classes-1_80-20-10-str/valid/images/004227.jpg  \n",
            "  inflating: /content/drive/MyDrive/my_yolov8/Conbine_dataset_3_classes-1_80-20-10-str/valid/images/000332.jpg  \n",
            "  inflating: /content/drive/MyDrive/my_yolov8/Conbine_dataset_3_classes-1_80-20-10-str/valid/images/001307.jpg  \n",
            "  inflating: /content/drive/MyDrive/my_yolov8/Conbine_dataset_3_classes-1_80-20-10-str/valid/images/001686.jpg  \n",
            "  inflating: /content/drive/MyDrive/my_yolov8/Conbine_dataset_3_classes-1_80-20-10-str/valid/images/003730.jpg  \n",
            "  inflating: /content/drive/MyDrive/my_yolov8/Conbine_dataset_3_classes-1_80-20-10-str/valid/images/004868.jpg  \n",
            "  inflating: /content/drive/MyDrive/my_yolov8/Conbine_dataset_3_classes-1_80-20-10-str/valid/images/001830.jpg  \n",
            "  inflating: /content/drive/MyDrive/my_yolov8/Conbine_dataset_3_classes-1_80-20-10-str/valid/images/003427.jpg  \n",
            "  inflating: /content/drive/MyDrive/my_yolov8/Conbine_dataset_3_classes-1_80-20-10-str/valid/images/003916.jpg  \n",
            "  inflating: /content/drive/MyDrive/my_yolov8/Conbine_dataset_3_classes-1_80-20-10-str/valid/images/005731.jpg  \n",
            "  inflating: /content/drive/MyDrive/my_yolov8/Conbine_dataset_3_classes-1_80-20-10-str/valid/images/006731.jpg  \n",
            "  inflating: /content/drive/MyDrive/my_yolov8/Conbine_dataset_3_classes-1_80-20-10-str/valid/images/006197.jpg  \n",
            "  inflating: /content/drive/MyDrive/my_yolov8/Conbine_dataset_3_classes-1_80-20-10-str/valid/images/006986.jpg  \n",
            "  inflating: /content/drive/MyDrive/my_yolov8/Conbine_dataset_3_classes-1_80-20-10-str/valid/images/002234.jpg  \n",
            "  inflating: /content/drive/MyDrive/my_yolov8/Conbine_dataset_3_classes-1_80-20-10-str/valid/images/005940.jpg  \n",
            "  inflating: /content/drive/MyDrive/my_yolov8/Conbine_dataset_3_classes-1_80-20-10-str/valid/images/004326.jpg  \n",
            "  inflating: /content/drive/MyDrive/my_yolov8/Conbine_dataset_3_classes-1_80-20-10-str/valid/images/005257.jpg  \n",
            "  inflating: /content/drive/MyDrive/my_yolov8/Conbine_dataset_3_classes-1_80-20-10-str/valid/images/002676.jpg  \n",
            "  inflating: /content/drive/MyDrive/my_yolov8/Conbine_dataset_3_classes-1_80-20-10-str/valid/images/006390.jpg  \n",
            "  inflating: /content/drive/MyDrive/my_yolov8/Conbine_dataset_3_classes-1_80-20-10-str/valid/images/002044.jpg  \n",
            "  inflating: /content/drive/MyDrive/my_yolov8/Conbine_dataset_3_classes-1_80-20-10-str/valid/images/001843.jpg  \n",
            "  inflating: /content/drive/MyDrive/my_yolov8/Conbine_dataset_3_classes-1_80-20-10-str/valid/images/002460.jpg  \n",
            "  inflating: /content/drive/MyDrive/my_yolov8/Conbine_dataset_3_classes-1_80-20-10-str/valid/images/005807.jpg  \n",
            "  inflating: /content/drive/MyDrive/my_yolov8/Conbine_dataset_3_classes-1_80-20-10-str/valid/images/004551.jpg  \n",
            "  inflating: /content/drive/MyDrive/my_yolov8/Conbine_dataset_3_classes-1_80-20-10-str/valid/images/004005.jpg  \n",
            "  inflating: /content/drive/MyDrive/my_yolov8/Conbine_dataset_3_classes-1_80-20-10-str/valid/images/005330.jpg  \n",
            "  inflating: /content/drive/MyDrive/my_yolov8/Conbine_dataset_3_classes-1_80-20-10-str/valid/images/002141.jpg  \n",
            "  inflating: /content/drive/MyDrive/my_yolov8/Conbine_dataset_3_classes-1_80-20-10-str/valid/images/000622.jpg  \n",
            "  inflating: /content/drive/MyDrive/my_yolov8/Conbine_dataset_3_classes-1_80-20-10-str/valid/images/003478.jpg  \n",
            "  inflating: /content/drive/MyDrive/my_yolov8/Conbine_dataset_3_classes-1_80-20-10-str/valid/images/003828.jpg  \n",
            "  inflating: /content/drive/MyDrive/my_yolov8/Conbine_dataset_3_classes-1_80-20-10-str/valid/images/000425.jpg  \n",
            "  inflating: /content/drive/MyDrive/my_yolov8/Conbine_dataset_3_classes-1_80-20-10-str/valid/images/005685.jpg  \n",
            "  inflating: /content/drive/MyDrive/my_yolov8/Conbine_dataset_3_classes-1_80-20-10-str/valid/images/003223.jpg  \n",
            "  inflating: /content/drive/MyDrive/my_yolov8/Conbine_dataset_3_classes-1_80-20-10-str/valid/images/004690.jpg  \n",
            "  inflating: /content/drive/MyDrive/my_yolov8/Conbine_dataset_3_classes-1_80-20-10-str/valid/images/006229.jpg  \n",
            "  inflating: /content/drive/MyDrive/my_yolov8/Conbine_dataset_3_classes-1_80-20-10-str/valid/images/000068.jpg  \n",
            "  inflating: /content/drive/MyDrive/my_yolov8/Conbine_dataset_3_classes-1_80-20-10-str/valid/images/003534.jpg  \n",
            "  inflating: /content/drive/MyDrive/my_yolov8/Conbine_dataset_3_classes-1_80-20-10-str/valid/images/005737.jpg  \n",
            "  inflating: /content/drive/MyDrive/my_yolov8/Conbine_dataset_3_classes-1_80-20-10-str/valid/images/001921.jpg  \n",
            "  inflating: /content/drive/MyDrive/my_yolov8/Conbine_dataset_3_classes-1_80-20-10-str/valid/images/001160.jpg  \n",
            "  inflating: /content/drive/MyDrive/my_yolov8/Conbine_dataset_3_classes-1_80-20-10-str/valid/images/000403.jpg  \n",
            "  inflating: /content/drive/MyDrive/my_yolov8/Conbine_dataset_3_classes-1_80-20-10-str/valid/images/001790.jpg  \n",
            "  inflating: /content/drive/MyDrive/my_yolov8/Conbine_dataset_3_classes-1_80-20-10-str/valid/images/005188.jpg  \n",
            "  inflating: /content/drive/MyDrive/my_yolov8/Conbine_dataset_3_classes-1_80-20-10-str/valid/images/003333.jpg  \n",
            "  inflating: /content/drive/MyDrive/my_yolov8/Conbine_dataset_3_classes-1_80-20-10-str/valid/images/002373.jpg  \n",
            "  inflating: /content/drive/MyDrive/my_yolov8/Conbine_dataset_3_classes-1_80-20-10-str/valid/images/005969.jpg  \n",
            "  inflating: /content/drive/MyDrive/my_yolov8/Conbine_dataset_3_classes-1_80-20-10-str/valid/images/000036.jpg  \n",
            "  inflating: /content/drive/MyDrive/my_yolov8/Conbine_dataset_3_classes-1_80-20-10-str/valid/images/002053.jpg  \n",
            "  inflating: /content/drive/MyDrive/my_yolov8/Conbine_dataset_3_classes-1_80-20-10-str/valid/images/002985.jpg  \n",
            "  inflating: /content/drive/MyDrive/my_yolov8/Conbine_dataset_3_classes-1_80-20-10-str/valid/images/003975.jpg  \n",
            "  inflating: /content/drive/MyDrive/my_yolov8/Conbine_dataset_3_classes-1_80-20-10-str/valid/images/003447.jpg  \n",
            "  inflating: /content/drive/MyDrive/my_yolov8/Conbine_dataset_3_classes-1_80-20-10-str/valid/images/002909.jpg  \n",
            "  inflating: /content/drive/MyDrive/my_yolov8/Conbine_dataset_3_classes-1_80-20-10-str/valid/images/003670.jpg  \n",
            "  inflating: /content/drive/MyDrive/my_yolov8/Conbine_dataset_3_classes-1_80-20-10-str/valid/images/004067.jpg  \n",
            "  inflating: /content/drive/MyDrive/my_yolov8/Conbine_dataset_3_classes-1_80-20-10-str/valid/images/007055.jpg  \n",
            "  inflating: /content/drive/MyDrive/my_yolov8/Conbine_dataset_3_classes-1_80-20-10-str/valid/images/005725.jpg  \n",
            "  inflating: /content/drive/MyDrive/my_yolov8/Conbine_dataset_3_classes-1_80-20-10-str/valid/images/004136.jpg  \n",
            "  inflating: /content/drive/MyDrive/my_yolov8/Conbine_dataset_3_classes-1_80-20-10-str/valid/images/003287.jpg  \n",
            "  inflating: /content/drive/MyDrive/my_yolov8/Conbine_dataset_3_classes-1_80-20-10-str/valid/images/003520.jpg  \n",
            "  inflating: /content/drive/MyDrive/my_yolov8/Conbine_dataset_3_classes-1_80-20-10-str/valid/images/005475.jpg  \n",
            "  inflating: /content/drive/MyDrive/my_yolov8/Conbine_dataset_3_classes-1_80-20-10-str/valid/images/004759.jpg  \n",
            "  inflating: /content/drive/MyDrive/my_yolov8/Conbine_dataset_3_classes-1_80-20-10-str/valid/images/000494.jpg  \n",
            "  inflating: /content/drive/MyDrive/my_yolov8/Conbine_dataset_3_classes-1_80-20-10-str/valid/images/003859.jpg  \n",
            "  inflating: /content/drive/MyDrive/my_yolov8/Conbine_dataset_3_classes-1_80-20-10-str/valid/images/005235.jpg  \n",
            "  inflating: /content/drive/MyDrive/my_yolov8/Conbine_dataset_3_classes-1_80-20-10-str/valid/images/007067.jpg  \n",
            "  inflating: /content/drive/MyDrive/my_yolov8/Conbine_dataset_3_classes-1_80-20-10-str/valid/images/006082.jpg  \n",
            "  inflating: /content/drive/MyDrive/my_yolov8/Conbine_dataset_3_classes-1_80-20-10-str/valid/images/004261.jpg  \n",
            "  inflating: /content/drive/MyDrive/my_yolov8/Conbine_dataset_3_classes-1_80-20-10-str/valid/images/002340.jpg  \n",
            "  inflating: /content/drive/MyDrive/my_yolov8/Conbine_dataset_3_classes-1_80-20-10-str/valid/images/002139.jpg  \n",
            "  inflating: /content/drive/MyDrive/my_yolov8/Conbine_dataset_3_classes-1_80-20-10-str/valid/images/003969.jpg  \n",
            "  inflating: /content/drive/MyDrive/my_yolov8/Conbine_dataset_3_classes-1_80-20-10-str/valid/images/004095.jpg  \n",
            "  inflating: /content/drive/MyDrive/my_yolov8/Conbine_dataset_3_classes-1_80-20-10-str/valid/images/005856.jpg  \n",
            "  inflating: /content/drive/MyDrive/my_yolov8/Conbine_dataset_3_classes-1_80-20-10-str/valid/images/004991.jpg  \n",
            "  inflating: /content/drive/MyDrive/my_yolov8/Conbine_dataset_3_classes-1_80-20-10-str/valid/images/004740.jpg  \n",
            "  inflating: /content/drive/MyDrive/my_yolov8/Conbine_dataset_3_classes-1_80-20-10-str/valid/images/000978.jpg  \n",
            "  inflating: /content/drive/MyDrive/my_yolov8/Conbine_dataset_3_classes-1_80-20-10-str/valid/images/002809.jpg  \n",
            "  inflating: /content/drive/MyDrive/my_yolov8/Conbine_dataset_3_classes-1_80-20-10-str/valid/images/001132.jpg  \n",
            "  inflating: /content/drive/MyDrive/my_yolov8/Conbine_dataset_3_classes-1_80-20-10-str/valid/images/005636.jpg  \n",
            "  inflating: /content/drive/MyDrive/my_yolov8/Conbine_dataset_3_classes-1_80-20-10-str/valid/images/005033.jpg  \n",
            "  inflating: /content/drive/MyDrive/my_yolov8/Conbine_dataset_3_classes-1_80-20-10-str/valid/images/004126.jpg  \n",
            "  inflating: /content/drive/MyDrive/my_yolov8/Conbine_dataset_3_classes-1_80-20-10-str/valid/images/000438.jpg  \n",
            "  inflating: /content/drive/MyDrive/my_yolov8/Conbine_dataset_3_classes-1_80-20-10-str/valid/images/000850.jpg  \n",
            "  inflating: /content/drive/MyDrive/my_yolov8/Conbine_dataset_3_classes-1_80-20-10-str/valid/images/003572.jpg  \n",
            "  inflating: /content/drive/MyDrive/my_yolov8/Conbine_dataset_3_classes-1_80-20-10-str/valid/images/003079.jpg  \n",
            "  inflating: /content/drive/MyDrive/my_yolov8/Conbine_dataset_3_classes-1_80-20-10-str/valid/images/004498.jpg  \n",
            "  inflating: /content/drive/MyDrive/my_yolov8/Conbine_dataset_3_classes-1_80-20-10-str/valid/images/001118.jpg  \n",
            "  inflating: /content/drive/MyDrive/my_yolov8/Conbine_dataset_3_classes-1_80-20-10-str/valid/images/005055.jpg  \n",
            "  inflating: /content/drive/MyDrive/my_yolov8/Conbine_dataset_3_classes-1_80-20-10-str/valid/images/005858.jpg  \n",
            "  inflating: /content/drive/MyDrive/my_yolov8/Conbine_dataset_3_classes-1_80-20-10-str/valid/images/001708.jpg  \n",
            "  inflating: /content/drive/MyDrive/my_yolov8/Conbine_dataset_3_classes-1_80-20-10-str/valid/images/001438.jpg  \n",
            "  inflating: /content/drive/MyDrive/my_yolov8/Conbine_dataset_3_classes-1_80-20-10-str/valid/images/005588.jpg  \n",
            "  inflating: /content/drive/MyDrive/my_yolov8/Conbine_dataset_3_classes-1_80-20-10-str/valid/images/001983.jpg  \n",
            "  inflating: /content/drive/MyDrive/my_yolov8/Conbine_dataset_3_classes-1_80-20-10-str/valid/images/003157.jpg  \n",
            "  inflating: /content/drive/MyDrive/my_yolov8/Conbine_dataset_3_classes-1_80-20-10-str/valid/images/005786.jpg  \n",
            "  inflating: /content/drive/MyDrive/my_yolov8/Conbine_dataset_3_classes-1_80-20-10-str/valid/images/004669.jpg  \n",
            "  inflating: /content/drive/MyDrive/my_yolov8/Conbine_dataset_3_classes-1_80-20-10-str/valid/images/001824.jpg  \n",
            "  inflating: /content/drive/MyDrive/my_yolov8/Conbine_dataset_3_classes-1_80-20-10-str/valid/images/004893.jpg  \n",
            "  inflating: /content/drive/MyDrive/my_yolov8/Conbine_dataset_3_classes-1_80-20-10-str/valid/images/005101.jpg  \n",
            "  inflating: /content/drive/MyDrive/my_yolov8/Conbine_dataset_3_classes-1_80-20-10-str/valid/images/005222.jpg  \n",
            "  inflating: /content/drive/MyDrive/my_yolov8/Conbine_dataset_3_classes-1_80-20-10-str/valid/images/006885.jpg  \n",
            "  inflating: /content/drive/MyDrive/my_yolov8/Conbine_dataset_3_classes-1_80-20-10-str/valid/images/002893.jpg  \n",
            "  inflating: /content/drive/MyDrive/my_yolov8/Conbine_dataset_3_classes-1_80-20-10-str/valid/images/003633.jpg  \n",
            "  inflating: /content/drive/MyDrive/my_yolov8/Conbine_dataset_3_classes-1_80-20-10-str/valid/images/000168.jpg  \n",
            "  inflating: /content/drive/MyDrive/my_yolov8/Conbine_dataset_3_classes-1_80-20-10-str/valid/images/001498.jpg  \n",
            "  inflating: /content/drive/MyDrive/my_yolov8/Conbine_dataset_3_classes-1_80-20-10-str/valid/images/001072.jpg  \n",
            "  inflating: /content/drive/MyDrive/my_yolov8/Conbine_dataset_3_classes-1_80-20-10-str/valid/images/006507.jpg  \n",
            "  inflating: /content/drive/MyDrive/my_yolov8/Conbine_dataset_3_classes-1_80-20-10-str/valid/images/000877.jpg  \n",
            "  inflating: /content/drive/MyDrive/my_yolov8/Conbine_dataset_3_classes-1_80-20-10-str/valid/images/001425.jpg  \n",
            "  inflating: /content/drive/MyDrive/my_yolov8/Conbine_dataset_3_classes-1_80-20-10-str/valid/images/006302.jpg  \n",
            "  inflating: /content/drive/MyDrive/my_yolov8/Conbine_dataset_3_classes-1_80-20-10-str/valid/images/004475.jpg  \n",
            "  inflating: /content/drive/MyDrive/my_yolov8/Conbine_dataset_3_classes-1_80-20-10-str/valid/images/002126.jpg  \n",
            "  inflating: /content/drive/MyDrive/my_yolov8/Conbine_dataset_3_classes-1_80-20-10-str/valid/images/001713.jpg  \n",
            "  inflating: /content/drive/MyDrive/my_yolov8/Conbine_dataset_3_classes-1_80-20-10-str/valid/images/007241.jpg  \n",
            "  inflating: /content/drive/MyDrive/my_yolov8/Conbine_dataset_3_classes-1_80-20-10-str/valid/images/003373.jpg  \n",
            "  inflating: /content/drive/MyDrive/my_yolov8/Conbine_dataset_3_classes-1_80-20-10-str/valid/images/006157.jpg  \n",
            "  inflating: /content/drive/MyDrive/my_yolov8/Conbine_dataset_3_classes-1_80-20-10-str/valid/images/003311.jpg  \n",
            "  inflating: /content/drive/MyDrive/my_yolov8/Conbine_dataset_3_classes-1_80-20-10-str/valid/images/006352.jpg  \n",
            "  inflating: /content/drive/MyDrive/my_yolov8/Conbine_dataset_3_classes-1_80-20-10-str/valid/images/001457.jpg  \n",
            "  inflating: /content/drive/MyDrive/my_yolov8/Conbine_dataset_3_classes-1_80-20-10-str/valid/images/003774.jpg  \n",
            "  inflating: /content/drive/MyDrive/my_yolov8/Conbine_dataset_3_classes-1_80-20-10-str/valid/images/003557.jpg  \n",
            "  inflating: /content/drive/MyDrive/my_yolov8/Conbine_dataset_3_classes-1_80-20-10-str/valid/images/004349.jpg  \n",
            "  inflating: /content/drive/MyDrive/my_yolov8/Conbine_dataset_3_classes-1_80-20-10-str/valid/images/005878.jpg  \n",
            "  inflating: /content/drive/MyDrive/my_yolov8/Conbine_dataset_3_classes-1_80-20-10-str/valid/images/005752.jpg  \n",
            "  inflating: /content/drive/MyDrive/my_yolov8/Conbine_dataset_3_classes-1_80-20-10-str/valid/images/002017.jpg  \n",
            "  inflating: /content/drive/MyDrive/my_yolov8/Conbine_dataset_3_classes-1_80-20-10-str/valid/images/006289.jpg  \n",
            "  inflating: /content/drive/MyDrive/my_yolov8/Conbine_dataset_3_classes-1_80-20-10-str/valid/images/000591.jpg  \n",
            "  inflating: /content/drive/MyDrive/my_yolov8/Conbine_dataset_3_classes-1_80-20-10-str/valid/images/000843.jpg  \n",
            "  inflating: /content/drive/MyDrive/my_yolov8/Conbine_dataset_3_classes-1_80-20-10-str/valid/images/003021.jpg  \n",
            "  inflating: /content/drive/MyDrive/my_yolov8/Conbine_dataset_3_classes-1_80-20-10-str/valid/images/004141.jpg  \n",
            "  inflating: /content/drive/MyDrive/my_yolov8/Conbine_dataset_3_classes-1_80-20-10-str/valid/images/005719.jpg  \n",
            "  inflating: /content/drive/MyDrive/my_yolov8/Conbine_dataset_3_classes-1_80-20-10-str/valid/images/004670.jpg  \n",
            "  inflating: /content/drive/MyDrive/my_yolov8/Conbine_dataset_3_classes-1_80-20-10-str/valid/images/005600.jpg  \n",
            "  inflating: /content/drive/MyDrive/my_yolov8/Conbine_dataset_3_classes-1_80-20-10-str/valid/images/006210.jpg  \n",
            "  inflating: /content/drive/MyDrive/my_yolov8/Conbine_dataset_3_classes-1_80-20-10-str/valid/images/006988.jpg  \n",
            "  inflating: /content/drive/MyDrive/my_yolov8/Conbine_dataset_3_classes-1_80-20-10-str/valid/images/006399.jpg  \n",
            "  inflating: /content/drive/MyDrive/my_yolov8/Conbine_dataset_3_classes-1_80-20-10-str/valid/images/006859.jpg  \n",
            "  inflating: /content/drive/MyDrive/my_yolov8/Conbine_dataset_3_classes-1_80-20-10-str/valid/images/000748.jpg  \n",
            "  inflating: /content/drive/MyDrive/my_yolov8/Conbine_dataset_3_classes-1_80-20-10-str/valid/images/005513.jpg  \n",
            "  inflating: /content/drive/MyDrive/my_yolov8/Conbine_dataset_3_classes-1_80-20-10-str/valid/images/006981.jpg  \n",
            "  inflating: /content/drive/MyDrive/my_yolov8/Conbine_dataset_3_classes-1_80-20-10-str/valid/images/002742.jpg  \n",
            "  inflating: /content/drive/MyDrive/my_yolov8/Conbine_dataset_3_classes-1_80-20-10-str/valid/images/000610.jpg  \n",
            "  inflating: /content/drive/MyDrive/my_yolov8/Conbine_dataset_3_classes-1_80-20-10-str/valid/images/004623.jpg  \n",
            "  inflating: /content/drive/MyDrive/my_yolov8/Conbine_dataset_3_classes-1_80-20-10-str/valid/images/001998.jpg  \n",
            "  inflating: /content/drive/MyDrive/my_yolov8/Conbine_dataset_3_classes-1_80-20-10-str/valid/images/001146.jpg  \n",
            "  inflating: /content/drive/MyDrive/my_yolov8/Conbine_dataset_3_classes-1_80-20-10-str/valid/images/000787.jpg  \n",
            "  inflating: /content/drive/MyDrive/my_yolov8/Conbine_dataset_3_classes-1_80-20-10-str/valid/images/002884.jpg  \n",
            "  inflating: /content/drive/MyDrive/my_yolov8/Conbine_dataset_3_classes-1_80-20-10-str/valid/images/000377.jpg  \n",
            "  inflating: /content/drive/MyDrive/my_yolov8/Conbine_dataset_3_classes-1_80-20-10-str/valid/images/004717.jpg  \n",
            "  inflating: /content/drive/MyDrive/my_yolov8/Conbine_dataset_3_classes-1_80-20-10-str/valid/images/001680.jpg  \n",
            "  inflating: /content/drive/MyDrive/my_yolov8/Conbine_dataset_3_classes-1_80-20-10-str/valid/images/003338.jpg  \n",
            "  inflating: /content/drive/MyDrive/my_yolov8/Conbine_dataset_3_classes-1_80-20-10-str/valid/images/003494.jpg  \n",
            "  inflating: /content/drive/MyDrive/my_yolov8/Conbine_dataset_3_classes-1_80-20-10-str/valid/images/001189.jpg  \n",
            "  inflating: /content/drive/MyDrive/my_yolov8/Conbine_dataset_3_classes-1_80-20-10-str/valid/images/004029.jpg  \n",
            "  inflating: /content/drive/MyDrive/my_yolov8/Conbine_dataset_3_classes-1_80-20-10-str/valid/images/005374.jpg  \n",
            "  inflating: /content/drive/MyDrive/my_yolov8/Conbine_dataset_3_classes-1_80-20-10-str/valid/images/007068.jpg  \n",
            "  inflating: /content/drive/MyDrive/my_yolov8/Conbine_dataset_3_classes-1_80-20-10-str/valid/images/003640.jpg  \n",
            "  inflating: /content/drive/MyDrive/my_yolov8/Conbine_dataset_3_classes-1_80-20-10-str/valid/images/001792.jpg  \n",
            "  inflating: /content/drive/MyDrive/my_yolov8/Conbine_dataset_3_classes-1_80-20-10-str/valid/images/001550.jpg  \n",
            "  inflating: /content/drive/MyDrive/my_yolov8/Conbine_dataset_3_classes-1_80-20-10-str/valid/images/002536.jpg  \n",
            "  inflating: /content/drive/MyDrive/my_yolov8/Conbine_dataset_3_classes-1_80-20-10-str/valid/images/001454.jpg  \n",
            "  inflating: /content/drive/MyDrive/my_yolov8/Conbine_dataset_3_classes-1_80-20-10-str/valid/images/000777.jpg  \n",
            "  inflating: /content/drive/MyDrive/my_yolov8/Conbine_dataset_3_classes-1_80-20-10-str/valid/images/003556.jpg  \n",
            "  inflating: /content/drive/MyDrive/my_yolov8/Conbine_dataset_3_classes-1_80-20-10-str/valid/images/001045.jpg  \n",
            "  inflating: /content/drive/MyDrive/my_yolov8/Conbine_dataset_3_classes-1_80-20-10-str/valid/images/001055.jpg  \n",
            "  inflating: /content/drive/MyDrive/my_yolov8/Conbine_dataset_3_classes-1_80-20-10-str/valid/images/001650.jpg  \n",
            "  inflating: /content/drive/MyDrive/my_yolov8/Conbine_dataset_3_classes-1_80-20-10-str/valid/images/001267.jpg  \n",
            "  inflating: /content/drive/MyDrive/my_yolov8/Conbine_dataset_3_classes-1_80-20-10-str/valid/images/005565.jpg  \n",
            "  inflating: /content/drive/MyDrive/my_yolov8/Conbine_dataset_3_classes-1_80-20-10-str/valid/images/002112.jpg  \n",
            "  inflating: /content/drive/MyDrive/my_yolov8/Conbine_dataset_3_classes-1_80-20-10-str/valid/images/004537.jpg  \n",
            "  inflating: /content/drive/MyDrive/my_yolov8/Conbine_dataset_3_classes-1_80-20-10-str/valid/images/006039.jpg  \n",
            "  inflating: /content/drive/MyDrive/my_yolov8/Conbine_dataset_3_classes-1_80-20-10-str/valid/images/001888.jpg  \n",
            "  inflating: /content/drive/MyDrive/my_yolov8/Conbine_dataset_3_classes-1_80-20-10-str/valid/images/000365.jpg  \n",
            "  inflating: /content/drive/MyDrive/my_yolov8/Conbine_dataset_3_classes-1_80-20-10-str/valid/images/002386.jpg  \n",
            "  inflating: /content/drive/MyDrive/my_yolov8/Conbine_dataset_3_classes-1_80-20-10-str/valid/images/004441.jpg  \n",
            "  inflating: /content/drive/MyDrive/my_yolov8/Conbine_dataset_3_classes-1_80-20-10-str/valid/images/002458.jpg  \n",
            "  inflating: /content/drive/MyDrive/my_yolov8/Conbine_dataset_3_classes-1_80-20-10-str/valid/images/000788.jpg  \n",
            "  inflating: /content/drive/MyDrive/my_yolov8/Conbine_dataset_3_classes-1_80-20-10-str/valid/images/002905.jpg  \n",
            "  inflating: /content/drive/MyDrive/my_yolov8/Conbine_dataset_3_classes-1_80-20-10-str/valid/images/001046.jpg  \n",
            "  inflating: /content/drive/MyDrive/my_yolov8/Conbine_dataset_3_classes-1_80-20-10-str/valid/images/005335.jpg  \n",
            "  inflating: /content/drive/MyDrive/my_yolov8/Conbine_dataset_3_classes-1_80-20-10-str/valid/images/004260.jpg  \n",
            "  inflating: /content/drive/MyDrive/my_yolov8/Conbine_dataset_3_classes-1_80-20-10-str/valid/images/002839.jpg  \n",
            "  inflating: /content/drive/MyDrive/my_yolov8/Conbine_dataset_3_classes-1_80-20-10-str/valid/images/000831.jpg  \n",
            "  inflating: /content/drive/MyDrive/my_yolov8/Conbine_dataset_3_classes-1_80-20-10-str/valid/images/005250.jpg  \n",
            "  inflating: /content/drive/MyDrive/my_yolov8/Conbine_dataset_3_classes-1_80-20-10-str/valid/images/003658.jpg  \n",
            "  inflating: /content/drive/MyDrive/my_yolov8/Conbine_dataset_3_classes-1_80-20-10-str/valid/images/006409.jpg  \n",
            "  inflating: /content/drive/MyDrive/my_yolov8/Conbine_dataset_3_classes-1_80-20-10-str/valid/images/003308.jpg  \n",
            "  inflating: /content/drive/MyDrive/my_yolov8/Conbine_dataset_3_classes-1_80-20-10-str/valid/images/001584.jpg  \n",
            "  inflating: /content/drive/MyDrive/my_yolov8/Conbine_dataset_3_classes-1_80-20-10-str/valid/images/006075.jpg  \n",
            "  inflating: /content/drive/MyDrive/my_yolov8/Conbine_dataset_3_classes-1_80-20-10-str/valid/images/006934.jpg  \n",
            "  inflating: /content/drive/MyDrive/my_yolov8/Conbine_dataset_3_classes-1_80-20-10-str/valid/images/005470.jpg  \n",
            "  inflating: /content/drive/MyDrive/my_yolov8/Conbine_dataset_3_classes-1_80-20-10-str/valid/images/006141.jpg  \n",
            "  inflating: /content/drive/MyDrive/my_yolov8/Conbine_dataset_3_classes-1_80-20-10-str/valid/images/001901.jpg  \n",
            "  inflating: /content/drive/MyDrive/my_yolov8/Conbine_dataset_3_classes-1_80-20-10-str/valid/images/006915.jpg  \n",
            "  inflating: /content/drive/MyDrive/my_yolov8/Conbine_dataset_3_classes-1_80-20-10-str/valid/images/002157.jpg  \n",
            "  inflating: /content/drive/MyDrive/my_yolov8/Conbine_dataset_3_classes-1_80-20-10-str/valid/images/007071.jpg  \n",
            "  inflating: /content/drive/MyDrive/my_yolov8/Conbine_dataset_3_classes-1_80-20-10-str/valid/images/005917.jpg  \n",
            "  inflating: /content/drive/MyDrive/my_yolov8/Conbine_dataset_3_classes-1_80-20-10-str/valid/images/004462.jpg  \n",
            "  inflating: /content/drive/MyDrive/my_yolov8/Conbine_dataset_3_classes-1_80-20-10-str/valid/images/001710.jpg  \n",
            "  inflating: /content/drive/MyDrive/my_yolov8/Conbine_dataset_3_classes-1_80-20-10-str/valid/images/004121.jpg  \n",
            "  inflating: /content/drive/MyDrive/my_yolov8/Conbine_dataset_3_classes-1_80-20-10-str/valid/images/007151.jpg  \n",
            "  inflating: /content/drive/MyDrive/my_yolov8/Conbine_dataset_3_classes-1_80-20-10-str/valid/images/000264.jpg  \n",
            "  inflating: /content/drive/MyDrive/my_yolov8/Conbine_dataset_3_classes-1_80-20-10-str/valid/images/004869.jpg  \n",
            "  inflating: /content/drive/MyDrive/my_yolov8/Conbine_dataset_3_classes-1_80-20-10-str/valid/images/005165.jpg  \n",
            "  inflating: /content/drive/MyDrive/my_yolov8/Conbine_dataset_3_classes-1_80-20-10-str/valid/images/002277.jpg  \n",
            "  inflating: /content/drive/MyDrive/my_yolov8/Conbine_dataset_3_classes-1_80-20-10-str/valid/images/006706.jpg  \n",
            "  inflating: /content/drive/MyDrive/my_yolov8/Conbine_dataset_3_classes-1_80-20-10-str/valid/images/001999.jpg  \n",
            "  inflating: /content/drive/MyDrive/my_yolov8/Conbine_dataset_3_classes-1_80-20-10-str/valid/images/005992.jpg  \n",
            "  inflating: /content/drive/MyDrive/my_yolov8/Conbine_dataset_3_classes-1_80-20-10-str/valid/images/002629.jpg  \n",
            "  inflating: /content/drive/MyDrive/my_yolov8/Conbine_dataset_3_classes-1_80-20-10-str/valid/images/000419.jpg  \n",
            "  inflating: /content/drive/MyDrive/my_yolov8/Conbine_dataset_3_classes-1_80-20-10-str/valid/images/001784.jpg  \n",
            "  inflating: /content/drive/MyDrive/my_yolov8/Conbine_dataset_3_classes-1_80-20-10-str/valid/images/007038.jpg  \n",
            "  inflating: /content/drive/MyDrive/my_yolov8/Conbine_dataset_3_classes-1_80-20-10-str/valid/images/001514.jpg  \n",
            "  inflating: /content/drive/MyDrive/my_yolov8/Conbine_dataset_3_classes-1_80-20-10-str/valid/images/007110.jpg  \n",
            "  inflating: /content/drive/MyDrive/my_yolov8/Conbine_dataset_3_classes-1_80-20-10-str/valid/images/005578.jpg  \n",
            "  inflating: /content/drive/MyDrive/my_yolov8/Conbine_dataset_3_classes-1_80-20-10-str/valid/images/002865.jpg  \n",
            "  inflating: /content/drive/MyDrive/my_yolov8/Conbine_dataset_3_classes-1_80-20-10-str/valid/images/001393.jpg  \n",
            "  inflating: /content/drive/MyDrive/my_yolov8/Conbine_dataset_3_classes-1_80-20-10-str/valid/images/003974.jpg  \n",
            "  inflating: /content/drive/MyDrive/my_yolov8/Conbine_dataset_3_classes-1_80-20-10-str/valid/images/004634.jpg  \n",
            "  inflating: /content/drive/MyDrive/my_yolov8/Conbine_dataset_3_classes-1_80-20-10-str/valid/images/003546.jpg  \n",
            "  inflating: /content/drive/MyDrive/my_yolov8/Conbine_dataset_3_classes-1_80-20-10-str/valid/images/001123.jpg  \n",
            "  inflating: /content/drive/MyDrive/my_yolov8/Conbine_dataset_3_classes-1_80-20-10-str/valid/images/003300.jpg  \n",
            "  inflating: /content/drive/MyDrive/my_yolov8/Conbine_dataset_3_classes-1_80-20-10-str/valid/images/000514.jpg  \n",
            "  inflating: /content/drive/MyDrive/my_yolov8/Conbine_dataset_3_classes-1_80-20-10-str/valid/images/001136.jpg  \n",
            "  inflating: /content/drive/MyDrive/my_yolov8/Conbine_dataset_3_classes-1_80-20-10-str/valid/images/002734.jpg  \n",
            "  inflating: /content/drive/MyDrive/my_yolov8/Conbine_dataset_3_classes-1_80-20-10-str/valid/images/007137.jpg  \n",
            "  inflating: /content/drive/MyDrive/my_yolov8/Conbine_dataset_3_classes-1_80-20-10-str/valid/images/006873.jpg  \n",
            "  inflating: /content/drive/MyDrive/my_yolov8/Conbine_dataset_3_classes-1_80-20-10-str/valid/images/003086.jpg  \n",
            "  inflating: /content/drive/MyDrive/my_yolov8/Conbine_dataset_3_classes-1_80-20-10-str/valid/images/006448.jpg  \n",
            "  inflating: /content/drive/MyDrive/my_yolov8/Conbine_dataset_3_classes-1_80-20-10-str/valid/images/005718.jpg  \n",
            "  inflating: /content/drive/MyDrive/my_yolov8/Conbine_dataset_3_classes-1_80-20-10-str/valid/images/004045.jpg  \n",
            "  inflating: /content/drive/MyDrive/my_yolov8/Conbine_dataset_3_classes-1_80-20-10-str/valid/images/003789.jpg  \n",
            "  inflating: /content/drive/MyDrive/my_yolov8/Conbine_dataset_3_classes-1_80-20-10-str/valid/images/002221.jpg  \n",
            "  inflating: /content/drive/MyDrive/my_yolov8/Conbine_dataset_3_classes-1_80-20-10-str/valid/images/007057.jpg  \n",
            "  inflating: /content/drive/MyDrive/my_yolov8/Conbine_dataset_3_classes-1_80-20-10-str/valid/images/002630.jpg  \n",
            "  inflating: /content/drive/MyDrive/my_yolov8/Conbine_dataset_3_classes-1_80-20-10-str/valid/images/006268.jpg  \n",
            "  inflating: /content/drive/MyDrive/my_yolov8/Conbine_dataset_3_classes-1_80-20-10-str/valid/images/000477.jpg  \n",
            "  inflating: /content/drive/MyDrive/my_yolov8/Conbine_dataset_3_classes-1_80-20-10-str/valid/images/001827.jpg  \n",
            "  inflating: /content/drive/MyDrive/my_yolov8/Conbine_dataset_3_classes-1_80-20-10-str/valid/images/003473.jpg  \n",
            "  inflating: /content/drive/MyDrive/my_yolov8/Conbine_dataset_3_classes-1_80-20-10-str/valid/images/003284.jpg  \n",
            "  inflating: /content/drive/MyDrive/my_yolov8/Conbine_dataset_3_classes-1_80-20-10-str/valid/images/006057.jpg  \n",
            "  inflating: /content/drive/MyDrive/my_yolov8/Conbine_dataset_3_classes-1_80-20-10-str/valid/images/002871.jpg  \n",
            "  inflating: /content/drive/MyDrive/my_yolov8/Conbine_dataset_3_classes-1_80-20-10-str/valid/images/006152.jpg  \n",
            "  inflating: /content/drive/MyDrive/my_yolov8/Conbine_dataset_3_classes-1_80-20-10-str/valid/images/002056.jpg  \n",
            "  inflating: /content/drive/MyDrive/my_yolov8/Conbine_dataset_3_classes-1_80-20-10-str/valid/images/000268.jpg  \n",
            "  inflating: /content/drive/MyDrive/my_yolov8/Conbine_dataset_3_classes-1_80-20-10-str/valid/images/006429.jpg  \n",
            "  inflating: /content/drive/MyDrive/my_yolov8/Conbine_dataset_3_classes-1_80-20-10-str/valid/images/005710.jpg  \n",
            "  inflating: /content/drive/MyDrive/my_yolov8/Conbine_dataset_3_classes-1_80-20-10-str/valid/images/001394.jpg  \n",
            "  inflating: /content/drive/MyDrive/my_yolov8/Conbine_dataset_3_classes-1_80-20-10-str/valid/images/005357.jpg  \n",
            "  inflating: /content/drive/MyDrive/my_yolov8/Conbine_dataset_3_classes-1_80-20-10-str/valid/images/003704.jpg  \n",
            "  inflating: /content/drive/MyDrive/my_yolov8/Conbine_dataset_3_classes-1_80-20-10-str/valid/images/000309.jpg  \n",
            "  inflating: /content/drive/MyDrive/my_yolov8/Conbine_dataset_3_classes-1_80-20-10-str/valid/images/001245.jpg  \n",
            "  inflating: /content/drive/MyDrive/my_yolov8/Conbine_dataset_3_classes-1_80-20-10-str/valid/images/002949.jpg  \n",
            "  inflating: /content/drive/MyDrive/my_yolov8/Conbine_dataset_3_classes-1_80-20-10-str/valid/images/004525.jpg  \n",
            "  inflating: /content/drive/MyDrive/my_yolov8/Conbine_dataset_3_classes-1_80-20-10-str/valid/images/003253.jpg  \n",
            "  inflating: /content/drive/MyDrive/my_yolov8/Conbine_dataset_3_classes-1_80-20-10-str/valid/images/005614.jpg  \n",
            "  inflating: /content/drive/MyDrive/my_yolov8/Conbine_dataset_3_classes-1_80-20-10-str/valid/images/004037.jpg  \n",
            "  inflating: /content/drive/MyDrive/my_yolov8/Conbine_dataset_3_classes-1_80-20-10-str/valid/images/005192.jpg  \n",
            "  inflating: /content/drive/MyDrive/my_yolov8/Conbine_dataset_3_classes-1_80-20-10-str/valid/images/005765.jpg  \n",
            "  inflating: /content/drive/MyDrive/my_yolov8/Conbine_dataset_3_classes-1_80-20-10-str/valid/images/006038.jpg  \n",
            "  inflating: /content/drive/MyDrive/my_yolov8/Conbine_dataset_3_classes-1_80-20-10-str/valid/images/003108.jpg  \n",
            "  inflating: /content/drive/MyDrive/my_yolov8/Conbine_dataset_3_classes-1_80-20-10-str/valid/images/003436.jpg  \n",
            "  inflating: /content/drive/MyDrive/my_yolov8/Conbine_dataset_3_classes-1_80-20-10-str/valid/images/005433.jpg  \n",
            "  inflating: /content/drive/MyDrive/my_yolov8/Conbine_dataset_3_classes-1_80-20-10-str/valid/images/007001.jpg  \n",
            "  inflating: /content/drive/MyDrive/my_yolov8/Conbine_dataset_3_classes-1_80-20-10-str/valid/images/003289.jpg  \n",
            "  inflating: /content/drive/MyDrive/my_yolov8/Conbine_dataset_3_classes-1_80-20-10-str/valid/images/000507.jpg  \n",
            "  inflating: /content/drive/MyDrive/my_yolov8/Conbine_dataset_3_classes-1_80-20-10-str/valid/images/006170.jpg  \n",
            "  inflating: /content/drive/MyDrive/my_yolov8/Conbine_dataset_3_classes-1_80-20-10-str/valid/images/000618.jpg  \n",
            "  inflating: /content/drive/MyDrive/my_yolov8/Conbine_dataset_3_classes-1_80-20-10-str/valid/images/001516.jpg  \n",
            "  inflating: /content/drive/MyDrive/my_yolov8/Conbine_dataset_3_classes-1_80-20-10-str/valid/images/000373.jpg  \n",
            "  inflating: /content/drive/MyDrive/my_yolov8/Conbine_dataset_3_classes-1_80-20-10-str/valid/images/003374.jpg  \n",
            "  inflating: /content/drive/MyDrive/my_yolov8/Conbine_dataset_3_classes-1_80-20-10-str/valid/images/007242.jpg  \n",
            "  inflating: /content/drive/MyDrive/my_yolov8/Conbine_dataset_3_classes-1_80-20-10-str/valid/images/002192.jpg  \n",
            "  inflating: /content/drive/MyDrive/my_yolov8/Conbine_dataset_3_classes-1_80-20-10-str/valid/images/000361.jpg  \n",
            "  inflating: /content/drive/MyDrive/my_yolov8/Conbine_dataset_3_classes-1_80-20-10-str/valid/images/000437.jpg  \n",
            "  inflating: /content/drive/MyDrive/my_yolov8/Conbine_dataset_3_classes-1_80-20-10-str/valid/images/002975.jpg  \n",
            "  inflating: /content/drive/MyDrive/my_yolov8/Conbine_dataset_3_classes-1_80-20-10-str/valid/images/006132.jpg  \n",
            "  inflating: /content/drive/MyDrive/my_yolov8/Conbine_dataset_3_classes-1_80-20-10-str/valid/images/000566.jpg  \n",
            "  inflating: /content/drive/MyDrive/my_yolov8/Conbine_dataset_3_classes-1_80-20-10-str/valid/images/007062.jpg  \n",
            "  inflating: /content/drive/MyDrive/my_yolov8/Conbine_dataset_3_classes-1_80-20-10-str/valid/images/003588.jpg  \n",
            "  inflating: /content/drive/MyDrive/my_yolov8/Conbine_dataset_3_classes-1_80-20-10-str/valid/images/002663.jpg  \n",
            "  inflating: /content/drive/MyDrive/my_yolov8/Conbine_dataset_3_classes-1_80-20-10-str/valid/images/001860.jpg  \n",
            "  inflating: /content/drive/MyDrive/my_yolov8/Conbine_dataset_3_classes-1_80-20-10-str/valid/images/003830.jpg  \n",
            "  inflating: /content/drive/MyDrive/my_yolov8/Conbine_dataset_3_classes-1_80-20-10-str/valid/images/000445.jpg  \n",
            "  inflating: /content/drive/MyDrive/my_yolov8/Conbine_dataset_3_classes-1_80-20-10-str/valid/images/003913.jpg  \n",
            "  inflating: /content/drive/MyDrive/my_yolov8/Conbine_dataset_3_classes-1_80-20-10-str/valid/images/006316.jpg  \n",
            "  inflating: /content/drive/MyDrive/my_yolov8/Conbine_dataset_3_classes-1_80-20-10-str/valid/images/000532.jpg  \n",
            "  inflating: /content/drive/MyDrive/my_yolov8/Conbine_dataset_3_classes-1_80-20-10-str/valid/images/000891.jpg  \n",
            "  inflating: /content/drive/MyDrive/my_yolov8/Conbine_dataset_3_classes-1_80-20-10-str/valid/images/001439.jpg  \n",
            "  inflating: /content/drive/MyDrive/my_yolov8/Conbine_dataset_3_classes-1_80-20-10-str/valid/images/004389.jpg  \n",
            "  inflating: /content/drive/MyDrive/my_yolov8/Conbine_dataset_3_classes-1_80-20-10-str/valid/images/000182.jpg  \n",
            "  inflating: /content/drive/MyDrive/my_yolov8/Conbine_dataset_3_classes-1_80-20-10-str/valid/images/006327.jpg  \n",
            "  inflating: /content/drive/MyDrive/my_yolov8/Conbine_dataset_3_classes-1_80-20-10-str/valid/images/004300.jpg  \n",
            "  inflating: /content/drive/MyDrive/my_yolov8/Conbine_dataset_3_classes-1_80-20-10-str/valid/images/006877.jpg  \n",
            "  inflating: /content/drive/MyDrive/my_yolov8/Conbine_dataset_3_classes-1_80-20-10-str/valid/images/003068.jpg  \n",
            "  inflating: /content/drive/MyDrive/my_yolov8/Conbine_dataset_3_classes-1_80-20-10-str/valid/images/003889.jpg  \n",
            "  inflating: /content/drive/MyDrive/my_yolov8/Conbine_dataset_3_classes-1_80-20-10-str/valid/images/002245.jpg  \n",
            "  inflating: /content/drive/MyDrive/my_yolov8/Conbine_dataset_3_classes-1_80-20-10-str/valid/images/002592.jpg  \n",
            "  inflating: /content/drive/MyDrive/my_yolov8/Conbine_dataset_3_classes-1_80-20-10-str/valid/images/004050.jpg  \n",
            "  inflating: /content/drive/MyDrive/my_yolov8/Conbine_dataset_3_classes-1_80-20-10-str/valid/images/004466.jpg  \n",
            "  inflating: /content/drive/MyDrive/my_yolov8/Conbine_dataset_3_classes-1_80-20-10-str/valid/images/003618.jpg  \n",
            "  inflating: /content/drive/MyDrive/my_yolov8/Conbine_dataset_3_classes-1_80-20-10-str/valid/images/001672.jpg  \n",
            "  inflating: /content/drive/MyDrive/my_yolov8/Conbine_dataset_3_classes-1_80-20-10-str/valid/images/004978.jpg  \n",
            "  inflating: /content/drive/MyDrive/my_yolov8/Conbine_dataset_3_classes-1_80-20-10-str/valid/images/006912.jpg  \n",
            "  inflating: /content/drive/MyDrive/my_yolov8/Conbine_dataset_3_classes-1_80-20-10-str/valid/images/006414.jpg  \n",
            "  inflating: /content/drive/MyDrive/my_yolov8/Conbine_dataset_3_classes-1_80-20-10-str/valid/images/004833.jpg  \n",
            "  inflating: /content/drive/MyDrive/my_yolov8/Conbine_dataset_3_classes-1_80-20-10-str/valid/images/006554.jpg  \n",
            "  inflating: /content/drive/MyDrive/my_yolov8/Conbine_dataset_3_classes-1_80-20-10-str/valid/images/000969.jpg  \n",
            "  inflating: /content/drive/MyDrive/my_yolov8/Conbine_dataset_3_classes-1_80-20-10-str/valid/images/001535.jpg  \n",
            "  inflating: /content/drive/MyDrive/my_yolov8/Conbine_dataset_3_classes-1_80-20-10-str/valid/images/006608.jpg  \n",
            "  inflating: /content/drive/MyDrive/my_yolov8/Conbine_dataset_3_classes-1_80-20-10-str/valid/images/000671.jpg  \n",
            "  inflating: /content/drive/MyDrive/my_yolov8/Conbine_dataset_3_classes-1_80-20-10-str/valid/images/001578.jpg  \n",
            "  inflating: /content/drive/MyDrive/my_yolov8/Conbine_dataset_3_classes-1_80-20-10-str/valid/images/006799.jpg  \n",
            "  inflating: /content/drive/MyDrive/my_yolov8/Conbine_dataset_3_classes-1_80-20-10-str/valid/images/003923.jpg  \n",
            "  inflating: /content/drive/MyDrive/my_yolov8/Conbine_dataset_3_classes-1_80-20-10-str/valid/images/006106.jpg  \n",
            "  inflating: /content/drive/MyDrive/my_yolov8/Conbine_dataset_3_classes-1_80-20-10-str/valid/images/006651.jpg  \n",
            "  inflating: /content/drive/MyDrive/my_yolov8/Conbine_dataset_3_classes-1_80-20-10-str/valid/images/005760.jpg  \n",
            "  inflating: /content/drive/MyDrive/my_yolov8/Conbine_dataset_3_classes-1_80-20-10-str/valid/images/003616.jpg  \n",
            "  inflating: /content/drive/MyDrive/my_yolov8/Conbine_dataset_3_classes-1_80-20-10-str/valid/images/003461.jpg  \n",
            "  inflating: /content/drive/MyDrive/my_yolov8/Conbine_dataset_3_classes-1_80-20-10-str/valid/images/001283.jpg  \n",
            "  inflating: /content/drive/MyDrive/my_yolov8/Conbine_dataset_3_classes-1_80-20-10-str/valid/images/004139.jpg  \n",
            "  inflating: /content/drive/MyDrive/my_yolov8/Conbine_dataset_3_classes-1_80-20-10-str/valid/images/001779.jpg  \n",
            "  inflating: /content/drive/MyDrive/my_yolov8/Conbine_dataset_3_classes-1_80-20-10-str/valid/images/002888.jpg  \n",
            "  inflating: /content/drive/MyDrive/my_yolov8/Conbine_dataset_3_classes-1_80-20-10-str/valid/images/004773.jpg  \n",
            "  inflating: /content/drive/MyDrive/my_yolov8/Conbine_dataset_3_classes-1_80-20-10-str/valid/images/000550.jpg  \n",
            "  inflating: /content/drive/MyDrive/my_yolov8/Conbine_dataset_3_classes-1_80-20-10-str/valid/images/003937.jpg  \n",
            "  inflating: /content/drive/MyDrive/my_yolov8/Conbine_dataset_3_classes-1_80-20-10-str/valid/images/004089.jpg  \n",
            "  inflating: /content/drive/MyDrive/my_yolov8/Conbine_dataset_3_classes-1_80-20-10-str/valid/images/002576.jpg  \n",
            "  inflating: /content/drive/MyDrive/my_yolov8/Conbine_dataset_3_classes-1_80-20-10-str/valid/images/000778.jpg  \n",
            "  inflating: /content/drive/MyDrive/my_yolov8/Conbine_dataset_3_classes-1_80-20-10-str/valid/images/000111.jpg  \n",
            "  inflating: /content/drive/MyDrive/my_yolov8/Conbine_dataset_3_classes-1_80-20-10-str/valid/images/004662.jpg  \n",
            "  inflating: /content/drive/MyDrive/my_yolov8/Conbine_dataset_3_classes-1_80-20-10-str/valid/images/005391.jpg  \n",
            "  inflating: /content/drive/MyDrive/my_yolov8/Conbine_dataset_3_classes-1_80-20-10-str/valid/images/003802.jpg  \n",
            "  inflating: /content/drive/MyDrive/my_yolov8/Conbine_dataset_3_classes-1_80-20-10-str/valid/images/007181.jpg  \n",
            "  inflating: /content/drive/MyDrive/my_yolov8/Conbine_dataset_3_classes-1_80-20-10-str/valid/images/004601.jpg  \n",
            "  inflating: /content/drive/MyDrive/my_yolov8/Conbine_dataset_3_classes-1_80-20-10-str/valid/images/004292.jpg  \n",
            "  inflating: /content/drive/MyDrive/my_yolov8/Conbine_dataset_3_classes-1_80-20-10-str/valid/images/000196.jpg  \n",
            "  inflating: /content/drive/MyDrive/my_yolov8/Conbine_dataset_3_classes-1_80-20-10-str/valid/images/005253.jpg  \n",
            "  inflating: /content/drive/MyDrive/my_yolov8/Conbine_dataset_3_classes-1_80-20-10-str/valid/images/000203.jpg  \n",
            "  inflating: /content/drive/MyDrive/my_yolov8/Conbine_dataset_3_classes-1_80-20-10-str/valid/images/005051.jpg  \n",
            "  inflating: /content/drive/MyDrive/my_yolov8/Conbine_dataset_3_classes-1_80-20-10-str/valid/images/001596.jpg  \n",
            "  inflating: /content/drive/MyDrive/my_yolov8/Conbine_dataset_3_classes-1_80-20-10-str/valid/images/005050.jpg  \n",
            "  inflating: /content/drive/MyDrive/my_yolov8/Conbine_dataset_3_classes-1_80-20-10-str/valid/images/006234.jpg  \n",
            "  inflating: /content/drive/MyDrive/my_yolov8/Conbine_dataset_3_classes-1_80-20-10-str/valid/images/007212.jpg  \n",
            "  inflating: /content/drive/MyDrive/my_yolov8/Conbine_dataset_3_classes-1_80-20-10-str/valid/images/005438.jpg  \n",
            "  inflating: /content/drive/MyDrive/my_yolov8/Conbine_dataset_3_classes-1_80-20-10-str/valid/images/004516.jpg  \n",
            "  inflating: /content/drive/MyDrive/my_yolov8/Conbine_dataset_3_classes-1_80-20-10-str/valid/images/004468.jpg  \n",
            "  inflating: /content/drive/MyDrive/my_yolov8/Conbine_dataset_3_classes-1_80-20-10-str/valid/images/006109.jpg  \n",
            "  inflating: /content/drive/MyDrive/my_yolov8/Conbine_dataset_3_classes-1_80-20-10-str/valid/images/000905.jpg  \n",
            "  inflating: /content/drive/MyDrive/my_yolov8/Conbine_dataset_3_classes-1_80-20-10-str/valid/images/000824.jpg  \n",
            "  inflating: /content/drive/MyDrive/my_yolov8/Conbine_dataset_3_classes-1_80-20-10-str/valid/images/003305.jpg  \n",
            "  inflating: /content/drive/MyDrive/my_yolov8/Conbine_dataset_3_classes-1_80-20-10-str/valid/images/000871.jpg  \n",
            "  inflating: /content/drive/MyDrive/my_yolov8/Conbine_dataset_3_classes-1_80-20-10-str/valid/images/000354.jpg  \n",
            "  inflating: /content/drive/MyDrive/my_yolov8/Conbine_dataset_3_classes-1_80-20-10-str/valid/images/000314.jpg  \n",
            "  inflating: /content/drive/MyDrive/my_yolov8/Conbine_dataset_3_classes-1_80-20-10-str/valid/images/002922.jpg  \n",
            "  inflating: /content/drive/MyDrive/my_yolov8/Conbine_dataset_3_classes-1_80-20-10-str/valid/images/001851.jpg  \n",
            "  inflating: /content/drive/MyDrive/my_yolov8/Conbine_dataset_3_classes-1_80-20-10-str/valid/images/000966.jpg  \n",
            "  inflating: /content/drive/MyDrive/my_yolov8/Conbine_dataset_3_classes-1_80-20-10-str/valid/images/001876.jpg  \n",
            "  inflating: /content/drive/MyDrive/my_yolov8/Conbine_dataset_3_classes-1_80-20-10-str/valid/images/005036.jpg  \n",
            "  inflating: /content/drive/MyDrive/my_yolov8/Conbine_dataset_3_classes-1_80-20-10-str/valid/images/004864.jpg  \n",
            "  inflating: /content/drive/MyDrive/my_yolov8/Conbine_dataset_3_classes-1_80-20-10-str/valid/images/004990.jpg  \n",
            "  inflating: /content/drive/MyDrive/my_yolov8/Conbine_dataset_3_classes-1_80-20-10-str/valid/images/003960.jpg  \n",
            "  inflating: /content/drive/MyDrive/my_yolov8/Conbine_dataset_3_classes-1_80-20-10-str/valid/images/005575.jpg  \n",
            "  inflating: /content/drive/MyDrive/my_yolov8/Conbine_dataset_3_classes-1_80-20-10-str/valid/images/000997.jpg  \n",
            "  inflating: /content/drive/MyDrive/my_yolov8/Conbine_dataset_3_classes-1_80-20-10-str/valid/images/003919.jpg  \n",
            "  inflating: /content/drive/MyDrive/my_yolov8/Conbine_dataset_3_classes-1_80-20-10-str/valid/images/001224.jpg  \n",
            "  inflating: /content/drive/MyDrive/my_yolov8/Conbine_dataset_3_classes-1_80-20-10-str/valid/images/002755.jpg  \n",
            "  inflating: /content/drive/MyDrive/my_yolov8/Conbine_dataset_3_classes-1_80-20-10-str/valid/images/001538.jpg  \n",
            "  inflating: /content/drive/MyDrive/my_yolov8/Conbine_dataset_3_classes-1_80-20-10-str/valid/images/004038.jpg  \n",
            "  inflating: /content/drive/MyDrive/my_yolov8/Conbine_dataset_3_classes-1_80-20-10-str/valid/images/004800.jpg  \n",
            "  inflating: /content/drive/MyDrive/my_yolov8/Conbine_dataset_3_classes-1_80-20-10-str/valid/images/003780.jpg  \n",
            "  inflating: /content/drive/MyDrive/my_yolov8/Conbine_dataset_3_classes-1_80-20-10-str/valid/images/006993.jpg  \n",
            "  inflating: /content/drive/MyDrive/my_yolov8/Conbine_dataset_3_classes-1_80-20-10-str/valid/images/004076.jpg  \n",
            "  inflating: /content/drive/MyDrive/my_yolov8/Conbine_dataset_3_classes-1_80-20-10-str/valid/images/006551.jpg  \n",
            "  inflating: /content/drive/MyDrive/my_yolov8/Conbine_dataset_3_classes-1_80-20-10-str/valid/images/007124.jpg  \n",
            "  inflating: /content/drive/MyDrive/my_yolov8/Conbine_dataset_3_classes-1_80-20-10-str/valid/images/003315.jpg  \n",
            "  inflating: /content/drive/MyDrive/my_yolov8/Conbine_dataset_3_classes-1_80-20-10-str/valid/images/005332.jpg  \n",
            "  inflating: /content/drive/MyDrive/my_yolov8/Conbine_dataset_3_classes-1_80-20-10-str/valid/images/001220.jpg  \n",
            "  inflating: /content/drive/MyDrive/my_yolov8/Conbine_dataset_3_classes-1_80-20-10-str/valid/images/002886.jpg  \n",
            "  inflating: /content/drive/MyDrive/my_yolov8/Conbine_dataset_3_classes-1_80-20-10-str/valid/images/000492.jpg  \n",
            "  inflating: /content/drive/MyDrive/my_yolov8/Conbine_dataset_3_classes-1_80-20-10-str/valid/images/001192.jpg  \n",
            "  inflating: /content/drive/MyDrive/my_yolov8/Conbine_dataset_3_classes-1_80-20-10-str/valid/images/003156.jpg  \n",
            "  inflating: /content/drive/MyDrive/my_yolov8/Conbine_dataset_3_classes-1_80-20-10-str/valid/images/003558.jpg  \n",
            "  inflating: /content/drive/MyDrive/my_yolov8/Conbine_dataset_3_classes-1_80-20-10-str/valid/images/000095.jpg  \n",
            "  inflating: /content/drive/MyDrive/my_yolov8/Conbine_dataset_3_classes-1_80-20-10-str/valid/images/006702.jpg  \n",
            "  inflating: /content/drive/MyDrive/my_yolov8/Conbine_dataset_3_classes-1_80-20-10-str/valid/images/001984.jpg  \n",
            "  inflating: /content/drive/MyDrive/my_yolov8/Conbine_dataset_3_classes-1_80-20-10-str/valid/images/004065.jpg  \n",
            "  inflating: /content/drive/MyDrive/my_yolov8/Conbine_dataset_3_classes-1_80-20-10-str/valid/images/002900.jpg  \n",
            "  inflating: /content/drive/MyDrive/my_yolov8/Conbine_dataset_3_classes-1_80-20-10-str/valid/images/004289.jpg  \n",
            "  inflating: /content/drive/MyDrive/my_yolov8/Conbine_dataset_3_classes-1_80-20-10-str/valid/images/001230.jpg  \n",
            "  inflating: /content/drive/MyDrive/my_yolov8/Conbine_dataset_3_classes-1_80-20-10-str/valid/images/004596.jpg  \n",
            "  inflating: /content/drive/MyDrive/my_yolov8/Conbine_dataset_3_classes-1_80-20-10-str/valid/images/005375.jpg  \n",
            "  inflating: /content/drive/MyDrive/my_yolov8/Conbine_dataset_3_classes-1_80-20-10-str/valid/images/006211.jpg  \n",
            "  inflating: /content/drive/MyDrive/my_yolov8/Conbine_dataset_3_classes-1_80-20-10-str/valid/images/002560.jpg  \n",
            "  inflating: /content/drive/MyDrive/my_yolov8/Conbine_dataset_3_classes-1_80-20-10-str/valid/images/006524.jpg  \n",
            "  inflating: /content/drive/MyDrive/my_yolov8/Conbine_dataset_3_classes-1_80-20-10-str/valid/images/003274.jpg  \n",
            "  inflating: /content/drive/MyDrive/my_yolov8/Conbine_dataset_3_classes-1_80-20-10-str/valid/images/002907.jpg  \n",
            "  inflating: /content/drive/MyDrive/my_yolov8/Conbine_dataset_3_classes-1_80-20-10-str/valid/images/002891.jpg  \n",
            "  inflating: /content/drive/MyDrive/my_yolov8/Conbine_dataset_3_classes-1_80-20-10-str/valid/images/000864.jpg  \n",
            "  inflating: /content/drive/MyDrive/my_yolov8/Conbine_dataset_3_classes-1_80-20-10-str/valid/images/001073.jpg  \n",
            "  inflating: /content/drive/MyDrive/my_yolov8/Conbine_dataset_3_classes-1_80-20-10-str/valid/images/005322.jpg  \n",
            "  inflating: /content/drive/MyDrive/my_yolov8/Conbine_dataset_3_classes-1_80-20-10-str/valid/images/001920.jpg  \n",
            "  inflating: /content/drive/MyDrive/my_yolov8/Conbine_dataset_3_classes-1_80-20-10-str/valid/images/005916.jpg  \n",
            "  inflating: /content/drive/MyDrive/my_yolov8/Conbine_dataset_3_classes-1_80-20-10-str/valid/images/005533.jpg  \n",
            "  inflating: /content/drive/MyDrive/my_yolov8/Conbine_dataset_3_classes-1_80-20-10-str/valid/images/003712.jpg  \n",
            "  inflating: /content/drive/MyDrive/my_yolov8/Conbine_dataset_3_classes-1_80-20-10-str/valid/images/007019.jpg  \n",
            "  inflating: /content/drive/MyDrive/my_yolov8/Conbine_dataset_3_classes-1_80-20-10-str/valid/images/006944.jpg  \n",
            "  inflating: /content/drive/MyDrive/my_yolov8/Conbine_dataset_3_classes-1_80-20-10-str/valid/images/003144.jpg  \n",
            "  inflating: /content/drive/MyDrive/my_yolov8/Conbine_dataset_3_classes-1_80-20-10-str/valid/images/003990.jpg  \n",
            "  inflating: /content/drive/MyDrive/my_yolov8/Conbine_dataset_3_classes-1_80-20-10-str/valid/images/000042.jpg  \n",
            "  inflating: /content/drive/MyDrive/my_yolov8/Conbine_dataset_3_classes-1_80-20-10-str/valid/images/001783.jpg  \n",
            "  inflating: /content/drive/MyDrive/my_yolov8/Conbine_dataset_3_classes-1_80-20-10-str/valid/images/007157.jpg  \n",
            "  inflating: /content/drive/MyDrive/my_yolov8/Conbine_dataset_3_classes-1_80-20-10-str/valid/images/004958.jpg  \n",
            "  inflating: /content/drive/MyDrive/my_yolov8/Conbine_dataset_3_classes-1_80-20-10-str/valid/images/006284.jpg  \n",
            "  inflating: /content/drive/MyDrive/my_yolov8/Conbine_dataset_3_classes-1_80-20-10-str/valid/images/005754.jpg  \n",
            "  inflating: /content/drive/MyDrive/my_yolov8/Conbine_dataset_3_classes-1_80-20-10-str/valid/images/001523.jpg  \n",
            "  inflating: /content/drive/MyDrive/my_yolov8/Conbine_dataset_3_classes-1_80-20-10-str/valid/images/004678.jpg  \n",
            "  inflating: /content/drive/MyDrive/my_yolov8/Conbine_dataset_3_classes-1_80-20-10-str/valid/images/003742.jpg  \n",
            "  inflating: /content/drive/MyDrive/my_yolov8/Conbine_dataset_3_classes-1_80-20-10-str/valid/images/004094.jpg  \n",
            "  inflating: /content/drive/MyDrive/my_yolov8/Conbine_dataset_3_classes-1_80-20-10-str/valid/images/000832.jpg  \n",
            "  inflating: /content/drive/MyDrive/my_yolov8/Conbine_dataset_3_classes-1_80-20-10-str/valid/images/003176.jpg  \n",
            "  inflating: /content/drive/MyDrive/my_yolov8/Conbine_dataset_3_classes-1_80-20-10-str/valid/images/006694.jpg  \n",
            "  inflating: /content/drive/MyDrive/my_yolov8/Conbine_dataset_3_classes-1_80-20-10-str/valid/images/002887.jpg  \n",
            "  inflating: /content/drive/MyDrive/my_yolov8/Conbine_dataset_3_classes-1_80-20-10-str/valid/images/005788.jpg  \n",
            "  inflating: /content/drive/MyDrive/my_yolov8/Conbine_dataset_3_classes-1_80-20-10-str/valid/images/001265.jpg  \n",
            "  inflating: /content/drive/MyDrive/my_yolov8/Conbine_dataset_3_classes-1_80-20-10-str/valid/images/005172.jpg  \n",
            "  inflating: /content/drive/MyDrive/my_yolov8/Conbine_dataset_3_classes-1_80-20-10-str/valid/images/005251.jpg  \n",
            "  inflating: /content/drive/MyDrive/my_yolov8/Conbine_dataset_3_classes-1_80-20-10-str/valid/images/005958.jpg  \n",
            "  inflating: /content/drive/MyDrive/my_yolov8/Conbine_dataset_3_classes-1_80-20-10-str/valid/images/002072.jpg  \n",
            "  inflating: /content/drive/MyDrive/my_yolov8/Conbine_dataset_3_classes-1_80-20-10-str/valid/images/001076.jpg  \n",
            "  inflating: /content/drive/MyDrive/my_yolov8/Conbine_dataset_3_classes-1_80-20-10-str/valid/images/005134.jpg  \n",
            "  inflating: /content/drive/MyDrive/my_yolov8/Conbine_dataset_3_classes-1_80-20-10-str/valid/images/003794.jpg  \n",
            "  inflating: /content/drive/MyDrive/my_yolov8/Conbine_dataset_3_classes-1_80-20-10-str/valid/images/000142.jpg  \n",
            "  inflating: /content/drive/MyDrive/my_yolov8/Conbine_dataset_3_classes-1_80-20-10-str/valid/images/002556.jpg  \n",
            "  inflating: /content/drive/MyDrive/my_yolov8/Conbine_dataset_3_classes-1_80-20-10-str/valid/images/001811.jpg  \n",
            "  inflating: /content/drive/MyDrive/my_yolov8/Conbine_dataset_3_classes-1_80-20-10-str/valid/images/000980.jpg  \n",
            "  inflating: /content/drive/MyDrive/my_yolov8/Conbine_dataset_3_classes-1_80-20-10-str/valid/images/006853.jpg  \n",
            "  inflating: /content/drive/MyDrive/my_yolov8/Conbine_dataset_3_classes-1_80-20-10-str/valid/images/002664.jpg  \n",
            "  inflating: /content/drive/MyDrive/my_yolov8/Conbine_dataset_3_classes-1_80-20-10-str/valid/images/001405.jpg  \n",
            "  inflating: /content/drive/MyDrive/my_yolov8/Conbine_dataset_3_classes-1_80-20-10-str/valid/images/004357.jpg  \n",
            "  inflating: /content/drive/MyDrive/my_yolov8/Conbine_dataset_3_classes-1_80-20-10-str/valid/images/005214.jpg  \n",
            "  inflating: /content/drive/MyDrive/my_yolov8/Conbine_dataset_3_classes-1_80-20-10-str/valid/images/002194.jpg  \n",
            "  inflating: /content/drive/MyDrive/my_yolov8/Conbine_dataset_3_classes-1_80-20-10-str/valid/images/006491.jpg  \n",
            "  inflating: /content/drive/MyDrive/my_yolov8/Conbine_dataset_3_classes-1_80-20-10-str/valid/images/000172.jpg  \n",
            "  inflating: /content/drive/MyDrive/my_yolov8/Conbine_dataset_3_classes-1_80-20-10-str/valid/images/000139.jpg  \n",
            "  inflating: /content/drive/MyDrive/my_yolov8/Conbine_dataset_3_classes-1_80-20-10-str/valid/images/005678.jpg  \n",
            "  inflating: /content/drive/MyDrive/my_yolov8/Conbine_dataset_3_classes-1_80-20-10-str/valid/images/006486.jpg  \n",
            "  inflating: /content/drive/MyDrive/my_yolov8/Conbine_dataset_3_classes-1_80-20-10-str/valid/images/004449.jpg  \n",
            "  inflating: /content/drive/MyDrive/my_yolov8/Conbine_dataset_3_classes-1_80-20-10-str/valid/images/002889.jpg  \n",
            "  inflating: /content/drive/MyDrive/my_yolov8/Conbine_dataset_3_classes-1_80-20-10-str/valid/images/006576.jpg  \n",
            "  inflating: /content/drive/MyDrive/my_yolov8/Conbine_dataset_3_classes-1_80-20-10-str/valid/images/005006.jpg  \n",
            "  inflating: /content/drive/MyDrive/my_yolov8/Conbine_dataset_3_classes-1_80-20-10-str/valid/images/002673.jpg  \n",
            "  inflating: /content/drive/MyDrive/my_yolov8/Conbine_dataset_3_classes-1_80-20-10-str/valid/images/007226.jpg  \n",
            "  inflating: /content/drive/MyDrive/my_yolov8/Conbine_dataset_3_classes-1_80-20-10-str/valid/images/000543.jpg  \n",
            "  inflating: /content/drive/MyDrive/my_yolov8/Conbine_dataset_3_classes-1_80-20-10-str/valid/images/005862.jpg  \n",
            "  inflating: /content/drive/MyDrive/my_yolov8/Conbine_dataset_3_classes-1_80-20-10-str/valid/images/005921.jpg  \n",
            "  inflating: /content/drive/MyDrive/my_yolov8/Conbine_dataset_3_classes-1_80-20-10-str/valid/images/005427.jpg  \n",
            "  inflating: /content/drive/MyDrive/my_yolov8/Conbine_dataset_3_classes-1_80-20-10-str/valid/images/006123.jpg  \n",
            "  inflating: /content/drive/MyDrive/my_yolov8/Conbine_dataset_3_classes-1_80-20-10-str/valid/images/000719.jpg  \n",
            "  inflating: /content/drive/MyDrive/my_yolov8/Conbine_dataset_3_classes-1_80-20-10-str/valid/images/004926.jpg  \n",
            "  inflating: /content/drive/MyDrive/my_yolov8/Conbine_dataset_3_classes-1_80-20-10-str/valid/images/002517.jpg  \n",
            "  inflating: /content/drive/MyDrive/my_yolov8/Conbine_dataset_3_classes-1_80-20-10-str/valid/images/004801.jpg  \n",
            "  inflating: /content/drive/MyDrive/my_yolov8/Conbine_dataset_3_classes-1_80-20-10-str/valid/images/002388.jpg  \n",
            "  inflating: /content/drive/MyDrive/my_yolov8/Conbine_dataset_3_classes-1_80-20-10-str/valid/images/007047.jpg  \n",
            "  inflating: /content/drive/MyDrive/my_yolov8/Conbine_dataset_3_classes-1_80-20-10-str/valid/images/006478.jpg  \n",
            "  inflating: /content/drive/MyDrive/my_yolov8/Conbine_dataset_3_classes-1_80-20-10-str/valid/images/004316.jpg  \n",
            "  inflating: /content/drive/MyDrive/my_yolov8/Conbine_dataset_3_classes-1_80-20-10-str/valid/images/003632.jpg  \n",
            "  inflating: /content/drive/MyDrive/my_yolov8/Conbine_dataset_3_classes-1_80-20-10-str/valid/images/004092.jpg  \n",
            "  inflating: /content/drive/MyDrive/my_yolov8/Conbine_dataset_3_classes-1_80-20-10-str/valid/images/006991.jpg  \n",
            "  inflating: /content/drive/MyDrive/my_yolov8/Conbine_dataset_3_classes-1_80-20-10-str/valid/images/004340.jpg  \n",
            "  inflating: /content/drive/MyDrive/my_yolov8/Conbine_dataset_3_classes-1_80-20-10-str/valid/images/000069.jpg  \n",
            "  inflating: /content/drive/MyDrive/my_yolov8/Conbine_dataset_3_classes-1_80-20-10-str/valid/images/005485.jpg  \n",
            "  inflating: /content/drive/MyDrive/my_yolov8/Conbine_dataset_3_classes-1_80-20-10-str/valid/images/002024.jpg  \n",
            "  inflating: /content/drive/MyDrive/my_yolov8/Conbine_dataset_3_classes-1_80-20-10-str/valid/images/003726.jpg  \n",
            "  inflating: /content/drive/MyDrive/my_yolov8/Conbine_dataset_3_classes-1_80-20-10-str/valid/images/000841.jpg  \n",
            "  inflating: /content/drive/MyDrive/my_yolov8/Conbine_dataset_3_classes-1_80-20-10-str/valid/images/006580.jpg  \n",
            "  inflating: /content/drive/MyDrive/my_yolov8/Conbine_dataset_3_classes-1_80-20-10-str/valid/images/001056.jpg  \n",
            "  inflating: /content/drive/MyDrive/my_yolov8/Conbine_dataset_3_classes-1_80-20-10-str/valid/images/000896.jpg  \n",
            "  inflating: /content/drive/MyDrive/my_yolov8/Conbine_dataset_3_classes-1_80-20-10-str/valid/images/004710.jpg  \n",
            "  inflating: /content/drive/MyDrive/my_yolov8/Conbine_dataset_3_classes-1_80-20-10-str/valid/images/003824.jpg  \n",
            "  inflating: /content/drive/MyDrive/my_yolov8/Conbine_dataset_3_classes-1_80-20-10-str/valid/images/000159.jpg  \n",
            "  inflating: /content/drive/MyDrive/my_yolov8/Conbine_dataset_3_classes-1_80-20-10-str/valid/images/004737.jpg  \n",
            "  inflating: /content/drive/MyDrive/my_yolov8/Conbine_dataset_3_classes-1_80-20-10-str/valid/images/003241.jpg  \n",
            "  inflating: /content/drive/MyDrive/my_yolov8/Conbine_dataset_3_classes-1_80-20-10-str/valid/images/006425.jpg  \n",
            "  inflating: /content/drive/MyDrive/my_yolov8/Conbine_dataset_3_classes-1_80-20-10-str/valid/images/000516.jpg  \n",
            "  inflating: /content/drive/MyDrive/my_yolov8/Conbine_dataset_3_classes-1_80-20-10-str/valid/images/003282.jpg  \n",
            "  inflating: /content/drive/MyDrive/my_yolov8/Conbine_dataset_3_classes-1_80-20-10-str/valid/images/000710.jpg  \n",
            "  inflating: /content/drive/MyDrive/my_yolov8/Conbine_dataset_3_classes-1_80-20-10-str/valid/images/001829.jpg  \n",
            "  inflating: /content/drive/MyDrive/my_yolov8/Conbine_dataset_3_classes-1_80-20-10-str/valid/images/005393.jpg  \n",
            "  inflating: /content/drive/MyDrive/my_yolov8/Conbine_dataset_3_classes-1_80-20-10-str/valid/images/000979.jpg  \n",
            "  inflating: /content/drive/MyDrive/my_yolov8/Conbine_dataset_3_classes-1_80-20-10-str/valid/images/007188.jpg  \n",
            "  inflating: /content/drive/MyDrive/my_yolov8/Conbine_dataset_3_classes-1_80-20-10-str/valid/images/005159.jpg  \n",
            "  inflating: /content/drive/MyDrive/my_yolov8/Conbine_dataset_3_classes-1_80-20-10-str/valid/images/003567.jpg  \n",
            "  inflating: /content/drive/MyDrive/my_yolov8/Conbine_dataset_3_classes-1_80-20-10-str/valid/images/006035.jpg  \n",
            "  inflating: /content/drive/MyDrive/my_yolov8/Conbine_dataset_3_classes-1_80-20-10-str/valid/images/000847.jpg  \n",
            "  inflating: /content/drive/MyDrive/my_yolov8/Conbine_dataset_3_classes-1_80-20-10-str/valid/images/001976.jpg  \n",
            "  inflating: /content/drive/MyDrive/my_yolov8/Conbine_dataset_3_classes-1_80-20-10-str/valid/images/006679.jpg  \n",
            "  inflating: /content/drive/MyDrive/my_yolov8/Conbine_dataset_3_classes-1_80-20-10-str/valid/images/002578.jpg  \n",
            "  inflating: /content/drive/MyDrive/my_yolov8/Conbine_dataset_3_classes-1_80-20-10-str/valid/images/007247.jpg  \n",
            "  inflating: /content/drive/MyDrive/my_yolov8/Conbine_dataset_3_classes-1_80-20-10-str/valid/images/006710.jpg  \n",
            "  inflating: /content/drive/MyDrive/my_yolov8/Conbine_dataset_3_classes-1_80-20-10-str/valid/images/005945.jpg  \n",
            "  inflating: /content/drive/MyDrive/my_yolov8/Conbine_dataset_3_classes-1_80-20-10-str/valid/images/000815.jpg  \n",
            "  inflating: /content/drive/MyDrive/my_yolov8/Conbine_dataset_3_classes-1_80-20-10-str/valid/images/006100.jpg  \n",
            "  inflating: /content/drive/MyDrive/my_yolov8/Conbine_dataset_3_classes-1_80-20-10-str/valid/images/004942.jpg  \n",
            "  inflating: /content/drive/MyDrive/my_yolov8/Conbine_dataset_3_classes-1_80-20-10-str/valid/images/004843.jpg  \n",
            "  inflating: /content/drive/MyDrive/my_yolov8/Conbine_dataset_3_classes-1_80-20-10-str/valid/images/002249.jpg  \n",
            "  inflating: /content/drive/MyDrive/my_yolov8/Conbine_dataset_3_classes-1_80-20-10-str/valid/images/000743.jpg  \n",
            "  inflating: /content/drive/MyDrive/my_yolov8/Conbine_dataset_3_classes-1_80-20-10-str/valid/images/000086.jpg  \n",
            "  inflating: /content/drive/MyDrive/my_yolov8/Conbine_dataset_3_classes-1_80-20-10-str/valid/images/000617.jpg  \n",
            "  inflating: /content/drive/MyDrive/my_yolov8/Conbine_dataset_3_classes-1_80-20-10-str/valid/images/002546.jpg  \n",
            "  inflating: /content/drive/MyDrive/my_yolov8/Conbine_dataset_3_classes-1_80-20-10-str/valid/images/001871.jpg  \n",
            "  inflating: /content/drive/MyDrive/my_yolov8/Conbine_dataset_3_classes-1_80-20-10-str/valid/images/000755.jpg  \n",
            "  inflating: /content/drive/MyDrive/my_yolov8/Conbine_dataset_3_classes-1_80-20-10-str/valid/images/006511.jpg  \n",
            "  inflating: /content/drive/MyDrive/my_yolov8/Conbine_dataset_3_classes-1_80-20-10-str/valid/images/005011.jpg  \n",
            "  inflating: /content/drive/MyDrive/my_yolov8/Conbine_dataset_3_classes-1_80-20-10-str/valid/images/006380.jpg  \n",
            "  inflating: /content/drive/MyDrive/my_yolov8/Conbine_dataset_3_classes-1_80-20-10-str/valid/images/002574.jpg  \n",
            "  inflating: /content/drive/MyDrive/my_yolov8/Conbine_dataset_3_classes-1_80-20-10-str/valid/images/001272.jpg  \n",
            "  inflating: /content/drive/MyDrive/my_yolov8/Conbine_dataset_3_classes-1_80-20-10-str/valid/images/003166.jpg  \n",
            "  inflating: /content/drive/MyDrive/my_yolov8/Conbine_dataset_3_classes-1_80-20-10-str/valid/images/002202.jpg  \n",
            "  inflating: /content/drive/MyDrive/my_yolov8/Conbine_dataset_3_classes-1_80-20-10-str/valid/images/002268.jpg  \n",
            "  inflating: /content/drive/MyDrive/my_yolov8/Conbine_dataset_3_classes-1_80-20-10-str/valid/images/003217.jpg  \n",
            "  inflating: /content/drive/MyDrive/my_yolov8/Conbine_dataset_3_classes-1_80-20-10-str/valid/images/000119.jpg  \n",
            "  inflating: /content/drive/MyDrive/my_yolov8/Conbine_dataset_3_classes-1_80-20-10-str/valid/images/000761.jpg  \n",
            "  inflating: /content/drive/MyDrive/my_yolov8/Conbine_dataset_3_classes-1_80-20-10-str/valid/images/006990.jpg  \n",
            "  inflating: /content/drive/MyDrive/my_yolov8/Conbine_dataset_3_classes-1_80-20-10-str/valid/images/002302.jpg  \n",
            "  inflating: /content/drive/MyDrive/my_yolov8/Conbine_dataset_3_classes-1_80-20-10-str/valid/images/003261.jpg  \n",
            "  inflating: /content/drive/MyDrive/my_yolov8/Conbine_dataset_3_classes-1_80-20-10-str/valid/images/006475.jpg  \n",
            "  inflating: /content/drive/MyDrive/my_yolov8/Conbine_dataset_3_classes-1_80-20-10-str/valid/images/004593.jpg  \n",
            "  inflating: /content/drive/MyDrive/my_yolov8/Conbine_dataset_3_classes-1_80-20-10-str/valid/images/003384.jpg  \n",
            "  inflating: /content/drive/MyDrive/my_yolov8/Conbine_dataset_3_classes-1_80-20-10-str/valid/images/005736.jpg  \n",
            "  inflating: /content/drive/MyDrive/my_yolov8/Conbine_dataset_3_classes-1_80-20-10-str/valid/images/005748.jpg  \n",
            "  inflating: /content/drive/MyDrive/my_yolov8/Conbine_dataset_3_classes-1_80-20-10-str/valid/images/001470.jpg  \n",
            "  inflating: /content/drive/MyDrive/my_yolov8/Conbine_dataset_3_classes-1_80-20-10-str/valid/images/001342.jpg  \n",
            "  inflating: /content/drive/MyDrive/my_yolov8/Conbine_dataset_3_classes-1_80-20-10-str/valid/images/005290.jpg  \n",
            "  inflating: /content/drive/MyDrive/my_yolov8/Conbine_dataset_3_classes-1_80-20-10-str/valid/images/006412.jpg  \n",
            "  inflating: /content/drive/MyDrive/my_yolov8/Conbine_dataset_3_classes-1_80-20-10-str/valid/images/004369.jpg  \n",
            "  inflating: /content/drive/MyDrive/my_yolov8/Conbine_dataset_3_classes-1_80-20-10-str/valid/images/005571.jpg  \n",
            "  inflating: /content/drive/MyDrive/my_yolov8/Conbine_dataset_3_classes-1_80-20-10-str/valid/images/003529.jpg  \n",
            "  inflating: /content/drive/MyDrive/my_yolov8/Conbine_dataset_3_classes-1_80-20-10-str/valid/images/006391.jpg  \n",
            "  inflating: /content/drive/MyDrive/my_yolov8/Conbine_dataset_3_classes-1_80-20-10-str/valid/images/000596.jpg  \n",
            "  inflating: /content/drive/MyDrive/my_yolov8/Conbine_dataset_3_classes-1_80-20-10-str/valid/images/003629.jpg  \n",
            "  inflating: /content/drive/MyDrive/my_yolov8/Conbine_dataset_3_classes-1_80-20-10-str/valid/images/001623.jpg  \n",
            "  inflating: /content/drive/MyDrive/my_yolov8/Conbine_dataset_3_classes-1_80-20-10-str/valid/images/001991.jpg  \n",
            "  inflating: /content/drive/MyDrive/my_yolov8/Conbine_dataset_3_classes-1_80-20-10-str/valid/images/006727.jpg  \n",
            "  inflating: /content/drive/MyDrive/my_yolov8/Conbine_dataset_3_classes-1_80-20-10-str/valid/images/004415.jpg  \n",
            "  inflating: /content/drive/MyDrive/my_yolov8/Conbine_dataset_3_classes-1_80-20-10-str/valid/images/006101.jpg  \n",
            "  inflating: /content/drive/MyDrive/my_yolov8/Conbine_dataset_3_classes-1_80-20-10-str/valid/images/002358.jpg  \n",
            "  inflating: /content/drive/MyDrive/my_yolov8/Conbine_dataset_3_classes-1_80-20-10-str/valid/images/002370.jpg  \n",
            "  inflating: /content/drive/MyDrive/my_yolov8/Conbine_dataset_3_classes-1_80-20-10-str/valid/images/006522.jpg  \n",
            "  inflating: /content/drive/MyDrive/my_yolov8/Conbine_dataset_3_classes-1_80-20-10-str/valid/images/005954.jpg  \n",
            "  inflating: /content/drive/MyDrive/my_yolov8/Conbine_dataset_3_classes-1_80-20-10-str/valid/images/000232.jpg  \n",
            "  inflating: /content/drive/MyDrive/my_yolov8/Conbine_dataset_3_classes-1_80-20-10-str/valid/images/001839.jpg  \n",
            "  inflating: /content/drive/MyDrive/my_yolov8/Conbine_dataset_3_classes-1_80-20-10-str/valid/images/001736.jpg  \n",
            "  inflating: /content/drive/MyDrive/my_yolov8/Conbine_dataset_3_classes-1_80-20-10-str/valid/images/000444.jpg  \n",
            "  inflating: /content/drive/MyDrive/my_yolov8/Conbine_dataset_3_classes-1_80-20-10-str/valid/images/004124.jpg  \n",
            "  inflating: /content/drive/MyDrive/my_yolov8/Conbine_dataset_3_classes-1_80-20-10-str/valid/images/005532.jpg  \n",
            "  inflating: /content/drive/MyDrive/my_yolov8/Conbine_dataset_3_classes-1_80-20-10-str/valid/images/000110.jpg  \n",
            "  inflating: /content/drive/MyDrive/my_yolov8/Conbine_dataset_3_classes-1_80-20-10-str/valid/images/004849.jpg  \n",
            "  inflating: /content/drive/MyDrive/my_yolov8/Conbine_dataset_3_classes-1_80-20-10-str/valid/images/000537.jpg  \n",
            "  inflating: /content/drive/MyDrive/my_yolov8/Conbine_dataset_3_classes-1_80-20-10-str/valid/images/006042.jpg  \n",
            "  inflating: /content/drive/MyDrive/my_yolov8/Conbine_dataset_3_classes-1_80-20-10-str/valid/images/004291.jpg  \n",
            "  inflating: /content/drive/MyDrive/my_yolov8/Conbine_dataset_3_classes-1_80-20-10-str/valid/images/003124.jpg  \n",
            "  inflating: /content/drive/MyDrive/my_yolov8/Conbine_dataset_3_classes-1_80-20-10-str/valid/images/005313.jpg  \n",
            "  inflating: /content/drive/MyDrive/my_yolov8/Conbine_dataset_3_classes-1_80-20-10-str/valid/images/006355.jpg  \n",
            "  inflating: /content/drive/MyDrive/my_yolov8/Conbine_dataset_3_classes-1_80-20-10-str/valid/images/004649.jpg  \n",
            "  inflating: /content/drive/MyDrive/my_yolov8/Conbine_dataset_3_classes-1_80-20-10-str/valid/images/006015.jpg  \n",
            "  inflating: /content/drive/MyDrive/my_yolov8/Conbine_dataset_3_classes-1_80-20-10-str/valid/images/001173.jpg  \n",
            "  inflating: /content/drive/MyDrive/my_yolov8/Conbine_dataset_3_classes-1_80-20-10-str/valid/images/000028.jpg  \n",
            "  inflating: /content/drive/MyDrive/my_yolov8/Conbine_dataset_3_classes-1_80-20-10-str/valid/images/005440.jpg  \n",
            "  inflating: /content/drive/MyDrive/my_yolov8/Conbine_dataset_3_classes-1_80-20-10-str/valid/images/001080.jpg  \n",
            "  inflating: /content/drive/MyDrive/my_yolov8/Conbine_dataset_3_classes-1_80-20-10-str/valid/images/003376.jpg  \n",
            "  inflating: /content/drive/MyDrive/my_yolov8/Conbine_dataset_3_classes-1_80-20-10-str/valid/images/002994.jpg  \n",
            "  inflating: /content/drive/MyDrive/my_yolov8/Conbine_dataset_3_classes-1_80-20-10-str/valid/images/004077.jpg  \n",
            "  inflating: /content/drive/MyDrive/my_yolov8/Conbine_dataset_3_classes-1_80-20-10-str/valid/images/005443.jpg  \n",
            "  inflating: /content/drive/MyDrive/my_yolov8/Conbine_dataset_3_classes-1_80-20-10-str/valid/images/001000.jpg  \n",
            "  inflating: /content/drive/MyDrive/my_yolov8/Conbine_dataset_3_classes-1_80-20-10-str/valid/images/002021.jpg  \n",
            "  inflating: /content/drive/MyDrive/my_yolov8/Conbine_dataset_3_classes-1_80-20-10-str/valid/images/005978.jpg  \n",
            "  inflating: /content/drive/MyDrive/my_yolov8/Conbine_dataset_3_classes-1_80-20-10-str/valid/images/001665.jpg  \n",
            "  inflating: /content/drive/MyDrive/my_yolov8/Conbine_dataset_3_classes-1_80-20-10-str/valid/images/005097.jpg  \n",
            "  inflating: /content/drive/MyDrive/my_yolov8/Conbine_dataset_3_classes-1_80-20-10-str/valid/images/001716.jpg  \n",
            "  inflating: /content/drive/MyDrive/my_yolov8/Conbine_dataset_3_classes-1_80-20-10-str/valid/images/006452.jpg  \n",
            "  inflating: /content/drive/MyDrive/my_yolov8/Conbine_dataset_3_classes-1_80-20-10-str/valid/images/004812.jpg  \n",
            "  inflating: /content/drive/MyDrive/my_yolov8/Conbine_dataset_3_classes-1_80-20-10-str/valid/images/000115.jpg  \n",
            "  inflating: /content/drive/MyDrive/my_yolov8/Conbine_dataset_3_classes-1_80-20-10-str/valid/images/004921.jpg  \n",
            "  inflating: /content/drive/MyDrive/my_yolov8/Conbine_dataset_3_classes-1_80-20-10-str/valid/images/006096.jpg  \n",
            "  inflating: /content/drive/MyDrive/my_yolov8/Conbine_dataset_3_classes-1_80-20-10-str/valid/images/005966.jpg  \n",
            "  inflating: /content/drive/MyDrive/my_yolov8/Conbine_dataset_3_classes-1_80-20-10-str/valid/images/005249.jpg  \n",
            "  inflating: /content/drive/MyDrive/my_yolov8/Conbine_dataset_3_classes-1_80-20-10-str/valid/images/004530.jpg  \n",
            "  inflating: /content/drive/MyDrive/my_yolov8/Conbine_dataset_3_classes-1_80-20-10-str/valid/images/001179.jpg  \n",
            "  inflating: /content/drive/MyDrive/my_yolov8/Conbine_dataset_3_classes-1_80-20-10-str/valid/images/002147.jpg  \n",
            "  inflating: /content/drive/MyDrive/my_yolov8/Conbine_dataset_3_classes-1_80-20-10-str/valid/images/006266.jpg  \n",
            "  inflating: /content/drive/MyDrive/my_yolov8/Conbine_dataset_3_classes-1_80-20-10-str/valid/images/005944.jpg  \n",
            "  inflating: /content/drive/MyDrive/my_yolov8/Conbine_dataset_3_classes-1_80-20-10-str/valid/images/003475.jpg  \n",
            "  inflating: /content/drive/MyDrive/my_yolov8/Conbine_dataset_3_classes-1_80-20-10-str/valid/images/002102.jpg  \n",
            "  inflating: /content/drive/MyDrive/my_yolov8/Conbine_dataset_3_classes-1_80-20-10-str/valid/images/001150.jpg  \n",
            "  inflating: /content/drive/MyDrive/my_yolov8/Conbine_dataset_3_classes-1_80-20-10-str/valid/images/003620.jpg  \n",
            "  inflating: /content/drive/MyDrive/my_yolov8/Conbine_dataset_3_classes-1_80-20-10-str/valid/images/002646.jpg  \n",
            "  inflating: /content/drive/MyDrive/my_yolov8/Conbine_dataset_3_classes-1_80-20-10-str/valid/images/006531.jpg  \n",
            "  inflating: /content/drive/MyDrive/my_yolov8/Conbine_dataset_3_classes-1_80-20-10-str/valid/images/002881.jpg  \n",
            "  inflating: /content/drive/MyDrive/my_yolov8/Conbine_dataset_3_classes-1_80-20-10-str/valid/images/002748.jpg  \n",
            "  inflating: /content/drive/MyDrive/my_yolov8/Conbine_dataset_3_classes-1_80-20-10-str/valid/images/003410.jpg  \n",
            "  inflating: /content/drive/MyDrive/my_yolov8/Conbine_dataset_3_classes-1_80-20-10-str/valid/images/005343.jpg  \n",
            "  inflating: /content/drive/MyDrive/my_yolov8/Conbine_dataset_3_classes-1_80-20-10-str/valid/images/002513.jpg  \n",
            "  inflating: /content/drive/MyDrive/my_yolov8/Conbine_dataset_3_classes-1_80-20-10-str/valid/images/000873.jpg  \n",
            "  inflating: /content/drive/MyDrive/my_yolov8/Conbine_dataset_3_classes-1_80-20-10-str/valid/images/003443.jpg  \n",
            "  inflating: /content/drive/MyDrive/my_yolov8/Conbine_dataset_3_classes-1_80-20-10-str/valid/images/004165.jpg  \n",
            "  inflating: /content/drive/MyDrive/my_yolov8/Conbine_dataset_3_classes-1_80-20-10-str/valid/images/006797.jpg  \n",
            "  inflating: /content/drive/MyDrive/my_yolov8/Conbine_dataset_3_classes-1_80-20-10-str/valid/images/005570.jpg  \n",
            "  inflating: /content/drive/MyDrive/my_yolov8/Conbine_dataset_3_classes-1_80-20-10-str/valid/images/000901.jpg  \n",
            "  inflating: /content/drive/MyDrive/my_yolov8/Conbine_dataset_3_classes-1_80-20-10-str/valid/images/003702.jpg  \n",
            "  inflating: /content/drive/MyDrive/my_yolov8/Conbine_dataset_3_classes-1_80-20-10-str/valid/images/000016.jpg  \n",
            "  inflating: /content/drive/MyDrive/my_yolov8/Conbine_dataset_3_classes-1_80-20-10-str/valid/images/003206.jpg  \n",
            "  inflating: /content/drive/MyDrive/my_yolov8/Conbine_dataset_3_classes-1_80-20-10-str/valid/images/005358.jpg  \n",
            "  inflating: /content/drive/MyDrive/my_yolov8/Conbine_dataset_3_classes-1_80-20-10-str/valid/images/002844.jpg  \n",
            "  inflating: /content/drive/MyDrive/my_yolov8/Conbine_dataset_3_classes-1_80-20-10-str/valid/images/003877.jpg  \n",
            "  inflating: /content/drive/MyDrive/my_yolov8/Conbine_dataset_3_classes-1_80-20-10-str/valid/images/004020.jpg  \n",
            "  inflating: /content/drive/MyDrive/my_yolov8/Conbine_dataset_3_classes-1_80-20-10-str/valid/images/001559.jpg  \n",
            "  inflating: /content/drive/MyDrive/my_yolov8/Conbine_dataset_3_classes-1_80-20-10-str/valid/images/004729.jpg  \n",
            "  inflating: /content/drive/MyDrive/my_yolov8/Conbine_dataset_3_classes-1_80-20-10-str/valid/images/000163.jpg  \n",
            "  inflating: /content/drive/MyDrive/my_yolov8/Conbine_dataset_3_classes-1_80-20-10-str/valid/images/005025.jpg  \n",
            "  inflating: /content/drive/MyDrive/my_yolov8/Conbine_dataset_3_classes-1_80-20-10-str/valid/images/000136.jpg  \n",
            "  inflating: /content/drive/MyDrive/my_yolov8/Conbine_dataset_3_classes-1_80-20-10-str/valid/images/000248.jpg  \n",
            "  inflating: /content/drive/MyDrive/my_yolov8/Conbine_dataset_3_classes-1_80-20-10-str/valid/images/006023.jpg  \n",
            "  inflating: /content/drive/MyDrive/my_yolov8/Conbine_dataset_3_classes-1_80-20-10-str/valid/images/000638.jpg  \n",
            "  inflating: /content/drive/MyDrive/my_yolov8/Conbine_dataset_3_classes-1_80-20-10-str/valid/images/005262.jpg  \n",
            "  inflating: /content/drive/MyDrive/my_yolov8/Conbine_dataset_3_classes-1_80-20-10-str/valid/images/004739.jpg  \n",
            "  inflating: /content/drive/MyDrive/my_yolov8/Conbine_dataset_3_classes-1_80-20-10-str/valid/images/001625.jpg  \n",
            "  inflating: /content/drive/MyDrive/my_yolov8/Conbine_dataset_3_classes-1_80-20-10-str/valid/images/005581.jpg  \n",
            "  inflating: /content/drive/MyDrive/my_yolov8/Conbine_dataset_3_classes-1_80-20-10-str/valid/images/007132.jpg  \n",
            "  inflating: /content/drive/MyDrive/my_yolov8/Conbine_dataset_3_classes-1_80-20-10-str/valid/images/002113.jpg  \n",
            "  inflating: /content/drive/MyDrive/my_yolov8/Conbine_dataset_3_classes-1_80-20-10-str/valid/images/004088.jpg  \n",
            "  inflating: /content/drive/MyDrive/my_yolov8/Conbine_dataset_3_classes-1_80-20-10-str/valid/images/004301.jpg  \n",
            "  inflating: /content/drive/MyDrive/my_yolov8/Conbine_dataset_3_classes-1_80-20-10-str/valid/images/000064.jpg  \n",
            "  inflating: /content/drive/MyDrive/my_yolov8/Conbine_dataset_3_classes-1_80-20-10-str/valid/images/003858.jpg  \n",
            "  inflating: /content/drive/MyDrive/my_yolov8/Conbine_dataset_3_classes-1_80-20-10-str/valid/images/000088.jpg  \n",
            "  inflating: /content/drive/MyDrive/my_yolov8/Conbine_dataset_3_classes-1_80-20-10-str/valid/images/002405.jpg  \n",
            "  inflating: /content/drive/MyDrive/my_yolov8/Conbine_dataset_3_classes-1_80-20-10-str/valid/images/006340.jpg  \n",
            "  inflating: /content/drive/MyDrive/my_yolov8/Conbine_dataset_3_classes-1_80-20-10-str/valid/images/003798.jpg  \n",
            "  inflating: /content/drive/MyDrive/my_yolov8/Conbine_dataset_3_classes-1_80-20-10-str/valid/images/005381.jpg  \n",
            "  inflating: /content/drive/MyDrive/my_yolov8/Conbine_dataset_3_classes-1_80-20-10-str/valid/images/000397.jpg  \n",
            "  inflating: /content/drive/MyDrive/my_yolov8/Conbine_dataset_3_classes-1_80-20-10-str/valid/images/005034.jpg  \n",
            "  inflating: /content/drive/MyDrive/my_yolov8/Conbine_dataset_3_classes-1_80-20-10-str/valid/images/005058.jpg  \n",
            "  inflating: /content/drive/MyDrive/my_yolov8/Conbine_dataset_3_classes-1_80-20-10-str/valid/images/002554.jpg  \n",
            "  inflating: /content/drive/MyDrive/my_yolov8/Conbine_dataset_3_classes-1_80-20-10-str/valid/images/006492.jpg  \n",
            "  inflating: /content/drive/MyDrive/my_yolov8/Conbine_dataset_3_classes-1_80-20-10-str/valid/images/001385.jpg  \n",
            "  inflating: /content/drive/MyDrive/my_yolov8/Conbine_dataset_3_classes-1_80-20-10-str/valid/images/006722.jpg  \n",
            "  inflating: /content/drive/MyDrive/my_yolov8/Conbine_dataset_3_classes-1_80-20-10-str/valid/images/001100.jpg  \n",
            "  inflating: /content/drive/MyDrive/my_yolov8/Conbine_dataset_3_classes-1_80-20-10-str/valid/images/003033.jpg  \n",
            "  inflating: /content/drive/MyDrive/my_yolov8/Conbine_dataset_3_classes-1_80-20-10-str/valid/images/003022.jpg  \n",
            "  inflating: /content/drive/MyDrive/my_yolov8/Conbine_dataset_3_classes-1_80-20-10-str/valid/images/004082.jpg  \n",
            "  inflating: /content/drive/MyDrive/my_yolov8/Conbine_dataset_3_classes-1_80-20-10-str/valid/images/006331.jpg  \n",
            "  inflating: /content/drive/MyDrive/my_yolov8/Conbine_dataset_3_classes-1_80-20-10-str/valid/images/000893.jpg  \n",
            "  inflating: /content/drive/MyDrive/my_yolov8/Conbine_dataset_3_classes-1_80-20-10-str/valid/images/002502.jpg  \n",
            "  inflating: /content/drive/MyDrive/my_yolov8/Conbine_dataset_3_classes-1_80-20-10-str/valid/images/005738.jpg  \n",
            "  inflating: /content/drive/MyDrive/my_yolov8/Conbine_dataset_3_classes-1_80-20-10-str/valid/images/000440.jpg  \n",
            "  inflating: /content/drive/MyDrive/my_yolov8/Conbine_dataset_3_classes-1_80-20-10-str/valid/images/006837.jpg  \n",
            "  inflating: /content/drive/MyDrive/my_yolov8/Conbine_dataset_3_classes-1_80-20-10-str/valid/images/002427.jpg  \n",
            "  inflating: /content/drive/MyDrive/my_yolov8/Conbine_dataset_3_classes-1_80-20-10-str/valid/images/005320.jpg  \n",
            "  inflating: /content/drive/MyDrive/my_yolov8/Conbine_dataset_3_classes-1_80-20-10-str/valid/images/000076.jpg  \n",
            "  inflating: /content/drive/MyDrive/my_yolov8/Conbine_dataset_3_classes-1_80-20-10-str/valid/images/004835.jpg  \n",
            "  inflating: /content/drive/MyDrive/my_yolov8/Conbine_dataset_3_classes-1_80-20-10-str/valid/images/005230.jpg  \n",
            "  inflating: /content/drive/MyDrive/my_yolov8/Conbine_dataset_3_classes-1_80-20-10-str/valid/images/002200.jpg  \n",
            "  inflating: /content/drive/MyDrive/my_yolov8/Conbine_dataset_3_classes-1_80-20-10-str/valid/images/004661.jpg  \n",
            "  inflating: /content/drive/MyDrive/my_yolov8/Conbine_dataset_3_classes-1_80-20-10-str/valid/images/004999.jpg  \n",
            "  inflating: /content/drive/MyDrive/my_yolov8/Conbine_dataset_3_classes-1_80-20-10-str/valid/images/003298.jpg  \n",
            "  inflating: /content/drive/MyDrive/my_yolov8/Conbine_dataset_3_classes-1_80-20-10-str/valid/images/001602.jpg  \n",
            "  inflating: /content/drive/MyDrive/my_yolov8/Conbine_dataset_3_classes-1_80-20-10-str/valid/images/003800.jpg  \n",
            "  inflating: /content/drive/MyDrive/my_yolov8/Conbine_dataset_3_classes-1_80-20-10-str/valid/images/002212.jpg  \n",
            "  inflating: /content/drive/MyDrive/my_yolov8/Conbine_dataset_3_classes-1_80-20-10-str/valid/images/000827.jpg  \n",
            "  inflating: /content/drive/MyDrive/my_yolov8/Conbine_dataset_3_classes-1_80-20-10-str/valid/images/005448.jpg  \n",
            "  inflating: /content/drive/MyDrive/my_yolov8/Conbine_dataset_3_classes-1_80-20-10-str/valid/images/002712.jpg  \n",
            "  inflating: /content/drive/MyDrive/my_yolov8/Conbine_dataset_3_classes-1_80-20-10-str/valid/images/002910.jpg  \n",
            "  inflating: /content/drive/MyDrive/my_yolov8/Conbine_dataset_3_classes-1_80-20-10-str/valid/images/001170.jpg  \n",
            "  inflating: /content/drive/MyDrive/my_yolov8/Conbine_dataset_3_classes-1_80-20-10-str/valid/images/000105.jpg  \n",
            "  inflating: /content/drive/MyDrive/my_yolov8/Conbine_dataset_3_classes-1_80-20-10-str/valid/images/004104.jpg  \n",
            "  inflating: /content/drive/MyDrive/my_yolov8/Conbine_dataset_3_classes-1_80-20-10-str/valid/images/000070.jpg  \n",
            "  inflating: /content/drive/MyDrive/my_yolov8/Conbine_dataset_3_classes-1_80-20-10-str/valid/images/004266.jpg  \n",
            "  inflating: /content/drive/MyDrive/my_yolov8/Conbine_dataset_3_classes-1_80-20-10-str/valid/images/004027.jpg  \n",
            "  inflating: /content/drive/MyDrive/my_yolov8/Conbine_dataset_3_classes-1_80-20-10-str/valid/images/000482.jpg  \n",
            "  inflating: /content/drive/MyDrive/my_yolov8/Conbine_dataset_3_classes-1_80-20-10-str/valid/images/000741.jpg  \n",
            "  inflating: /content/drive/MyDrive/my_yolov8/Conbine_dataset_3_classes-1_80-20-10-str/valid/images/003159.jpg  \n",
            "  inflating: /content/drive/MyDrive/my_yolov8/Conbine_dataset_3_classes-1_80-20-10-str/valid/images/001760.jpg  \n",
            "  inflating: /content/drive/MyDrive/my_yolov8/Conbine_dataset_3_classes-1_80-20-10-str/valid/images/001766.jpg  \n",
            "  inflating: /content/drive/MyDrive/my_yolov8/Conbine_dataset_3_classes-1_80-20-10-str/valid/images/002850.jpg  \n",
            "  inflating: /content/drive/MyDrive/my_yolov8/Conbine_dataset_3_classes-1_80-20-10-str/valid/images/002853.jpg  \n",
            "  inflating: /content/drive/MyDrive/my_yolov8/Conbine_dataset_3_classes-1_80-20-10-str/valid/images/006243.jpg  \n",
            "  inflating: /content/drive/MyDrive/my_yolov8/Conbine_dataset_3_classes-1_80-20-10-str/valid/images/002172.jpg  \n",
            "  inflating: /content/drive/MyDrive/my_yolov8/Conbine_dataset_3_classes-1_80-20-10-str/valid/images/005094.jpg  \n",
            "  inflating: /content/drive/MyDrive/my_yolov8/Conbine_dataset_3_classes-1_80-20-10-str/valid/images/002971.jpg  \n",
            "  inflating: /content/drive/MyDrive/my_yolov8/Conbine_dataset_3_classes-1_80-20-10-str/valid/images/004175.jpg  \n",
            "  inflating: /content/drive/MyDrive/my_yolov8/Conbine_dataset_3_classes-1_80-20-10-str/valid/images/000288.jpg  \n",
            "  inflating: /content/drive/MyDrive/my_yolov8/Conbine_dataset_3_classes-1_80-20-10-str/valid/images/006344.jpg  \n",
            "  inflating: /content/drive/MyDrive/my_yolov8/Conbine_dataset_3_classes-1_80-20-10-str/valid/images/001087.jpg  \n",
            "  inflating: /content/drive/MyDrive/my_yolov8/Conbine_dataset_3_classes-1_80-20-10-str/valid/images/000762.jpg  \n",
            "  inflating: /content/drive/MyDrive/my_yolov8/Conbine_dataset_3_classes-1_80-20-10-str/valid/images/004526.jpg  \n",
            "  inflating: /content/drive/MyDrive/my_yolov8/Conbine_dataset_3_classes-1_80-20-10-str/valid/images/003687.jpg  \n",
            "  inflating: /content/drive/MyDrive/my_yolov8/Conbine_dataset_3_classes-1_80-20-10-str/valid/images/006117.jpg  \n",
            "  inflating: /content/drive/MyDrive/my_yolov8/Conbine_dataset_3_classes-1_80-20-10-str/valid/images/002296.jpg  \n",
            "  inflating: /content/drive/MyDrive/my_yolov8/Conbine_dataset_3_classes-1_80-20-10-str/valid/images/002016.jpg  \n",
            "  inflating: /content/drive/MyDrive/my_yolov8/Conbine_dataset_3_classes-1_80-20-10-str/valid/images/003638.jpg  \n",
            "  inflating: /content/drive/MyDrive/my_yolov8/Conbine_dataset_3_classes-1_80-20-10-str/valid/images/004284.jpg  \n",
            "  inflating: /content/drive/MyDrive/my_yolov8/Conbine_dataset_3_classes-1_80-20-10-str/valid/images/001070.jpg  \n",
            "  inflating: /content/drive/MyDrive/my_yolov8/Conbine_dataset_3_classes-1_80-20-10-str/valid/images/006403.jpg  \n",
            "  inflating: /content/drive/MyDrive/my_yolov8/Conbine_dataset_3_classes-1_80-20-10-str/valid/images/002859.jpg  \n",
            "  inflating: /content/drive/MyDrive/my_yolov8/Conbine_dataset_3_classes-1_80-20-10-str/valid/images/005463.jpg  \n",
            "  inflating: /content/drive/MyDrive/my_yolov8/Conbine_dataset_3_classes-1_80-20-10-str/valid/images/006661.jpg  \n",
            "  inflating: /content/drive/MyDrive/my_yolov8/Conbine_dataset_3_classes-1_80-20-10-str/valid/images/000673.jpg  \n",
            "  inflating: /content/drive/MyDrive/my_yolov8/Conbine_dataset_3_classes-1_80-20-10-str/valid/images/005691.jpg  \n",
            "  inflating: /content/drive/MyDrive/my_yolov8/Conbine_dataset_3_classes-1_80-20-10-str/valid/images/005204.jpg  \n",
            "  inflating: /content/drive/MyDrive/my_yolov8/Conbine_dataset_3_classes-1_80-20-10-str/valid/images/006975.jpg  \n",
            "  inflating: /content/drive/MyDrive/my_yolov8/Conbine_dataset_3_classes-1_80-20-10-str/valid/images/003386.jpg  \n",
            "  inflating: /content/drive/MyDrive/my_yolov8/Conbine_dataset_3_classes-1_80-20-10-str/valid/images/001692.jpg  \n",
            "  inflating: /content/drive/MyDrive/my_yolov8/Conbine_dataset_3_classes-1_80-20-10-str/valid/images/002480.jpg  \n",
            "  inflating: /content/drive/MyDrive/my_yolov8/Conbine_dataset_3_classes-1_80-20-10-str/valid/images/006907.jpg  \n",
            "  inflating: /content/drive/MyDrive/my_yolov8/Conbine_dataset_3_classes-1_80-20-10-str/valid/images/001593.jpg  \n",
            "  inflating: /content/drive/MyDrive/my_yolov8/Conbine_dataset_3_classes-1_80-20-10-str/valid/images/001139.jpg  \n",
            "  inflating: /content/drive/MyDrive/my_yolov8/Conbine_dataset_3_classes-1_80-20-10-str/valid/images/000991.jpg  \n",
            "  inflating: /content/drive/MyDrive/my_yolov8/Conbine_dataset_3_classes-1_80-20-10-str/valid/images/002580.jpg  \n",
            "  inflating: /content/drive/MyDrive/my_yolov8/Conbine_dataset_3_classes-1_80-20-10-str/valid/images/002868.jpg  \n",
            "  inflating: /content/drive/MyDrive/my_yolov8/Conbine_dataset_3_classes-1_80-20-10-str/valid/images/005656.jpg  \n",
            "  inflating: /content/drive/MyDrive/my_yolov8/Conbine_dataset_3_classes-1_80-20-10-str/valid/images/001184.jpg  \n",
            "  inflating: /content/drive/MyDrive/my_yolov8/Conbine_dataset_3_classes-1_80-20-10-str/valid/images/002165.jpg  \n",
            "  inflating: /content/drive/MyDrive/my_yolov8/Conbine_dataset_3_classes-1_80-20-10-str/valid/images/002188.jpg  \n",
            "  inflating: /content/drive/MyDrive/my_yolov8/Conbine_dataset_3_classes-1_80-20-10-str/valid/images/001381.jpg  \n",
            "  inflating: /content/drive/MyDrive/my_yolov8/Conbine_dataset_3_classes-1_80-20-10-str/valid/images/002158.jpg  \n",
            "  inflating: /content/drive/MyDrive/my_yolov8/Conbine_dataset_3_classes-1_80-20-10-str/valid/images/005282.jpg  \n",
            "  inflating: /content/drive/MyDrive/my_yolov8/Conbine_dataset_3_classes-1_80-20-10-str/valid/images/002162.jpg  \n",
            "  inflating: /content/drive/MyDrive/my_yolov8/Conbine_dataset_3_classes-1_80-20-10-str/valid/images/001358.jpg  \n",
            "  inflating: /content/drive/MyDrive/my_yolov8/Conbine_dataset_3_classes-1_80-20-10-str/valid/images/006225.jpg  \n",
            "  inflating: /content/drive/MyDrive/my_yolov8/Conbine_dataset_3_classes-1_80-20-10-str/valid/images/005580.jpg  \n",
            "  inflating: /content/drive/MyDrive/my_yolov8/Conbine_dataset_3_classes-1_80-20-10-str/valid/images/003832.jpg  \n",
            "  inflating: /content/drive/MyDrive/my_yolov8/Conbine_dataset_3_classes-1_80-20-10-str/valid/images/007079.jpg  \n",
            "  inflating: /content/drive/MyDrive/my_yolov8/Conbine_dataset_3_classes-1_80-20-10-str/valid/images/004482.jpg  \n",
            "  inflating: /content/drive/MyDrive/my_yolov8/Conbine_dataset_3_classes-1_80-20-10-str/valid/images/005263.jpg  \n",
            "  inflating: /content/drive/MyDrive/my_yolov8/Conbine_dataset_3_classes-1_80-20-10-str/valid/images/000848.jpg  \n",
            "  inflating: /content/drive/MyDrive/my_yolov8/Conbine_dataset_3_classes-1_80-20-10-str/valid/images/006008.jpg  \n",
            "  inflating: /content/drive/MyDrive/my_yolov8/Conbine_dataset_3_classes-1_80-20-10-str/valid/images/006928.jpg  \n",
            "  inflating: /content/drive/MyDrive/my_yolov8/Conbine_dataset_3_classes-1_80-20-10-str/valid/images/002989.jpg  \n",
            "  inflating: /content/drive/MyDrive/my_yolov8/Conbine_dataset_3_classes-1_80-20-10-str/valid/images/001006.jpg  \n",
            "  inflating: /content/drive/MyDrive/my_yolov8/Conbine_dataset_3_classes-1_80-20-10-str/valid/images/007076.jpg  \n",
            "  inflating: /content/drive/MyDrive/my_yolov8/Conbine_dataset_3_classes-1_80-20-10-str/valid/images/003787.jpg  \n",
            "  inflating: /content/drive/MyDrive/my_yolov8/Conbine_dataset_3_classes-1_80-20-10-str/valid/images/004974.jpg  \n",
            "  inflating: /content/drive/MyDrive/my_yolov8/Conbine_dataset_3_classes-1_80-20-10-str/valid/images/006709.jpg  \n",
            "  inflating: /content/drive/MyDrive/my_yolov8/Conbine_dataset_3_classes-1_80-20-10-str/valid/images/006540.jpg  \n",
            "  inflating: /content/drive/MyDrive/my_yolov8/Conbine_dataset_3_classes-1_80-20-10-str/valid/images/003904.jpg  \n",
            "  inflating: /content/drive/MyDrive/my_yolov8/Conbine_dataset_3_classes-1_80-20-10-str/valid/images/003676.jpg  \n",
            "  inflating: /content/drive/MyDrive/my_yolov8/Conbine_dataset_3_classes-1_80-20-10-str/valid/images/007201.jpg  \n",
            "  inflating: /content/drive/MyDrive/my_yolov8/Conbine_dataset_3_classes-1_80-20-10-str/valid/images/005758.jpg  \n",
            "  inflating: /content/drive/MyDrive/my_yolov8/Conbine_dataset_3_classes-1_80-20-10-str/valid/images/001145.jpg  \n",
            "  inflating: /content/drive/MyDrive/my_yolov8/Conbine_dataset_3_classes-1_80-20-10-str/valid/images/003580.jpg  \n",
            "  inflating: /content/drive/MyDrive/my_yolov8/Conbine_dataset_3_classes-1_80-20-10-str/valid/images/003077.jpg  \n",
            "  inflating: /content/drive/MyDrive/my_yolov8/Conbine_dataset_3_classes-1_80-20-10-str/valid/images/006241.jpg  \n",
            "  inflating: /content/drive/MyDrive/my_yolov8/Conbine_dataset_3_classes-1_80-20-10-str/valid/images/002979.jpg  \n",
            "  inflating: /content/drive/MyDrive/my_yolov8/Conbine_dataset_3_classes-1_80-20-10-str/valid/images/000295.jpg  \n",
            "  inflating: /content/drive/MyDrive/my_yolov8/Conbine_dataset_3_classes-1_80-20-10-str/valid/images/006343.jpg  \n",
            "  inflating: /content/drive/MyDrive/my_yolov8/Conbine_dataset_3_classes-1_80-20-10-str/valid/images/006093.jpg  \n",
            "  inflating: /content/drive/MyDrive/my_yolov8/Conbine_dataset_3_classes-1_80-20-10-str/valid/images/005622.jpg  \n",
            "  inflating: /content/drive/MyDrive/my_yolov8/Conbine_dataset_3_classes-1_80-20-10-str/valid/images/004909.jpg  \n",
            "  inflating: /content/drive/MyDrive/my_yolov8/Conbine_dataset_3_classes-1_80-20-10-str/valid/images/000536.jpg  \n",
            "  inflating: /content/drive/MyDrive/my_yolov8/Conbine_dataset_3_classes-1_80-20-10-str/valid/images/005403.jpg  \n",
            "  inflating: /content/drive/MyDrive/my_yolov8/Conbine_dataset_3_classes-1_80-20-10-str/valid/images/006163.jpg  \n",
            "  inflating: /content/drive/MyDrive/my_yolov8/Conbine_dataset_3_classes-1_80-20-10-str/valid/images/006506.jpg  \n",
            "  inflating: /content/drive/MyDrive/my_yolov8/Conbine_dataset_3_classes-1_80-20-10-str/valid/images/002924.jpg  \n",
            "  inflating: /content/drive/MyDrive/my_yolov8/Conbine_dataset_3_classes-1_80-20-10-str/valid/images/004383.jpg  \n",
            "  inflating: /content/drive/MyDrive/my_yolov8/Conbine_dataset_3_classes-1_80-20-10-str/valid/images/003999.jpg  \n",
            "  inflating: /content/drive/MyDrive/my_yolov8/Conbine_dataset_3_classes-1_80-20-10-str/valid/images/002294.jpg  \n",
            "  inflating: /content/drive/MyDrive/my_yolov8/Conbine_dataset_3_classes-1_80-20-10-str/valid/images/003212.jpg  \n",
            "  inflating: /content/drive/MyDrive/my_yolov8/Conbine_dataset_3_classes-1_80-20-10-str/valid/images/000553.jpg  \n",
            "  inflating: /content/drive/MyDrive/my_yolov8/Conbine_dataset_3_classes-1_80-20-10-str/valid/images/003059.jpg  \n",
            "  inflating: /content/drive/MyDrive/my_yolov8/Conbine_dataset_3_classes-1_80-20-10-str/valid/images/004143.jpg  \n",
            "  inflating: /content/drive/MyDrive/my_yolov8/Conbine_dataset_3_classes-1_80-20-10-str/valid/images/006537.jpg  \n",
            "  inflating: /content/drive/MyDrive/my_yolov8/Conbine_dataset_3_classes-1_80-20-10-str/valid/images/004744.jpg  \n",
            "  inflating: /content/drive/MyDrive/my_yolov8/Conbine_dataset_3_classes-1_80-20-10-str/valid/images/001097.jpg  \n",
            "  inflating: /content/drive/MyDrive/my_yolov8/Conbine_dataset_3_classes-1_80-20-10-str/valid/images/002493.jpg  \n",
            "  inflating: /content/drive/MyDrive/my_yolov8/Conbine_dataset_3_classes-1_80-20-10-str/valid/images/002966.jpg  \n",
            "  inflating: /content/drive/MyDrive/my_yolov8/Conbine_dataset_3_classes-1_80-20-10-str/valid/images/007213.jpg  \n",
            "  inflating: /content/drive/MyDrive/my_yolov8/Conbine_dataset_3_classes-1_80-20-10-str/valid/images/006383.jpg  \n",
            "  inflating: /content/drive/MyDrive/my_yolov8/Conbine_dataset_3_classes-1_80-20-10-str/valid/images/003455.jpg  \n",
            "  inflating: /content/drive/MyDrive/my_yolov8/Conbine_dataset_3_classes-1_80-20-10-str/valid/images/003771.jpg  \n",
            "  inflating: /content/drive/MyDrive/my_yolov8/Conbine_dataset_3_classes-1_80-20-10-str/valid/images/003539.jpg  \n",
            "  inflating: /content/drive/MyDrive/my_yolov8/Conbine_dataset_3_classes-1_80-20-10-str/valid/images/004701.jpg  \n",
            "  inflating: /content/drive/MyDrive/my_yolov8/Conbine_dataset_3_classes-1_80-20-10-str/valid/images/001653.jpg  \n",
            "  inflating: /content/drive/MyDrive/my_yolov8/Conbine_dataset_3_classes-1_80-20-10-str/valid/images/002904.jpg  \n",
            "  inflating: /content/drive/MyDrive/my_yolov8/Conbine_dataset_3_classes-1_80-20-10-str/valid/images/000113.jpg  \n",
            "  inflating: /content/drive/MyDrive/my_yolov8/Conbine_dataset_3_classes-1_80-20-10-str/valid/images/002894.jpg  \n",
            "  inflating: /content/drive/MyDrive/my_yolov8/Conbine_dataset_3_classes-1_80-20-10-str/valid/images/007184.jpg  \n",
            "  inflating: /content/drive/MyDrive/my_yolov8/Conbine_dataset_3_classes-1_80-20-10-str/valid/images/005150.jpg  \n",
            "  inflating: /content/drive/MyDrive/my_yolov8/Conbine_dataset_3_classes-1_80-20-10-str/valid/images/004451.jpg  \n",
            "  inflating: /content/drive/MyDrive/my_yolov8/Conbine_dataset_3_classes-1_80-20-10-str/valid/images/003934.jpg  \n",
            "  inflating: /content/drive/MyDrive/my_yolov8/Conbine_dataset_3_classes-1_80-20-10-str/valid/images/003405.jpg  \n",
            "  inflating: /content/drive/MyDrive/my_yolov8/Conbine_dataset_3_classes-1_80-20-10-str/valid/images/001966.jpg  \n",
            "  inflating: /content/drive/MyDrive/my_yolov8/Conbine_dataset_3_classes-1_80-20-10-str/valid/images/002326.jpg  \n",
            "  inflating: /content/drive/MyDrive/my_yolov8/Conbine_dataset_3_classes-1_80-20-10-str/valid/images/006945.jpg  \n",
            "  inflating: /content/drive/MyDrive/my_yolov8/Conbine_dataset_3_classes-1_80-20-10-str/valid/images/000162.jpg  \n",
            "  inflating: /content/drive/MyDrive/my_yolov8/Conbine_dataset_3_classes-1_80-20-10-str/valid/images/002650.jpg  \n",
            "  inflating: /content/drive/MyDrive/my_yolov8/Conbine_dataset_3_classes-1_80-20-10-str/valid/images/005861.jpg  \n",
            "  inflating: /content/drive/MyDrive/my_yolov8/Conbine_dataset_3_classes-1_80-20-10-str/valid/images/007160.jpg  \n",
            "  inflating: /content/drive/MyDrive/my_yolov8/Conbine_dataset_3_classes-1_80-20-10-str/valid/images/006919.jpg  \n",
            "  inflating: /content/drive/MyDrive/my_yolov8/Conbine_dataset_3_classes-1_80-20-10-str/valid/images/004375.jpg  \n",
            "  inflating: /content/drive/MyDrive/my_yolov8/Conbine_dataset_3_classes-1_80-20-10-str/valid/images/006314.jpg  \n",
            "  inflating: /content/drive/MyDrive/my_yolov8/Conbine_dataset_3_classes-1_80-20-10-str/valid/images/002688.jpg  \n",
            "  inflating: /content/drive/MyDrive/my_yolov8/Conbine_dataset_3_classes-1_80-20-10-str/valid/images/007022.jpg  \n",
            "  inflating: /content/drive/MyDrive/my_yolov8/Conbine_dataset_3_classes-1_80-20-10-str/valid/images/003366.jpg  \n",
            "  inflating: /content/drive/MyDrive/my_yolov8/Conbine_dataset_3_classes-1_80-20-10-str/valid/images/002846.jpg  \n",
            "  inflating: /content/drive/MyDrive/my_yolov8/Conbine_dataset_3_classes-1_80-20-10-str/valid/images/005274.jpg  \n",
            "  inflating: /content/drive/MyDrive/my_yolov8/Conbine_dataset_3_classes-1_80-20-10-str/valid/images/003997.jpg  \n",
            "  inflating: /content/drive/MyDrive/my_yolov8/Conbine_dataset_3_classes-1_80-20-10-str/valid/images/001486.jpg  \n",
            "  inflating: /content/drive/MyDrive/my_yolov8/Conbine_dataset_3_classes-1_80-20-10-str/valid/images/003236.jpg  \n",
            "  inflating: /content/drive/MyDrive/my_yolov8/Conbine_dataset_3_classes-1_80-20-10-str/valid/images/001739.jpg  \n",
            "  inflating: /content/drive/MyDrive/my_yolov8/Conbine_dataset_3_classes-1_80-20-10-str/valid/images/004023.jpg  \n",
            "  inflating: /content/drive/MyDrive/my_yolov8/Conbine_dataset_3_classes-1_80-20-10-str/valid/images/004071.jpg  \n",
            "  inflating: /content/drive/MyDrive/my_yolov8/Conbine_dataset_3_classes-1_80-20-10-str/valid/images/003785.jpg  \n",
            "  inflating: /content/drive/MyDrive/my_yolov8/Conbine_dataset_3_classes-1_80-20-10-str/valid/images/004283.jpg  \n",
            "  inflating: /content/drive/MyDrive/my_yolov8/Conbine_dataset_3_classes-1_80-20-10-str/valid/images/002651.jpg  \n",
            "  inflating: /content/drive/MyDrive/my_yolov8/Conbine_dataset_3_classes-1_80-20-10-str/valid/images/001815.jpg  \n",
            "  inflating: /content/drive/MyDrive/my_yolov8/Conbine_dataset_3_classes-1_80-20-10-str/valid/images/000690.jpg  \n",
            "  inflating: /content/drive/MyDrive/my_yolov8/Conbine_dataset_3_classes-1_80-20-10-str/valid/images/006995.jpg  \n",
            "  inflating: /content/drive/MyDrive/my_yolov8/Conbine_dataset_3_classes-1_80-20-10-str/valid/images/003933.jpg  \n",
            "  inflating: /content/drive/MyDrive/my_yolov8/Conbine_dataset_3_classes-1_80-20-10-str/valid/images/005905.jpg  \n",
            "  inflating: /content/drive/MyDrive/my_yolov8/Conbine_dataset_3_classes-1_80-20-10-str/valid/images/006596.jpg  \n",
            "  inflating: /content/drive/MyDrive/my_yolov8/Conbine_dataset_3_classes-1_80-20-10-str/valid/images/005372.jpg  \n",
            "  inflating: /content/drive/MyDrive/my_yolov8/Conbine_dataset_3_classes-1_80-20-10-str/valid/images/004471.jpg  \n",
            "  inflating: /content/drive/MyDrive/my_yolov8/Conbine_dataset_3_classes-1_80-20-10-str/valid/images/001341.jpg  \n",
            "  inflating: /content/drive/MyDrive/my_yolov8/Conbine_dataset_3_classes-1_80-20-10-str/valid/images/002355.jpg  \n",
            "  inflating: /content/drive/MyDrive/my_yolov8/Conbine_dataset_3_classes-1_80-20-10-str/valid/images/005043.jpg  \n",
            "  inflating: /content/drive/MyDrive/my_yolov8/Conbine_dataset_3_classes-1_80-20-10-str/valid/images/006512.jpg  \n",
            "  inflating: /content/drive/MyDrive/my_yolov8/Conbine_dataset_3_classes-1_80-20-10-str/valid/images/006072.jpg  \n",
            "  inflating: /content/drive/MyDrive/my_yolov8/Conbine_dataset_3_classes-1_80-20-10-str/valid/images/000060.jpg  \n",
            "  inflating: /content/drive/MyDrive/my_yolov8/Conbine_dataset_3_classes-1_80-20-10-str/valid/images/004708.jpg  \n",
            "  inflating: /content/drive/MyDrive/my_yolov8/Conbine_dataset_3_classes-1_80-20-10-str/valid/images/004328.jpg  \n",
            "  inflating: /content/drive/MyDrive/my_yolov8/Conbine_dataset_3_classes-1_80-20-10-str/valid/images/006061.jpg  \n",
            "  inflating: /content/drive/MyDrive/my_yolov8/Conbine_dataset_3_classes-1_80-20-10-str/valid/images/005726.jpg  \n",
            "  inflating: /content/drive/MyDrive/my_yolov8/Conbine_dataset_3_classes-1_80-20-10-str/valid/images/007031.jpg  \n",
            "  inflating: /content/drive/MyDrive/my_yolov8/Conbine_dataset_3_classes-1_80-20-10-str/valid/images/005915.jpg  \n",
            "  inflating: /content/drive/MyDrive/my_yolov8/Conbine_dataset_3_classes-1_80-20-10-str/valid/images/005342.jpg  \n",
            "  inflating: /content/drive/MyDrive/my_yolov8/Conbine_dataset_3_classes-1_80-20-10-str/valid/images/003531.jpg  \n",
            "  inflating: /content/drive/MyDrive/my_yolov8/Conbine_dataset_3_classes-1_80-20-10-str/valid/images/004208.jpg  \n",
            "  inflating: /content/drive/MyDrive/my_yolov8/Conbine_dataset_3_classes-1_80-20-10-str/valid/images/006762.jpg  \n",
            "  inflating: /content/drive/MyDrive/my_yolov8/Conbine_dataset_3_classes-1_80-20-10-str/valid/images/006009.jpg  \n",
            "  inflating: /content/drive/MyDrive/my_yolov8/Conbine_dataset_3_classes-1_80-20-10-str/valid/images/001748.jpg  \n",
            "  inflating: /content/drive/MyDrive/my_yolov8/Conbine_dataset_3_classes-1_80-20-10-str/valid/images/003628.jpg  \n",
            "  inflating: /content/drive/MyDrive/my_yolov8/Conbine_dataset_3_classes-1_80-20-10-str/valid/images/001928.jpg  \n",
            "  inflating: /content/drive/MyDrive/my_yolov8/Conbine_dataset_3_classes-1_80-20-10-str/valid/images/000380.jpg  \n",
            "  inflating: /content/drive/MyDrive/my_yolov8/Conbine_dataset_3_classes-1_80-20-10-str/valid/images/005012.jpg  \n",
            "  inflating: /content/drive/MyDrive/my_yolov8/Conbine_dataset_3_classes-1_80-20-10-str/valid/images/000223.jpg  \n",
            "  inflating: /content/drive/MyDrive/my_yolov8/Conbine_dataset_3_classes-1_80-20-10-str/valid/images/002987.jpg  \n",
            "  inflating: /content/drive/MyDrive/my_yolov8/Conbine_dataset_3_classes-1_80-20-10-str/valid/images/004224.jpg  \n",
            "  inflating: /content/drive/MyDrive/my_yolov8/Conbine_dataset_3_classes-1_80-20-10-str/valid/images/001017.jpg  \n",
            "  inflating: /content/drive/MyDrive/my_yolov8/Conbine_dataset_3_classes-1_80-20-10-str/valid/images/002940.jpg  \n",
            "  inflating: /content/drive/MyDrive/my_yolov8/Conbine_dataset_3_classes-1_80-20-10-str/valid/images/001069.jpg  \n",
            "  inflating: /content/drive/MyDrive/my_yolov8/Conbine_dataset_3_classes-1_80-20-10-str/valid/images/006154.jpg  \n",
            "  inflating: /content/drive/MyDrive/my_yolov8/Conbine_dataset_3_classes-1_80-20-10-str/valid/images/006876.jpg  \n",
            "  inflating: /content/drive/MyDrive/my_yolov8/Conbine_dataset_3_classes-1_80-20-10-str/valid/images/005673.jpg  \n",
            "  inflating: /content/drive/MyDrive/my_yolov8/Conbine_dataset_3_classes-1_80-20-10-str/valid/images/006772.jpg  \n",
            "  inflating: /content/drive/MyDrive/my_yolov8/Conbine_dataset_3_classes-1_80-20-10-str/valid/images/005160.jpg  \n",
            "  inflating: /content/drive/MyDrive/my_yolov8/Conbine_dataset_3_classes-1_80-20-10-str/valid/images/004305.jpg  \n",
            "  inflating: /content/drive/MyDrive/my_yolov8/Conbine_dataset_3_classes-1_80-20-10-str/valid/images/001968.jpg  \n",
            "  inflating: /content/drive/MyDrive/my_yolov8/Conbine_dataset_3_classes-1_80-20-10-str/valid/images/003347.jpg  \n",
            "  inflating: /content/drive/MyDrive/my_yolov8/Conbine_dataset_3_classes-1_80-20-10-str/valid/images/001430.jpg  \n",
            "  inflating: /content/drive/MyDrive/my_yolov8/Conbine_dataset_3_classes-1_80-20-10-str/valid/images/002946.jpg  \n",
            "  inflating: /content/drive/MyDrive/my_yolov8/Conbine_dataset_3_classes-1_80-20-10-str/valid/images/001365.jpg  \n",
            "  inflating: /content/drive/MyDrive/my_yolov8/Conbine_dataset_3_classes-1_80-20-10-str/valid/images/000213.jpg  \n",
            "  inflating: /content/drive/MyDrive/my_yolov8/Conbine_dataset_3_classes-1_80-20-10-str/valid/images/006525.jpg  \n",
            "  inflating: /content/drive/MyDrive/my_yolov8/Conbine_dataset_3_classes-1_80-20-10-str/valid/images/001165.jpg  \n",
            "  inflating: /content/drive/MyDrive/my_yolov8/Conbine_dataset_3_classes-1_80-20-10-str/valid/images/000038.jpg  \n",
            "  inflating: /content/drive/MyDrive/my_yolov8/Conbine_dataset_3_classes-1_80-20-10-str/valid/images/001019.jpg  \n",
            "  inflating: /content/drive/MyDrive/my_yolov8/Conbine_dataset_3_classes-1_80-20-10-str/valid/images/003716.jpg  \n",
            "  inflating: /content/drive/MyDrive/my_yolov8/Conbine_dataset_3_classes-1_80-20-10-str/valid/images/000994.jpg  \n",
            "  inflating: /content/drive/MyDrive/my_yolov8/Conbine_dataset_3_classes-1_80-20-10-str/valid/images/003502.jpg  \n",
            "  inflating: /content/drive/MyDrive/my_yolov8/Conbine_dataset_3_classes-1_80-20-10-str/valid/images/007183.jpg  \n",
            "  inflating: /content/drive/MyDrive/my_yolov8/Conbine_dataset_3_classes-1_80-20-10-str/valid/images/005796.jpg  \n",
            "  inflating: /content/drive/MyDrive/my_yolov8/Conbine_dataset_3_classes-1_80-20-10-str/valid/images/001608.jpg  \n",
            "  inflating: /content/drive/MyDrive/my_yolov8/Conbine_dataset_3_classes-1_80-20-10-str/valid/images/004645.jpg  \n",
            "  inflating: /content/drive/MyDrive/my_yolov8/Conbine_dataset_3_classes-1_80-20-10-str/valid/images/006605.jpg  \n",
            "  inflating: /content/drive/MyDrive/my_yolov8/Conbine_dataset_3_classes-1_80-20-10-str/valid/images/000122.jpg  \n",
            "  inflating: /content/drive/MyDrive/my_yolov8/Conbine_dataset_3_classes-1_80-20-10-str/valid/images/002503.jpg  \n",
            "  inflating: /content/drive/MyDrive/my_yolov8/Conbine_dataset_3_classes-1_80-20-10-str/valid/images/002964.jpg  \n",
            "  inflating: /content/drive/MyDrive/my_yolov8/Conbine_dataset_3_classes-1_80-20-10-str/valid/images/001912.jpg  \n",
            "  inflating: /content/drive/MyDrive/my_yolov8/Conbine_dataset_3_classes-1_80-20-10-str/valid/images/001480.jpg  \n",
            "  inflating: /content/drive/MyDrive/my_yolov8/Conbine_dataset_3_classes-1_80-20-10-str/valid/images/001663.jpg  \n",
            "  inflating: /content/drive/MyDrive/my_yolov8/Conbine_dataset_3_classes-1_80-20-10-str/valid/images/001873.jpg  \n",
            "  inflating: /content/drive/MyDrive/my_yolov8/Conbine_dataset_3_classes-1_80-20-10-str/valid/images/004655.jpg  \n",
            "  inflating: /content/drive/MyDrive/my_yolov8/Conbine_dataset_3_classes-1_80-20-10-str/valid/images/005328.jpg  \n",
            "  inflating: /content/drive/MyDrive/my_yolov8/Conbine_dataset_3_classes-1_80-20-10-str/valid/images/001386.jpg  \n",
            "  inflating: /content/drive/MyDrive/my_yolov8/Conbine_dataset_3_classes-1_80-20-10-str/valid/images/004635.jpg  \n",
            "  inflating: /content/drive/MyDrive/my_yolov8/Conbine_dataset_3_classes-1_80-20-10-str/valid/images/006048.jpg  \n",
            "  inflating: /content/drive/MyDrive/my_yolov8/Conbine_dataset_3_classes-1_80-20-10-str/valid/images/006251.jpg  \n",
            "  inflating: /content/drive/MyDrive/my_yolov8/Conbine_dataset_3_classes-1_80-20-10-str/valid/images/000524.jpg  \n",
            "  inflating: /content/drive/MyDrive/my_yolov8/Conbine_dataset_3_classes-1_80-20-10-str/valid/images/000170.jpg  \n",
            "  inflating: /content/drive/MyDrive/my_yolov8/Conbine_dataset_3_classes-1_80-20-10-str/valid/images/004560.jpg  \n",
            "  inflating: /content/drive/MyDrive/my_yolov8/Conbine_dataset_3_classes-1_80-20-10-str/valid/images/006363.jpg  \n",
            "  inflating: /content/drive/MyDrive/my_yolov8/Conbine_dataset_3_classes-1_80-20-10-str/valid/images/002970.jpg  \n",
            "  inflating: /content/drive/MyDrive/my_yolov8/Conbine_dataset_3_classes-1_80-20-10-str/valid/images/003896.jpg  \n",
            "  inflating: /content/drive/MyDrive/my_yolov8/Conbine_dataset_3_classes-1_80-20-10-str/valid/images/003480.jpg  \n",
            "  inflating: /content/drive/MyDrive/my_yolov8/Conbine_dataset_3_classes-1_80-20-10-str/valid/images/000589.jpg  \n",
            "  inflating: /content/drive/MyDrive/my_yolov8/Conbine_dataset_3_classes-1_80-20-10-str/valid/images/004269.jpg  \n",
            "  inflating: /content/drive/MyDrive/my_yolov8/Conbine_dataset_3_classes-1_80-20-10-str/valid/images/005651.jpg  \n",
            "  inflating: /content/drive/MyDrive/my_yolov8/Conbine_dataset_3_classes-1_80-20-10-str/valid/images/002898.jpg  \n",
            "  inflating: /content/drive/MyDrive/my_yolov8/Conbine_dataset_3_classes-1_80-20-10-str/valid/images/001229.jpg  \n",
            "  inflating: /content/drive/MyDrive/my_yolov8/Conbine_dataset_3_classes-1_80-20-10-str/valid/images/004006.jpg  \n",
            "  inflating: /content/drive/MyDrive/my_yolov8/Conbine_dataset_3_classes-1_80-20-10-str/valid/images/005410.jpg  \n"
          ]
        }
      ],
      "source": [
        "!unzip -o /content/drive/MyDrive/Conbine_dataset_3_classes-1_80-20-10-str.zip -d {TRAIN_DIR}\n"
      ]
    },
    {
      "cell_type": "code",
      "execution_count": null,
      "metadata": {
        "colab": {
          "base_uri": "https://localhost:8080/"
        },
        "id": "5ZPOkul2CxBx",
        "outputId": "8d22e7cc-2f4f-4f64-c2fa-be47d986226b"
      },
      "outputs": [
        {
          "output_type": "stream",
          "name": "stdout",
          "text": [
            "Conbine_dataset_3_classes-1_80-20-10-str\n"
          ]
        }
      ],
      "source": [
        "!ls {TRAIN_DIR}"
      ]
    },
    {
      "cell_type": "code",
      "execution_count": null,
      "metadata": {
        "colab": {
          "base_uri": "https://localhost:8080/"
        },
        "id": "umXJSNTSnI-n",
        "outputId": "b7762fd2-a306-4063-dfca-c0ebd305ed6d"
      },
      "outputs": [
        {
          "output_type": "stream",
          "name": "stdout",
          "text": [
            "names:\n",
            "- Hardhat\n",
            "- NO-Hardhat\n",
            "- Person\n",
            "nc: 3\n",
            "roboflow:\n",
            "  license: CC BY 4.0\n",
            "  project: conbine_dataset_3_classes\n",
            "  url: https://universe.roboflow.com/ai-qoi0z/conbine_dataset_3_classes/dataset/1\n",
            "  version: 1\n",
            "  workspace: ai-qoi0z\n",
            "test: /content/drive/MyDrive/my_yolov8/Conbine_dataset_3_classes-1_80-20-10-str/test/images\n",
            "train: /content/drive/MyDrive/my_yolov8/Conbine_dataset_3_classes-1_80-20-10-str/train/images\n",
            "val: /content/drive/MyDrive/my_yolov8/Conbine_dataset_3_classes-1_80-20-10-str/valid/images\n"
          ]
        }
      ],
      "source": [
        "# Задание пути к yaml-файлу\n",
        "data_path = '/content/drive/MyDrive/my_yolov8/Conbine_dataset_3_classes-1_80-20-10-str/data_drive.yaml'\n",
        "# Просмотр содержимого yaml-файла\n",
        "!cat {data_path}"
      ]
    },
    {
      "cell_type": "code",
      "execution_count": null,
      "metadata": {
        "colab": {
          "base_uri": "https://localhost:8080/"
        },
        "id": "xJCnx1Zxqd_M",
        "outputId": "d2512bc1-b110-4267-e14a-737f61f4c7f5"
      },
      "outputs": [
        {
          "output_type": "stream",
          "name": "stdout",
          "text": [
            "3504\n",
            "3504\n",
            "2517\n",
            "2517\n",
            "1236\n",
            "1236\n"
          ]
        }
      ],
      "source": [
        "# Зададим новый 'TRAIN_DIR'\n",
        "TRAIN_DIR = '/content/drive/MyDrive/my_yolov8/Conbine_dataset_3_classes-1_80-20-10-str/'\n",
        "# Выведем количество файлов в рабочих директориях\n",
        "print(len(os.listdir(TRAIN_DIR+'/train/images/')))\n",
        "print(len(os.listdir(TRAIN_DIR+'/train/labels/')))\n",
        "print(len(os.listdir(TRAIN_DIR+'/valid/images/')))\n",
        "print(len(os.listdir(TRAIN_DIR+'/valid/labels/')))\n",
        "print(len(os.listdir(TRAIN_DIR+'/test/images/')))\n",
        "print(len(os.listdir(TRAIN_DIR+'/test/labels/')))\n"
      ]
    },
    {
      "cell_type": "markdown",
      "metadata": {
        "id": "aMILOuNlUkaZ"
      },
      "source": [
        "Обучение\n"
      ]
    },
    {
      "cell_type": "code",
      "execution_count": null,
      "metadata": {
        "colab": {
          "base_uri": "https://localhost:8080/"
        },
        "id": "vVm6bR5kUofw",
        "outputId": "d8c37de6-10ae-44d3-a78f-380c6f42c02d"
      },
      "outputs": [
        {
          "output_type": "stream",
          "name": "stdout",
          "text": [
            "Ultralytics YOLOv8.1.2 🚀 Python-3.10.12 torch-2.1.0+cu121 CUDA:0 (Tesla T4, 15102MiB)\n",
            "Setup complete ✅ (2 CPUs, 12.7 GB RAM, 27.1/78.2 GB disk)\n"
          ]
        }
      ],
      "source": [
        "#@title Загружаем yolov8\n",
        "!pip install ultralytics\n",
        "\n",
        "from IPython import display\n",
        "display.clear_output()\n",
        "\n",
        "import ultralytics\n",
        "ultralytics.checks()\n",
        "\n",
        "from ultralytics import YOLO"
      ]
    },
    {
      "cell_type": "code",
      "execution_count": null,
      "metadata": {
        "colab": {
          "base_uri": "https://localhost:8080/"
        },
        "id": "upIyDr7tvuoo",
        "outputId": "b4880e83-e87b-4bea-fef0-e29cee9d82a0"
      },
      "outputs": [
        {
          "output_type": "execute_result",
          "data": {
            "text/plain": [
              "30"
            ]
          },
          "metadata": {},
          "execution_count": 12
        }
      ],
      "source": [
        "import torch\n",
        "import gc\n",
        "torch.cuda.empty_cache()  # Очистить видеопамять\n",
        "gc.collect()  # Очистить оперативную память\n"
      ]
    },
    {
      "cell_type": "code",
      "execution_count": null,
      "metadata": {
        "colab": {
          "base_uri": "https://localhost:8080/"
        },
        "collapsed": true,
        "id": "8ZHzuDITbMCX",
        "outputId": "fdc34e95-c695-4c6c-bbfd-cd21e491711b"
      },
      "outputs": [
        {
          "output_type": "stream",
          "name": "stdout",
          "text": [
            "Downloading https://github.com/ultralytics/assets/releases/download/v8.1.0/yolov8s.pt to 'yolov8s.pt'...\n"
          ]
        },
        {
          "output_type": "stream",
          "name": "stderr",
          "text": [
            "100%|██████████| 21.5M/21.5M [00:00<00:00, 165MB/s]\n"
          ]
        },
        {
          "output_type": "stream",
          "name": "stdout",
          "text": [
            "Ultralytics YOLOv8.1.2 🚀 Python-3.10.12 torch-2.1.0+cu121 CUDA:0 (Tesla T4, 15102MiB)\n",
            "\u001b[34m\u001b[1mengine/trainer: \u001b[0mtask=detect, mode=train, model=yolov8s.pt, data=/content/drive/MyDrive/my_yolov8/Conbine_dataset_3_classes-1_80-20-10-str/data_drive.yaml, epochs=50, time=None, patience=50, batch=16, imgsz=640, save=True, save_period=-1, cache=False, device=None, workers=8, project=None, name=yolov8s_str, exist_ok=False, pretrained=True, optimizer=auto, verbose=True, seed=0, deterministic=True, single_cls=False, rect=False, cos_lr=False, close_mosaic=10, resume=False, amp=True, fraction=1.0, profile=False, freeze=None, multi_scale=False, overlap_mask=True, mask_ratio=4, dropout=0.0, val=True, split=val, save_json=False, save_hybrid=False, conf=None, iou=0.7, max_det=300, half=False, dnn=False, plots=True, source=None, vid_stride=1, stream_buffer=False, visualize=False, augment=False, agnostic_nms=False, classes=None, retina_masks=False, embed=None, show=False, save_frames=False, save_txt=False, save_conf=False, save_crop=False, show_labels=True, show_conf=True, show_boxes=True, line_width=None, format=torchscript, keras=False, optimize=False, int8=False, dynamic=False, simplify=False, opset=None, workspace=4, nms=False, lr0=0.01, lrf=0.01, momentum=0.937, weight_decay=0.0005, warmup_epochs=3.0, warmup_momentum=0.8, warmup_bias_lr=0.1, box=7.5, cls=0.5, dfl=1.5, pose=12.0, kobj=1.0, label_smoothing=0.0, nbs=64, hsv_h=0.015, hsv_s=0.7, hsv_v=0.4, degrees=0.0, translate=0.1, scale=0.5, shear=0.0, perspective=0.0, flipud=0.0, fliplr=0.5, mosaic=1.0, mixup=0.0, copy_paste=0.0, auto_augment=randaugment, erasing=0.4, crop_fraction=1.0, cfg=None, tracker=botsort.yaml, save_dir=/content/drive/MyDrive/my_yolov8/yolov8s_str\n",
            "Downloading https://ultralytics.com/assets/Arial.ttf to '/root/.config/Ultralytics/Arial.ttf'...\n"
          ]
        },
        {
          "output_type": "stream",
          "name": "stderr",
          "text": [
            "100%|██████████| 755k/755k [00:00<00:00, 15.9MB/s]\n"
          ]
        },
        {
          "output_type": "stream",
          "name": "stdout",
          "text": [
            "Overriding model.yaml nc=80 with nc=3\n",
            "\n",
            "                   from  n    params  module                                       arguments                     \n",
            "  0                  -1  1       928  ultralytics.nn.modules.conv.Conv             [3, 32, 3, 2]                 \n",
            "  1                  -1  1     18560  ultralytics.nn.modules.conv.Conv             [32, 64, 3, 2]                \n",
            "  2                  -1  1     29056  ultralytics.nn.modules.block.C2f             [64, 64, 1, True]             \n",
            "  3                  -1  1     73984  ultralytics.nn.modules.conv.Conv             [64, 128, 3, 2]               \n",
            "  4                  -1  2    197632  ultralytics.nn.modules.block.C2f             [128, 128, 2, True]           \n",
            "  5                  -1  1    295424  ultralytics.nn.modules.conv.Conv             [128, 256, 3, 2]              \n",
            "  6                  -1  2    788480  ultralytics.nn.modules.block.C2f             [256, 256, 2, True]           \n",
            "  7                  -1  1   1180672  ultralytics.nn.modules.conv.Conv             [256, 512, 3, 2]              \n",
            "  8                  -1  1   1838080  ultralytics.nn.modules.block.C2f             [512, 512, 1, True]           \n",
            "  9                  -1  1    656896  ultralytics.nn.modules.block.SPPF            [512, 512, 5]                 \n",
            " 10                  -1  1         0  torch.nn.modules.upsampling.Upsample         [None, 2, 'nearest']          \n",
            " 11             [-1, 6]  1         0  ultralytics.nn.modules.conv.Concat           [1]                           \n",
            " 12                  -1  1    591360  ultralytics.nn.modules.block.C2f             [768, 256, 1]                 \n",
            " 13                  -1  1         0  torch.nn.modules.upsampling.Upsample         [None, 2, 'nearest']          \n",
            " 14             [-1, 4]  1         0  ultralytics.nn.modules.conv.Concat           [1]                           \n",
            " 15                  -1  1    148224  ultralytics.nn.modules.block.C2f             [384, 128, 1]                 \n",
            " 16                  -1  1    147712  ultralytics.nn.modules.conv.Conv             [128, 128, 3, 2]              \n",
            " 17            [-1, 12]  1         0  ultralytics.nn.modules.conv.Concat           [1]                           \n",
            " 18                  -1  1    493056  ultralytics.nn.modules.block.C2f             [384, 256, 1]                 \n",
            " 19                  -1  1    590336  ultralytics.nn.modules.conv.Conv             [256, 256, 3, 2]              \n",
            " 20             [-1, 9]  1         0  ultralytics.nn.modules.conv.Concat           [1]                           \n",
            " 21                  -1  1   1969152  ultralytics.nn.modules.block.C2f             [768, 512, 1]                 \n",
            " 22        [15, 18, 21]  1   2117209  ultralytics.nn.modules.head.Detect           [3, [128, 256, 512]]          \n",
            "Model summary: 225 layers, 11136761 parameters, 11136745 gradients, 28.7 GFLOPs\n",
            "\n",
            "Transferred 349/355 items from pretrained weights\n",
            "\u001b[31m\u001b[1mrequirements:\u001b[0m Ultralytics requirement ['hub-sdk>=0.0.2'] not found, attempting AutoUpdate...\n",
            "Collecting hub-sdk>=0.0.2\n",
            "  Downloading hub_sdk-0.0.3-py3-none-any.whl (37 kB)\n",
            "Requirement already satisfied: requests in /usr/local/lib/python3.10/dist-packages (from hub-sdk>=0.0.2) (2.31.0)\n",
            "Requirement already satisfied: charset-normalizer<4,>=2 in /usr/local/lib/python3.10/dist-packages (from requests->hub-sdk>=0.0.2) (3.3.2)\n",
            "Requirement already satisfied: idna<4,>=2.5 in /usr/local/lib/python3.10/dist-packages (from requests->hub-sdk>=0.0.2) (3.6)\n",
            "Requirement already satisfied: urllib3<3,>=1.21.1 in /usr/local/lib/python3.10/dist-packages (from requests->hub-sdk>=0.0.2) (2.0.7)\n",
            "Requirement already satisfied: certifi>=2017.4.17 in /usr/local/lib/python3.10/dist-packages (from requests->hub-sdk>=0.0.2) (2023.11.17)\n",
            "Installing collected packages: hub-sdk\n",
            "Successfully installed hub-sdk-0.0.3\n",
            "\n",
            "\u001b[31m\u001b[1mrequirements:\u001b[0m AutoUpdate success ✅ 5.3s, installed 1 package: ['hub-sdk>=0.0.2']\n",
            "\u001b[31m\u001b[1mrequirements:\u001b[0m ⚠️ \u001b[1mRestart runtime or rerun command for updates to take effect\u001b[0m\n",
            "\n",
            "\u001b[34m\u001b[1mTensorBoard: \u001b[0mStart with 'tensorboard --logdir /content/drive/MyDrive/my_yolov8/yolov8s_str', view at http://localhost:6006/\n",
            "Freezing layer 'model.22.dfl.conv.weight'\n",
            "\u001b[34m\u001b[1mAMP: \u001b[0mrunning Automatic Mixed Precision (AMP) checks with YOLOv8n...\n",
            "Downloading https://github.com/ultralytics/assets/releases/download/v8.1.0/yolov8n.pt to 'yolov8n.pt'...\n"
          ]
        },
        {
          "output_type": "stream",
          "name": "stderr",
          "text": [
            "100%|██████████| 6.23M/6.23M [00:00<00:00, 78.8MB/s]\n"
          ]
        },
        {
          "output_type": "stream",
          "name": "stdout",
          "text": [
            "WARNING ⚠️ NMS time limit 0.550s exceeded\n",
            "\u001b[34m\u001b[1mAMP: \u001b[0mchecks passed ✅\n"
          ]
        },
        {
          "output_type": "stream",
          "name": "stderr",
          "text": [
            "\u001b[34m\u001b[1mtrain: \u001b[0mScanning /content/drive/MyDrive/my_yolov8/Conbine_dataset_3_classes-1_80-20-10-str/train/labels... 3504 images, 0 backgrounds, 0 corrupt: 100%|██████████| 3504/3504 [01:00<00:00, 58.25it/s] \n"
          ]
        },
        {
          "output_type": "stream",
          "name": "stdout",
          "text": [
            "\u001b[34m\u001b[1mtrain: \u001b[0mNew cache created: /content/drive/MyDrive/my_yolov8/Conbine_dataset_3_classes-1_80-20-10-str/train/labels.cache\n",
            "\u001b[34m\u001b[1malbumentations: \u001b[0mBlur(p=0.01, blur_limit=(3, 7)), MedianBlur(p=0.01, blur_limit=(3, 7)), ToGray(p=0.01), CLAHE(p=0.01, clip_limit=(1, 4.0), tile_grid_size=(8, 8))\n"
          ]
        },
        {
          "output_type": "stream",
          "name": "stderr",
          "text": [
            "\u001b[34m\u001b[1mval: \u001b[0mScanning /content/drive/MyDrive/my_yolov8/Conbine_dataset_3_classes-1_80-20-10-str/valid/labels... 2517 images, 0 backgrounds, 0 corrupt: 100%|██████████| 2517/2517 [00:46<00:00, 53.84it/s] \n"
          ]
        },
        {
          "output_type": "stream",
          "name": "stdout",
          "text": [
            "\u001b[34m\u001b[1mval: \u001b[0mNew cache created: /content/drive/MyDrive/my_yolov8/Conbine_dataset_3_classes-1_80-20-10-str/valid/labels.cache\n",
            "Plotting labels to /content/drive/MyDrive/my_yolov8/yolov8s_str/labels.jpg... \n",
            "\u001b[34m\u001b[1moptimizer:\u001b[0m 'optimizer=auto' found, ignoring 'lr0=0.01' and 'momentum=0.937' and determining best 'optimizer', 'lr0' and 'momentum' automatically... \n",
            "\u001b[34m\u001b[1moptimizer:\u001b[0m AdamW(lr=0.001429, momentum=0.9) with parameter groups 57 weight(decay=0.0), 64 weight(decay=0.0005), 63 bias(decay=0.0)\n",
            "50 epochs...\n",
            "\n",
            "      Epoch    GPU_mem   box_loss   cls_loss   dfl_loss  Instances       Size\n"
          ]
        },
        {
          "output_type": "stream",
          "name": "stderr",
          "text": [
            "       1/50       4.1G      1.239      1.276        1.1         86        640: 100%|██████████| 219/219 [01:47<00:00,  2.03it/s]\n",
            "                 Class     Images  Instances      Box(P          R      mAP50  mAP50-95): 100%|██████████| 79/79 [00:42<00:00,  1.87it/s]\n"
          ]
        },
        {
          "output_type": "stream",
          "name": "stdout",
          "text": [
            "                   all       2517       9054       0.76      0.715       0.75      0.443\n",
            "\n",
            "      Epoch    GPU_mem   box_loss   cls_loss   dfl_loss  Instances       Size\n"
          ]
        },
        {
          "output_type": "stream",
          "name": "stderr",
          "text": [
            "       2/50      4.19G      1.297     0.9454      1.122         68        640: 100%|██████████| 219/219 [01:43<00:00,  2.11it/s]\n",
            "                 Class     Images  Instances      Box(P          R      mAP50  mAP50-95): 100%|██████████| 79/79 [00:39<00:00,  2.00it/s]\n"
          ]
        },
        {
          "output_type": "stream",
          "name": "stdout",
          "text": [
            "                   all       2517       9054      0.783      0.716      0.772      0.452\n",
            "\n",
            "      Epoch    GPU_mem   box_loss   cls_loss   dfl_loss  Instances       Size\n"
          ]
        },
        {
          "output_type": "stream",
          "name": "stderr",
          "text": [
            "       3/50      4.21G      1.321     0.9475      1.126         80        640: 100%|██████████| 219/219 [01:41<00:00,  2.15it/s]\n",
            "                 Class     Images  Instances      Box(P          R      mAP50  mAP50-95): 100%|██████████| 79/79 [00:38<00:00,  2.04it/s]\n"
          ]
        },
        {
          "output_type": "stream",
          "name": "stdout",
          "text": [
            "                   all       2517       9054      0.769      0.721      0.752      0.422\n",
            "\n",
            "      Epoch    GPU_mem   box_loss   cls_loss   dfl_loss  Instances       Size\n"
          ]
        },
        {
          "output_type": "stream",
          "name": "stderr",
          "text": [
            "       4/50      4.23G      1.284     0.8924      1.114         72        640: 100%|██████████| 219/219 [01:40<00:00,  2.19it/s]\n",
            "                 Class     Images  Instances      Box(P          R      mAP50  mAP50-95): 100%|██████████| 79/79 [00:40<00:00,  1.96it/s]"
          ]
        },
        {
          "output_type": "stream",
          "name": "stdout",
          "text": [
            "                   all       2517       9054      0.829      0.731      0.796      0.487\n"
          ]
        },
        {
          "output_type": "stream",
          "name": "stderr",
          "text": [
            "\n"
          ]
        },
        {
          "output_type": "stream",
          "name": "stdout",
          "text": [
            "\n",
            "      Epoch    GPU_mem   box_loss   cls_loss   dfl_loss  Instances       Size\n"
          ]
        },
        {
          "output_type": "stream",
          "name": "stderr",
          "text": [
            "       5/50      4.17G      1.259     0.8575        1.1         62        640: 100%|██████████| 219/219 [01:41<00:00,  2.16it/s]\n",
            "                 Class     Images  Instances      Box(P          R      mAP50  mAP50-95): 100%|██████████| 79/79 [00:39<00:00,  1.99it/s]\n"
          ]
        },
        {
          "output_type": "stream",
          "name": "stdout",
          "text": [
            "                   all       2517       9054       0.83      0.792      0.822      0.501\n",
            "\n",
            "      Epoch    GPU_mem   box_loss   cls_loss   dfl_loss  Instances       Size\n"
          ]
        },
        {
          "output_type": "stream",
          "name": "stderr",
          "text": [
            "       6/50      4.32G      1.212     0.8181       1.08         84        640: 100%|██████████| 219/219 [01:41<00:00,  2.17it/s]\n",
            "                 Class     Images  Instances      Box(P          R      mAP50  mAP50-95): 100%|██████████| 79/79 [00:39<00:00,  2.01it/s]"
          ]
        },
        {
          "output_type": "stream",
          "name": "stdout",
          "text": [
            "                   all       2517       9054      0.811      0.766       0.82      0.504\n"
          ]
        },
        {
          "output_type": "stream",
          "name": "stderr",
          "text": [
            "\n"
          ]
        },
        {
          "output_type": "stream",
          "name": "stdout",
          "text": [
            "\n",
            "      Epoch    GPU_mem   box_loss   cls_loss   dfl_loss  Instances       Size\n"
          ]
        },
        {
          "output_type": "stream",
          "name": "stderr",
          "text": [
            "       7/50      4.19G      1.206      0.795      1.075         78        640: 100%|██████████| 219/219 [01:40<00:00,  2.19it/s]\n",
            "                 Class     Images  Instances      Box(P          R      mAP50  mAP50-95): 100%|██████████| 79/79 [00:38<00:00,  2.05it/s]\n"
          ]
        },
        {
          "output_type": "stream",
          "name": "stdout",
          "text": [
            "                   all       2517       9054      0.831      0.783       0.83      0.517\n",
            "\n",
            "      Epoch    GPU_mem   box_loss   cls_loss   dfl_loss  Instances       Size\n"
          ]
        },
        {
          "output_type": "stream",
          "name": "stderr",
          "text": [
            "       8/50      4.19G      1.182     0.7613      1.068         81        640: 100%|██████████| 219/219 [01:42<00:00,  2.14it/s]\n",
            "                 Class     Images  Instances      Box(P          R      mAP50  mAP50-95): 100%|██████████| 79/79 [00:38<00:00,  2.07it/s]\n"
          ]
        },
        {
          "output_type": "stream",
          "name": "stdout",
          "text": [
            "                   all       2517       9054      0.823      0.791      0.838       0.53\n",
            "\n",
            "      Epoch    GPU_mem   box_loss   cls_loss   dfl_loss  Instances       Size\n"
          ]
        },
        {
          "output_type": "stream",
          "name": "stderr",
          "text": [
            "       9/50      4.23G      1.146     0.7296      1.051        114        640: 100%|██████████| 219/219 [01:41<00:00,  2.15it/s]\n",
            "                 Class     Images  Instances      Box(P          R      mAP50  mAP50-95): 100%|██████████| 79/79 [00:39<00:00,  1.99it/s]"
          ]
        },
        {
          "output_type": "stream",
          "name": "stdout",
          "text": [
            "                   all       2517       9054      0.833      0.811      0.861      0.551\n"
          ]
        },
        {
          "output_type": "stream",
          "name": "stderr",
          "text": [
            "\n"
          ]
        },
        {
          "output_type": "stream",
          "name": "stdout",
          "text": [
            "\n",
            "      Epoch    GPU_mem   box_loss   cls_loss   dfl_loss  Instances       Size\n"
          ]
        },
        {
          "output_type": "stream",
          "name": "stderr",
          "text": [
            "      10/50      4.31G      1.121      0.711       1.04         88        640: 100%|██████████| 219/219 [01:39<00:00,  2.21it/s]\n",
            "                 Class     Images  Instances      Box(P          R      mAP50  mAP50-95): 100%|██████████| 79/79 [00:39<00:00,  1.98it/s]"
          ]
        },
        {
          "output_type": "stream",
          "name": "stdout",
          "text": [
            "                   all       2517       9054      0.856      0.808      0.873      0.575\n"
          ]
        },
        {
          "output_type": "stream",
          "name": "stderr",
          "text": [
            "\n"
          ]
        },
        {
          "output_type": "stream",
          "name": "stdout",
          "text": [
            "\n",
            "      Epoch    GPU_mem   box_loss   cls_loss   dfl_loss  Instances       Size\n"
          ]
        },
        {
          "output_type": "stream",
          "name": "stderr",
          "text": [
            "      11/50      4.18G      1.111     0.7019       1.04         76        640: 100%|██████████| 219/219 [01:40<00:00,  2.18it/s]\n",
            "                 Class     Images  Instances      Box(P          R      mAP50  mAP50-95): 100%|██████████| 79/79 [00:39<00:00,  2.02it/s]\n"
          ]
        },
        {
          "output_type": "stream",
          "name": "stdout",
          "text": [
            "                   all       2517       9054      0.846      0.806      0.865      0.562\n",
            "\n",
            "      Epoch    GPU_mem   box_loss   cls_loss   dfl_loss  Instances       Size\n"
          ]
        },
        {
          "output_type": "stream",
          "name": "stderr",
          "text": [
            "      12/50      4.23G      1.095     0.6881      1.034         46        640: 100%|██████████| 219/219 [01:40<00:00,  2.18it/s]\n",
            "                 Class     Images  Instances      Box(P          R      mAP50  mAP50-95): 100%|██████████| 79/79 [00:38<00:00,  2.05it/s]"
          ]
        },
        {
          "output_type": "stream",
          "name": "stdout",
          "text": [
            "                   all       2517       9054      0.865      0.812      0.873      0.573\n"
          ]
        },
        {
          "output_type": "stream",
          "name": "stderr",
          "text": [
            "\n"
          ]
        },
        {
          "output_type": "stream",
          "name": "stdout",
          "text": [
            "\n",
            "      Epoch    GPU_mem   box_loss   cls_loss   dfl_loss  Instances       Size\n"
          ]
        },
        {
          "output_type": "stream",
          "name": "stderr",
          "text": [
            "      13/50      4.19G       1.07     0.6626      1.021         94        640: 100%|██████████| 219/219 [01:41<00:00,  2.15it/s]\n",
            "                 Class     Images  Instances      Box(P          R      mAP50  mAP50-95): 100%|██████████| 79/79 [00:39<00:00,  2.01it/s]"
          ]
        },
        {
          "output_type": "stream",
          "name": "stdout",
          "text": [
            "                   all       2517       9054      0.888      0.818      0.879      0.592\n"
          ]
        },
        {
          "output_type": "stream",
          "name": "stderr",
          "text": [
            "\n"
          ]
        },
        {
          "output_type": "stream",
          "name": "stdout",
          "text": [
            "\n",
            "      Epoch    GPU_mem   box_loss   cls_loss   dfl_loss  Instances       Size\n"
          ]
        },
        {
          "output_type": "stream",
          "name": "stderr",
          "text": [
            "      14/50       4.3G      1.071     0.6709       1.02         99        640: 100%|██████████| 219/219 [01:39<00:00,  2.19it/s]\n",
            "                 Class     Images  Instances      Box(P          R      mAP50  mAP50-95): 100%|██████████| 79/79 [00:40<00:00,  1.94it/s]"
          ]
        },
        {
          "output_type": "stream",
          "name": "stdout",
          "text": [
            "                   all       2517       9054      0.895      0.835       0.89      0.583\n"
          ]
        },
        {
          "output_type": "stream",
          "name": "stderr",
          "text": [
            "\n"
          ]
        },
        {
          "output_type": "stream",
          "name": "stdout",
          "text": [
            "\n",
            "      Epoch    GPU_mem   box_loss   cls_loss   dfl_loss  Instances       Size\n"
          ]
        },
        {
          "output_type": "stream",
          "name": "stderr",
          "text": [
            "      15/50      4.34G      1.049     0.6509      1.011         72        640: 100%|██████████| 219/219 [01:40<00:00,  2.17it/s]\n",
            "                 Class     Images  Instances      Box(P          R      mAP50  mAP50-95): 100%|██████████| 79/79 [00:39<00:00,  1.99it/s]"
          ]
        },
        {
          "output_type": "stream",
          "name": "stdout",
          "text": [
            "                   all       2517       9054      0.887      0.841      0.896      0.598\n"
          ]
        },
        {
          "output_type": "stream",
          "name": "stderr",
          "text": [
            "\n"
          ]
        },
        {
          "output_type": "stream",
          "name": "stdout",
          "text": [
            "\n",
            "      Epoch    GPU_mem   box_loss   cls_loss   dfl_loss  Instances       Size\n"
          ]
        },
        {
          "output_type": "stream",
          "name": "stderr",
          "text": [
            "      16/50      4.18G      1.042     0.6416      1.012         80        640: 100%|██████████| 219/219 [01:40<00:00,  2.17it/s]\n",
            "                 Class     Images  Instances      Box(P          R      mAP50  mAP50-95): 100%|██████████| 79/79 [00:38<00:00,  2.08it/s]\n"
          ]
        },
        {
          "output_type": "stream",
          "name": "stdout",
          "text": [
            "                   all       2517       9054      0.889      0.837      0.886      0.598\n",
            "\n",
            "      Epoch    GPU_mem   box_loss   cls_loss   dfl_loss  Instances       Size\n"
          ]
        },
        {
          "output_type": "stream",
          "name": "stderr",
          "text": [
            "      17/50      4.18G      1.038     0.6316      1.009         82        640: 100%|██████████| 219/219 [01:41<00:00,  2.15it/s]\n",
            "                 Class     Images  Instances      Box(P          R      mAP50  mAP50-95): 100%|██████████| 79/79 [00:37<00:00,  2.10it/s]"
          ]
        },
        {
          "output_type": "stream",
          "name": "stdout",
          "text": [
            "                   all       2517       9054      0.887       0.85      0.893      0.602\n"
          ]
        },
        {
          "output_type": "stream",
          "name": "stderr",
          "text": [
            "\n"
          ]
        },
        {
          "output_type": "stream",
          "name": "stdout",
          "text": [
            "\n",
            "      Epoch    GPU_mem   box_loss   cls_loss   dfl_loss  Instances       Size\n"
          ]
        },
        {
          "output_type": "stream",
          "name": "stderr",
          "text": [
            "      18/50      4.18G      1.022     0.6158      1.002         95        640: 100%|██████████| 219/219 [01:40<00:00,  2.17it/s]\n",
            "                 Class     Images  Instances      Box(P          R      mAP50  mAP50-95): 100%|██████████| 79/79 [00:39<00:00,  2.01it/s]"
          ]
        },
        {
          "output_type": "stream",
          "name": "stdout",
          "text": [
            "                   all       2517       9054      0.896      0.836      0.899      0.609\n"
          ]
        },
        {
          "output_type": "stream",
          "name": "stderr",
          "text": [
            "\n"
          ]
        },
        {
          "output_type": "stream",
          "name": "stdout",
          "text": [
            "\n",
            "      Epoch    GPU_mem   box_loss   cls_loss   dfl_loss  Instances       Size\n"
          ]
        },
        {
          "output_type": "stream",
          "name": "stderr",
          "text": [
            "      19/50      4.19G      1.005     0.5987     0.9967         64        640: 100%|██████████| 219/219 [01:41<00:00,  2.16it/s]\n",
            "                 Class     Images  Instances      Box(P          R      mAP50  mAP50-95): 100%|██████████| 79/79 [00:42<00:00,  1.86it/s]"
          ]
        },
        {
          "output_type": "stream",
          "name": "stdout",
          "text": [
            "                   all       2517       9054      0.901      0.843      0.902       0.62\n"
          ]
        },
        {
          "output_type": "stream",
          "name": "stderr",
          "text": [
            "\n"
          ]
        },
        {
          "output_type": "stream",
          "name": "stdout",
          "text": [
            "\n",
            "      Epoch    GPU_mem   box_loss   cls_loss   dfl_loss  Instances       Size\n"
          ]
        },
        {
          "output_type": "stream",
          "name": "stderr",
          "text": [
            "      20/50      4.21G      1.003     0.5905     0.9914         96        640: 100%|██████████| 219/219 [01:48<00:00,  2.02it/s]\n",
            "                 Class     Images  Instances      Box(P          R      mAP50  mAP50-95): 100%|██████████| 79/79 [00:39<00:00,  2.02it/s]"
          ]
        },
        {
          "output_type": "stream",
          "name": "stdout",
          "text": [
            "                   all       2517       9054      0.891      0.853      0.909      0.616\n"
          ]
        },
        {
          "output_type": "stream",
          "name": "stderr",
          "text": [
            "\n"
          ]
        },
        {
          "output_type": "stream",
          "name": "stdout",
          "text": [
            "\n",
            "      Epoch    GPU_mem   box_loss   cls_loss   dfl_loss  Instances       Size\n"
          ]
        },
        {
          "output_type": "stream",
          "name": "stderr",
          "text": [
            "      21/50      4.21G     0.9824     0.5887     0.9873         72        640: 100%|██████████| 219/219 [01:44<00:00,  2.09it/s]\n",
            "                 Class     Images  Instances      Box(P          R      mAP50  mAP50-95): 100%|██████████| 79/79 [00:39<00:00,  2.02it/s]"
          ]
        },
        {
          "output_type": "stream",
          "name": "stdout",
          "text": [
            "                   all       2517       9054      0.902      0.844      0.905      0.618\n"
          ]
        },
        {
          "output_type": "stream",
          "name": "stderr",
          "text": [
            "\n"
          ]
        },
        {
          "output_type": "stream",
          "name": "stdout",
          "text": [
            "\n",
            "      Epoch    GPU_mem   box_loss   cls_loss   dfl_loss  Instances       Size\n"
          ]
        },
        {
          "output_type": "stream",
          "name": "stderr",
          "text": [
            "      22/50      4.15G     0.9729     0.5801     0.9831         74        640: 100%|██████████| 219/219 [01:43<00:00,  2.11it/s]\n",
            "                 Class     Images  Instances      Box(P          R      mAP50  mAP50-95): 100%|██████████| 79/79 [00:40<00:00,  1.95it/s]"
          ]
        },
        {
          "output_type": "stream",
          "name": "stdout",
          "text": [
            "                   all       2517       9054        0.9      0.848      0.907      0.623\n"
          ]
        },
        {
          "output_type": "stream",
          "name": "stderr",
          "text": [
            "\n"
          ]
        },
        {
          "output_type": "stream",
          "name": "stdout",
          "text": [
            "\n",
            "      Epoch    GPU_mem   box_loss   cls_loss   dfl_loss  Instances       Size\n"
          ]
        },
        {
          "output_type": "stream",
          "name": "stderr",
          "text": [
            "      23/50      4.16G     0.9683      0.575     0.9828         66        640: 100%|██████████| 219/219 [01:44<00:00,  2.09it/s]\n",
            "                 Class     Images  Instances      Box(P          R      mAP50  mAP50-95): 100%|██████████| 79/79 [00:40<00:00,  1.97it/s]"
          ]
        },
        {
          "output_type": "stream",
          "name": "stdout",
          "text": [
            "                   all       2517       9054      0.908      0.865      0.913      0.633\n"
          ]
        },
        {
          "output_type": "stream",
          "name": "stderr",
          "text": [
            "\n"
          ]
        },
        {
          "output_type": "stream",
          "name": "stdout",
          "text": [
            "\n",
            "      Epoch    GPU_mem   box_loss   cls_loss   dfl_loss  Instances       Size\n"
          ]
        },
        {
          "output_type": "stream",
          "name": "stderr",
          "text": [
            "      24/50      4.25G     0.9543     0.5626     0.9798         68        640: 100%|██████████| 219/219 [01:45<00:00,  2.08it/s]\n",
            "                 Class     Images  Instances      Box(P          R      mAP50  mAP50-95): 100%|██████████| 79/79 [00:39<00:00,  2.01it/s]"
          ]
        },
        {
          "output_type": "stream",
          "name": "stdout",
          "text": [
            "                   all       2517       9054      0.894      0.863      0.908      0.627\n"
          ]
        },
        {
          "output_type": "stream",
          "name": "stderr",
          "text": [
            "\n"
          ]
        },
        {
          "output_type": "stream",
          "name": "stdout",
          "text": [
            "\n",
            "      Epoch    GPU_mem   box_loss   cls_loss   dfl_loss  Instances       Size\n"
          ]
        },
        {
          "output_type": "stream",
          "name": "stderr",
          "text": [
            "      25/50      4.19G     0.9462     0.5559     0.9766         73        640: 100%|██████████| 219/219 [01:43<00:00,  2.12it/s]\n",
            "                 Class     Images  Instances      Box(P          R      mAP50  mAP50-95): 100%|██████████| 79/79 [00:41<00:00,  1.92it/s]"
          ]
        },
        {
          "output_type": "stream",
          "name": "stdout",
          "text": [
            "                   all       2517       9054      0.896      0.867      0.904      0.627\n"
          ]
        },
        {
          "output_type": "stream",
          "name": "stderr",
          "text": [
            "\n"
          ]
        },
        {
          "output_type": "stream",
          "name": "stdout",
          "text": [
            "\n",
            "      Epoch    GPU_mem   box_loss   cls_loss   dfl_loss  Instances       Size\n"
          ]
        },
        {
          "output_type": "stream",
          "name": "stderr",
          "text": [
            "      26/50      4.15G     0.9418     0.5543     0.9778        115        640: 100%|██████████| 219/219 [01:42<00:00,  2.13it/s]\n",
            "                 Class     Images  Instances      Box(P          R      mAP50  mAP50-95): 100%|██████████| 79/79 [00:41<00:00,  1.92it/s]"
          ]
        },
        {
          "output_type": "stream",
          "name": "stdout",
          "text": [
            "                   all       2517       9054      0.902      0.865      0.914      0.638\n"
          ]
        },
        {
          "output_type": "stream",
          "name": "stderr",
          "text": [
            "\n"
          ]
        },
        {
          "output_type": "stream",
          "name": "stdout",
          "text": [
            "\n",
            "      Epoch    GPU_mem   box_loss   cls_loss   dfl_loss  Instances       Size\n"
          ]
        },
        {
          "output_type": "stream",
          "name": "stderr",
          "text": [
            "      27/50      4.22G     0.9347     0.5422     0.9724         87        640: 100%|██████████| 219/219 [01:43<00:00,  2.11it/s]\n",
            "                 Class     Images  Instances      Box(P          R      mAP50  mAP50-95): 100%|██████████| 79/79 [00:41<00:00,  1.90it/s]"
          ]
        },
        {
          "output_type": "stream",
          "name": "stdout",
          "text": [
            "                   all       2517       9054      0.917      0.873      0.924      0.647\n"
          ]
        },
        {
          "output_type": "stream",
          "name": "stderr",
          "text": [
            "\n"
          ]
        },
        {
          "output_type": "stream",
          "name": "stdout",
          "text": [
            "\n",
            "      Epoch    GPU_mem   box_loss   cls_loss   dfl_loss  Instances       Size\n"
          ]
        },
        {
          "output_type": "stream",
          "name": "stderr",
          "text": [
            "      28/50      4.19G     0.9278     0.5366     0.9713         63        640: 100%|██████████| 219/219 [01:43<00:00,  2.12it/s]\n",
            "                 Class     Images  Instances      Box(P          R      mAP50  mAP50-95): 100%|██████████| 79/79 [00:40<00:00,  1.93it/s]"
          ]
        },
        {
          "output_type": "stream",
          "name": "stdout",
          "text": [
            "                   all       2517       9054      0.916      0.864      0.918      0.639\n"
          ]
        },
        {
          "output_type": "stream",
          "name": "stderr",
          "text": [
            "\n"
          ]
        },
        {
          "output_type": "stream",
          "name": "stdout",
          "text": [
            "\n",
            "      Epoch    GPU_mem   box_loss   cls_loss   dfl_loss  Instances       Size\n"
          ]
        },
        {
          "output_type": "stream",
          "name": "stderr",
          "text": [
            "      29/50      4.26G     0.9092     0.5298     0.9595        115        640: 100%|██████████| 219/219 [01:42<00:00,  2.13it/s]\n",
            "                 Class     Images  Instances      Box(P          R      mAP50  mAP50-95): 100%|██████████| 79/79 [00:41<00:00,  1.92it/s]"
          ]
        },
        {
          "output_type": "stream",
          "name": "stdout",
          "text": [
            "                   all       2517       9054      0.907      0.869       0.92      0.643\n"
          ]
        },
        {
          "output_type": "stream",
          "name": "stderr",
          "text": [
            "\n"
          ]
        },
        {
          "output_type": "stream",
          "name": "stdout",
          "text": [
            "\n",
            "      Epoch    GPU_mem   box_loss   cls_loss   dfl_loss  Instances       Size\n"
          ]
        },
        {
          "output_type": "stream",
          "name": "stderr",
          "text": [
            "      30/50      4.33G     0.9098     0.5258     0.9647         89        640: 100%|██████████| 219/219 [01:41<00:00,  2.15it/s]\n",
            "                 Class     Images  Instances      Box(P          R      mAP50  mAP50-95): 100%|██████████| 79/79 [00:41<00:00,  1.92it/s]"
          ]
        },
        {
          "output_type": "stream",
          "name": "stdout",
          "text": [
            "                   all       2517       9054      0.907      0.875      0.922       0.65\n"
          ]
        },
        {
          "output_type": "stream",
          "name": "stderr",
          "text": [
            "\n"
          ]
        },
        {
          "output_type": "stream",
          "name": "stdout",
          "text": [
            "\n",
            "      Epoch    GPU_mem   box_loss   cls_loss   dfl_loss  Instances       Size\n"
          ]
        },
        {
          "output_type": "stream",
          "name": "stderr",
          "text": [
            "      31/50      4.37G     0.9136     0.5244     0.9636         69        640: 100%|██████████| 219/219 [01:43<00:00,  2.11it/s]\n",
            "                 Class     Images  Instances      Box(P          R      mAP50  mAP50-95): 100%|██████████| 79/79 [00:41<00:00,  1.91it/s]"
          ]
        },
        {
          "output_type": "stream",
          "name": "stdout",
          "text": [
            "                   all       2517       9054      0.912      0.878      0.926      0.655\n"
          ]
        },
        {
          "output_type": "stream",
          "name": "stderr",
          "text": [
            "\n"
          ]
        },
        {
          "output_type": "stream",
          "name": "stdout",
          "text": [
            "\n",
            "      Epoch    GPU_mem   box_loss   cls_loss   dfl_loss  Instances       Size\n"
          ]
        },
        {
          "output_type": "stream",
          "name": "stderr",
          "text": [
            "      32/50      4.34G     0.9002     0.5202     0.9571         84        640: 100%|██████████| 219/219 [01:42<00:00,  2.13it/s]\n",
            "                 Class     Images  Instances      Box(P          R      mAP50  mAP50-95): 100%|██████████| 79/79 [00:41<00:00,  1.92it/s]"
          ]
        },
        {
          "output_type": "stream",
          "name": "stdout",
          "text": [
            "                   all       2517       9054      0.915      0.876      0.923      0.655\n"
          ]
        },
        {
          "output_type": "stream",
          "name": "stderr",
          "text": [
            "\n"
          ]
        },
        {
          "output_type": "stream",
          "name": "stdout",
          "text": [
            "\n",
            "      Epoch    GPU_mem   box_loss   cls_loss   dfl_loss  Instances       Size\n"
          ]
        },
        {
          "output_type": "stream",
          "name": "stderr",
          "text": [
            "      33/50      4.36G     0.8862     0.5137     0.9572         74        640: 100%|██████████| 219/219 [01:42<00:00,  2.15it/s]\n",
            "                 Class     Images  Instances      Box(P          R      mAP50  mAP50-95): 100%|██████████| 79/79 [00:40<00:00,  1.93it/s]"
          ]
        },
        {
          "output_type": "stream",
          "name": "stdout",
          "text": [
            "                   all       2517       9054      0.918      0.873      0.924      0.662\n"
          ]
        },
        {
          "output_type": "stream",
          "name": "stderr",
          "text": [
            "\n"
          ]
        },
        {
          "output_type": "stream",
          "name": "stdout",
          "text": [
            "\n",
            "      Epoch    GPU_mem   box_loss   cls_loss   dfl_loss  Instances       Size\n"
          ]
        },
        {
          "output_type": "stream",
          "name": "stderr",
          "text": [
            "      34/50      4.31G     0.8863     0.5045     0.9516         81        640: 100%|██████████| 219/219 [01:42<00:00,  2.14it/s]\n",
            "                 Class     Images  Instances      Box(P          R      mAP50  mAP50-95): 100%|██████████| 79/79 [00:41<00:00,  1.91it/s]"
          ]
        },
        {
          "output_type": "stream",
          "name": "stdout",
          "text": [
            "                   all       2517       9054      0.919      0.874      0.925      0.662\n"
          ]
        },
        {
          "output_type": "stream",
          "name": "stderr",
          "text": [
            "\n"
          ]
        },
        {
          "output_type": "stream",
          "name": "stdout",
          "text": [
            "\n",
            "      Epoch    GPU_mem   box_loss   cls_loss   dfl_loss  Instances       Size\n"
          ]
        },
        {
          "output_type": "stream",
          "name": "stderr",
          "text": [
            "      35/50      4.37G     0.8702     0.4948     0.9488         74        640: 100%|██████████| 219/219 [01:42<00:00,  2.13it/s]\n",
            "                 Class     Images  Instances      Box(P          R      mAP50  mAP50-95): 100%|██████████| 79/79 [00:39<00:00,  1.98it/s]"
          ]
        },
        {
          "output_type": "stream",
          "name": "stdout",
          "text": [
            "                   all       2517       9054       0.92      0.878      0.928      0.663\n"
          ]
        },
        {
          "output_type": "stream",
          "name": "stderr",
          "text": [
            "\n"
          ]
        },
        {
          "output_type": "stream",
          "name": "stdout",
          "text": [
            "\n",
            "      Epoch    GPU_mem   box_loss   cls_loss   dfl_loss  Instances       Size\n"
          ]
        },
        {
          "output_type": "stream",
          "name": "stderr",
          "text": [
            "      36/50      4.34G     0.8618     0.4851     0.9446         86        640: 100%|██████████| 219/219 [01:43<00:00,  2.13it/s]\n",
            "                 Class     Images  Instances      Box(P          R      mAP50  mAP50-95): 100%|██████████| 79/79 [00:39<00:00,  2.00it/s]"
          ]
        },
        {
          "output_type": "stream",
          "name": "stdout",
          "text": [
            "                   all       2517       9054      0.918      0.881      0.928      0.665\n"
          ]
        },
        {
          "output_type": "stream",
          "name": "stderr",
          "text": [
            "\n"
          ]
        },
        {
          "output_type": "stream",
          "name": "stdout",
          "text": [
            "\n",
            "      Epoch    GPU_mem   box_loss   cls_loss   dfl_loss  Instances       Size\n"
          ]
        },
        {
          "output_type": "stream",
          "name": "stderr",
          "text": [
            "      37/50      4.23G     0.8573     0.4836     0.9438         89        640: 100%|██████████| 219/219 [01:43<00:00,  2.13it/s]\n",
            "                 Class     Images  Instances      Box(P          R      mAP50  mAP50-95): 100%|██████████| 79/79 [00:39<00:00,  1.99it/s]"
          ]
        },
        {
          "output_type": "stream",
          "name": "stdout",
          "text": [
            "                   all       2517       9054      0.922      0.887      0.933      0.668\n"
          ]
        },
        {
          "output_type": "stream",
          "name": "stderr",
          "text": [
            "\n"
          ]
        },
        {
          "output_type": "stream",
          "name": "stdout",
          "text": [
            "\n",
            "      Epoch    GPU_mem   box_loss   cls_loss   dfl_loss  Instances       Size\n"
          ]
        },
        {
          "output_type": "stream",
          "name": "stderr",
          "text": [
            "      38/50      4.15G     0.8399     0.4758     0.9379        112        640: 100%|██████████| 219/219 [01:43<00:00,  2.12it/s]\n",
            "                 Class     Images  Instances      Box(P          R      mAP50  mAP50-95): 100%|██████████| 79/79 [00:39<00:00,  1.98it/s]"
          ]
        },
        {
          "output_type": "stream",
          "name": "stdout",
          "text": [
            "                   all       2517       9054      0.921      0.885      0.929      0.668\n"
          ]
        },
        {
          "output_type": "stream",
          "name": "stderr",
          "text": [
            "\n"
          ]
        },
        {
          "output_type": "stream",
          "name": "stdout",
          "text": [
            "\n",
            "      Epoch    GPU_mem   box_loss   cls_loss   dfl_loss  Instances       Size\n"
          ]
        },
        {
          "output_type": "stream",
          "name": "stderr",
          "text": [
            "      39/50      4.21G     0.8407      0.476     0.9403         79        640: 100%|██████████| 219/219 [01:43<00:00,  2.12it/s]\n",
            "                 Class     Images  Instances      Box(P          R      mAP50  mAP50-95): 100%|██████████| 79/79 [00:39<00:00,  2.02it/s]"
          ]
        },
        {
          "output_type": "stream",
          "name": "stdout",
          "text": [
            "                   all       2517       9054      0.923      0.889      0.932      0.675\n"
          ]
        },
        {
          "output_type": "stream",
          "name": "stderr",
          "text": [
            "\n"
          ]
        },
        {
          "output_type": "stream",
          "name": "stdout",
          "text": [
            "\n",
            "      Epoch    GPU_mem   box_loss   cls_loss   dfl_loss  Instances       Size\n"
          ]
        },
        {
          "output_type": "stream",
          "name": "stderr",
          "text": [
            "      40/50      4.35G     0.8369     0.4698     0.9351         80        640: 100%|██████████| 219/219 [01:43<00:00,  2.12it/s]\n",
            "                 Class     Images  Instances      Box(P          R      mAP50  mAP50-95): 100%|██████████| 79/79 [00:38<00:00,  2.03it/s]"
          ]
        },
        {
          "output_type": "stream",
          "name": "stdout",
          "text": [
            "                   all       2517       9054      0.918      0.889      0.933      0.673\n"
          ]
        },
        {
          "output_type": "stream",
          "name": "stderr",
          "text": [
            "\n"
          ]
        },
        {
          "output_type": "stream",
          "name": "stdout",
          "text": [
            "Closing dataloader mosaic\n",
            "\u001b[34m\u001b[1malbumentations: \u001b[0mBlur(p=0.01, blur_limit=(3, 7)), MedianBlur(p=0.01, blur_limit=(3, 7)), ToGray(p=0.01), CLAHE(p=0.01, clip_limit=(1, 4.0), tile_grid_size=(8, 8))\n",
            "\n",
            "      Epoch    GPU_mem   box_loss   cls_loss   dfl_loss  Instances       Size\n"
          ]
        },
        {
          "output_type": "stream",
          "name": "stderr",
          "text": [
            "      41/50      4.31G     0.7972     0.4304     0.9322         72        640: 100%|██████████| 219/219 [01:42<00:00,  2.14it/s]\n",
            "                 Class     Images  Instances      Box(P          R      mAP50  mAP50-95): 100%|██████████| 79/79 [00:39<00:00,  2.02it/s]"
          ]
        },
        {
          "output_type": "stream",
          "name": "stdout",
          "text": [
            "                   all       2517       9054      0.924      0.887      0.934      0.674\n"
          ]
        },
        {
          "output_type": "stream",
          "name": "stderr",
          "text": [
            "\n"
          ]
        },
        {
          "output_type": "stream",
          "name": "stdout",
          "text": [
            "\n",
            "      Epoch    GPU_mem   box_loss   cls_loss   dfl_loss  Instances       Size\n"
          ]
        },
        {
          "output_type": "stream",
          "name": "stderr",
          "text": [
            "      42/50      4.31G     0.7777     0.4196     0.9219         51        640: 100%|██████████| 219/219 [01:38<00:00,  2.22it/s]\n",
            "                 Class     Images  Instances      Box(P          R      mAP50  mAP50-95): 100%|██████████| 79/79 [00:41<00:00,  1.90it/s]"
          ]
        },
        {
          "output_type": "stream",
          "name": "stdout",
          "text": [
            "                   all       2517       9054      0.921      0.888      0.933      0.672\n"
          ]
        },
        {
          "output_type": "stream",
          "name": "stderr",
          "text": [
            "\n"
          ]
        },
        {
          "output_type": "stream",
          "name": "stdout",
          "text": [
            "\n",
            "      Epoch    GPU_mem   box_loss   cls_loss   dfl_loss  Instances       Size\n"
          ]
        },
        {
          "output_type": "stream",
          "name": "stderr",
          "text": [
            "      43/50      4.15G     0.7683     0.4134     0.9155         57        640: 100%|██████████| 219/219 [01:37<00:00,  2.24it/s]\n",
            "                 Class     Images  Instances      Box(P          R      mAP50  mAP50-95): 100%|██████████| 79/79 [00:39<00:00,  2.01it/s]"
          ]
        },
        {
          "output_type": "stream",
          "name": "stdout",
          "text": [
            "                   all       2517       9054      0.927      0.887      0.937      0.682\n"
          ]
        },
        {
          "output_type": "stream",
          "name": "stderr",
          "text": [
            "\n"
          ]
        },
        {
          "output_type": "stream",
          "name": "stdout",
          "text": [
            "\n",
            "      Epoch    GPU_mem   box_loss   cls_loss   dfl_loss  Instances       Size\n"
          ]
        },
        {
          "output_type": "stream",
          "name": "stderr",
          "text": [
            "      44/50      4.22G     0.7685     0.4136     0.9195         51        640: 100%|██████████| 219/219 [01:38<00:00,  2.23it/s]\n",
            "                 Class     Images  Instances      Box(P          R      mAP50  mAP50-95): 100%|██████████| 79/79 [00:38<00:00,  2.03it/s]"
          ]
        },
        {
          "output_type": "stream",
          "name": "stdout",
          "text": [
            "                   all       2517       9054      0.933      0.887      0.934      0.684\n"
          ]
        },
        {
          "output_type": "stream",
          "name": "stderr",
          "text": [
            "\n"
          ]
        },
        {
          "output_type": "stream",
          "name": "stdout",
          "text": [
            "\n",
            "      Epoch    GPU_mem   box_loss   cls_loss   dfl_loss  Instances       Size\n"
          ]
        },
        {
          "output_type": "stream",
          "name": "stderr",
          "text": [
            "      45/50      4.18G      0.749     0.4025     0.9121         45        640: 100%|██████████| 219/219 [01:37<00:00,  2.24it/s]\n",
            "                 Class     Images  Instances      Box(P          R      mAP50  mAP50-95): 100%|██████████| 79/79 [00:41<00:00,  1.90it/s]"
          ]
        },
        {
          "output_type": "stream",
          "name": "stdout",
          "text": [
            "                   all       2517       9054      0.929      0.891      0.935      0.683\n"
          ]
        },
        {
          "output_type": "stream",
          "name": "stderr",
          "text": [
            "\n"
          ]
        },
        {
          "output_type": "stream",
          "name": "stdout",
          "text": [
            "\n",
            "      Epoch    GPU_mem   box_loss   cls_loss   dfl_loss  Instances       Size\n"
          ]
        },
        {
          "output_type": "stream",
          "name": "stderr",
          "text": [
            "      46/50      4.32G     0.7453     0.4016     0.9122         60        640: 100%|██████████| 219/219 [01:37<00:00,  2.24it/s]\n",
            "                 Class     Images  Instances      Box(P          R      mAP50  mAP50-95): 100%|██████████| 79/79 [00:39<00:00,  2.00it/s]"
          ]
        },
        {
          "output_type": "stream",
          "name": "stdout",
          "text": [
            "                   all       2517       9054      0.929       0.89      0.937      0.686\n"
          ]
        },
        {
          "output_type": "stream",
          "name": "stderr",
          "text": [
            "\n"
          ]
        },
        {
          "output_type": "stream",
          "name": "stdout",
          "text": [
            "\n",
            "      Epoch    GPU_mem   box_loss   cls_loss   dfl_loss  Instances       Size\n"
          ]
        },
        {
          "output_type": "stream",
          "name": "stderr",
          "text": [
            "      47/50      4.37G     0.7387     0.3965     0.9104         30        640: 100%|██████████| 219/219 [01:39<00:00,  2.20it/s]\n",
            "                 Class     Images  Instances      Box(P          R      mAP50  mAP50-95): 100%|██████████| 79/79 [00:39<00:00,  2.02it/s]"
          ]
        },
        {
          "output_type": "stream",
          "name": "stdout",
          "text": [
            "                   all       2517       9054      0.927      0.894      0.937      0.689\n"
          ]
        },
        {
          "output_type": "stream",
          "name": "stderr",
          "text": [
            "\n"
          ]
        },
        {
          "output_type": "stream",
          "name": "stdout",
          "text": [
            "\n",
            "      Epoch    GPU_mem   box_loss   cls_loss   dfl_loss  Instances       Size\n"
          ]
        },
        {
          "output_type": "stream",
          "name": "stderr",
          "text": [
            "      48/50      4.35G     0.7348     0.3907     0.9048         40        640: 100%|██████████| 219/219 [01:38<00:00,  2.21it/s]\n",
            "                 Class     Images  Instances      Box(P          R      mAP50  mAP50-95): 100%|██████████| 79/79 [00:40<00:00,  1.94it/s]"
          ]
        },
        {
          "output_type": "stream",
          "name": "stdout",
          "text": [
            "                   all       2517       9054       0.93      0.893      0.939      0.691\n"
          ]
        },
        {
          "output_type": "stream",
          "name": "stderr",
          "text": [
            "\n"
          ]
        },
        {
          "output_type": "stream",
          "name": "stdout",
          "text": [
            "\n",
            "      Epoch    GPU_mem   box_loss   cls_loss   dfl_loss  Instances       Size\n"
          ]
        },
        {
          "output_type": "stream",
          "name": "stderr",
          "text": [
            "      49/50      4.31G     0.7182     0.3836     0.9026         44        640: 100%|██████████| 219/219 [01:38<00:00,  2.22it/s]\n",
            "                 Class     Images  Instances      Box(P          R      mAP50  mAP50-95): 100%|██████████| 79/79 [00:39<00:00,  1.99it/s]"
          ]
        },
        {
          "output_type": "stream",
          "name": "stdout",
          "text": [
            "                   all       2517       9054      0.924      0.902       0.94      0.693\n"
          ]
        },
        {
          "output_type": "stream",
          "name": "stderr",
          "text": [
            "\n"
          ]
        },
        {
          "output_type": "stream",
          "name": "stdout",
          "text": [
            "\n",
            "      Epoch    GPU_mem   box_loss   cls_loss   dfl_loss  Instances       Size\n"
          ]
        },
        {
          "output_type": "stream",
          "name": "stderr",
          "text": [
            "      50/50       4.3G     0.7136     0.3776     0.8987         59        640: 100%|██████████| 219/219 [01:38<00:00,  2.22it/s]\n",
            "                 Class     Images  Instances      Box(P          R      mAP50  mAP50-95): 100%|██████████| 79/79 [00:38<00:00,  2.03it/s]"
          ]
        },
        {
          "output_type": "stream",
          "name": "stdout",
          "text": [
            "                   all       2517       9054      0.929      0.899       0.94      0.693\n"
          ]
        },
        {
          "output_type": "stream",
          "name": "stderr",
          "text": [
            "\n"
          ]
        },
        {
          "output_type": "stream",
          "name": "stdout",
          "text": [
            "\n",
            "50 epochs completed in 1.999 hours.\n",
            "Optimizer stripped from /content/drive/MyDrive/my_yolov8/yolov8s_str/weights/last.pt, 22.5MB\n",
            "Optimizer stripped from /content/drive/MyDrive/my_yolov8/yolov8s_str/weights/best.pt, 22.5MB\n",
            "\n",
            "Validating /content/drive/MyDrive/my_yolov8/yolov8s_str/weights/best.pt...\n",
            "Ultralytics YOLOv8.1.2 🚀 Python-3.10.12 torch-2.1.0+cu121 CUDA:0 (Tesla T4, 15102MiB)\n",
            "Model summary (fused): 168 layers, 11126745 parameters, 0 gradients, 28.4 GFLOPs\n"
          ]
        },
        {
          "output_type": "stream",
          "name": "stderr",
          "text": [
            "                 Class     Images  Instances      Box(P          R      mAP50  mAP50-95): 100%|██████████| 79/79 [00:44<00:00,  1.77it/s]\n"
          ]
        },
        {
          "output_type": "stream",
          "name": "stdout",
          "text": [
            "                   all       2517       9054      0.929      0.899       0.94      0.693\n",
            "               Hardhat       2517       1749      0.921      0.894      0.929      0.672\n",
            "            NO-Hardhat       2517       2877      0.912      0.849      0.912      0.575\n",
            "                Person       2517       4428      0.955      0.955      0.979      0.832\n",
            "Speed: 0.3ms preprocess, 4.4ms inference, 0.0ms loss, 2.9ms postprocess per image\n",
            "Results saved to \u001b[1m/content/drive/MyDrive/my_yolov8/yolov8s_str\u001b[0m\n",
            "Ultralytics YOLOv8.1.2 🚀 Python-3.10.12 torch-2.1.0+cu121 CUDA:0 (Tesla T4, 15102MiB)\n",
            "\u001b[34m\u001b[1mengine/trainer: \u001b[0mtask=detect, mode=train, model=yolov8s.pt, data=/content/drive/MyDrive/my_yolov8/Conbine_dataset_3_classes-1_80-20-10-str/data_drive.yaml, epochs=50, time=None, patience=50, batch=16, imgsz=640, save=True, save_period=-1, cache=False, device=None, workers=8, project=None, name=yolov8s_str2, exist_ok=False, pretrained=True, optimizer=auto, verbose=True, seed=0, deterministic=True, single_cls=False, rect=False, cos_lr=False, close_mosaic=10, resume=False, amp=True, fraction=1.0, profile=False, freeze=None, multi_scale=False, overlap_mask=True, mask_ratio=4, dropout=0.0, val=True, split=val, save_json=False, save_hybrid=False, conf=None, iou=0.7, max_det=300, half=False, dnn=False, plots=True, source=None, vid_stride=1, stream_buffer=False, visualize=False, augment=False, agnostic_nms=False, classes=None, retina_masks=False, embed=None, show=False, save_frames=False, save_txt=False, save_conf=False, save_crop=False, show_labels=True, show_conf=True, show_boxes=True, line_width=None, format=torchscript, keras=False, optimize=False, int8=False, dynamic=False, simplify=False, opset=None, workspace=4, nms=False, lr0=0.01, lrf=0.01, momentum=0.937, weight_decay=0.0005, warmup_epochs=3.0, warmup_momentum=0.8, warmup_bias_lr=0.0, box=7.5, cls=0.5, dfl=1.5, pose=12.0, kobj=1.0, label_smoothing=0.0, nbs=64, hsv_h=0.015, hsv_s=0.7, hsv_v=0.4, degrees=0.0, translate=0.1, scale=0.5, shear=0.0, perspective=0.0, flipud=0.0, fliplr=0.5, mosaic=0.0, mixup=0.0, copy_paste=0.0, auto_augment=randaugment, erasing=0.4, crop_fraction=1.0, cfg=None, tracker=botsort.yaml, save_dir=/content/drive/MyDrive/my_yolov8/yolov8s_str2\n",
            "\n",
            "                   from  n    params  module                                       arguments                     \n",
            "  0                  -1  1       928  ultralytics.nn.modules.conv.Conv             [3, 32, 3, 2]                 \n",
            "  1                  -1  1     18560  ultralytics.nn.modules.conv.Conv             [32, 64, 3, 2]                \n",
            "  2                  -1  1     29056  ultralytics.nn.modules.block.C2f             [64, 64, 1, True]             \n",
            "  3                  -1  1     73984  ultralytics.nn.modules.conv.Conv             [64, 128, 3, 2]               \n",
            "  4                  -1  2    197632  ultralytics.nn.modules.block.C2f             [128, 128, 2, True]           \n",
            "  5                  -1  1    295424  ultralytics.nn.modules.conv.Conv             [128, 256, 3, 2]              \n",
            "  6                  -1  2    788480  ultralytics.nn.modules.block.C2f             [256, 256, 2, True]           \n",
            "  7                  -1  1   1180672  ultralytics.nn.modules.conv.Conv             [256, 512, 3, 2]              \n",
            "  8                  -1  1   1838080  ultralytics.nn.modules.block.C2f             [512, 512, 1, True]           \n",
            "  9                  -1  1    656896  ultralytics.nn.modules.block.SPPF            [512, 512, 5]                 \n",
            " 10                  -1  1         0  torch.nn.modules.upsampling.Upsample         [None, 2, 'nearest']          \n",
            " 11             [-1, 6]  1         0  ultralytics.nn.modules.conv.Concat           [1]                           \n",
            " 12                  -1  1    591360  ultralytics.nn.modules.block.C2f             [768, 256, 1]                 \n",
            " 13                  -1  1         0  torch.nn.modules.upsampling.Upsample         [None, 2, 'nearest']          \n",
            " 14             [-1, 4]  1         0  ultralytics.nn.modules.conv.Concat           [1]                           \n",
            " 15                  -1  1    148224  ultralytics.nn.modules.block.C2f             [384, 128, 1]                 \n",
            " 16                  -1  1    147712  ultralytics.nn.modules.conv.Conv             [128, 128, 3, 2]              \n",
            " 17            [-1, 12]  1         0  ultralytics.nn.modules.conv.Concat           [1]                           \n",
            " 18                  -1  1    493056  ultralytics.nn.modules.block.C2f             [384, 256, 1]                 \n",
            " 19                  -1  1    590336  ultralytics.nn.modules.conv.Conv             [256, 256, 3, 2]              \n",
            " 20             [-1, 9]  1         0  ultralytics.nn.modules.conv.Concat           [1]                           \n",
            " 21                  -1  1   1969152  ultralytics.nn.modules.block.C2f             [768, 512, 1]                 \n",
            " 22        [15, 18, 21]  1   2117209  ultralytics.nn.modules.head.Detect           [3, [128, 256, 512]]          \n",
            "Model summary: 225 layers, 11136761 parameters, 11136745 gradients, 28.7 GFLOPs\n",
            "\n",
            "Transferred 355/355 items from pretrained weights\n",
            "\u001b[34m\u001b[1mTensorBoard: \u001b[0mStart with 'tensorboard --logdir /content/drive/MyDrive/my_yolov8/yolov8s_str2', view at http://localhost:6006/\n",
            "Freezing layer 'model.22.dfl.conv.weight'\n",
            "\u001b[34m\u001b[1mAMP: \u001b[0mrunning Automatic Mixed Precision (AMP) checks with YOLOv8n...\n",
            "\u001b[34m\u001b[1mAMP: \u001b[0mchecks passed ✅\n"
          ]
        },
        {
          "output_type": "stream",
          "name": "stderr",
          "text": [
            "\u001b[34m\u001b[1mtrain: \u001b[0mScanning /content/drive/MyDrive/my_yolov8/Conbine_dataset_3_classes-1_80-20-10-str/train/labels.cache... 3504 images, 0 backgrounds, 0 corrupt: 100%|██████████| 3504/3504 [00:00<?, ?it/s]"
          ]
        },
        {
          "output_type": "stream",
          "name": "stdout",
          "text": [
            "\u001b[34m\u001b[1malbumentations: \u001b[0mBlur(p=0.01, blur_limit=(3, 7)), MedianBlur(p=0.01, blur_limit=(3, 7)), ToGray(p=0.01), CLAHE(p=0.01, clip_limit=(1, 4.0), tile_grid_size=(8, 8))\n"
          ]
        },
        {
          "output_type": "stream",
          "name": "stderr",
          "text": [
            "\n",
            "\u001b[34m\u001b[1mval: \u001b[0mScanning /content/drive/MyDrive/my_yolov8/Conbine_dataset_3_classes-1_80-20-10-str/valid/labels.cache... 2517 images, 0 backgrounds, 0 corrupt: 100%|██████████| 2517/2517 [00:00<?, ?it/s]\n"
          ]
        },
        {
          "output_type": "stream",
          "name": "stdout",
          "text": [
            "Plotting labels to /content/drive/MyDrive/my_yolov8/yolov8s_str2/labels.jpg... \n",
            "\u001b[34m\u001b[1moptimizer:\u001b[0m 'optimizer=auto' found, ignoring 'lr0=0.01' and 'momentum=0.937' and determining best 'optimizer', 'lr0' and 'momentum' automatically... \n",
            "\u001b[34m\u001b[1moptimizer:\u001b[0m AdamW(lr=0.001429, momentum=0.9) with parameter groups 57 weight(decay=0.0), 64 weight(decay=0.0005), 63 bias(decay=0.0)\n",
            "50 epochs...\n",
            "\n",
            "      Epoch    GPU_mem   box_loss   cls_loss   dfl_loss  Instances       Size\n"
          ]
        },
        {
          "output_type": "stream",
          "name": "stderr",
          "text": [
            "       1/50       4.3G     0.7421     0.3986     0.9058         44        640: 100%|██████████| 219/219 [01:42<00:00,  2.14it/s]\n",
            "                 Class     Images  Instances      Box(P          R      mAP50  mAP50-95): 100%|██████████| 79/79 [00:42<00:00,  1.87it/s]"
          ]
        },
        {
          "output_type": "stream",
          "name": "stdout",
          "text": [
            "                   all       2517       9054      0.927      0.885      0.929      0.671\n"
          ]
        },
        {
          "output_type": "stream",
          "name": "stderr",
          "text": [
            "\n"
          ]
        },
        {
          "output_type": "stream",
          "name": "stdout",
          "text": [
            "\n",
            "      Epoch    GPU_mem   box_loss   cls_loss   dfl_loss  Instances       Size\n"
          ]
        },
        {
          "output_type": "stream",
          "name": "stderr",
          "text": [
            "       2/50       4.4G      0.835      0.465     0.9378         53        640: 100%|██████████| 219/219 [01:40<00:00,  2.17it/s]\n",
            "                 Class     Images  Instances      Box(P          R      mAP50  mAP50-95): 100%|██████████| 79/79 [00:41<00:00,  1.90it/s]"
          ]
        },
        {
          "output_type": "stream",
          "name": "stdout",
          "text": [
            "                   all       2517       9054      0.912      0.867      0.918      0.644\n"
          ]
        },
        {
          "output_type": "stream",
          "name": "stderr",
          "text": [
            "\n"
          ]
        },
        {
          "output_type": "stream",
          "name": "stdout",
          "text": [
            "\n",
            "      Epoch    GPU_mem   box_loss   cls_loss   dfl_loss  Instances       Size\n"
          ]
        },
        {
          "output_type": "stream",
          "name": "stderr",
          "text": [
            "       3/50       4.2G     0.8843     0.5128     0.9557         45        640: 100%|██████████| 219/219 [01:38<00:00,  2.22it/s]\n",
            "                 Class     Images  Instances      Box(P          R      mAP50  mAP50-95): 100%|██████████| 79/79 [00:41<00:00,  1.88it/s]"
          ]
        },
        {
          "output_type": "stream",
          "name": "stdout",
          "text": [
            "                   all       2517       9054      0.911      0.859      0.913      0.632\n"
          ]
        },
        {
          "output_type": "stream",
          "name": "stderr",
          "text": [
            "\n"
          ]
        },
        {
          "output_type": "stream",
          "name": "stdout",
          "text": [
            "\n",
            "      Epoch    GPU_mem   box_loss   cls_loss   dfl_loss  Instances       Size\n"
          ]
        },
        {
          "output_type": "stream",
          "name": "stderr",
          "text": [
            "       4/50      4.21G      0.912     0.5248     0.9714         50        640: 100%|██████████| 219/219 [01:38<00:00,  2.23it/s]\n",
            "                 Class     Images  Instances      Box(P          R      mAP50  mAP50-95): 100%|██████████| 79/79 [00:39<00:00,  2.01it/s]"
          ]
        },
        {
          "output_type": "stream",
          "name": "stdout",
          "text": [
            "                   all       2517       9054      0.911       0.85      0.906       0.61\n"
          ]
        },
        {
          "output_type": "stream",
          "name": "stderr",
          "text": [
            "\n"
          ]
        },
        {
          "output_type": "stream",
          "name": "stdout",
          "text": [
            "\n",
            "      Epoch    GPU_mem   box_loss   cls_loss   dfl_loss  Instances       Size\n"
          ]
        },
        {
          "output_type": "stream",
          "name": "stderr",
          "text": [
            "       5/50      4.21G     0.9201     0.5336     0.9749         49        640: 100%|██████████| 219/219 [01:39<00:00,  2.20it/s]\n",
            "                 Class     Images  Instances      Box(P          R      mAP50  mAP50-95): 100%|██████████| 79/79 [00:41<00:00,  1.92it/s]"
          ]
        },
        {
          "output_type": "stream",
          "name": "stdout",
          "text": [
            "                   all       2517       9054      0.901      0.859      0.906      0.618\n"
          ]
        },
        {
          "output_type": "stream",
          "name": "stderr",
          "text": [
            "\n"
          ]
        },
        {
          "output_type": "stream",
          "name": "stdout",
          "text": [
            "\n",
            "      Epoch    GPU_mem   box_loss   cls_loss   dfl_loss  Instances       Size\n"
          ]
        },
        {
          "output_type": "stream",
          "name": "stderr",
          "text": [
            "       6/50      4.18G     0.9179     0.5322     0.9693         62        640: 100%|██████████| 219/219 [01:38<00:00,  2.21it/s]\n",
            "                 Class     Images  Instances      Box(P          R      mAP50  mAP50-95): 100%|██████████| 79/79 [00:39<00:00,  2.02it/s]"
          ]
        },
        {
          "output_type": "stream",
          "name": "stdout",
          "text": [
            "                   all       2517       9054      0.898      0.865      0.912       0.63\n"
          ]
        },
        {
          "output_type": "stream",
          "name": "stderr",
          "text": [
            "\n"
          ]
        },
        {
          "output_type": "stream",
          "name": "stdout",
          "text": [
            "\n",
            "      Epoch    GPU_mem   box_loss   cls_loss   dfl_loss  Instances       Size\n"
          ]
        },
        {
          "output_type": "stream",
          "name": "stderr",
          "text": [
            "       7/50      4.18G     0.9148     0.5207     0.9671         60        640: 100%|██████████| 219/219 [01:38<00:00,  2.22it/s]\n",
            "                 Class     Images  Instances      Box(P          R      mAP50  mAP50-95): 100%|██████████| 79/79 [00:41<00:00,  1.91it/s]"
          ]
        },
        {
          "output_type": "stream",
          "name": "stdout",
          "text": [
            "                   all       2517       9054      0.919      0.864      0.915      0.624\n"
          ]
        },
        {
          "output_type": "stream",
          "name": "stderr",
          "text": [
            "\n"
          ]
        },
        {
          "output_type": "stream",
          "name": "stdout",
          "text": [
            "\n",
            "      Epoch    GPU_mem   box_loss   cls_loss   dfl_loss  Instances       Size\n"
          ]
        },
        {
          "output_type": "stream",
          "name": "stderr",
          "text": [
            "       8/50      4.18G      0.912     0.5159     0.9645         50        640: 100%|██████████| 219/219 [01:38<00:00,  2.22it/s]\n",
            "                 Class     Images  Instances      Box(P          R      mAP50  mAP50-95): 100%|██████████| 79/79 [00:39<00:00,  2.01it/s]"
          ]
        },
        {
          "output_type": "stream",
          "name": "stdout",
          "text": [
            "                   all       2517       9054      0.904      0.853      0.902      0.615\n"
          ]
        },
        {
          "output_type": "stream",
          "name": "stderr",
          "text": [
            "\n"
          ]
        },
        {
          "output_type": "stream",
          "name": "stdout",
          "text": [
            "\n",
            "      Epoch    GPU_mem   box_loss   cls_loss   dfl_loss  Instances       Size\n"
          ]
        },
        {
          "output_type": "stream",
          "name": "stderr",
          "text": [
            "       9/50      4.24G     0.8865     0.5085     0.9587         39        640: 100%|██████████| 219/219 [01:38<00:00,  2.22it/s]\n",
            "                 Class     Images  Instances      Box(P          R      mAP50  mAP50-95): 100%|██████████| 79/79 [00:39<00:00,  1.98it/s]"
          ]
        },
        {
          "output_type": "stream",
          "name": "stdout",
          "text": [
            "                   all       2517       9054      0.911       0.86      0.912      0.632\n"
          ]
        },
        {
          "output_type": "stream",
          "name": "stderr",
          "text": [
            "\n"
          ]
        },
        {
          "output_type": "stream",
          "name": "stdout",
          "text": [
            "\n",
            "      Epoch    GPU_mem   box_loss   cls_loss   dfl_loss  Instances       Size\n"
          ]
        },
        {
          "output_type": "stream",
          "name": "stderr",
          "text": [
            "      10/50      4.17G      0.879     0.4972     0.9489         60        640: 100%|██████████| 219/219 [01:38<00:00,  2.23it/s]\n",
            "                 Class     Images  Instances      Box(P          R      mAP50  mAP50-95): 100%|██████████| 79/79 [00:39<00:00,  2.02it/s]"
          ]
        },
        {
          "output_type": "stream",
          "name": "stdout",
          "text": [
            "                   all       2517       9054      0.912      0.861      0.912      0.627\n"
          ]
        },
        {
          "output_type": "stream",
          "name": "stderr",
          "text": [
            "\n"
          ]
        },
        {
          "output_type": "stream",
          "name": "stdout",
          "text": [
            "\n",
            "      Epoch    GPU_mem   box_loss   cls_loss   dfl_loss  Instances       Size\n"
          ]
        },
        {
          "output_type": "stream",
          "name": "stderr",
          "text": [
            "      11/50      4.16G     0.8821     0.4966     0.9545         52        640: 100%|██████████| 219/219 [01:38<00:00,  2.21it/s]\n",
            "                 Class     Images  Instances      Box(P          R      mAP50  mAP50-95): 100%|██████████| 79/79 [00:40<00:00,  1.93it/s]\n"
          ]
        },
        {
          "output_type": "stream",
          "name": "stdout",
          "text": [
            "                   all       2517       9054       0.91      0.874      0.919      0.638\n",
            "\n",
            "      Epoch    GPU_mem   box_loss   cls_loss   dfl_loss  Instances       Size\n"
          ]
        },
        {
          "output_type": "stream",
          "name": "stderr",
          "text": [
            "      12/50      4.21G     0.8706      0.493     0.9459         44        640: 100%|██████████| 219/219 [02:18<00:00,  1.58it/s]\n",
            "                 Class     Images  Instances      Box(P          R      mAP50  mAP50-95): 100%|██████████| 79/79 [00:39<00:00,  2.00it/s]"
          ]
        },
        {
          "output_type": "stream",
          "name": "stdout",
          "text": [
            "                   all       2517       9054      0.909      0.861      0.916       0.63\n"
          ]
        },
        {
          "output_type": "stream",
          "name": "stderr",
          "text": [
            "\n"
          ]
        },
        {
          "output_type": "stream",
          "name": "stdout",
          "text": [
            "\n",
            "      Epoch    GPU_mem   box_loss   cls_loss   dfl_loss  Instances       Size\n"
          ]
        },
        {
          "output_type": "stream",
          "name": "stderr",
          "text": [
            "      13/50      4.18G     0.8709     0.4894     0.9532         52        640: 100%|██████████| 219/219 [01:38<00:00,  2.22it/s]\n",
            "                 Class     Images  Instances      Box(P          R      mAP50  mAP50-95): 100%|██████████| 79/79 [00:41<00:00,  1.90it/s]"
          ]
        },
        {
          "output_type": "stream",
          "name": "stdout",
          "text": [
            "                   all       2517       9054      0.921      0.871       0.92      0.653\n"
          ]
        },
        {
          "output_type": "stream",
          "name": "stderr",
          "text": [
            "\n"
          ]
        },
        {
          "output_type": "stream",
          "name": "stdout",
          "text": [
            "\n",
            "      Epoch    GPU_mem   box_loss   cls_loss   dfl_loss  Instances       Size\n"
          ]
        },
        {
          "output_type": "stream",
          "name": "stderr",
          "text": [
            "      14/50      4.17G     0.8528     0.4736     0.9445         43        640: 100%|██████████| 219/219 [01:39<00:00,  2.20it/s]\n",
            "                 Class     Images  Instances      Box(P          R      mAP50  mAP50-95): 100%|██████████| 79/79 [00:39<00:00,  1.98it/s]"
          ]
        },
        {
          "output_type": "stream",
          "name": "stdout",
          "text": [
            "                   all       2517       9054      0.914      0.875      0.922      0.641\n"
          ]
        },
        {
          "output_type": "stream",
          "name": "stderr",
          "text": [
            "\n"
          ]
        },
        {
          "output_type": "stream",
          "name": "stdout",
          "text": [
            "\n",
            "      Epoch    GPU_mem   box_loss   cls_loss   dfl_loss  Instances       Size\n"
          ]
        },
        {
          "output_type": "stream",
          "name": "stderr",
          "text": [
            "      15/50      4.18G      0.853     0.4717      0.948         38        640: 100%|██████████| 219/219 [01:38<00:00,  2.21it/s]\n",
            "                 Class     Images  Instances      Box(P          R      mAP50  mAP50-95): 100%|██████████| 79/79 [00:41<00:00,  1.89it/s]"
          ]
        },
        {
          "output_type": "stream",
          "name": "stdout",
          "text": [
            "                   all       2517       9054       0.92      0.875      0.923      0.652\n"
          ]
        },
        {
          "output_type": "stream",
          "name": "stderr",
          "text": [
            "\n"
          ]
        },
        {
          "output_type": "stream",
          "name": "stdout",
          "text": [
            "\n",
            "      Epoch    GPU_mem   box_loss   cls_loss   dfl_loss  Instances       Size\n"
          ]
        },
        {
          "output_type": "stream",
          "name": "stderr",
          "text": [
            "      16/50       4.2G     0.8415     0.4696     0.9362         56        640: 100%|██████████| 219/219 [01:39<00:00,  2.21it/s]\n",
            "                 Class     Images  Instances      Box(P          R      mAP50  mAP50-95): 100%|██████████| 79/79 [00:39<00:00,  2.02it/s]"
          ]
        },
        {
          "output_type": "stream",
          "name": "stdout",
          "text": [
            "                   all       2517       9054      0.922      0.879      0.927       0.66\n"
          ]
        },
        {
          "output_type": "stream",
          "name": "stderr",
          "text": [
            "\n"
          ]
        },
        {
          "output_type": "stream",
          "name": "stdout",
          "text": [
            "\n",
            "      Epoch    GPU_mem   box_loss   cls_loss   dfl_loss  Instances       Size\n"
          ]
        },
        {
          "output_type": "stream",
          "name": "stderr",
          "text": [
            "      17/50       4.2G     0.8371     0.4653     0.9375         51        640: 100%|██████████| 219/219 [01:38<00:00,  2.23it/s]\n",
            "                 Class     Images  Instances      Box(P          R      mAP50  mAP50-95): 100%|██████████| 79/79 [00:40<00:00,  1.96it/s]\n"
          ]
        },
        {
          "output_type": "stream",
          "name": "stdout",
          "text": [
            "                   all       2517       9054      0.921      0.879      0.922      0.658\n",
            "\n",
            "      Epoch    GPU_mem   box_loss   cls_loss   dfl_loss  Instances       Size\n"
          ]
        },
        {
          "output_type": "stream",
          "name": "stderr",
          "text": [
            "      18/50      4.21G     0.8322     0.4592     0.9392         29        640: 100%|██████████| 219/219 [01:36<00:00,  2.27it/s]\n",
            "                 Class     Images  Instances      Box(P          R      mAP50  mAP50-95): 100%|██████████| 79/79 [00:39<00:00,  1.99it/s]"
          ]
        },
        {
          "output_type": "stream",
          "name": "stdout",
          "text": [
            "                   all       2517       9054      0.921      0.878      0.932      0.663\n"
          ]
        },
        {
          "output_type": "stream",
          "name": "stderr",
          "text": [
            "\n"
          ]
        },
        {
          "output_type": "stream",
          "name": "stdout",
          "text": [
            "\n",
            "      Epoch    GPU_mem   box_loss   cls_loss   dfl_loss  Instances       Size\n"
          ]
        },
        {
          "output_type": "stream",
          "name": "stderr",
          "text": [
            "      19/50      4.16G     0.8205     0.4563     0.9342         64        640: 100%|██████████| 219/219 [01:37<00:00,  2.24it/s]\n",
            "                 Class     Images  Instances      Box(P          R      mAP50  mAP50-95): 100%|██████████| 79/79 [00:39<00:00,  2.00it/s]"
          ]
        },
        {
          "output_type": "stream",
          "name": "stdout",
          "text": [
            "                   all       2517       9054      0.922      0.888      0.929       0.66\n"
          ]
        },
        {
          "output_type": "stream",
          "name": "stderr",
          "text": [
            "\n"
          ]
        },
        {
          "output_type": "stream",
          "name": "stdout",
          "text": [
            "\n",
            "      Epoch    GPU_mem   box_loss   cls_loss   dfl_loss  Instances       Size\n"
          ]
        },
        {
          "output_type": "stream",
          "name": "stderr",
          "text": [
            "      20/50      4.18G     0.8128     0.4439     0.9271         35        640: 100%|██████████| 219/219 [01:40<00:00,  2.19it/s]\n",
            "                 Class     Images  Instances      Box(P          R      mAP50  mAP50-95): 100%|██████████| 79/79 [00:40<00:00,  1.96it/s]"
          ]
        },
        {
          "output_type": "stream",
          "name": "stdout",
          "text": [
            "                   all       2517       9054      0.922      0.884      0.933      0.664\n"
          ]
        },
        {
          "output_type": "stream",
          "name": "stderr",
          "text": [
            "\n"
          ]
        },
        {
          "output_type": "stream",
          "name": "stdout",
          "text": [
            "\n",
            "      Epoch    GPU_mem   box_loss   cls_loss   dfl_loss  Instances       Size\n"
          ]
        },
        {
          "output_type": "stream",
          "name": "stderr",
          "text": [
            "      21/50      4.18G     0.8068     0.4376     0.9253         62        640: 100%|██████████| 219/219 [01:39<00:00,  2.20it/s]\n",
            "                 Class     Images  Instances      Box(P          R      mAP50  mAP50-95): 100%|██████████| 79/79 [00:39<00:00,  2.01it/s]"
          ]
        },
        {
          "output_type": "stream",
          "name": "stdout",
          "text": [
            "                   all       2517       9054      0.926      0.883      0.931      0.668\n"
          ]
        },
        {
          "output_type": "stream",
          "name": "stderr",
          "text": [
            "\n"
          ]
        },
        {
          "output_type": "stream",
          "name": "stdout",
          "text": [
            "\n",
            "      Epoch    GPU_mem   box_loss   cls_loss   dfl_loss  Instances       Size\n"
          ]
        },
        {
          "output_type": "stream",
          "name": "stderr",
          "text": [
            "      22/50      4.17G     0.8016     0.4382     0.9254         56        640: 100%|██████████| 219/219 [01:39<00:00,  2.21it/s]\n",
            "                 Class     Images  Instances      Box(P          R      mAP50  mAP50-95): 100%|██████████| 79/79 [00:40<00:00,  1.93it/s]"
          ]
        },
        {
          "output_type": "stream",
          "name": "stdout",
          "text": [
            "                   all       2517       9054      0.923      0.888      0.932      0.667\n"
          ]
        },
        {
          "output_type": "stream",
          "name": "stderr",
          "text": [
            "\n"
          ]
        },
        {
          "output_type": "stream",
          "name": "stdout",
          "text": [
            "\n",
            "      Epoch    GPU_mem   box_loss   cls_loss   dfl_loss  Instances       Size\n"
          ]
        },
        {
          "output_type": "stream",
          "name": "stderr",
          "text": [
            "      23/50      4.19G     0.7882     0.4362     0.9178         52        640: 100%|██████████| 219/219 [01:39<00:00,  2.20it/s]\n",
            "                 Class     Images  Instances      Box(P          R      mAP50  mAP50-95): 100%|██████████| 79/79 [00:40<00:00,  1.94it/s]"
          ]
        },
        {
          "output_type": "stream",
          "name": "stdout",
          "text": [
            "                   all       2517       9054      0.931      0.891      0.935      0.674\n"
          ]
        },
        {
          "output_type": "stream",
          "name": "stderr",
          "text": [
            "\n"
          ]
        },
        {
          "output_type": "stream",
          "name": "stdout",
          "text": [
            "\n",
            "      Epoch    GPU_mem   box_loss   cls_loss   dfl_loss  Instances       Size\n"
          ]
        },
        {
          "output_type": "stream",
          "name": "stderr",
          "text": [
            "      24/50      4.23G     0.7858      0.428     0.9156         38        640: 100%|██████████| 219/219 [01:39<00:00,  2.19it/s]\n",
            "                 Class     Images  Instances      Box(P          R      mAP50  mAP50-95): 100%|██████████| 79/79 [00:39<00:00,  2.01it/s]"
          ]
        },
        {
          "output_type": "stream",
          "name": "stdout",
          "text": [
            "                   all       2517       9054      0.924      0.893      0.934      0.675\n"
          ]
        },
        {
          "output_type": "stream",
          "name": "stderr",
          "text": [
            "\n"
          ]
        },
        {
          "output_type": "stream",
          "name": "stdout",
          "text": [
            "\n",
            "      Epoch    GPU_mem   box_loss   cls_loss   dfl_loss  Instances       Size\n"
          ]
        },
        {
          "output_type": "stream",
          "name": "stderr",
          "text": [
            "      25/50      4.18G     0.7804     0.4271     0.9184         50        640: 100%|██████████| 219/219 [01:38<00:00,  2.23it/s]\n",
            "                 Class     Images  Instances      Box(P          R      mAP50  mAP50-95): 100%|██████████| 79/79 [00:41<00:00,  1.93it/s]"
          ]
        },
        {
          "output_type": "stream",
          "name": "stdout",
          "text": [
            "                   all       2517       9054      0.925      0.892      0.936      0.674\n"
          ]
        },
        {
          "output_type": "stream",
          "name": "stderr",
          "text": [
            "\n"
          ]
        },
        {
          "output_type": "stream",
          "name": "stdout",
          "text": [
            "\n",
            "      Epoch    GPU_mem   box_loss   cls_loss   dfl_loss  Instances       Size\n"
          ]
        },
        {
          "output_type": "stream",
          "name": "stderr",
          "text": [
            "      26/50      4.16G     0.7672     0.4148     0.9135         62        640: 100%|██████████| 219/219 [01:39<00:00,  2.21it/s]\n",
            "                 Class     Images  Instances      Box(P          R      mAP50  mAP50-95): 100%|██████████| 79/79 [00:40<00:00,  1.97it/s]"
          ]
        },
        {
          "output_type": "stream",
          "name": "stdout",
          "text": [
            "                   all       2517       9054      0.923      0.886       0.93      0.675\n"
          ]
        },
        {
          "output_type": "stream",
          "name": "stderr",
          "text": [
            "\n"
          ]
        },
        {
          "output_type": "stream",
          "name": "stdout",
          "text": [
            "\n",
            "      Epoch    GPU_mem   box_loss   cls_loss   dfl_loss  Instances       Size\n"
          ]
        },
        {
          "output_type": "stream",
          "name": "stderr",
          "text": [
            "      27/50      4.21G     0.7686     0.4175     0.9113         65        640: 100%|██████████| 219/219 [01:38<00:00,  2.22it/s]\n",
            "                 Class     Images  Instances      Box(P          R      mAP50  mAP50-95): 100%|██████████| 79/79 [00:40<00:00,  1.96it/s]"
          ]
        },
        {
          "output_type": "stream",
          "name": "stdout",
          "text": [
            "                   all       2517       9054      0.924      0.896      0.935       0.67\n"
          ]
        },
        {
          "output_type": "stream",
          "name": "stderr",
          "text": [
            "\n"
          ]
        },
        {
          "output_type": "stream",
          "name": "stdout",
          "text": [
            "\n",
            "      Epoch    GPU_mem   box_loss   cls_loss   dfl_loss  Instances       Size\n"
          ]
        },
        {
          "output_type": "stream",
          "name": "stderr",
          "text": [
            "      28/50      4.19G     0.7603     0.4092     0.9102         52        640: 100%|██████████| 219/219 [01:38<00:00,  2.22it/s]\n",
            "                 Class     Images  Instances      Box(P          R      mAP50  mAP50-95): 100%|██████████| 79/79 [00:39<00:00,  1.99it/s]"
          ]
        },
        {
          "output_type": "stream",
          "name": "stdout",
          "text": [
            "                   all       2517       9054      0.932      0.885      0.936      0.675\n"
          ]
        },
        {
          "output_type": "stream",
          "name": "stderr",
          "text": [
            "\n"
          ]
        },
        {
          "output_type": "stream",
          "name": "stdout",
          "text": [
            "\n",
            "      Epoch    GPU_mem   box_loss   cls_loss   dfl_loss  Instances       Size\n"
          ]
        },
        {
          "output_type": "stream",
          "name": "stderr",
          "text": [
            "      29/50      4.18G     0.7568     0.4066     0.9081         67        640: 100%|██████████| 219/219 [01:36<00:00,  2.26it/s]\n",
            "                 Class     Images  Instances      Box(P          R      mAP50  mAP50-95): 100%|██████████| 79/79 [00:39<00:00,  1.98it/s]"
          ]
        },
        {
          "output_type": "stream",
          "name": "stdout",
          "text": [
            "                   all       2517       9054      0.927      0.894      0.939      0.682\n"
          ]
        },
        {
          "output_type": "stream",
          "name": "stderr",
          "text": [
            "\n"
          ]
        },
        {
          "output_type": "stream",
          "name": "stdout",
          "text": [
            "\n",
            "      Epoch    GPU_mem   box_loss   cls_loss   dfl_loss  Instances       Size\n"
          ]
        },
        {
          "output_type": "stream",
          "name": "stderr",
          "text": [
            "      30/50      4.16G     0.7536     0.4092     0.9071         85        640: 100%|██████████| 219/219 [01:40<00:00,  2.18it/s]\n",
            "                 Class     Images  Instances      Box(P          R      mAP50  mAP50-95): 100%|██████████| 79/79 [00:40<00:00,  1.94it/s]"
          ]
        },
        {
          "output_type": "stream",
          "name": "stdout",
          "text": [
            "                   all       2517       9054      0.932      0.894       0.94       0.68\n"
          ]
        },
        {
          "output_type": "stream",
          "name": "stderr",
          "text": [
            "\n"
          ]
        },
        {
          "output_type": "stream",
          "name": "stdout",
          "text": [
            "\n",
            "      Epoch    GPU_mem   box_loss   cls_loss   dfl_loss  Instances       Size\n"
          ]
        },
        {
          "output_type": "stream",
          "name": "stderr",
          "text": [
            "      31/50      4.18G     0.7519     0.4055     0.9046         60        640: 100%|██████████| 219/219 [01:39<00:00,  2.20it/s]\n",
            "                 Class     Images  Instances      Box(P          R      mAP50  mAP50-95): 100%|██████████| 79/79 [00:39<00:00,  2.02it/s]"
          ]
        },
        {
          "output_type": "stream",
          "name": "stdout",
          "text": [
            "                   all       2517       9054      0.936      0.892       0.94      0.688\n"
          ]
        },
        {
          "output_type": "stream",
          "name": "stderr",
          "text": [
            "\n"
          ]
        },
        {
          "output_type": "stream",
          "name": "stdout",
          "text": [
            "\n",
            "      Epoch    GPU_mem   box_loss   cls_loss   dfl_loss  Instances       Size\n"
          ]
        },
        {
          "output_type": "stream",
          "name": "stderr",
          "text": [
            "      32/50       4.2G     0.7331     0.3959     0.9011         54        640: 100%|██████████| 219/219 [01:39<00:00,  2.21it/s]\n",
            "                 Class     Images  Instances      Box(P          R      mAP50  mAP50-95): 100%|██████████| 79/79 [00:41<00:00,  1.91it/s]"
          ]
        },
        {
          "output_type": "stream",
          "name": "stdout",
          "text": [
            "                   all       2517       9054      0.925      0.897      0.939      0.681\n"
          ]
        },
        {
          "output_type": "stream",
          "name": "stderr",
          "text": [
            "\n"
          ]
        },
        {
          "output_type": "stream",
          "name": "stdout",
          "text": [
            "\n",
            "      Epoch    GPU_mem   box_loss   cls_loss   dfl_loss  Instances       Size\n"
          ]
        },
        {
          "output_type": "stream",
          "name": "stderr",
          "text": [
            "      33/50      4.19G      0.728     0.3899     0.8977         51        640: 100%|██████████| 219/219 [01:37<00:00,  2.25it/s]\n",
            "                 Class     Images  Instances      Box(P          R      mAP50  mAP50-95): 100%|██████████| 79/79 [00:40<00:00,  1.97it/s]"
          ]
        },
        {
          "output_type": "stream",
          "name": "stdout",
          "text": [
            "                   all       2517       9054      0.937      0.898      0.938      0.687\n"
          ]
        },
        {
          "output_type": "stream",
          "name": "stderr",
          "text": [
            "\n"
          ]
        },
        {
          "output_type": "stream",
          "name": "stdout",
          "text": [
            "\n",
            "      Epoch    GPU_mem   box_loss   cls_loss   dfl_loss  Instances       Size\n"
          ]
        },
        {
          "output_type": "stream",
          "name": "stderr",
          "text": [
            "      34/50      4.17G     0.7256     0.3886     0.8976         54        640: 100%|██████████| 219/219 [01:39<00:00,  2.21it/s]\n",
            "                 Class     Images  Instances      Box(P          R      mAP50  mAP50-95): 100%|██████████| 79/79 [00:40<00:00,  1.96it/s]"
          ]
        },
        {
          "output_type": "stream",
          "name": "stdout",
          "text": [
            "                   all       2517       9054      0.931      0.898      0.941       0.69\n"
          ]
        },
        {
          "output_type": "stream",
          "name": "stderr",
          "text": [
            "\n"
          ]
        },
        {
          "output_type": "stream",
          "name": "stdout",
          "text": [
            "\n",
            "      Epoch    GPU_mem   box_loss   cls_loss   dfl_loss  Instances       Size\n"
          ]
        },
        {
          "output_type": "stream",
          "name": "stderr",
          "text": [
            "      35/50       4.2G     0.7106     0.3817     0.8906         71        640: 100%|██████████| 219/219 [01:40<00:00,  2.18it/s]\n",
            "                 Class     Images  Instances      Box(P          R      mAP50  mAP50-95): 100%|██████████| 79/79 [00:39<00:00,  2.02it/s]"
          ]
        },
        {
          "output_type": "stream",
          "name": "stdout",
          "text": [
            "                   all       2517       9054      0.936      0.897      0.942      0.692\n"
          ]
        },
        {
          "output_type": "stream",
          "name": "stderr",
          "text": [
            "\n"
          ]
        },
        {
          "output_type": "stream",
          "name": "stdout",
          "text": [
            "\n",
            "      Epoch    GPU_mem   box_loss   cls_loss   dfl_loss  Instances       Size\n"
          ]
        },
        {
          "output_type": "stream",
          "name": "stderr",
          "text": [
            "      36/50       4.2G     0.7101     0.3813     0.8889         52        640: 100%|██████████| 219/219 [01:38<00:00,  2.22it/s]\n",
            "                 Class     Images  Instances      Box(P          R      mAP50  mAP50-95): 100%|██████████| 79/79 [00:39<00:00,  2.01it/s]"
          ]
        },
        {
          "output_type": "stream",
          "name": "stdout",
          "text": [
            "                   all       2517       9054      0.935      0.902      0.944      0.698\n"
          ]
        },
        {
          "output_type": "stream",
          "name": "stderr",
          "text": [
            "\n"
          ]
        },
        {
          "output_type": "stream",
          "name": "stdout",
          "text": [
            "\n",
            "      Epoch    GPU_mem   box_loss   cls_loss   dfl_loss  Instances       Size\n"
          ]
        },
        {
          "output_type": "stream",
          "name": "stderr",
          "text": [
            "      37/50      4.23G        0.7     0.3745     0.8884         64        640: 100%|██████████| 219/219 [01:38<00:00,  2.23it/s]\n",
            "                 Class     Images  Instances      Box(P          R      mAP50  mAP50-95): 100%|██████████| 79/79 [00:40<00:00,  1.97it/s]"
          ]
        },
        {
          "output_type": "stream",
          "name": "stdout",
          "text": [
            "                   all       2517       9054      0.933      0.898      0.937      0.688\n"
          ]
        },
        {
          "output_type": "stream",
          "name": "stderr",
          "text": [
            "\n"
          ]
        },
        {
          "output_type": "stream",
          "name": "stdout",
          "text": [
            "\n",
            "      Epoch    GPU_mem   box_loss   cls_loss   dfl_loss  Instances       Size\n"
          ]
        },
        {
          "output_type": "stream",
          "name": "stderr",
          "text": [
            "      38/50       4.3G     0.6914     0.3687     0.8852         49        640: 100%|██████████| 219/219 [01:36<00:00,  2.27it/s]\n",
            "                 Class     Images  Instances      Box(P          R      mAP50  mAP50-95): 100%|██████████| 79/79 [00:41<00:00,  1.92it/s]"
          ]
        },
        {
          "output_type": "stream",
          "name": "stdout",
          "text": [
            "                   all       2517       9054      0.934      0.897      0.941      0.695\n"
          ]
        },
        {
          "output_type": "stream",
          "name": "stderr",
          "text": [
            "\n"
          ]
        },
        {
          "output_type": "stream",
          "name": "stdout",
          "text": [
            "\n",
            "      Epoch    GPU_mem   box_loss   cls_loss   dfl_loss  Instances       Size\n"
          ]
        },
        {
          "output_type": "stream",
          "name": "stderr",
          "text": [
            "      39/50      4.18G     0.6996     0.3728     0.8915         42        640: 100%|██████████| 219/219 [01:39<00:00,  2.21it/s]\n",
            "                 Class     Images  Instances      Box(P          R      mAP50  mAP50-95): 100%|██████████| 79/79 [00:39<00:00,  1.98it/s]"
          ]
        },
        {
          "output_type": "stream",
          "name": "stdout",
          "text": [
            "                   all       2517       9054      0.934      0.903      0.941      0.695\n"
          ]
        },
        {
          "output_type": "stream",
          "name": "stderr",
          "text": [
            "\n"
          ]
        },
        {
          "output_type": "stream",
          "name": "stdout",
          "text": [
            "\n",
            "      Epoch    GPU_mem   box_loss   cls_loss   dfl_loss  Instances       Size\n"
          ]
        },
        {
          "output_type": "stream",
          "name": "stderr",
          "text": [
            "      40/50      4.18G     0.6844     0.3637     0.8829         68        640: 100%|██████████| 219/219 [01:39<00:00,  2.20it/s]\n",
            "                 Class     Images  Instances      Box(P          R      mAP50  mAP50-95): 100%|██████████| 79/79 [00:40<00:00,  1.96it/s]"
          ]
        },
        {
          "output_type": "stream",
          "name": "stdout",
          "text": [
            "                   all       2517       9054      0.934      0.902      0.943      0.701\n"
          ]
        },
        {
          "output_type": "stream",
          "name": "stderr",
          "text": [
            "\n"
          ]
        },
        {
          "output_type": "stream",
          "name": "stdout",
          "text": [
            "Closing dataloader mosaic\n",
            "\u001b[34m\u001b[1malbumentations: \u001b[0mBlur(p=0.01, blur_limit=(3, 7)), MedianBlur(p=0.01, blur_limit=(3, 7)), ToGray(p=0.01), CLAHE(p=0.01, clip_limit=(1, 4.0), tile_grid_size=(8, 8))\n",
            "\n",
            "      Epoch    GPU_mem   box_loss   cls_loss   dfl_loss  Instances       Size\n"
          ]
        },
        {
          "output_type": "stream",
          "name": "stderr",
          "text": [
            "      41/50      4.18G     0.6779     0.3626     0.8847         72        640: 100%|██████████| 219/219 [01:43<00:00,  2.11it/s]\n",
            "                 Class     Images  Instances      Box(P          R      mAP50  mAP50-95): 100%|██████████| 79/79 [00:40<00:00,  1.96it/s]"
          ]
        },
        {
          "output_type": "stream",
          "name": "stdout",
          "text": [
            "                   all       2517       9054      0.929      0.912      0.944      0.697\n"
          ]
        },
        {
          "output_type": "stream",
          "name": "stderr",
          "text": [
            "\n"
          ]
        },
        {
          "output_type": "stream",
          "name": "stdout",
          "text": [
            "\n",
            "      Epoch    GPU_mem   box_loss   cls_loss   dfl_loss  Instances       Size\n"
          ]
        },
        {
          "output_type": "stream",
          "name": "stderr",
          "text": [
            "      42/50      4.33G     0.6663     0.3532     0.8794         51        640: 100%|██████████| 219/219 [01:39<00:00,  2.21it/s]\n",
            "                 Class     Images  Instances      Box(P          R      mAP50  mAP50-95): 100%|██████████| 79/79 [00:39<00:00,  1.99it/s]"
          ]
        },
        {
          "output_type": "stream",
          "name": "stdout",
          "text": [
            "                   all       2517       9054      0.939      0.905      0.944      0.698\n"
          ]
        },
        {
          "output_type": "stream",
          "name": "stderr",
          "text": [
            "\n"
          ]
        },
        {
          "output_type": "stream",
          "name": "stdout",
          "text": [
            "\n",
            "      Epoch    GPU_mem   box_loss   cls_loss   dfl_loss  Instances       Size\n"
          ]
        },
        {
          "output_type": "stream",
          "name": "stderr",
          "text": [
            "      43/50      4.19G     0.6615     0.3518     0.8733         57        640: 100%|██████████| 219/219 [01:41<00:00,  2.15it/s]\n",
            "                 Class     Images  Instances      Box(P          R      mAP50  mAP50-95): 100%|██████████| 79/79 [00:40<00:00,  1.94it/s]"
          ]
        },
        {
          "output_type": "stream",
          "name": "stdout",
          "text": [
            "                   all       2517       9054      0.938      0.906      0.946      0.702\n"
          ]
        },
        {
          "output_type": "stream",
          "name": "stderr",
          "text": [
            "\n"
          ]
        },
        {
          "output_type": "stream",
          "name": "stdout",
          "text": [
            "\n",
            "      Epoch    GPU_mem   box_loss   cls_loss   dfl_loss  Instances       Size\n"
          ]
        },
        {
          "output_type": "stream",
          "name": "stderr",
          "text": [
            "      44/50      4.24G     0.6604     0.3492     0.8788         51        640: 100%|██████████| 219/219 [01:41<00:00,  2.16it/s]\n",
            "                 Class     Images  Instances      Box(P          R      mAP50  mAP50-95): 100%|██████████| 79/79 [00:42<00:00,  1.87it/s]"
          ]
        },
        {
          "output_type": "stream",
          "name": "stdout",
          "text": [
            "                   all       2517       9054      0.938      0.905      0.945      0.706\n"
          ]
        },
        {
          "output_type": "stream",
          "name": "stderr",
          "text": [
            "\n"
          ]
        },
        {
          "output_type": "stream",
          "name": "stdout",
          "text": [
            "\n",
            "      Epoch    GPU_mem   box_loss   cls_loss   dfl_loss  Instances       Size\n"
          ]
        },
        {
          "output_type": "stream",
          "name": "stderr",
          "text": [
            "      45/50      4.21G     0.6445     0.3436     0.8719         45        640: 100%|██████████| 219/219 [01:41<00:00,  2.16it/s]\n",
            "                 Class     Images  Instances      Box(P          R      mAP50  mAP50-95): 100%|██████████| 79/79 [00:41<00:00,  1.90it/s]"
          ]
        },
        {
          "output_type": "stream",
          "name": "stdout",
          "text": [
            "                   all       2517       9054      0.941       0.91      0.946      0.707\n"
          ]
        },
        {
          "output_type": "stream",
          "name": "stderr",
          "text": [
            "\n"
          ]
        },
        {
          "output_type": "stream",
          "name": "stdout",
          "text": [
            "\n",
            "      Epoch    GPU_mem   box_loss   cls_loss   dfl_loss  Instances       Size\n"
          ]
        },
        {
          "output_type": "stream",
          "name": "stderr",
          "text": [
            "      46/50      4.33G     0.6465     0.3447      0.875         60        640: 100%|██████████| 219/219 [01:41<00:00,  2.16it/s]\n",
            "                 Class     Images  Instances      Box(P          R      mAP50  mAP50-95): 100%|██████████| 79/79 [00:39<00:00,  1.98it/s]"
          ]
        },
        {
          "output_type": "stream",
          "name": "stdout",
          "text": [
            "                   all       2517       9054      0.939       0.91      0.947       0.71\n"
          ]
        },
        {
          "output_type": "stream",
          "name": "stderr",
          "text": [
            "\n"
          ]
        },
        {
          "output_type": "stream",
          "name": "stdout",
          "text": [
            "\n",
            "      Epoch    GPU_mem   box_loss   cls_loss   dfl_loss  Instances       Size\n"
          ]
        },
        {
          "output_type": "stream",
          "name": "stderr",
          "text": [
            "      47/50      4.23G     0.6381     0.3395     0.8734         30        640: 100%|██████████| 219/219 [01:41<00:00,  2.17it/s]\n",
            "                 Class     Images  Instances      Box(P          R      mAP50  mAP50-95): 100%|██████████| 79/79 [00:40<00:00,  1.93it/s]"
          ]
        },
        {
          "output_type": "stream",
          "name": "stdout",
          "text": [
            "                   all       2517       9054       0.94      0.904      0.947      0.708\n"
          ]
        },
        {
          "output_type": "stream",
          "name": "stderr",
          "text": [
            "\n"
          ]
        },
        {
          "output_type": "stream",
          "name": "stdout",
          "text": [
            "\n",
            "      Epoch    GPU_mem   box_loss   cls_loss   dfl_loss  Instances       Size\n"
          ]
        },
        {
          "output_type": "stream",
          "name": "stderr",
          "text": [
            "      48/50      4.23G     0.6427     0.3388     0.8702         40        640: 100%|██████████| 219/219 [01:39<00:00,  2.19it/s]\n",
            "                 Class     Images  Instances      Box(P          R      mAP50  mAP50-95): 100%|██████████| 79/79 [00:40<00:00,  1.95it/s]"
          ]
        },
        {
          "output_type": "stream",
          "name": "stdout",
          "text": [
            "                   all       2517       9054      0.941      0.908      0.949       0.71\n"
          ]
        },
        {
          "output_type": "stream",
          "name": "stderr",
          "text": [
            "\n"
          ]
        },
        {
          "output_type": "stream",
          "name": "stdout",
          "text": [
            "\n",
            "      Epoch    GPU_mem   box_loss   cls_loss   dfl_loss  Instances       Size\n"
          ]
        },
        {
          "output_type": "stream",
          "name": "stderr",
          "text": [
            "      49/50      4.18G      0.632     0.3351     0.8692         44        640: 100%|██████████| 219/219 [01:40<00:00,  2.17it/s]\n",
            "                 Class     Images  Instances      Box(P          R      mAP50  mAP50-95): 100%|██████████| 79/79 [00:40<00:00,  1.97it/s]"
          ]
        },
        {
          "output_type": "stream",
          "name": "stdout",
          "text": [
            "                   all       2517       9054      0.939      0.911      0.948      0.711\n"
          ]
        },
        {
          "output_type": "stream",
          "name": "stderr",
          "text": [
            "\n"
          ]
        },
        {
          "output_type": "stream",
          "name": "stdout",
          "text": [
            "\n",
            "      Epoch    GPU_mem   box_loss   cls_loss   dfl_loss  Instances       Size\n"
          ]
        },
        {
          "output_type": "stream",
          "name": "stderr",
          "text": [
            "      50/50      4.33G     0.6243     0.3287     0.8663         59        640: 100%|██████████| 219/219 [01:41<00:00,  2.16it/s]\n",
            "                 Class     Images  Instances      Box(P          R      mAP50  mAP50-95): 100%|██████████| 79/79 [00:40<00:00,  1.94it/s]"
          ]
        },
        {
          "output_type": "stream",
          "name": "stdout",
          "text": [
            "                   all       2517       9054      0.938      0.911      0.949      0.712\n"
          ]
        },
        {
          "output_type": "stream",
          "name": "stderr",
          "text": [
            "\n"
          ]
        },
        {
          "output_type": "stream",
          "name": "stdout",
          "text": [
            "\n",
            "50 epochs completed in 1.991 hours.\n",
            "Optimizer stripped from /content/drive/MyDrive/my_yolov8/yolov8s_str2/weights/last.pt, 22.5MB\n",
            "Optimizer stripped from /content/drive/MyDrive/my_yolov8/yolov8s_str2/weights/best.pt, 22.5MB\n",
            "\n",
            "Validating /content/drive/MyDrive/my_yolov8/yolov8s_str2/weights/best.pt...\n",
            "Ultralytics YOLOv8.1.2 🚀 Python-3.10.12 torch-2.1.0+cu121 CUDA:0 (Tesla T4, 15102MiB)\n",
            "Model summary (fused): 168 layers, 11126745 parameters, 0 gradients, 28.4 GFLOPs\n"
          ]
        },
        {
          "output_type": "stream",
          "name": "stderr",
          "text": [
            "                 Class     Images  Instances      Box(P          R      mAP50  mAP50-95): 100%|██████████| 79/79 [00:46<00:00,  1.70it/s]\n"
          ]
        },
        {
          "output_type": "stream",
          "name": "stdout",
          "text": [
            "                   all       2517       9054      0.939      0.911      0.949      0.712\n",
            "               Hardhat       2517       1749       0.92      0.904      0.937      0.695\n",
            "            NO-Hardhat       2517       2877      0.935      0.871      0.928        0.6\n",
            "                Person       2517       4428      0.961      0.959      0.982      0.843\n",
            "Speed: 0.3ms preprocess, 4.9ms inference, 0.0ms loss, 3.0ms postprocess per image\n",
            "Results saved to \u001b[1m/content/drive/MyDrive/my_yolov8/yolov8s_str2\u001b[0m\n",
            "Ultralytics YOLOv8.1.2 🚀 Python-3.10.12 torch-2.1.0+cu121 CUDA:0 (Tesla T4, 15102MiB)\n",
            "\u001b[34m\u001b[1mengine/trainer: \u001b[0mtask=detect, mode=train, model=yolov8s.pt, data=/content/drive/MyDrive/my_yolov8/Conbine_dataset_3_classes-1_80-20-10-str/data_drive.yaml, epochs=50, time=None, patience=50, batch=16, imgsz=640, save=True, save_period=-1, cache=False, device=None, workers=8, project=None, name=yolov8s_str3, exist_ok=False, pretrained=True, optimizer=auto, verbose=True, seed=0, deterministic=True, single_cls=False, rect=False, cos_lr=False, close_mosaic=10, resume=False, amp=True, fraction=1.0, profile=False, freeze=None, multi_scale=False, overlap_mask=True, mask_ratio=4, dropout=0.0, val=True, split=val, save_json=False, save_hybrid=False, conf=None, iou=0.7, max_det=300, half=False, dnn=False, plots=True, source=None, vid_stride=1, stream_buffer=False, visualize=False, augment=False, agnostic_nms=False, classes=None, retina_masks=False, embed=None, show=False, save_frames=False, save_txt=False, save_conf=False, save_crop=False, show_labels=True, show_conf=True, show_boxes=True, line_width=None, format=torchscript, keras=False, optimize=False, int8=False, dynamic=False, simplify=False, opset=None, workspace=4, nms=False, lr0=0.01, lrf=0.01, momentum=0.937, weight_decay=0.0005, warmup_epochs=3.0, warmup_momentum=0.8, warmup_bias_lr=0.0, box=7.5, cls=0.5, dfl=1.5, pose=12.0, kobj=1.0, label_smoothing=0.0, nbs=64, hsv_h=0.015, hsv_s=0.7, hsv_v=0.4, degrees=0.0, translate=0.1, scale=0.5, shear=0.0, perspective=0.0, flipud=0.0, fliplr=0.5, mosaic=0.0, mixup=0.0, copy_paste=0.0, auto_augment=randaugment, erasing=0.4, crop_fraction=1.0, cfg=None, tracker=botsort.yaml, save_dir=/content/drive/MyDrive/my_yolov8/yolov8s_str3\n",
            "\n",
            "                   from  n    params  module                                       arguments                     \n",
            "  0                  -1  1       928  ultralytics.nn.modules.conv.Conv             [3, 32, 3, 2]                 \n",
            "  1                  -1  1     18560  ultralytics.nn.modules.conv.Conv             [32, 64, 3, 2]                \n",
            "  2                  -1  1     29056  ultralytics.nn.modules.block.C2f             [64, 64, 1, True]             \n",
            "  3                  -1  1     73984  ultralytics.nn.modules.conv.Conv             [64, 128, 3, 2]               \n",
            "  4                  -1  2    197632  ultralytics.nn.modules.block.C2f             [128, 128, 2, True]           \n",
            "  5                  -1  1    295424  ultralytics.nn.modules.conv.Conv             [128, 256, 3, 2]              \n",
            "  6                  -1  2    788480  ultralytics.nn.modules.block.C2f             [256, 256, 2, True]           \n",
            "  7                  -1  1   1180672  ultralytics.nn.modules.conv.Conv             [256, 512, 3, 2]              \n",
            "  8                  -1  1   1838080  ultralytics.nn.modules.block.C2f             [512, 512, 1, True]           \n",
            "  9                  -1  1    656896  ultralytics.nn.modules.block.SPPF            [512, 512, 5]                 \n",
            " 10                  -1  1         0  torch.nn.modules.upsampling.Upsample         [None, 2, 'nearest']          \n",
            " 11             [-1, 6]  1         0  ultralytics.nn.modules.conv.Concat           [1]                           \n",
            " 12                  -1  1    591360  ultralytics.nn.modules.block.C2f             [768, 256, 1]                 \n",
            " 13                  -1  1         0  torch.nn.modules.upsampling.Upsample         [None, 2, 'nearest']          \n",
            " 14             [-1, 4]  1         0  ultralytics.nn.modules.conv.Concat           [1]                           \n",
            " 15                  -1  1    148224  ultralytics.nn.modules.block.C2f             [384, 128, 1]                 \n",
            " 16                  -1  1    147712  ultralytics.nn.modules.conv.Conv             [128, 128, 3, 2]              \n",
            " 17            [-1, 12]  1         0  ultralytics.nn.modules.conv.Concat           [1]                           \n",
            " 18                  -1  1    493056  ultralytics.nn.modules.block.C2f             [384, 256, 1]                 \n",
            " 19                  -1  1    590336  ultralytics.nn.modules.conv.Conv             [256, 256, 3, 2]              \n",
            " 20             [-1, 9]  1         0  ultralytics.nn.modules.conv.Concat           [1]                           \n",
            " 21                  -1  1   1969152  ultralytics.nn.modules.block.C2f             [768, 512, 1]                 \n",
            " 22        [15, 18, 21]  1   2117209  ultralytics.nn.modules.head.Detect           [3, [128, 256, 512]]          \n",
            "Model summary: 225 layers, 11136761 parameters, 11136745 gradients, 28.7 GFLOPs\n",
            "\n",
            "Transferred 355/355 items from pretrained weights\n",
            "\u001b[34m\u001b[1mTensorBoard: \u001b[0mStart with 'tensorboard --logdir /content/drive/MyDrive/my_yolov8/yolov8s_str3', view at http://localhost:6006/\n",
            "Freezing layer 'model.22.dfl.conv.weight'\n",
            "\u001b[34m\u001b[1mAMP: \u001b[0mrunning Automatic Mixed Precision (AMP) checks with YOLOv8n...\n",
            "\u001b[34m\u001b[1mAMP: \u001b[0mchecks passed ✅\n"
          ]
        },
        {
          "output_type": "stream",
          "name": "stderr",
          "text": [
            "\u001b[34m\u001b[1mtrain: \u001b[0mScanning /content/drive/MyDrive/my_yolov8/Conbine_dataset_3_classes-1_80-20-10-str/train/labels.cache... 3504 images, 0 backgrounds, 0 corrupt: 100%|██████████| 3504/3504 [00:00<?, ?it/s]"
          ]
        },
        {
          "output_type": "stream",
          "name": "stdout",
          "text": [
            "\u001b[34m\u001b[1malbumentations: \u001b[0mBlur(p=0.01, blur_limit=(3, 7)), MedianBlur(p=0.01, blur_limit=(3, 7)), ToGray(p=0.01), CLAHE(p=0.01, clip_limit=(1, 4.0), tile_grid_size=(8, 8))\n"
          ]
        },
        {
          "output_type": "stream",
          "name": "stderr",
          "text": [
            "\n",
            "\u001b[34m\u001b[1mval: \u001b[0mScanning /content/drive/MyDrive/my_yolov8/Conbine_dataset_3_classes-1_80-20-10-str/valid/labels.cache... 2517 images, 0 backgrounds, 0 corrupt: 100%|██████████| 2517/2517 [00:00<?, ?it/s]\n"
          ]
        },
        {
          "output_type": "stream",
          "name": "stdout",
          "text": [
            "Plotting labels to /content/drive/MyDrive/my_yolov8/yolov8s_str3/labels.jpg... \n",
            "\u001b[34m\u001b[1moptimizer:\u001b[0m 'optimizer=auto' found, ignoring 'lr0=0.01' and 'momentum=0.937' and determining best 'optimizer', 'lr0' and 'momentum' automatically... \n",
            "\u001b[34m\u001b[1moptimizer:\u001b[0m AdamW(lr=0.001429, momentum=0.9) with parameter groups 57 weight(decay=0.0), 64 weight(decay=0.0005), 63 bias(decay=0.0)\n",
            "50 epochs...\n",
            "\n",
            "      Epoch    GPU_mem   box_loss   cls_loss   dfl_loss  Instances       Size\n"
          ]
        },
        {
          "output_type": "stream",
          "name": "stderr",
          "text": [
            "       1/50      4.47G     0.6366     0.3384     0.8681         44        640: 100%|██████████| 219/219 [01:42<00:00,  2.14it/s]\n",
            "                 Class     Images  Instances      Box(P          R      mAP50  mAP50-95): 100%|██████████| 79/79 [00:39<00:00,  2.00it/s]"
          ]
        },
        {
          "output_type": "stream",
          "name": "stdout",
          "text": [
            "                   all       2517       9054      0.936      0.901       0.94      0.692\n"
          ]
        },
        {
          "output_type": "stream",
          "name": "stderr",
          "text": [
            "\n"
          ]
        },
        {
          "output_type": "stream",
          "name": "stdout",
          "text": [
            "\n",
            "      Epoch    GPU_mem   box_loss   cls_loss   dfl_loss  Instances       Size\n"
          ]
        },
        {
          "output_type": "stream",
          "name": "stderr",
          "text": [
            "       2/50      4.41G     0.7094     0.3802     0.8882         53        640: 100%|██████████| 219/219 [01:50<00:00,  1.98it/s]\n",
            "                 Class     Images  Instances      Box(P          R      mAP50  mAP50-95): 100%|██████████| 79/79 [00:41<00:00,  1.91it/s]"
          ]
        },
        {
          "output_type": "stream",
          "name": "stdout",
          "text": [
            "                   all       2517       9054      0.927       0.89      0.934       0.68\n"
          ]
        },
        {
          "output_type": "stream",
          "name": "stderr",
          "text": [
            "\n"
          ]
        },
        {
          "output_type": "stream",
          "name": "stdout",
          "text": [
            "\n",
            "      Epoch    GPU_mem   box_loss   cls_loss   dfl_loss  Instances       Size\n"
          ]
        },
        {
          "output_type": "stream",
          "name": "stderr",
          "text": [
            "       3/50      4.17G     0.7473     0.4125     0.9006         45        640: 100%|██████████| 219/219 [01:39<00:00,  2.19it/s]\n",
            "                 Class     Images  Instances      Box(P          R      mAP50  mAP50-95): 100%|██████████| 79/79 [00:39<00:00,  2.00it/s]"
          ]
        },
        {
          "output_type": "stream",
          "name": "stdout",
          "text": [
            "                   all       2517       9054      0.929      0.877      0.928      0.661\n"
          ]
        },
        {
          "output_type": "stream",
          "name": "stderr",
          "text": [
            "\n"
          ]
        },
        {
          "output_type": "stream",
          "name": "stdout",
          "text": [
            "\n",
            "      Epoch    GPU_mem   box_loss   cls_loss   dfl_loss  Instances       Size\n"
          ]
        },
        {
          "output_type": "stream",
          "name": "stderr",
          "text": [
            "       4/50      4.21G     0.7788     0.4374     0.9136         50        640: 100%|██████████| 219/219 [01:39<00:00,  2.21it/s]\n",
            "                 Class     Images  Instances      Box(P          R      mAP50  mAP50-95): 100%|██████████| 79/79 [00:40<00:00,  1.97it/s]"
          ]
        },
        {
          "output_type": "stream",
          "name": "stdout",
          "text": [
            "                   all       2517       9054      0.925      0.882      0.929      0.659\n"
          ]
        },
        {
          "output_type": "stream",
          "name": "stderr",
          "text": [
            "\n"
          ]
        },
        {
          "output_type": "stream",
          "name": "stdout",
          "text": [
            "\n",
            "      Epoch    GPU_mem   box_loss   cls_loss   dfl_loss  Instances       Size\n"
          ]
        },
        {
          "output_type": "stream",
          "name": "stderr",
          "text": [
            "       5/50      4.19G     0.7854     0.4401      0.916         49        640: 100%|██████████| 219/219 [01:38<00:00,  2.21it/s]\n",
            "                 Class     Images  Instances      Box(P          R      mAP50  mAP50-95): 100%|██████████| 79/79 [00:39<00:00,  2.00it/s]"
          ]
        },
        {
          "output_type": "stream",
          "name": "stdout",
          "text": [
            "                   all       2517       9054      0.923      0.884      0.928       0.66\n"
          ]
        },
        {
          "output_type": "stream",
          "name": "stderr",
          "text": [
            "\n"
          ]
        },
        {
          "output_type": "stream",
          "name": "stdout",
          "text": [
            "\n",
            "      Epoch    GPU_mem   box_loss   cls_loss   dfl_loss  Instances       Size\n"
          ]
        },
        {
          "output_type": "stream",
          "name": "stderr",
          "text": [
            "       6/50      4.35G      0.788     0.4369     0.9147         62        640: 100%|██████████| 219/219 [01:38<00:00,  2.23it/s]\n",
            "                 Class     Images  Instances      Box(P          R      mAP50  mAP50-95): 100%|██████████| 79/79 [00:40<00:00,  1.97it/s]"
          ]
        },
        {
          "output_type": "stream",
          "name": "stdout",
          "text": [
            "                   all       2517       9054      0.915      0.887      0.926       0.66\n"
          ]
        },
        {
          "output_type": "stream",
          "name": "stderr",
          "text": [
            "\n"
          ]
        },
        {
          "output_type": "stream",
          "name": "stdout",
          "text": [
            "\n",
            "      Epoch    GPU_mem   box_loss   cls_loss   dfl_loss  Instances       Size\n"
          ]
        },
        {
          "output_type": "stream",
          "name": "stderr",
          "text": [
            "       7/50      4.18G     0.7892     0.4411      0.918         60        640: 100%|██████████| 219/219 [01:38<00:00,  2.23it/s]\n",
            "                 Class     Images  Instances      Box(P          R      mAP50  mAP50-95): 100%|██████████| 79/79 [00:40<00:00,  1.97it/s]"
          ]
        },
        {
          "output_type": "stream",
          "name": "stdout",
          "text": [
            "                   all       2517       9054      0.931      0.882      0.931      0.661\n"
          ]
        },
        {
          "output_type": "stream",
          "name": "stderr",
          "text": [
            "\n"
          ]
        },
        {
          "output_type": "stream",
          "name": "stdout",
          "text": [
            "\n",
            "      Epoch    GPU_mem   box_loss   cls_loss   dfl_loss  Instances       Size\n"
          ]
        },
        {
          "output_type": "stream",
          "name": "stderr",
          "text": [
            "       8/50      4.18G     0.7768     0.4306     0.9093         50        640: 100%|██████████| 219/219 [01:38<00:00,  2.22it/s]\n",
            "                 Class     Images  Instances      Box(P          R      mAP50  mAP50-95): 100%|██████████| 79/79 [00:39<00:00,  1.98it/s]"
          ]
        },
        {
          "output_type": "stream",
          "name": "stdout",
          "text": [
            "                   all       2517       9054      0.925      0.885      0.929      0.671\n"
          ]
        },
        {
          "output_type": "stream",
          "name": "stderr",
          "text": [
            "\n"
          ]
        },
        {
          "output_type": "stream",
          "name": "stdout",
          "text": [
            "\n",
            "      Epoch    GPU_mem   box_loss   cls_loss   dfl_loss  Instances       Size\n"
          ]
        },
        {
          "output_type": "stream",
          "name": "stderr",
          "text": [
            "       9/50      4.23G      0.779     0.4315     0.9116         39        640: 100%|██████████| 219/219 [01:41<00:00,  2.16it/s]\n",
            "                 Class     Images  Instances      Box(P          R      mAP50  mAP50-95): 100%|██████████| 79/79 [00:40<00:00,  1.94it/s]"
          ]
        },
        {
          "output_type": "stream",
          "name": "stdout",
          "text": [
            "                   all       2517       9054      0.925      0.886      0.928      0.664\n"
          ]
        },
        {
          "output_type": "stream",
          "name": "stderr",
          "text": [
            "\n"
          ]
        },
        {
          "output_type": "stream",
          "name": "stdout",
          "text": [
            "\n",
            "      Epoch    GPU_mem   box_loss   cls_loss   dfl_loss  Instances       Size\n"
          ]
        },
        {
          "output_type": "stream",
          "name": "stderr",
          "text": [
            "      10/50      4.35G     0.7626     0.4179     0.9024         60        640: 100%|██████████| 219/219 [01:40<00:00,  2.19it/s]\n",
            "                 Class     Images  Instances      Box(P          R      mAP50  mAP50-95): 100%|██████████| 79/79 [00:40<00:00,  1.97it/s]"
          ]
        },
        {
          "output_type": "stream",
          "name": "stdout",
          "text": [
            "                   all       2517       9054      0.926      0.893      0.935      0.666\n"
          ]
        },
        {
          "output_type": "stream",
          "name": "stderr",
          "text": [
            "\n"
          ]
        },
        {
          "output_type": "stream",
          "name": "stdout",
          "text": [
            "\n",
            "      Epoch    GPU_mem   box_loss   cls_loss   dfl_loss  Instances       Size\n"
          ]
        },
        {
          "output_type": "stream",
          "name": "stderr",
          "text": [
            "      11/50      4.34G     0.7673     0.4178     0.9059         52        640: 100%|██████████| 219/219 [01:40<00:00,  2.18it/s]\n",
            "                 Class     Images  Instances      Box(P          R      mAP50  mAP50-95): 100%|██████████| 79/79 [00:41<00:00,  1.91it/s]"
          ]
        },
        {
          "output_type": "stream",
          "name": "stdout",
          "text": [
            "                   all       2517       9054      0.925      0.887      0.936      0.666\n"
          ]
        },
        {
          "output_type": "stream",
          "name": "stderr",
          "text": [
            "\n"
          ]
        },
        {
          "output_type": "stream",
          "name": "stdout",
          "text": [
            "\n",
            "      Epoch    GPU_mem   box_loss   cls_loss   dfl_loss  Instances       Size\n"
          ]
        },
        {
          "output_type": "stream",
          "name": "stderr",
          "text": [
            "      12/50       4.2G     0.7533     0.4124     0.9025         44        640: 100%|██████████| 219/219 [01:42<00:00,  2.15it/s]\n",
            "                 Class     Images  Instances      Box(P          R      mAP50  mAP50-95): 100%|██████████| 79/79 [00:42<00:00,  1.87it/s]"
          ]
        },
        {
          "output_type": "stream",
          "name": "stdout",
          "text": [
            "                   all       2517       9054       0.93      0.884      0.928      0.667\n"
          ]
        },
        {
          "output_type": "stream",
          "name": "stderr",
          "text": [
            "\n"
          ]
        },
        {
          "output_type": "stream",
          "name": "stdout",
          "text": [
            "\n",
            "      Epoch    GPU_mem   box_loss   cls_loss   dfl_loss  Instances       Size\n"
          ]
        },
        {
          "output_type": "stream",
          "name": "stderr",
          "text": [
            "      13/50      4.18G     0.7593     0.4118     0.9068         52        640: 100%|██████████| 219/219 [01:40<00:00,  2.18it/s]\n",
            "                 Class     Images  Instances      Box(P          R      mAP50  mAP50-95): 100%|██████████| 79/79 [00:40<00:00,  1.96it/s]"
          ]
        },
        {
          "output_type": "stream",
          "name": "stdout",
          "text": [
            "                   all       2517       9054      0.929        0.9      0.938       0.68\n"
          ]
        },
        {
          "output_type": "stream",
          "name": "stderr",
          "text": [
            "\n"
          ]
        },
        {
          "output_type": "stream",
          "name": "stdout",
          "text": [
            "\n",
            "      Epoch    GPU_mem   box_loss   cls_loss   dfl_loss  Instances       Size\n"
          ]
        },
        {
          "output_type": "stream",
          "name": "stderr",
          "text": [
            "      14/50      4.19G     0.7465     0.4058     0.9012         43        640: 100%|██████████| 219/219 [01:41<00:00,  2.17it/s]\n",
            "                 Class     Images  Instances      Box(P          R      mAP50  mAP50-95): 100%|██████████| 79/79 [00:42<00:00,  1.85it/s]"
          ]
        },
        {
          "output_type": "stream",
          "name": "stdout",
          "text": [
            "                   all       2517       9054      0.927      0.904      0.939      0.673\n"
          ]
        },
        {
          "output_type": "stream",
          "name": "stderr",
          "text": [
            "\n"
          ]
        },
        {
          "output_type": "stream",
          "name": "stdout",
          "text": [
            "\n",
            "      Epoch    GPU_mem   box_loss   cls_loss   dfl_loss  Instances       Size\n"
          ]
        },
        {
          "output_type": "stream",
          "name": "stderr",
          "text": [
            "      15/50      4.16G     0.7459     0.4041     0.9052         38        640: 100%|██████████| 219/219 [01:40<00:00,  2.18it/s]\n",
            "                 Class     Images  Instances      Box(P          R      mAP50  mAP50-95): 100%|██████████| 79/79 [00:40<00:00,  1.93it/s]"
          ]
        },
        {
          "output_type": "stream",
          "name": "stdout",
          "text": [
            "                   all       2517       9054      0.933      0.888      0.935      0.679\n"
          ]
        },
        {
          "output_type": "stream",
          "name": "stderr",
          "text": [
            "\n"
          ]
        },
        {
          "output_type": "stream",
          "name": "stdout",
          "text": [
            "\n",
            "      Epoch    GPU_mem   box_loss   cls_loss   dfl_loss  Instances       Size\n"
          ]
        },
        {
          "output_type": "stream",
          "name": "stderr",
          "text": [
            "      16/50      4.21G     0.7389     0.4021     0.8974         56        640: 100%|██████████| 219/219 [01:41<00:00,  2.16it/s]\n",
            "                 Class     Images  Instances      Box(P          R      mAP50  mAP50-95): 100%|██████████| 79/79 [00:39<00:00,  1.98it/s]"
          ]
        },
        {
          "output_type": "stream",
          "name": "stdout",
          "text": [
            "                   all       2517       9054      0.927      0.897      0.936      0.681\n"
          ]
        },
        {
          "output_type": "stream",
          "name": "stderr",
          "text": [
            "\n"
          ]
        },
        {
          "output_type": "stream",
          "name": "stdout",
          "text": [
            "\n",
            "      Epoch    GPU_mem   box_loss   cls_loss   dfl_loss  Instances       Size\n"
          ]
        },
        {
          "output_type": "stream",
          "name": "stderr",
          "text": [
            "      17/50      4.21G     0.7325     0.4003      0.896         51        640: 100%|██████████| 219/219 [01:40<00:00,  2.17it/s]\n",
            "                 Class     Images  Instances      Box(P          R      mAP50  mAP50-95): 100%|██████████| 79/79 [00:42<00:00,  1.87it/s]"
          ]
        },
        {
          "output_type": "stream",
          "name": "stdout",
          "text": [
            "                   all       2517       9054      0.936      0.892      0.935      0.678\n"
          ]
        },
        {
          "output_type": "stream",
          "name": "stderr",
          "text": [
            "\n"
          ]
        },
        {
          "output_type": "stream",
          "name": "stdout",
          "text": [
            "\n",
            "      Epoch    GPU_mem   box_loss   cls_loss   dfl_loss  Instances       Size\n"
          ]
        },
        {
          "output_type": "stream",
          "name": "stderr",
          "text": [
            "      18/50      4.23G     0.7338     0.3977     0.8979         29        640: 100%|██████████| 219/219 [01:41<00:00,  2.16it/s]\n",
            "                 Class     Images  Instances      Box(P          R      mAP50  mAP50-95): 100%|██████████| 79/79 [00:39<00:00,  1.99it/s]"
          ]
        },
        {
          "output_type": "stream",
          "name": "stdout",
          "text": [
            "                   all       2517       9054      0.927      0.902      0.937      0.687\n"
          ]
        },
        {
          "output_type": "stream",
          "name": "stderr",
          "text": [
            "\n"
          ]
        },
        {
          "output_type": "stream",
          "name": "stdout",
          "text": [
            "\n",
            "      Epoch    GPU_mem   box_loss   cls_loss   dfl_loss  Instances       Size\n"
          ]
        },
        {
          "output_type": "stream",
          "name": "stderr",
          "text": [
            "      19/50      4.18G     0.7206     0.3903     0.8915         64        640: 100%|██████████| 219/219 [01:41<00:00,  2.15it/s]\n",
            "                 Class     Images  Instances      Box(P          R      mAP50  mAP50-95): 100%|██████████| 79/79 [00:41<00:00,  1.90it/s]"
          ]
        },
        {
          "output_type": "stream",
          "name": "stdout",
          "text": [
            "                   all       2517       9054      0.929        0.9       0.94      0.683\n"
          ]
        },
        {
          "output_type": "stream",
          "name": "stderr",
          "text": [
            "\n"
          ]
        },
        {
          "output_type": "stream",
          "name": "stdout",
          "text": [
            "\n",
            "      Epoch    GPU_mem   box_loss   cls_loss   dfl_loss  Instances       Size\n"
          ]
        },
        {
          "output_type": "stream",
          "name": "stderr",
          "text": [
            "      20/50      4.18G     0.7206       0.39     0.8921         35        640: 100%|██████████| 219/219 [01:40<00:00,  2.17it/s]\n",
            "                 Class     Images  Instances      Box(P          R      mAP50  mAP50-95): 100%|██████████| 79/79 [00:40<00:00,  1.94it/s]"
          ]
        },
        {
          "output_type": "stream",
          "name": "stdout",
          "text": [
            "                   all       2517       9054      0.936      0.883      0.938      0.679\n"
          ]
        },
        {
          "output_type": "stream",
          "name": "stderr",
          "text": [
            "\n"
          ]
        },
        {
          "output_type": "stream",
          "name": "stdout",
          "text": [
            "\n",
            "      Epoch    GPU_mem   box_loss   cls_loss   dfl_loss  Instances       Size\n"
          ]
        },
        {
          "output_type": "stream",
          "name": "stderr",
          "text": [
            "      21/50      4.18G     0.7069     0.3832     0.8885         62        640: 100%|██████████| 219/219 [01:41<00:00,  2.16it/s]\n",
            "                 Class     Images  Instances      Box(P          R      mAP50  mAP50-95): 100%|██████████| 79/79 [00:40<00:00,  1.96it/s]"
          ]
        },
        {
          "output_type": "stream",
          "name": "stdout",
          "text": [
            "                   all       2517       9054      0.929      0.905      0.941      0.685\n"
          ]
        },
        {
          "output_type": "stream",
          "name": "stderr",
          "text": [
            "\n"
          ]
        },
        {
          "output_type": "stream",
          "name": "stdout",
          "text": [
            "\n",
            "      Epoch    GPU_mem   box_loss   cls_loss   dfl_loss  Instances       Size\n"
          ]
        },
        {
          "output_type": "stream",
          "name": "stderr",
          "text": [
            "      22/50      4.22G     0.7106      0.383     0.8897         56        640: 100%|██████████| 219/219 [01:40<00:00,  2.18it/s]\n",
            "                 Class     Images  Instances      Box(P          R      mAP50  mAP50-95): 100%|██████████| 79/79 [00:40<00:00,  1.94it/s]"
          ]
        },
        {
          "output_type": "stream",
          "name": "stdout",
          "text": [
            "                   all       2517       9054      0.934      0.904      0.941      0.681\n"
          ]
        },
        {
          "output_type": "stream",
          "name": "stderr",
          "text": [
            "\n"
          ]
        },
        {
          "output_type": "stream",
          "name": "stdout",
          "text": [
            "\n",
            "      Epoch    GPU_mem   box_loss   cls_loss   dfl_loss  Instances       Size\n"
          ]
        },
        {
          "output_type": "stream",
          "name": "stderr",
          "text": [
            "      23/50       4.2G     0.6961     0.3786     0.8828         52        640: 100%|██████████| 219/219 [01:40<00:00,  2.18it/s]\n",
            "                 Class     Images  Instances      Box(P          R      mAP50  mAP50-95): 100%|██████████| 79/79 [00:40<00:00,  1.95it/s]"
          ]
        },
        {
          "output_type": "stream",
          "name": "stdout",
          "text": [
            "                   all       2517       9054      0.932      0.908      0.945      0.694\n"
          ]
        },
        {
          "output_type": "stream",
          "name": "stderr",
          "text": [
            "\n"
          ]
        },
        {
          "output_type": "stream",
          "name": "stdout",
          "text": [
            "\n",
            "      Epoch    GPU_mem   box_loss   cls_loss   dfl_loss  Instances       Size\n"
          ]
        },
        {
          "output_type": "stream",
          "name": "stderr",
          "text": [
            "      24/50      4.23G     0.6989     0.3778     0.8833         38        640: 100%|██████████| 219/219 [01:41<00:00,  2.16it/s]\n",
            "                 Class     Images  Instances      Box(P          R      mAP50  mAP50-95): 100%|██████████| 79/79 [00:41<00:00,  1.89it/s]"
          ]
        },
        {
          "output_type": "stream",
          "name": "stdout",
          "text": [
            "                   all       2517       9054      0.932      0.902      0.942      0.693\n"
          ]
        },
        {
          "output_type": "stream",
          "name": "stderr",
          "text": [
            "\n"
          ]
        },
        {
          "output_type": "stream",
          "name": "stdout",
          "text": [
            "\n",
            "      Epoch    GPU_mem   box_loss   cls_loss   dfl_loss  Instances       Size\n"
          ]
        },
        {
          "output_type": "stream",
          "name": "stderr",
          "text": [
            "      25/50      4.18G     0.6863     0.3721     0.8835         50        640: 100%|██████████| 219/219 [01:41<00:00,  2.16it/s]\n",
            "                 Class     Images  Instances      Box(P          R      mAP50  mAP50-95): 100%|██████████| 79/79 [00:39<00:00,  1.98it/s]"
          ]
        },
        {
          "output_type": "stream",
          "name": "stdout",
          "text": [
            "                   all       2517       9054       0.93      0.907      0.942      0.693\n"
          ]
        },
        {
          "output_type": "stream",
          "name": "stderr",
          "text": [
            "\n"
          ]
        },
        {
          "output_type": "stream",
          "name": "stdout",
          "text": [
            "\n",
            "      Epoch    GPU_mem   box_loss   cls_loss   dfl_loss  Instances       Size\n"
          ]
        },
        {
          "output_type": "stream",
          "name": "stderr",
          "text": [
            "      26/50      4.19G     0.6803     0.3661     0.8806         62        640: 100%|██████████| 219/219 [01:41<00:00,  2.16it/s]\n",
            "                 Class     Images  Instances      Box(P          R      mAP50  mAP50-95): 100%|██████████| 79/79 [00:42<00:00,  1.87it/s]"
          ]
        },
        {
          "output_type": "stream",
          "name": "stdout",
          "text": [
            "                   all       2517       9054      0.928      0.904      0.941      0.696\n"
          ]
        },
        {
          "output_type": "stream",
          "name": "stderr",
          "text": [
            "\n"
          ]
        },
        {
          "output_type": "stream",
          "name": "stdout",
          "text": [
            "\n",
            "      Epoch    GPU_mem   box_loss   cls_loss   dfl_loss  Instances       Size\n"
          ]
        },
        {
          "output_type": "stream",
          "name": "stderr",
          "text": [
            "      27/50      4.21G     0.6798     0.3643     0.8775         65        640: 100%|██████████| 219/219 [01:41<00:00,  2.16it/s]\n",
            "                 Class     Images  Instances      Box(P          R      mAP50  mAP50-95): 100%|██████████| 79/79 [00:41<00:00,  1.90it/s]"
          ]
        },
        {
          "output_type": "stream",
          "name": "stdout",
          "text": [
            "                   all       2517       9054      0.935      0.904      0.944      0.695\n"
          ]
        },
        {
          "output_type": "stream",
          "name": "stderr",
          "text": [
            "\n"
          ]
        },
        {
          "output_type": "stream",
          "name": "stdout",
          "text": [
            "\n",
            "      Epoch    GPU_mem   box_loss   cls_loss   dfl_loss  Instances       Size\n"
          ]
        },
        {
          "output_type": "stream",
          "name": "stderr",
          "text": [
            "      28/50      4.18G     0.6682     0.3598     0.8777         52        640: 100%|██████████| 219/219 [01:40<00:00,  2.19it/s]\n",
            "                 Class     Images  Instances      Box(P          R      mAP50  mAP50-95): 100%|██████████| 79/79 [00:39<00:00,  1.99it/s]"
          ]
        },
        {
          "output_type": "stream",
          "name": "stdout",
          "text": [
            "                   all       2517       9054      0.929      0.907      0.944      0.696\n"
          ]
        },
        {
          "output_type": "stream",
          "name": "stderr",
          "text": [
            "\n"
          ]
        },
        {
          "output_type": "stream",
          "name": "stdout",
          "text": [
            "\n",
            "      Epoch    GPU_mem   box_loss   cls_loss   dfl_loss  Instances       Size\n"
          ]
        },
        {
          "output_type": "stream",
          "name": "stderr",
          "text": [
            "      29/50      4.18G     0.6661      0.357     0.8771         67        640: 100%|██████████| 219/219 [01:41<00:00,  2.16it/s]\n",
            "                 Class     Images  Instances      Box(P          R      mAP50  mAP50-95): 100%|██████████| 79/79 [00:41<00:00,  1.89it/s]"
          ]
        },
        {
          "output_type": "stream",
          "name": "stdout",
          "text": [
            "                   all       2517       9054      0.925      0.911      0.943      0.698\n"
          ]
        },
        {
          "output_type": "stream",
          "name": "stderr",
          "text": [
            "\n"
          ]
        },
        {
          "output_type": "stream",
          "name": "stdout",
          "text": [
            "\n",
            "      Epoch    GPU_mem   box_loss   cls_loss   dfl_loss  Instances       Size\n"
          ]
        },
        {
          "output_type": "stream",
          "name": "stderr",
          "text": [
            "      30/50      4.17G     0.6716     0.3609     0.8785         85        640: 100%|██████████| 219/219 [01:41<00:00,  2.16it/s]\n",
            "                 Class     Images  Instances      Box(P          R      mAP50  mAP50-95): 100%|██████████| 79/79 [00:40<00:00,  1.96it/s]"
          ]
        },
        {
          "output_type": "stream",
          "name": "stdout",
          "text": [
            "                   all       2517       9054      0.933      0.906      0.945      0.698\n"
          ]
        },
        {
          "output_type": "stream",
          "name": "stderr",
          "text": [
            "\n"
          ]
        },
        {
          "output_type": "stream",
          "name": "stdout",
          "text": [
            "\n",
            "      Epoch    GPU_mem   box_loss   cls_loss   dfl_loss  Instances       Size\n"
          ]
        },
        {
          "output_type": "stream",
          "name": "stderr",
          "text": [
            "      31/50      4.18G     0.6628     0.3544     0.8735         60        640: 100%|██████████| 219/219 [01:41<00:00,  2.16it/s]\n",
            "                 Class     Images  Instances      Box(P          R      mAP50  mAP50-95): 100%|██████████| 79/79 [00:40<00:00,  1.96it/s]"
          ]
        },
        {
          "output_type": "stream",
          "name": "stdout",
          "text": [
            "                   all       2517       9054      0.931      0.915      0.946      0.702\n"
          ]
        },
        {
          "output_type": "stream",
          "name": "stderr",
          "text": [
            "\n"
          ]
        },
        {
          "output_type": "stream",
          "name": "stdout",
          "text": [
            "\n",
            "      Epoch    GPU_mem   box_loss   cls_loss   dfl_loss  Instances       Size\n"
          ]
        },
        {
          "output_type": "stream",
          "name": "stderr",
          "text": [
            "      32/50      4.18G     0.6499       0.35     0.8727         54        640: 100%|██████████| 219/219 [01:41<00:00,  2.16it/s]\n",
            "                 Class     Images  Instances      Box(P          R      mAP50  mAP50-95): 100%|██████████| 79/79 [00:41<00:00,  1.89it/s]"
          ]
        },
        {
          "output_type": "stream",
          "name": "stdout",
          "text": [
            "                   all       2517       9054      0.932      0.902      0.942      0.694\n"
          ]
        },
        {
          "output_type": "stream",
          "name": "stderr",
          "text": [
            "\n"
          ]
        },
        {
          "output_type": "stream",
          "name": "stdout",
          "text": [
            "\n",
            "      Epoch    GPU_mem   box_loss   cls_loss   dfl_loss  Instances       Size\n"
          ]
        },
        {
          "output_type": "stream",
          "name": "stderr",
          "text": [
            "      33/50      4.18G     0.6486      0.348     0.8694         51        640: 100%|██████████| 219/219 [01:41<00:00,  2.16it/s]\n",
            "                 Class     Images  Instances      Box(P          R      mAP50  mAP50-95): 100%|██████████| 79/79 [00:40<00:00,  1.97it/s]"
          ]
        },
        {
          "output_type": "stream",
          "name": "stdout",
          "text": [
            "                   all       2517       9054      0.941      0.905      0.947      0.701\n"
          ]
        },
        {
          "output_type": "stream",
          "name": "stderr",
          "text": [
            "\n"
          ]
        },
        {
          "output_type": "stream",
          "name": "stdout",
          "text": [
            "\n",
            "      Epoch    GPU_mem   box_loss   cls_loss   dfl_loss  Instances       Size\n"
          ]
        },
        {
          "output_type": "stream",
          "name": "stderr",
          "text": [
            "      34/50       4.2G     0.6445     0.3433     0.8706         54        640: 100%|██████████| 219/219 [01:40<00:00,  2.18it/s]\n",
            "                 Class     Images  Instances      Box(P          R      mAP50  mAP50-95): 100%|██████████| 79/79 [00:41<00:00,  1.90it/s]"
          ]
        },
        {
          "output_type": "stream",
          "name": "stdout",
          "text": [
            "                   all       2517       9054      0.936      0.909      0.946      0.704\n"
          ]
        },
        {
          "output_type": "stream",
          "name": "stderr",
          "text": [
            "\n"
          ]
        },
        {
          "output_type": "stream",
          "name": "stdout",
          "text": [
            "\n",
            "      Epoch    GPU_mem   box_loss   cls_loss   dfl_loss  Instances       Size\n"
          ]
        },
        {
          "output_type": "stream",
          "name": "stderr",
          "text": [
            "      35/50      4.19G     0.6277     0.3368     0.8641         71        640: 100%|██████████| 219/219 [01:41<00:00,  2.15it/s]\n",
            "                 Class     Images  Instances      Box(P          R      mAP50  mAP50-95): 100%|██████████| 79/79 [00:41<00:00,  1.89it/s]"
          ]
        },
        {
          "output_type": "stream",
          "name": "stdout",
          "text": [
            "                   all       2517       9054      0.933      0.912      0.946      0.708\n"
          ]
        },
        {
          "output_type": "stream",
          "name": "stderr",
          "text": [
            "\n"
          ]
        },
        {
          "output_type": "stream",
          "name": "stdout",
          "text": [
            "\n",
            "      Epoch    GPU_mem   box_loss   cls_loss   dfl_loss  Instances       Size\n"
          ]
        },
        {
          "output_type": "stream",
          "name": "stderr",
          "text": [
            "      36/50      4.18G     0.6297     0.3381     0.8632         52        640: 100%|██████████| 219/219 [01:41<00:00,  2.15it/s]\n",
            "                 Class     Images  Instances      Box(P          R      mAP50  mAP50-95): 100%|██████████| 79/79 [00:40<00:00,  1.97it/s]"
          ]
        },
        {
          "output_type": "stream",
          "name": "stdout",
          "text": [
            "                   all       2517       9054      0.937      0.913       0.95      0.709\n"
          ]
        },
        {
          "output_type": "stream",
          "name": "stderr",
          "text": [
            "\n"
          ]
        },
        {
          "output_type": "stream",
          "name": "stdout",
          "text": [
            "\n",
            "      Epoch    GPU_mem   box_loss   cls_loss   dfl_loss  Instances       Size\n"
          ]
        },
        {
          "output_type": "stream",
          "name": "stderr",
          "text": [
            "      37/50      4.24G     0.6259     0.3336     0.8644         64        640: 100%|██████████| 219/219 [01:41<00:00,  2.16it/s]\n",
            "                 Class     Images  Instances      Box(P          R      mAP50  mAP50-95): 100%|██████████| 79/79 [00:39<00:00,  1.98it/s]"
          ]
        },
        {
          "output_type": "stream",
          "name": "stdout",
          "text": [
            "                   all       2517       9054       0.93      0.914      0.947      0.707\n"
          ]
        },
        {
          "output_type": "stream",
          "name": "stderr",
          "text": [
            "\n"
          ]
        },
        {
          "output_type": "stream",
          "name": "stdout",
          "text": [
            "\n",
            "      Epoch    GPU_mem   box_loss   cls_loss   dfl_loss  Instances       Size\n"
          ]
        },
        {
          "output_type": "stream",
          "name": "stderr",
          "text": [
            "      38/50      4.17G     0.6149     0.3278     0.8595         49        640: 100%|██████████| 219/219 [01:40<00:00,  2.18it/s]\n",
            "                 Class     Images  Instances      Box(P          R      mAP50  mAP50-95): 100%|██████████| 79/79 [00:42<00:00,  1.86it/s]"
          ]
        },
        {
          "output_type": "stream",
          "name": "stdout",
          "text": [
            "                   all       2517       9054      0.935      0.907      0.948      0.709\n"
          ]
        },
        {
          "output_type": "stream",
          "name": "stderr",
          "text": [
            "\n"
          ]
        },
        {
          "output_type": "stream",
          "name": "stdout",
          "text": [
            "\n",
            "      Epoch    GPU_mem   box_loss   cls_loss   dfl_loss  Instances       Size\n"
          ]
        },
        {
          "output_type": "stream",
          "name": "stderr",
          "text": [
            "      39/50      4.18G     0.6195      0.332      0.865         42        640: 100%|██████████| 219/219 [01:40<00:00,  2.17it/s]\n",
            "                 Class     Images  Instances      Box(P          R      mAP50  mAP50-95): 100%|██████████| 79/79 [00:43<00:00,  1.83it/s]"
          ]
        },
        {
          "output_type": "stream",
          "name": "stdout",
          "text": [
            "                   all       2517       9054      0.935      0.911      0.947       0.71\n"
          ]
        },
        {
          "output_type": "stream",
          "name": "stderr",
          "text": [
            "\n"
          ]
        },
        {
          "output_type": "stream",
          "name": "stdout",
          "text": [
            "\n",
            "      Epoch    GPU_mem   box_loss   cls_loss   dfl_loss  Instances       Size\n"
          ]
        },
        {
          "output_type": "stream",
          "name": "stderr",
          "text": [
            "      40/50      4.18G     0.6111     0.3275       0.86         68        640: 100%|██████████| 219/219 [01:41<00:00,  2.15it/s]\n",
            "                 Class     Images  Instances      Box(P          R      mAP50  mAP50-95): 100%|██████████| 79/79 [00:41<00:00,  1.89it/s]"
          ]
        },
        {
          "output_type": "stream",
          "name": "stdout",
          "text": [
            "                   all       2517       9054      0.937      0.912      0.948       0.71\n"
          ]
        },
        {
          "output_type": "stream",
          "name": "stderr",
          "text": [
            "\n"
          ]
        },
        {
          "output_type": "stream",
          "name": "stdout",
          "text": [
            "Closing dataloader mosaic\n",
            "\u001b[34m\u001b[1malbumentations: \u001b[0mBlur(p=0.01, blur_limit=(3, 7)), MedianBlur(p=0.01, blur_limit=(3, 7)), ToGray(p=0.01), CLAHE(p=0.01, clip_limit=(1, 4.0), tile_grid_size=(8, 8))\n",
            "\n",
            "      Epoch    GPU_mem   box_loss   cls_loss   dfl_loss  Instances       Size\n"
          ]
        },
        {
          "output_type": "stream",
          "name": "stderr",
          "text": [
            "      41/50      4.19G     0.6079     0.3253     0.8604         72        640: 100%|██████████| 219/219 [01:44<00:00,  2.10it/s]\n",
            "                 Class     Images  Instances      Box(P          R      mAP50  mAP50-95): 100%|██████████| 79/79 [00:40<00:00,  1.94it/s]"
          ]
        },
        {
          "output_type": "stream",
          "name": "stdout",
          "text": [
            "                   all       2517       9054       0.94      0.907      0.948      0.708\n"
          ]
        },
        {
          "output_type": "stream",
          "name": "stderr",
          "text": [
            "\n"
          ]
        },
        {
          "output_type": "stream",
          "name": "stdout",
          "text": [
            "\n",
            "      Epoch    GPU_mem   box_loss   cls_loss   dfl_loss  Instances       Size\n"
          ]
        },
        {
          "output_type": "stream",
          "name": "stderr",
          "text": [
            "      42/50      4.17G     0.5998     0.3197     0.8571         51        640: 100%|██████████| 219/219 [01:41<00:00,  2.17it/s]\n",
            "                 Class     Images  Instances      Box(P          R      mAP50  mAP50-95): 100%|██████████| 79/79 [00:39<00:00,  2.00it/s]"
          ]
        },
        {
          "output_type": "stream",
          "name": "stdout",
          "text": [
            "                   all       2517       9054      0.937      0.911      0.947       0.71\n"
          ]
        },
        {
          "output_type": "stream",
          "name": "stderr",
          "text": [
            "\n"
          ]
        },
        {
          "output_type": "stream",
          "name": "stdout",
          "text": [
            "\n",
            "      Epoch    GPU_mem   box_loss   cls_loss   dfl_loss  Instances       Size\n"
          ]
        },
        {
          "output_type": "stream",
          "name": "stderr",
          "text": [
            "      43/50      4.18G     0.5975     0.3189     0.8537         57        640: 100%|██████████| 219/219 [01:41<00:00,  2.15it/s]\n",
            "                 Class     Images  Instances      Box(P          R      mAP50  mAP50-95): 100%|██████████| 79/79 [00:40<00:00,  1.96it/s]"
          ]
        },
        {
          "output_type": "stream",
          "name": "stdout",
          "text": [
            "                   all       2517       9054      0.938      0.913       0.95      0.712\n"
          ]
        },
        {
          "output_type": "stream",
          "name": "stderr",
          "text": [
            "\n"
          ]
        },
        {
          "output_type": "stream",
          "name": "stdout",
          "text": [
            "\n",
            "      Epoch    GPU_mem   box_loss   cls_loss   dfl_loss  Instances       Size\n"
          ]
        },
        {
          "output_type": "stream",
          "name": "stderr",
          "text": [
            "      44/50      4.22G     0.5988     0.3188     0.8583         51        640: 100%|██████████| 219/219 [01:41<00:00,  2.16it/s]\n",
            "                 Class     Images  Instances      Box(P          R      mAP50  mAP50-95): 100%|██████████| 79/79 [00:41<00:00,  1.90it/s]"
          ]
        },
        {
          "output_type": "stream",
          "name": "stdout",
          "text": [
            "                   all       2517       9054      0.937       0.91      0.948      0.715\n"
          ]
        },
        {
          "output_type": "stream",
          "name": "stderr",
          "text": [
            "\n"
          ]
        },
        {
          "output_type": "stream",
          "name": "stdout",
          "text": [
            "\n",
            "      Epoch    GPU_mem   box_loss   cls_loss   dfl_loss  Instances       Size\n"
          ]
        },
        {
          "output_type": "stream",
          "name": "stderr",
          "text": [
            "      45/50      4.21G     0.5843     0.3113     0.8535         45        640: 100%|██████████| 219/219 [01:41<00:00,  2.15it/s]\n",
            "                 Class     Images  Instances      Box(P          R      mAP50  mAP50-95): 100%|██████████| 79/79 [00:40<00:00,  1.97it/s]"
          ]
        },
        {
          "output_type": "stream",
          "name": "stdout",
          "text": [
            "                   all       2517       9054      0.934      0.917      0.949      0.714\n"
          ]
        },
        {
          "output_type": "stream",
          "name": "stderr",
          "text": [
            "\n"
          ]
        },
        {
          "output_type": "stream",
          "name": "stdout",
          "text": [
            "\n",
            "      Epoch    GPU_mem   box_loss   cls_loss   dfl_loss  Instances       Size\n"
          ]
        },
        {
          "output_type": "stream",
          "name": "stderr",
          "text": [
            "      46/50       4.2G     0.5868     0.3131     0.8563         60        640: 100%|██████████| 219/219 [01:40<00:00,  2.19it/s]\n",
            "                 Class     Images  Instances      Box(P          R      mAP50  mAP50-95): 100%|██████████| 79/79 [00:40<00:00,  1.93it/s]"
          ]
        },
        {
          "output_type": "stream",
          "name": "stdout",
          "text": [
            "                   all       2517       9054      0.938      0.914      0.949      0.716\n"
          ]
        },
        {
          "output_type": "stream",
          "name": "stderr",
          "text": [
            "\n"
          ]
        },
        {
          "output_type": "stream",
          "name": "stdout",
          "text": [
            "\n",
            "      Epoch    GPU_mem   box_loss   cls_loss   dfl_loss  Instances       Size\n"
          ]
        },
        {
          "output_type": "stream",
          "name": "stderr",
          "text": [
            "      47/50      4.23G     0.5814     0.3108     0.8553         30        640: 100%|██████████| 219/219 [01:41<00:00,  2.17it/s]\n",
            "                 Class     Images  Instances      Box(P          R      mAP50  mAP50-95): 100%|██████████| 79/79 [00:41<00:00,  1.88it/s]"
          ]
        },
        {
          "output_type": "stream",
          "name": "stdout",
          "text": [
            "                   all       2517       9054      0.941      0.913       0.95      0.715\n"
          ]
        },
        {
          "output_type": "stream",
          "name": "stderr",
          "text": [
            "\n"
          ]
        },
        {
          "output_type": "stream",
          "name": "stdout",
          "text": [
            "\n",
            "      Epoch    GPU_mem   box_loss   cls_loss   dfl_loss  Instances       Size\n"
          ]
        },
        {
          "output_type": "stream",
          "name": "stderr",
          "text": [
            "      48/50      4.23G     0.5955     0.3151     0.8509         45        640:  51%|█████     | 112/219 [00:51<00:40,  2.65it/s]"
          ]
        }
      ],
      "source": [
        "import torch\n",
        "import gc\n",
        "\n",
        "\n",
        "model = YOLO('yolov8s.pt')\n",
        "\n",
        "total_epochs = 200\n",
        "save_interval = 50\n",
        "epochs_per_iteration = total_epochs // save_interval  # Количество эпох между сохранениями\n",
        "\n",
        "for iteration in range(epochs_per_iteration):\n",
        "    epochs_to_train = min(total_epochs - iteration * save_interval, save_interval)\n",
        "    model.train(data=data_path, imgsz=640, epochs=epochs_to_train, name='/content/drive/MyDrive/my_yolov8/yolov8s_str')\n",
        "\n",
        "    current_epoch = (iteration + 1) * save_interval  # Текущая эпоха\n",
        "    torch.save(model.state_dict(), f'yolov8s_epoch_{current_epoch}.pt')  # Сохранение весов модели\n",
        "    torch.cuda.empty_cache()  # Очистить видеопамять\n",
        "    gc.collect()  # Очистить оперативную память"
      ]
    }
  ],
  "metadata": {
    "accelerator": "GPU",
    "colab": {
      "provenance": [],
      "gpuType": "T4"
    },
    "kernelspec": {
      "display_name": "Python 3",
      "name": "python3"
    },
    "language_info": {
      "name": "python"
    }
  },
  "nbformat": 4,
  "nbformat_minor": 0
}