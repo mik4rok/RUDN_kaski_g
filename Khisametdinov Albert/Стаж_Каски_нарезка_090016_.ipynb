{
  "nbformat": 4,
  "nbformat_minor": 0,
  "metadata": {
    "colab": {
      "provenance": [],
      "gpuType": "T4"
    },
    "kernelspec": {
      "name": "python3",
      "display_name": "Python 3"
    },
    "language_info": {
      "name": "python"
    },
    "accelerator": "GPU"
  },
  "cells": [
    {
      "cell_type": "code",
      "source": [
        "pip install opencv-python"
      ],
      "metadata": {
        "id": "jOaO3BeeQNRT",
        "colab": {
          "base_uri": "https://localhost:8080/"
        },
        "outputId": "6173e028-c838-4f75-bb0a-375d0b791986"
      },
      "execution_count": 1,
      "outputs": [
        {
          "output_type": "stream",
          "name": "stdout",
          "text": [
            "Requirement already satisfied: opencv-python in /usr/local/lib/python3.10/dist-packages (4.8.0.76)\n",
            "Requirement already satisfied: numpy>=1.21.2 in /usr/local/lib/python3.10/dist-packages (from opencv-python) (1.23.5)\n"
          ]
        }
      ]
    },
    {
      "cell_type": "code",
      "execution_count": 2,
      "metadata": {
        "tags": [],
        "id": "4d579ebb-9edf-487c-8599-52065383699f",
        "colab": {
          "base_uri": "https://localhost:8080/"
        },
        "outputId": "293f17c2-0055-407f-9968-31ac1b1e4062"
      },
      "outputs": [
        {
          "output_type": "stream",
          "name": "stdout",
          "text": [
            "Collecting ultralytics\n",
            "  Downloading ultralytics-8.0.215-py3-none-any.whl (645 kB)\n",
            "\u001b[?25l     \u001b[90m━━━━━━━━━━━━━━━━━━━━━━━━━━━━━━━━━━━━━━━━\u001b[0m \u001b[32m0.0/645.7 kB\u001b[0m \u001b[31m?\u001b[0m eta \u001b[36m-:--:--\u001b[0m\r\u001b[2K     \u001b[91m━━━━━━━━━\u001b[0m\u001b[91m╸\u001b[0m\u001b[90m━━━━━━━━━━━━━━━━━━━━━━━━━━━━━━\u001b[0m \u001b[32m153.6/645.7 kB\u001b[0m \u001b[31m4.6 MB/s\u001b[0m eta \u001b[36m0:00:01\u001b[0m\r\u001b[2K     \u001b[90m━━━━━━━━━━━━━━━━━━━━━━━━━━━━━━━━━━━━━━━━\u001b[0m \u001b[32m645.7/645.7 kB\u001b[0m \u001b[31m10.6 MB/s\u001b[0m eta \u001b[36m0:00:00\u001b[0m\n",
            "\u001b[?25hRequirement already satisfied: matplotlib>=3.3.0 in /usr/local/lib/python3.10/dist-packages (from ultralytics) (3.7.1)\n",
            "Requirement already satisfied: numpy>=1.22.2 in /usr/local/lib/python3.10/dist-packages (from ultralytics) (1.23.5)\n",
            "Requirement already satisfied: opencv-python>=4.6.0 in /usr/local/lib/python3.10/dist-packages (from ultralytics) (4.8.0.76)\n",
            "Requirement already satisfied: pillow>=7.1.2 in /usr/local/lib/python3.10/dist-packages (from ultralytics) (9.4.0)\n",
            "Requirement already satisfied: pyyaml>=5.3.1 in /usr/local/lib/python3.10/dist-packages (from ultralytics) (6.0.1)\n",
            "Requirement already satisfied: requests>=2.23.0 in /usr/local/lib/python3.10/dist-packages (from ultralytics) (2.31.0)\n",
            "Requirement already satisfied: scipy>=1.4.1 in /usr/local/lib/python3.10/dist-packages (from ultralytics) (1.11.3)\n",
            "Requirement already satisfied: torch>=1.8.0 in /usr/local/lib/python3.10/dist-packages (from ultralytics) (2.1.0+cu118)\n",
            "Requirement already satisfied: torchvision>=0.9.0 in /usr/local/lib/python3.10/dist-packages (from ultralytics) (0.16.0+cu118)\n",
            "Requirement already satisfied: tqdm>=4.64.0 in /usr/local/lib/python3.10/dist-packages (from ultralytics) (4.66.1)\n",
            "Requirement already satisfied: pandas>=1.1.4 in /usr/local/lib/python3.10/dist-packages (from ultralytics) (1.5.3)\n",
            "Requirement already satisfied: seaborn>=0.11.0 in /usr/local/lib/python3.10/dist-packages (from ultralytics) (0.12.2)\n",
            "Requirement already satisfied: psutil in /usr/local/lib/python3.10/dist-packages (from ultralytics) (5.9.5)\n",
            "Requirement already satisfied: py-cpuinfo in /usr/local/lib/python3.10/dist-packages (from ultralytics) (9.0.0)\n",
            "Collecting thop>=0.1.1 (from ultralytics)\n",
            "  Downloading thop-0.1.1.post2209072238-py3-none-any.whl (15 kB)\n",
            "Requirement already satisfied: contourpy>=1.0.1 in /usr/local/lib/python3.10/dist-packages (from matplotlib>=3.3.0->ultralytics) (1.2.0)\n",
            "Requirement already satisfied: cycler>=0.10 in /usr/local/lib/python3.10/dist-packages (from matplotlib>=3.3.0->ultralytics) (0.12.1)\n",
            "Requirement already satisfied: fonttools>=4.22.0 in /usr/local/lib/python3.10/dist-packages (from matplotlib>=3.3.0->ultralytics) (4.44.3)\n",
            "Requirement already satisfied: kiwisolver>=1.0.1 in /usr/local/lib/python3.10/dist-packages (from matplotlib>=3.3.0->ultralytics) (1.4.5)\n",
            "Requirement already satisfied: packaging>=20.0 in /usr/local/lib/python3.10/dist-packages (from matplotlib>=3.3.0->ultralytics) (23.2)\n",
            "Requirement already satisfied: pyparsing>=2.3.1 in /usr/local/lib/python3.10/dist-packages (from matplotlib>=3.3.0->ultralytics) (3.1.1)\n",
            "Requirement already satisfied: python-dateutil>=2.7 in /usr/local/lib/python3.10/dist-packages (from matplotlib>=3.3.0->ultralytics) (2.8.2)\n",
            "Requirement already satisfied: pytz>=2020.1 in /usr/local/lib/python3.10/dist-packages (from pandas>=1.1.4->ultralytics) (2023.3.post1)\n",
            "Requirement already satisfied: charset-normalizer<4,>=2 in /usr/local/lib/python3.10/dist-packages (from requests>=2.23.0->ultralytics) (3.3.2)\n",
            "Requirement already satisfied: idna<4,>=2.5 in /usr/local/lib/python3.10/dist-packages (from requests>=2.23.0->ultralytics) (3.4)\n",
            "Requirement already satisfied: urllib3<3,>=1.21.1 in /usr/local/lib/python3.10/dist-packages (from requests>=2.23.0->ultralytics) (2.0.7)\n",
            "Requirement already satisfied: certifi>=2017.4.17 in /usr/local/lib/python3.10/dist-packages (from requests>=2.23.0->ultralytics) (2023.7.22)\n",
            "Requirement already satisfied: filelock in /usr/local/lib/python3.10/dist-packages (from torch>=1.8.0->ultralytics) (3.13.1)\n",
            "Requirement already satisfied: typing-extensions in /usr/local/lib/python3.10/dist-packages (from torch>=1.8.0->ultralytics) (4.5.0)\n",
            "Requirement already satisfied: sympy in /usr/local/lib/python3.10/dist-packages (from torch>=1.8.0->ultralytics) (1.12)\n",
            "Requirement already satisfied: networkx in /usr/local/lib/python3.10/dist-packages (from torch>=1.8.0->ultralytics) (3.2.1)\n",
            "Requirement already satisfied: jinja2 in /usr/local/lib/python3.10/dist-packages (from torch>=1.8.0->ultralytics) (3.1.2)\n",
            "Requirement already satisfied: fsspec in /usr/local/lib/python3.10/dist-packages (from torch>=1.8.0->ultralytics) (2023.6.0)\n",
            "Requirement already satisfied: triton==2.1.0 in /usr/local/lib/python3.10/dist-packages (from torch>=1.8.0->ultralytics) (2.1.0)\n",
            "Requirement already satisfied: six>=1.5 in /usr/local/lib/python3.10/dist-packages (from python-dateutil>=2.7->matplotlib>=3.3.0->ultralytics) (1.16.0)\n",
            "Requirement already satisfied: MarkupSafe>=2.0 in /usr/local/lib/python3.10/dist-packages (from jinja2->torch>=1.8.0->ultralytics) (2.1.3)\n",
            "Requirement already satisfied: mpmath>=0.19 in /usr/local/lib/python3.10/dist-packages (from sympy->torch>=1.8.0->ultralytics) (1.3.0)\n",
            "Installing collected packages: thop, ultralytics\n",
            "Successfully installed thop-0.1.1.post2209072238 ultralytics-8.0.215\n"
          ]
        }
      ],
      "source": [
        "!pip install ultralytics"
      ]
    },
    {
      "cell_type": "code",
      "source": [
        "from google.colab import drive\n",
        "drive.mount('/content/gdrive/')"
      ],
      "metadata": {
        "colab": {
          "base_uri": "https://localhost:8080/"
        },
        "id": "hzDwdWiNQSSd",
        "outputId": "53750e35-b360-44dd-c937-65fadf0ced06"
      },
      "execution_count": 3,
      "outputs": [
        {
          "output_type": "stream",
          "name": "stdout",
          "text": [
            "Mounted at /content/gdrive/\n"
          ]
        }
      ]
    },
    {
      "cell_type": "code",
      "source": [
        "# В случае использования виртуального окружения python, начало будет здесь\n",
        "from ultralytics import YOLO\n",
        "# Для работы в блокноте подключим функцию очистки экрана (можно игнорировать)\n",
        "from IPython.display import clear_output\n",
        "# Используем cv2 для работы с изображениями\n",
        "import cv2\n",
        "#from PIL import Image\n"
      ],
      "metadata": {
        "id": "0bJOvJiRQWez"
      },
      "execution_count": 4,
      "outputs": []
    },
    {
      "cell_type": "code",
      "source": [
        "# путь к видеозаписи\n",
        "path_video = '/content/gdrive/MyDrive/PythonColab/ЦОД-18 2023-09-11 09-00-16_886/ЦОД-18 2023-09-11 09-00-16_886.avi'\n",
        "\n",
        "# чтение файла\n",
        "vidcap = cv2.VideoCapture(path_video)\n",
        "\n",
        "# проверка\n",
        "vidcap.isOpened()"
      ],
      "metadata": {
        "colab": {
          "base_uri": "https://localhost:8080/"
        },
        "id": "3TmfM78pQhmL",
        "outputId": "b646b516-6c75-49b6-cd7a-d212198b55c2"
      },
      "execution_count": 5,
      "outputs": [
        {
          "output_type": "execute_result",
          "data": {
            "text/plain": [
              "True"
            ]
          },
          "metadata": {},
          "execution_count": 5
        }
      ]
    },
    {
      "cell_type": "code",
      "source": [
        "# выведем ширину кадров\n",
        "print(vidcap.get(cv2.CAP_PROP_FRAME_WIDTH))\n",
        "\n",
        "# выведем высоту кадров\n",
        "print(vidcap.get(cv2.CAP_PROP_FRAME_HEIGHT))\n",
        "\n",
        "# выведем частоту кадров\n",
        "print(vidcap.get(cv2.CAP_PROP_FPS))"
      ],
      "metadata": {
        "colab": {
          "base_uri": "https://localhost:8080/"
        },
        "id": "2CQt-TJWQeCo",
        "outputId": "230945d2-1bf7-4f64-f9fd-91af5348764f"
      },
      "execution_count": 7,
      "outputs": [
        {
          "output_type": "stream",
          "name": "stdout",
          "text": [
            "1920.0\n",
            "1080.0\n",
            "24.833333333333332\n"
          ]
        }
      ]
    },
    {
      "cell_type": "code",
      "source": [
        "import time\n",
        "start_time = time.time()  # время начала выполнения\n",
        "\n",
        "\n",
        "import cv2\n",
        "# Вырезаем каждый 10 кадр из заданного видеофайла и создаем новый файл.\n",
        "\n",
        "def cut_and_save_video(input_path, output_path):\n",
        "    cap = cv2.VideoCapture(input_path)\n",
        "\n",
        "    fps = cap.get(cv2.CAP_PROP_FPS)\n",
        "    width = int(cap.get(cv2.CAP_PROP_FRAME_WIDTH))\n",
        "    height = int(cap.get(cv2.CAP_PROP_FRAME_HEIGHT))\n",
        "\n",
        "    fourcc = cv2.VideoWriter_fourcc(*'XVID')\n",
        "    out = cv2.VideoWriter(output_path, fourcc, fps, (width, height))\n",
        "\n",
        "    current_frame = 0\n",
        "    while True:\n",
        "        ret, frame = cap.read()\n",
        "        if not ret:\n",
        "            break\n",
        "\n",
        "        # Пропускаем 9 кадра, обрабатываем каждый 10-й\n",
        "        if current_frame % 10 == 0:\n",
        "            out.write(frame)\n",
        "\n",
        "        # Пропускаем 9 кадров\n",
        "        for _ in range(9):\n",
        "            ret, _ = cap.read()\n",
        "            if not ret:\n",
        "                break\n",
        "\n",
        "        current_frame += 1\n",
        "\n",
        "    cap.release()\n",
        "    out.release()\n",
        "    cv2.destroyAllWindows()\n",
        "\n",
        "    print(f\"Видео успешно нарезано и сохранено в файл {output_path}\")\n",
        "\n",
        "if __name__ == \"__main__\":\n",
        "    # Указываем пути к входному и выходному файлам\n",
        "    input_file_path = \"/content/gdrive/MyDrive/PythonColab/ЦОД-18 2023-09-11 09-00-16_886/ЦОД-18 2023-09-11 09-00-16_886.avi\"\n",
        "    output_file_path = \"/content/gdrive/MyDrive/PythonColab/ЦОД-18 2023-09-11 09-00-16_886/ЦОД-18 2023-09-11 09-00-16_886_исправ.avi\"\n",
        "\n",
        "    # Нарезаем видео и сохраняем результат\n",
        "    cut_and_save_video(input_file_path, output_file_path)\n",
        "\n",
        "\n",
        "end_time = time.time()  # время окончания выполнения\n",
        "execution_time = end_time - start_time  # вычисляем время выполнения\n",
        "print(f\"Время выполнения программы: {execution_time} секунд\")\n"
      ],
      "metadata": {
        "colab": {
          "base_uri": "https://localhost:8080/"
        },
        "id": "hiK1h-_jm2J_",
        "outputId": "ff38f693-7b83-4c56-ea4b-7fc4750d9ed9"
      },
      "execution_count": 8,
      "outputs": [
        {
          "output_type": "stream",
          "name": "stdout",
          "text": [
            "Видео успешно нарезано и сохранено в файл /content/gdrive/MyDrive/PythonColab/ЦОД-18 2023-09-11 09-00-16_886/ЦОД-18 2023-09-11 09-00-16_886_исправ.avi\n",
            "Время выполнения программы: 678.3297464847565 секунд\n"
          ]
        }
      ]
    },
    {
      "cell_type": "code",
      "execution_count": 9,
      "metadata": {
        "id": "9a8c688d-09af-4762-9928-1649d13698de",
        "colab": {
          "base_uri": "https://localhost:8080/"
        },
        "outputId": "12f5fa40-edd6-4b64-ae01-37281de3a11c"
      },
      "outputs": [
        {
          "output_type": "stream",
          "name": "stdout",
          "text": [
            "Время выполнения программы: 260.8125948905945 секунд\n"
          ]
        }
      ],
      "source": [
        "import time\n",
        "start_time = time.time()  # время начала выполнения\n",
        "\n",
        "# Видео файл\n",
        "video_file = '/content/gdrive/MyDrive/PythonColab/ЦОД-18 2023-09-11 09-00-16_886/ЦОД-18 2023-09-11 09-00-16_886_исправ.avi'\n",
        "# Куда будем сохранять фотки\n",
        "save_dir = '/content/gdrive/MyDrive/PythonColab/ЦОД-18 2023-09-11 09-00-16_886/'\n",
        "\n",
        "# Если нет каталога, создадим его\n",
        "#!mkdir {save_dir}\n",
        "# Берем стандартную модель\n",
        "model = YOLO('yolov8n.pt')\n",
        "# Обнаруживаем только нулевой класс (person) в режиме генератора (stream)\n",
        "res = model.predict(video_file, stream=True, classes=0)\n",
        "for i, r in enumerate(res):\n",
        "  # При детекции человека\n",
        "  if len(r.boxes) > 0:\n",
        "    # Получаем изображение, конвертируем в нужное разрешение\n",
        "    #img = Image.fromarray(r.orig_img[:, :, ::-1]).resize((1280, 720))\n",
        "    #img = cv2.resize(r.orig_img, (1280, 720))\n",
        "    img = r.orig_img\n",
        "    # Сохраняем под номером кадра\n",
        "    #img.save(f'{save_dir}data1_{i:06d}.jpg')\n",
        "    #cv2.imwrite(f'{save_dir}data1_{i:06d}.jpg', img, [1, 60] )\n",
        "    cv2.imwrite(f'{save_dir}data_09_00_16_{i:06d}.jpg', img)\n",
        "# Очищаем экран\n",
        "clear_output()\n",
        "\n",
        "\n",
        "\n",
        "end_time = time.time()  # время окончания выполнения\n",
        "execution_time = end_time - start_time  # вычисляем время выполнения\n",
        "print(f\"Время выполнения программы: {execution_time} секунд\")"
      ]
    },
    {
      "cell_type": "code",
      "source": [],
      "metadata": {
        "id": "nK_9tCrEaexb"
      },
      "execution_count": null,
      "outputs": []
    },
    {
      "cell_type": "code",
      "source": [
        "# def frame_items(iterable):\n",
        "#        return [r for i, r in enumerate(iterable) if i % 25 == 0]"
      ],
      "metadata": {
        "id": "BxEagBbcae0W"
      },
      "execution_count": null,
      "outputs": []
    }
  ]
}