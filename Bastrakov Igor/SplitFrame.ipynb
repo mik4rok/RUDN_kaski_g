{
 "cells": [
  {
   "cell_type": "code",
   "execution_count": null,
   "id": "4d579ebb-9edf-487c-8599-52065383699f",
   "metadata": {
    "tags": []
   },
   "outputs": [],
   "source": [
    "!pip install ultralytics"
   ]
  },
  {
   "cell_type": "code",
   "execution_count": null,
   "id": "160a512d-33ae-4b85-8eb1-870331745c2c",
   "metadata": {
    "tags": []
   },
   "outputs": [],
   "source": [
    "# В случае использования виртуального окружения python, начало будет здесь\n",
    "from ultralytics import YOLO\n",
    "# Для работы в блокноте подключим функцию очистки экрана (можно игнорировать)\n",
    "from IPython.display import clear_output\n",
    "# Используем cv2 для работы с изображениями\n",
    "import cv2\n",
    "#from PIL import Image"
   ]
  },
  {
   "cell_type": "code",
   "execution_count": null,
   "id": "9a8c688d-09af-4762-9928-1649d13698de",
   "metadata": {},
   "outputs": [],
   "source": [
    "# Видео файл\n",
    "video_file = '/home/vlc22xx.avi'\n",
    "# Куда будем сохранять фотки\n",
    "save_dir = '/home/dataSplit/'\n",
    "# Если нет каталога, создадим его\n",
    "#!mkdir {save_dir}\n",
    "# Берем стандартную модель\n",
    "model = YOLO('yolov8n.pt')\n",
    "# Обнаруживаем только нулевой класс (person) в режиме генератора (stream)\n",
    "res = model.predict(video_file, stream=True, classes=0, device = '0,1')\n",
    "for i, r in enumerate(res):\n",
    "  # При детекции человека\n",
    "  if len(r.boxes) > 0:\n",
    "    # Получаем изображение, конвертируем в нужное разрешение\n",
    "    #img = Image.fromarray(r.orig_img[:, :, ::-1]).resize((1280, 720))\n",
    "    #img = cv2.resize(r.orig_img, (1280, 720))\n",
    "    img = r.orig_img\n",
    "    # Сохраняем под номером кадра\n",
    "    #img.save(f'{save_dir}data1_{i:06d}.jpg')\n",
    "    #cv2.imwrite(f'{save_dir}data1_{i:06d}.jpg', img, [1, 60] )\n",
    "    cv2.imwrite(f'{save_dir}data5_{i:06d}.jpg', img)\n",
    "# Очищаем экран\n",
    "clear_output()"
   ]
  },
  {
   "cell_type": "code",
   "execution_count": null,
   "id": "15976492-0345-439f-b5ba-e8e22fd01437",
   "metadata": {},
   "outputs": [],
   "source": [
    "!zip img.zip images/*.jpg"
   ]
  },
  {
   "cell_type": "code",
   "execution_count": null,
   "id": "08cdf602-9605-43cc-b6e7-45bd9490171a",
   "metadata": {},
   "outputs": [],
   "source": [
    "!du -a images/ | sort -n -r | head"
   ]
  }
 ],
 "metadata": {
  "kernelspec": {
   "display_name": "Python 3 (ipykernel)",
   "language": "python",
   "name": "python3"
  },
  "language_info": {
   "codemirror_mode": {
    "name": "ipython",
    "version": 3
   },
   "file_extension": ".py",
   "mimetype": "text/x-python",
   "name": "python",
   "nbconvert_exporter": "python",
   "pygments_lexer": "ipython3",
   "version": "3.8.16"
  }
 },
 "nbformat": 4,
 "nbformat_minor": 5
}
