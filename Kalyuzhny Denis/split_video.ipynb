{
 "cells": [
  {
   "cell_type": "code",
   "execution_count": 7,
   "id": "91484b4d-15a2-4d2a-b300-9d4af4bee3a9",
   "metadata": {},
   "outputs": [],
   "source": [
    "from ultralytics import YOLO\n",
    "import cv2\n",
    "from IPython.display import clear_output"
   ]
  },
  {
   "cell_type": "code",
   "execution_count": 9,
   "id": "40095fdc-3304-4733-adef-6bbb93ee069b",
   "metadata": {},
   "outputs": [],
   "source": [
    "save_dir = r'L:\\images_out'\n",
    "video_src_1 = r'N:\\уии стажировки\\2 человеки в касках рудн\\видео для обработки\\ГС-ЦОД-8 2023-09-07 01-50-10_757.avi' # первый файл\n",
    "video_src_2 = r'N:\\уии стажировки\\2 человеки в касках рудн\\видео для обработки\\ГС-ЦОД-8 2023-09-07 04-44-33_482.avi' # второй файл\n",
    "video_src_3 = r'N:\\уии стажировки\\2 человеки в касках рудн\\видео для обработки\\ЦОД-11 2023-09-11 09-00-14_662.avi' # третий файл\n",
    "video_src_4 = r'N:\\уии стажировки\\2 человеки в касках рудн\\видео для обработки\\ЦОД-18 2023-09-11 09-00-16_886.avi' # четвертый файл"
   ]
  },
  {
   "cell_type": "code",
   "execution_count": 10,
   "id": "f97059c6-30c7-4228-b84f-799da9c8670c",
   "metadata": {},
   "outputs": [],
   "source": [
    "model = YOLO('yolov8n.pt')"
   ]
  },
  {
   "cell_type": "code",
   "execution_count": 3,
   "id": "3b881e45-e0e2-4397-a3c7-2fe7c6b43118",
   "metadata": {},
   "outputs": [
    {
     "name": "stdout",
     "output_type": "stream",
     "text": [
      "219000\n",
      "CPU times: total: 56min 8s\n",
      "Wall time: 47min 21s\n"
     ]
    }
   ],
   "source": [
    "%%time\n",
    "\n",
    "results = model.predict(video_src_1, classes=0, stream=True, device=0, verbose=False)\n",
    "conf = 0\n",
    "for n, result in enumerate(results):\n",
    "    if (person_detected := result.boxes):\n",
    "        conf = min(conf + 1, 9)\n",
    "    else:\n",
    "        conf = max(conf - 1, 0)\n",
    "        \n",
    "    if conf > 4 and person_detected and not n % 100:\n",
    "        img = result.orig_img\n",
    "        cv2.imwrite(f'{save_dir}\\data_1_{n:07d}.jpg', img)\n",
    "    if not n % 500:\n",
    "        clear_output()\n",
    "        print(n)\n",
    "\n"
   ]
  },
  {
   "cell_type": "code",
   "execution_count": 4,
   "id": "a6ac3a69-e09d-4bdb-b483-efba5a3cd0fa",
   "metadata": {},
   "outputs": [
    {
     "name": "stdout",
     "output_type": "stream",
     "text": [
      "216500\n",
      "CPU times: total: 56min 26s\n",
      "Wall time: 48min 16s\n"
     ]
    }
   ],
   "source": [
    "%%time\n",
    "\n",
    "results = model.predict(video_src_3, classes=0, stream=True, device=0, verbose=False)\n",
    "conf = 0\n",
    "for n, result in enumerate(results):\n",
    "    if (person_detected := result.boxes):\n",
    "        conf = min(conf + 1, 9)\n",
    "    else:\n",
    "        conf = max(conf - 1, 0)\n",
    "        \n",
    "    if conf > 4 and person_detected and not n % 100:\n",
    "        img = result.orig_img\n",
    "        cv2.imwrite(f'{save_dir}\\data_3_{n:07d}.jpg', img)\n",
    "    if not n % 500:\n",
    "        clear_output()\n",
    "        print(n)\n",
    "\n"
   ]
  },
  {
   "cell_type": "code",
   "execution_count": 12,
   "id": "2e57582f-8e05-499f-9fd5-e46de31b833f",
   "metadata": {},
   "outputs": [
    {
     "name": "stdout",
     "output_type": "stream",
     "text": [
      "103000\n",
      "CPU times: total: 21min 23s\n",
      "Wall time: 18min 14s\n"
     ]
    }
   ],
   "source": [
    "%%time\n",
    "\n",
    "results = model.predict(video_src_4, classes=0, stream=True, device=0, verbose=False)\n",
    "conf = 0\n",
    "for n, result in enumerate(results):\n",
    "    if (person_detected := result.boxes):\n",
    "        conf = min(conf + 1, 9)\n",
    "    else:\n",
    "        conf = max(conf - 1, 0)\n",
    "        \n",
    "    if conf > 4 and person_detected and not n % 100:\n",
    "        img = result.orig_img\n",
    "        cv2.imwrite(f'{save_dir}\\data_4_{n:07d}.jpg', img)\n",
    "    if not n % 500:\n",
    "        clear_output()\n",
    "        print(n)\n",
    "\n",
    "\n"
   ]
  }
 ],
 "metadata": {
  "kernelspec": {
   "display_name": "Python 3 (ipykernel)",
   "language": "python",
   "name": "python3"
  },
  "language_info": {
   "codemirror_mode": {
    "name": "ipython",
    "version": 3
   },
   "file_extension": ".py",
   "mimetype": "text/x-python",
   "name": "python",
   "nbconvert_exporter": "python",
   "pygments_lexer": "ipython3",
   "version": "3.9.13"
  }
 },
 "nbformat": 4,
 "nbformat_minor": 5
}
