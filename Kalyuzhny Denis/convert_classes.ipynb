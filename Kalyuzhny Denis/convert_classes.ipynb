{
  "nbformat": 4,
  "nbformat_minor": 0,
  "metadata": {
    "colab": {
      "provenance": []
    },
    "kernelspec": {
      "name": "python3",
      "display_name": "Python 3"
    },
    "language_info": {
      "name": "python"
    }
  },
  "cells": [
    {
      "cell_type": "code",
      "execution_count": 8,
      "metadata": {
        "id": "uMLiCm0buYKN"
      },
      "outputs": [],
      "source": [
        "import os"
      ]
    },
    {
      "cell_type": "code",
      "source": [
        "LABELS_INPUT  = '/content/drive/MyDrive/intern/2/data_2/labels_my_from_cvat'\n",
        "LABELS_OUTPUT = '/content/drive/MyDrive/intern/2/data_2/labels_025'"
      ],
      "metadata": {
        "id": "Wz2GgDOKudwp"
      },
      "execution_count": 9,
      "outputs": []
    },
    {
      "cell_type": "code",
      "source": [
        "# словарь конвертации. какой класс в какой преобразовавывать\n",
        "# имеющиеся классы\n",
        "# {0: 'helmet_anywhere',\n",
        "# 1: 'head_any',\n",
        "# 2: 'no-helmet_place_on_head',\n",
        "# 3: 'helmet_on_head',\n",
        "# 4: 'helmet_NOT_on_head',\n",
        "# 5: 'person_any',\n",
        "# 6: 'person_in_helmet',\n",
        "# 7: 'person_NOT_in_helmet',\n",
        "# 8: 'head_in_helmet',\n",
        "# 9: 'head_NOT_in_helmet'}\n",
        "# требуемые классы, из которых используем только 0, 2, 5\n",
        "# {0: 'Hardhat',\n",
        "# 1: 'Mask',\n",
        "# 2: 'NO-Hardhat',\n",
        "# 3: 'NO-Mask',\n",
        "# 4: 'NO-Safety Vest',\n",
        "# 5: 'Person',\n",
        "# 6: 'Safety Cone',\n",
        "# 7: 'Safety Vest',\n",
        "# 8: 'machinery',\n",
        "# 9: 'vehicle'}\n",
        "\n",
        "\n",
        "convert_dict = {0: '0',\n",
        "                1: None,\n",
        "                2: '2',\n",
        "                3: '0',\n",
        "                4: '0',\n",
        "                5: '5',\n",
        "                6: '5',\n",
        "                7: '5',\n",
        "                8: None,\n",
        "                9: None}"
      ],
      "metadata": {
        "id": "QNa0Ns92vVJq"
      },
      "execution_count": 10,
      "outputs": []
    },
    {
      "cell_type": "code",
      "source": [
        "!rm -f {LABELS_OUTPUT}/*"
      ],
      "metadata": {
        "id": "1Jvle0aKunnZ"
      },
      "execution_count": 27,
      "outputs": []
    },
    {
      "cell_type": "code",
      "source": [
        "for filename in os.listdir(LABELS_INPUT):\n",
        "    src_filename = os.path.join(LABELS_INPUT, filename)\n",
        "    dst_filename = os.path.join(LABELS_OUTPUT, filename)\n",
        "    with open(src_filename, 'rt') as src_fp, open(dst_filename, 'wt') as dst_fp:\n",
        "        new_content = []\n",
        "        for bbox in src_fp.readlines():\n",
        "            bbox = bbox.split()\n",
        "            if not bbox:\n",
        "                continue\n",
        "            if (bb_class := convert_dict[int(bbox[0])]) is None:\n",
        "                continue\n",
        "            new_content.append(' '.join([bb_class] + bbox[1:]))\n",
        "        dst_fp.write('\\n'.join(new_content))"
      ],
      "metadata": {
        "id": "KPDpIDYSvCwf"
      },
      "execution_count": 28,
      "outputs": []
    }
  ]
}