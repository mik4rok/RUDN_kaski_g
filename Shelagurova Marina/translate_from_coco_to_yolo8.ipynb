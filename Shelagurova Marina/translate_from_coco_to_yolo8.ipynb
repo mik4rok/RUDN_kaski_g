{
  "nbformat": 4,
  "nbformat_minor": 0,
  "metadata": {
    "colab": {
      "provenance": []
    },
    "kernelspec": {
      "name": "python3",
      "display_name": "Python 3"
    },
    "language_info": {
      "name": "python"
    }
  },
  "cells": [
    {
      "cell_type": "markdown",
      "source": [
        "###перевод аннотаций из COCO в YOLO8"
      ],
      "metadata": {
        "id": "WntZNIr9YQOd"
      }
    },
    {
      "cell_type": "code",
      "execution_count": null,
      "metadata": {
        "id": "YCS36yaoDSKW"
      },
      "outputs": [],
      "source": [
        "#скачать датасет СОСО\n",
        "!wget http://images.cocodataset.org/zips/train2017.zip -O coco_train2017.zip\n",
        "!wget http://images.cocodataset.org/zips/val2017.zip -O coco_val2017.zip\n",
        "!wget http://images.cocodataset.org/annotations/annotations_trainval2017.zip -O coco_ann2017.zip"
      ]
    },
    {
      "cell_type": "code",
      "source": [
        "#разархивировать полученные данные\n",
        "import zipfile\n",
        "import os\n",
        "\n",
        "# Путь к вашему архиву .zip\n",
        "zip_path = '/content/coco_ann2017.zip'\n",
        "\n",
        "# Папка, в которую вы хотите извлечь файлы\n",
        "extracted_folder = '/content/test'\n",
        "\n",
        "# Создайте папку для извлечения файлов (если она не существует)\n",
        "os.makedirs(extracted_folder, exist_ok=True)\n",
        "\n",
        "# Распаковка архива\n",
        "with zipfile.ZipFile(zip_path, 'r') as zip_ref:\n",
        "    zip_ref.extractall(extracted_folder)\n",
        "\n",
        "print(\"Архив успешно разархивирован.\")"
      ],
      "metadata": {
        "id": "o-ascirKYtJY"
      },
      "execution_count": null,
      "outputs": []
    },
    {
      "cell_type": "code",
      "source": [
        "import json\n",
        "\n",
        "# Загрузка файла аннотаций Coco\n",
        "with open('/content/test/annotations/instances_val2017.json', 'r') as f:\n",
        "    coco_data = json.load(f)"
      ],
      "metadata": {
        "id": "diNqOwQebN06"
      },
      "execution_count": null,
      "outputs": []
    },
    {
      "cell_type": "code",
      "source": [
        "#перевод аннотации СОСО в yolo8\n",
        "#class_id x_center y_center width height\n",
        "def convert_to_yolo(annotation_info):\n",
        "    category_id = annotation_info['category_id']\n",
        "    bbox = annotation_info['bbox']\n",
        "    my_string = ' '.join(str(i) for i in bbox)\n",
        "    return str(category_id) + ' ' + my_string"
      ],
      "metadata": {
        "id": "rOESFNBOZbW5"
      },
      "execution_count": null,
      "outputs": []
    },
    {
      "cell_type": "code",
      "source": [
        "# Обработка данных\n",
        "file_list = []\n",
        "for image_info in coco_data['images']:\n",
        "    image_id = image_info['id']\n",
        "    file_name = image_info['file_name']\n",
        "    file_list.append({'id':image_id, 'name':file_name})"
      ],
      "metadata": {
        "id": "Qted0TUsh9Z_"
      },
      "execution_count": null,
      "outputs": []
    },
    {
      "cell_type": "code",
      "source": [
        "# Обработка данных\n",
        "for annotation_info in coco_data['annotations']:\n",
        "    yolo_annotation = convert_to_yolo(annotation_info)\n",
        "    id = annotation_info['image_id']\n",
        "    found_element = next((element for element in file_list if element.get('id') == id), None)\n",
        "    if found_element:\n",
        "        # Сохранение аннотаций в формате YOLO\n",
        "        print(\"найден элемент:\", found_element)\n",
        "        file_name = found_element.get('name')[:-4] + '.txt'\n",
        "        print(file_name)\n",
        "        with open(file_name, 'a') as f:\n",
        "              f.write(' '.join(map(str, yolo_annotation)) + '\\n')\n",
        "    else:\n",
        "        print(\"элемент с именем\", id, \"не найден\")\n"
      ],
      "metadata": {
        "id": "XxNfnLGqY9Za"
      },
      "execution_count": null,
      "outputs": []
    }
  ]
}