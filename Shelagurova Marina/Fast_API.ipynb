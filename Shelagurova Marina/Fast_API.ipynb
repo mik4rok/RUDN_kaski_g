{
  "cells": [
    {
      "cell_type": "code",
      "source": [
        "#your_project_directory/\n",
        "#│\n",
        "#├── main.py (или название вашего основного файла FastAPI)\n",
        "#│\n",
        "#├── templates/ (директория для шаблонов)\n",
        "#│   └── index.html (ваш HTML-шаблон)\n",
        "#│\n",
        "#└── static/ (директория для статических файлов, если они есть)\n",
        "#    ├── css/\n",
        "#    ├── js/\n",
        "#    └── images/"
      ],
      "metadata": {
        "id": "VufPThQowwvW"
      },
      "execution_count": null,
      "outputs": []
    },
    {
      "cell_type": "code",
      "source": [
        "!pip install fastapi uvicorn"
      ],
      "metadata": {
        "id": "6A-zuGGP-pNg",
        "colab": {
          "base_uri": "https://localhost:8080/"
        },
        "outputId": "09e9e0ac-e2b2-4c1c-9fd1-6e7dbd7fd0e0"
      },
      "execution_count": null,
      "outputs": [
        {
          "output_type": "stream",
          "name": "stdout",
          "text": [
            "Collecting fastapi\n",
            "  Downloading fastapi-0.109.0-py3-none-any.whl (92 kB)\n",
            "\u001b[2K     \u001b[90m━━━━━━━━━━━━━━━━━━━━━━━━━━━━━━━━━━━━━━━━\u001b[0m \u001b[32m92.0/92.0 kB\u001b[0m \u001b[31m1.7 MB/s\u001b[0m eta \u001b[36m0:00:00\u001b[0m\n",
            "\u001b[?25hCollecting uvicorn\n",
            "  Downloading uvicorn-0.25.0-py3-none-any.whl (60 kB)\n",
            "\u001b[2K     \u001b[90m━━━━━━━━━━━━━━━━━━━━━━━━━━━━━━━━━━━━━━━━\u001b[0m \u001b[32m60.3/60.3 kB\u001b[0m \u001b[31m1.0 MB/s\u001b[0m eta \u001b[36m0:00:00\u001b[0m\n",
            "\u001b[?25hRequirement already satisfied: pydantic!=1.8,!=1.8.1,!=2.0.0,!=2.0.1,!=2.1.0,<3.0.0,>=1.7.4 in /usr/local/lib/python3.10/dist-packages (from fastapi) (1.10.13)\n",
            "Collecting starlette<0.36.0,>=0.35.0 (from fastapi)\n",
            "  Downloading starlette-0.35.1-py3-none-any.whl (71 kB)\n",
            "\u001b[2K     \u001b[90m━━━━━━━━━━━━━━━━━━━━━━━━━━━━━━━━━━━━━━━━\u001b[0m \u001b[32m71.1/71.1 kB\u001b[0m \u001b[31m6.1 MB/s\u001b[0m eta \u001b[36m0:00:00\u001b[0m\n",
            "\u001b[?25hCollecting typing-extensions>=4.8.0 (from fastapi)\n",
            "  Downloading typing_extensions-4.9.0-py3-none-any.whl (32 kB)\n",
            "Requirement already satisfied: click>=7.0 in /usr/local/lib/python3.10/dist-packages (from uvicorn) (8.1.7)\n",
            "Collecting h11>=0.8 (from uvicorn)\n",
            "  Downloading h11-0.14.0-py3-none-any.whl (58 kB)\n",
            "\u001b[2K     \u001b[90m━━━━━━━━━━━━━━━━━━━━━━━━━━━━━━━━━━━━━━━━\u001b[0m \u001b[32m58.3/58.3 kB\u001b[0m \u001b[31m6.1 MB/s\u001b[0m eta \u001b[36m0:00:00\u001b[0m\n",
            "\u001b[?25hRequirement already satisfied: anyio<5,>=3.4.0 in /usr/local/lib/python3.10/dist-packages (from starlette<0.36.0,>=0.35.0->fastapi) (3.7.1)\n",
            "Requirement already satisfied: idna>=2.8 in /usr/local/lib/python3.10/dist-packages (from anyio<5,>=3.4.0->starlette<0.36.0,>=0.35.0->fastapi) (3.6)\n",
            "Requirement already satisfied: sniffio>=1.1 in /usr/local/lib/python3.10/dist-packages (from anyio<5,>=3.4.0->starlette<0.36.0,>=0.35.0->fastapi) (1.3.0)\n",
            "Requirement already satisfied: exceptiongroup in /usr/local/lib/python3.10/dist-packages (from anyio<5,>=3.4.0->starlette<0.36.0,>=0.35.0->fastapi) (1.2.0)\n",
            "Installing collected packages: typing-extensions, h11, uvicorn, starlette, fastapi\n",
            "  Attempting uninstall: typing-extensions\n",
            "    Found existing installation: typing_extensions 4.5.0\n",
            "    Uninstalling typing_extensions-4.5.0:\n",
            "      Successfully uninstalled typing_extensions-4.5.0\n",
            "\u001b[31mERROR: pip's dependency resolver does not currently take into account all the packages that are installed. This behaviour is the source of the following dependency conflicts.\n",
            "lida 0.0.10 requires kaleido, which is not installed.\n",
            "lida 0.0.10 requires python-multipart, which is not installed.\n",
            "tensorflow-probability 0.22.0 requires typing-extensions<4.6.0, but you have typing-extensions 4.9.0 which is incompatible.\u001b[0m\u001b[31m\n",
            "\u001b[0mSuccessfully installed fastapi-0.109.0 h11-0.14.0 starlette-0.35.1 typing-extensions-4.9.0 uvicorn-0.25.0\n"
          ]
        }
      ]
    },
    {
      "cell_type": "code",
      "source": [
        "pip install fastapi uvicorn python-multipart"
      ],
      "metadata": {
        "colab": {
          "base_uri": "https://localhost:8080/"
        },
        "id": "Fdem0IdJtYoo",
        "outputId": "32dd6ac5-68a5-4ccd-dcc3-a0269465b58d"
      },
      "execution_count": null,
      "outputs": [
        {
          "output_type": "stream",
          "name": "stdout",
          "text": [
            "Requirement already satisfied: fastapi in /usr/local/lib/python3.10/dist-packages (0.109.0)\n",
            "Requirement already satisfied: uvicorn in /usr/local/lib/python3.10/dist-packages (0.25.0)\n",
            "Collecting python-multipart\n",
            "  Downloading python_multipart-0.0.6-py3-none-any.whl (45 kB)\n",
            "\u001b[2K     \u001b[90m━━━━━━━━━━━━━━━━━━━━━━━━━━━━━━━━━━━━━━━━\u001b[0m \u001b[32m45.7/45.7 kB\u001b[0m \u001b[31m1.7 MB/s\u001b[0m eta \u001b[36m0:00:00\u001b[0m\n",
            "\u001b[?25hRequirement already satisfied: pydantic!=1.8,!=1.8.1,!=2.0.0,!=2.0.1,!=2.1.0,<3.0.0,>=1.7.4 in /usr/local/lib/python3.10/dist-packages (from fastapi) (1.10.13)\n",
            "Requirement already satisfied: starlette<0.36.0,>=0.35.0 in /usr/local/lib/python3.10/dist-packages (from fastapi) (0.35.1)\n",
            "Requirement already satisfied: typing-extensions>=4.8.0 in /usr/local/lib/python3.10/dist-packages (from fastapi) (4.9.0)\n",
            "Requirement already satisfied: click>=7.0 in /usr/local/lib/python3.10/dist-packages (from uvicorn) (8.1.7)\n",
            "Requirement already satisfied: h11>=0.8 in /usr/local/lib/python3.10/dist-packages (from uvicorn) (0.14.0)\n",
            "Requirement already satisfied: anyio<5,>=3.4.0 in /usr/local/lib/python3.10/dist-packages (from starlette<0.36.0,>=0.35.0->fastapi) (3.7.1)\n",
            "Requirement already satisfied: idna>=2.8 in /usr/local/lib/python3.10/dist-packages (from anyio<5,>=3.4.0->starlette<0.36.0,>=0.35.0->fastapi) (3.6)\n",
            "Requirement already satisfied: sniffio>=1.1 in /usr/local/lib/python3.10/dist-packages (from anyio<5,>=3.4.0->starlette<0.36.0,>=0.35.0->fastapi) (1.3.0)\n",
            "Requirement already satisfied: exceptiongroup in /usr/local/lib/python3.10/dist-packages (from anyio<5,>=3.4.0->starlette<0.36.0,>=0.35.0->fastapi) (1.2.0)\n",
            "Installing collected packages: python-multipart\n",
            "\u001b[31mERROR: pip's dependency resolver does not currently take into account all the packages that are installed. This behaviour is the source of the following dependency conflicts.\n",
            "lida 0.0.10 requires kaleido, which is not installed.\u001b[0m\u001b[31m\n",
            "\u001b[0mSuccessfully installed python-multipart-0.0.6\n"
          ]
        }
      ]
    },
    {
      "cell_type": "code",
      "source": [
        "#загружаем проект c yandex диска\n",
        "import requests\n",
        "from urllib.parse import urlencode\n",
        "import os\n",
        "\n",
        "base_url = 'https://cloud-api.yandex.net/v1/disk/public/resources/download?'\n",
        "public_key = 'https://disk.yandex.ru/d/2ZXKroBFe1TaMQ'\n",
        "\n",
        "# Получаем загрузочную ссылку\n",
        "final_url = base_url + urlencode(dict(public_key=public_key))\n",
        "response = requests.get(final_url)\n",
        "download_url = response.json()['href']\n",
        "\n",
        "# Загружаем файл и сохраняем его\n",
        "download_response = requests.get(download_url)\n",
        "with open('static.zip', 'wb') as f:\n",
        "    f.write(download_response.content)\n",
        "\n",
        "#разархивировать полученные данные\n",
        "import zipfile\n",
        "\n",
        "# Путь к вашему архиву .zip\n",
        "zip_path = '/content/static.zip'\n",
        "\n",
        "# Папка, в которую вы хотите извлечь файлы\n",
        "extracted_folder = '/content/'\n",
        "\n",
        "# Создайте папку для извлечения файлов (если она не существует)\n",
        "os.makedirs(extracted_folder, exist_ok=True)\n",
        "\n",
        "# Распаковка архива\n",
        "with zipfile.ZipFile(zip_path, 'r') as zip_ref:\n",
        "    zip_ref.extractall(extracted_folder)\n",
        "\n",
        "print(\"Архив успешно разархивирован.\")"
      ],
      "metadata": {
        "colab": {
          "base_uri": "https://localhost:8080/"
        },
        "id": "-m5YU7kZsi40",
        "outputId": "3687a24d-292a-4018-cb9a-87e1eff4b73c"
      },
      "execution_count": null,
      "outputs": [
        {
          "output_type": "stream",
          "name": "stdout",
          "text": [
            "Архив успешно разархивирован.\n"
          ]
        }
      ]
    },
    {
      "cell_type": "code",
      "source": [
        "#загружаем проект c yandex диска\n",
        "import requests\n",
        "from urllib.parse import urlencode\n",
        "import os\n",
        "\n",
        "base_url = 'https://cloud-api.yandex.net/v1/disk/public/resources/download?'\n",
        "public_key = 'https://disk.yandex.ru/d/4EIXHMf4GF0RIw'\n",
        "\n",
        "# Получаем загрузочную ссылку\n",
        "final_url = base_url + urlencode(dict(public_key=public_key))\n",
        "response = requests.get(final_url)\n",
        "download_url = response.json()['href']\n",
        "\n",
        "# Загружаем файл и сохраняем его\n",
        "download_response = requests.get(download_url)\n",
        "with open('templates.zip', 'wb') as f:\n",
        "    f.write(download_response.content)\n",
        "\n",
        "#разархивировать полученные данные\n",
        "import zipfile\n",
        "\n",
        "# Путь к вашему архиву .zip\n",
        "zip_path = '/content/templates.zip'\n",
        "\n",
        "# Папка, в которую вы хотите извлечь файлы\n",
        "extracted_folder = '/content/'\n",
        "\n",
        "# Создайте папку для извлечения файлов (если она не существует)\n",
        "os.makedirs(extracted_folder, exist_ok=True)\n",
        "\n",
        "# Распаковка архива\n",
        "with zipfile.ZipFile(zip_path, 'r') as zip_ref:\n",
        "    zip_ref.extractall(extracted_folder)\n",
        "\n",
        "print(\"Архив успешно разархивирован.\")"
      ],
      "metadata": {
        "colab": {
          "base_uri": "https://localhost:8080/"
        },
        "id": "E4f-csOcoV4z",
        "outputId": "2b03a042-f0d4-49e3-b955-ec54cfe20c9c"
      },
      "execution_count": null,
      "outputs": [
        {
          "output_type": "stream",
          "name": "stdout",
          "text": [
            "Архив успешно разархивирован.\n"
          ]
        }
      ]
    },
    {
      "cell_type": "code",
      "source": [
        "#загружаем веса yolov8 c yandex диска\n",
        "import requests\n",
        "from urllib.parse import urlencode\n",
        "import os\n",
        "\n",
        "base_url = 'https://cloud-api.yandex.net/v1/disk/public/resources/download?'\n",
        "public_key = 'https://disk.yandex.ru/d/gbmyhuOhfQSDXA'\n",
        "\n",
        "# Получаем загрузочную ссылку\n",
        "final_url = base_url + urlencode(dict(public_key=public_key))\n",
        "response = requests.get(final_url)\n",
        "download_url = response.json()['href']\n",
        "\n",
        "# Загружаем файл и сохраняем его\n",
        "download_response = requests.get(download_url)\n",
        "with open('weight.zip', 'wb') as f:\n",
        "    f.write(download_response.content)\n",
        "\n",
        "#разархивировать полученные данные\n",
        "import zipfile\n",
        "\n",
        "# Путь к вашему архиву .zip\n",
        "zip_path = '/content/weight.zip'\n",
        "\n",
        "# Папка, в которую вы хотите извлечь файлы\n",
        "extracted_folder = '/content/'\n",
        "\n",
        "# Создайте папку для извлечения файлов (если она не существует)\n",
        "os.makedirs(extracted_folder, exist_ok=True)\n",
        "\n",
        "# Распаковка архива\n",
        "with zipfile.ZipFile(zip_path, 'r') as zip_ref:\n",
        "    zip_ref.extractall(extracted_folder)"
      ],
      "metadata": {
        "id": "APj537e3nNN9"
      },
      "execution_count": null,
      "outputs": []
    },
    {
      "cell_type": "code",
      "source": [
        "script = '''\n",
        "\n",
        "from fastapi import FastAPI, Request, File, UploadFile  # Импорт необходимых классов и функций из FastAPI\n",
        "from fastapi.responses import HTMLResponse, StreamingResponse  # Импорт необходимых классов откликов (responses) из FastAPI\n",
        "from fastapi.staticfiles import StaticFiles  # Импорт класса для обслуживания статических файлов из FastAPI\n",
        "from fastapi.templating import Jinja2Templates  # Импорт класса шаблонов Jinja2 из FastAPI\n",
        "from fastapi.middleware.cors import CORSMiddleware  # Импорт класса промежуточного программного обеспечения (middleware) CORS из FastAPI\n",
        "from fastapi.responses import Response\n",
        "import asyncio  # Import asyncio module\n",
        "\n",
        "import os\n",
        "os.system('pip install ultralytics')\n",
        "os.system('pip install lapx')\n",
        "from ultralytics import YOLO\n",
        "from collections import defaultdict\n",
        "\n",
        "import cv2\n",
        "import matplotlib.pyplot as plt\n",
        "import datetime\n",
        "\n",
        "app = FastAPI()\n",
        "\n",
        "# Directory for uploaded files\n",
        "UPLOAD_DIRECTORY = \"/content/files\"\n",
        "if not os.path.exists(UPLOAD_DIRECTORY):\n",
        "    print(\"Creating upload directory...\")\n",
        "    os.makedirs(UPLOAD_DIRECTORY)\n",
        "\n",
        "# Глобальная переменная для хранения пути к последнему загруженному файлу\n",
        "last_uploaded_file = None\n",
        "\n",
        "app.mount(\"/static\", StaticFiles(directory=\"static\"), name=\"static\")\n",
        "templates = Jinja2Templates(directory=\"templates\")\n",
        "\n",
        "# Разрешаем запросы CORS от любого источника\n",
        "origins = [\"*\"]  # Для простоты можно разрешить доступ со всех источников\n",
        "app.add_middleware(\n",
        "    CORSMiddleware,\n",
        "    allow_origins=origins,\n",
        "    allow_credentials=True,\n",
        "    allow_methods=[\"*\"],\n",
        "    allow_headers=[\"*\"],\n",
        ")\n",
        "\n",
        "\n",
        "my_map = {}\n",
        "def defineHurdHut(image, box, save_dir, id_person):\n",
        "    int_list = [int(x) for x in box]\n",
        "    (x_min, y_min, x_max, y_max) = int_list\n",
        "    #print(x_min, y_min, x_max, y_max)\n",
        "    # Вырезаем кусок изображения по bounding box\n",
        "    cropped_image = image[y_min:y_max, x_min:x_max]\n",
        "\n",
        "    # Подаем вырезанный кусок на обработку (например, детекция объектов, классификация и т.д.)\n",
        "    # В данном случае просто выводим размеры вырезанного куска\n",
        "    #print(\"Размеры вырезанного куска:\", cropped_image.shape)\n",
        "    # Сохраняем вырезанное изображение в файл\n",
        "    if cropped_image is not None and cropped_image.size != 0:\n",
        "      cv2.imwrite('/content/cropped_image.jpg', cropped_image)\n",
        "    else:\n",
        "        print(\"Cropped image is empty.\")\n",
        "        return\n",
        "    # Отображение изображения и вырезанного куска (для визуализации)\n",
        "    # Рисуем bounding box\n",
        "    cv2.rectangle(image, (x_min, y_min), (x_max, y_max), (0, 255, 0), 2)\n",
        "\n",
        "    # Отображаем оригинальное изображение\n",
        "    plt.clf()\n",
        "    plt.imshow(cv2.cvtColor(image, cv2.COLOR_BGR2RGB))\n",
        "    plt.title(\"Original Image\")\n",
        "    plt.axis(\"off\")\n",
        "    plt.show()\n",
        "\n",
        "    # Берем новую модель\n",
        "    model = YOLO('weight/best.pt')\n",
        "    # Обнаруживаем только класс без каски в режиме генератора (stream)\n",
        "    result = model.predict(cropped_image, stream=True, classes=1, device='cpu')\n",
        "    for i, r in enumerate(result):\n",
        "      # При детекции головы без каски\n",
        "      if (len(r.boxes) > 0):\n",
        "        if id_person not in my_map:\n",
        "            my_map[id_person] = 1\n",
        "            current_time = datetime.datetime.utcnow()\n",
        "            formatted_time = current_time.strftime(\"%d%m%Y_%H%M%S\")  # Форматирует время как 'ДДММГГГГ_ЧЧММСС'\n",
        "            file_name = save_dir+'/person_'+formatted_time+'.jpg'\n",
        "            cv2.imwrite(file_name, cropped_image)\n",
        "            # Получаем изображение, вырезаем bb\n",
        "            #boxes = r.boxes.xyxy\n",
        "            #numbers_list = boxes.tolist()\n",
        "            #for box_d in numbers_list:\n",
        "              #int_list_d = [int(x) for x in box_d]\n",
        "              #(x_min_d, y_min_d, x_max_d, y_max_d) = int_list_d\n",
        "              # Рисуем bounding box\n",
        "              #cv2.rectangle(cropped_image, (x_min_d, y_min_d), (x_max_d, y_max_d), (0, 255, 0), 2)\n",
        "\n",
        "    #plt.imshow(cv2.cvtColor(cropped_image, cv2.COLOR_BGR2RGB))\n",
        "    #plt.title(\"Cropped Image\")\n",
        "    #plt.axis(\"off\")\n",
        "    #plt.show()\n",
        "    # Вывод результата\n",
        "    #print(\"Стандартный вывод:\")\n",
        "    #print(result.stdout)\n",
        "\n",
        "    # Вывод ошибок\n",
        "    #print(\"Стандартная ошибка:\")\n",
        "    #print(result.stderr)\n",
        "\n",
        "#функция  распознавания человека без каски на видео\n",
        "#video_file - текущий видеофайл\n",
        "#save_dir - Куда будем сохранять изображения\n",
        "#file_yolo - веса для yolo8\n",
        "def mainProgram(video_file_path, save_dir, file_yolo):\n",
        "    # Если нет каталога, создадим его\n",
        "    if not os.path.exists(save_dir):\n",
        "        os.makedirs(save_dir)\n",
        "    # Берем стандартную модель\n",
        "    model = YOLO(file_yolo)\n",
        "\n",
        "    # Open the video file\n",
        "    cap = cv2.VideoCapture(video_file_path)\n",
        "\n",
        "    # Получение размеров кадра и частоты кадров из исходного видео\n",
        "    frame_width = int(cap.get(cv2.CAP_PROP_FRAME_WIDTH))\n",
        "    frame_height = int(cap.get(cv2.CAP_PROP_FRAME_HEIGHT))\n",
        "    fps = cap.get(cv2.CAP_PROP_FPS)\n",
        "\n",
        "    # Создание объекта VideoWriter\n",
        "    fourcc = cv2.VideoWriter_fourcc(*'XVID')\n",
        "    out = cv2.VideoWriter('output_video.avi', fourcc, fps, (frame_width, frame_height))\n",
        "\n",
        "    # Loop through the video frames\n",
        "    while cap.isOpened():\n",
        "        # Read a frame from the video\n",
        "        success, frame = cap.read()\n",
        "\n",
        "        if success:\n",
        "            # Run YOLOv8 tracking on the frame, persisting tracks between frames\n",
        "            results = model.track(frame, persist=True)\n",
        "\n",
        "            # Get the boxes and track IDs\n",
        "            boxes = results[0].boxes.xywh.cpu()\n",
        "            track_ids = results[0].boxes.id.int().cpu().tolist()\n",
        "\n",
        "            # Visualize the results on the frame\n",
        "            annotated_frame = results[0].plot()\n",
        "\n",
        "            # Plot the tracks\n",
        "            n = 0\n",
        "            for box, track_id in zip(boxes, track_ids):\n",
        "                n=n+1\n",
        "                x, y, w, h = box\n",
        "                x1 = int(x-w/2)\n",
        "                x2 = int(x + w/2)\n",
        "                y1 = int(y - h/2)\n",
        "                y2 = int(y + h/2)\n",
        "\n",
        "                # Отображение результатов трекинга\n",
        "                cv2.rectangle(frame, (x1, y1), (x2, y2), (0, 255, 0), 2)\n",
        "                cv2.putText(frame, f\"ID: {track_id}\", (x1, y1 - 10), cv2.FONT_HERSHEY_SIMPLEX, 0.5, (0, 255, 0), 2)\n",
        "                # вырезаем каждый bb и далее отправляем к следующей нейросети\n",
        "                box_yolo = [x1, y1, x2, y2]\n",
        "                defineHurdHut(frame, box_yolo, save_dir, track_id)\n",
        "\n",
        "           #если в кадре не оказалось людей, то можно обнулять список id трекера\n",
        "            if (n==0):\n",
        "                my_map.clear()\n",
        "\n",
        "              # Break the loop if 'q' is pressed\n",
        "            if cv2.waitKey(1) & 0xFF == ord(\"q\"):\n",
        "                break\n",
        "        else:\n",
        "            # Break the loop if the end of the video is reached\n",
        "            break\n",
        "        # Запись обработанного кадра в файл\n",
        "        out.write(frame)\n",
        "\n",
        "    # Release the video capture object and close the display window\n",
        "    cap.release()\n",
        "    cv2.destroyAllWindows()\n",
        "\n",
        "last_uploaded_file = \"/content/files/file369_267.avi\"\n",
        "\n",
        "\n",
        "@app.get(\"/\")\n",
        "@app.get(\"/index.html\", response_class=HTMLResponse)\n",
        "async def home(request: Request):\n",
        "    return templates.TemplateResponse(\"index.html\", {\"request\": request})\n",
        "\n",
        "@app.get(\"/favicon.ico\")\n",
        "async def favicon():\n",
        "    return Response(content=\"\", status_code=204)\n",
        "\n",
        "@app.post(\"/upload-file/\")\n",
        "async def upload_file(file: UploadFile = File(...)):\n",
        "    print(\"begin save file\")\n",
        "    file_location = os.path.join(UPLOAD_DIRECTORY, file.filename)\n",
        "    with open(file_location, \"wb+\") as file_object:\n",
        "        file_object.write(file.file.read())\n",
        "    last_uploaded_file = file_location\n",
        "    print(f\"File {file.filename} saved at {file_location}\")\n",
        "    #return {\"info\": f\"File '{file.filename}' saved at '{file_location}'\"}\n",
        "\n",
        "@app.post(\"/start-detection/\")\n",
        "async def start_detection():\n",
        "    try:\n",
        "        if last_uploaded_file is None:\n",
        "            raise BaseException()\n",
        "\n",
        "        print(f\"Starting detection on {last_uploaded_file}...\")\n",
        "\n",
        "        video_file_path = last_uploaded_file\n",
        "        save_dir = \"exam\"\n",
        "        file_yolo = \"/content/weight/yolov8n.pt\"\n",
        "\n",
        "        # запускаем обработку видео\n",
        "        mainProgram(video_file_path, save_dir, file_yolo)\n",
        "\n",
        "        return {\"message\": \"Обработка видео начата\"}\n",
        "    except Exception as e:\n",
        "        print(f\"Error during detection: {str(e)}\")\n",
        "        raise BaseException()\n",
        "\n",
        "\n",
        "@app.get(\"/get-exam-files-list\")\n",
        "async def get_exam_files_list():\n",
        "    exam_dir = \"exam\"\n",
        "    files = [file for file in os.listdir(exam_dir) if os.path.isfile(os.path.join(exam_dir, file))]\n",
        "    print(files)\n",
        "    return {\"files\": files}\n",
        "\n",
        "'''\n",
        "\n",
        "with open('main.py', 'w') as f:\n",
        "  f.write(script)"
      ],
      "metadata": {
        "id": "A_psNgwrs4sb"
      },
      "execution_count": null,
      "outputs": []
    },
    {
      "cell_type": "code",
      "source": [
        "script = '''\n",
        "<!DOCTYPE html>\n",
        "<html>\n",
        "<head>\n",
        "    <link rel=\"stylesheet\" href=\"static/css/index.css\" >\n",
        "    <title>File Viewer App</title>\n",
        "</head>\n",
        "<body>\n",
        "    <h1>Нахождение нарушителей без каски</h1>\n",
        "    <form action=\"/upload-file/\" method=\"post\" enctype=\"multipart/form-data\" id=\"upload-form\">\n",
        "        <!-- Кастомная кнопка для загрузки файла -->\n",
        "        <div class=\"file-upload-wrapper\">\n",
        "            <label class=\"custom-file-upload\">\n",
        "                <input type=\"file\" name=\"file\" class=\"file-upload-input\">\n",
        "                Загрузить файл\n",
        "            </label>\n",
        "        </div>\n",
        "        <br>\n",
        "        <br>\n",
        "        <div id=\"menu\" class=\"file-upload-wrapper\">\n",
        "            <!-- Additional menu options here -->\n",
        "            <button class=\"custom-file-upload\" onclick=\"beginDetection()\">\n",
        "                Начать детекцию\n",
        "            </button>\n",
        "        </div>\n",
        "    </form>\n",
        "\n",
        "    <div class=\"iframe-container\">\n",
        "        <iframe id=\"file-viewer\" style=\"width:80%; height:80vh;\"></iframe>\n",
        "        <iframe id=\"file-viewer_error\" style=\"width:20%; height:80vh;\">\n",
        "            <div id=\"file-list\">\n",
        "              <!-- Здесь будут отображаться созданные файлы -->\n",
        "            </div>\n",
        "        </iframe>\n",
        "    </div>\n",
        "\n",
        "    <script src=\"https://code.jquery.com/jquery-3.6.0.min.js\"></script>\n",
        "    <script src=\"static/js/index.js\"></script>\n",
        "</body>\n",
        "</html>\n",
        "'''\n",
        "\n",
        "with open('templates/index.html', 'w') as f:\n",
        "  f.write(script)"
      ],
      "metadata": {
        "id": "rEi7A41ct6s1"
      },
      "execution_count": null,
      "outputs": []
    },
    {
      "cell_type": "code",
      "source": [
        "script = '''\n",
        "    function beginDetection() {\n",
        "      fetch('/start-detection/', { method: 'POST' })\n",
        "      .then(response => response.json())\n",
        "      .then(data => {\n",
        "          console.log(data.message);\n",
        "          // Обновление интерфейса пользователя, если необходимо\n",
        "      })\n",
        "      .catch(error => {\n",
        "          console.error('Ошибка при запуске детекции:', error);\n",
        "      });\n",
        "    }\n",
        "\n",
        "    function updateFileList() {\n",
        "        $.ajax({\n",
        "            url: \"/get-exam-files-list\",  // URL-эндпоинт FastAPI для получения списка файлов\n",
        "            type: \"GET\",\n",
        "            dataType: \"json\",\n",
        "            success: function(data) {\n",
        "                var fileList = $(\"#file-list\");\n",
        "                fileList.empty();  // Очищаем список перед обновлением\n",
        "\n",
        "                // Добавляем каждый файл в список\n",
        "                data.files.forEach(function(fileName) {\n",
        "                    var fileLink = $(\"<a>\").attr(\"href\", \"/exam-files/\" + fileName).text(fileName);\n",
        "                    var listItem = $(\"<li>\").append(fileLink);\n",
        "                    fileList.append(listItem);\n",
        "                });\n",
        "            },\n",
        "            error: function() {\n",
        "                console.error(\"Failed to fetch file list\");\n",
        "            }\n",
        "        });\n",
        "    }\n",
        "\n",
        "    // Вызываем функцию обновления списка файлов при загрузке страницы\n",
        "    $(document).ready(function() {\n",
        "        updateFileList();\n",
        "    });\n",
        "\n",
        "'''\n",
        "\n",
        "with open('static/js/index.js', 'w') as f:\n",
        "  f.write(script)"
      ],
      "metadata": {
        "id": "eNK8U5WTUuwc"
      },
      "execution_count": null,
      "outputs": []
    },
    {
      "cell_type": "code",
      "source": [
        "script = '''\n",
        "\n",
        "        /* Стили для скрытия стандартной кнопки выбора файла */\n",
        "        .custom-file-upload {\n",
        "            border: 1px solid #ccc;\n",
        "            display: inline-block;\n",
        "            padding: 6px 12px;\n",
        "            cursor: pointer;\n",
        "            color: rgb(255, 254, 254);\n",
        "            background-color: rgb(0, 0, 0);\n",
        "        }\n",
        "        .file-upload-wrapper {\n",
        "            position: relative;\n",
        "            overflow: hidden;\n",
        "            display: inline-block;\n",
        "        }\n",
        "        .file-upload-input {\n",
        "            position: absolute;\n",
        "            left: 0;\n",
        "            top: 0;\n",
        "            opacity: 0;\n",
        "            cursor: pointer;\n",
        "        }\n",
        "\n",
        "        button{\n",
        "            color: rgb(255, 254, 254);\n",
        "            background-color: rgb(0, 0, 0);\n",
        "        }\n",
        "\n",
        "        button:hover {\n",
        "            box-shadow: 10px 4px 8px 10px rgba(131, 93, 93, 0.2); /* Тень при наведении */\n",
        "        }\n",
        "\n",
        "        input:hover{\n",
        "            box-shadow: 10px 4px 8px 10px rgba(131, 93, 93, 0.2); /* Тень при наведении */\n",
        "        }\n",
        "\n",
        "        h1{\n",
        "          color: rgb(0, 0, 0);\n",
        "          text-decoration: solid;\n",
        "          font-style: italic; /* Делает текст наклонным */;\n",
        "        }\n",
        "\n",
        "        body {\n",
        "            background-image: url('../../static/images/fon.jpg'); /* Путь к изображению */\n",
        "            background-size: cover; /* Растягивает изображение, чтобы оно покрывало весь экран */\n",
        "            background-repeat: no-repeat; /* Предотвращает повторение изображения */\n",
        "            background-attachment: fixed; /* Фиксирует изображение на фоне */\n",
        "        }\n",
        "\n",
        "                /* Стили для контейнера фреймов */\n",
        "        .iframe-container {\n",
        "            display: flex; /* Активирует Flexbox для контейнера */\n",
        "        }\n",
        "\n",
        "        iframe {\n",
        "            border: black solid 2px; /* Опционально, убирает рамку у iframe */\n",
        "        }\n",
        "\n",
        "'''\n",
        "\n",
        "with open('static/css/index.css', 'w') as f:\n",
        "  f.write(script)"
      ],
      "metadata": {
        "id": "IE0ORjr1S8Vh"
      },
      "execution_count": null,
      "outputs": []
    },
    {
      "cell_type": "code",
      "source": [
        "!nohup uvicorn main:app --host 0.0.0.0 --port 8000  --reload &"
      ],
      "metadata": {
        "colab": {
          "base_uri": "https://localhost:8080/"
        },
        "id": "d14TSixwxQLd",
        "outputId": "d5bd69ef-dc4e-41f8-b8d3-5499af412852"
      },
      "execution_count": null,
      "outputs": [
        {
          "output_type": "stream",
          "name": "stdout",
          "text": [
            "nohup: appending output to 'nohup.out'\n"
          ]
        }
      ]
    },
    {
      "cell_type": "code",
      "source": [
        "!pip install ngrok\n",
        "!pip install pyngrok"
      ],
      "metadata": {
        "colab": {
          "base_uri": "https://localhost:8080/"
        },
        "id": "4Si6QchjtuRh",
        "outputId": "26e9c548-abe7-4c08-b033-2ecc7b8539b5"
      },
      "execution_count": null,
      "outputs": [
        {
          "output_type": "stream",
          "name": "stdout",
          "text": [
            "Collecting ngrok\n",
            "  Downloading ngrok-0.12.1-cp37-abi3-manylinux_2_17_x86_64.manylinux2014_x86_64.whl (2.9 MB)\n",
            "\u001b[2K     \u001b[90m━━━━━━━━━━━━━━━━━━━━━━━━━━━━━━━━━━━━━━━━\u001b[0m \u001b[32m2.9/2.9 MB\u001b[0m \u001b[31m11.5 MB/s\u001b[0m eta \u001b[36m0:00:00\u001b[0m\n",
            "\u001b[?25hInstalling collected packages: ngrok\n",
            "Successfully installed ngrok-0.12.1\n",
            "Collecting pyngrok\n",
            "  Downloading pyngrok-7.0.5-py3-none-any.whl (21 kB)\n",
            "Requirement already satisfied: PyYAML in /usr/local/lib/python3.10/dist-packages (from pyngrok) (6.0.1)\n",
            "Installing collected packages: pyngrok\n",
            "Successfully installed pyngrok-7.0.5\n"
          ]
        }
      ]
    },
    {
      "cell_type": "code",
      "source": [
        "from pyngrok import ngrok\n",
        "ngrok.set_auth_token('2aw27afo091MvIezOlTRXYCrpco_2B71XzM56YsE41ZB6QRr9')\n",
        "ngrok.kill()\n",
        "connection = ngrok.connect(8000)\n",
        "print(f\"Public URL: {connection.public_url}\")"
      ],
      "metadata": {
        "colab": {
          "base_uri": "https://localhost:8080/"
        },
        "id": "H82JL70Utzcx",
        "outputId": "21b37dfe-675a-4078-b73b-aee8ed0831f2"
      },
      "execution_count": null,
      "outputs": [
        {
          "output_type": "stream",
          "name": "stdout",
          "text": [
            "Public URL: https://8813-34-125-171-19.ngrok-free.app\n"
          ]
        }
      ]
    },
    {
      "cell_type": "code",
      "source": [
        "active_tunnels = ngrok.get_tunnels()\n",
        "print(active_tunnels)"
      ],
      "metadata": {
        "colab": {
          "base_uri": "https://localhost:8080/"
        },
        "id": "T2CZOvtV8tcT",
        "outputId": "13aaab89-f355-4149-ebf7-11690f734561"
      },
      "execution_count": null,
      "outputs": [
        {
          "output_type": "stream",
          "name": "stdout",
          "text": [
            "[<NgrokTunnel: \"https://a49f-34-106-95-32.ngrok-free.app\" -> \"http://localhost:8000\">]\n"
          ]
        }
      ]
    },
    {
      "cell_type": "code",
      "source": [
        "!pkill uvicorn"
      ],
      "metadata": {
        "id": "lWXStUvEuL-e"
      },
      "execution_count": null,
      "outputs": []
    },
    {
      "cell_type": "code",
      "source": [
        "!kill -9 $(lsof -t -i:8000)"
      ],
      "metadata": {
        "id": "g38Yqa7ivutn"
      },
      "execution_count": null,
      "outputs": []
    }
  ],
  "metadata": {
    "colab": {
      "provenance": []
    },
    "kernelspec": {
      "display_name": "Python 3",
      "name": "python3"
    },
    "language_info": {
      "name": "python"
    },
    "accelerator": "GPU",
    "gpuClass": "standard"
  },
  "nbformat": 4,
  "nbformat_minor": 0
}