{
  "nbformat": 4,
  "nbformat_minor": 0,
  "metadata": {
    "colab": {
      "provenance": [],
      "gpuType": "T4"
    },
    "kernelspec": {
      "name": "python3",
      "display_name": "Python 3"
    },
    "language_info": {
      "name": "python"
    },
    "accelerator": "GPU"
  },
  "cells": [
    {
      "cell_type": "code",
      "source": [
        "import cv2\n",
        "import os"
      ],
      "metadata": {
        "id": "JR2BK6uUXeiR"
      },
      "execution_count": null,
      "outputs": []
    },
    {
      "cell_type": "code",
      "source": [
        "from moviepy.video.io.VideoFileClip import VideoFileClip"
      ],
      "metadata": {
        "id": "JXcx9gdLqRJI"
      },
      "execution_count": null,
      "outputs": []
    },
    {
      "cell_type": "code",
      "source": [
        "#разбиение видео-файла на несколько видео-файлов\n",
        "def split_video(input_file, output_prefix, chunk_duration):\n",
        "    clip = VideoFileClip(input_file)\n",
        "\n",
        "    # Получаем длительность видео в секундах\n",
        "    total_duration = clip.duration\n",
        "\n",
        "    # Разбиваем видео на фрагменты указанной длительности\n",
        "    chunks = int(total_duration / chunk_duration)\n",
        "\n",
        "    for i in range(chunks):\n",
        "        start_time = i * chunk_duration\n",
        "        end_time = (i + 1) * chunk_duration if (i + 1) * chunk_duration < total_duration else total_duration\n",
        "\n",
        "        # Вырезаем фрагмент\n",
        "        video_chunk = clip.subclip(start_time, end_time)\n",
        "\n",
        "        # Сохраняем фрагмент в файл\n",
        "        output_file = f\"{output_prefix}_chunk{i + 1}.avi\"\n",
        "        video_chunk.write_videofile(output_file, codec=\"libx264\")\n",
        "\n",
        "        print(f\"Фрагмент {i + 1} сохранен в файл {output_file}\")"
      ],
      "metadata": {
        "id": "6sxXJdiLqGqI"
      },
      "execution_count": null,
      "outputs": []
    },
    {
      "cell_type": "code",
      "source": [
        "input_video = \"1.avi\"\n",
        "output_prefix = \"output\"\n",
        "chunk_duration = 60  # длительность каждого фрагмента в секундах\n",
        "\n",
        "split_video(input_video, output_prefix, chunk_duration)"
      ],
      "metadata": {
        "id": "PcpUnn-WqLZa"
      },
      "execution_count": null,
      "outputs": []
    },
    {
      "cell_type": "code",
      "source": [
        "#разбивка видео-файла на фрагменты\n",
        "def makeFrameFromImages(file_name, output_folder, frame_skip=1):\n",
        "  # Откройте видеофайл\n",
        "  video_capture = cv2.VideoCapture(file_name)\n",
        "\n",
        "  # Создайте папку для сохранения кадров\n",
        "  if not os.path.exists(output_folder):\n",
        "      os.makedirs(output_folder)\n",
        "\n",
        "  # Убедитесь, что видео файл успешно открыт\n",
        "  if not video_capture.isOpened():\n",
        "      print(\"Ошибка при открытии видеофайла\")\n",
        "      return\n",
        "\n",
        "  frame_count = 0\n",
        "\n",
        "  while True:\n",
        "      # Считайте следующий кадр из видео\n",
        "      ret, frame = video_capture.read()\n",
        "      if not ret:\n",
        "          break\n",
        "\n",
        "      frame_count += 1\n",
        "\n",
        "      # Пропустить кадры до тех пор, пока не достигнем частоты сохранения\n",
        "      if frame_count % frame_skip != 0:\n",
        "          continue\n",
        "\n",
        "      # Сохраните кадр в файл\n",
        "      frame_filename = f'cadr_{frame_count}.bmp'  # Вы можете выбрать формат и путь к файлам по вашему усмотрению\n",
        "      cv2.imwrite(frame_filename, frame)\n",
        "\n",
        "      # Отобразите текущий кадр (это необязательно)\n",
        "      # cv2.imshow('Video Frame', frame)\n",
        "\n",
        "      # Прервите цикл, если нажата клавиша 'q'\n",
        "      if cv2.waitKey(1) & 0xFF == ord('q'):\n",
        "          break\n",
        "\n",
        "  # Закройте окна и освободите ресурсы\n",
        "  video_capture.release()\n",
        "  cv2.destroyAllWindows()"
      ],
      "metadata": {
        "id": "aoMa6vRxV_q9"
      },
      "execution_count": null,
      "outputs": []
    },
    {
      "cell_type": "code",
      "source": [
        "file_name = \"1.avi\"\n",
        "path_out = \"2\"\n",
        "makeFrameFromImages(file_name, path_out, frame_skip=100)\n"
      ],
      "metadata": {
        "id": "BM821jFrXoGV"
      },
      "execution_count": null,
      "outputs": []
    }
  ]
}