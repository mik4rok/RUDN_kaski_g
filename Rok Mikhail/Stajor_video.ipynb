import cv2
import difflib
import numpy as np  # Работа с массивами
import os # Инструменты для работы с файлами
import shutil # Инструменты для работы с файлами
import gdown  # Подключение модуля для загрузки данных из облака
import matplotlib.pyplot as plt # Отрисовка графиков
from PIL import Image # Отрисовка изображений
from google.colab import files # Для сохранения файлов на Google диск

#Функция вычисления хэша
def CalcImageHash(FileName):
    image = cv2.imread(FileName) #Прочитаем картинку
    resized = cv2.resize(image, (64,64), interpolation = cv2.INTER_AREA) #Уменьшим картинку
    gray_image = cv2.cvtColor(resized, cv2.COLOR_BGR2GRAY) #Переведем в черно-белый формат
    avg=gray_image.mean() #Среднее значение пикселя
    ret, threshold_image = cv2.threshold(gray_image, avg, 255, 0) #Бинаризация по порогу

    #Рассчитаем хэш
    _hash=""
    for x in range(64):
        for y in range(64):
            val=threshold_image[x,y]
            if val==255:
                _hash=_hash+"1"
            else:
                _hash=_hash+"0"

    return _hash

def CompareHash(hash1,hash2):
    l=len(hash1)
    i=0
    count=0
    while i<l:
        if hash1[i]!=hash2[i]:
            count=count+1
        i=i+1
    return count
# Задание гиперпараметров
DATA_PATH = '/content/drive/My Drive/stajirovka/' # Папка где лежит видео
OUT_PATH = '/content/drive/My Drive/stajirovka/OUT/'  # Папка для выходных изображений
MIN_DIFF = 30               # Чувствительность датчика движения

# Подключение модуля работы с диском
from google.colab import drive

# Авторизация необходима
drive.mount('/content/drive')

# Make the dir specified path

out_path = f'{OUT_PATH}/'
if not os.path.exists(out_path):
  os.makedirs(out_path)

# https://www.geeksforgeeks.org/extract-images-from-video-in-python/
# Read the video from specified path

video_path = f'{DATA_PATH}'    # Формирование пути к папке

for root, dirs, files in os.walk(video_path):
    for file in files:
        if file.endswith('.avi'):
            video_name = os.path.join(root, file)

cam = cv2.VideoCapture(video_name)

try:

    # creating a folder named data
    if not os.path.exists(OUT_PATH):
        os.makedirs(OUT_PATH)

# if not created then raise error
except OSError:
    print ('Error: Creating directory of data')

# frame
currentframe = 0
i = 0
etalon_frame_name = DATA_PATH + '/OUT/etalon.jpg'
ret,frame = cam.read()
cv2.imwrite(etalon_frame_name, frame)
hash0=CalcImageHash(etalon_frame_name)
frame_step = int(cam.get(cv2.CAP_PROP_FPS))
print(frame_step)
print(etalon_frame_name, hash0)

while(True):

    # reading from frame
    ret,frame = cam.read()

    if ret:
        # if video is still left continue creating images
        frame_name = DATA_PATH + str(currentframe) + '.jpg'
        print ('Creating...' + frame_name)

        # writing the extracted images
        cv2.imwrite(frame_name, frame)
        hash1=CalcImageHash(frame_name)
        checker = CompareHash(hash0, hash1)
        print(checker)
        if checker > MIN_DIFF:
          img_out  = OUT_PATH + str(i) + '.jpg'
          shutil.copyfile(frame_name,img_out)
          shutil.copyfile(frame_name,etalon_frame_name)
          hash0 = hash1
          if os.path.exists(frame_name):
            os.remove(frame_name)
          i += 1
        else:
          os.remove(frame_name)

        # increasing counter so that it will
        # show how many frames are created
        currentframe += frame_step
        cam.set(cv2.CAP_PROP_POS_FRAMES, currentframe)
    else:
        break

# Release all space and windows once done
cam.release()
cv2.destroyAllWindows()

dir_name = DATA_PATH + '/OUT'
shutil.make_archive(dir_name, 'zip', dir_name)
